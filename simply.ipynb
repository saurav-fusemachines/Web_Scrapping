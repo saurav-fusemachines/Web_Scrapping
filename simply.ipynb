{
 "cells": [
  {
   "cell_type": "code",
   "execution_count": 18,
   "metadata": {},
   "outputs": [],
   "source": [
    "from bs4 import BeautifulSoup\n",
    "import requests\n",
    "import pandas as pd\n",
    "import math"
   ]
  },
  {
   "cell_type": "code",
   "execution_count": 19,
   "metadata": {},
   "outputs": [],
   "source": [
    "def scrape_page(url):\n",
    "    # response = requests.get(url, params={\"cursor\": cursor})\n",
    "    response = requests.get(url)\n",
    "    soup = BeautifulSoup(response.content, \"html.parser\")\n",
    "    return soup"
   ]
  },
  {
   "cell_type": "code",
   "execution_count": 20,
   "metadata": {},
   "outputs": [],
   "source": [
    "def get_cursor(soup, next_page_num):\n",
    "    cursor = soup.find('a', {'class':'chakra-link css-1wxsdwr', 'aria-label': f'page {next_page_num}'})\n",
    "    if cursor:\n",
    "        return cursor.get('href')\n",
    "    else:\n",
    "        return None"
   ]
  },
  {
   "cell_type": "code",
   "execution_count": 21,
   "metadata": {},
   "outputs": [],
   "source": [
    "def get_job_links(url, list_elems):\n",
    "    job_links = []\n",
    "    for item in list_elems:\n",
    "        job_key = item.div.get('data-jobkey')\n",
    "        job_link = f'{url}&job={job_key}'\n",
    "        job_links.append(job_link)\n",
    "    return job_links\n"
   ]
  },
  {
   "cell_type": "code",
   "execution_count": 22,
   "metadata": {},
   "outputs": [],
   "source": [
    "def scrape_one_page(url, soup):\n",
    "    ul = soup.find_all('ul', id = 'job-list')\n",
    "    li = ul[0].find_all('li', {'class':'css-0'})\n",
    "    job_links = get_job_links(url, li)\n",
    "    data_list = []\n",
    "    for job_link in job_links:\n",
    "        print(job_link)\n",
    "        job = scrape_page(job_link)\n",
    "        job_title = job.h2.text.strip()\n",
    "        company = job.find('span', {'data-testid': 'viewJobCompanyName'}).text if job.find('span', {'data-testid': 'viewJobCompanyName'}) else \"\"\n",
    "        location = job.find('span', {'data-testid': 'viewJobCompanyLocation'}).text if job.find('span', {'data-testid': 'viewJobCompanyLocation'}) else \"\"\n",
    "        job_type = job.find('span', {'data-testid': 'viewJobBodyJobDetailsJobType'}).text if job.find('span', {'data-testid': 'viewJobBodyJobDetailsJobType'}) else \"\"\n",
    "        salary = job.find('span', {'data-testid': 'viewJobBodyJobCompensation'}).text if job.find('span', {'data-testid': 'viewJobBodyJobCompensation'}) else \"\"\n",
    "        posted_on = job.find('span', {'data-testid': 'viewJobBodyJobPostingTimestamp'}).text if job.find('span', {'data-testid': 'viewJobBodyJobPostingTimestamp'}) else \"\"\n",
    "        job_qualification = job.find('div', {'data-testid': 'viewJobQualificationsContainer'})\\\n",
    "                                .find('ul')\n",
    "        if job_qualification:\n",
    "            job_qualification = list(job.find('div', {'data-testid': 'viewJobQualificationsContainer'})\\\n",
    "                                    .find('ul').strings)\n",
    "            job_qualification = [x.strip() for x in job_qualification]\n",
    "            job_qualification = \"\\n\".join(job_qualification)\n",
    "        else:\n",
    "            job_qualification = \"\"\n",
    "\n",
    "        job_description = job.find('div', {'data-testid':'viewJobBodyJobFullDescriptionContent'})\n",
    "        if job_description:\n",
    "            job_description = list(job.find('div', {'data-testid':'viewJobBodyJobFullDescriptionContent'}).strings)\n",
    "            job_description = [x.strip() for x in job_description]\n",
    "            job_description = \"\\n\".join(job_description)\n",
    "        else:\n",
    "            job_description = \"\"\n",
    "        data = {\n",
    "                'job_title':job_title,\n",
    "                'company':company,\n",
    "                'location': location, \n",
    "                'job_type': job_type, \n",
    "                'salary':salary, \n",
    "                'posted_on':posted_on, \n",
    "                'job_qualification':job_qualification, \n",
    "                'job_description': job_description\n",
    "                }\n",
    "        data_list.append(data)\n",
    "        # break\n",
    "    return data_list\n",
    "        "
   ]
  },
  {
   "cell_type": "code",
   "execution_count": 24,
   "metadata": {},
   "outputs": [
    {
     "name": "stdout",
     "output_type": "stream",
     "text": [
      "Here Jira\n",
      "SFTP\n",
      "Computer Science\n",
      "Alteryx\n",
      "AWS\n",
      "Bachelor's degree\n",
      "Terraform\n",
      "Computer Information Systems\n",
      "S3\n",
      "Redshift\n",
      "DynamoDB\n",
      "Jenkins\n",
      "Python\n",
      "MySQL\n"
     ]
    }
   ],
   "source": [
    "job = scrape_page('https://www.simplyhired.com/search?q=Data+Engineer&l=texas&cursor=AAsAAwAhAAAAAAAAAAAAAAACCRy%2B%2BQECAQYQBgb%2FwPwDEb8bt6M7md5zCuPpuHutpd9TqtvNULnns4VOaMsY9BbfxiZtadJD3rA1JRnbckZ3vZMjS6z6fA%3D%3D&job=ThYj28cCvjeaNFzLrRz-kCYzKA3eW110q-c4D8XJIwxIDQqX61IXvg')\n",
    "\n",
    "job_qualification = job.find('div', {'data-testid': 'viewJobQualificationsContainer'})\n",
    "if job_qualification:\n",
    "    job_qualification = list(job.find('div', {'data-testid': 'viewJobQualificationsContainer'})\\\n",
    "                            .find('ul').strings)\n",
    "    job_qualification = [x.strip() for x in job_qualification]\n",
    "    job_qualification = \"\\n\".join(job_qualification)\n",
    "else:\n",
    "    job_qualification = \"\"\n",
    "\n",
    "print(\"Here\", job_qualification)"
   ]
  },
  {
   "cell_type": "code",
   "execution_count": null,
   "metadata": {},
   "outputs": [],
   "source": [
    "# import pandas as pd\n",
    "# job = 'Data Engineer'\n",
    "# location = 'texas'\n",
    "# cursor = \"\"\n",
    "# url = f'https://www.simplyhired.com/search?q={job}&l={location}'\n",
    "# df = pd.DataFrame(columns=['job_title', 'company', 'location', 'job_type', 'salary', 'posted_on', 'job_qualification', 'job_description'])\n",
    "# soup = scrape_page(url)\n",
    "# page_data = scrape_one_page(url, soup)\n",
    "# df = df.append(page_data)\n",
    "\n",
    "\n",
    "# while True:\n",
    "#     next_page = get_cursor(soup)\n",
    "#     print(next_page)\n",
    "#     if next_page:\n",
    "#         soup = scrape_page(next_page)\n",
    "#         page_data = scrape_one_page(next_page, soup)\n",
    "#         df = df.append(page_data)\n",
    "#         # pass\n",
    "#     else:\n",
    "#         break\n",
    "# df.to_csv('simply_hired.csv')\n",
    "# df.head()"
   ]
  },
  {
   "cell_type": "code",
   "execution_count": 25,
   "metadata": {},
   "outputs": [
    {
     "name": "stdout",
     "output_type": "stream",
     "text": [
      "{'number_of_jobs': '407', 'number_per_page': 11, 'number_of_pages': 37}\n",
      "Page Number: 1  Page Link:  https://www.simplyhired.com/search?q=Data Engineer&l=texas\n",
      "https://www.simplyhired.com/search?q=Data Engineer&l=texas&job=faS8-6qI4aDvqDdybxZ9K-Kl_O2ChurBOBznSxFvQnMR9j4XTj0PFg\n",
      "https://www.simplyhired.com/search?q=Data Engineer&l=texas&job=-zxIoAuyxHw5mNLZLcSqVPnuYlY-s3VxO_YQrlf6e4Xlvb5x_VqZ5Q\n",
      "https://www.simplyhired.com/search?q=Data Engineer&l=texas&job=0WKAthUAS2wY_89sWDfod5gmmf0hCgDl0jvOqwlrOyMwgYTcDH5d1g\n",
      "https://www.simplyhired.com/search?q=Data Engineer&l=texas&job=ESn2UspJooPZzkzCRr7oTR_z0QaDFt_85ZHJ1oK4CX33SV7BGlm6fA\n",
      "https://www.simplyhired.com/search?q=Data Engineer&l=texas&job=_hV78mDPlQeGJlgol3-SVSTwLpPWztGP0H3Ejl2vXTnAX2dr5qBO8w\n",
      "https://www.simplyhired.com/search?q=Data Engineer&l=texas&job=RZ3OqnMdz5S2VliOwKX0TuRJM_hLFiekrUbUq5bD3I_537KKau5hMg\n",
      "https://www.simplyhired.com/search?q=Data Engineer&l=texas&job=3gxGGL4w5GngCsM3d4H2YfQ4FFQO89FbNU8TIIWBi-0VSfR65f3tNw\n",
      "https://www.simplyhired.com/search?q=Data Engineer&l=texas&job=T05rgZqNpGTb0DvEt27Uc8fxXrmeMrZqVDnYVTdn4ZDefYvGatdk0g\n",
      "https://www.simplyhired.com/search?q=Data Engineer&l=texas&job=Mnz3XpY87SL5CNjjqAWLpKp571jCDy9UiWN1Gm4o3V-VNKX-s4Sk7g\n",
      "https://www.simplyhired.com/search?q=Data Engineer&l=texas&job=mjopWdjhiZeGhRxug3Nv5Hc8L8YANza_xyDNny2rwk8xsKergOQJGg\n",
      "https://www.simplyhired.com/search?q=Data Engineer&l=texas&job=3jLaY9cM6FJaM6zaM4V6arnndvFQs1h61DpmswMf0oPxXLo476OkZA\n"
     ]
    },
    {
     "name": "stderr",
     "output_type": "stream",
     "text": [
      "/tmp/ipykernel_33129/477855742.py:20: FutureWarning: The frame.append method is deprecated and will be removed from pandas in a future version. Use pandas.concat instead.\n",
      "  df = df.append(page_data)\n"
     ]
    },
    {
     "name": "stdout",
     "output_type": "stream",
     "text": [
      "Page Number: 2  Page Link:  https://www.simplyhired.com/search?q=Data+Engineer&l=texas&cursor=AAsAAgAWAAAAAAAAAAAAAAACCRy%2B%2BQEBAQYB%2BVk%2BcCh8PUoOAgZ7YNGDzoq9GyDvrCamrmHw%2BL1wyWj%2B4jAocwuTeW4KcVWjXeGy\n",
      "https://www.simplyhired.com/search?q=Data+Engineer&l=texas&cursor=AAsAAgAWAAAAAAAAAAAAAAACCRy%2B%2BQEBAQYB%2BVk%2BcCh8PUoOAgZ7YNGDzoq9GyDvrCamrmHw%2BL1wyWj%2B4jAocwuTeW4KcVWjXeGy&job=VAyRlfxvWjCXl3AhD_bWYB4h5fHD457y-Pt73GBjzINYI5kSmOEoFA\n",
      "https://www.simplyhired.com/search?q=Data+Engineer&l=texas&cursor=AAsAAgAWAAAAAAAAAAAAAAACCRy%2B%2BQEBAQYB%2BVk%2BcCh8PUoOAgZ7YNGDzoq9GyDvrCamrmHw%2BL1wyWj%2B4jAocwuTeW4KcVWjXeGy&job=oWaclR_t83qMKOwpJy79Pr7FszvehE3kCsGQMn-oOcJ2Qxr5_IQdWw\n",
      "https://www.simplyhired.com/search?q=Data+Engineer&l=texas&cursor=AAsAAgAWAAAAAAAAAAAAAAACCRy%2B%2BQEBAQYB%2BVk%2BcCh8PUoOAgZ7YNGDzoq9GyDvrCamrmHw%2BL1wyWj%2B4jAocwuTeW4KcVWjXeGy&job=hp4_yU3iJiKK3b9Bxx-nNtUQLyb49CGfZ4wmcU37qv7be9CNlH1lAg\n",
      "https://www.simplyhired.com/search?q=Data+Engineer&l=texas&cursor=AAsAAgAWAAAAAAAAAAAAAAACCRy%2B%2BQEBAQYB%2BVk%2BcCh8PUoOAgZ7YNGDzoq9GyDvrCamrmHw%2BL1wyWj%2B4jAocwuTeW4KcVWjXeGy&job=sy_irUWZUb8iqebUN1Bj53LLlpl6jXbMnI-cTUw0rXawiQAiUNkzbA\n",
      "https://www.simplyhired.com/search?q=Data+Engineer&l=texas&cursor=AAsAAgAWAAAAAAAAAAAAAAACCRy%2B%2BQEBAQYB%2BVk%2BcCh8PUoOAgZ7YNGDzoq9GyDvrCamrmHw%2BL1wyWj%2B4jAocwuTeW4KcVWjXeGy&job=29FuosLxcKyrba8rOm7rHIgutEekQFn4Yy856hX5uriKETdDxXfgLQ\n",
      "https://www.simplyhired.com/search?q=Data+Engineer&l=texas&cursor=AAsAAgAWAAAAAAAAAAAAAAACCRy%2B%2BQEBAQYB%2BVk%2BcCh8PUoOAgZ7YNGDzoq9GyDvrCamrmHw%2BL1wyWj%2B4jAocwuTeW4KcVWjXeGy&job=hAhP0AWkOq4l5u3zxtcLtRm2HRCcsMDb85cLC00CO9P6iGH-zH65xQ\n",
      "https://www.simplyhired.com/search?q=Data+Engineer&l=texas&cursor=AAsAAgAWAAAAAAAAAAAAAAACCRy%2B%2BQEBAQYB%2BVk%2BcCh8PUoOAgZ7YNGDzoq9GyDvrCamrmHw%2BL1wyWj%2B4jAocwuTeW4KcVWjXeGy&job=B3xyx8CNMQbSbLU4W8yDQqDguDOf-0mXP7IJRvNV6KYL__phMi6rIA\n",
      "https://www.simplyhired.com/search?q=Data+Engineer&l=texas&cursor=AAsAAgAWAAAAAAAAAAAAAAACCRy%2B%2BQEBAQYB%2BVk%2BcCh8PUoOAgZ7YNGDzoq9GyDvrCamrmHw%2BL1wyWj%2B4jAocwuTeW4KcVWjXeGy&job=SMBSMy_CoFoAu9Ywln36PfMIe65s6F0XbheGz-aA38OYxoWflzsQfg\n",
      "https://www.simplyhired.com/search?q=Data+Engineer&l=texas&cursor=AAsAAgAWAAAAAAAAAAAAAAACCRy%2B%2BQEBAQYB%2BVk%2BcCh8PUoOAgZ7YNGDzoq9GyDvrCamrmHw%2BL1wyWj%2B4jAocwuTeW4KcVWjXeGy&job=6Qeb2u9pFyTR336A9ymNHEVloSIxmYycOw2rIvRDH7Gl0D-MqjWqHQ\n",
      "https://www.simplyhired.com/search?q=Data+Engineer&l=texas&cursor=AAsAAgAWAAAAAAAAAAAAAAACCRy%2B%2BQEBAQYB%2BVk%2BcCh8PUoOAgZ7YNGDzoq9GyDvrCamrmHw%2BL1wyWj%2B4jAocwuTeW4KcVWjXeGy&job=GMHoo6yUItX5QNQQBxmC5Gi_SK1iwki5Niz4ZmigexXdQA_F4Ufl4g\n",
      "https://www.simplyhired.com/search?q=Data+Engineer&l=texas&cursor=AAsAAgAWAAAAAAAAAAAAAAACCRy%2B%2BQEBAQYB%2BVk%2BcCh8PUoOAgZ7YNGDzoq9GyDvrCamrmHw%2BL1wyWj%2B4jAocwuTeW4KcVWjXeGy&job=rpUS-9QcbiGETh1X4J29fw9e4PRC3wx-1qYPggOC4BJWH6W26_MajQ\n"
     ]
    },
    {
     "name": "stderr",
     "output_type": "stream",
     "text": [
      "/tmp/ipykernel_33129/477855742.py:20: FutureWarning: The frame.append method is deprecated and will be removed from pandas in a future version. Use pandas.concat instead.\n",
      "  df = df.append(page_data)\n"
     ]
    },
    {
     "name": "stdout",
     "output_type": "stream",
     "text": [
      "Page Number: 3  Page Link:  https://www.simplyhired.com/search?q=Data+Engineer&l=texas&cursor=AAsAAwAhAAAAAAAAAAAAAAACCRy%2B%2BQECAQYQBjD%2BRuQUwxqZKipDXBwsD4WBzg1sNbI6AKt8rGwiTwk1mLCxfR1%2Fr2n8icQpY8bf6sQMQA5vX52wWJVv1g%3D%3D\n",
      "https://www.simplyhired.com/search?q=Data+Engineer&l=texas&cursor=AAsAAwAhAAAAAAAAAAAAAAACCRy%2B%2BQECAQYQBjD%2BRuQUwxqZKipDXBwsD4WBzg1sNbI6AKt8rGwiTwk1mLCxfR1%2Fr2n8icQpY8bf6sQMQA5vX52wWJVv1g%3D%3D&job=z7_o5-eg9pDXiwe_3RvwXwDJn2LbpIZhkWmEgYW6PlKNuNDrU4M2Sg\n",
      "https://www.simplyhired.com/search?q=Data+Engineer&l=texas&cursor=AAsAAwAhAAAAAAAAAAAAAAACCRy%2B%2BQECAQYQBjD%2BRuQUwxqZKipDXBwsD4WBzg1sNbI6AKt8rGwiTwk1mLCxfR1%2Fr2n8icQpY8bf6sQMQA5vX52wWJVv1g%3D%3D&job=ThYj28cCvjeaNFzLrRz-kCYzKA3eW110q-c4D8XJIwxIDQqX61IXvg\n",
      "https://www.simplyhired.com/search?q=Data+Engineer&l=texas&cursor=AAsAAwAhAAAAAAAAAAAAAAACCRy%2B%2BQECAQYQBjD%2BRuQUwxqZKipDXBwsD4WBzg1sNbI6AKt8rGwiTwk1mLCxfR1%2Fr2n8icQpY8bf6sQMQA5vX52wWJVv1g%3D%3D&job=6YohuW2Ts5AeIX10dcdPXsKL8i97F6MZC5whz9PjDyLjBGVt3Yenmg\n",
      "https://www.simplyhired.com/search?q=Data+Engineer&l=texas&cursor=AAsAAwAhAAAAAAAAAAAAAAACCRy%2B%2BQECAQYQBjD%2BRuQUwxqZKipDXBwsD4WBzg1sNbI6AKt8rGwiTwk1mLCxfR1%2Fr2n8icQpY8bf6sQMQA5vX52wWJVv1g%3D%3D&job=viijX7mm2S3GTW6Qv1XyCbAgtsJ4huwsQsVQNgpioaquIDAlyUXO7g\n",
      "https://www.simplyhired.com/search?q=Data+Engineer&l=texas&cursor=AAsAAwAhAAAAAAAAAAAAAAACCRy%2B%2BQECAQYQBjD%2BRuQUwxqZKipDXBwsD4WBzg1sNbI6AKt8rGwiTwk1mLCxfR1%2Fr2n8icQpY8bf6sQMQA5vX52wWJVv1g%3D%3D&job=-52Kx1slEHnem-bDCR6Da3zHI6ewnYTTShUMORkOjKeLxzf0oYED0Q\n",
      "https://www.simplyhired.com/search?q=Data+Engineer&l=texas&cursor=AAsAAwAhAAAAAAAAAAAAAAACCRy%2B%2BQECAQYQBjD%2BRuQUwxqZKipDXBwsD4WBzg1sNbI6AKt8rGwiTwk1mLCxfR1%2Fr2n8icQpY8bf6sQMQA5vX52wWJVv1g%3D%3D&job=XthG3mHSyVHwgm7ivQ_ccpLUNgXXOMxj6GyP2Au5n9JcddKnnPmQWA\n",
      "https://www.simplyhired.com/search?q=Data+Engineer&l=texas&cursor=AAsAAwAhAAAAAAAAAAAAAAACCRy%2B%2BQECAQYQBjD%2BRuQUwxqZKipDXBwsD4WBzg1sNbI6AKt8rGwiTwk1mLCxfR1%2Fr2n8icQpY8bf6sQMQA5vX52wWJVv1g%3D%3D&job=jvEvTTb-x_R30WlbAYpv2aZuWR_r73kq1lT0bVNE83M-hP13lNOsag\n",
      "https://www.simplyhired.com/search?q=Data+Engineer&l=texas&cursor=AAsAAwAhAAAAAAAAAAAAAAACCRy%2B%2BQECAQYQBjD%2BRuQUwxqZKipDXBwsD4WBzg1sNbI6AKt8rGwiTwk1mLCxfR1%2Fr2n8icQpY8bf6sQMQA5vX52wWJVv1g%3D%3D&job=lbF_6AJcJztZc1_-iekixkTvnGdZOyaLTMroycd13D-nRTOZYBha0w\n",
      "https://www.simplyhired.com/search?q=Data+Engineer&l=texas&cursor=AAsAAwAhAAAAAAAAAAAAAAACCRy%2B%2BQECAQYQBjD%2BRuQUwxqZKipDXBwsD4WBzg1sNbI6AKt8rGwiTwk1mLCxfR1%2Fr2n8icQpY8bf6sQMQA5vX52wWJVv1g%3D%3D&job=Ep2FMfzzm-R5tV-L4YO1doSMZtLY85TSpzhk1sSjIwBVewOPgA58yg\n",
      "https://www.simplyhired.com/search?q=Data+Engineer&l=texas&cursor=AAsAAwAhAAAAAAAAAAAAAAACCRy%2B%2BQECAQYQBjD%2BRuQUwxqZKipDXBwsD4WBzg1sNbI6AKt8rGwiTwk1mLCxfR1%2Fr2n8icQpY8bf6sQMQA5vX52wWJVv1g%3D%3D&job=FqZV7KnHlDceSxOj33QasC0Bf7Xdd4-AFOHx5KhOBrWGXR80W6ZNoA\n",
      "https://www.simplyhired.com/search?q=Data+Engineer&l=texas&cursor=AAsAAwAhAAAAAAAAAAAAAAACCRy%2B%2BQECAQYQBjD%2BRuQUwxqZKipDXBwsD4WBzg1sNbI6AKt8rGwiTwk1mLCxfR1%2Fr2n8icQpY8bf6sQMQA5vX52wWJVv1g%3D%3D&job=LrYneX3OJYqgvBB6_u0s5iTArs4uOv8gV_jdGYT50Ezx4XfPL3nUWA\n"
     ]
    },
    {
     "name": "stderr",
     "output_type": "stream",
     "text": [
      "/tmp/ipykernel_33129/477855742.py:20: FutureWarning: The frame.append method is deprecated and will be removed from pandas in a future version. Use pandas.concat instead.\n",
      "  df = df.append(page_data)\n"
     ]
    },
    {
     "name": "stdout",
     "output_type": "stream",
     "text": [
      "Page Number: 4  Page Link:  https://www.simplyhired.com/search?q=Data+Engineer&l=texas&cursor=AAsABAAsAAAAAAAAAAAAAAACCRy%2B%2BQECAQYQCQDqLtz%2Bo6dzuts8YPTBPRc5xvT5RTR12TDqUJbI1iAqBvewZW5gU1dvWBiv20cIVFGLtFrNVwIEqgMXK3hl0PcVJMwlFaJowXU%3D\n",
      "https://www.simplyhired.com/search?q=Data+Engineer&l=texas&cursor=AAsABAAsAAAAAAAAAAAAAAACCRy%2B%2BQECAQYQCQDqLtz%2Bo6dzuts8YPTBPRc5xvT5RTR12TDqUJbI1iAqBvewZW5gU1dvWBiv20cIVFGLtFrNVwIEqgMXK3hl0PcVJMwlFaJowXU%3D&job=6ahDZE3sJQeBcsl9JhZdCHvVJankjQiZYsSwMwnVrU74gXnBHB4XqA\n",
      "https://www.simplyhired.com/search?q=Data+Engineer&l=texas&cursor=AAsABAAsAAAAAAAAAAAAAAACCRy%2B%2BQECAQYQCQDqLtz%2Bo6dzuts8YPTBPRc5xvT5RTR12TDqUJbI1iAqBvewZW5gU1dvWBiv20cIVFGLtFrNVwIEqgMXK3hl0PcVJMwlFaJowXU%3D&job=FH4gPH8yy_XvSDzWD2LGxTWqCyw79yg3aWpgFKYwYImg-VzCB1BSNw\n",
      "https://www.simplyhired.com/search?q=Data+Engineer&l=texas&cursor=AAsABAAsAAAAAAAAAAAAAAACCRy%2B%2BQECAQYQCQDqLtz%2Bo6dzuts8YPTBPRc5xvT5RTR12TDqUJbI1iAqBvewZW5gU1dvWBiv20cIVFGLtFrNVwIEqgMXK3hl0PcVJMwlFaJowXU%3D&job=PYZR1GOc1VJaelm1S1yIYEyOxsib2gPAwK3QPv7DdiAtK52c_3ETIw\n",
      "https://www.simplyhired.com/search?q=Data+Engineer&l=texas&cursor=AAsABAAsAAAAAAAAAAAAAAACCRy%2B%2BQECAQYQCQDqLtz%2Bo6dzuts8YPTBPRc5xvT5RTR12TDqUJbI1iAqBvewZW5gU1dvWBiv20cIVFGLtFrNVwIEqgMXK3hl0PcVJMwlFaJowXU%3D&job=rHrv5aFLwZwR9yN-TrgfR42GY5b4E0UIQxUtAcJc26gYfv78tRfPKA\n",
      "https://www.simplyhired.com/search?q=Data+Engineer&l=texas&cursor=AAsABAAsAAAAAAAAAAAAAAACCRy%2B%2BQECAQYQCQDqLtz%2Bo6dzuts8YPTBPRc5xvT5RTR12TDqUJbI1iAqBvewZW5gU1dvWBiv20cIVFGLtFrNVwIEqgMXK3hl0PcVJMwlFaJowXU%3D&job=FtLzNBq4QsKjjb4mlEaN5Aot2r-HOSjbtCRTJizFn8-txDP7a-LDwQ\n",
      "https://www.simplyhired.com/search?q=Data+Engineer&l=texas&cursor=AAsABAAsAAAAAAAAAAAAAAACCRy%2B%2BQECAQYQCQDqLtz%2Bo6dzuts8YPTBPRc5xvT5RTR12TDqUJbI1iAqBvewZW5gU1dvWBiv20cIVFGLtFrNVwIEqgMXK3hl0PcVJMwlFaJowXU%3D&job=RhFFishrAUhRsOCze13uLBGs26SIaurvgX4c6z9gvzEycAjNbDwzsA\n",
      "https://www.simplyhired.com/search?q=Data+Engineer&l=texas&cursor=AAsABAAsAAAAAAAAAAAAAAACCRy%2B%2BQECAQYQCQDqLtz%2Bo6dzuts8YPTBPRc5xvT5RTR12TDqUJbI1iAqBvewZW5gU1dvWBiv20cIVFGLtFrNVwIEqgMXK3hl0PcVJMwlFaJowXU%3D&job=rQeJ9IcVnXVd6I_-vkqBgux8uUIyuDhCvQeCORmN-76wAVzoqhIagA\n",
      "https://www.simplyhired.com/search?q=Data+Engineer&l=texas&cursor=AAsABAAsAAAAAAAAAAAAAAACCRy%2B%2BQECAQYQCQDqLtz%2Bo6dzuts8YPTBPRc5xvT5RTR12TDqUJbI1iAqBvewZW5gU1dvWBiv20cIVFGLtFrNVwIEqgMXK3hl0PcVJMwlFaJowXU%3D&job=jSdEv6hgEGm01OUqPYOqCZPY3hjO3jsAr_iiEk0wAm1LTafL8V9Ibg\n",
      "https://www.simplyhired.com/search?q=Data+Engineer&l=texas&cursor=AAsABAAsAAAAAAAAAAAAAAACCRy%2B%2BQECAQYQCQDqLtz%2Bo6dzuts8YPTBPRc5xvT5RTR12TDqUJbI1iAqBvewZW5gU1dvWBiv20cIVFGLtFrNVwIEqgMXK3hl0PcVJMwlFaJowXU%3D&job=XyVY2AbCkppS3D7VYYPIMazz0kOy1Qw-Wtg_qZJlfnk_Jf8Gat27PA\n",
      "https://www.simplyhired.com/search?q=Data+Engineer&l=texas&cursor=AAsABAAsAAAAAAAAAAAAAAACCRy%2B%2BQECAQYQCQDqLtz%2Bo6dzuts8YPTBPRc5xvT5RTR12TDqUJbI1iAqBvewZW5gU1dvWBiv20cIVFGLtFrNVwIEqgMXK3hl0PcVJMwlFaJowXU%3D&job=J-iXq3AqUhuDZNl_7ntl2DOWriR6gc_BhaTvosT8ENAhs27IVKOqiQ\n",
      "https://www.simplyhired.com/search?q=Data+Engineer&l=texas&cursor=AAsABAAsAAAAAAAAAAAAAAACCRy%2B%2BQECAQYQCQDqLtz%2Bo6dzuts8YPTBPRc5xvT5RTR12TDqUJbI1iAqBvewZW5gU1dvWBiv20cIVFGLtFrNVwIEqgMXK3hl0PcVJMwlFaJowXU%3D&job=4BMNti_XymHqqOIe0jKiGZ4SAfSRRef7FICRc4eeSLYakPjPjvU0yA\n"
     ]
    },
    {
     "name": "stderr",
     "output_type": "stream",
     "text": [
      "/tmp/ipykernel_33129/477855742.py:20: FutureWarning: The frame.append method is deprecated and will be removed from pandas in a future version. Use pandas.concat instead.\n",
      "  df = df.append(page_data)\n"
     ]
    },
    {
     "name": "stdout",
     "output_type": "stream",
     "text": [
      "Page Number: 5  Page Link:  https://www.simplyhired.com/search?q=Data+Engineer&l=texas&cursor=AAsABQA3AAAAAAAAAAAAAAACCRy%2B%2BQECAQcQBgKqlnD%2FPpWT6duy7mjsy0G6JicRDXd2IroKWpq8fNi0NVI763ehQMfaVHAYHjsBXaS%2Bkbsz5P9Xg0h1y2fjKOUU0Au%2BbAgdmfauL7k5%2BpBjvOEXfw%3D%3D\n",
      "https://www.simplyhired.com/search?q=Data+Engineer&l=texas&cursor=AAsABQA3AAAAAAAAAAAAAAACCRy%2B%2BQECAQcQBgKqlnD%2FPpWT6duy7mjsy0G6JicRDXd2IroKWpq8fNi0NVI763ehQMfaVHAYHjsBXaS%2Bkbsz5P9Xg0h1y2fjKOUU0Au%2BbAgdmfauL7k5%2BpBjvOEXfw%3D%3D&job=AygldB9c3RjNPWwE8XQ_5dB1KSLeRJNM3eywxQWRh0E2mAdL0_WGOA\n",
      "https://www.simplyhired.com/search?q=Data+Engineer&l=texas&cursor=AAsABQA3AAAAAAAAAAAAAAACCRy%2B%2BQECAQcQBgKqlnD%2FPpWT6duy7mjsy0G6JicRDXd2IroKWpq8fNi0NVI763ehQMfaVHAYHjsBXaS%2Bkbsz5P9Xg0h1y2fjKOUU0Au%2BbAgdmfauL7k5%2BpBjvOEXfw%3D%3D&job=XYm6p-1BfTx-G_v_RYbB_1zq2om9X6bp9NsfxTEMG23Je0OBdZd6yg\n",
      "https://www.simplyhired.com/search?q=Data+Engineer&l=texas&cursor=AAsABQA3AAAAAAAAAAAAAAACCRy%2B%2BQECAQcQBgKqlnD%2FPpWT6duy7mjsy0G6JicRDXd2IroKWpq8fNi0NVI763ehQMfaVHAYHjsBXaS%2Bkbsz5P9Xg0h1y2fjKOUU0Au%2BbAgdmfauL7k5%2BpBjvOEXfw%3D%3D&job=4TFV-XqxO7VJDZ_iqAck6N5_N6N_MgMwus8JRubIa30jvAERNleSaQ\n",
      "https://www.simplyhired.com/search?q=Data+Engineer&l=texas&cursor=AAsABQA3AAAAAAAAAAAAAAACCRy%2B%2BQECAQcQBgKqlnD%2FPpWT6duy7mjsy0G6JicRDXd2IroKWpq8fNi0NVI763ehQMfaVHAYHjsBXaS%2Bkbsz5P9Xg0h1y2fjKOUU0Au%2BbAgdmfauL7k5%2BpBjvOEXfw%3D%3D&job=R4WQVUZ5aYYrtB8ly29Ty0iJSGD_UZBjDGFKD7vvIU_Ex0sOxvTYaw\n",
      "https://www.simplyhired.com/search?q=Data+Engineer&l=texas&cursor=AAsABQA3AAAAAAAAAAAAAAACCRy%2B%2BQECAQcQBgKqlnD%2FPpWT6duy7mjsy0G6JicRDXd2IroKWpq8fNi0NVI763ehQMfaVHAYHjsBXaS%2Bkbsz5P9Xg0h1y2fjKOUU0Au%2BbAgdmfauL7k5%2BpBjvOEXfw%3D%3D&job=S2upzy0C9JKsuuLFXk2WYlFfeT7PLD_gq-uq9wPUbrhl203RL-78LA\n",
      "https://www.simplyhired.com/search?q=Data+Engineer&l=texas&cursor=AAsABQA3AAAAAAAAAAAAAAACCRy%2B%2BQECAQcQBgKqlnD%2FPpWT6duy7mjsy0G6JicRDXd2IroKWpq8fNi0NVI763ehQMfaVHAYHjsBXaS%2Bkbsz5P9Xg0h1y2fjKOUU0Au%2BbAgdmfauL7k5%2BpBjvOEXfw%3D%3D&job=kE9nw_iqznxdFTP84rio5CNhzFhI0kQc9odMEjnmsgErCxfHrsM23Q\n",
      "https://www.simplyhired.com/search?q=Data+Engineer&l=texas&cursor=AAsABQA3AAAAAAAAAAAAAAACCRy%2B%2BQECAQcQBgKqlnD%2FPpWT6duy7mjsy0G6JicRDXd2IroKWpq8fNi0NVI763ehQMfaVHAYHjsBXaS%2Bkbsz5P9Xg0h1y2fjKOUU0Au%2BbAgdmfauL7k5%2BpBjvOEXfw%3D%3D&job=rh1XFOvsnplvV5iH91oHfUYZ4nekMZjCCqEm7zDSfgb3rcczeo6qxw\n",
      "https://www.simplyhired.com/search?q=Data+Engineer&l=texas&cursor=AAsABQA3AAAAAAAAAAAAAAACCRy%2B%2BQECAQcQBgKqlnD%2FPpWT6duy7mjsy0G6JicRDXd2IroKWpq8fNi0NVI763ehQMfaVHAYHjsBXaS%2Bkbsz5P9Xg0h1y2fjKOUU0Au%2BbAgdmfauL7k5%2BpBjvOEXfw%3D%3D&job=J9gynZdS6Q6SOwhGqNcDWgQmWser2rQotY46fCP9mPs-D-VjKwgY-A\n",
      "https://www.simplyhired.com/search?q=Data+Engineer&l=texas&cursor=AAsABQA3AAAAAAAAAAAAAAACCRy%2B%2BQECAQcQBgKqlnD%2FPpWT6duy7mjsy0G6JicRDXd2IroKWpq8fNi0NVI763ehQMfaVHAYHjsBXaS%2Bkbsz5P9Xg0h1y2fjKOUU0Au%2BbAgdmfauL7k5%2BpBjvOEXfw%3D%3D&job=UQToLrt4NZPEh38GjvOEf5KLE5SR--gji0k86Np-plIoykABe4_vcQ\n",
      "https://www.simplyhired.com/search?q=Data+Engineer&l=texas&cursor=AAsABQA3AAAAAAAAAAAAAAACCRy%2B%2BQECAQcQBgKqlnD%2FPpWT6duy7mjsy0G6JicRDXd2IroKWpq8fNi0NVI763ehQMfaVHAYHjsBXaS%2Bkbsz5P9Xg0h1y2fjKOUU0Au%2BbAgdmfauL7k5%2BpBjvOEXfw%3D%3D&job=rdxc-wEXkOzZMD1_FexzkKCkcTjbvZUWftEzbe0rddd1n5I5SuMP1A\n",
      "https://www.simplyhired.com/search?q=Data+Engineer&l=texas&cursor=AAsABQA3AAAAAAAAAAAAAAACCRy%2B%2BQECAQcQBgKqlnD%2FPpWT6duy7mjsy0G6JicRDXd2IroKWpq8fNi0NVI763ehQMfaVHAYHjsBXaS%2Bkbsz5P9Xg0h1y2fjKOUU0Au%2BbAgdmfauL7k5%2BpBjvOEXfw%3D%3D&job=af7OZFK2YFbGkJKjoO3N66Q0vlkCYxY1YEi_rQNHAIO-ZDPPyJ2ukA\n"
     ]
    },
    {
     "name": "stderr",
     "output_type": "stream",
     "text": [
      "/tmp/ipykernel_33129/477855742.py:20: FutureWarning: The frame.append method is deprecated and will be removed from pandas in a future version. Use pandas.concat instead.\n",
      "  df = df.append(page_data)\n"
     ]
    },
    {
     "name": "stdout",
     "output_type": "stream",
     "text": [
      "Page Number: 6  Page Link:  https://www.simplyhired.com/search?q=Data+Engineer&l=texas&cursor=AAsABgBCAAAAAAAAAAAAAAACCRy%2B%2BQECAQcQCiOPFhSVFy%2BnOe6WZlKQ3aARrJW1yi9JHTWkp5a3XcTx7a7Az4KsM7Igp2YgwtLIvaldN5EfR2apJpGgpwkFAaxDgLEsNu529KP6leIT0HR8%2FNFzjpLVockPcRdvzQ%3D%3D\n",
      "https://www.simplyhired.com/search?q=Data+Engineer&l=texas&cursor=AAsABgBCAAAAAAAAAAAAAAACCRy%2B%2BQECAQcQCiOPFhSVFy%2BnOe6WZlKQ3aARrJW1yi9JHTWkp5a3XcTx7a7Az4KsM7Igp2YgwtLIvaldN5EfR2apJpGgpwkFAaxDgLEsNu529KP6leIT0HR8%2FNFzjpLVockPcRdvzQ%3D%3D&job=VzXcMJwCvuOCMefWPfllaV7wsdCqyvB5JItgFrpOpBYLyIHPbSS5mg\n",
      "https://www.simplyhired.com/search?q=Data+Engineer&l=texas&cursor=AAsABgBCAAAAAAAAAAAAAAACCRy%2B%2BQECAQcQCiOPFhSVFy%2BnOe6WZlKQ3aARrJW1yi9JHTWkp5a3XcTx7a7Az4KsM7Igp2YgwtLIvaldN5EfR2apJpGgpwkFAaxDgLEsNu529KP6leIT0HR8%2FNFzjpLVockPcRdvzQ%3D%3D&job=_V8tuvdTPJ8qNpt_plE4iHZkRvYa4fqq7lCFzAkWKLp_HFZ4RfOVEw\n",
      "https://www.simplyhired.com/search?q=Data+Engineer&l=texas&cursor=AAsABgBCAAAAAAAAAAAAAAACCRy%2B%2BQECAQcQCiOPFhSVFy%2BnOe6WZlKQ3aARrJW1yi9JHTWkp5a3XcTx7a7Az4KsM7Igp2YgwtLIvaldN5EfR2apJpGgpwkFAaxDgLEsNu529KP6leIT0HR8%2FNFzjpLVockPcRdvzQ%3D%3D&job=Y7OPtmQTB_5j12LFujF0Tsz-FeC08XLD5G73QW7vGtQEwZAvWIlKKw\n",
      "https://www.simplyhired.com/search?q=Data+Engineer&l=texas&cursor=AAsABgBCAAAAAAAAAAAAAAACCRy%2B%2BQECAQcQCiOPFhSVFy%2BnOe6WZlKQ3aARrJW1yi9JHTWkp5a3XcTx7a7Az4KsM7Igp2YgwtLIvaldN5EfR2apJpGgpwkFAaxDgLEsNu529KP6leIT0HR8%2FNFzjpLVockPcRdvzQ%3D%3D&job=fYROvg1frRrrW23msWSO0MagCC_Bm-51iSlmG8eTJHInwJFyaUC8SA\n",
      "https://www.simplyhired.com/search?q=Data+Engineer&l=texas&cursor=AAsABgBCAAAAAAAAAAAAAAACCRy%2B%2BQECAQcQCiOPFhSVFy%2BnOe6WZlKQ3aARrJW1yi9JHTWkp5a3XcTx7a7Az4KsM7Igp2YgwtLIvaldN5EfR2apJpGgpwkFAaxDgLEsNu529KP6leIT0HR8%2FNFzjpLVockPcRdvzQ%3D%3D&job=u9PrDpxD4JeT9QLKhj9pH9Vb67I-DwkYDZZg0yylKfPpegqa9qhKNw\n",
      "https://www.simplyhired.com/search?q=Data+Engineer&l=texas&cursor=AAsABgBCAAAAAAAAAAAAAAACCRy%2B%2BQECAQcQCiOPFhSVFy%2BnOe6WZlKQ3aARrJW1yi9JHTWkp5a3XcTx7a7Az4KsM7Igp2YgwtLIvaldN5EfR2apJpGgpwkFAaxDgLEsNu529KP6leIT0HR8%2FNFzjpLVockPcRdvzQ%3D%3D&job=3rogb59tjI8NU6bRKrWCCZxiIeQdAjBgZvMHf8VETk6sTXporRO6Jw\n",
      "https://www.simplyhired.com/search?q=Data+Engineer&l=texas&cursor=AAsABgBCAAAAAAAAAAAAAAACCRy%2B%2BQECAQcQCiOPFhSVFy%2BnOe6WZlKQ3aARrJW1yi9JHTWkp5a3XcTx7a7Az4KsM7Igp2YgwtLIvaldN5EfR2apJpGgpwkFAaxDgLEsNu529KP6leIT0HR8%2FNFzjpLVockPcRdvzQ%3D%3D&job=TGnFhZxaxWkv3r0GjNh_qKqLWzbb6uQ_ITpwYj5KH89aKYRVmKKffA\n",
      "https://www.simplyhired.com/search?q=Data+Engineer&l=texas&cursor=AAsABgBCAAAAAAAAAAAAAAACCRy%2B%2BQECAQcQCiOPFhSVFy%2BnOe6WZlKQ3aARrJW1yi9JHTWkp5a3XcTx7a7Az4KsM7Igp2YgwtLIvaldN5EfR2apJpGgpwkFAaxDgLEsNu529KP6leIT0HR8%2FNFzjpLVockPcRdvzQ%3D%3D&job=FAkFcRjdyDKgS8Qg2GEdnZ8Oqftx2CfRwb5_86K7i5mM9EM7kS8Dpg\n",
      "https://www.simplyhired.com/search?q=Data+Engineer&l=texas&cursor=AAsABgBCAAAAAAAAAAAAAAACCRy%2B%2BQECAQcQCiOPFhSVFy%2BnOe6WZlKQ3aARrJW1yi9JHTWkp5a3XcTx7a7Az4KsM7Igp2YgwtLIvaldN5EfR2apJpGgpwkFAaxDgLEsNu529KP6leIT0HR8%2FNFzjpLVockPcRdvzQ%3D%3D&job=yhk1AYO3g-O9kDJUqNdIo3IrRpk13MwnnZ0132mz0OSImrVQRJAAzw\n",
      "https://www.simplyhired.com/search?q=Data+Engineer&l=texas&cursor=AAsABgBCAAAAAAAAAAAAAAACCRy%2B%2BQECAQcQCiOPFhSVFy%2BnOe6WZlKQ3aARrJW1yi9JHTWkp5a3XcTx7a7Az4KsM7Igp2YgwtLIvaldN5EfR2apJpGgpwkFAaxDgLEsNu529KP6leIT0HR8%2FNFzjpLVockPcRdvzQ%3D%3D&job=wolCQVC3wsFflrQoffJOuK5pyxarSB3nb7wrxbFyNJ5BAp1AMVubmw\n",
      "https://www.simplyhired.com/search?q=Data+Engineer&l=texas&cursor=AAsABgBCAAAAAAAAAAAAAAACCRy%2B%2BQECAQcQCiOPFhSVFy%2BnOe6WZlKQ3aARrJW1yi9JHTWkp5a3XcTx7a7Az4KsM7Igp2YgwtLIvaldN5EfR2apJpGgpwkFAaxDgLEsNu529KP6leIT0HR8%2FNFzjpLVockPcRdvzQ%3D%3D&job=8skjUcthS7nv_wMY2B2IXG2If1Ek9VGHOA1N_AJn_AWRbYlutS4fMg\n"
     ]
    },
    {
     "name": "stderr",
     "output_type": "stream",
     "text": [
      "/tmp/ipykernel_33129/477855742.py:20: FutureWarning: The frame.append method is deprecated and will be removed from pandas in a future version. Use pandas.concat instead.\n",
      "  df = df.append(page_data)\n"
     ]
    },
    {
     "name": "stdout",
     "output_type": "stream",
     "text": [
      "Page Number: 7  Page Link:  https://www.simplyhired.com/search?q=Data+Engineer&l=texas&cursor=AAsABwBNAAAAAAAAAAAAAAACCRy%2B%2BQEDAQcQChYKFehS%2FuJFIJ4NH3C5AQRbwZ6mQUAdc%2BMu8D1WFIaCtY9ft%2BMCosPQYVpd%2FtUiKvd2CYnTh81rjbq6%2FCkAStFkvk5tBSJ7kpGs8N8kO2FB3pgSUJlMQ77eNcmYz8MGzXiDoJU%3D\n",
      "https://www.simplyhired.com/search?q=Data+Engineer&l=texas&cursor=AAsABwBNAAAAAAAAAAAAAAACCRy%2B%2BQEDAQcQChYKFehS%2FuJFIJ4NH3C5AQRbwZ6mQUAdc%2BMu8D1WFIaCtY9ft%2BMCosPQYVpd%2FtUiKvd2CYnTh81rjbq6%2FCkAStFkvk5tBSJ7kpGs8N8kO2FB3pgSUJlMQ77eNcmYz8MGzXiDoJU%3D&job=WFEnx95FirUO5p57TwDiO1iiJl9-IAefnLnmtukG9FMQgel1NgsGUA\n",
      "https://www.simplyhired.com/search?q=Data+Engineer&l=texas&cursor=AAsABwBNAAAAAAAAAAAAAAACCRy%2B%2BQEDAQcQChYKFehS%2FuJFIJ4NH3C5AQRbwZ6mQUAdc%2BMu8D1WFIaCtY9ft%2BMCosPQYVpd%2FtUiKvd2CYnTh81rjbq6%2FCkAStFkvk5tBSJ7kpGs8N8kO2FB3pgSUJlMQ77eNcmYz8MGzXiDoJU%3D&job=SB0lB57KcRQUaK8gRZMqJymlTDQdLegEq5QDrtsY3QfSZYIVJS-Dgg\n",
      "https://www.simplyhired.com/search?q=Data+Engineer&l=texas&cursor=AAsABwBNAAAAAAAAAAAAAAACCRy%2B%2BQEDAQcQChYKFehS%2FuJFIJ4NH3C5AQRbwZ6mQUAdc%2BMu8D1WFIaCtY9ft%2BMCosPQYVpd%2FtUiKvd2CYnTh81rjbq6%2FCkAStFkvk5tBSJ7kpGs8N8kO2FB3pgSUJlMQ77eNcmYz8MGzXiDoJU%3D&job=fZMhCiI4eZJzu-suoh-XiSt_UYH5lJ_K-4w_NdjjqE4zYztMsUibsg\n",
      "https://www.simplyhired.com/search?q=Data+Engineer&l=texas&cursor=AAsABwBNAAAAAAAAAAAAAAACCRy%2B%2BQEDAQcQChYKFehS%2FuJFIJ4NH3C5AQRbwZ6mQUAdc%2BMu8D1WFIaCtY9ft%2BMCosPQYVpd%2FtUiKvd2CYnTh81rjbq6%2FCkAStFkvk5tBSJ7kpGs8N8kO2FB3pgSUJlMQ77eNcmYz8MGzXiDoJU%3D&job=Y2NB-hwojgRNNKoQSDtIBSk_be6unisVk5eoRLoRbyhqVQPYrSkQcQ\n",
      "https://www.simplyhired.com/search?q=Data+Engineer&l=texas&cursor=AAsABwBNAAAAAAAAAAAAAAACCRy%2B%2BQEDAQcQChYKFehS%2FuJFIJ4NH3C5AQRbwZ6mQUAdc%2BMu8D1WFIaCtY9ft%2BMCosPQYVpd%2FtUiKvd2CYnTh81rjbq6%2FCkAStFkvk5tBSJ7kpGs8N8kO2FB3pgSUJlMQ77eNcmYz8MGzXiDoJU%3D&job=zxKFWedfYcoP1IOwwM9BX9RV5yBIIDA5cUvXFKAjLsA5WXsFtmY7rg\n",
      "https://www.simplyhired.com/search?q=Data+Engineer&l=texas&cursor=AAsABwBNAAAAAAAAAAAAAAACCRy%2B%2BQEDAQcQChYKFehS%2FuJFIJ4NH3C5AQRbwZ6mQUAdc%2BMu8D1WFIaCtY9ft%2BMCosPQYVpd%2FtUiKvd2CYnTh81rjbq6%2FCkAStFkvk5tBSJ7kpGs8N8kO2FB3pgSUJlMQ77eNcmYz8MGzXiDoJU%3D&job=vzLqo1Lxxd6a8E2V7iSUNpwE_d2apaGqzZKDpfp4jWdasbWe7COs_g\n",
      "https://www.simplyhired.com/search?q=Data+Engineer&l=texas&cursor=AAsABwBNAAAAAAAAAAAAAAACCRy%2B%2BQEDAQcQChYKFehS%2FuJFIJ4NH3C5AQRbwZ6mQUAdc%2BMu8D1WFIaCtY9ft%2BMCosPQYVpd%2FtUiKvd2CYnTh81rjbq6%2FCkAStFkvk5tBSJ7kpGs8N8kO2FB3pgSUJlMQ77eNcmYz8MGzXiDoJU%3D&job=AY4bjXdOvYAgeSYqejkdsgVZhFHbqmZ-GTCR9yk-U1Cv5sfvJdhowA\n",
      "https://www.simplyhired.com/search?q=Data+Engineer&l=texas&cursor=AAsABwBNAAAAAAAAAAAAAAACCRy%2B%2BQEDAQcQChYKFehS%2FuJFIJ4NH3C5AQRbwZ6mQUAdc%2BMu8D1WFIaCtY9ft%2BMCosPQYVpd%2FtUiKvd2CYnTh81rjbq6%2FCkAStFkvk5tBSJ7kpGs8N8kO2FB3pgSUJlMQ77eNcmYz8MGzXiDoJU%3D&job=l3fEOUVTOgMCyk-nXinkm850lcbHtwb1c2JPSeWD2iCxThPy4pQSwA\n",
      "https://www.simplyhired.com/search?q=Data+Engineer&l=texas&cursor=AAsABwBNAAAAAAAAAAAAAAACCRy%2B%2BQEDAQcQChYKFehS%2FuJFIJ4NH3C5AQRbwZ6mQUAdc%2BMu8D1WFIaCtY9ft%2BMCosPQYVpd%2FtUiKvd2CYnTh81rjbq6%2FCkAStFkvk5tBSJ7kpGs8N8kO2FB3pgSUJlMQ77eNcmYz8MGzXiDoJU%3D&job=-cAzPdC7nSkButiYo0HhCU_0IpjF-m1jZzsIziJ4ycj3jHNSQElt8A\n",
      "https://www.simplyhired.com/search?q=Data+Engineer&l=texas&cursor=AAsABwBNAAAAAAAAAAAAAAACCRy%2B%2BQEDAQcQChYKFehS%2FuJFIJ4NH3C5AQRbwZ6mQUAdc%2BMu8D1WFIaCtY9ft%2BMCosPQYVpd%2FtUiKvd2CYnTh81rjbq6%2FCkAStFkvk5tBSJ7kpGs8N8kO2FB3pgSUJlMQ77eNcmYz8MGzXiDoJU%3D&job=uq9SipfZCgMQuMabeDWMPcyTLU56KgDLE3R-opAfq5LgxS7c32C7oQ\n",
      "https://www.simplyhired.com/search?q=Data+Engineer&l=texas&cursor=AAsABwBNAAAAAAAAAAAAAAACCRy%2B%2BQEDAQcQChYKFehS%2FuJFIJ4NH3C5AQRbwZ6mQUAdc%2BMu8D1WFIaCtY9ft%2BMCosPQYVpd%2FtUiKvd2CYnTh81rjbq6%2FCkAStFkvk5tBSJ7kpGs8N8kO2FB3pgSUJlMQ77eNcmYz8MGzXiDoJU%3D&job=nSl-2moT1yI-CClKdFvKnwf2Q6UOmq4VeLXic2SAni_zSw4Pd359RQ\n"
     ]
    },
    {
     "name": "stderr",
     "output_type": "stream",
     "text": [
      "/tmp/ipykernel_33129/477855742.py:20: FutureWarning: The frame.append method is deprecated and will be removed from pandas in a future version. Use pandas.concat instead.\n",
      "  df = df.append(page_data)\n"
     ]
    },
    {
     "name": "stdout",
     "output_type": "stream",
     "text": [
      "Page Number: 8  Page Link:  https://www.simplyhired.com/search?q=Data+Engineer&l=texas&cursor=AAsACABYAAAAAAAAAAAAAAACCRy%2B%2BQECAQ8gDmJuj5sq%2FOVZ8xiXzBDsU%2B%2B3d02e5cRGtoIXyEs1o9%2Fz2KcslQYY%2FOq1Dd3VVf5Mehb12l5%2Bx0LRXzqpfgkkxo%2BQJqYgSRYpmy%2Bb6k4ldKqNVUGv0%2BE62l2wSKcU5VCH3WksVwAadl8%3D\n",
      "https://www.simplyhired.com/search?q=Data+Engineer&l=texas&cursor=AAsACABYAAAAAAAAAAAAAAACCRy%2B%2BQECAQ8gDmJuj5sq%2FOVZ8xiXzBDsU%2B%2B3d02e5cRGtoIXyEs1o9%2Fz2KcslQYY%2FOq1Dd3VVf5Mehb12l5%2Bx0LRXzqpfgkkxo%2BQJqYgSRYpmy%2Bb6k4ldKqNVUGv0%2BE62l2wSKcU5VCH3WksVwAadl8%3D&job=rjKhO3Tb3WfPE5n67VMAvg9YmBcetEoZf3BwhtMK8MqsmPRIfYEP0A\n",
      "https://www.simplyhired.com/search?q=Data+Engineer&l=texas&cursor=AAsACABYAAAAAAAAAAAAAAACCRy%2B%2BQECAQ8gDmJuj5sq%2FOVZ8xiXzBDsU%2B%2B3d02e5cRGtoIXyEs1o9%2Fz2KcslQYY%2FOq1Dd3VVf5Mehb12l5%2Bx0LRXzqpfgkkxo%2BQJqYgSRYpmy%2Bb6k4ldKqNVUGv0%2BE62l2wSKcU5VCH3WksVwAadl8%3D&job=uA0_bnH0ZvKGDKFKKLzFEXaMbc26E7M9eaYeSF7qqMystRTFuUvYXQ\n",
      "https://www.simplyhired.com/search?q=Data+Engineer&l=texas&cursor=AAsACABYAAAAAAAAAAAAAAACCRy%2B%2BQECAQ8gDmJuj5sq%2FOVZ8xiXzBDsU%2B%2B3d02e5cRGtoIXyEs1o9%2Fz2KcslQYY%2FOq1Dd3VVf5Mehb12l5%2Bx0LRXzqpfgkkxo%2BQJqYgSRYpmy%2Bb6k4ldKqNVUGv0%2BE62l2wSKcU5VCH3WksVwAadl8%3D&job=HEB4Fo1OG1cK4GijX5ywS_BSwY_6ClmBPeQlTzw1WSpiZAXAAEk_oQ\n",
      "https://www.simplyhired.com/search?q=Data+Engineer&l=texas&cursor=AAsACABYAAAAAAAAAAAAAAACCRy%2B%2BQECAQ8gDmJuj5sq%2FOVZ8xiXzBDsU%2B%2B3d02e5cRGtoIXyEs1o9%2Fz2KcslQYY%2FOq1Dd3VVf5Mehb12l5%2Bx0LRXzqpfgkkxo%2BQJqYgSRYpmy%2Bb6k4ldKqNVUGv0%2BE62l2wSKcU5VCH3WksVwAadl8%3D&job=QYuR6CbyVDLZaJK3-zOsE1rwuUPdA5wf5Njr-fh5P-Daibnea2z8CA\n",
      "https://www.simplyhired.com/search?q=Data+Engineer&l=texas&cursor=AAsACABYAAAAAAAAAAAAAAACCRy%2B%2BQECAQ8gDmJuj5sq%2FOVZ8xiXzBDsU%2B%2B3d02e5cRGtoIXyEs1o9%2Fz2KcslQYY%2FOq1Dd3VVf5Mehb12l5%2Bx0LRXzqpfgkkxo%2BQJqYgSRYpmy%2Bb6k4ldKqNVUGv0%2BE62l2wSKcU5VCH3WksVwAadl8%3D&job=kJbzBPj5WP09L0S8iKrnfUforTypN6DSK9Oth4soqFNhcsJCiXe3YQ\n",
      "https://www.simplyhired.com/search?q=Data+Engineer&l=texas&cursor=AAsACABYAAAAAAAAAAAAAAACCRy%2B%2BQECAQ8gDmJuj5sq%2FOVZ8xiXzBDsU%2B%2B3d02e5cRGtoIXyEs1o9%2Fz2KcslQYY%2FOq1Dd3VVf5Mehb12l5%2Bx0LRXzqpfgkkxo%2BQJqYgSRYpmy%2Bb6k4ldKqNVUGv0%2BE62l2wSKcU5VCH3WksVwAadl8%3D&job=Koo8uD52HtV-SrCZSFB9_wCdm3ST5_0_8oQBG06XPRFaJlH2b-ZdRQ\n",
      "https://www.simplyhired.com/search?q=Data+Engineer&l=texas&cursor=AAsACABYAAAAAAAAAAAAAAACCRy%2B%2BQECAQ8gDmJuj5sq%2FOVZ8xiXzBDsU%2B%2B3d02e5cRGtoIXyEs1o9%2Fz2KcslQYY%2FOq1Dd3VVf5Mehb12l5%2Bx0LRXzqpfgkkxo%2BQJqYgSRYpmy%2Bb6k4ldKqNVUGv0%2BE62l2wSKcU5VCH3WksVwAadl8%3D&job=IDSGZRN2eS99ym3-H4BxcMrp1qJrom1nZdfULCvmH5vvG6pzitFexQ\n",
      "https://www.simplyhired.com/search?q=Data+Engineer&l=texas&cursor=AAsACABYAAAAAAAAAAAAAAACCRy%2B%2BQECAQ8gDmJuj5sq%2FOVZ8xiXzBDsU%2B%2B3d02e5cRGtoIXyEs1o9%2Fz2KcslQYY%2FOq1Dd3VVf5Mehb12l5%2Bx0LRXzqpfgkkxo%2BQJqYgSRYpmy%2Bb6k4ldKqNVUGv0%2BE62l2wSKcU5VCH3WksVwAadl8%3D&job=tZ0ADkWwyB6BEHTv5kWCkIZwbvwI615VpW_bL3RfsVXP3nkd0Zf3Sw\n",
      "https://www.simplyhired.com/search?q=Data+Engineer&l=texas&cursor=AAsACABYAAAAAAAAAAAAAAACCRy%2B%2BQECAQ8gDmJuj5sq%2FOVZ8xiXzBDsU%2B%2B3d02e5cRGtoIXyEs1o9%2Fz2KcslQYY%2FOq1Dd3VVf5Mehb12l5%2Bx0LRXzqpfgkkxo%2BQJqYgSRYpmy%2Bb6k4ldKqNVUGv0%2BE62l2wSKcU5VCH3WksVwAadl8%3D&job=CcbnM-fK2w5rYlXlVLUbcjOKffxJZiafMKmh_npd3VO1T-dUVGTbfw\n",
      "https://www.simplyhired.com/search?q=Data+Engineer&l=texas&cursor=AAsACABYAAAAAAAAAAAAAAACCRy%2B%2BQECAQ8gDmJuj5sq%2FOVZ8xiXzBDsU%2B%2B3d02e5cRGtoIXyEs1o9%2Fz2KcslQYY%2FOq1Dd3VVf5Mehb12l5%2Bx0LRXzqpfgkkxo%2BQJqYgSRYpmy%2Bb6k4ldKqNVUGv0%2BE62l2wSKcU5VCH3WksVwAadl8%3D&job=433Tq1f-AuwNbKbjxjIT9OK9LWmHiBQ_XIp_PRFUnjnvnWKE728rvA\n",
      "https://www.simplyhired.com/search?q=Data+Engineer&l=texas&cursor=AAsACABYAAAAAAAAAAAAAAACCRy%2B%2BQECAQ8gDmJuj5sq%2FOVZ8xiXzBDsU%2B%2B3d02e5cRGtoIXyEs1o9%2Fz2KcslQYY%2FOq1Dd3VVf5Mehb12l5%2Bx0LRXzqpfgkkxo%2BQJqYgSRYpmy%2Bb6k4ldKqNVUGv0%2BE62l2wSKcU5VCH3WksVwAadl8%3D&job=yaZXhVADXN8FKD7PC4-9Og9_lDr5GpNGYNdqbBLguswwckSjEkC22w\n"
     ]
    },
    {
     "name": "stderr",
     "output_type": "stream",
     "text": [
      "/tmp/ipykernel_33129/477855742.py:20: FutureWarning: The frame.append method is deprecated and will be removed from pandas in a future version. Use pandas.concat instead.\n",
      "  df = df.append(page_data)\n"
     ]
    },
    {
     "name": "stdout",
     "output_type": "stream",
     "text": [
      "Page Number: 9  Page Link:  https://www.simplyhired.com/search?q=Data+Engineer&l=texas&cursor=AAsACQBjAAAAAAAAAAAAAAACCRy%2B%2BQEDAQ8gDj4JAO1p8hmYcZyQkVxq8yTtsImR%2BhnverW5Xc97stdWOeJTTc9DXnZvOgAepTG8hN74ABNOO7rqrQYub%2B88z7fL%2FOdS%2F2D3YUhHirXd0IzYclbRQfbec4T6s9s5AtxPlHQQEN5XKwvrjeMtNII%3D\n",
      "https://www.simplyhired.com/search?q=Data+Engineer&l=texas&cursor=AAsACQBjAAAAAAAAAAAAAAACCRy%2B%2BQEDAQ8gDj4JAO1p8hmYcZyQkVxq8yTtsImR%2BhnverW5Xc97stdWOeJTTc9DXnZvOgAepTG8hN74ABNOO7rqrQYub%2B88z7fL%2FOdS%2F2D3YUhHirXd0IzYclbRQfbec4T6s9s5AtxPlHQQEN5XKwvrjeMtNII%3D&job=x7NBr8OTz6ZvgdNpXs43ie1VdMMTxbXz7mORZJPMukuGeP2zF2Y7wQ\n",
      "https://www.simplyhired.com/search?q=Data+Engineer&l=texas&cursor=AAsACQBjAAAAAAAAAAAAAAACCRy%2B%2BQEDAQ8gDj4JAO1p8hmYcZyQkVxq8yTtsImR%2BhnverW5Xc97stdWOeJTTc9DXnZvOgAepTG8hN74ABNOO7rqrQYub%2B88z7fL%2FOdS%2F2D3YUhHirXd0IzYclbRQfbec4T6s9s5AtxPlHQQEN5XKwvrjeMtNII%3D&job=s6Ah2ohRlRivoPiWvk7WREO3KEbEC11gLeb4SL1HKDa1ee2Hv3HWJg\n",
      "https://www.simplyhired.com/search?q=Data+Engineer&l=texas&cursor=AAsACQBjAAAAAAAAAAAAAAACCRy%2B%2BQEDAQ8gDj4JAO1p8hmYcZyQkVxq8yTtsImR%2BhnverW5Xc97stdWOeJTTc9DXnZvOgAepTG8hN74ABNOO7rqrQYub%2B88z7fL%2FOdS%2F2D3YUhHirXd0IzYclbRQfbec4T6s9s5AtxPlHQQEN5XKwvrjeMtNII%3D&job=kV1ARJ9FDt_ClN_zhNtm12gzk_oiiPvmUPqAjOTY2wQADd97uCDSiw\n",
      "https://www.simplyhired.com/search?q=Data+Engineer&l=texas&cursor=AAsACQBjAAAAAAAAAAAAAAACCRy%2B%2BQEDAQ8gDj4JAO1p8hmYcZyQkVxq8yTtsImR%2BhnverW5Xc97stdWOeJTTc9DXnZvOgAepTG8hN74ABNOO7rqrQYub%2B88z7fL%2FOdS%2F2D3YUhHirXd0IzYclbRQfbec4T6s9s5AtxPlHQQEN5XKwvrjeMtNII%3D&job=iXuFxiqw3snObBoSaJGNaZJX_jMRwxNftzH8KyPFdgFQwfIHlQvtjQ\n",
      "https://www.simplyhired.com/search?q=Data+Engineer&l=texas&cursor=AAsACQBjAAAAAAAAAAAAAAACCRy%2B%2BQEDAQ8gDj4JAO1p8hmYcZyQkVxq8yTtsImR%2BhnverW5Xc97stdWOeJTTc9DXnZvOgAepTG8hN74ABNOO7rqrQYub%2B88z7fL%2FOdS%2F2D3YUhHirXd0IzYclbRQfbec4T6s9s5AtxPlHQQEN5XKwvrjeMtNII%3D&job=wRqdFesaWEE_yj2k1_sR7QV7C3AaUfIDiXqgSInMoh8jS-KDyZbV5A\n",
      "https://www.simplyhired.com/search?q=Data+Engineer&l=texas&cursor=AAsACQBjAAAAAAAAAAAAAAACCRy%2B%2BQEDAQ8gDj4JAO1p8hmYcZyQkVxq8yTtsImR%2BhnverW5Xc97stdWOeJTTc9DXnZvOgAepTG8hN74ABNOO7rqrQYub%2B88z7fL%2FOdS%2F2D3YUhHirXd0IzYclbRQfbec4T6s9s5AtxPlHQQEN5XKwvrjeMtNII%3D&job=7SimaAoplRKkCECrLoqJN1_Rae8EYgbT3IEsev6swFNcEqUb5dbVKw\n",
      "https://www.simplyhired.com/search?q=Data+Engineer&l=texas&cursor=AAsACQBjAAAAAAAAAAAAAAACCRy%2B%2BQEDAQ8gDj4JAO1p8hmYcZyQkVxq8yTtsImR%2BhnverW5Xc97stdWOeJTTc9DXnZvOgAepTG8hN74ABNOO7rqrQYub%2B88z7fL%2FOdS%2F2D3YUhHirXd0IzYclbRQfbec4T6s9s5AtxPlHQQEN5XKwvrjeMtNII%3D&job=-7zyEC_BZBIUj5Zi3esE09MV2BtOU0fKkgZWEQVIV_-qvfSb1qDtAg\n",
      "https://www.simplyhired.com/search?q=Data+Engineer&l=texas&cursor=AAsACQBjAAAAAAAAAAAAAAACCRy%2B%2BQEDAQ8gDj4JAO1p8hmYcZyQkVxq8yTtsImR%2BhnverW5Xc97stdWOeJTTc9DXnZvOgAepTG8hN74ABNOO7rqrQYub%2B88z7fL%2FOdS%2F2D3YUhHirXd0IzYclbRQfbec4T6s9s5AtxPlHQQEN5XKwvrjeMtNII%3D&job=NHsspfPdreeaPWGcEtrqD1zZ-jFEl8mb4k5TftzupIdKYvUbqN7d0A\n",
      "https://www.simplyhired.com/search?q=Data+Engineer&l=texas&cursor=AAsACQBjAAAAAAAAAAAAAAACCRy%2B%2BQEDAQ8gDj4JAO1p8hmYcZyQkVxq8yTtsImR%2BhnverW5Xc97stdWOeJTTc9DXnZvOgAepTG8hN74ABNOO7rqrQYub%2B88z7fL%2FOdS%2F2D3YUhHirXd0IzYclbRQfbec4T6s9s5AtxPlHQQEN5XKwvrjeMtNII%3D&job=kGHU7_bXYIoW59qhSRgyfRTM9qF0UBq2EueF001Cg91eYc9qKZu6Uw\n",
      "https://www.simplyhired.com/search?q=Data+Engineer&l=texas&cursor=AAsACQBjAAAAAAAAAAAAAAACCRy%2B%2BQEDAQ8gDj4JAO1p8hmYcZyQkVxq8yTtsImR%2BhnverW5Xc97stdWOeJTTc9DXnZvOgAepTG8hN74ABNOO7rqrQYub%2B88z7fL%2FOdS%2F2D3YUhHirXd0IzYclbRQfbec4T6s9s5AtxPlHQQEN5XKwvrjeMtNII%3D&job=Pnblc6iNP3rAHmTyM25hxvjj4ygcwIB38F_jj9fc2GmeihZAkPhc4A\n",
      "https://www.simplyhired.com/search?q=Data+Engineer&l=texas&cursor=AAsACQBjAAAAAAAAAAAAAAACCRy%2B%2BQEDAQ8gDj4JAO1p8hmYcZyQkVxq8yTtsImR%2BhnverW5Xc97stdWOeJTTc9DXnZvOgAepTG8hN74ABNOO7rqrQYub%2B88z7fL%2FOdS%2F2D3YUhHirXd0IzYclbRQfbec4T6s9s5AtxPlHQQEN5XKwvrjeMtNII%3D&job=yOxBqKmblu4JsjgLpHq53uZl8DEuAV2lz9fqydGKSGyXXde644E87Q\n"
     ]
    },
    {
     "name": "stderr",
     "output_type": "stream",
     "text": [
      "/tmp/ipykernel_33129/477855742.py:20: FutureWarning: The frame.append method is deprecated and will be removed from pandas in a future version. Use pandas.concat instead.\n",
      "  df = df.append(page_data)\n"
     ]
    },
    {
     "name": "stdout",
     "output_type": "stream",
     "text": [
      "Page Number: 10  Page Link:  https://www.simplyhired.com/search?q=Data+Engineer&l=texas&cursor=AAsACgBuAAAAAAAAAAAAAAACCRy%2B%2BQECAR5gCgTwRgRRSCkCCfNHZWe%2FiU4bMVTJWhVOQdpv2ap%2BDRoTFm6wKMCvuRVKVo7gqUO%2FCq8GsBaxTEXrFPlecqXYJErSAp1boDOwLmXjfxuaUnNIYrussVXtXboVlVwGnkypjqdyk9J8Bioht2E%2FE%2FVUowY%3D\n",
      "https://www.simplyhired.com/search?q=Data+Engineer&l=texas&cursor=AAsACgBuAAAAAAAAAAAAAAACCRy%2B%2BQECAR5gCgTwRgRRSCkCCfNHZWe%2FiU4bMVTJWhVOQdpv2ap%2BDRoTFm6wKMCvuRVKVo7gqUO%2FCq8GsBaxTEXrFPlecqXYJErSAp1boDOwLmXjfxuaUnNIYrussVXtXboVlVwGnkypjqdyk9J8Bioht2E%2FE%2FVUowY%3D&job=4RXXShFepatExHhPCdBGARStJkyemyrEV-lIriXCk9VwRrMdy04Afw\n",
      "https://www.simplyhired.com/search?q=Data+Engineer&l=texas&cursor=AAsACgBuAAAAAAAAAAAAAAACCRy%2B%2BQECAR5gCgTwRgRRSCkCCfNHZWe%2FiU4bMVTJWhVOQdpv2ap%2BDRoTFm6wKMCvuRVKVo7gqUO%2FCq8GsBaxTEXrFPlecqXYJErSAp1boDOwLmXjfxuaUnNIYrussVXtXboVlVwGnkypjqdyk9J8Bioht2E%2FE%2FVUowY%3D&job=fb6PwWS2cCXowWwXs8zXsUf-lGXoyeG-Hl6kwLE53XE4BM8uU3ad9A\n",
      "https://www.simplyhired.com/search?q=Data+Engineer&l=texas&cursor=AAsACgBuAAAAAAAAAAAAAAACCRy%2B%2BQECAR5gCgTwRgRRSCkCCfNHZWe%2FiU4bMVTJWhVOQdpv2ap%2BDRoTFm6wKMCvuRVKVo7gqUO%2FCq8GsBaxTEXrFPlecqXYJErSAp1boDOwLmXjfxuaUnNIYrussVXtXboVlVwGnkypjqdyk9J8Bioht2E%2FE%2FVUowY%3D&job=3NrNJnYhDAb6exvH72ZkSJvi5TnCqZlcwj04_7VB-85gc8Cf9CeOuQ\n",
      "https://www.simplyhired.com/search?q=Data+Engineer&l=texas&cursor=AAsACgBuAAAAAAAAAAAAAAACCRy%2B%2BQECAR5gCgTwRgRRSCkCCfNHZWe%2FiU4bMVTJWhVOQdpv2ap%2BDRoTFm6wKMCvuRVKVo7gqUO%2FCq8GsBaxTEXrFPlecqXYJErSAp1boDOwLmXjfxuaUnNIYrussVXtXboVlVwGnkypjqdyk9J8Bioht2E%2FE%2FVUowY%3D&job=hmMc_wA8FhEONVXHCVIctynn8R4TdZW32uKP8gk3PMMi6R5QynBonw\n",
      "https://www.simplyhired.com/search?q=Data+Engineer&l=texas&cursor=AAsACgBuAAAAAAAAAAAAAAACCRy%2B%2BQECAR5gCgTwRgRRSCkCCfNHZWe%2FiU4bMVTJWhVOQdpv2ap%2BDRoTFm6wKMCvuRVKVo7gqUO%2FCq8GsBaxTEXrFPlecqXYJErSAp1boDOwLmXjfxuaUnNIYrussVXtXboVlVwGnkypjqdyk9J8Bioht2E%2FE%2FVUowY%3D&job=N0VcUVpsxCMqP7RjK41qhRYRYA4ErPr43cwUQrSASxt2trV9Ik_HGg\n",
      "https://www.simplyhired.com/search?q=Data+Engineer&l=texas&cursor=AAsACgBuAAAAAAAAAAAAAAACCRy%2B%2BQECAR5gCgTwRgRRSCkCCfNHZWe%2FiU4bMVTJWhVOQdpv2ap%2BDRoTFm6wKMCvuRVKVo7gqUO%2FCq8GsBaxTEXrFPlecqXYJErSAp1boDOwLmXjfxuaUnNIYrussVXtXboVlVwGnkypjqdyk9J8Bioht2E%2FE%2FVUowY%3D&job=eBiIidOlyG7jyG5E-SPTX3b5obZm0QCSCyqVuyStxVLorFK4xaVHuA\n",
      "https://www.simplyhired.com/search?q=Data+Engineer&l=texas&cursor=AAsACgBuAAAAAAAAAAAAAAACCRy%2B%2BQECAR5gCgTwRgRRSCkCCfNHZWe%2FiU4bMVTJWhVOQdpv2ap%2BDRoTFm6wKMCvuRVKVo7gqUO%2FCq8GsBaxTEXrFPlecqXYJErSAp1boDOwLmXjfxuaUnNIYrussVXtXboVlVwGnkypjqdyk9J8Bioht2E%2FE%2FVUowY%3D&job=G30xfDC60IjnUupN3lwy9VdrRSRVRTv1whC534OUEugGxkIAjrk4fA\n",
      "https://www.simplyhired.com/search?q=Data+Engineer&l=texas&cursor=AAsACgBuAAAAAAAAAAAAAAACCRy%2B%2BQECAR5gCgTwRgRRSCkCCfNHZWe%2FiU4bMVTJWhVOQdpv2ap%2BDRoTFm6wKMCvuRVKVo7gqUO%2FCq8GsBaxTEXrFPlecqXYJErSAp1boDOwLmXjfxuaUnNIYrussVXtXboVlVwGnkypjqdyk9J8Bioht2E%2FE%2FVUowY%3D&job=Ul2kTA2TgbeIPAqQji6EajVV1_iNGjaLKauM8BrNwEZtSoJyd-N1hw\n",
      "https://www.simplyhired.com/search?q=Data+Engineer&l=texas&cursor=AAsACgBuAAAAAAAAAAAAAAACCRy%2B%2BQECAR5gCgTwRgRRSCkCCfNHZWe%2FiU4bMVTJWhVOQdpv2ap%2BDRoTFm6wKMCvuRVKVo7gqUO%2FCq8GsBaxTEXrFPlecqXYJErSAp1boDOwLmXjfxuaUnNIYrussVXtXboVlVwGnkypjqdyk9J8Bioht2E%2FE%2FVUowY%3D&job=YAZtGaewd0L7uCeLxjfpzNXElECQAvYM5llxfnWE0oekLSqPImFnxQ\n",
      "https://www.simplyhired.com/search?q=Data+Engineer&l=texas&cursor=AAsACgBuAAAAAAAAAAAAAAACCRy%2B%2BQECAR5gCgTwRgRRSCkCCfNHZWe%2FiU4bMVTJWhVOQdpv2ap%2BDRoTFm6wKMCvuRVKVo7gqUO%2FCq8GsBaxTEXrFPlecqXYJErSAp1boDOwLmXjfxuaUnNIYrussVXtXboVlVwGnkypjqdyk9J8Bioht2E%2FE%2FVUowY%3D&job=k-Lk8eH8lRgwJmOZGqOMluz2G-AUS5cPQhraRkOe9FveAPRp18yO5A\n",
      "https://www.simplyhired.com/search?q=Data+Engineer&l=texas&cursor=AAsACgBuAAAAAAAAAAAAAAACCRy%2B%2BQECAR5gCgTwRgRRSCkCCfNHZWe%2FiU4bMVTJWhVOQdpv2ap%2BDRoTFm6wKMCvuRVKVo7gqUO%2FCq8GsBaxTEXrFPlecqXYJErSAp1boDOwLmXjfxuaUnNIYrussVXtXboVlVwGnkypjqdyk9J8Bioht2E%2FE%2FVUowY%3D&job=kejBdcgUtSoRMxbJQRqIvdeYYCXgQD2Whl5ypC5wOHrvF2cUiwQ8cA\n"
     ]
    },
    {
     "name": "stderr",
     "output_type": "stream",
     "text": [
      "/tmp/ipykernel_33129/477855742.py:20: FutureWarning: The frame.append method is deprecated and will be removed from pandas in a future version. Use pandas.concat instead.\n",
      "  df = df.append(page_data)\n"
     ]
    },
    {
     "name": "stdout",
     "output_type": "stream",
     "text": [
      "Page Number: 11  Page Link:  https://www.simplyhired.com/search?q=Data+Engineer&l=texas&cursor=AAsACwB5AAAAAAAAAAAAAAACCRy%2B%2BQECAR5gCgQU4jV1GZlC%2F0U6nAu9ND7ewiHp1KYsOngXZgCMaX3U1DbKXFO1nSEceYKc4Wtsv%2F%2FgPUa0RV4kkIlVTsLqQ58rCY2cN4q3vuEdHAhlzYCBw00qcCBveZGSWzD1SsTHZNy%2F0kbk5Fqr5K0wxKa0ySb9ptvECcI%3D\n",
      "https://www.simplyhired.com/search?q=Data+Engineer&l=texas&cursor=AAsACwB5AAAAAAAAAAAAAAACCRy%2B%2BQECAR5gCgQU4jV1GZlC%2F0U6nAu9ND7ewiHp1KYsOngXZgCMaX3U1DbKXFO1nSEceYKc4Wtsv%2F%2FgPUa0RV4kkIlVTsLqQ58rCY2cN4q3vuEdHAhlzYCBw00qcCBveZGSWzD1SsTHZNy%2F0kbk5Fqr5K0wxKa0ySb9ptvECcI%3D&job=xp0HKV7JdlC9DJ8i_QYJnhTWAdYZnS5saDt73HfrZvnx0jhcgO-Zsw\n",
      "https://www.simplyhired.com/search?q=Data+Engineer&l=texas&cursor=AAsACwB5AAAAAAAAAAAAAAACCRy%2B%2BQECAR5gCgQU4jV1GZlC%2F0U6nAu9ND7ewiHp1KYsOngXZgCMaX3U1DbKXFO1nSEceYKc4Wtsv%2F%2FgPUa0RV4kkIlVTsLqQ58rCY2cN4q3vuEdHAhlzYCBw00qcCBveZGSWzD1SsTHZNy%2F0kbk5Fqr5K0wxKa0ySb9ptvECcI%3D&job=t-6uSmUTHW7yuGA7Zeqp59OgZeKjFr-KVVQ88N0YVNuST8kmzir6mg\n",
      "https://www.simplyhired.com/search?q=Data+Engineer&l=texas&cursor=AAsACwB5AAAAAAAAAAAAAAACCRy%2B%2BQECAR5gCgQU4jV1GZlC%2F0U6nAu9ND7ewiHp1KYsOngXZgCMaX3U1DbKXFO1nSEceYKc4Wtsv%2F%2FgPUa0RV4kkIlVTsLqQ58rCY2cN4q3vuEdHAhlzYCBw00qcCBveZGSWzD1SsTHZNy%2F0kbk5Fqr5K0wxKa0ySb9ptvECcI%3D&job=V1xnRFgCHrFsW0rYCRp6OnV12gEIXqXkdrrHV8KH_J5j4yIy5CJV5w\n",
      "https://www.simplyhired.com/search?q=Data+Engineer&l=texas&cursor=AAsACwB5AAAAAAAAAAAAAAACCRy%2B%2BQECAR5gCgQU4jV1GZlC%2F0U6nAu9ND7ewiHp1KYsOngXZgCMaX3U1DbKXFO1nSEceYKc4Wtsv%2F%2FgPUa0RV4kkIlVTsLqQ58rCY2cN4q3vuEdHAhlzYCBw00qcCBveZGSWzD1SsTHZNy%2F0kbk5Fqr5K0wxKa0ySb9ptvECcI%3D&job=HrMAbM2Nm_rDTV0Ds4Gh2ZOKK2Ts0sraYyPyATIs026zmfB6-54z-Q\n",
      "https://www.simplyhired.com/search?q=Data+Engineer&l=texas&cursor=AAsACwB5AAAAAAAAAAAAAAACCRy%2B%2BQECAR5gCgQU4jV1GZlC%2F0U6nAu9ND7ewiHp1KYsOngXZgCMaX3U1DbKXFO1nSEceYKc4Wtsv%2F%2FgPUa0RV4kkIlVTsLqQ58rCY2cN4q3vuEdHAhlzYCBw00qcCBveZGSWzD1SsTHZNy%2F0kbk5Fqr5K0wxKa0ySb9ptvECcI%3D&job=3xJ_fRy5yJ2jZ2r-GiUv4vN3p_fAq6cF-In5YvMYhTC26-q249CC6w\n",
      "https://www.simplyhired.com/search?q=Data+Engineer&l=texas&cursor=AAsACwB5AAAAAAAAAAAAAAACCRy%2B%2BQECAR5gCgQU4jV1GZlC%2F0U6nAu9ND7ewiHp1KYsOngXZgCMaX3U1DbKXFO1nSEceYKc4Wtsv%2F%2FgPUa0RV4kkIlVTsLqQ58rCY2cN4q3vuEdHAhlzYCBw00qcCBveZGSWzD1SsTHZNy%2F0kbk5Fqr5K0wxKa0ySb9ptvECcI%3D&job=Vgjqr5PN1Q668SOdRXtq2DVmkKY-9kXW1Hx2IDjDsMa6CX6kwzjhWA\n",
      "https://www.simplyhired.com/search?q=Data+Engineer&l=texas&cursor=AAsACwB5AAAAAAAAAAAAAAACCRy%2B%2BQECAR5gCgQU4jV1GZlC%2F0U6nAu9ND7ewiHp1KYsOngXZgCMaX3U1DbKXFO1nSEceYKc4Wtsv%2F%2FgPUa0RV4kkIlVTsLqQ58rCY2cN4q3vuEdHAhlzYCBw00qcCBveZGSWzD1SsTHZNy%2F0kbk5Fqr5K0wxKa0ySb9ptvECcI%3D&job=gYF1UD5UcDkApmQYdHhqx93CqDAuSEg7rcFOXo-VInHF2V1EuhR0_A\n",
      "https://www.simplyhired.com/search?q=Data+Engineer&l=texas&cursor=AAsACwB5AAAAAAAAAAAAAAACCRy%2B%2BQECAR5gCgQU4jV1GZlC%2F0U6nAu9ND7ewiHp1KYsOngXZgCMaX3U1DbKXFO1nSEceYKc4Wtsv%2F%2FgPUa0RV4kkIlVTsLqQ58rCY2cN4q3vuEdHAhlzYCBw00qcCBveZGSWzD1SsTHZNy%2F0kbk5Fqr5K0wxKa0ySb9ptvECcI%3D&job=WMz5Sqh5TLE4kfiEt1WAkSinOjH3ZI4tf6-RzR3v3LY_tDY2LUVwgw\n",
      "https://www.simplyhired.com/search?q=Data+Engineer&l=texas&cursor=AAsACwB5AAAAAAAAAAAAAAACCRy%2B%2BQECAR5gCgQU4jV1GZlC%2F0U6nAu9ND7ewiHp1KYsOngXZgCMaX3U1DbKXFO1nSEceYKc4Wtsv%2F%2FgPUa0RV4kkIlVTsLqQ58rCY2cN4q3vuEdHAhlzYCBw00qcCBveZGSWzD1SsTHZNy%2F0kbk5Fqr5K0wxKa0ySb9ptvECcI%3D&job=j-9fj1lLIhTBhQRyPLr-xtoesqDjENKfdB_NCq_F7U9fLZ_mMDb5mQ\n",
      "https://www.simplyhired.com/search?q=Data+Engineer&l=texas&cursor=AAsACwB5AAAAAAAAAAAAAAACCRy%2B%2BQECAR5gCgQU4jV1GZlC%2F0U6nAu9ND7ewiHp1KYsOngXZgCMaX3U1DbKXFO1nSEceYKc4Wtsv%2F%2FgPUa0RV4kkIlVTsLqQ58rCY2cN4q3vuEdHAhlzYCBw00qcCBveZGSWzD1SsTHZNy%2F0kbk5Fqr5K0wxKa0ySb9ptvECcI%3D&job=8Hj3rCwK2UByAE3C1s4kbXkC9Z_4AfXLRXiptn_t-i0Gs9FaaDmPEA\n",
      "https://www.simplyhired.com/search?q=Data+Engineer&l=texas&cursor=AAsACwB5AAAAAAAAAAAAAAACCRy%2B%2BQECAR5gCgQU4jV1GZlC%2F0U6nAu9ND7ewiHp1KYsOngXZgCMaX3U1DbKXFO1nSEceYKc4Wtsv%2F%2FgPUa0RV4kkIlVTsLqQ58rCY2cN4q3vuEdHAhlzYCBw00qcCBveZGSWzD1SsTHZNy%2F0kbk5Fqr5K0wxKa0ySb9ptvECcI%3D&job=0egstGFOL-JNmURsTYqzu8gWoUVNzYx57A2mi3VVguhAAv891OCwIg\n"
     ]
    },
    {
     "name": "stderr",
     "output_type": "stream",
     "text": [
      "/tmp/ipykernel_33129/477855742.py:20: FutureWarning: The frame.append method is deprecated and will be removed from pandas in a future version. Use pandas.concat instead.\n",
      "  df = df.append(page_data)\n"
     ]
    },
    {
     "name": "stdout",
     "output_type": "stream",
     "text": [
      "Page Number: 12  Page Link:  https://www.simplyhired.com/search?q=Data+Engineer&l=texas&cursor=AAsADACEAAAAAAAAAAAAAAACCRy%2B%2BQECAR5gCgFnCAVItIb3V7jHdj%2BFz%2BIp9liaoDIMpGFGfIqvEqiACAR12XI%2FLwyTxXnHC6ECKFErgK5lYfZWedGdpCWMENdwTfUCVWB2pbe049dpR%2Bswaq4IfilvSF8g37UozNVxi7KNkGL2R%2B%2FRGCbY%2FYyikgmWwacXnkrzRBg%3D\n",
      "https://www.simplyhired.com/search?q=Data+Engineer&l=texas&cursor=AAsADACEAAAAAAAAAAAAAAACCRy%2B%2BQECAR5gCgFnCAVItIb3V7jHdj%2BFz%2BIp9liaoDIMpGFGfIqvEqiACAR12XI%2FLwyTxXnHC6ECKFErgK5lYfZWedGdpCWMENdwTfUCVWB2pbe049dpR%2Bswaq4IfilvSF8g37UozNVxi7KNkGL2R%2B%2FRGCbY%2FYyikgmWwacXnkrzRBg%3D&job=Bf6Bf1qJSp0xhYD06u7hQOxN--ci67gWx_0RdegsDFOVkTlb17laYA\n",
      "https://www.simplyhired.com/search?q=Data+Engineer&l=texas&cursor=AAsADACEAAAAAAAAAAAAAAACCRy%2B%2BQECAR5gCgFnCAVItIb3V7jHdj%2BFz%2BIp9liaoDIMpGFGfIqvEqiACAR12XI%2FLwyTxXnHC6ECKFErgK5lYfZWedGdpCWMENdwTfUCVWB2pbe049dpR%2Bswaq4IfilvSF8g37UozNVxi7KNkGL2R%2B%2FRGCbY%2FYyikgmWwacXnkrzRBg%3D&job=uLgQDU57f55VSvD--DDJCbXmj-dqhKgVfW4W4xObYPXAgNOlp7MXBw\n",
      "https://www.simplyhired.com/search?q=Data+Engineer&l=texas&cursor=AAsADACEAAAAAAAAAAAAAAACCRy%2B%2BQECAR5gCgFnCAVItIb3V7jHdj%2BFz%2BIp9liaoDIMpGFGfIqvEqiACAR12XI%2FLwyTxXnHC6ECKFErgK5lYfZWedGdpCWMENdwTfUCVWB2pbe049dpR%2Bswaq4IfilvSF8g37UozNVxi7KNkGL2R%2B%2FRGCbY%2FYyikgmWwacXnkrzRBg%3D&job=csJTCdDcouTS4DMbDqQqs4in9FQky3Ng2lu5ALSY7QgnKl1ZuNtIRw\n",
      "https://www.simplyhired.com/search?q=Data+Engineer&l=texas&cursor=AAsADACEAAAAAAAAAAAAAAACCRy%2B%2BQECAR5gCgFnCAVItIb3V7jHdj%2BFz%2BIp9liaoDIMpGFGfIqvEqiACAR12XI%2FLwyTxXnHC6ECKFErgK5lYfZWedGdpCWMENdwTfUCVWB2pbe049dpR%2Bswaq4IfilvSF8g37UozNVxi7KNkGL2R%2B%2FRGCbY%2FYyikgmWwacXnkrzRBg%3D&job=QS2yzxxqAyK9uvgO28CPqYs4v4Me76REURfuj3zH_hS1lhMaTAoK1w\n",
      "https://www.simplyhired.com/search?q=Data+Engineer&l=texas&cursor=AAsADACEAAAAAAAAAAAAAAACCRy%2B%2BQECAR5gCgFnCAVItIb3V7jHdj%2BFz%2BIp9liaoDIMpGFGfIqvEqiACAR12XI%2FLwyTxXnHC6ECKFErgK5lYfZWedGdpCWMENdwTfUCVWB2pbe049dpR%2Bswaq4IfilvSF8g37UozNVxi7KNkGL2R%2B%2FRGCbY%2FYyikgmWwacXnkrzRBg%3D&job=755VJ0Rj92kJYogHO8tPobP8QxGQYGyGyt6rNBQMcRWWVzvwt9hOPg\n",
      "https://www.simplyhired.com/search?q=Data+Engineer&l=texas&cursor=AAsADACEAAAAAAAAAAAAAAACCRy%2B%2BQECAR5gCgFnCAVItIb3V7jHdj%2BFz%2BIp9liaoDIMpGFGfIqvEqiACAR12XI%2FLwyTxXnHC6ECKFErgK5lYfZWedGdpCWMENdwTfUCVWB2pbe049dpR%2Bswaq4IfilvSF8g37UozNVxi7KNkGL2R%2B%2FRGCbY%2FYyikgmWwacXnkrzRBg%3D&job=FroLui0qp2-rDL90aBsoO5QsPB_-qTR8G4y9NJFYmbE0RoZVXm_LSA\n",
      "https://www.simplyhired.com/search?q=Data+Engineer&l=texas&cursor=AAsADACEAAAAAAAAAAAAAAACCRy%2B%2BQECAR5gCgFnCAVItIb3V7jHdj%2BFz%2BIp9liaoDIMpGFGfIqvEqiACAR12XI%2FLwyTxXnHC6ECKFErgK5lYfZWedGdpCWMENdwTfUCVWB2pbe049dpR%2Bswaq4IfilvSF8g37UozNVxi7KNkGL2R%2B%2FRGCbY%2FYyikgmWwacXnkrzRBg%3D&job=4QCoyNXRWFjtsR72JAWnwZVIOlzbwqSrkbG7PCNI-TavIkHnTE0IVA\n",
      "https://www.simplyhired.com/search?q=Data+Engineer&l=texas&cursor=AAsADACEAAAAAAAAAAAAAAACCRy%2B%2BQECAR5gCgFnCAVItIb3V7jHdj%2BFz%2BIp9liaoDIMpGFGfIqvEqiACAR12XI%2FLwyTxXnHC6ECKFErgK5lYfZWedGdpCWMENdwTfUCVWB2pbe049dpR%2Bswaq4IfilvSF8g37UozNVxi7KNkGL2R%2B%2FRGCbY%2FYyikgmWwacXnkrzRBg%3D&job=QQOhhUsT__ZIJiF0yPIxDdOhmngFvvBX0FGlaFSMAVp_2GqdeWgziA\n",
      "https://www.simplyhired.com/search?q=Data+Engineer&l=texas&cursor=AAsADACEAAAAAAAAAAAAAAACCRy%2B%2BQECAR5gCgFnCAVItIb3V7jHdj%2BFz%2BIp9liaoDIMpGFGfIqvEqiACAR12XI%2FLwyTxXnHC6ECKFErgK5lYfZWedGdpCWMENdwTfUCVWB2pbe049dpR%2Bswaq4IfilvSF8g37UozNVxi7KNkGL2R%2B%2FRGCbY%2FYyikgmWwacXnkrzRBg%3D&job=8MpaH4Fdgb5_ea9YmzdismJNh8V2ilEXfjHKoOMCb0t8NZkZLK0DDw\n",
      "https://www.simplyhired.com/search?q=Data+Engineer&l=texas&cursor=AAsADACEAAAAAAAAAAAAAAACCRy%2B%2BQECAR5gCgFnCAVItIb3V7jHdj%2BFz%2BIp9liaoDIMpGFGfIqvEqiACAR12XI%2FLwyTxXnHC6ECKFErgK5lYfZWedGdpCWMENdwTfUCVWB2pbe049dpR%2Bswaq4IfilvSF8g37UozNVxi7KNkGL2R%2B%2FRGCbY%2FYyikgmWwacXnkrzRBg%3D&job=hvVsUavtP6mI003cfVmdoES4Xv8kLqOEc_jyPLDxbdDOIKs8EA7RKQ\n",
      "https://www.simplyhired.com/search?q=Data+Engineer&l=texas&cursor=AAsADACEAAAAAAAAAAAAAAACCRy%2B%2BQECAR5gCgFnCAVItIb3V7jHdj%2BFz%2BIp9liaoDIMpGFGfIqvEqiACAR12XI%2FLwyTxXnHC6ECKFErgK5lYfZWedGdpCWMENdwTfUCVWB2pbe049dpR%2Bswaq4IfilvSF8g37UozNVxi7KNkGL2R%2B%2FRGCbY%2FYyikgmWwacXnkrzRBg%3D&job=gs53LOfDjp0BgH5uEj_sV0Vw-8eHl9MTh2vL_7kq_oL2RJoB68dQpw\n"
     ]
    },
    {
     "name": "stderr",
     "output_type": "stream",
     "text": [
      "/tmp/ipykernel_33129/477855742.py:20: FutureWarning: The frame.append method is deprecated and will be removed from pandas in a future version. Use pandas.concat instead.\n",
      "  df = df.append(page_data)\n"
     ]
    },
    {
     "name": "stdout",
     "output_type": "stream",
     "text": [
      "Page Number: 13  Page Link:  https://www.simplyhired.com/search?q=Data+Engineer&l=texas&cursor=AAsADQCPAAAAAAAAAAAAAAACCRy%2B%2BQECAR9gCgO1toNABwNmgSAiNG4c1XIySQA3TMMi5Z%2Bhgky%2FKp2tsj5gcAms8Arbk8bFJn6t%2BonQg9U9h%2B7FuAFh8kL44MaHHLYl9iCXEdsl%2B7ViRgbSujiO2xaHyohgr6XVDLvLKgbBunFPzQEIWvyIzKVvMDa%2FZAI7yswHBMddNjVf\n",
      "https://www.simplyhired.com/search?q=Data+Engineer&l=texas&cursor=AAsADQCPAAAAAAAAAAAAAAACCRy%2B%2BQECAR9gCgO1toNABwNmgSAiNG4c1XIySQA3TMMi5Z%2Bhgky%2FKp2tsj5gcAms8Arbk8bFJn6t%2BonQg9U9h%2B7FuAFh8kL44MaHHLYl9iCXEdsl%2B7ViRgbSujiO2xaHyohgr6XVDLvLKgbBunFPzQEIWvyIzKVvMDa%2FZAI7yswHBMddNjVf&job=99MTFUVnonBQZrenq6f98kDZoCPWCBYuxhotPWPPl2DFFdjk0M1NAg\n",
      "https://www.simplyhired.com/search?q=Data+Engineer&l=texas&cursor=AAsADQCPAAAAAAAAAAAAAAACCRy%2B%2BQECAR9gCgO1toNABwNmgSAiNG4c1XIySQA3TMMi5Z%2Bhgky%2FKp2tsj5gcAms8Arbk8bFJn6t%2BonQg9U9h%2B7FuAFh8kL44MaHHLYl9iCXEdsl%2B7ViRgbSujiO2xaHyohgr6XVDLvLKgbBunFPzQEIWvyIzKVvMDa%2FZAI7yswHBMddNjVf&job=IL1X1q3fY-emBYPO_ccwDMHEG7wf90R8uxpvnCjyuqP1QumGkDO5oA\n",
      "https://www.simplyhired.com/search?q=Data+Engineer&l=texas&cursor=AAsADQCPAAAAAAAAAAAAAAACCRy%2B%2BQECAR9gCgO1toNABwNmgSAiNG4c1XIySQA3TMMi5Z%2Bhgky%2FKp2tsj5gcAms8Arbk8bFJn6t%2BonQg9U9h%2B7FuAFh8kL44MaHHLYl9iCXEdsl%2B7ViRgbSujiO2xaHyohgr6XVDLvLKgbBunFPzQEIWvyIzKVvMDa%2FZAI7yswHBMddNjVf&job=MNoZrzwsJ6HEL2BVn7FxMUz1lLGj-Z9aSbevknyJf7ec4OKI46zVmg\n",
      "https://www.simplyhired.com/search?q=Data+Engineer&l=texas&cursor=AAsADQCPAAAAAAAAAAAAAAACCRy%2B%2BQECAR9gCgO1toNABwNmgSAiNG4c1XIySQA3TMMi5Z%2Bhgky%2FKp2tsj5gcAms8Arbk8bFJn6t%2BonQg9U9h%2B7FuAFh8kL44MaHHLYl9iCXEdsl%2B7ViRgbSujiO2xaHyohgr6XVDLvLKgbBunFPzQEIWvyIzKVvMDa%2FZAI7yswHBMddNjVf&job=sA1MXlZ_7oVW5g5YrJl3Nl9vafcho4oHoTeLldJxP1OZhKZpziTPww\n",
      "https://www.simplyhired.com/search?q=Data+Engineer&l=texas&cursor=AAsADQCPAAAAAAAAAAAAAAACCRy%2B%2BQECAR9gCgO1toNABwNmgSAiNG4c1XIySQA3TMMi5Z%2Bhgky%2FKp2tsj5gcAms8Arbk8bFJn6t%2BonQg9U9h%2B7FuAFh8kL44MaHHLYl9iCXEdsl%2B7ViRgbSujiO2xaHyohgr6XVDLvLKgbBunFPzQEIWvyIzKVvMDa%2FZAI7yswHBMddNjVf&job=evYzgF1fDtDlNbVsa1lkrVlV2Twg6wkENVMy8NbbzJ2MKfw7arf6iQ\n",
      "https://www.simplyhired.com/search?q=Data+Engineer&l=texas&cursor=AAsADQCPAAAAAAAAAAAAAAACCRy%2B%2BQECAR9gCgO1toNABwNmgSAiNG4c1XIySQA3TMMi5Z%2Bhgky%2FKp2tsj5gcAms8Arbk8bFJn6t%2BonQg9U9h%2B7FuAFh8kL44MaHHLYl9iCXEdsl%2B7ViRgbSujiO2xaHyohgr6XVDLvLKgbBunFPzQEIWvyIzKVvMDa%2FZAI7yswHBMddNjVf&job=tJ-NP8iF-928xexNmFhowSdMgwO6kHrY-ughWTC-ND2RWgbfjt9nfg\n",
      "https://www.simplyhired.com/search?q=Data+Engineer&l=texas&cursor=AAsADQCPAAAAAAAAAAAAAAACCRy%2B%2BQECAR9gCgO1toNABwNmgSAiNG4c1XIySQA3TMMi5Z%2Bhgky%2FKp2tsj5gcAms8Arbk8bFJn6t%2BonQg9U9h%2B7FuAFh8kL44MaHHLYl9iCXEdsl%2B7ViRgbSujiO2xaHyohgr6XVDLvLKgbBunFPzQEIWvyIzKVvMDa%2FZAI7yswHBMddNjVf&job=0hummGudE4o3Pv0waofDGamejBIKqobCFqfKMMbhtp7jgaoPLgLAiw\n",
      "https://www.simplyhired.com/search?q=Data+Engineer&l=texas&cursor=AAsADQCPAAAAAAAAAAAAAAACCRy%2B%2BQECAR9gCgO1toNABwNmgSAiNG4c1XIySQA3TMMi5Z%2Bhgky%2FKp2tsj5gcAms8Arbk8bFJn6t%2BonQg9U9h%2B7FuAFh8kL44MaHHLYl9iCXEdsl%2B7ViRgbSujiO2xaHyohgr6XVDLvLKgbBunFPzQEIWvyIzKVvMDa%2FZAI7yswHBMddNjVf&job=utAplPbMkfZ7B8oZt2IvLN1S8B-_TCg4xSikfDmqLPRocslyxOm4sg\n",
      "https://www.simplyhired.com/search?q=Data+Engineer&l=texas&cursor=AAsADQCPAAAAAAAAAAAAAAACCRy%2B%2BQECAR9gCgO1toNABwNmgSAiNG4c1XIySQA3TMMi5Z%2Bhgky%2FKp2tsj5gcAms8Arbk8bFJn6t%2BonQg9U9h%2B7FuAFh8kL44MaHHLYl9iCXEdsl%2B7ViRgbSujiO2xaHyohgr6XVDLvLKgbBunFPzQEIWvyIzKVvMDa%2FZAI7yswHBMddNjVf&job=wQBPEWJaiesGL3QesWcnn2NzuK4zIjcDIg8HSH2PpyfD4-f6iSZW4A\n",
      "https://www.simplyhired.com/search?q=Data+Engineer&l=texas&cursor=AAsADQCPAAAAAAAAAAAAAAACCRy%2B%2BQECAR9gCgO1toNABwNmgSAiNG4c1XIySQA3TMMi5Z%2Bhgky%2FKp2tsj5gcAms8Arbk8bFJn6t%2BonQg9U9h%2B7FuAFh8kL44MaHHLYl9iCXEdsl%2B7ViRgbSujiO2xaHyohgr6XVDLvLKgbBunFPzQEIWvyIzKVvMDa%2FZAI7yswHBMddNjVf&job=Z0DIl3yKhpC8V5WxuQzDjkH1HSf3YjZIAk5AqKqKb-GLIKotRx130g\n",
      "https://www.simplyhired.com/search?q=Data+Engineer&l=texas&cursor=AAsADQCPAAAAAAAAAAAAAAACCRy%2B%2BQECAR9gCgO1toNABwNmgSAiNG4c1XIySQA3TMMi5Z%2Bhgky%2FKp2tsj5gcAms8Arbk8bFJn6t%2BonQg9U9h%2B7FuAFh8kL44MaHHLYl9iCXEdsl%2B7ViRgbSujiO2xaHyohgr6XVDLvLKgbBunFPzQEIWvyIzKVvMDa%2FZAI7yswHBMddNjVf&job=cToL5Hk37e4sB849dUqxyjJU9zOKmbLIoRDhRM3xAbmx91eGtFIcfA\n"
     ]
    },
    {
     "name": "stderr",
     "output_type": "stream",
     "text": [
      "/tmp/ipykernel_33129/477855742.py:20: FutureWarning: The frame.append method is deprecated and will be removed from pandas in a future version. Use pandas.concat instead.\n",
      "  df = df.append(page_data)\n"
     ]
    },
    {
     "name": "stdout",
     "output_type": "stream",
     "text": [
      "Page Number: 14  Page Link:  https://www.simplyhired.com/search?q=Data+Engineer&l=texas&cursor=AAsADgCaAAAAAAAAAAAAAAACCRy%2B%2BQEDASFgCiAGVF0gHvbOKET9x2awqkVv2eK9cq05lTeF8d5Rbg2ny%2F8W2K1YbhkEe5e1rw4z8CWjb9V7EPy3UUd6hfErYfx6c08yb9O%2B8FF4cfEQ6au2mEpy031ZyNsN0Mv1L9dZXoV%2B2mfTQLrcfkLmvhvGS5u7uuz7mXNJv9TW13uiPFk1p621\n",
      "https://www.simplyhired.com/search?q=Data+Engineer&l=texas&cursor=AAsADgCaAAAAAAAAAAAAAAACCRy%2B%2BQEDASFgCiAGVF0gHvbOKET9x2awqkVv2eK9cq05lTeF8d5Rbg2ny%2F8W2K1YbhkEe5e1rw4z8CWjb9V7EPy3UUd6hfErYfx6c08yb9O%2B8FF4cfEQ6au2mEpy031ZyNsN0Mv1L9dZXoV%2B2mfTQLrcfkLmvhvGS5u7uuz7mXNJv9TW13uiPFk1p621&job=I0K07xPKC8jJHQEcF2RFk5HfHIl0_wUchztoAVXAhzGYALryngkt-g\n",
      "https://www.simplyhired.com/search?q=Data+Engineer&l=texas&cursor=AAsADgCaAAAAAAAAAAAAAAACCRy%2B%2BQEDASFgCiAGVF0gHvbOKET9x2awqkVv2eK9cq05lTeF8d5Rbg2ny%2F8W2K1YbhkEe5e1rw4z8CWjb9V7EPy3UUd6hfErYfx6c08yb9O%2B8FF4cfEQ6au2mEpy031ZyNsN0Mv1L9dZXoV%2B2mfTQLrcfkLmvhvGS5u7uuz7mXNJv9TW13uiPFk1p621&job=rd8-_IvXQdEAVto5VAQh56SfuhM6Og1AGQpQE7FGi1iclPalfafDcA\n",
      "https://www.simplyhired.com/search?q=Data+Engineer&l=texas&cursor=AAsADgCaAAAAAAAAAAAAAAACCRy%2B%2BQEDASFgCiAGVF0gHvbOKET9x2awqkVv2eK9cq05lTeF8d5Rbg2ny%2F8W2K1YbhkEe5e1rw4z8CWjb9V7EPy3UUd6hfErYfx6c08yb9O%2B8FF4cfEQ6au2mEpy031ZyNsN0Mv1L9dZXoV%2B2mfTQLrcfkLmvhvGS5u7uuz7mXNJv9TW13uiPFk1p621&job=-nSrJV4PBzeDdE7qX3XMZenQELRdfvfUY84QoXtK4WtduwdW2johEA\n",
      "https://www.simplyhired.com/search?q=Data+Engineer&l=texas&cursor=AAsADgCaAAAAAAAAAAAAAAACCRy%2B%2BQEDASFgCiAGVF0gHvbOKET9x2awqkVv2eK9cq05lTeF8d5Rbg2ny%2F8W2K1YbhkEe5e1rw4z8CWjb9V7EPy3UUd6hfErYfx6c08yb9O%2B8FF4cfEQ6au2mEpy031ZyNsN0Mv1L9dZXoV%2B2mfTQLrcfkLmvhvGS5u7uuz7mXNJv9TW13uiPFk1p621&job=3Ihf4cF5BbjgLuBdHc2YYKjitJZzC9Po8O8d9BX_s6pjX4POBLVPIQ\n",
      "https://www.simplyhired.com/search?q=Data+Engineer&l=texas&cursor=AAsADgCaAAAAAAAAAAAAAAACCRy%2B%2BQEDASFgCiAGVF0gHvbOKET9x2awqkVv2eK9cq05lTeF8d5Rbg2ny%2F8W2K1YbhkEe5e1rw4z8CWjb9V7EPy3UUd6hfErYfx6c08yb9O%2B8FF4cfEQ6au2mEpy031ZyNsN0Mv1L9dZXoV%2B2mfTQLrcfkLmvhvGS5u7uuz7mXNJv9TW13uiPFk1p621&job=4j7wLkuCNxrvZIkZGNl8re4iZ2FACLmxovumCca2PYR1O_ebpmqd6A\n",
      "https://www.simplyhired.com/search?q=Data+Engineer&l=texas&cursor=AAsADgCaAAAAAAAAAAAAAAACCRy%2B%2BQEDASFgCiAGVF0gHvbOKET9x2awqkVv2eK9cq05lTeF8d5Rbg2ny%2F8W2K1YbhkEe5e1rw4z8CWjb9V7EPy3UUd6hfErYfx6c08yb9O%2B8FF4cfEQ6au2mEpy031ZyNsN0Mv1L9dZXoV%2B2mfTQLrcfkLmvhvGS5u7uuz7mXNJv9TW13uiPFk1p621&job=D_EMKXlqDD6f2_lZVZsvoAjT1uHljvW5vFryPrZi9njtDaCWIZBTvA\n",
      "https://www.simplyhired.com/search?q=Data+Engineer&l=texas&cursor=AAsADgCaAAAAAAAAAAAAAAACCRy%2B%2BQEDASFgCiAGVF0gHvbOKET9x2awqkVv2eK9cq05lTeF8d5Rbg2ny%2F8W2K1YbhkEe5e1rw4z8CWjb9V7EPy3UUd6hfErYfx6c08yb9O%2B8FF4cfEQ6au2mEpy031ZyNsN0Mv1L9dZXoV%2B2mfTQLrcfkLmvhvGS5u7uuz7mXNJv9TW13uiPFk1p621&job=5BEjSLo9iRPUyWAkFYojMufO7DxocoQJc-_KYmaM2Cz-AnYjhIq9WQ\n",
      "https://www.simplyhired.com/search?q=Data+Engineer&l=texas&cursor=AAsADgCaAAAAAAAAAAAAAAACCRy%2B%2BQEDASFgCiAGVF0gHvbOKET9x2awqkVv2eK9cq05lTeF8d5Rbg2ny%2F8W2K1YbhkEe5e1rw4z8CWjb9V7EPy3UUd6hfErYfx6c08yb9O%2B8FF4cfEQ6au2mEpy031ZyNsN0Mv1L9dZXoV%2B2mfTQLrcfkLmvhvGS5u7uuz7mXNJv9TW13uiPFk1p621&job=U6QRfocXaf91bhTEdujxysR84W-PNXJJKLptAH5QMvvugVt876Wjjw\n",
      "https://www.simplyhired.com/search?q=Data+Engineer&l=texas&cursor=AAsADgCaAAAAAAAAAAAAAAACCRy%2B%2BQEDASFgCiAGVF0gHvbOKET9x2awqkVv2eK9cq05lTeF8d5Rbg2ny%2F8W2K1YbhkEe5e1rw4z8CWjb9V7EPy3UUd6hfErYfx6c08yb9O%2B8FF4cfEQ6au2mEpy031ZyNsN0Mv1L9dZXoV%2B2mfTQLrcfkLmvhvGS5u7uuz7mXNJv9TW13uiPFk1p621&job=lq7qxiErbzxMIz3CKrqaAwDGz8A8FnMvDj1DxMqZYnuzQRN836zMcA\n",
      "https://www.simplyhired.com/search?q=Data+Engineer&l=texas&cursor=AAsADgCaAAAAAAAAAAAAAAACCRy%2B%2BQEDASFgCiAGVF0gHvbOKET9x2awqkVv2eK9cq05lTeF8d5Rbg2ny%2F8W2K1YbhkEe5e1rw4z8CWjb9V7EPy3UUd6hfErYfx6c08yb9O%2B8FF4cfEQ6au2mEpy031ZyNsN0Mv1L9dZXoV%2B2mfTQLrcfkLmvhvGS5u7uuz7mXNJv9TW13uiPFk1p621&job=4qnKXHQrlNoGdCK2-R8b_TcZ3RlZbzdyDX44fInBl1et2Hop_U_BYw\n",
      "https://www.simplyhired.com/search?q=Data+Engineer&l=texas&cursor=AAsADgCaAAAAAAAAAAAAAAACCRy%2B%2BQEDASFgCiAGVF0gHvbOKET9x2awqkVv2eK9cq05lTeF8d5Rbg2ny%2F8W2K1YbhkEe5e1rw4z8CWjb9V7EPy3UUd6hfErYfx6c08yb9O%2B8FF4cfEQ6au2mEpy031ZyNsN0Mv1L9dZXoV%2B2mfTQLrcfkLmvhvGS5u7uuz7mXNJv9TW13uiPFk1p621&job=O0EaP6BcI_J5-Dt_cggzWAZaJzfM4n5VclpAewULpXkSqN5jVA94cA\n"
     ]
    },
    {
     "name": "stderr",
     "output_type": "stream",
     "text": [
      "/tmp/ipykernel_33129/477855742.py:20: FutureWarning: The frame.append method is deprecated and will be removed from pandas in a future version. Use pandas.concat instead.\n",
      "  df = df.append(page_data)\n"
     ]
    },
    {
     "name": "stdout",
     "output_type": "stream",
     "text": [
      "Page Number: 15  Page Link:  https://www.simplyhired.com/search?q=Data+Engineer&l=texas&cursor=AAsADwClAAAAAAAAAAAAAAACCRy%2B%2BQECASVWD3EM8H2vDrdMExHiLndn918i93wq0LdkX3sF3iUe6nbwyw7KQJYW5atCa9hkgKbU9syRjQyVwTDUlK6k76%2FXKVZLevCpvK28AjkYGaP6NeCPMwYeYKFbyEo54EQshgBiBU6plyKUoyZnhBMIfX5Vt7OW0C5Jo3PdfDVYDKpm3j7pX0g%3D\n",
      "https://www.simplyhired.com/search?q=Data+Engineer&l=texas&cursor=AAsADwClAAAAAAAAAAAAAAACCRy%2B%2BQECASVWD3EM8H2vDrdMExHiLndn918i93wq0LdkX3sF3iUe6nbwyw7KQJYW5atCa9hkgKbU9syRjQyVwTDUlK6k76%2FXKVZLevCpvK28AjkYGaP6NeCPMwYeYKFbyEo54EQshgBiBU6plyKUoyZnhBMIfX5Vt7OW0C5Jo3PdfDVYDKpm3j7pX0g%3D&job=k-JTXeV8QfW-7iOxj5U3ar-I1kwNaGiw4CqaQbEalyqaPyBPMClloQ\n",
      "https://www.simplyhired.com/search?q=Data+Engineer&l=texas&cursor=AAsADwClAAAAAAAAAAAAAAACCRy%2B%2BQECASVWD3EM8H2vDrdMExHiLndn918i93wq0LdkX3sF3iUe6nbwyw7KQJYW5atCa9hkgKbU9syRjQyVwTDUlK6k76%2FXKVZLevCpvK28AjkYGaP6NeCPMwYeYKFbyEo54EQshgBiBU6plyKUoyZnhBMIfX5Vt7OW0C5Jo3PdfDVYDKpm3j7pX0g%3D&job=fNAUeo6AgcJKnYJHWrTIpbKWlo_ENR4OfdNkW3or1XGub4mf2jrGtw\n",
      "https://www.simplyhired.com/search?q=Data+Engineer&l=texas&cursor=AAsADwClAAAAAAAAAAAAAAACCRy%2B%2BQECASVWD3EM8H2vDrdMExHiLndn918i93wq0LdkX3sF3iUe6nbwyw7KQJYW5atCa9hkgKbU9syRjQyVwTDUlK6k76%2FXKVZLevCpvK28AjkYGaP6NeCPMwYeYKFbyEo54EQshgBiBU6plyKUoyZnhBMIfX5Vt7OW0C5Jo3PdfDVYDKpm3j7pX0g%3D&job=4XlSNPDIRAl--VNZkXUxnPfg6EGEt0--nE-b0UcbE33SxfMgqSsj9w\n",
      "https://www.simplyhired.com/search?q=Data+Engineer&l=texas&cursor=AAsADwClAAAAAAAAAAAAAAACCRy%2B%2BQECASVWD3EM8H2vDrdMExHiLndn918i93wq0LdkX3sF3iUe6nbwyw7KQJYW5atCa9hkgKbU9syRjQyVwTDUlK6k76%2FXKVZLevCpvK28AjkYGaP6NeCPMwYeYKFbyEo54EQshgBiBU6plyKUoyZnhBMIfX5Vt7OW0C5Jo3PdfDVYDKpm3j7pX0g%3D&job=ezT6Xo6fRjwmmUVRkBeQAfigTyUekYNa3sF0XMG1qMPwrTEPpuhGug\n",
      "https://www.simplyhired.com/search?q=Data+Engineer&l=texas&cursor=AAsADwClAAAAAAAAAAAAAAACCRy%2B%2BQECASVWD3EM8H2vDrdMExHiLndn918i93wq0LdkX3sF3iUe6nbwyw7KQJYW5atCa9hkgKbU9syRjQyVwTDUlK6k76%2FXKVZLevCpvK28AjkYGaP6NeCPMwYeYKFbyEo54EQshgBiBU6plyKUoyZnhBMIfX5Vt7OW0C5Jo3PdfDVYDKpm3j7pX0g%3D&job=Puf4zBB5H2pDp48goxl2J0QRwLQhO_937ysdpj27v1xxy8rLhtE_-Q\n",
      "https://www.simplyhired.com/search?q=Data+Engineer&l=texas&cursor=AAsADwClAAAAAAAAAAAAAAACCRy%2B%2BQECASVWD3EM8H2vDrdMExHiLndn918i93wq0LdkX3sF3iUe6nbwyw7KQJYW5atCa9hkgKbU9syRjQyVwTDUlK6k76%2FXKVZLevCpvK28AjkYGaP6NeCPMwYeYKFbyEo54EQshgBiBU6plyKUoyZnhBMIfX5Vt7OW0C5Jo3PdfDVYDKpm3j7pX0g%3D&job=hW4xx7RZ0OUIZCV0-Fgi6XvzTNta1sSVknzJWRHP3EescReqwpBnHg\n",
      "https://www.simplyhired.com/search?q=Data+Engineer&l=texas&cursor=AAsADwClAAAAAAAAAAAAAAACCRy%2B%2BQECASVWD3EM8H2vDrdMExHiLndn918i93wq0LdkX3sF3iUe6nbwyw7KQJYW5atCa9hkgKbU9syRjQyVwTDUlK6k76%2FXKVZLevCpvK28AjkYGaP6NeCPMwYeYKFbyEo54EQshgBiBU6plyKUoyZnhBMIfX5Vt7OW0C5Jo3PdfDVYDKpm3j7pX0g%3D&job=D8wGD0A3eHDb8sZbV5YERBoVoDQK8ge3w3qovcWSwdn05D3op1ppbg\n",
      "https://www.simplyhired.com/search?q=Data+Engineer&l=texas&cursor=AAsADwClAAAAAAAAAAAAAAACCRy%2B%2BQECASVWD3EM8H2vDrdMExHiLndn918i93wq0LdkX3sF3iUe6nbwyw7KQJYW5atCa9hkgKbU9syRjQyVwTDUlK6k76%2FXKVZLevCpvK28AjkYGaP6NeCPMwYeYKFbyEo54EQshgBiBU6plyKUoyZnhBMIfX5Vt7OW0C5Jo3PdfDVYDKpm3j7pX0g%3D&job=WPTuPB5VDflpPV0KLCUdzolyPrZoHKRWMsSXDKC3idfQ8q16rNTfcw\n",
      "https://www.simplyhired.com/search?q=Data+Engineer&l=texas&cursor=AAsADwClAAAAAAAAAAAAAAACCRy%2B%2BQECASVWD3EM8H2vDrdMExHiLndn918i93wq0LdkX3sF3iUe6nbwyw7KQJYW5atCa9hkgKbU9syRjQyVwTDUlK6k76%2FXKVZLevCpvK28AjkYGaP6NeCPMwYeYKFbyEo54EQshgBiBU6plyKUoyZnhBMIfX5Vt7OW0C5Jo3PdfDVYDKpm3j7pX0g%3D&job=ubTIXdBLBCK7edfoYeVWmolTVjOdKUeV7Z6ArmEj4JBGLLZSrpsMYw\n",
      "https://www.simplyhired.com/search?q=Data+Engineer&l=texas&cursor=AAsADwClAAAAAAAAAAAAAAACCRy%2B%2BQECASVWD3EM8H2vDrdMExHiLndn918i93wq0LdkX3sF3iUe6nbwyw7KQJYW5atCa9hkgKbU9syRjQyVwTDUlK6k76%2FXKVZLevCpvK28AjkYGaP6NeCPMwYeYKFbyEo54EQshgBiBU6plyKUoyZnhBMIfX5Vt7OW0C5Jo3PdfDVYDKpm3j7pX0g%3D&job=IeIw33JD7U4lyoQuV7da1H3NHL-2IDE6vny-Nq0l-fm2I0t7Ljizrw\n",
      "https://www.simplyhired.com/search?q=Data+Engineer&l=texas&cursor=AAsADwClAAAAAAAAAAAAAAACCRy%2B%2BQECASVWD3EM8H2vDrdMExHiLndn918i93wq0LdkX3sF3iUe6nbwyw7KQJYW5atCa9hkgKbU9syRjQyVwTDUlK6k76%2FXKVZLevCpvK28AjkYGaP6NeCPMwYeYKFbyEo54EQshgBiBU6plyKUoyZnhBMIfX5Vt7OW0C5Jo3PdfDVYDKpm3j7pX0g%3D&job=UhWV0TZqwazn5Ex-m6bryl6YP_ny_3XD2shNRYCgmslrhooziQ1jVA\n"
     ]
    },
    {
     "name": "stderr",
     "output_type": "stream",
     "text": [
      "/tmp/ipykernel_33129/477855742.py:20: FutureWarning: The frame.append method is deprecated and will be removed from pandas in a future version. Use pandas.concat instead.\n",
      "  df = df.append(page_data)\n"
     ]
    },
    {
     "name": "stdout",
     "output_type": "stream",
     "text": [
      "Page Number: 16  Page Link:  https://www.simplyhired.com/search?q=Data+Engineer&l=texas&cursor=AAsAEACwAAAAAAAAAAAAAAACCRy%2B%2BQECASpWDwWnttjNZZVVxlwTWhmHk3BOJiN%2FNtZz06TgmW4vZKeEQoKwx2hOYmmI7ZrxASReFqYBiaJoW2pWJmpYgrn3NA4pzJuylVY8uRNdQ1oYZEPcbNhs%2FW6SZ8p8s9svYOeMdIgjwBvuqnsCTG1oKLK8ohyqpuaAzkpNFFrsGEH8oaWyi6gn4eU%3D\n",
      "https://www.simplyhired.com/search?q=Data+Engineer&l=texas&cursor=AAsAEACwAAAAAAAAAAAAAAACCRy%2B%2BQECASpWDwWnttjNZZVVxlwTWhmHk3BOJiN%2FNtZz06TgmW4vZKeEQoKwx2hOYmmI7ZrxASReFqYBiaJoW2pWJmpYgrn3NA4pzJuylVY8uRNdQ1oYZEPcbNhs%2FW6SZ8p8s9svYOeMdIgjwBvuqnsCTG1oKLK8ohyqpuaAzkpNFFrsGEH8oaWyi6gn4eU%3D&job=XpcXLQSEmw89oZPrlunf5qfkobJcdeXt92-hRr694jJwfzDtiod4fA\n",
      "https://www.simplyhired.com/search?q=Data+Engineer&l=texas&cursor=AAsAEACwAAAAAAAAAAAAAAACCRy%2B%2BQECASpWDwWnttjNZZVVxlwTWhmHk3BOJiN%2FNtZz06TgmW4vZKeEQoKwx2hOYmmI7ZrxASReFqYBiaJoW2pWJmpYgrn3NA4pzJuylVY8uRNdQ1oYZEPcbNhs%2FW6SZ8p8s9svYOeMdIgjwBvuqnsCTG1oKLK8ohyqpuaAzkpNFFrsGEH8oaWyi6gn4eU%3D&job=75KS4FDTZtv-pEnucROxvXzSHozTfoPMW8BELTF6eB-MaUCWg1DYEw\n",
      "https://www.simplyhired.com/search?q=Data+Engineer&l=texas&cursor=AAsAEACwAAAAAAAAAAAAAAACCRy%2B%2BQECASpWDwWnttjNZZVVxlwTWhmHk3BOJiN%2FNtZz06TgmW4vZKeEQoKwx2hOYmmI7ZrxASReFqYBiaJoW2pWJmpYgrn3NA4pzJuylVY8uRNdQ1oYZEPcbNhs%2FW6SZ8p8s9svYOeMdIgjwBvuqnsCTG1oKLK8ohyqpuaAzkpNFFrsGEH8oaWyi6gn4eU%3D&job=q_FY5zVE3aeob5zI9ENoslzogtHptLbXVN4kpm0Um_NKHoNGl2x2Ow\n",
      "https://www.simplyhired.com/search?q=Data+Engineer&l=texas&cursor=AAsAEACwAAAAAAAAAAAAAAACCRy%2B%2BQECASpWDwWnttjNZZVVxlwTWhmHk3BOJiN%2FNtZz06TgmW4vZKeEQoKwx2hOYmmI7ZrxASReFqYBiaJoW2pWJmpYgrn3NA4pzJuylVY8uRNdQ1oYZEPcbNhs%2FW6SZ8p8s9svYOeMdIgjwBvuqnsCTG1oKLK8ohyqpuaAzkpNFFrsGEH8oaWyi6gn4eU%3D&job=A6ICFWUonkHA5PsmH_R3zMa8yq9pdMknPk3emUGCT4RU2__QE6VKUQ\n",
      "https://www.simplyhired.com/search?q=Data+Engineer&l=texas&cursor=AAsAEACwAAAAAAAAAAAAAAACCRy%2B%2BQECASpWDwWnttjNZZVVxlwTWhmHk3BOJiN%2FNtZz06TgmW4vZKeEQoKwx2hOYmmI7ZrxASReFqYBiaJoW2pWJmpYgrn3NA4pzJuylVY8uRNdQ1oYZEPcbNhs%2FW6SZ8p8s9svYOeMdIgjwBvuqnsCTG1oKLK8ohyqpuaAzkpNFFrsGEH8oaWyi6gn4eU%3D&job=bQVMeByZ-AqyVVLAumd3vJB6T1u0DqEQNY15rlY-MXWW3eBoIscRyQ\n",
      "https://www.simplyhired.com/search?q=Data+Engineer&l=texas&cursor=AAsAEACwAAAAAAAAAAAAAAACCRy%2B%2BQECASpWDwWnttjNZZVVxlwTWhmHk3BOJiN%2FNtZz06TgmW4vZKeEQoKwx2hOYmmI7ZrxASReFqYBiaJoW2pWJmpYgrn3NA4pzJuylVY8uRNdQ1oYZEPcbNhs%2FW6SZ8p8s9svYOeMdIgjwBvuqnsCTG1oKLK8ohyqpuaAzkpNFFrsGEH8oaWyi6gn4eU%3D&job=vd7SKiBPHmv-L0TRL9TVT6YkSnioTsG6QXRbiKfVbuPZDmazSyLyyA\n",
      "https://www.simplyhired.com/search?q=Data+Engineer&l=texas&cursor=AAsAEACwAAAAAAAAAAAAAAACCRy%2B%2BQECASpWDwWnttjNZZVVxlwTWhmHk3BOJiN%2FNtZz06TgmW4vZKeEQoKwx2hOYmmI7ZrxASReFqYBiaJoW2pWJmpYgrn3NA4pzJuylVY8uRNdQ1oYZEPcbNhs%2FW6SZ8p8s9svYOeMdIgjwBvuqnsCTG1oKLK8ohyqpuaAzkpNFFrsGEH8oaWyi6gn4eU%3D&job=YdCkael8YupryaXVcx-vzlkG2al79WxvfRbUWmQfJpc4EHjrIu0iIQ\n",
      "https://www.simplyhired.com/search?q=Data+Engineer&l=texas&cursor=AAsAEACwAAAAAAAAAAAAAAACCRy%2B%2BQECASpWDwWnttjNZZVVxlwTWhmHk3BOJiN%2FNtZz06TgmW4vZKeEQoKwx2hOYmmI7ZrxASReFqYBiaJoW2pWJmpYgrn3NA4pzJuylVY8uRNdQ1oYZEPcbNhs%2FW6SZ8p8s9svYOeMdIgjwBvuqnsCTG1oKLK8ohyqpuaAzkpNFFrsGEH8oaWyi6gn4eU%3D&job=VwqGaLlhFLlx_3kUfbH2KWIQ9l8lPQGb1dBqeksETLuybnnAcV8YxQ\n",
      "https://www.simplyhired.com/search?q=Data+Engineer&l=texas&cursor=AAsAEACwAAAAAAAAAAAAAAACCRy%2B%2BQECASpWDwWnttjNZZVVxlwTWhmHk3BOJiN%2FNtZz06TgmW4vZKeEQoKwx2hOYmmI7ZrxASReFqYBiaJoW2pWJmpYgrn3NA4pzJuylVY8uRNdQ1oYZEPcbNhs%2FW6SZ8p8s9svYOeMdIgjwBvuqnsCTG1oKLK8ohyqpuaAzkpNFFrsGEH8oaWyi6gn4eU%3D&job=q0OZ3Y3tZjetgSZT5RiZToopirbTb8S422h2LhDXi9SHYMiI8SKiwQ\n",
      "https://www.simplyhired.com/search?q=Data+Engineer&l=texas&cursor=AAsAEACwAAAAAAAAAAAAAAACCRy%2B%2BQECASpWDwWnttjNZZVVxlwTWhmHk3BOJiN%2FNtZz06TgmW4vZKeEQoKwx2hOYmmI7ZrxASReFqYBiaJoW2pWJmpYgrn3NA4pzJuylVY8uRNdQ1oYZEPcbNhs%2FW6SZ8p8s9svYOeMdIgjwBvuqnsCTG1oKLK8ohyqpuaAzkpNFFrsGEH8oaWyi6gn4eU%3D&job=VuHBhVpiGJg4e-hRLSdBhO3n0yy9pRO9aqI877lrKufw6hA3Qnfn2A\n",
      "https://www.simplyhired.com/search?q=Data+Engineer&l=texas&cursor=AAsAEACwAAAAAAAAAAAAAAACCRy%2B%2BQECASpWDwWnttjNZZVVxlwTWhmHk3BOJiN%2FNtZz06TgmW4vZKeEQoKwx2hOYmmI7ZrxASReFqYBiaJoW2pWJmpYgrn3NA4pzJuylVY8uRNdQ1oYZEPcbNhs%2FW6SZ8p8s9svYOeMdIgjwBvuqnsCTG1oKLK8ohyqpuaAzkpNFFrsGEH8oaWyi6gn4eU%3D&job=Nv7Qc-UEN5tfdDKJIZpVDdKU51-7dMsdha9aE94-mWMdFxOgaHRvxg\n"
     ]
    },
    {
     "name": "stderr",
     "output_type": "stream",
     "text": [
      "/tmp/ipykernel_33129/477855742.py:20: FutureWarning: The frame.append method is deprecated and will be removed from pandas in a future version. Use pandas.concat instead.\n",
      "  df = df.append(page_data)\n"
     ]
    },
    {
     "name": "stdout",
     "output_type": "stream",
     "text": [
      "Page Number: 17  Page Link:  https://www.simplyhired.com/search?q=Data+Engineer&l=texas&cursor=AAsAEQC7AAAAAAAAAAAAAAACCRy%2B%2BQECASpWDwDO0PpmfDnnrp9wfvCdFhNcn7KQkVTrZKbH0cePwqxPzDxBnE63ddgyGu9yFmV5Qvr4oFfsJLPPepEFvPzAdv51IPN5PrBP1I23o1EaK4%2BewJynBeCvdMDDoDbXXj19Ib1P%2BmRfPkyfaMRKvlzus8485Rz8R2dUWZPQ%2BUfnuEhbWhKpNpc%3D\n",
      "https://www.simplyhired.com/search?q=Data+Engineer&l=texas&cursor=AAsAEQC7AAAAAAAAAAAAAAACCRy%2B%2BQECASpWDwDO0PpmfDnnrp9wfvCdFhNcn7KQkVTrZKbH0cePwqxPzDxBnE63ddgyGu9yFmV5Qvr4oFfsJLPPepEFvPzAdv51IPN5PrBP1I23o1EaK4%2BewJynBeCvdMDDoDbXXj19Ib1P%2BmRfPkyfaMRKvlzus8485Rz8R2dUWZPQ%2BUfnuEhbWhKpNpc%3D&job=TRvNj5NnOx5egZh1aX_XOkkL-zqSXXhDc7dsV0ghbKp6PUxF5XQRiw\n",
      "https://www.simplyhired.com/search?q=Data+Engineer&l=texas&cursor=AAsAEQC7AAAAAAAAAAAAAAACCRy%2B%2BQECASpWDwDO0PpmfDnnrp9wfvCdFhNcn7KQkVTrZKbH0cePwqxPzDxBnE63ddgyGu9yFmV5Qvr4oFfsJLPPepEFvPzAdv51IPN5PrBP1I23o1EaK4%2BewJynBeCvdMDDoDbXXj19Ib1P%2BmRfPkyfaMRKvlzus8485Rz8R2dUWZPQ%2BUfnuEhbWhKpNpc%3D&job=HDlMw2XoBv54UhpHZQYNjHQNmJWOhZ2CHiCAYJnvap2uC4mkwBQzPg\n",
      "https://www.simplyhired.com/search?q=Data+Engineer&l=texas&cursor=AAsAEQC7AAAAAAAAAAAAAAACCRy%2B%2BQECASpWDwDO0PpmfDnnrp9wfvCdFhNcn7KQkVTrZKbH0cePwqxPzDxBnE63ddgyGu9yFmV5Qvr4oFfsJLPPepEFvPzAdv51IPN5PrBP1I23o1EaK4%2BewJynBeCvdMDDoDbXXj19Ib1P%2BmRfPkyfaMRKvlzus8485Rz8R2dUWZPQ%2BUfnuEhbWhKpNpc%3D&job=oQhImkzIJDtHxeYZW8Gij0aKdXRXvn-QyIeJaa1mK8s6F7He6VogOQ\n",
      "https://www.simplyhired.com/search?q=Data+Engineer&l=texas&cursor=AAsAEQC7AAAAAAAAAAAAAAACCRy%2B%2BQECASpWDwDO0PpmfDnnrp9wfvCdFhNcn7KQkVTrZKbH0cePwqxPzDxBnE63ddgyGu9yFmV5Qvr4oFfsJLPPepEFvPzAdv51IPN5PrBP1I23o1EaK4%2BewJynBeCvdMDDoDbXXj19Ib1P%2BmRfPkyfaMRKvlzus8485Rz8R2dUWZPQ%2BUfnuEhbWhKpNpc%3D&job=yFwzb35GK7LN_yL1RfQbbH8QqKpd5KUajWtkj4cSbIn0fLyQZYP_jA\n",
      "https://www.simplyhired.com/search?q=Data+Engineer&l=texas&cursor=AAsAEQC7AAAAAAAAAAAAAAACCRy%2B%2BQECASpWDwDO0PpmfDnnrp9wfvCdFhNcn7KQkVTrZKbH0cePwqxPzDxBnE63ddgyGu9yFmV5Qvr4oFfsJLPPepEFvPzAdv51IPN5PrBP1I23o1EaK4%2BewJynBeCvdMDDoDbXXj19Ib1P%2BmRfPkyfaMRKvlzus8485Rz8R2dUWZPQ%2BUfnuEhbWhKpNpc%3D&job=SkGGbOiPCWgAMguAJxEee3eVSDoqU9lZEitfNrz74IY0wvcVQISqkA\n",
      "https://www.simplyhired.com/search?q=Data+Engineer&l=texas&cursor=AAsAEQC7AAAAAAAAAAAAAAACCRy%2B%2BQECASpWDwDO0PpmfDnnrp9wfvCdFhNcn7KQkVTrZKbH0cePwqxPzDxBnE63ddgyGu9yFmV5Qvr4oFfsJLPPepEFvPzAdv51IPN5PrBP1I23o1EaK4%2BewJynBeCvdMDDoDbXXj19Ib1P%2BmRfPkyfaMRKvlzus8485Rz8R2dUWZPQ%2BUfnuEhbWhKpNpc%3D&job=yi27pFL9Xsv_aUE0rZDe0rvg7U1iKXFkzo9PblWmEVvn5dbdnDYhAQ\n",
      "https://www.simplyhired.com/search?q=Data+Engineer&l=texas&cursor=AAsAEQC7AAAAAAAAAAAAAAACCRy%2B%2BQECASpWDwDO0PpmfDnnrp9wfvCdFhNcn7KQkVTrZKbH0cePwqxPzDxBnE63ddgyGu9yFmV5Qvr4oFfsJLPPepEFvPzAdv51IPN5PrBP1I23o1EaK4%2BewJynBeCvdMDDoDbXXj19Ib1P%2BmRfPkyfaMRKvlzus8485Rz8R2dUWZPQ%2BUfnuEhbWhKpNpc%3D&job=pg0qAYyLi7eDOjJWEOHh1MRkyPEmVketG_7xhZUV5BmCocA0_zTK8A\n",
      "https://www.simplyhired.com/search?q=Data+Engineer&l=texas&cursor=AAsAEQC7AAAAAAAAAAAAAAACCRy%2B%2BQECASpWDwDO0PpmfDnnrp9wfvCdFhNcn7KQkVTrZKbH0cePwqxPzDxBnE63ddgyGu9yFmV5Qvr4oFfsJLPPepEFvPzAdv51IPN5PrBP1I23o1EaK4%2BewJynBeCvdMDDoDbXXj19Ib1P%2BmRfPkyfaMRKvlzus8485Rz8R2dUWZPQ%2BUfnuEhbWhKpNpc%3D&job=PObXqhpjcqoH1iFgH9SXCPM1n2gskf5spCA3iRHKmvmTB3caSNb6Ag\n",
      "https://www.simplyhired.com/search?q=Data+Engineer&l=texas&cursor=AAsAEQC7AAAAAAAAAAAAAAACCRy%2B%2BQECASpWDwDO0PpmfDnnrp9wfvCdFhNcn7KQkVTrZKbH0cePwqxPzDxBnE63ddgyGu9yFmV5Qvr4oFfsJLPPepEFvPzAdv51IPN5PrBP1I23o1EaK4%2BewJynBeCvdMDDoDbXXj19Ib1P%2BmRfPkyfaMRKvlzus8485Rz8R2dUWZPQ%2BUfnuEhbWhKpNpc%3D&job=syK49Xd8fu2jj5UiQSzasgw3txOWneOa6QUx3h--bbTHXpje9qTvjQ\n",
      "https://www.simplyhired.com/search?q=Data+Engineer&l=texas&cursor=AAsAEQC7AAAAAAAAAAAAAAACCRy%2B%2BQECASpWDwDO0PpmfDnnrp9wfvCdFhNcn7KQkVTrZKbH0cePwqxPzDxBnE63ddgyGu9yFmV5Qvr4oFfsJLPPepEFvPzAdv51IPN5PrBP1I23o1EaK4%2BewJynBeCvdMDDoDbXXj19Ib1P%2BmRfPkyfaMRKvlzus8485Rz8R2dUWZPQ%2BUfnuEhbWhKpNpc%3D&job=va8bBXn0AWmjm9IcK5be-wBGm99YbLbRYog9A7PllVovvFQ0SSM2Kg\n",
      "https://www.simplyhired.com/search?q=Data+Engineer&l=texas&cursor=AAsAEQC7AAAAAAAAAAAAAAACCRy%2B%2BQECASpWDwDO0PpmfDnnrp9wfvCdFhNcn7KQkVTrZKbH0cePwqxPzDxBnE63ddgyGu9yFmV5Qvr4oFfsJLPPepEFvPzAdv51IPN5PrBP1I23o1EaK4%2BewJynBeCvdMDDoDbXXj19Ib1P%2BmRfPkyfaMRKvlzus8485Rz8R2dUWZPQ%2BUfnuEhbWhKpNpc%3D&job=RR97XnmoaJp3diUwZzKxvZEcZqpAQJgcpg1v4D52JSYA_0Ay1-Zy3w\n"
     ]
    },
    {
     "name": "stderr",
     "output_type": "stream",
     "text": [
      "/tmp/ipykernel_33129/477855742.py:20: FutureWarning: The frame.append method is deprecated and will be removed from pandas in a future version. Use pandas.concat instead.\n",
      "  df = df.append(page_data)\n"
     ]
    },
    {
     "name": "stdout",
     "output_type": "stream",
     "text": [
      "Page Number: 18  Page Link:  https://www.simplyhired.com/search?q=Data+Engineer&l=texas&cursor=AAsAEgDGAAAAAAAAAAAAAAACCRy%2B%2BQECATqAAQcBoPH4qyGg0vkqOQPXyuegcH59VFCBIuEjjenFiAozvKxwtTRaxlIHcsa8iL24D1UEhm2EHhZTsyOr4DHg29cuyrVk5OdGv7oLLGZU8DqCFbOY%2BNtOCoexMo4vONcR1GhIHfzp6nPsHHBCeFEaMqF%2FQn6XvwLSAi4oxCCJ5q0N6%2BN4qdb6lw%3D%3D\n",
      "https://www.simplyhired.com/search?q=Data+Engineer&l=texas&cursor=AAsAEgDGAAAAAAAAAAAAAAACCRy%2B%2BQECATqAAQcBoPH4qyGg0vkqOQPXyuegcH59VFCBIuEjjenFiAozvKxwtTRaxlIHcsa8iL24D1UEhm2EHhZTsyOr4DHg29cuyrVk5OdGv7oLLGZU8DqCFbOY%2BNtOCoexMo4vONcR1GhIHfzp6nPsHHBCeFEaMqF%2FQn6XvwLSAi4oxCCJ5q0N6%2BN4qdb6lw%3D%3D&job=qk1vkLJOPNUCk0R9OKoZRuhqR5VZQnTkbr0rFmkdPjNd59R3TCeBAg\n",
      "https://www.simplyhired.com/search?q=Data+Engineer&l=texas&cursor=AAsAEgDGAAAAAAAAAAAAAAACCRy%2B%2BQECATqAAQcBoPH4qyGg0vkqOQPXyuegcH59VFCBIuEjjenFiAozvKxwtTRaxlIHcsa8iL24D1UEhm2EHhZTsyOr4DHg29cuyrVk5OdGv7oLLGZU8DqCFbOY%2BNtOCoexMo4vONcR1GhIHfzp6nPsHHBCeFEaMqF%2FQn6XvwLSAi4oxCCJ5q0N6%2BN4qdb6lw%3D%3D&job=SF9mw9BN5pAnJwguwz-SNHrKeIzUB3mqAdb6qIF0i95goWUnMNg7Mg\n",
      "https://www.simplyhired.com/search?q=Data+Engineer&l=texas&cursor=AAsAEgDGAAAAAAAAAAAAAAACCRy%2B%2BQECATqAAQcBoPH4qyGg0vkqOQPXyuegcH59VFCBIuEjjenFiAozvKxwtTRaxlIHcsa8iL24D1UEhm2EHhZTsyOr4DHg29cuyrVk5OdGv7oLLGZU8DqCFbOY%2BNtOCoexMo4vONcR1GhIHfzp6nPsHHBCeFEaMqF%2FQn6XvwLSAi4oxCCJ5q0N6%2BN4qdb6lw%3D%3D&job=kfZ_y2lqZkp6w41BmOUSEzfSruJmrto1FUREbctqZbS5L1i8hz5Wrg\n",
      "https://www.simplyhired.com/search?q=Data+Engineer&l=texas&cursor=AAsAEgDGAAAAAAAAAAAAAAACCRy%2B%2BQECATqAAQcBoPH4qyGg0vkqOQPXyuegcH59VFCBIuEjjenFiAozvKxwtTRaxlIHcsa8iL24D1UEhm2EHhZTsyOr4DHg29cuyrVk5OdGv7oLLGZU8DqCFbOY%2BNtOCoexMo4vONcR1GhIHfzp6nPsHHBCeFEaMqF%2FQn6XvwLSAi4oxCCJ5q0N6%2BN4qdb6lw%3D%3D&job=ROqW4vwM4khjntQdZoPBfeV_kd4uf1rFhAPMJXrOm4GvzpqO2c9ipA\n",
      "https://www.simplyhired.com/search?q=Data+Engineer&l=texas&cursor=AAsAEgDGAAAAAAAAAAAAAAACCRy%2B%2BQECATqAAQcBoPH4qyGg0vkqOQPXyuegcH59VFCBIuEjjenFiAozvKxwtTRaxlIHcsa8iL24D1UEhm2EHhZTsyOr4DHg29cuyrVk5OdGv7oLLGZU8DqCFbOY%2BNtOCoexMo4vONcR1GhIHfzp6nPsHHBCeFEaMqF%2FQn6XvwLSAi4oxCCJ5q0N6%2BN4qdb6lw%3D%3D&job=X2O3CaQ_38-2cJA0SDSkdnli5putDsTa-UOcz43R_uzfSjTJcokCsg\n",
      "https://www.simplyhired.com/search?q=Data+Engineer&l=texas&cursor=AAsAEgDGAAAAAAAAAAAAAAACCRy%2B%2BQECATqAAQcBoPH4qyGg0vkqOQPXyuegcH59VFCBIuEjjenFiAozvKxwtTRaxlIHcsa8iL24D1UEhm2EHhZTsyOr4DHg29cuyrVk5OdGv7oLLGZU8DqCFbOY%2BNtOCoexMo4vONcR1GhIHfzp6nPsHHBCeFEaMqF%2FQn6XvwLSAi4oxCCJ5q0N6%2BN4qdb6lw%3D%3D&job=7T27m276ntUU0bNv5UBdFpzMzX1DBZJ2nwe1fKrddFlhUf3V9uoTaQ\n",
      "https://www.simplyhired.com/search?q=Data+Engineer&l=texas&cursor=AAsAEgDGAAAAAAAAAAAAAAACCRy%2B%2BQECATqAAQcBoPH4qyGg0vkqOQPXyuegcH59VFCBIuEjjenFiAozvKxwtTRaxlIHcsa8iL24D1UEhm2EHhZTsyOr4DHg29cuyrVk5OdGv7oLLGZU8DqCFbOY%2BNtOCoexMo4vONcR1GhIHfzp6nPsHHBCeFEaMqF%2FQn6XvwLSAi4oxCCJ5q0N6%2BN4qdb6lw%3D%3D&job=riWTts-_rfaq_02Gs2RgpKxyQ6uUfuVva6SenNcr_aOwmspI9bP2Bg\n",
      "https://www.simplyhired.com/search?q=Data+Engineer&l=texas&cursor=AAsAEgDGAAAAAAAAAAAAAAACCRy%2B%2BQECATqAAQcBoPH4qyGg0vkqOQPXyuegcH59VFCBIuEjjenFiAozvKxwtTRaxlIHcsa8iL24D1UEhm2EHhZTsyOr4DHg29cuyrVk5OdGv7oLLGZU8DqCFbOY%2BNtOCoexMo4vONcR1GhIHfzp6nPsHHBCeFEaMqF%2FQn6XvwLSAi4oxCCJ5q0N6%2BN4qdb6lw%3D%3D&job=B9NcNv-Bx_zzXVe8d7VFYiVPSwNOIdZjULRZVEvs_69UR_uVfs-ZPw\n",
      "https://www.simplyhired.com/search?q=Data+Engineer&l=texas&cursor=AAsAEgDGAAAAAAAAAAAAAAACCRy%2B%2BQECATqAAQcBoPH4qyGg0vkqOQPXyuegcH59VFCBIuEjjenFiAozvKxwtTRaxlIHcsa8iL24D1UEhm2EHhZTsyOr4DHg29cuyrVk5OdGv7oLLGZU8DqCFbOY%2BNtOCoexMo4vONcR1GhIHfzp6nPsHHBCeFEaMqF%2FQn6XvwLSAi4oxCCJ5q0N6%2BN4qdb6lw%3D%3D&job=vjOAWgajNr9j7g4f1y5RkPjtMm5gv79Em5i5oPhPonhXW3kebyoNrw\n",
      "https://www.simplyhired.com/search?q=Data+Engineer&l=texas&cursor=AAsAEgDGAAAAAAAAAAAAAAACCRy%2B%2BQECATqAAQcBoPH4qyGg0vkqOQPXyuegcH59VFCBIuEjjenFiAozvKxwtTRaxlIHcsa8iL24D1UEhm2EHhZTsyOr4DHg29cuyrVk5OdGv7oLLGZU8DqCFbOY%2BNtOCoexMo4vONcR1GhIHfzp6nPsHHBCeFEaMqF%2FQn6XvwLSAi4oxCCJ5q0N6%2BN4qdb6lw%3D%3D&job=Ynipq6Pq_WVHMiNTyGdfRj8jV703Lj5wx6NFj7U1D5bZyLPwQH2B3Q\n",
      "https://www.simplyhired.com/search?q=Data+Engineer&l=texas&cursor=AAsAEgDGAAAAAAAAAAAAAAACCRy%2B%2BQECATqAAQcBoPH4qyGg0vkqOQPXyuegcH59VFCBIuEjjenFiAozvKxwtTRaxlIHcsa8iL24D1UEhm2EHhZTsyOr4DHg29cuyrVk5OdGv7oLLGZU8DqCFbOY%2BNtOCoexMo4vONcR1GhIHfzp6nPsHHBCeFEaMqF%2FQn6XvwLSAi4oxCCJ5q0N6%2BN4qdb6lw%3D%3D&job=kp5LHrWHb0v8YcCHBW1oE6TE3MaKD8UdAP8fK1cK3wmE1uxstfYfIw\n"
     ]
    },
    {
     "name": "stderr",
     "output_type": "stream",
     "text": [
      "/tmp/ipykernel_33129/477855742.py:20: FutureWarning: The frame.append method is deprecated and will be removed from pandas in a future version. Use pandas.concat instead.\n",
      "  df = df.append(page_data)\n"
     ]
    },
    {
     "name": "stdout",
     "output_type": "stream",
     "text": [
      "Page Number: 19  Page Link:  https://www.simplyhired.com/search?q=Data+Engineer&l=texas&cursor=AAsAEwDRAAAAAAAAAAAAAAACCRy%2B%2BQECATqAAQcEvW39M4hEIyiQIapCvadG2ofSCz7sPqaz%2BXBDHc0sVS8Fn%2Fjry9WqZpdR3afvDJTwwSoDJN6clkXOOTGYyaO1MpHtQTV9AlCHxx2l3lkeb4FBWu9AqXpf0DO1W06nivDlPTFCsDsf1JOcRUK96%2FJkJx2tzmFmcyAfPyYxj4y6VO4tlw%3D%3D\n",
      "https://www.simplyhired.com/search?q=Data+Engineer&l=texas&cursor=AAsAEwDRAAAAAAAAAAAAAAACCRy%2B%2BQECATqAAQcEvW39M4hEIyiQIapCvadG2ofSCz7sPqaz%2BXBDHc0sVS8Fn%2Fjry9WqZpdR3afvDJTwwSoDJN6clkXOOTGYyaO1MpHtQTV9AlCHxx2l3lkeb4FBWu9AqXpf0DO1W06nivDlPTFCsDsf1JOcRUK96%2FJkJx2tzmFmcyAfPyYxj4y6VO4tlw%3D%3D&job=RqcBCnvgPYmVatcz9dIhGLKUniEGUmBZlhd2D2MfixG-JRWXn3e_cw\n",
      "https://www.simplyhired.com/search?q=Data+Engineer&l=texas&cursor=AAsAEwDRAAAAAAAAAAAAAAACCRy%2B%2BQECATqAAQcEvW39M4hEIyiQIapCvadG2ofSCz7sPqaz%2BXBDHc0sVS8Fn%2Fjry9WqZpdR3afvDJTwwSoDJN6clkXOOTGYyaO1MpHtQTV9AlCHxx2l3lkeb4FBWu9AqXpf0DO1W06nivDlPTFCsDsf1JOcRUK96%2FJkJx2tzmFmcyAfPyYxj4y6VO4tlw%3D%3D&job=3qrepmU0QJ68hPjnzX0HJQHlj6ZzWFKhYqddc2DF3crlafKAXnoqXQ\n",
      "https://www.simplyhired.com/search?q=Data+Engineer&l=texas&cursor=AAsAEwDRAAAAAAAAAAAAAAACCRy%2B%2BQECATqAAQcEvW39M4hEIyiQIapCvadG2ofSCz7sPqaz%2BXBDHc0sVS8Fn%2Fjry9WqZpdR3afvDJTwwSoDJN6clkXOOTGYyaO1MpHtQTV9AlCHxx2l3lkeb4FBWu9AqXpf0DO1W06nivDlPTFCsDsf1JOcRUK96%2FJkJx2tzmFmcyAfPyYxj4y6VO4tlw%3D%3D&job=NAU0NqdAskVCVtrX5l8g8n2JiSJmHpw-OaT_j5_gc7oVydgmN7k7Qw\n",
      "https://www.simplyhired.com/search?q=Data+Engineer&l=texas&cursor=AAsAEwDRAAAAAAAAAAAAAAACCRy%2B%2BQECATqAAQcEvW39M4hEIyiQIapCvadG2ofSCz7sPqaz%2BXBDHc0sVS8Fn%2Fjry9WqZpdR3afvDJTwwSoDJN6clkXOOTGYyaO1MpHtQTV9AlCHxx2l3lkeb4FBWu9AqXpf0DO1W06nivDlPTFCsDsf1JOcRUK96%2FJkJx2tzmFmcyAfPyYxj4y6VO4tlw%3D%3D&job=glOLCoo5OIF2aF3SLbtd_XwIvUn_sCaCjrtxYJK4N87wsLuP4UPuLg\n",
      "https://www.simplyhired.com/search?q=Data+Engineer&l=texas&cursor=AAsAEwDRAAAAAAAAAAAAAAACCRy%2B%2BQECATqAAQcEvW39M4hEIyiQIapCvadG2ofSCz7sPqaz%2BXBDHc0sVS8Fn%2Fjry9WqZpdR3afvDJTwwSoDJN6clkXOOTGYyaO1MpHtQTV9AlCHxx2l3lkeb4FBWu9AqXpf0DO1W06nivDlPTFCsDsf1JOcRUK96%2FJkJx2tzmFmcyAfPyYxj4y6VO4tlw%3D%3D&job=Sd9isUOTJ2E6QnIHVmU4ifV7G4Q56Y2FsIgLkkV5fWMtxC-NX6flMA\n",
      "https://www.simplyhired.com/search?q=Data+Engineer&l=texas&cursor=AAsAEwDRAAAAAAAAAAAAAAACCRy%2B%2BQECATqAAQcEvW39M4hEIyiQIapCvadG2ofSCz7sPqaz%2BXBDHc0sVS8Fn%2Fjry9WqZpdR3afvDJTwwSoDJN6clkXOOTGYyaO1MpHtQTV9AlCHxx2l3lkeb4FBWu9AqXpf0DO1W06nivDlPTFCsDsf1JOcRUK96%2FJkJx2tzmFmcyAfPyYxj4y6VO4tlw%3D%3D&job=7mKl1eprvLeI3urq6ADQ0mYrB1E3_R07Cw3OXx8dAVegcvspYhhmqA\n",
      "https://www.simplyhired.com/search?q=Data+Engineer&l=texas&cursor=AAsAEwDRAAAAAAAAAAAAAAACCRy%2B%2BQECATqAAQcEvW39M4hEIyiQIapCvadG2ofSCz7sPqaz%2BXBDHc0sVS8Fn%2Fjry9WqZpdR3afvDJTwwSoDJN6clkXOOTGYyaO1MpHtQTV9AlCHxx2l3lkeb4FBWu9AqXpf0DO1W06nivDlPTFCsDsf1JOcRUK96%2FJkJx2tzmFmcyAfPyYxj4y6VO4tlw%3D%3D&job=OIMA4mdo92q853RDFfCmD7QeOYhGS-w9s19HwPiz9kpoe8Ii57dxFg\n",
      "https://www.simplyhired.com/search?q=Data+Engineer&l=texas&cursor=AAsAEwDRAAAAAAAAAAAAAAACCRy%2B%2BQECATqAAQcEvW39M4hEIyiQIapCvadG2ofSCz7sPqaz%2BXBDHc0sVS8Fn%2Fjry9WqZpdR3afvDJTwwSoDJN6clkXOOTGYyaO1MpHtQTV9AlCHxx2l3lkeb4FBWu9AqXpf0DO1W06nivDlPTFCsDsf1JOcRUK96%2FJkJx2tzmFmcyAfPyYxj4y6VO4tlw%3D%3D&job=vlZa-t095y1DzCBrci7SYOUfw7_TF1Povt-cJsMcyXOpZrjk0SCrgg\n",
      "https://www.simplyhired.com/search?q=Data+Engineer&l=texas&cursor=AAsAEwDRAAAAAAAAAAAAAAACCRy%2B%2BQECATqAAQcEvW39M4hEIyiQIapCvadG2ofSCz7sPqaz%2BXBDHc0sVS8Fn%2Fjry9WqZpdR3afvDJTwwSoDJN6clkXOOTGYyaO1MpHtQTV9AlCHxx2l3lkeb4FBWu9AqXpf0DO1W06nivDlPTFCsDsf1JOcRUK96%2FJkJx2tzmFmcyAfPyYxj4y6VO4tlw%3D%3D&job=SSRc3NTRjIKEMszArZsyXOKOnvJ8nxK5rPFokAZavwzPPEtM4fG4gw\n",
      "https://www.simplyhired.com/search?q=Data+Engineer&l=texas&cursor=AAsAEwDRAAAAAAAAAAAAAAACCRy%2B%2BQECATqAAQcEvW39M4hEIyiQIapCvadG2ofSCz7sPqaz%2BXBDHc0sVS8Fn%2Fjry9WqZpdR3afvDJTwwSoDJN6clkXOOTGYyaO1MpHtQTV9AlCHxx2l3lkeb4FBWu9AqXpf0DO1W06nivDlPTFCsDsf1JOcRUK96%2FJkJx2tzmFmcyAfPyYxj4y6VO4tlw%3D%3D&job=1Jeb7GPx83oOKh15DNXWrhsUDdLRjKIazkB4sf-lo8DdV7pZSAWLNA\n",
      "https://www.simplyhired.com/search?q=Data+Engineer&l=texas&cursor=AAsAEwDRAAAAAAAAAAAAAAACCRy%2B%2BQECATqAAQcEvW39M4hEIyiQIapCvadG2ofSCz7sPqaz%2BXBDHc0sVS8Fn%2Fjry9WqZpdR3afvDJTwwSoDJN6clkXOOTGYyaO1MpHtQTV9AlCHxx2l3lkeb4FBWu9AqXpf0DO1W06nivDlPTFCsDsf1JOcRUK96%2FJkJx2tzmFmcyAfPyYxj4y6VO4tlw%3D%3D&job=HFkmBbMFrjD3U_SoBrM5fMgeaqqqbMukg5aTjEqPZlRFdprVstP1mw\n"
     ]
    },
    {
     "name": "stderr",
     "output_type": "stream",
     "text": [
      "/tmp/ipykernel_33129/477855742.py:20: FutureWarning: The frame.append method is deprecated and will be removed from pandas in a future version. Use pandas.concat instead.\n",
      "  df = df.append(page_data)\n"
     ]
    },
    {
     "name": "stdout",
     "output_type": "stream",
     "text": [
      "Page Number: 20  Page Link:  https://www.simplyhired.com/search?q=Data+Engineer&l=texas&cursor=AAsAFADcAAAAAAAAAAAAAAACCRy%2B%2BQECATqAAQcArVjbB1ycBQXLibyB%2BR%2BZBrkz6RcL1Ze760a9vK%2FjI0woQJOS00ayoT8nPCN0Y%2BQ0tmKtaIUHhLAYGzHDKEAnkokTYv1hcPnvZjHoS%2FqjfvXazDObWC7PfUazwx%2FJ19N3xwYV648fZegMMvFXxTS8Tg7Wnjze%2BUm14Kei1euCr1pBzQ%3D%3D\n",
      "https://www.simplyhired.com/search?q=Data+Engineer&l=texas&cursor=AAsAFADcAAAAAAAAAAAAAAACCRy%2B%2BQECATqAAQcArVjbB1ycBQXLibyB%2BR%2BZBrkz6RcL1Ze760a9vK%2FjI0woQJOS00ayoT8nPCN0Y%2BQ0tmKtaIUHhLAYGzHDKEAnkokTYv1hcPnvZjHoS%2FqjfvXazDObWC7PfUazwx%2FJ19N3xwYV648fZegMMvFXxTS8Tg7Wnjze%2BUm14Kei1euCr1pBzQ%3D%3D&job=4F-QeMMEV0E93hOij4eJ3xA15v2EkAGlCRM1huczSY2_8KCLX8ETJA\n",
      "https://www.simplyhired.com/search?q=Data+Engineer&l=texas&cursor=AAsAFADcAAAAAAAAAAAAAAACCRy%2B%2BQECATqAAQcArVjbB1ycBQXLibyB%2BR%2BZBrkz6RcL1Ze760a9vK%2FjI0woQJOS00ayoT8nPCN0Y%2BQ0tmKtaIUHhLAYGzHDKEAnkokTYv1hcPnvZjHoS%2FqjfvXazDObWC7PfUazwx%2FJ19N3xwYV648fZegMMvFXxTS8Tg7Wnjze%2BUm14Kei1euCr1pBzQ%3D%3D&job=zzG8U2IwFqhyx6KRuCgbtk13sxnrKuy-IbC5bL0dQm_yuAGPpm3PAg\n",
      "https://www.simplyhired.com/search?q=Data+Engineer&l=texas&cursor=AAsAFADcAAAAAAAAAAAAAAACCRy%2B%2BQECATqAAQcArVjbB1ycBQXLibyB%2BR%2BZBrkz6RcL1Ze760a9vK%2FjI0woQJOS00ayoT8nPCN0Y%2BQ0tmKtaIUHhLAYGzHDKEAnkokTYv1hcPnvZjHoS%2FqjfvXazDObWC7PfUazwx%2FJ19N3xwYV648fZegMMvFXxTS8Tg7Wnjze%2BUm14Kei1euCr1pBzQ%3D%3D&job=zjWwVdi1C1f2XLwor0x3BxdLTPFdfDPIgEtKR513zXlGH9_UOn14uw\n",
      "https://www.simplyhired.com/search?q=Data+Engineer&l=texas&cursor=AAsAFADcAAAAAAAAAAAAAAACCRy%2B%2BQECATqAAQcArVjbB1ycBQXLibyB%2BR%2BZBrkz6RcL1Ze760a9vK%2FjI0woQJOS00ayoT8nPCN0Y%2BQ0tmKtaIUHhLAYGzHDKEAnkokTYv1hcPnvZjHoS%2FqjfvXazDObWC7PfUazwx%2FJ19N3xwYV648fZegMMvFXxTS8Tg7Wnjze%2BUm14Kei1euCr1pBzQ%3D%3D&job=zLocO3F9_VExEZwos2iY7KxJifCgxy_aW-D7flnsQOzZbu--g56-Rg\n",
      "https://www.simplyhired.com/search?q=Data+Engineer&l=texas&cursor=AAsAFADcAAAAAAAAAAAAAAACCRy%2B%2BQECATqAAQcArVjbB1ycBQXLibyB%2BR%2BZBrkz6RcL1Ze760a9vK%2FjI0woQJOS00ayoT8nPCN0Y%2BQ0tmKtaIUHhLAYGzHDKEAnkokTYv1hcPnvZjHoS%2FqjfvXazDObWC7PfUazwx%2FJ19N3xwYV648fZegMMvFXxTS8Tg7Wnjze%2BUm14Kei1euCr1pBzQ%3D%3D&job=l4sR8UqUk3ffIWh6gzhXDwWTWZWRzwwH9GXtUf3eqf7sACOsQd3IEg\n",
      "https://www.simplyhired.com/search?q=Data+Engineer&l=texas&cursor=AAsAFADcAAAAAAAAAAAAAAACCRy%2B%2BQECATqAAQcArVjbB1ycBQXLibyB%2BR%2BZBrkz6RcL1Ze760a9vK%2FjI0woQJOS00ayoT8nPCN0Y%2BQ0tmKtaIUHhLAYGzHDKEAnkokTYv1hcPnvZjHoS%2FqjfvXazDObWC7PfUazwx%2FJ19N3xwYV648fZegMMvFXxTS8Tg7Wnjze%2BUm14Kei1euCr1pBzQ%3D%3D&job=-gBsA1qJ5_Oui1q4D_Aqnhmiso7HAVTZShr4Fn4j4sbFd4Uz-QhcOw\n",
      "https://www.simplyhired.com/search?q=Data+Engineer&l=texas&cursor=AAsAFADcAAAAAAAAAAAAAAACCRy%2B%2BQECATqAAQcArVjbB1ycBQXLibyB%2BR%2BZBrkz6RcL1Ze760a9vK%2FjI0woQJOS00ayoT8nPCN0Y%2BQ0tmKtaIUHhLAYGzHDKEAnkokTYv1hcPnvZjHoS%2FqjfvXazDObWC7PfUazwx%2FJ19N3xwYV648fZegMMvFXxTS8Tg7Wnjze%2BUm14Kei1euCr1pBzQ%3D%3D&job=xYp1TGPixSwz9b5wet2zu5WFxMlBcFp7iTRBSRLtp61w2FA0edAHzA\n",
      "https://www.simplyhired.com/search?q=Data+Engineer&l=texas&cursor=AAsAFADcAAAAAAAAAAAAAAACCRy%2B%2BQECATqAAQcArVjbB1ycBQXLibyB%2BR%2BZBrkz6RcL1Ze760a9vK%2FjI0woQJOS00ayoT8nPCN0Y%2BQ0tmKtaIUHhLAYGzHDKEAnkokTYv1hcPnvZjHoS%2FqjfvXazDObWC7PfUazwx%2FJ19N3xwYV648fZegMMvFXxTS8Tg7Wnjze%2BUm14Kei1euCr1pBzQ%3D%3D&job=ZbNb94K0rWHtXQkCGutpkXiLwUDK7wNTaevb_zjVhsXomFrJ46Naqw\n",
      "https://www.simplyhired.com/search?q=Data+Engineer&l=texas&cursor=AAsAFADcAAAAAAAAAAAAAAACCRy%2B%2BQECATqAAQcArVjbB1ycBQXLibyB%2BR%2BZBrkz6RcL1Ze760a9vK%2FjI0woQJOS00ayoT8nPCN0Y%2BQ0tmKtaIUHhLAYGzHDKEAnkokTYv1hcPnvZjHoS%2FqjfvXazDObWC7PfUazwx%2FJ19N3xwYV648fZegMMvFXxTS8Tg7Wnjze%2BUm14Kei1euCr1pBzQ%3D%3D&job=J0pBmEsGhthInsGIXhb1MklQWzwOqM77zPqlVEp5QbfJnv9aOEOMJA\n",
      "https://www.simplyhired.com/search?q=Data+Engineer&l=texas&cursor=AAsAFADcAAAAAAAAAAAAAAACCRy%2B%2BQECATqAAQcArVjbB1ycBQXLibyB%2BR%2BZBrkz6RcL1Ze760a9vK%2FjI0woQJOS00ayoT8nPCN0Y%2BQ0tmKtaIUHhLAYGzHDKEAnkokTYv1hcPnvZjHoS%2FqjfvXazDObWC7PfUazwx%2FJ19N3xwYV648fZegMMvFXxTS8Tg7Wnjze%2BUm14Kei1euCr1pBzQ%3D%3D&job=2S_oFf8Wx3QOvqtLg70gfuO2m6UM8GMpIB2y-CIFICNSQCrvL88ksg\n",
      "https://www.simplyhired.com/search?q=Data+Engineer&l=texas&cursor=AAsAFADcAAAAAAAAAAAAAAACCRy%2B%2BQECATqAAQcArVjbB1ycBQXLibyB%2BR%2BZBrkz6RcL1Ze760a9vK%2FjI0woQJOS00ayoT8nPCN0Y%2BQ0tmKtaIUHhLAYGzHDKEAnkokTYv1hcPnvZjHoS%2FqjfvXazDObWC7PfUazwx%2FJ19N3xwYV648fZegMMvFXxTS8Tg7Wnjze%2BUm14Kei1euCr1pBzQ%3D%3D&job=ysIVelEb39u804uPuAa-1KsPvOqUoxgbavY87a3UVGnxBQ0lLfKxvg\n"
     ]
    },
    {
     "name": "stderr",
     "output_type": "stream",
     "text": [
      "/tmp/ipykernel_33129/477855742.py:20: FutureWarning: The frame.append method is deprecated and will be removed from pandas in a future version. Use pandas.concat instead.\n",
      "  df = df.append(page_data)\n"
     ]
    },
    {
     "name": "stdout",
     "output_type": "stream",
     "text": [
      "Page Number: 21  Page Link:  https://www.simplyhired.com/search?q=Data+Engineer&l=texas&cursor=AAsAFQDnAAAAAAAAAAAAAAACCRy%2B%2BQEBATUm81P4Ieagi47fzWpHA7hvbvve1VgQxe3qkJpOQ3lbX%2BZQx0Si2FtrZy870wFV7DlpzQ2RYCvI84nyMu1I0qLl04G6GBA7ZhszmjJdpHzychPLCh0ZrJalK2wYUDiRbv5UFxHgoRu6UmmZPJkJR9V106qPSUi%2FfxBvpYuE7nwo73%2FFoQ%3D%3D\n",
      "https://www.simplyhired.com/search?q=Data+Engineer&l=texas&cursor=AAsAFQDnAAAAAAAAAAAAAAACCRy%2B%2BQEBATUm81P4Ieagi47fzWpHA7hvbvve1VgQxe3qkJpOQ3lbX%2BZQx0Si2FtrZy870wFV7DlpzQ2RYCvI84nyMu1I0qLl04G6GBA7ZhszmjJdpHzychPLCh0ZrJalK2wYUDiRbv5UFxHgoRu6UmmZPJkJR9V106qPSUi%2FfxBvpYuE7nwo73%2FFoQ%3D%3D&job=vbkrHMsRYGVOEFabEyWQZxA1HfdR9hqe7NazliBWsMMPFIW7iqlaIg\n",
      "https://www.simplyhired.com/search?q=Data+Engineer&l=texas&cursor=AAsAFQDnAAAAAAAAAAAAAAACCRy%2B%2BQEBATUm81P4Ieagi47fzWpHA7hvbvve1VgQxe3qkJpOQ3lbX%2BZQx0Si2FtrZy870wFV7DlpzQ2RYCvI84nyMu1I0qLl04G6GBA7ZhszmjJdpHzychPLCh0ZrJalK2wYUDiRbv5UFxHgoRu6UmmZPJkJR9V106qPSUi%2FfxBvpYuE7nwo73%2FFoQ%3D%3D&job=UbPO17oIyiyoZo7ID_JshcgqR0O3VQPh2YYODgfCAqxWg5xyz7IyXQ\n",
      "https://www.simplyhired.com/search?q=Data+Engineer&l=texas&cursor=AAsAFQDnAAAAAAAAAAAAAAACCRy%2B%2BQEBATUm81P4Ieagi47fzWpHA7hvbvve1VgQxe3qkJpOQ3lbX%2BZQx0Si2FtrZy870wFV7DlpzQ2RYCvI84nyMu1I0qLl04G6GBA7ZhszmjJdpHzychPLCh0ZrJalK2wYUDiRbv5UFxHgoRu6UmmZPJkJR9V106qPSUi%2FfxBvpYuE7nwo73%2FFoQ%3D%3D&job=8MWMM8UlMdg2mvGFqpPJ1LLGzwoBCsBPfKOHr3ZdkkfdeDCUI4f7HQ\n",
      "https://www.simplyhired.com/search?q=Data+Engineer&l=texas&cursor=AAsAFQDnAAAAAAAAAAAAAAACCRy%2B%2BQEBATUm81P4Ieagi47fzWpHA7hvbvve1VgQxe3qkJpOQ3lbX%2BZQx0Si2FtrZy870wFV7DlpzQ2RYCvI84nyMu1I0qLl04G6GBA7ZhszmjJdpHzychPLCh0ZrJalK2wYUDiRbv5UFxHgoRu6UmmZPJkJR9V106qPSUi%2FfxBvpYuE7nwo73%2FFoQ%3D%3D&job=YXpy4K1KKVf4Gx2_k9w4J9HzxQ026eKAqPICI4BCJWnvyrDCJdkNXA\n",
      "https://www.simplyhired.com/search?q=Data+Engineer&l=texas&cursor=AAsAFQDnAAAAAAAAAAAAAAACCRy%2B%2BQEBATUm81P4Ieagi47fzWpHA7hvbvve1VgQxe3qkJpOQ3lbX%2BZQx0Si2FtrZy870wFV7DlpzQ2RYCvI84nyMu1I0qLl04G6GBA7ZhszmjJdpHzychPLCh0ZrJalK2wYUDiRbv5UFxHgoRu6UmmZPJkJR9V106qPSUi%2FfxBvpYuE7nwo73%2FFoQ%3D%3D&job=j7xom3S6tCuASchpcVp3mGaxowDQUdZZAYN2ECU5oOQuyJWyVCL7Zg\n",
      "https://www.simplyhired.com/search?q=Data+Engineer&l=texas&cursor=AAsAFQDnAAAAAAAAAAAAAAACCRy%2B%2BQEBATUm81P4Ieagi47fzWpHA7hvbvve1VgQxe3qkJpOQ3lbX%2BZQx0Si2FtrZy870wFV7DlpzQ2RYCvI84nyMu1I0qLl04G6GBA7ZhszmjJdpHzychPLCh0ZrJalK2wYUDiRbv5UFxHgoRu6UmmZPJkJR9V106qPSUi%2FfxBvpYuE7nwo73%2FFoQ%3D%3D&job=EYxXYbtaYFa8qG4xUJkQWsrKRPZgjmAvXSZTNzTuukzsY-DBCP_ybg\n",
      "https://www.simplyhired.com/search?q=Data+Engineer&l=texas&cursor=AAsAFQDnAAAAAAAAAAAAAAACCRy%2B%2BQEBATUm81P4Ieagi47fzWpHA7hvbvve1VgQxe3qkJpOQ3lbX%2BZQx0Si2FtrZy870wFV7DlpzQ2RYCvI84nyMu1I0qLl04G6GBA7ZhszmjJdpHzychPLCh0ZrJalK2wYUDiRbv5UFxHgoRu6UmmZPJkJR9V106qPSUi%2FfxBvpYuE7nwo73%2FFoQ%3D%3D&job=kWS4CtTI2dS1tRC_h8k6U6h0ZiP4iu89SSQTiqnQwpcp_O-UeW1Mxw\n",
      "https://www.simplyhired.com/search?q=Data+Engineer&l=texas&cursor=AAsAFQDnAAAAAAAAAAAAAAACCRy%2B%2BQEBATUm81P4Ieagi47fzWpHA7hvbvve1VgQxe3qkJpOQ3lbX%2BZQx0Si2FtrZy870wFV7DlpzQ2RYCvI84nyMu1I0qLl04G6GBA7ZhszmjJdpHzychPLCh0ZrJalK2wYUDiRbv5UFxHgoRu6UmmZPJkJR9V106qPSUi%2FfxBvpYuE7nwo73%2FFoQ%3D%3D&job=rfDApFeBhy6F7SdYTyL0a-9E8F61ZNa5o0_sbzSQ1dzpc1swNDLOQQ\n",
      "https://www.simplyhired.com/search?q=Data+Engineer&l=texas&cursor=AAsAFQDnAAAAAAAAAAAAAAACCRy%2B%2BQEBATUm81P4Ieagi47fzWpHA7hvbvve1VgQxe3qkJpOQ3lbX%2BZQx0Si2FtrZy870wFV7DlpzQ2RYCvI84nyMu1I0qLl04G6GBA7ZhszmjJdpHzychPLCh0ZrJalK2wYUDiRbv5UFxHgoRu6UmmZPJkJR9V106qPSUi%2FfxBvpYuE7nwo73%2FFoQ%3D%3D&job=jPoV3Maqyckd5tv5v1TrqaTv1vllG5M3ZbqtU2B8gYUUkGxoaE3v8w\n",
      "https://www.simplyhired.com/search?q=Data+Engineer&l=texas&cursor=AAsAFQDnAAAAAAAAAAAAAAACCRy%2B%2BQEBATUm81P4Ieagi47fzWpHA7hvbvve1VgQxe3qkJpOQ3lbX%2BZQx0Si2FtrZy870wFV7DlpzQ2RYCvI84nyMu1I0qLl04G6GBA7ZhszmjJdpHzychPLCh0ZrJalK2wYUDiRbv5UFxHgoRu6UmmZPJkJR9V106qPSUi%2FfxBvpYuE7nwo73%2FFoQ%3D%3D&job=SHVOz3il0ugxsmzCJuiQUUnfEwzeQUgbtcJSesE5FA1BOK2oTp7MzQ\n",
      "https://www.simplyhired.com/search?q=Data+Engineer&l=texas&cursor=AAsAFQDnAAAAAAAAAAAAAAACCRy%2B%2BQEBATUm81P4Ieagi47fzWpHA7hvbvve1VgQxe3qkJpOQ3lbX%2BZQx0Si2FtrZy870wFV7DlpzQ2RYCvI84nyMu1I0qLl04G6GBA7ZhszmjJdpHzychPLCh0ZrJalK2wYUDiRbv5UFxHgoRu6UmmZPJkJR9V106qPSUi%2FfxBvpYuE7nwo73%2FFoQ%3D%3D&job=V_7LWAsfAlrsg_Z4U1NGs8zuoMLpOMpJiyDSWCqvtq3ZTO2xs9IhGw\n"
     ]
    },
    {
     "name": "stderr",
     "output_type": "stream",
     "text": [
      "/tmp/ipykernel_33129/477855742.py:20: FutureWarning: The frame.append method is deprecated and will be removed from pandas in a future version. Use pandas.concat instead.\n",
      "  df = df.append(page_data)\n"
     ]
    },
    {
     "name": "stdout",
     "output_type": "stream",
     "text": [
      "Page Number: 22  Page Link:  https://www.simplyhired.com/search?q=Data+Engineer&l=texas&cursor=AAsAFgDyAAAAAAAAAAAAAAACCRy%2B%2BQECAStYCWQpZP81MFHaNftC9FQG65fpF0qKQG%2BqEiuo9oNSCgg9vRGBEjdmv8USMOucz0uhU92qNZYKPOwGkaMXY9iVxVSTxenEWKQwEN%2BRXXJi5BccEO%2BebK%2FBjkdpotOdAR5X1rY7BLHZ7FscCjz2MamqYOH8x5g93HdwpDMCCC3Zn3ia\n",
      "https://www.simplyhired.com/search?q=Data+Engineer&l=texas&cursor=AAsAFgDyAAAAAAAAAAAAAAACCRy%2B%2BQECAStYCWQpZP81MFHaNftC9FQG65fpF0qKQG%2BqEiuo9oNSCgg9vRGBEjdmv8USMOucz0uhU92qNZYKPOwGkaMXY9iVxVSTxenEWKQwEN%2BRXXJi5BccEO%2BebK%2FBjkdpotOdAR5X1rY7BLHZ7FscCjz2MamqYOH8x5g93HdwpDMCCC3Zn3ia&job=i73sKiiZpP12IVtcfnWrE0ESZxWR2ikG7ksfNFX2znb_uCoXEqetog\n",
      "https://www.simplyhired.com/search?q=Data+Engineer&l=texas&cursor=AAsAFgDyAAAAAAAAAAAAAAACCRy%2B%2BQECAStYCWQpZP81MFHaNftC9FQG65fpF0qKQG%2BqEiuo9oNSCgg9vRGBEjdmv8USMOucz0uhU92qNZYKPOwGkaMXY9iVxVSTxenEWKQwEN%2BRXXJi5BccEO%2BebK%2FBjkdpotOdAR5X1rY7BLHZ7FscCjz2MamqYOH8x5g93HdwpDMCCC3Zn3ia&job=-Ilv6hj68EHNsyH4lLDVeFzCNl3HR9fpx8a3xQ2GTk-ntPPZTm0Ctw\n",
      "https://www.simplyhired.com/search?q=Data+Engineer&l=texas&cursor=AAsAFgDyAAAAAAAAAAAAAAACCRy%2B%2BQECAStYCWQpZP81MFHaNftC9FQG65fpF0qKQG%2BqEiuo9oNSCgg9vRGBEjdmv8USMOucz0uhU92qNZYKPOwGkaMXY9iVxVSTxenEWKQwEN%2BRXXJi5BccEO%2BebK%2FBjkdpotOdAR5X1rY7BLHZ7FscCjz2MamqYOH8x5g93HdwpDMCCC3Zn3ia&job=2K_x0Ti588m9hH6b7es35k-tBQ4F55W5aiewdUnxUPTV17To7-oQeg\n",
      "https://www.simplyhired.com/search?q=Data+Engineer&l=texas&cursor=AAsAFgDyAAAAAAAAAAAAAAACCRy%2B%2BQECAStYCWQpZP81MFHaNftC9FQG65fpF0qKQG%2BqEiuo9oNSCgg9vRGBEjdmv8USMOucz0uhU92qNZYKPOwGkaMXY9iVxVSTxenEWKQwEN%2BRXXJi5BccEO%2BebK%2FBjkdpotOdAR5X1rY7BLHZ7FscCjz2MamqYOH8x5g93HdwpDMCCC3Zn3ia&job=IFuQuYOsItZDaKaTa90hHwBOarnRG3AtYrRFizQO3f9RAWXA_ImJvQ\n",
      "https://www.simplyhired.com/search?q=Data+Engineer&l=texas&cursor=AAsAFgDyAAAAAAAAAAAAAAACCRy%2B%2BQECAStYCWQpZP81MFHaNftC9FQG65fpF0qKQG%2BqEiuo9oNSCgg9vRGBEjdmv8USMOucz0uhU92qNZYKPOwGkaMXY9iVxVSTxenEWKQwEN%2BRXXJi5BccEO%2BebK%2FBjkdpotOdAR5X1rY7BLHZ7FscCjz2MamqYOH8x5g93HdwpDMCCC3Zn3ia&job=mYKibLYoDrKHKoaONCxvy7yvBCP84ME0LubvKAG0dYo0libyCb5ZvA\n",
      "https://www.simplyhired.com/search?q=Data+Engineer&l=texas&cursor=AAsAFgDyAAAAAAAAAAAAAAACCRy%2B%2BQECAStYCWQpZP81MFHaNftC9FQG65fpF0qKQG%2BqEiuo9oNSCgg9vRGBEjdmv8USMOucz0uhU92qNZYKPOwGkaMXY9iVxVSTxenEWKQwEN%2BRXXJi5BccEO%2BebK%2FBjkdpotOdAR5X1rY7BLHZ7FscCjz2MamqYOH8x5g93HdwpDMCCC3Zn3ia&job=UoJIZpWVbF0P9SeUlZnBouegy34wtOKOZnV4IynJzfF3dVInYbfnWg\n",
      "https://www.simplyhired.com/search?q=Data+Engineer&l=texas&cursor=AAsAFgDyAAAAAAAAAAAAAAACCRy%2B%2BQECAStYCWQpZP81MFHaNftC9FQG65fpF0qKQG%2BqEiuo9oNSCgg9vRGBEjdmv8USMOucz0uhU92qNZYKPOwGkaMXY9iVxVSTxenEWKQwEN%2BRXXJi5BccEO%2BebK%2FBjkdpotOdAR5X1rY7BLHZ7FscCjz2MamqYOH8x5g93HdwpDMCCC3Zn3ia&job=EGja1Gg8hTPCbhL2cYts7vh1aYCKUQ-lLUgBiQKmUanc27ep1JNuFg\n",
      "https://www.simplyhired.com/search?q=Data+Engineer&l=texas&cursor=AAsAFgDyAAAAAAAAAAAAAAACCRy%2B%2BQECAStYCWQpZP81MFHaNftC9FQG65fpF0qKQG%2BqEiuo9oNSCgg9vRGBEjdmv8USMOucz0uhU92qNZYKPOwGkaMXY9iVxVSTxenEWKQwEN%2BRXXJi5BccEO%2BebK%2FBjkdpotOdAR5X1rY7BLHZ7FscCjz2MamqYOH8x5g93HdwpDMCCC3Zn3ia&job=cDvBgmZXSJvsgrvUqxjGyrAHGk5coJGmVChzBzip_pPNkn7EQnVykQ\n",
      "https://www.simplyhired.com/search?q=Data+Engineer&l=texas&cursor=AAsAFgDyAAAAAAAAAAAAAAACCRy%2B%2BQECAStYCWQpZP81MFHaNftC9FQG65fpF0qKQG%2BqEiuo9oNSCgg9vRGBEjdmv8USMOucz0uhU92qNZYKPOwGkaMXY9iVxVSTxenEWKQwEN%2BRXXJi5BccEO%2BebK%2FBjkdpotOdAR5X1rY7BLHZ7FscCjz2MamqYOH8x5g93HdwpDMCCC3Zn3ia&job=hjF2dxBUpEY-lEBIJ2forUdKsj97ZU5dgSWMgDp4L5Gvts1dC4U4uQ\n",
      "https://www.simplyhired.com/search?q=Data+Engineer&l=texas&cursor=AAsAFgDyAAAAAAAAAAAAAAACCRy%2B%2BQECAStYCWQpZP81MFHaNftC9FQG65fpF0qKQG%2BqEiuo9oNSCgg9vRGBEjdmv8USMOucz0uhU92qNZYKPOwGkaMXY9iVxVSTxenEWKQwEN%2BRXXJi5BccEO%2BebK%2FBjkdpotOdAR5X1rY7BLHZ7FscCjz2MamqYOH8x5g93HdwpDMCCC3Zn3ia&job=DwYnXH3KP379YEjqXKmXgo5-mQRTfj_Awb1MpQvkRvQNMgJUacI5gg\n",
      "https://www.simplyhired.com/search?q=Data+Engineer&l=texas&cursor=AAsAFgDyAAAAAAAAAAAAAAACCRy%2B%2BQECAStYCWQpZP81MFHaNftC9FQG65fpF0qKQG%2BqEiuo9oNSCgg9vRGBEjdmv8USMOucz0uhU92qNZYKPOwGkaMXY9iVxVSTxenEWKQwEN%2BRXXJi5BccEO%2BebK%2FBjkdpotOdAR5X1rY7BLHZ7FscCjz2MamqYOH8x5g93HdwpDMCCC3Zn3ia&job=XZmKg0kXM3ja1K4EA8tAtVks3zZ77m4tGahuuk_k8qc5EeZymge3-w\n"
     ]
    },
    {
     "name": "stderr",
     "output_type": "stream",
     "text": [
      "/tmp/ipykernel_33129/477855742.py:20: FutureWarning: The frame.append method is deprecated and will be removed from pandas in a future version. Use pandas.concat instead.\n",
      "  df = df.append(page_data)\n"
     ]
    },
    {
     "name": "stdout",
     "output_type": "stream",
     "text": [
      "Page Number: 23  Page Link:  https://www.simplyhired.com/search?q=Data+Engineer&l=texas&cursor=AAsAFwD9AAAAAAAAAAAAAAACCRy%2B%2BQEDARo6Dh4RAhe7HZI%2Bjq5rAWRwgJagwjk%2Bq6jwsVBlWs0xp2IJ%2FoNOIo%2FvRVjMEGxdQnazxkqutBlW8B5RfzP3kICSRmYEXbxQ3mcyKdlPslS5w%2FrZzFADOfTK0Cy2ern6mZlcLD%2FDs3PAraW0p72cOR7JNzk5AhgXGiyImoHysw%3D%3D\n",
      "https://www.simplyhired.com/search?q=Data+Engineer&l=texas&cursor=AAsAFwD9AAAAAAAAAAAAAAACCRy%2B%2BQEDARo6Dh4RAhe7HZI%2Bjq5rAWRwgJagwjk%2Bq6jwsVBlWs0xp2IJ%2FoNOIo%2FvRVjMEGxdQnazxkqutBlW8B5RfzP3kICSRmYEXbxQ3mcyKdlPslS5w%2FrZzFADOfTK0Cy2ern6mZlcLD%2FDs3PAraW0p72cOR7JNzk5AhgXGiyImoHysw%3D%3D&job=MrxAHwZQMCuyqxNBeCAU3zifzWaee_xU3tMVqHTumHn0AUPlqBiurQ\n",
      "https://www.simplyhired.com/search?q=Data+Engineer&l=texas&cursor=AAsAFwD9AAAAAAAAAAAAAAACCRy%2B%2BQEDARo6Dh4RAhe7HZI%2Bjq5rAWRwgJagwjk%2Bq6jwsVBlWs0xp2IJ%2FoNOIo%2FvRVjMEGxdQnazxkqutBlW8B5RfzP3kICSRmYEXbxQ3mcyKdlPslS5w%2FrZzFADOfTK0Cy2ern6mZlcLD%2FDs3PAraW0p72cOR7JNzk5AhgXGiyImoHysw%3D%3D&job=p_pd1zJBXA3lXSl7BwD3CArqtHvIWYGx2K7m_jCa7H9CIcoqGu673Q\n",
      "https://www.simplyhired.com/search?q=Data+Engineer&l=texas&cursor=AAsAFwD9AAAAAAAAAAAAAAACCRy%2B%2BQEDARo6Dh4RAhe7HZI%2Bjq5rAWRwgJagwjk%2Bq6jwsVBlWs0xp2IJ%2FoNOIo%2FvRVjMEGxdQnazxkqutBlW8B5RfzP3kICSRmYEXbxQ3mcyKdlPslS5w%2FrZzFADOfTK0Cy2ern6mZlcLD%2FDs3PAraW0p72cOR7JNzk5AhgXGiyImoHysw%3D%3D&job=0juYtAJEO8Hdd5oLOSsRHpWQsexSOGd2Vp0qDXhkXNNPZebM0Oe5vQ\n",
      "https://www.simplyhired.com/search?q=Data+Engineer&l=texas&cursor=AAsAFwD9AAAAAAAAAAAAAAACCRy%2B%2BQEDARo6Dh4RAhe7HZI%2Bjq5rAWRwgJagwjk%2Bq6jwsVBlWs0xp2IJ%2FoNOIo%2FvRVjMEGxdQnazxkqutBlW8B5RfzP3kICSRmYEXbxQ3mcyKdlPslS5w%2FrZzFADOfTK0Cy2ern6mZlcLD%2FDs3PAraW0p72cOR7JNzk5AhgXGiyImoHysw%3D%3D&job=fm3RVEDk0FhbCwr3nM-2Bp3IHY_q4DkfC4rI6-PR5XsxxOg_5rBLYw\n",
      "https://www.simplyhired.com/search?q=Data+Engineer&l=texas&cursor=AAsAFwD9AAAAAAAAAAAAAAACCRy%2B%2BQEDARo6Dh4RAhe7HZI%2Bjq5rAWRwgJagwjk%2Bq6jwsVBlWs0xp2IJ%2FoNOIo%2FvRVjMEGxdQnazxkqutBlW8B5RfzP3kICSRmYEXbxQ3mcyKdlPslS5w%2FrZzFADOfTK0Cy2ern6mZlcLD%2FDs3PAraW0p72cOR7JNzk5AhgXGiyImoHysw%3D%3D&job=odzw_aI8YufiRX5D2vjwnI0-lDo1lYblI4ALzV9MYwy5cf1deLDkcw\n",
      "https://www.simplyhired.com/search?q=Data+Engineer&l=texas&cursor=AAsAFwD9AAAAAAAAAAAAAAACCRy%2B%2BQEDARo6Dh4RAhe7HZI%2Bjq5rAWRwgJagwjk%2Bq6jwsVBlWs0xp2IJ%2FoNOIo%2FvRVjMEGxdQnazxkqutBlW8B5RfzP3kICSRmYEXbxQ3mcyKdlPslS5w%2FrZzFADOfTK0Cy2ern6mZlcLD%2FDs3PAraW0p72cOR7JNzk5AhgXGiyImoHysw%3D%3D&job=cN1o6bXiOiFDnZMPsJ1o0yP55UBSENVTOunvb0KEcBMfJa4Xk87K6A\n",
      "https://www.simplyhired.com/search?q=Data+Engineer&l=texas&cursor=AAsAFwD9AAAAAAAAAAAAAAACCRy%2B%2BQEDARo6Dh4RAhe7HZI%2Bjq5rAWRwgJagwjk%2Bq6jwsVBlWs0xp2IJ%2FoNOIo%2FvRVjMEGxdQnazxkqutBlW8B5RfzP3kICSRmYEXbxQ3mcyKdlPslS5w%2FrZzFADOfTK0Cy2ern6mZlcLD%2FDs3PAraW0p72cOR7JNzk5AhgXGiyImoHysw%3D%3D&job=k7a2jCtuYSAy-F3sgGDX4ENShQf8LrZFNOBZX5WxrrbDYUGZ5qU1bw\n",
      "https://www.simplyhired.com/search?q=Data+Engineer&l=texas&cursor=AAsAFwD9AAAAAAAAAAAAAAACCRy%2B%2BQEDARo6Dh4RAhe7HZI%2Bjq5rAWRwgJagwjk%2Bq6jwsVBlWs0xp2IJ%2FoNOIo%2FvRVjMEGxdQnazxkqutBlW8B5RfzP3kICSRmYEXbxQ3mcyKdlPslS5w%2FrZzFADOfTK0Cy2ern6mZlcLD%2FDs3PAraW0p72cOR7JNzk5AhgXGiyImoHysw%3D%3D&job=xhby3stThBsMmQnouLypKRhpu-_RNRyQCvmWQTt7ZFK_7x9iycYVPw\n",
      "https://www.simplyhired.com/search?q=Data+Engineer&l=texas&cursor=AAsAFwD9AAAAAAAAAAAAAAACCRy%2B%2BQEDARo6Dh4RAhe7HZI%2Bjq5rAWRwgJagwjk%2Bq6jwsVBlWs0xp2IJ%2FoNOIo%2FvRVjMEGxdQnazxkqutBlW8B5RfzP3kICSRmYEXbxQ3mcyKdlPslS5w%2FrZzFADOfTK0Cy2ern6mZlcLD%2FDs3PAraW0p72cOR7JNzk5AhgXGiyImoHysw%3D%3D&job=WEaXSe0Ep_WtFj4f1UQ-AbWTLOqQl5YUO4pU7GldDMhVcAEV97JrKg\n",
      "https://www.simplyhired.com/search?q=Data+Engineer&l=texas&cursor=AAsAFwD9AAAAAAAAAAAAAAACCRy%2B%2BQEDARo6Dh4RAhe7HZI%2Bjq5rAWRwgJagwjk%2Bq6jwsVBlWs0xp2IJ%2FoNOIo%2FvRVjMEGxdQnazxkqutBlW8B5RfzP3kICSRmYEXbxQ3mcyKdlPslS5w%2FrZzFADOfTK0Cy2ern6mZlcLD%2FDs3PAraW0p72cOR7JNzk5AhgXGiyImoHysw%3D%3D&job=mVudSxn3OmVfoL5Sec549jvj6tUH4Cnr9zO041UhsGJO00x5sIRgSQ\n",
      "https://www.simplyhired.com/search?q=Data+Engineer&l=texas&cursor=AAsAFwD9AAAAAAAAAAAAAAACCRy%2B%2BQEDARo6Dh4RAhe7HZI%2Bjq5rAWRwgJagwjk%2Bq6jwsVBlWs0xp2IJ%2FoNOIo%2FvRVjMEGxdQnazxkqutBlW8B5RfzP3kICSRmYEXbxQ3mcyKdlPslS5w%2FrZzFADOfTK0Cy2ern6mZlcLD%2FDs3PAraW0p72cOR7JNzk5AhgXGiyImoHysw%3D%3D&job=hZGyXzXx0Do9UUiJ0C0BV8NBMVpeYYftiuiUzpOFZQz4gpdTCFUY_g\n"
     ]
    },
    {
     "name": "stderr",
     "output_type": "stream",
     "text": [
      "/tmp/ipykernel_33129/477855742.py:20: FutureWarning: The frame.append method is deprecated and will be removed from pandas in a future version. Use pandas.concat instead.\n",
      "  df = df.append(page_data)\n"
     ]
    },
    {
     "name": "stdout",
     "output_type": "stream",
     "text": [
      "Page Number: 24  Page Link:  https://www.simplyhired.com/search?q=Data+Engineer&l=texas&cursor=AAsAGAEIAAAAAAAAAAAAAAACCRy%2B%2BQEDARo6CR4RKqI5KQmr5Iuqemv8r5h8%2FnhJ%2BC7HqsTabvXPH5WjDG4Zhvm2U8riEp63DqWuVdmhuFh7NaJr9KXU6z%2FVf8VB1%2BdW1izX74HUBrxr4l2VchwuH873as64ZKimkqKRqO71VM3WXfGF1W00Av6DPt%2FTGRixrhvcHg%3D%3D\n",
      "https://www.simplyhired.com/search?q=Data+Engineer&l=texas&cursor=AAsAGAEIAAAAAAAAAAAAAAACCRy%2B%2BQEDARo6CR4RKqI5KQmr5Iuqemv8r5h8%2FnhJ%2BC7HqsTabvXPH5WjDG4Zhvm2U8riEp63DqWuVdmhuFh7NaJr9KXU6z%2FVf8VB1%2BdW1izX74HUBrxr4l2VchwuH873as64ZKimkqKRqO71VM3WXfGF1W00Av6DPt%2FTGRixrhvcHg%3D%3D&job=F7cYno4JYikUpPVSVF5YLq7i0QepUi5bSnbs_KdnYJRSXqNdhIoa6A\n",
      "https://www.simplyhired.com/search?q=Data+Engineer&l=texas&cursor=AAsAGAEIAAAAAAAAAAAAAAACCRy%2B%2BQEDARo6CR4RKqI5KQmr5Iuqemv8r5h8%2FnhJ%2BC7HqsTabvXPH5WjDG4Zhvm2U8riEp63DqWuVdmhuFh7NaJr9KXU6z%2FVf8VB1%2BdW1izX74HUBrxr4l2VchwuH873as64ZKimkqKRqO71VM3WXfGF1W00Av6DPt%2FTGRixrhvcHg%3D%3D&job=ZIX5JZzoQze7QfM6NxEAKKQU-tsg8hlzLDnhBn9zjKhhZtDTBPSzMw\n",
      "https://www.simplyhired.com/search?q=Data+Engineer&l=texas&cursor=AAsAGAEIAAAAAAAAAAAAAAACCRy%2B%2BQEDARo6CR4RKqI5KQmr5Iuqemv8r5h8%2FnhJ%2BC7HqsTabvXPH5WjDG4Zhvm2U8riEp63DqWuVdmhuFh7NaJr9KXU6z%2FVf8VB1%2BdW1izX74HUBrxr4l2VchwuH873as64ZKimkqKRqO71VM3WXfGF1W00Av6DPt%2FTGRixrhvcHg%3D%3D&job=kJ1gtgJdijg1pAbZieCitc0AT_GePlMkadfzmXcjE1oprxdleZbymQ\n",
      "https://www.simplyhired.com/search?q=Data+Engineer&l=texas&cursor=AAsAGAEIAAAAAAAAAAAAAAACCRy%2B%2BQEDARo6CR4RKqI5KQmr5Iuqemv8r5h8%2FnhJ%2BC7HqsTabvXPH5WjDG4Zhvm2U8riEp63DqWuVdmhuFh7NaJr9KXU6z%2FVf8VB1%2BdW1izX74HUBrxr4l2VchwuH873as64ZKimkqKRqO71VM3WXfGF1W00Av6DPt%2FTGRixrhvcHg%3D%3D&job=OJZfeFFbgABww_oXpq3yuciazwIDR2HTqn4o8kbp4pI46Gb4crjtPQ\n",
      "https://www.simplyhired.com/search?q=Data+Engineer&l=texas&cursor=AAsAGAEIAAAAAAAAAAAAAAACCRy%2B%2BQEDARo6CR4RKqI5KQmr5Iuqemv8r5h8%2FnhJ%2BC7HqsTabvXPH5WjDG4Zhvm2U8riEp63DqWuVdmhuFh7NaJr9KXU6z%2FVf8VB1%2BdW1izX74HUBrxr4l2VchwuH873as64ZKimkqKRqO71VM3WXfGF1W00Av6DPt%2FTGRixrhvcHg%3D%3D&job=JJ95avjqw1INEzX0OSEV33ygGaWPGXGWTxpVnuIrXeEv8K0C_1NCEA\n",
      "https://www.simplyhired.com/search?q=Data+Engineer&l=texas&cursor=AAsAGAEIAAAAAAAAAAAAAAACCRy%2B%2BQEDARo6CR4RKqI5KQmr5Iuqemv8r5h8%2FnhJ%2BC7HqsTabvXPH5WjDG4Zhvm2U8riEp63DqWuVdmhuFh7NaJr9KXU6z%2FVf8VB1%2BdW1izX74HUBrxr4l2VchwuH873as64ZKimkqKRqO71VM3WXfGF1W00Av6DPt%2FTGRixrhvcHg%3D%3D&job=LXqhpHHZW58bUclX9zoelfq8zHJwvK0f0KuxuwLCks3s7cI5YWNidg\n",
      "https://www.simplyhired.com/search?q=Data+Engineer&l=texas&cursor=AAsAGAEIAAAAAAAAAAAAAAACCRy%2B%2BQEDARo6CR4RKqI5KQmr5Iuqemv8r5h8%2FnhJ%2BC7HqsTabvXPH5WjDG4Zhvm2U8riEp63DqWuVdmhuFh7NaJr9KXU6z%2FVf8VB1%2BdW1izX74HUBrxr4l2VchwuH873as64ZKimkqKRqO71VM3WXfGF1W00Av6DPt%2FTGRixrhvcHg%3D%3D&job=KSDuVT8Dq69zttzpgOspEPKBtHXVkouphToeqtjY2tVgPP8-JXB2oQ\n",
      "https://www.simplyhired.com/search?q=Data+Engineer&l=texas&cursor=AAsAGAEIAAAAAAAAAAAAAAACCRy%2B%2BQEDARo6CR4RKqI5KQmr5Iuqemv8r5h8%2FnhJ%2BC7HqsTabvXPH5WjDG4Zhvm2U8riEp63DqWuVdmhuFh7NaJr9KXU6z%2FVf8VB1%2BdW1izX74HUBrxr4l2VchwuH873as64ZKimkqKRqO71VM3WXfGF1W00Av6DPt%2FTGRixrhvcHg%3D%3D&job=FJD5zl8uT-Y2RBrK3iXQxySGsNunKjH_3wDGllSxxP1nxNUNsn-LYQ\n",
      "https://www.simplyhired.com/search?q=Data+Engineer&l=texas&cursor=AAsAGAEIAAAAAAAAAAAAAAACCRy%2B%2BQEDARo6CR4RKqI5KQmr5Iuqemv8r5h8%2FnhJ%2BC7HqsTabvXPH5WjDG4Zhvm2U8riEp63DqWuVdmhuFh7NaJr9KXU6z%2FVf8VB1%2BdW1izX74HUBrxr4l2VchwuH873as64ZKimkqKRqO71VM3WXfGF1W00Av6DPt%2FTGRixrhvcHg%3D%3D&job=VDyFuQNkjGu0c3uX_yBJUqDwZsjkhwRC7KUXCcqNg0d3TKsA2ZXivw\n",
      "https://www.simplyhired.com/search?q=Data+Engineer&l=texas&cursor=AAsAGAEIAAAAAAAAAAAAAAACCRy%2B%2BQEDARo6CR4RKqI5KQmr5Iuqemv8r5h8%2FnhJ%2BC7HqsTabvXPH5WjDG4Zhvm2U8riEp63DqWuVdmhuFh7NaJr9KXU6z%2FVf8VB1%2BdW1izX74HUBrxr4l2VchwuH873as64ZKimkqKRqO71VM3WXfGF1W00Av6DPt%2FTGRixrhvcHg%3D%3D&job=hsFwPlCiUEcrMMR_yARAO1lZIiao9F1Z0t0x39T7ye6H9SJW3sbeXQ\n",
      "https://www.simplyhired.com/search?q=Data+Engineer&l=texas&cursor=AAsAGAEIAAAAAAAAAAAAAAACCRy%2B%2BQEDARo6CR4RKqI5KQmr5Iuqemv8r5h8%2FnhJ%2BC7HqsTabvXPH5WjDG4Zhvm2U8riEp63DqWuVdmhuFh7NaJr9KXU6z%2FVf8VB1%2BdW1izX74HUBrxr4l2VchwuH873as64ZKimkqKRqO71VM3WXfGF1W00Av6DPt%2FTGRixrhvcHg%3D%3D&job=M5u8Nm5ntqLvOlVgQ5gjVG4WA5pwlVJCKslEOs8nJTTEGq91QETNfw\n"
     ]
    },
    {
     "name": "stderr",
     "output_type": "stream",
     "text": [
      "/tmp/ipykernel_33129/477855742.py:20: FutureWarning: The frame.append method is deprecated and will be removed from pandas in a future version. Use pandas.concat instead.\n",
      "  df = df.append(page_data)\n"
     ]
    },
    {
     "name": "stdout",
     "output_type": "stream",
     "text": [
      "Page Number: 25  Page Link:  https://www.simplyhired.com/search?q=Data+Engineer&l=texas&cursor=AAsAGQETAAAAAAAAAAAAAAACCRy%2B%2BQEDARo6CR4RF7%2B7tjiWf%2BOu2%2FXou7t0hrhnoAddTyq%2B8ENwBXw0%2BgASvnshMerVU8BLXVXQa9oOBTOQqp9MTYSR7bHp09%2FXewHEB%2FX51hrRhJhNQAeTfNSvX2FWmb80p7%2FXB9xL%2BpYj14BSfkuMlt3HU2jlB8%2BPcKxPaSY%3D\n",
      "https://www.simplyhired.com/search?q=Data+Engineer&l=texas&cursor=AAsAGQETAAAAAAAAAAAAAAACCRy%2B%2BQEDARo6CR4RF7%2B7tjiWf%2BOu2%2FXou7t0hrhnoAddTyq%2B8ENwBXw0%2BgASvnshMerVU8BLXVXQa9oOBTOQqp9MTYSR7bHp09%2FXewHEB%2FX51hrRhJhNQAeTfNSvX2FWmb80p7%2FXB9xL%2BpYj14BSfkuMlt3HU2jlB8%2BPcKxPaSY%3D&job=Pqy0JgerqWsXnpj7WaQXaKK3lcf0R5qFlObf8Vn3xZXjBX5z1AgHrQ\n",
      "https://www.simplyhired.com/search?q=Data+Engineer&l=texas&cursor=AAsAGQETAAAAAAAAAAAAAAACCRy%2B%2BQEDARo6CR4RF7%2B7tjiWf%2BOu2%2FXou7t0hrhnoAddTyq%2B8ENwBXw0%2BgASvnshMerVU8BLXVXQa9oOBTOQqp9MTYSR7bHp09%2FXewHEB%2FX51hrRhJhNQAeTfNSvX2FWmb80p7%2FXB9xL%2BpYj14BSfkuMlt3HU2jlB8%2BPcKxPaSY%3D&job=6us3egWh8YPoaSRXyM1vKdaIHIxa4P5GPtL8gEFQeKZGaG2u-_fRfQ\n",
      "https://www.simplyhired.com/search?q=Data+Engineer&l=texas&cursor=AAsAGQETAAAAAAAAAAAAAAACCRy%2B%2BQEDARo6CR4RF7%2B7tjiWf%2BOu2%2FXou7t0hrhnoAddTyq%2B8ENwBXw0%2BgASvnshMerVU8BLXVXQa9oOBTOQqp9MTYSR7bHp09%2FXewHEB%2FX51hrRhJhNQAeTfNSvX2FWmb80p7%2FXB9xL%2BpYj14BSfkuMlt3HU2jlB8%2BPcKxPaSY%3D&job=cViuSD6d0yIYC5wERfyypLaINQUI-8iVYpKfRernEv5wyh-UWIRz_Q\n",
      "https://www.simplyhired.com/search?q=Data+Engineer&l=texas&cursor=AAsAGQETAAAAAAAAAAAAAAACCRy%2B%2BQEDARo6CR4RF7%2B7tjiWf%2BOu2%2FXou7t0hrhnoAddTyq%2B8ENwBXw0%2BgASvnshMerVU8BLXVXQa9oOBTOQqp9MTYSR7bHp09%2FXewHEB%2FX51hrRhJhNQAeTfNSvX2FWmb80p7%2FXB9xL%2BpYj14BSfkuMlt3HU2jlB8%2BPcKxPaSY%3D&job=IUJmU1lmAkAjD5qOTKeFBoFWGkwDR0l3BWeehU59hy3Vo-Lc12YGqw\n",
      "https://www.simplyhired.com/search?q=Data+Engineer&l=texas&cursor=AAsAGQETAAAAAAAAAAAAAAACCRy%2B%2BQEDARo6CR4RF7%2B7tjiWf%2BOu2%2FXou7t0hrhnoAddTyq%2B8ENwBXw0%2BgASvnshMerVU8BLXVXQa9oOBTOQqp9MTYSR7bHp09%2FXewHEB%2FX51hrRhJhNQAeTfNSvX2FWmb80p7%2FXB9xL%2BpYj14BSfkuMlt3HU2jlB8%2BPcKxPaSY%3D&job=dpZ-E6IMvpu5TXiG0_CwnE0OG4wxZdQgz0kE03xbRnMFJyyyVZM_PA\n",
      "https://www.simplyhired.com/search?q=Data+Engineer&l=texas&cursor=AAsAGQETAAAAAAAAAAAAAAACCRy%2B%2BQEDARo6CR4RF7%2B7tjiWf%2BOu2%2FXou7t0hrhnoAddTyq%2B8ENwBXw0%2BgASvnshMerVU8BLXVXQa9oOBTOQqp9MTYSR7bHp09%2FXewHEB%2FX51hrRhJhNQAeTfNSvX2FWmb80p7%2FXB9xL%2BpYj14BSfkuMlt3HU2jlB8%2BPcKxPaSY%3D&job=EZMlO_15cw0Ywn5gMKD1sO3SyewEQc4NoRLZMifFbuj0qeysxeVtCQ\n",
      "https://www.simplyhired.com/search?q=Data+Engineer&l=texas&cursor=AAsAGQETAAAAAAAAAAAAAAACCRy%2B%2BQEDARo6CR4RF7%2B7tjiWf%2BOu2%2FXou7t0hrhnoAddTyq%2B8ENwBXw0%2BgASvnshMerVU8BLXVXQa9oOBTOQqp9MTYSR7bHp09%2FXewHEB%2FX51hrRhJhNQAeTfNSvX2FWmb80p7%2FXB9xL%2BpYj14BSfkuMlt3HU2jlB8%2BPcKxPaSY%3D&job=QrgGIbEOM_uqc-b_WhPn_gyXRsZZTLCPJ7MLRvBN-yOuTeT9N9Hb_w\n",
      "https://www.simplyhired.com/search?q=Data+Engineer&l=texas&cursor=AAsAGQETAAAAAAAAAAAAAAACCRy%2B%2BQEDARo6CR4RF7%2B7tjiWf%2BOu2%2FXou7t0hrhnoAddTyq%2B8ENwBXw0%2BgASvnshMerVU8BLXVXQa9oOBTOQqp9MTYSR7bHp09%2FXewHEB%2FX51hrRhJhNQAeTfNSvX2FWmb80p7%2FXB9xL%2BpYj14BSfkuMlt3HU2jlB8%2BPcKxPaSY%3D&job=_Vv3oxdkLou4ePkagiIr5uyLzZXFSQcukcIaZ6pTX92D2ikukdu0-A\n",
      "https://www.simplyhired.com/search?q=Data+Engineer&l=texas&cursor=AAsAGQETAAAAAAAAAAAAAAACCRy%2B%2BQEDARo6CR4RF7%2B7tjiWf%2BOu2%2FXou7t0hrhnoAddTyq%2B8ENwBXw0%2BgASvnshMerVU8BLXVXQa9oOBTOQqp9MTYSR7bHp09%2FXewHEB%2FX51hrRhJhNQAeTfNSvX2FWmb80p7%2FXB9xL%2BpYj14BSfkuMlt3HU2jlB8%2BPcKxPaSY%3D&job=HT-7F-NAPkerB8R8TQZzMgd_ubOz5DV9W6YEjf0uZDiuyoZQE5tyaw\n",
      "https://www.simplyhired.com/search?q=Data+Engineer&l=texas&cursor=AAsAGQETAAAAAAAAAAAAAAACCRy%2B%2BQEDARo6CR4RF7%2B7tjiWf%2BOu2%2FXou7t0hrhnoAddTyq%2B8ENwBXw0%2BgASvnshMerVU8BLXVXQa9oOBTOQqp9MTYSR7bHp09%2FXewHEB%2FX51hrRhJhNQAeTfNSvX2FWmb80p7%2FXB9xL%2BpYj14BSfkuMlt3HU2jlB8%2BPcKxPaSY%3D&job=CQE6KtflGkqIMXEW_at8OA1mU6ZEWZ3XgUDVnjY-zLFht7y5RUT7Nw\n",
      "https://www.simplyhired.com/search?q=Data+Engineer&l=texas&cursor=AAsAGQETAAAAAAAAAAAAAAACCRy%2B%2BQEDARo6CR4RF7%2B7tjiWf%2BOu2%2FXou7t0hrhnoAddTyq%2B8ENwBXw0%2BgASvnshMerVU8BLXVXQa9oOBTOQqp9MTYSR7bHp09%2FXewHEB%2FX51hrRhJhNQAeTfNSvX2FWmb80p7%2FXB9xL%2BpYj14BSfkuMlt3HU2jlB8%2BPcKxPaSY%3D&job=Y56Am2jPbhVUt2LcPy4qJ_1raryiKy4DkVcc51iKyPuWryTDzJ7PbA\n"
     ]
    },
    {
     "name": "stderr",
     "output_type": "stream",
     "text": [
      "/tmp/ipykernel_33129/477855742.py:20: FutureWarning: The frame.append method is deprecated and will be removed from pandas in a future version. Use pandas.concat instead.\n",
      "  df = df.append(page_data)\n"
     ]
    },
    {
     "name": "stdout",
     "output_type": "stream",
     "text": [
      "Page Number: 26  Page Link:  https://www.simplyhired.com/search?q=Data+Engineer&l=texas&cursor=AAsAGgEeAAAAAAAAAAAAAAACCRy%2B%2BQEEARImBxQJHBFi3Pn8JveSBYiTqtIJ1OHn3OKQNaJzT0EyHuH0Hm4NOfSVaPtueMD30DWXFP8XLyk%2Fifz4q3mPqnBOMwNI80770bajA8jL7s129RedCGq%2FMqD18XUOVyYJovJYkq3mTW6Zh757%2F5JyZ%2F9JGk0%3D\n",
      "https://www.simplyhired.com/search?q=Data+Engineer&l=texas&cursor=AAsAGgEeAAAAAAAAAAAAAAACCRy%2B%2BQEEARImBxQJHBFi3Pn8JveSBYiTqtIJ1OHn3OKQNaJzT0EyHuH0Hm4NOfSVaPtueMD30DWXFP8XLyk%2Fifz4q3mPqnBOMwNI80770bajA8jL7s129RedCGq%2FMqD18XUOVyYJovJYkq3mTW6Zh757%2F5JyZ%2F9JGk0%3D&job=8TCqC6XxowITW0x1fkjB816YFHIXlFENJmziBFAP4uYetipS2UDz4g\n",
      "https://www.simplyhired.com/search?q=Data+Engineer&l=texas&cursor=AAsAGgEeAAAAAAAAAAAAAAACCRy%2B%2BQEEARImBxQJHBFi3Pn8JveSBYiTqtIJ1OHn3OKQNaJzT0EyHuH0Hm4NOfSVaPtueMD30DWXFP8XLyk%2Fifz4q3mPqnBOMwNI80770bajA8jL7s129RedCGq%2FMqD18XUOVyYJovJYkq3mTW6Zh757%2F5JyZ%2F9JGk0%3D&job=IDlKY2iH2T1QB9M0qCvE1Tbm0EYetsPj3yv0oOelT7bo6IhUSmyzpQ\n",
      "https://www.simplyhired.com/search?q=Data+Engineer&l=texas&cursor=AAsAGgEeAAAAAAAAAAAAAAACCRy%2B%2BQEEARImBxQJHBFi3Pn8JveSBYiTqtIJ1OHn3OKQNaJzT0EyHuH0Hm4NOfSVaPtueMD30DWXFP8XLyk%2Fifz4q3mPqnBOMwNI80770bajA8jL7s129RedCGq%2FMqD18XUOVyYJovJYkq3mTW6Zh757%2F5JyZ%2F9JGk0%3D&job=3FiUrJltVjqsb0936CNER8xS-3qfbNw2iwuRsTSaEthSTsz1Yol_9g\n",
      "https://www.simplyhired.com/search?q=Data+Engineer&l=texas&cursor=AAsAGgEeAAAAAAAAAAAAAAACCRy%2B%2BQEEARImBxQJHBFi3Pn8JveSBYiTqtIJ1OHn3OKQNaJzT0EyHuH0Hm4NOfSVaPtueMD30DWXFP8XLyk%2Fifz4q3mPqnBOMwNI80770bajA8jL7s129RedCGq%2FMqD18XUOVyYJovJYkq3mTW6Zh757%2F5JyZ%2F9JGk0%3D&job=TlYcYwgj74JsUNXrLeMpUDCowQ7hK4uX337-F2IIuTytXZTdcUEY-Q\n",
      "https://www.simplyhired.com/search?q=Data+Engineer&l=texas&cursor=AAsAGgEeAAAAAAAAAAAAAAACCRy%2B%2BQEEARImBxQJHBFi3Pn8JveSBYiTqtIJ1OHn3OKQNaJzT0EyHuH0Hm4NOfSVaPtueMD30DWXFP8XLyk%2Fifz4q3mPqnBOMwNI80770bajA8jL7s129RedCGq%2FMqD18XUOVyYJovJYkq3mTW6Zh757%2F5JyZ%2F9JGk0%3D&job=c1QfN2pkNGFfln3-5F3o09cX0lDZdNZs7MClbzqiEg0VHvmld2_Qlg\n",
      "https://www.simplyhired.com/search?q=Data+Engineer&l=texas&cursor=AAsAGgEeAAAAAAAAAAAAAAACCRy%2B%2BQEEARImBxQJHBFi3Pn8JveSBYiTqtIJ1OHn3OKQNaJzT0EyHuH0Hm4NOfSVaPtueMD30DWXFP8XLyk%2Fifz4q3mPqnBOMwNI80770bajA8jL7s129RedCGq%2FMqD18XUOVyYJovJYkq3mTW6Zh757%2F5JyZ%2F9JGk0%3D&job=lwZs57eXw-RsOUOzmG-kXEmVg3B4r3HoKgMw8qz_EUgAQ-cYy2TIow\n",
      "https://www.simplyhired.com/search?q=Data+Engineer&l=texas&cursor=AAsAGgEeAAAAAAAAAAAAAAACCRy%2B%2BQEEARImBxQJHBFi3Pn8JveSBYiTqtIJ1OHn3OKQNaJzT0EyHuH0Hm4NOfSVaPtueMD30DWXFP8XLyk%2Fifz4q3mPqnBOMwNI80770bajA8jL7s129RedCGq%2FMqD18XUOVyYJovJYkq3mTW6Zh757%2F5JyZ%2F9JGk0%3D&job=8xk_qq0FABCfO6TCjDFYdeX63RqS8LOh01L0yaU8G5EFEUp9Lwo4hA\n",
      "https://www.simplyhired.com/search?q=Data+Engineer&l=texas&cursor=AAsAGgEeAAAAAAAAAAAAAAACCRy%2B%2BQEEARImBxQJHBFi3Pn8JveSBYiTqtIJ1OHn3OKQNaJzT0EyHuH0Hm4NOfSVaPtueMD30DWXFP8XLyk%2Fifz4q3mPqnBOMwNI80770bajA8jL7s129RedCGq%2FMqD18XUOVyYJovJYkq3mTW6Zh757%2F5JyZ%2F9JGk0%3D&job=KA0_KnIGmnJdZjTUSXmfaJcXS_vSWsF67CGGVQM4K6GALVw5c0Vvxg\n",
      "https://www.simplyhired.com/search?q=Data+Engineer&l=texas&cursor=AAsAGgEeAAAAAAAAAAAAAAACCRy%2B%2BQEEARImBxQJHBFi3Pn8JveSBYiTqtIJ1OHn3OKQNaJzT0EyHuH0Hm4NOfSVaPtueMD30DWXFP8XLyk%2Fifz4q3mPqnBOMwNI80770bajA8jL7s129RedCGq%2FMqD18XUOVyYJovJYkq3mTW6Zh757%2F5JyZ%2F9JGk0%3D&job=klelfG2-imKQrZoLoDUgteZ0UZCXNLyqDGzIWHB2oiHXxiNkrwZ5VA\n",
      "https://www.simplyhired.com/search?q=Data+Engineer&l=texas&cursor=AAsAGgEeAAAAAAAAAAAAAAACCRy%2B%2BQEEARImBxQJHBFi3Pn8JveSBYiTqtIJ1OHn3OKQNaJzT0EyHuH0Hm4NOfSVaPtueMD30DWXFP8XLyk%2Fifz4q3mPqnBOMwNI80770bajA8jL7s129RedCGq%2FMqD18XUOVyYJovJYkq3mTW6Zh757%2F5JyZ%2F9JGk0%3D&job=J753VDjah8y4jPC8e1SV-9mjrN7dVFyvm8atMP5NW-F8XvGqA5xdNQ\n",
      "https://www.simplyhired.com/search?q=Data+Engineer&l=texas&cursor=AAsAGgEeAAAAAAAAAAAAAAACCRy%2B%2BQEEARImBxQJHBFi3Pn8JveSBYiTqtIJ1OHn3OKQNaJzT0EyHuH0Hm4NOfSVaPtueMD30DWXFP8XLyk%2Fifz4q3mPqnBOMwNI80770bajA8jL7s129RedCGq%2FMqD18XUOVyYJovJYkq3mTW6Zh757%2F5JyZ%2F9JGk0%3D&job=n7EFm1pIraf06HJr7MvrLqdZZPgckimqqNmg_rSsmD0xlqDCcCq-AQ\n"
     ]
    },
    {
     "name": "stderr",
     "output_type": "stream",
     "text": [
      "/tmp/ipykernel_33129/477855742.py:20: FutureWarning: The frame.append method is deprecated and will be removed from pandas in a future version. Use pandas.concat instead.\n",
      "  df = df.append(page_data)\n"
     ]
    },
    {
     "name": "stdout",
     "output_type": "stream",
     "text": [
      "Page Number: 27  Page Link:  https://www.simplyhired.com/search?q=Data+Engineer&l=texas&cursor=AAsAGwEpAAAAAAAAAAAAAAACCRy%2B%2BQEEARImBxQJHBERFrxzxq7mWJrMmMrnvDQpPhfewkDOncwqjATeTFdmZpYy5vt3DTuk7zwvBkTtLEkrWJkuq3Fe0H2iUnFmbxe4PhF3ah9snv5jZ6QObYl0ASJRVgkv%2BLzLgMrk6Wj7d1ewmd1cbVc%3D\n",
      "https://www.simplyhired.com/search?q=Data+Engineer&l=texas&cursor=AAsAGwEpAAAAAAAAAAAAAAACCRy%2B%2BQEEARImBxQJHBERFrxzxq7mWJrMmMrnvDQpPhfewkDOncwqjATeTFdmZpYy5vt3DTuk7zwvBkTtLEkrWJkuq3Fe0H2iUnFmbxe4PhF3ah9snv5jZ6QObYl0ASJRVgkv%2BLzLgMrk6Wj7d1ewmd1cbVc%3D&job=wh3jS2Wt6dVTpQLonCXp9GDnAOvE_11RDZVF2zzW4v_tW1BDGz4n7w\n",
      "https://www.simplyhired.com/search?q=Data+Engineer&l=texas&cursor=AAsAGwEpAAAAAAAAAAAAAAACCRy%2B%2BQEEARImBxQJHBERFrxzxq7mWJrMmMrnvDQpPhfewkDOncwqjATeTFdmZpYy5vt3DTuk7zwvBkTtLEkrWJkuq3Fe0H2iUnFmbxe4PhF3ah9snv5jZ6QObYl0ASJRVgkv%2BLzLgMrk6Wj7d1ewmd1cbVc%3D&job=CER-46I_-E2dr89ZO7aDRx97KfJ5wfDNpJYrr_vmYmuwaP0MEMkC8w\n",
      "https://www.simplyhired.com/search?q=Data+Engineer&l=texas&cursor=AAsAGwEpAAAAAAAAAAAAAAACCRy%2B%2BQEEARImBxQJHBERFrxzxq7mWJrMmMrnvDQpPhfewkDOncwqjATeTFdmZpYy5vt3DTuk7zwvBkTtLEkrWJkuq3Fe0H2iUnFmbxe4PhF3ah9snv5jZ6QObYl0ASJRVgkv%2BLzLgMrk6Wj7d1ewmd1cbVc%3D&job=yXSDcQsNmkzuhkQPmyXD5gwgNbC8AigGu02cEXWmOMprgmLS3l82tQ\n",
      "https://www.simplyhired.com/search?q=Data+Engineer&l=texas&cursor=AAsAGwEpAAAAAAAAAAAAAAACCRy%2B%2BQEEARImBxQJHBERFrxzxq7mWJrMmMrnvDQpPhfewkDOncwqjATeTFdmZpYy5vt3DTuk7zwvBkTtLEkrWJkuq3Fe0H2iUnFmbxe4PhF3ah9snv5jZ6QObYl0ASJRVgkv%2BLzLgMrk6Wj7d1ewmd1cbVc%3D&job=e79r4S0xHCzZnkiDQC6LO7WGwGHikBu5OlxGokO_n9FqcmBWO2P7bw\n",
      "https://www.simplyhired.com/search?q=Data+Engineer&l=texas&cursor=AAsAGwEpAAAAAAAAAAAAAAACCRy%2B%2BQEEARImBxQJHBERFrxzxq7mWJrMmMrnvDQpPhfewkDOncwqjATeTFdmZpYy5vt3DTuk7zwvBkTtLEkrWJkuq3Fe0H2iUnFmbxe4PhF3ah9snv5jZ6QObYl0ASJRVgkv%2BLzLgMrk6Wj7d1ewmd1cbVc%3D&job=-siJNuSlfuP90t6MRqZgZ6AfEXbQlS2su_ZJJlPSt5kvOKxlkA1MZw\n",
      "https://www.simplyhired.com/search?q=Data+Engineer&l=texas&cursor=AAsAGwEpAAAAAAAAAAAAAAACCRy%2B%2BQEEARImBxQJHBERFrxzxq7mWJrMmMrnvDQpPhfewkDOncwqjATeTFdmZpYy5vt3DTuk7zwvBkTtLEkrWJkuq3Fe0H2iUnFmbxe4PhF3ah9snv5jZ6QObYl0ASJRVgkv%2BLzLgMrk6Wj7d1ewmd1cbVc%3D&job=sKrj8BosbSgdBT1Da1TVOVTV91ugrN6aiE3Ho4terZ9lRejoMWmPrQ\n",
      "https://www.simplyhired.com/search?q=Data+Engineer&l=texas&cursor=AAsAGwEpAAAAAAAAAAAAAAACCRy%2B%2BQEEARImBxQJHBERFrxzxq7mWJrMmMrnvDQpPhfewkDOncwqjATeTFdmZpYy5vt3DTuk7zwvBkTtLEkrWJkuq3Fe0H2iUnFmbxe4PhF3ah9snv5jZ6QObYl0ASJRVgkv%2BLzLgMrk6Wj7d1ewmd1cbVc%3D&job=Hg3UT8euf-t7yAkdjidGdFvuoc4k6wT6Tgteo0YQeb90f0lefMNgYA\n",
      "https://www.simplyhired.com/search?q=Data+Engineer&l=texas&cursor=AAsAGwEpAAAAAAAAAAAAAAACCRy%2B%2BQEEARImBxQJHBERFrxzxq7mWJrMmMrnvDQpPhfewkDOncwqjATeTFdmZpYy5vt3DTuk7zwvBkTtLEkrWJkuq3Fe0H2iUnFmbxe4PhF3ah9snv5jZ6QObYl0ASJRVgkv%2BLzLgMrk6Wj7d1ewmd1cbVc%3D&job=MhpsIHqFXThCY32IEKVNz8Fuvo_9YZTWuRFxKMjBgiUxrjI5XTKY-w\n",
      "https://www.simplyhired.com/search?q=Data+Engineer&l=texas&cursor=AAsAGwEpAAAAAAAAAAAAAAACCRy%2B%2BQEEARImBxQJHBERFrxzxq7mWJrMmMrnvDQpPhfewkDOncwqjATeTFdmZpYy5vt3DTuk7zwvBkTtLEkrWJkuq3Fe0H2iUnFmbxe4PhF3ah9snv5jZ6QObYl0ASJRVgkv%2BLzLgMrk6Wj7d1ewmd1cbVc%3D&job=O_Sfw2_e9mSNzEfxbOZxF2R6fXDMJrRGY7tGBivbyxCPLsESxqUBFQ\n",
      "https://www.simplyhired.com/search?q=Data+Engineer&l=texas&cursor=AAsAGwEpAAAAAAAAAAAAAAACCRy%2B%2BQEEARImBxQJHBERFrxzxq7mWJrMmMrnvDQpPhfewkDOncwqjATeTFdmZpYy5vt3DTuk7zwvBkTtLEkrWJkuq3Fe0H2iUnFmbxe4PhF3ah9snv5jZ6QObYl0ASJRVgkv%2BLzLgMrk6Wj7d1ewmd1cbVc%3D&job=j0OsUUjCxe0pKwrBrmWOK3TM5y0jh9-MkC1Ez8yvCP58MEnd4isPrg\n",
      "https://www.simplyhired.com/search?q=Data+Engineer&l=texas&cursor=AAsAGwEpAAAAAAAAAAAAAAACCRy%2B%2BQEEARImBxQJHBERFrxzxq7mWJrMmMrnvDQpPhfewkDOncwqjATeTFdmZpYy5vt3DTuk7zwvBkTtLEkrWJkuq3Fe0H2iUnFmbxe4PhF3ah9snv5jZ6QObYl0ASJRVgkv%2BLzLgMrk6Wj7d1ewmd1cbVc%3D&job=9HSkLQw3KaxhaE0qpVAz61Dc0AogOh_1LIx1WTxzZv1vxA6bKVeO0Q\n"
     ]
    },
    {
     "name": "stderr",
     "output_type": "stream",
     "text": [
      "/tmp/ipykernel_33129/477855742.py:20: FutureWarning: The frame.append method is deprecated and will be removed from pandas in a future version. Use pandas.concat instead.\n",
      "  df = df.append(page_data)\n"
     ]
    },
    {
     "name": "stdout",
     "output_type": "stream",
     "text": [
      "Page Number: 28  Page Link:  https://www.simplyhired.com/search?q=Data+Engineer&l=texas&cursor=AAsAHAE0AAAAAAAAAAAAAAACCRy%2B%2BQEEARImBxQJJgwB0nG1L81LnWctwlEofnQJdwVNzWCq4qrjitclsjPjKDqi2yR4NZRwgwKfhay75b4WVoCEk7iv%2B%2BrznuIyg8hIFcwxcZGnEQxSvonGMAP0TxjAiiPtQ5W2xWNQfvy%2BRuv739t%2FlA%3D%3D\n",
      "https://www.simplyhired.com/search?q=Data+Engineer&l=texas&cursor=AAsAHAE0AAAAAAAAAAAAAAACCRy%2B%2BQEEARImBxQJJgwB0nG1L81LnWctwlEofnQJdwVNzWCq4qrjitclsjPjKDqi2yR4NZRwgwKfhay75b4WVoCEk7iv%2B%2BrznuIyg8hIFcwxcZGnEQxSvonGMAP0TxjAiiPtQ5W2xWNQfvy%2BRuv739t%2FlA%3D%3D&job=23MUTnS1f53AmVmJxvZtGWcln7MZefslmgIvbtpoKoCM5tyTzwSmnA\n",
      "https://www.simplyhired.com/search?q=Data+Engineer&l=texas&cursor=AAsAHAE0AAAAAAAAAAAAAAACCRy%2B%2BQEEARImBxQJJgwB0nG1L81LnWctwlEofnQJdwVNzWCq4qrjitclsjPjKDqi2yR4NZRwgwKfhay75b4WVoCEk7iv%2B%2BrznuIyg8hIFcwxcZGnEQxSvonGMAP0TxjAiiPtQ5W2xWNQfvy%2BRuv739t%2FlA%3D%3D&job=OqQmy7WUAxZ1eup_RPZDk0XOgXgCMEF9XqQcfNaqdP1vWZ9ot97S6A\n",
      "https://www.simplyhired.com/search?q=Data+Engineer&l=texas&cursor=AAsAHAE0AAAAAAAAAAAAAAACCRy%2B%2BQEEARImBxQJJgwB0nG1L81LnWctwlEofnQJdwVNzWCq4qrjitclsjPjKDqi2yR4NZRwgwKfhay75b4WVoCEk7iv%2B%2BrznuIyg8hIFcwxcZGnEQxSvonGMAP0TxjAiiPtQ5W2xWNQfvy%2BRuv739t%2FlA%3D%3D&job=MgzT3xG660m0zZzRL3CU4NO3eGfDvcP3BTkZzdS1q0f5VuweFnb9Jg\n",
      "https://www.simplyhired.com/search?q=Data+Engineer&l=texas&cursor=AAsAHAE0AAAAAAAAAAAAAAACCRy%2B%2BQEEARImBxQJJgwB0nG1L81LnWctwlEofnQJdwVNzWCq4qrjitclsjPjKDqi2yR4NZRwgwKfhay75b4WVoCEk7iv%2B%2BrznuIyg8hIFcwxcZGnEQxSvonGMAP0TxjAiiPtQ5W2xWNQfvy%2BRuv739t%2FlA%3D%3D&job=7i2YVcpCI_2rXJgfwmsIfTe22Z7O3Y-hgi-TQLG1vjj81CNkPDzxtQ\n",
      "https://www.simplyhired.com/search?q=Data+Engineer&l=texas&cursor=AAsAHAE0AAAAAAAAAAAAAAACCRy%2B%2BQEEARImBxQJJgwB0nG1L81LnWctwlEofnQJdwVNzWCq4qrjitclsjPjKDqi2yR4NZRwgwKfhay75b4WVoCEk7iv%2B%2BrznuIyg8hIFcwxcZGnEQxSvonGMAP0TxjAiiPtQ5W2xWNQfvy%2BRuv739t%2FlA%3D%3D&job=wHAOpzoGFWKEEKwMHhhMpVSEKhqcWgGVUtsaiM_qq_pFcTVQZixFMA\n",
      "https://www.simplyhired.com/search?q=Data+Engineer&l=texas&cursor=AAsAHAE0AAAAAAAAAAAAAAACCRy%2B%2BQEEARImBxQJJgwB0nG1L81LnWctwlEofnQJdwVNzWCq4qrjitclsjPjKDqi2yR4NZRwgwKfhay75b4WVoCEk7iv%2B%2BrznuIyg8hIFcwxcZGnEQxSvonGMAP0TxjAiiPtQ5W2xWNQfvy%2BRuv739t%2FlA%3D%3D&job=IPUNhl2dJJz0rb4pnZmrYyA3j9g7uVvrHA_gLa6t0x7JhSfshVULog\n",
      "https://www.simplyhired.com/search?q=Data+Engineer&l=texas&cursor=AAsAHAE0AAAAAAAAAAAAAAACCRy%2B%2BQEEARImBxQJJgwB0nG1L81LnWctwlEofnQJdwVNzWCq4qrjitclsjPjKDqi2yR4NZRwgwKfhay75b4WVoCEk7iv%2B%2BrznuIyg8hIFcwxcZGnEQxSvonGMAP0TxjAiiPtQ5W2xWNQfvy%2BRuv739t%2FlA%3D%3D&job=BBDAuAhFd76h_l-vhXpeXeBNyOHMYk9MzVB48VLosugHVNH18dZAcg\n",
      "https://www.simplyhired.com/search?q=Data+Engineer&l=texas&cursor=AAsAHAE0AAAAAAAAAAAAAAACCRy%2B%2BQEEARImBxQJJgwB0nG1L81LnWctwlEofnQJdwVNzWCq4qrjitclsjPjKDqi2yR4NZRwgwKfhay75b4WVoCEk7iv%2B%2BrznuIyg8hIFcwxcZGnEQxSvonGMAP0TxjAiiPtQ5W2xWNQfvy%2BRuv739t%2FlA%3D%3D&job=ayPa0ApDO6kpEzoF4r5YX-Uit8ooTIGbf1js2rdTOXBKKKdTCxmyJg\n",
      "https://www.simplyhired.com/search?q=Data+Engineer&l=texas&cursor=AAsAHAE0AAAAAAAAAAAAAAACCRy%2B%2BQEEARImBxQJJgwB0nG1L81LnWctwlEofnQJdwVNzWCq4qrjitclsjPjKDqi2yR4NZRwgwKfhay75b4WVoCEk7iv%2B%2BrznuIyg8hIFcwxcZGnEQxSvonGMAP0TxjAiiPtQ5W2xWNQfvy%2BRuv739t%2FlA%3D%3D&job=3wAnP8L1lqKrXqQLLxnF-hogJWN-Nl69pIh28IczlTIW32y_caUneQ\n",
      "https://www.simplyhired.com/search?q=Data+Engineer&l=texas&cursor=AAsAHAE0AAAAAAAAAAAAAAACCRy%2B%2BQEEARImBxQJJgwB0nG1L81LnWctwlEofnQJdwVNzWCq4qrjitclsjPjKDqi2yR4NZRwgwKfhay75b4WVoCEk7iv%2B%2BrznuIyg8hIFcwxcZGnEQxSvonGMAP0TxjAiiPtQ5W2xWNQfvy%2BRuv739t%2FlA%3D%3D&job=8vcOV-dAcF8sn_LOvhdEnMIhO0rHMfXo4dVUTfb8JvqXJxmOiIVzXA\n",
      "https://www.simplyhired.com/search?q=Data+Engineer&l=texas&cursor=AAsAHAE0AAAAAAAAAAAAAAACCRy%2B%2BQEEARImBxQJJgwB0nG1L81LnWctwlEofnQJdwVNzWCq4qrjitclsjPjKDqi2yR4NZRwgwKfhay75b4WVoCEk7iv%2B%2BrznuIyg8hIFcwxcZGnEQxSvonGMAP0TxjAiiPtQ5W2xWNQfvy%2BRuv739t%2FlA%3D%3D&job=6h5csg3pNFDcwdAd6GCBDA5mW3rY81LFSyG60nCpVCj_1GfqXkvgGw\n"
     ]
    },
    {
     "name": "stderr",
     "output_type": "stream",
     "text": [
      "/tmp/ipykernel_33129/477855742.py:20: FutureWarning: The frame.append method is deprecated and will be removed from pandas in a future version. Use pandas.concat instead.\n",
      "  df = df.append(page_data)\n"
     ]
    },
    {
     "name": "stdout",
     "output_type": "stream",
     "text": [
      "Page Number: 29  Page Link:  https://www.simplyhired.com/search?q=Data+Engineer&l=texas&cursor=AAsAHQE%2FAAAAAAAAAAAAAAACCRy%2B%2BQEDARImBxQGJR5U9tCH0TBDAA89Uh2AGfbAL38PxeCqJ8MWyP2j%2FDi5r6%2Ffdbm8lFYRlu9l%2Fvjqn8FXwXO8BEPhxJ03hrGIhFFtrEwTFCpNCGQT7kqur6WCSkN8FE6FKYZT1AwovdBYCnE%3D\n",
      "https://www.simplyhired.com/search?q=Data+Engineer&l=texas&cursor=AAsAHQE%2FAAAAAAAAAAAAAAACCRy%2B%2BQEDARImBxQGJR5U9tCH0TBDAA89Uh2AGfbAL38PxeCqJ8MWyP2j%2FDi5r6%2Ffdbm8lFYRlu9l%2Fvjqn8FXwXO8BEPhxJ03hrGIhFFtrEwTFCpNCGQT7kqur6WCSkN8FE6FKYZT1AwovdBYCnE%3D&job=YGwrt3xLmartQRdZztJfwsHM9dl2SK5QIy6J7th4HASQMxx1sKKR0g\n",
      "https://www.simplyhired.com/search?q=Data+Engineer&l=texas&cursor=AAsAHQE%2FAAAAAAAAAAAAAAACCRy%2B%2BQEDARImBxQGJR5U9tCH0TBDAA89Uh2AGfbAL38PxeCqJ8MWyP2j%2FDi5r6%2Ffdbm8lFYRlu9l%2Fvjqn8FXwXO8BEPhxJ03hrGIhFFtrEwTFCpNCGQT7kqur6WCSkN8FE6FKYZT1AwovdBYCnE%3D&job=gxJzpUgSqNrTg0E-Nx4v9rubYkmsDH0-PeivgO7j9hT6N1SUw44clA\n",
      "https://www.simplyhired.com/search?q=Data+Engineer&l=texas&cursor=AAsAHQE%2FAAAAAAAAAAAAAAACCRy%2B%2BQEDARImBxQGJR5U9tCH0TBDAA89Uh2AGfbAL38PxeCqJ8MWyP2j%2FDi5r6%2Ffdbm8lFYRlu9l%2Fvjqn8FXwXO8BEPhxJ03hrGIhFFtrEwTFCpNCGQT7kqur6WCSkN8FE6FKYZT1AwovdBYCnE%3D&job=6PfuSR_ukwIFzy4YP6kJtf6VCb0cXKOz3wHN46gyTkHSCsMwbDwVRg\n",
      "https://www.simplyhired.com/search?q=Data+Engineer&l=texas&cursor=AAsAHQE%2FAAAAAAAAAAAAAAACCRy%2B%2BQEDARImBxQGJR5U9tCH0TBDAA89Uh2AGfbAL38PxeCqJ8MWyP2j%2FDi5r6%2Ffdbm8lFYRlu9l%2Fvjqn8FXwXO8BEPhxJ03hrGIhFFtrEwTFCpNCGQT7kqur6WCSkN8FE6FKYZT1AwovdBYCnE%3D&job=pMQhT4CzY6Zl3EAri7fOyBFY4-55AvQZT3VkHPnDizOJ9CcoTukxxw\n",
      "https://www.simplyhired.com/search?q=Data+Engineer&l=texas&cursor=AAsAHQE%2FAAAAAAAAAAAAAAACCRy%2B%2BQEDARImBxQGJR5U9tCH0TBDAA89Uh2AGfbAL38PxeCqJ8MWyP2j%2FDi5r6%2Ffdbm8lFYRlu9l%2Fvjqn8FXwXO8BEPhxJ03hrGIhFFtrEwTFCpNCGQT7kqur6WCSkN8FE6FKYZT1AwovdBYCnE%3D&job=L98c4-PX1Au_OFLR3G6NLReJI11RzVxBPsw-lM1uqSKZpdRT-IhE0g\n",
      "https://www.simplyhired.com/search?q=Data+Engineer&l=texas&cursor=AAsAHQE%2FAAAAAAAAAAAAAAACCRy%2B%2BQEDARImBxQGJR5U9tCH0TBDAA89Uh2AGfbAL38PxeCqJ8MWyP2j%2FDi5r6%2Ffdbm8lFYRlu9l%2Fvjqn8FXwXO8BEPhxJ03hrGIhFFtrEwTFCpNCGQT7kqur6WCSkN8FE6FKYZT1AwovdBYCnE%3D&job=7xQjwrvF2ivPpIyU-l44O8uiTyeFKPg5LWoLRVWKfvzA0pMyNrDZOg\n",
      "https://www.simplyhired.com/search?q=Data+Engineer&l=texas&cursor=AAsAHQE%2FAAAAAAAAAAAAAAACCRy%2B%2BQEDARImBxQGJR5U9tCH0TBDAA89Uh2AGfbAL38PxeCqJ8MWyP2j%2FDi5r6%2Ffdbm8lFYRlu9l%2Fvjqn8FXwXO8BEPhxJ03hrGIhFFtrEwTFCpNCGQT7kqur6WCSkN8FE6FKYZT1AwovdBYCnE%3D&job=9QhymPxDxiIScuUvln05PCWuh_G40xkzaSjsZSWnN664c1pphdVS5g\n",
      "https://www.simplyhired.com/search?q=Data+Engineer&l=texas&cursor=AAsAHQE%2FAAAAAAAAAAAAAAACCRy%2B%2BQEDARImBxQGJR5U9tCH0TBDAA89Uh2AGfbAL38PxeCqJ8MWyP2j%2FDi5r6%2Ffdbm8lFYRlu9l%2Fvjqn8FXwXO8BEPhxJ03hrGIhFFtrEwTFCpNCGQT7kqur6WCSkN8FE6FKYZT1AwovdBYCnE%3D&job=2jwU29Pr2Z5J1LyRWOglERiJtQKFhVHCj717dEo1nyPhurKDl-o7_Q\n",
      "https://www.simplyhired.com/search?q=Data+Engineer&l=texas&cursor=AAsAHQE%2FAAAAAAAAAAAAAAACCRy%2B%2BQEDARImBxQGJR5U9tCH0TBDAA89Uh2AGfbAL38PxeCqJ8MWyP2j%2FDi5r6%2Ffdbm8lFYRlu9l%2Fvjqn8FXwXO8BEPhxJ03hrGIhFFtrEwTFCpNCGQT7kqur6WCSkN8FE6FKYZT1AwovdBYCnE%3D&job=fXYAdlXihlixHdlHoB4TcvxuCoNt1AKYlH4xmHeskDtAnbPOJCAy2Q\n",
      "https://www.simplyhired.com/search?q=Data+Engineer&l=texas&cursor=AAsAHQE%2FAAAAAAAAAAAAAAACCRy%2B%2BQEDARImBxQGJR5U9tCH0TBDAA89Uh2AGfbAL38PxeCqJ8MWyP2j%2FDi5r6%2Ffdbm8lFYRlu9l%2Fvjqn8FXwXO8BEPhxJ03hrGIhFFtrEwTFCpNCGQT7kqur6WCSkN8FE6FKYZT1AwovdBYCnE%3D&job=CefUEKUHHqO0nlaGRUaQYZ9ELKhGP39fRwgR8eszKVNzX-G8V39VyA\n",
      "https://www.simplyhired.com/search?q=Data+Engineer&l=texas&cursor=AAsAHQE%2FAAAAAAAAAAAAAAACCRy%2B%2BQEDARImBxQGJR5U9tCH0TBDAA89Uh2AGfbAL38PxeCqJ8MWyP2j%2FDi5r6%2Ffdbm8lFYRlu9l%2Fvjqn8FXwXO8BEPhxJ03hrGIhFFtrEwTFCpNCGQT7kqur6WCSkN8FE6FKYZT1AwovdBYCnE%3D&job=RsFh45MU6wUedTJKEMCVrEFE-6uaalUgx_P4LAm8ietGhJZfJg65sg\n"
     ]
    },
    {
     "name": "stderr",
     "output_type": "stream",
     "text": [
      "/tmp/ipykernel_33129/477855742.py:20: FutureWarning: The frame.append method is deprecated and will be removed from pandas in a future version. Use pandas.concat instead.\n",
      "  df = df.append(page_data)\n"
     ]
    },
    {
     "name": "stdout",
     "output_type": "stream",
     "text": [
      "Page Number: 30  Page Link:  https://www.simplyhired.com/search?q=Data+Engineer&l=texas&cursor=AAsAHgFKAAAAAAAAAAAAAAACCRy%2B%2BQEDARImBxQGAzpCKc0bjdPFH91%2Bmeed8tbHDG6E7%2B43xR7lU%2FbpuoPIv8JyMhdl6Abka8WZpsZlM%2BSNYKgBthrcBoWTOp%2BG6Rjtv6B%2BJUwgxnaIWw1rwZqX2Rs%3D\n",
      "https://www.simplyhired.com/search?q=Data+Engineer&l=texas&cursor=AAsAHgFKAAAAAAAAAAAAAAACCRy%2B%2BQEDARImBxQGAzpCKc0bjdPFH91%2Bmeed8tbHDG6E7%2B43xR7lU%2FbpuoPIv8JyMhdl6Abka8WZpsZlM%2BSNYKgBthrcBoWTOp%2BG6Rjtv6B%2BJUwgxnaIWw1rwZqX2Rs%3D&job=On_wnmduLyj7LpYz9I81ljUN-ynjf_K5COU11YgN2vqeMjUA8URORg\n",
      "https://www.simplyhired.com/search?q=Data+Engineer&l=texas&cursor=AAsAHgFKAAAAAAAAAAAAAAACCRy%2B%2BQEDARImBxQGAzpCKc0bjdPFH91%2Bmeed8tbHDG6E7%2B43xR7lU%2FbpuoPIv8JyMhdl6Abka8WZpsZlM%2BSNYKgBthrcBoWTOp%2BG6Rjtv6B%2BJUwgxnaIWw1rwZqX2Rs%3D&job=EYwq0lZNEMlXUPCGjRjEUukuLxL4_vrmjVVkU2iPERloaXptfGIzkQ\n",
      "https://www.simplyhired.com/search?q=Data+Engineer&l=texas&cursor=AAsAHgFKAAAAAAAAAAAAAAACCRy%2B%2BQEDARImBxQGAzpCKc0bjdPFH91%2Bmeed8tbHDG6E7%2B43xR7lU%2FbpuoPIv8JyMhdl6Abka8WZpsZlM%2BSNYKgBthrcBoWTOp%2BG6Rjtv6B%2BJUwgxnaIWw1rwZqX2Rs%3D&job=oJMX2UEUYNa9SKVOGQ8PTef7ehS6E3lHOyER-NBk4wHymkS4EALycA\n",
      "https://www.simplyhired.com/search?q=Data+Engineer&l=texas&cursor=AAsAHgFKAAAAAAAAAAAAAAACCRy%2B%2BQEDARImBxQGAzpCKc0bjdPFH91%2Bmeed8tbHDG6E7%2B43xR7lU%2FbpuoPIv8JyMhdl6Abka8WZpsZlM%2BSNYKgBthrcBoWTOp%2BG6Rjtv6B%2BJUwgxnaIWw1rwZqX2Rs%3D&job=CSNEjcVc4nCtarcRKKpFEBkQ1NBPREvMXabu6YBh_SwkbXhn-QRygg\n",
      "https://www.simplyhired.com/search?q=Data+Engineer&l=texas&cursor=AAsAHgFKAAAAAAAAAAAAAAACCRy%2B%2BQEDARImBxQGAzpCKc0bjdPFH91%2Bmeed8tbHDG6E7%2B43xR7lU%2FbpuoPIv8JyMhdl6Abka8WZpsZlM%2BSNYKgBthrcBoWTOp%2BG6Rjtv6B%2BJUwgxnaIWw1rwZqX2Rs%3D&job=sxadglnuew71Fd2Lyo5zReAac-UO59VJvm_bqwkunjYVufETpsiGYQ\n",
      "https://www.simplyhired.com/search?q=Data+Engineer&l=texas&cursor=AAsAHgFKAAAAAAAAAAAAAAACCRy%2B%2BQEDARImBxQGAzpCKc0bjdPFH91%2Bmeed8tbHDG6E7%2B43xR7lU%2FbpuoPIv8JyMhdl6Abka8WZpsZlM%2BSNYKgBthrcBoWTOp%2BG6Rjtv6B%2BJUwgxnaIWw1rwZqX2Rs%3D&job=UYzXtXI0SQK1D3FSxetQR9IUmpJWDU5cMhmvRA2QiTdsHLrVYDsLRA\n",
      "https://www.simplyhired.com/search?q=Data+Engineer&l=texas&cursor=AAsAHgFKAAAAAAAAAAAAAAACCRy%2B%2BQEDARImBxQGAzpCKc0bjdPFH91%2Bmeed8tbHDG6E7%2B43xR7lU%2FbpuoPIv8JyMhdl6Abka8WZpsZlM%2BSNYKgBthrcBoWTOp%2BG6Rjtv6B%2BJUwgxnaIWw1rwZqX2Rs%3D&job=O-Py3xJXNvM9FNvgeh4F917XjrpjITGIy7XGrWSMDc0xS4u9Wo559g\n",
      "https://www.simplyhired.com/search?q=Data+Engineer&l=texas&cursor=AAsAHgFKAAAAAAAAAAAAAAACCRy%2B%2BQEDARImBxQGAzpCKc0bjdPFH91%2Bmeed8tbHDG6E7%2B43xR7lU%2FbpuoPIv8JyMhdl6Abka8WZpsZlM%2BSNYKgBthrcBoWTOp%2BG6Rjtv6B%2BJUwgxnaIWw1rwZqX2Rs%3D&job=GGXycE6MQysofYbiPQ9RBvEVvzCSvOaU3YNYfaBLPOYJ5JEnkhZ2fg\n",
      "https://www.simplyhired.com/search?q=Data+Engineer&l=texas&cursor=AAsAHgFKAAAAAAAAAAAAAAACCRy%2B%2BQEDARImBxQGAzpCKc0bjdPFH91%2Bmeed8tbHDG6E7%2B43xR7lU%2FbpuoPIv8JyMhdl6Abka8WZpsZlM%2BSNYKgBthrcBoWTOp%2BG6Rjtv6B%2BJUwgxnaIWw1rwZqX2Rs%3D&job=MkTukloi3LFhwkKxa3n0pLkp6Ze0tfBY_CSPVnD95awxeWdU9Eip8A\n",
      "https://www.simplyhired.com/search?q=Data+Engineer&l=texas&cursor=AAsAHgFKAAAAAAAAAAAAAAACCRy%2B%2BQEDARImBxQGAzpCKc0bjdPFH91%2Bmeed8tbHDG6E7%2B43xR7lU%2FbpuoPIv8JyMhdl6Abka8WZpsZlM%2BSNYKgBthrcBoWTOp%2BG6Rjtv6B%2BJUwgxnaIWw1rwZqX2Rs%3D&job=aUFCN9TnPjFzO6Z_SH0feNBZGgjIlw6vQnJ9rjS7PIaOU7OcDj7pZw\n",
      "https://www.simplyhired.com/search?q=Data+Engineer&l=texas&cursor=AAsAHgFKAAAAAAAAAAAAAAACCRy%2B%2BQEDARImBxQGAzpCKc0bjdPFH91%2Bmeed8tbHDG6E7%2B43xR7lU%2FbpuoPIv8JyMhdl6Abka8WZpsZlM%2BSNYKgBthrcBoWTOp%2BG6Rjtv6B%2BJUwgxnaIWw1rwZqX2Rs%3D&job=rI91xBOlQRVhk_nLKKNPyRvGnil5Srt0W57nzc8XISvUXI1FmOD5Fw\n"
     ]
    },
    {
     "name": "stderr",
     "output_type": "stream",
     "text": [
      "/tmp/ipykernel_33129/477855742.py:20: FutureWarning: The frame.append method is deprecated and will be removed from pandas in a future version. Use pandas.concat instead.\n",
      "  df = df.append(page_data)\n"
     ]
    },
    {
     "name": "stdout",
     "output_type": "stream",
     "text": [
      "Page Number: 31  Page Link:  https://www.simplyhired.com/search?q=Data+Engineer&l=texas&cursor=AAsAHwFVAAAAAAAAAAAAAAACCRy%2B%2BQEBARIBKwDixsHaR8XVity%2F6m6x5wW6pq4q5YNbTMryOqYjF0AzlAFXlyjHr3ZN7FSEtBebd4hI2hmXpljCts1amCo%2BMd98ioH2ZlZe\n",
      "https://www.simplyhired.com/search?q=Data+Engineer&l=texas&cursor=AAsAHwFVAAAAAAAAAAAAAAACCRy%2B%2BQEBARIBKwDixsHaR8XVity%2F6m6x5wW6pq4q5YNbTMryOqYjF0AzlAFXlyjHr3ZN7FSEtBebd4hI2hmXpljCts1amCo%2BMd98ioH2ZlZe&job=9NE-ruhPwwhSu3hSNaQ1C5ZXXbo8YHbukN8bVYXoT5vpmJ6uroCnqA\n",
      "https://www.simplyhired.com/search?q=Data+Engineer&l=texas&cursor=AAsAHwFVAAAAAAAAAAAAAAACCRy%2B%2BQEBARIBKwDixsHaR8XVity%2F6m6x5wW6pq4q5YNbTMryOqYjF0AzlAFXlyjHr3ZN7FSEtBebd4hI2hmXpljCts1amCo%2BMd98ioH2ZlZe&job=ePU3ixBLEXm9dEDEG30BPD3mfhq_KYI_q99yGTUU73KQmgbSfGzF0Q\n",
      "https://www.simplyhired.com/search?q=Data+Engineer&l=texas&cursor=AAsAHwFVAAAAAAAAAAAAAAACCRy%2B%2BQEBARIBKwDixsHaR8XVity%2F6m6x5wW6pq4q5YNbTMryOqYjF0AzlAFXlyjHr3ZN7FSEtBebd4hI2hmXpljCts1amCo%2BMd98ioH2ZlZe&job=R-DTlCThz2dFQyos8uX4-YqhDaeXczXVLQLT1ixemytKZkn9AlREWg\n",
      "https://www.simplyhired.com/search?q=Data+Engineer&l=texas&cursor=AAsAHwFVAAAAAAAAAAAAAAACCRy%2B%2BQEBARIBKwDixsHaR8XVity%2F6m6x5wW6pq4q5YNbTMryOqYjF0AzlAFXlyjHr3ZN7FSEtBebd4hI2hmXpljCts1amCo%2BMd98ioH2ZlZe&job=PxU02BdrAKjfIq1I9Kz7ucCOC1LFepj7o5d1tvOjvFceqc7PxAxL3w\n",
      "https://www.simplyhired.com/search?q=Data+Engineer&l=texas&cursor=AAsAHwFVAAAAAAAAAAAAAAACCRy%2B%2BQEBARIBKwDixsHaR8XVity%2F6m6x5wW6pq4q5YNbTMryOqYjF0AzlAFXlyjHr3ZN7FSEtBebd4hI2hmXpljCts1amCo%2BMd98ioH2ZlZe&job=s64rwB_bCLlHhPCO74yHZnn-MEOw-ubabfb2eCXz_Pk8t_ALuuWfyA\n",
      "https://www.simplyhired.com/search?q=Data+Engineer&l=texas&cursor=AAsAHwFVAAAAAAAAAAAAAAACCRy%2B%2BQEBARIBKwDixsHaR8XVity%2F6m6x5wW6pq4q5YNbTMryOqYjF0AzlAFXlyjHr3ZN7FSEtBebd4hI2hmXpljCts1amCo%2BMd98ioH2ZlZe&job=y1Ui7hogAdxFfJX1MTE2xbUYb5L8fZICEXSd4PSxycpIBSxFlyQD7g\n",
      "https://www.simplyhired.com/search?q=Data+Engineer&l=texas&cursor=AAsAHwFVAAAAAAAAAAAAAAACCRy%2B%2BQEBARIBKwDixsHaR8XVity%2F6m6x5wW6pq4q5YNbTMryOqYjF0AzlAFXlyjHr3ZN7FSEtBebd4hI2hmXpljCts1amCo%2BMd98ioH2ZlZe&job=1W4nGnbiTxOof8oX2C-UMpsqt1V7RhUQGfEiZe6bhT8WG2QjMFF5Mw\n",
      "https://www.simplyhired.com/search?q=Data+Engineer&l=texas&cursor=AAsAHwFVAAAAAAAAAAAAAAACCRy%2B%2BQEBARIBKwDixsHaR8XVity%2F6m6x5wW6pq4q5YNbTMryOqYjF0AzlAFXlyjHr3ZN7FSEtBebd4hI2hmXpljCts1amCo%2BMd98ioH2ZlZe&job=H_Q7c-FHZwnsGeXuHAj2ppPEeZVDVtkfHXL1cNRwyxoLrQt7bXKCaQ\n",
      "https://www.simplyhired.com/search?q=Data+Engineer&l=texas&cursor=AAsAHwFVAAAAAAAAAAAAAAACCRy%2B%2BQEBARIBKwDixsHaR8XVity%2F6m6x5wW6pq4q5YNbTMryOqYjF0AzlAFXlyjHr3ZN7FSEtBebd4hI2hmXpljCts1amCo%2BMd98ioH2ZlZe&job=1hpzoA0p38DDtBlVhLnKMH78nb8PHu-utCkM1ZFDBn9HW51o3zwNiQ\n",
      "https://www.simplyhired.com/search?q=Data+Engineer&l=texas&cursor=AAsAHwFVAAAAAAAAAAAAAAACCRy%2B%2BQEBARIBKwDixsHaR8XVity%2F6m6x5wW6pq4q5YNbTMryOqYjF0AzlAFXlyjHr3ZN7FSEtBebd4hI2hmXpljCts1amCo%2BMd98ioH2ZlZe&job=ieYOOaBIPcMpw1JMxh_Q2I3XGznH-KOMKZiFHOoY10t6HpMdtMf6pg\n",
      "https://www.simplyhired.com/search?q=Data+Engineer&l=texas&cursor=AAsAHwFVAAAAAAAAAAAAAAACCRy%2B%2BQEBARIBKwDixsHaR8XVity%2F6m6x5wW6pq4q5YNbTMryOqYjF0AzlAFXlyjHr3ZN7FSEtBebd4hI2hmXpljCts1amCo%2BMd98ioH2ZlZe&job=t8_QXt3vRsU-oWvgLtgDFx8pi3j_wwqcK9x-RFjp5tFN-vHDQi5z3g\n"
     ]
    },
    {
     "name": "stderr",
     "output_type": "stream",
     "text": [
      "/tmp/ipykernel_33129/477855742.py:20: FutureWarning: The frame.append method is deprecated and will be removed from pandas in a future version. Use pandas.concat instead.\n",
      "  df = df.append(page_data)\n"
     ]
    },
    {
     "name": "stdout",
     "output_type": "stream",
     "text": [
      "Page Number: 32  Page Link:  https://www.simplyhired.com/search?q=Data+Engineer&l=texas&cursor=AAsAIAFgAAAAAAAAAAAAAAACCRy%2B%2BQECAQoWBwQqM82pmzdOI65JkUVJJH%2BsnoaCHImn59tmax1guoeLynPzwz1TmpooaJ6S9UQTtPoZz2VUK4%2FcRDgbOIJSOwk%3D\n",
      "https://www.simplyhired.com/search?q=Data+Engineer&l=texas&cursor=AAsAIAFgAAAAAAAAAAAAAAACCRy%2B%2BQECAQoWBwQqM82pmzdOI65JkUVJJH%2BsnoaCHImn59tmax1guoeLynPzwz1TmpooaJ6S9UQTtPoZz2VUK4%2FcRDgbOIJSOwk%3D&job=EjTqRoon5MkcORvkCA_TNdmXfCSxK4N9qnARQFJqjDx6mJMGPmDifw\n",
      "https://www.simplyhired.com/search?q=Data+Engineer&l=texas&cursor=AAsAIAFgAAAAAAAAAAAAAAACCRy%2B%2BQECAQoWBwQqM82pmzdOI65JkUVJJH%2BsnoaCHImn59tmax1guoeLynPzwz1TmpooaJ6S9UQTtPoZz2VUK4%2FcRDgbOIJSOwk%3D&job=93Xr2_NkGfViAVu-OMZl13XbiAwNQXgzDSIUH6plzvt0-CXasCVWWg\n",
      "https://www.simplyhired.com/search?q=Data+Engineer&l=texas&cursor=AAsAIAFgAAAAAAAAAAAAAAACCRy%2B%2BQECAQoWBwQqM82pmzdOI65JkUVJJH%2BsnoaCHImn59tmax1guoeLynPzwz1TmpooaJ6S9UQTtPoZz2VUK4%2FcRDgbOIJSOwk%3D&job=bpjftlVsFc8XSCdmHEZEHdR7zB_u5LFEtvd9cqOIeOQ56E1kdHu45w\n",
      "https://www.simplyhired.com/search?q=Data+Engineer&l=texas&cursor=AAsAIAFgAAAAAAAAAAAAAAACCRy%2B%2BQECAQoWBwQqM82pmzdOI65JkUVJJH%2BsnoaCHImn59tmax1guoeLynPzwz1TmpooaJ6S9UQTtPoZz2VUK4%2FcRDgbOIJSOwk%3D&job=VjqEDZhayH8m77e7rKVrIBxcZlqFrnbwSZX24Xu1BvHPJqVa906UCQ\n",
      "https://www.simplyhired.com/search?q=Data+Engineer&l=texas&cursor=AAsAIAFgAAAAAAAAAAAAAAACCRy%2B%2BQECAQoWBwQqM82pmzdOI65JkUVJJH%2BsnoaCHImn59tmax1guoeLynPzwz1TmpooaJ6S9UQTtPoZz2VUK4%2FcRDgbOIJSOwk%3D&job=aJEPUO7HhfGHvJbOl899ecYjo6qJfU6ScyGKlXoJyDPeC2aPNAGpTA\n",
      "https://www.simplyhired.com/search?q=Data+Engineer&l=texas&cursor=AAsAIAFgAAAAAAAAAAAAAAACCRy%2B%2BQECAQoWBwQqM82pmzdOI65JkUVJJH%2BsnoaCHImn59tmax1guoeLynPzwz1TmpooaJ6S9UQTtPoZz2VUK4%2FcRDgbOIJSOwk%3D&job=OeAqopGrH7pMXaGGI8JX9JR6frpvr9nG9Vnuwcz5R9dnullwpFaGYQ\n",
      "https://www.simplyhired.com/search?q=Data+Engineer&l=texas&cursor=AAsAIAFgAAAAAAAAAAAAAAACCRy%2B%2BQECAQoWBwQqM82pmzdOI65JkUVJJH%2BsnoaCHImn59tmax1guoeLynPzwz1TmpooaJ6S9UQTtPoZz2VUK4%2FcRDgbOIJSOwk%3D&job=lcI4cz154Ji3aTeZC0Ot04AsgVyhO-usKThFBTfHG6y9_dbe5s_edg\n",
      "https://www.simplyhired.com/search?q=Data+Engineer&l=texas&cursor=AAsAIAFgAAAAAAAAAAAAAAACCRy%2B%2BQECAQoWBwQqM82pmzdOI65JkUVJJH%2BsnoaCHImn59tmax1guoeLynPzwz1TmpooaJ6S9UQTtPoZz2VUK4%2FcRDgbOIJSOwk%3D&job=R5NGTp5h8k85_mGr_WwVkaYUivQmQZ6djiH6V_wRr_fZi1vVN1fvjA\n",
      "https://www.simplyhired.com/search?q=Data+Engineer&l=texas&cursor=AAsAIAFgAAAAAAAAAAAAAAACCRy%2B%2BQECAQoWBwQqM82pmzdOI65JkUVJJH%2BsnoaCHImn59tmax1guoeLynPzwz1TmpooaJ6S9UQTtPoZz2VUK4%2FcRDgbOIJSOwk%3D&job=c0nx8RPzHw_bi4EpIxrZ76y07PCeJzIPy0lB47wj0Gg4npsl3sIffg\n",
      "https://www.simplyhired.com/search?q=Data+Engineer&l=texas&cursor=AAsAIAFgAAAAAAAAAAAAAAACCRy%2B%2BQECAQoWBwQqM82pmzdOI65JkUVJJH%2BsnoaCHImn59tmax1guoeLynPzwz1TmpooaJ6S9UQTtPoZz2VUK4%2FcRDgbOIJSOwk%3D&job=GhbZhvL9T9Hjnj2P6n9nBqh4UaVaZzOC7825rdoQfNa5nA2XZSgwxw\n",
      "https://www.simplyhired.com/search?q=Data+Engineer&l=texas&cursor=AAsAIAFgAAAAAAAAAAAAAAACCRy%2B%2BQECAQoWBwQqM82pmzdOI65JkUVJJH%2BsnoaCHImn59tmax1guoeLynPzwz1TmpooaJ6S9UQTtPoZz2VUK4%2FcRDgbOIJSOwk%3D&job=bw_WMRgEigEW6aH12eujkInCYEMd2_JUPVX0QVcPr8CCN2JqXcRATA\n"
     ]
    },
    {
     "name": "stderr",
     "output_type": "stream",
     "text": [
      "/tmp/ipykernel_33129/477855742.py:20: FutureWarning: The frame.append method is deprecated and will be removed from pandas in a future version. Use pandas.concat instead.\n",
      "  df = df.append(page_data)\n"
     ]
    },
    {
     "name": "stdout",
     "output_type": "stream",
     "text": [
      "Page Number: 33  Page Link:  https://www.simplyhired.com/search?q=Data+Engineer&l=texas&cursor=AAsAIQFrAAAAAAAAAAAAAAACCRy%2B%2BQECAQoWBy9DblE4FeYcBGr3rAd5erN1M8ccnwEhqn7oYjlOkTbz9aXk9SX174vgvHQdNZdmZI63CUGYkE9SP09x\n",
      "https://www.simplyhired.com/search?q=Data+Engineer&l=texas&cursor=AAsAIQFrAAAAAAAAAAAAAAACCRy%2B%2BQECAQoWBy9DblE4FeYcBGr3rAd5erN1M8ccnwEhqn7oYjlOkTbz9aXk9SX174vgvHQdNZdmZI63CUGYkE9SP09x&job=hyF7azwGPTCxLez9KKvb_AHqCqXwp9xBB2XVrt8p_UpTR3KDCQXeHg\n",
      "https://www.simplyhired.com/search?q=Data+Engineer&l=texas&cursor=AAsAIQFrAAAAAAAAAAAAAAACCRy%2B%2BQECAQoWBy9DblE4FeYcBGr3rAd5erN1M8ccnwEhqn7oYjlOkTbz9aXk9SX174vgvHQdNZdmZI63CUGYkE9SP09x&job=mgfZ_A3oO1Vr662a-WoIs495o5KZQHelgMtEiB2xCLJ1Lv-22BxgYg\n",
      "https://www.simplyhired.com/search?q=Data+Engineer&l=texas&cursor=AAsAIQFrAAAAAAAAAAAAAAACCRy%2B%2BQECAQoWBy9DblE4FeYcBGr3rAd5erN1M8ccnwEhqn7oYjlOkTbz9aXk9SX174vgvHQdNZdmZI63CUGYkE9SP09x&job=BTFxdrez1_iwcy5VjIf7dcKzpGTkd-EzX5mSozMx6oYLTfYGuKhk_g\n",
      "https://www.simplyhired.com/search?q=Data+Engineer&l=texas&cursor=AAsAIQFrAAAAAAAAAAAAAAACCRy%2B%2BQECAQoWBy9DblE4FeYcBGr3rAd5erN1M8ccnwEhqn7oYjlOkTbz9aXk9SX174vgvHQdNZdmZI63CUGYkE9SP09x&job=atybKHeFcXn8TmaiqIGDn2dkEFqyhpp-J6pzFlP4UbPy1ZJrZDkGBQ\n",
      "https://www.simplyhired.com/search?q=Data+Engineer&l=texas&cursor=AAsAIQFrAAAAAAAAAAAAAAACCRy%2B%2BQECAQoWBy9DblE4FeYcBGr3rAd5erN1M8ccnwEhqn7oYjlOkTbz9aXk9SX174vgvHQdNZdmZI63CUGYkE9SP09x&job=Px-Xu7-v0u66CIDI7GedWGTcCp66AMNB5hmAFDWgELIWHdiXctYBow\n",
      "https://www.simplyhired.com/search?q=Data+Engineer&l=texas&cursor=AAsAIQFrAAAAAAAAAAAAAAACCRy%2B%2BQECAQoWBy9DblE4FeYcBGr3rAd5erN1M8ccnwEhqn7oYjlOkTbz9aXk9SX174vgvHQdNZdmZI63CUGYkE9SP09x&job=Zf8vjr4Jv8HMRnjR9-rAYlrETErJtzgjsIuw9jD2cY03WzNaha_BsA\n",
      "https://www.simplyhired.com/search?q=Data+Engineer&l=texas&cursor=AAsAIQFrAAAAAAAAAAAAAAACCRy%2B%2BQECAQoWBy9DblE4FeYcBGr3rAd5erN1M8ccnwEhqn7oYjlOkTbz9aXk9SX174vgvHQdNZdmZI63CUGYkE9SP09x&job=c1P2vXyDTejwhi0VcumkS_Lb2gn5-zEdqlap95Xv4eeUsUgkkHv-TA\n",
      "https://www.simplyhired.com/search?q=Data+Engineer&l=texas&cursor=AAsAIQFrAAAAAAAAAAAAAAACCRy%2B%2BQECAQoWBy9DblE4FeYcBGr3rAd5erN1M8ccnwEhqn7oYjlOkTbz9aXk9SX174vgvHQdNZdmZI63CUGYkE9SP09x&job=ML3uiTGbGdoFDeIWTLrQcw7W4q5J15lJvPEcYDuvvmJORSl541N1wQ\n",
      "https://www.simplyhired.com/search?q=Data+Engineer&l=texas&cursor=AAsAIQFrAAAAAAAAAAAAAAACCRy%2B%2BQECAQoWBy9DblE4FeYcBGr3rAd5erN1M8ccnwEhqn7oYjlOkTbz9aXk9SX174vgvHQdNZdmZI63CUGYkE9SP09x&job=pINv2anov51QmWBxnym99zTSPLnjmAFtu4pu78Skzrrun0K4-X9nOQ\n",
      "https://www.simplyhired.com/search?q=Data+Engineer&l=texas&cursor=AAsAIQFrAAAAAAAAAAAAAAACCRy%2B%2BQECAQoWBy9DblE4FeYcBGr3rAd5erN1M8ccnwEhqn7oYjlOkTbz9aXk9SX174vgvHQdNZdmZI63CUGYkE9SP09x&job=tycRQ-bQFhb8D8nwkFKYX7llJmQ66zVNm_O0pgPh-Qx4s23SOQAtqA\n",
      "https://www.simplyhired.com/search?q=Data+Engineer&l=texas&cursor=AAsAIQFrAAAAAAAAAAAAAAACCRy%2B%2BQECAQoWBy9DblE4FeYcBGr3rAd5erN1M8ccnwEhqn7oYjlOkTbz9aXk9SX174vgvHQdNZdmZI63CUGYkE9SP09x&job=-va54BkAdKioEK6qJOZQFtayn93GdAEQnc3d1ceBK0JW7QzO2CnTnQ\n"
     ]
    },
    {
     "name": "stderr",
     "output_type": "stream",
     "text": [
      "/tmp/ipykernel_33129/477855742.py:20: FutureWarning: The frame.append method is deprecated and will be removed from pandas in a future version. Use pandas.concat instead.\n",
      "  df = df.append(page_data)\n"
     ]
    },
    {
     "name": "stdout",
     "output_type": "stream",
     "text": [
      "Page Number: 34  Page Link:  https://www.simplyhired.com/search?q=Data+Engineer&l=texas&cursor=AAsAIgF2AAAAAAAAAAAAAAACCRy%2B%2BQECAQgWCAYIjN0pmmEOln7KyE4ck2l735vPb3XEUVtFPG9SLV4OP%2FHm0VTJfDVFLBQZ%2B5hYK%2FCGEA4%3D\n",
      "https://www.simplyhired.com/search?q=Data+Engineer&l=texas&cursor=AAsAIgF2AAAAAAAAAAAAAAACCRy%2B%2BQECAQgWCAYIjN0pmmEOln7KyE4ck2l735vPb3XEUVtFPG9SLV4OP%2FHm0VTJfDVFLBQZ%2B5hYK%2FCGEA4%3D&job=OEixGmomqFnVqYiYwcovWTMbj9dpu3Q5O-mH1WasCtC_ieUBhY-0Mw\n",
      "https://www.simplyhired.com/search?q=Data+Engineer&l=texas&cursor=AAsAIgF2AAAAAAAAAAAAAAACCRy%2B%2BQECAQgWCAYIjN0pmmEOln7KyE4ck2l735vPb3XEUVtFPG9SLV4OP%2FHm0VTJfDVFLBQZ%2B5hYK%2FCGEA4%3D&job=67Zx8QG0ButpsD_iVaZqgo0cO_eWovb2qPBK4_bGIFWhOk3Bg7RAOA\n",
      "https://www.simplyhired.com/search?q=Data+Engineer&l=texas&cursor=AAsAIgF2AAAAAAAAAAAAAAACCRy%2B%2BQECAQgWCAYIjN0pmmEOln7KyE4ck2l735vPb3XEUVtFPG9SLV4OP%2FHm0VTJfDVFLBQZ%2B5hYK%2FCGEA4%3D&job=PASkWC4sXIHeC9KiIcfPdEbdsYJGGlatQE-XfNDKsQF-DzpRkk_F_g\n",
      "https://www.simplyhired.com/search?q=Data+Engineer&l=texas&cursor=AAsAIgF2AAAAAAAAAAAAAAACCRy%2B%2BQECAQgWCAYIjN0pmmEOln7KyE4ck2l735vPb3XEUVtFPG9SLV4OP%2FHm0VTJfDVFLBQZ%2B5hYK%2FCGEA4%3D&job=H8sHeXUcjmniyQQ8tZaYnXL3HLACNXL80ldJp5XpO5xh7NB5z1uyiA\n",
      "https://www.simplyhired.com/search?q=Data+Engineer&l=texas&cursor=AAsAIgF2AAAAAAAAAAAAAAACCRy%2B%2BQECAQgWCAYIjN0pmmEOln7KyE4ck2l735vPb3XEUVtFPG9SLV4OP%2FHm0VTJfDVFLBQZ%2B5hYK%2FCGEA4%3D&job=OwYHXVfsYXKex02vE0GHQJhV3vshPAQQROgAGsNDsV933156Q6zQRw\n",
      "https://www.simplyhired.com/search?q=Data+Engineer&l=texas&cursor=AAsAIgF2AAAAAAAAAAAAAAACCRy%2B%2BQECAQgWCAYIjN0pmmEOln7KyE4ck2l735vPb3XEUVtFPG9SLV4OP%2FHm0VTJfDVFLBQZ%2B5hYK%2FCGEA4%3D&job=MNoGpOJhb5ADPWWGJJw2LGyvD2YBFtdDBYa7ToKcTcNtQklyIU0nqA\n",
      "https://www.simplyhired.com/search?q=Data+Engineer&l=texas&cursor=AAsAIgF2AAAAAAAAAAAAAAACCRy%2B%2BQECAQgWCAYIjN0pmmEOln7KyE4ck2l735vPb3XEUVtFPG9SLV4OP%2FHm0VTJfDVFLBQZ%2B5hYK%2FCGEA4%3D&job=uNzX7Z0lpz9wQusPM1lkPBPdknjTRkemb9xAsIwFtBqDySxq2_VtYg\n",
      "https://www.simplyhired.com/search?q=Data+Engineer&l=texas&cursor=AAsAIgF2AAAAAAAAAAAAAAACCRy%2B%2BQECAQgWCAYIjN0pmmEOln7KyE4ck2l735vPb3XEUVtFPG9SLV4OP%2FHm0VTJfDVFLBQZ%2B5hYK%2FCGEA4%3D&job=BRv8HiGD3WuAovmmJjoVZWJkNS4nnkBmS3DwIi4LuVxNdbmvfStlmQ\n",
      "https://www.simplyhired.com/search?q=Data+Engineer&l=texas&cursor=AAsAIgF2AAAAAAAAAAAAAAACCRy%2B%2BQECAQgWCAYIjN0pmmEOln7KyE4ck2l735vPb3XEUVtFPG9SLV4OP%2FHm0VTJfDVFLBQZ%2B5hYK%2FCGEA4%3D&job=y-2axbPxBvPhD6HmQTwsOscH1hVWi59caYfZandCk9I7FcECydnX-Q\n",
      "https://www.simplyhired.com/search?q=Data+Engineer&l=texas&cursor=AAsAIgF2AAAAAAAAAAAAAAACCRy%2B%2BQECAQgWCAYIjN0pmmEOln7KyE4ck2l735vPb3XEUVtFPG9SLV4OP%2FHm0VTJfDVFLBQZ%2B5hYK%2FCGEA4%3D&job=eiacwHn3grjqwDEbs-DMVnCirU28GGwwIthtiLdllXT9E4h82Qwokw\n",
      "https://www.simplyhired.com/search?q=Data+Engineer&l=texas&cursor=AAsAIgF2AAAAAAAAAAAAAAACCRy%2B%2BQECAQgWCAYIjN0pmmEOln7KyE4ck2l735vPb3XEUVtFPG9SLV4OP%2FHm0VTJfDVFLBQZ%2B5hYK%2FCGEA4%3D&job=N5VuFczmUeW-qGnTCdgjGJKKdjHcIfw9isIjxkZtXiJodSmivdHimA\n"
     ]
    },
    {
     "name": "stderr",
     "output_type": "stream",
     "text": [
      "/tmp/ipykernel_33129/477855742.py:20: FutureWarning: The frame.append method is deprecated and will be removed from pandas in a future version. Use pandas.concat instead.\n",
      "  df = df.append(page_data)\n"
     ]
    },
    {
     "name": "stdout",
     "output_type": "stream",
     "text": [
      "Page Number: 35  Page Link:  https://www.simplyhired.com/search?q=Data+Engineer&l=texas&cursor=AAsAIwGBAAAAAAAAAAAAAAACCRy%2B%2BQEBAQgBDmvLmifMwH%2Fkx4JjOFUvCaagRvH5%2FUZ5juRU7UkhunBE8QNEhYk%2F8dSziSe8\n",
      "https://www.simplyhired.com/search?q=Data+Engineer&l=texas&cursor=AAsAIwGBAAAAAAAAAAAAAAACCRy%2B%2BQEBAQgBDmvLmifMwH%2Fkx4JjOFUvCaagRvH5%2FUZ5juRU7UkhunBE8QNEhYk%2F8dSziSe8&job=X-EbXUv88w1q7DfWPnRPzGcHehq3FVrEIy1cJRbsnWPf8Gl4TDdv9Q\n",
      "https://www.simplyhired.com/search?q=Data+Engineer&l=texas&cursor=AAsAIwGBAAAAAAAAAAAAAAACCRy%2B%2BQEBAQgBDmvLmifMwH%2Fkx4JjOFUvCaagRvH5%2FUZ5juRU7UkhunBE8QNEhYk%2F8dSziSe8&job=qViOkui3lzjLAVUEVtFIx4sa4A6nLnOiY2BvsvyqMZevEvZ8nkfHyw\n",
      "https://www.simplyhired.com/search?q=Data+Engineer&l=texas&cursor=AAsAIwGBAAAAAAAAAAAAAAACCRy%2B%2BQEBAQgBDmvLmifMwH%2Fkx4JjOFUvCaagRvH5%2FUZ5juRU7UkhunBE8QNEhYk%2F8dSziSe8&job=xhlcnGKCjqzsIkXlOEN2QkeSFDLInGr2UwTDUOv_jnC8U7oLDJXh8A\n",
      "https://www.simplyhired.com/search?q=Data+Engineer&l=texas&cursor=AAsAIwGBAAAAAAAAAAAAAAACCRy%2B%2BQEBAQgBDmvLmifMwH%2Fkx4JjOFUvCaagRvH5%2FUZ5juRU7UkhunBE8QNEhYk%2F8dSziSe8&job=CVNrkyzcauZHd1xXtICih25cifMqw4OWGgaABCu7h7t-Jr6Aaiu61A\n",
      "https://www.simplyhired.com/search?q=Data+Engineer&l=texas&cursor=AAsAIwGBAAAAAAAAAAAAAAACCRy%2B%2BQEBAQgBDmvLmifMwH%2Fkx4JjOFUvCaagRvH5%2FUZ5juRU7UkhunBE8QNEhYk%2F8dSziSe8&job=GnF6lwnsb9DZSMI3CTUXFLtmk_kak2jRD-E0uA4A3qr5Dmx_VBdqbA\n",
      "https://www.simplyhired.com/search?q=Data+Engineer&l=texas&cursor=AAsAIwGBAAAAAAAAAAAAAAACCRy%2B%2BQEBAQgBDmvLmifMwH%2Fkx4JjOFUvCaagRvH5%2FUZ5juRU7UkhunBE8QNEhYk%2F8dSziSe8&job=H4f5gtzlwE-LJef6VKU1cwTqy7388GAWPO7vt-NjJziMBLP3N9PW2g\n",
      "https://www.simplyhired.com/search?q=Data+Engineer&l=texas&cursor=AAsAIwGBAAAAAAAAAAAAAAACCRy%2B%2BQEBAQgBDmvLmifMwH%2Fkx4JjOFUvCaagRvH5%2FUZ5juRU7UkhunBE8QNEhYk%2F8dSziSe8&job=_mv6SvWHdC2gubOH0XRTTMFlfeLclmbQ_vMquoL5SQ3SeBVJlJyJuQ\n",
      "https://www.simplyhired.com/search?q=Data+Engineer&l=texas&cursor=AAsAIwGBAAAAAAAAAAAAAAACCRy%2B%2BQEBAQgBDmvLmifMwH%2Fkx4JjOFUvCaagRvH5%2FUZ5juRU7UkhunBE8QNEhYk%2F8dSziSe8&job=emdy7p2Imh8Gxv8qNn0fNfLNlFdnyhmhe66FYjKwzFQuromioucxlw\n",
      "https://www.simplyhired.com/search?q=Data+Engineer&l=texas&cursor=AAsAIwGBAAAAAAAAAAAAAAACCRy%2B%2BQEBAQgBDmvLmifMwH%2Fkx4JjOFUvCaagRvH5%2FUZ5juRU7UkhunBE8QNEhYk%2F8dSziSe8&job=KI1UYL-Gcw-E2PR2g2HLkwaZnSKZ7ApIu77SWx33YOcHMefu3hpENg\n",
      "https://www.simplyhired.com/search?q=Data+Engineer&l=texas&cursor=AAsAIwGBAAAAAAAAAAAAAAACCRy%2B%2BQEBAQgBDmvLmifMwH%2Fkx4JjOFUvCaagRvH5%2FUZ5juRU7UkhunBE8QNEhYk%2F8dSziSe8&job=qlOFQtZtUog8HXQdVBDP069skIHas869e6uP4VJONUYaECheK4600A\n",
      "https://www.simplyhired.com/search?q=Data+Engineer&l=texas&cursor=AAsAIwGBAAAAAAAAAAAAAAACCRy%2B%2BQEBAQgBDmvLmifMwH%2Fkx4JjOFUvCaagRvH5%2FUZ5juRU7UkhunBE8QNEhYk%2F8dSziSe8&job=ZR5UUROG1d-8GH2W4yitYgb6FQU4zaeoiFBnHy0S8Z2Iby_9rdJYcQ\n"
     ]
    },
    {
     "name": "stderr",
     "output_type": "stream",
     "text": [
      "/tmp/ipykernel_33129/477855742.py:20: FutureWarning: The frame.append method is deprecated and will be removed from pandas in a future version. Use pandas.concat instead.\n",
      "  df = df.append(page_data)\n"
     ]
    },
    {
     "name": "stdout",
     "output_type": "stream",
     "text": [
      "Page Number: 36  Page Link:  https://www.simplyhired.com/search?q=Data+Engineer&l=texas&cursor=AAsAJAGMAAAAAAAAAAAAAAACCRy%2B%2BQEAFSc0vM1MW9HHsBbvuj0vIpuOOjFAK2HAsV%2BNDcjG\n",
      "https://www.simplyhired.com/search?q=Data+Engineer&l=texas&cursor=AAsAJAGMAAAAAAAAAAAAAAACCRy%2B%2BQEAFSc0vM1MW9HHsBbvuj0vIpuOOjFAK2HAsV%2BNDcjG&job=re7TBxmFOMAGTqOSSRqL2SuVZeYBOQj_5KwvUtYaGyi39oTRCvUivQ\n",
      "https://www.simplyhired.com/search?q=Data+Engineer&l=texas&cursor=AAsAJAGMAAAAAAAAAAAAAAACCRy%2B%2BQEAFSc0vM1MW9HHsBbvuj0vIpuOOjFAK2HAsV%2BNDcjG&job=CnMInyHBu_w8Uhk5wO8RslLq6xe2CPRSMnm7bEx7pMBDMR2qOTXO2Q\n",
      "https://www.simplyhired.com/search?q=Data+Engineer&l=texas&cursor=AAsAJAGMAAAAAAAAAAAAAAACCRy%2B%2BQEAFSc0vM1MW9HHsBbvuj0vIpuOOjFAK2HAsV%2BNDcjG&job=bU3pWmr9TruAabGgpH3jmwQgfcyLaKGyaCoaGZJszWOJ2-HP6qLdgw\n",
      "https://www.simplyhired.com/search?q=Data+Engineer&l=texas&cursor=AAsAJAGMAAAAAAAAAAAAAAACCRy%2B%2BQEAFSc0vM1MW9HHsBbvuj0vIpuOOjFAK2HAsV%2BNDcjG&job=fP26dDuu2fnaiFwFQZxx5x5wzE5xaU-z1nYjYs1J7Bzj1lh9Z0S8-Q\n",
      "https://www.simplyhired.com/search?q=Data+Engineer&l=texas&cursor=AAsAJAGMAAAAAAAAAAAAAAACCRy%2B%2BQEAFSc0vM1MW9HHsBbvuj0vIpuOOjFAK2HAsV%2BNDcjG&job=lFoPmcfsJ17HXEu8qhmOHCKJtxAtqbWErjv7_xhanaCyhCwgHhQUdA\n",
      "https://www.simplyhired.com/search?q=Data+Engineer&l=texas&cursor=AAsAJAGMAAAAAAAAAAAAAAACCRy%2B%2BQEAFSc0vM1MW9HHsBbvuj0vIpuOOjFAK2HAsV%2BNDcjG&job=1hGnPiQ9vhS2SqnSzXzfQV-63ii7K8RiNH42EhsOfIH4YVir_cuuKw\n",
      "https://www.simplyhired.com/search?q=Data+Engineer&l=texas&cursor=AAsAJAGMAAAAAAAAAAAAAAACCRy%2B%2BQEAFSc0vM1MW9HHsBbvuj0vIpuOOjFAK2HAsV%2BNDcjG&job=BxcojvEaPiHH543zpW9uu8-6da4FNsr6aGbyXByfHiLbLIwFVO4bGg\n",
      "https://www.simplyhired.com/search?q=Data+Engineer&l=texas&cursor=AAsAJAGMAAAAAAAAAAAAAAACCRy%2B%2BQEAFSc0vM1MW9HHsBbvuj0vIpuOOjFAK2HAsV%2BNDcjG&job=ULY5vX0eKAs0--B-AXQCbYy6zgE_KehfYXdk60K9utD2mCTb1Ev5Yw\n",
      "https://www.simplyhired.com/search?q=Data+Engineer&l=texas&cursor=AAsAJAGMAAAAAAAAAAAAAAACCRy%2B%2BQEAFSc0vM1MW9HHsBbvuj0vIpuOOjFAK2HAsV%2BNDcjG&job=GaSbLbHUSN6k7xHmLczuyFY3uKN3FWtfQmQTBODy6bYOOtBTJMtDng\n",
      "https://www.simplyhired.com/search?q=Data+Engineer&l=texas&cursor=AAsAJAGMAAAAAAAAAAAAAAACCRy%2B%2BQEAFSc0vM1MW9HHsBbvuj0vIpuOOjFAK2HAsV%2BNDcjG&job=Uqh_NnP39CuFg35RhliyJnb0HQNZruJWlixrEMJDpCGrQz93Na1bzg\n",
      "https://www.simplyhired.com/search?q=Data+Engineer&l=texas&cursor=AAsAJAGMAAAAAAAAAAAAAAACCRy%2B%2BQEAFSc0vM1MW9HHsBbvuj0vIpuOOjFAK2HAsV%2BNDcjG&job=SaRSC8MUv2OqRSvaiFGldTbMxcsZik9IAcxR9vLBdco7aouOoAvsOA\n",
      "Complete\n"
     ]
    },
    {
     "name": "stderr",
     "output_type": "stream",
     "text": [
      "/tmp/ipykernel_33129/477855742.py:20: FutureWarning: The frame.append method is deprecated and will be removed from pandas in a future version. Use pandas.concat instead.\n",
      "  df = df.append(page_data)\n"
     ]
    },
    {
     "data": {
      "text/html": [
       "<div>\n",
       "<style scoped>\n",
       "    .dataframe tbody tr th:only-of-type {\n",
       "        vertical-align: middle;\n",
       "    }\n",
       "\n",
       "    .dataframe tbody tr th {\n",
       "        vertical-align: top;\n",
       "    }\n",
       "\n",
       "    .dataframe thead th {\n",
       "        text-align: right;\n",
       "    }\n",
       "</style>\n",
       "<table border=\"1\" class=\"dataframe\">\n",
       "  <thead>\n",
       "    <tr style=\"text-align: right;\">\n",
       "      <th></th>\n",
       "      <th>job_title</th>\n",
       "      <th>company</th>\n",
       "      <th>location</th>\n",
       "      <th>job_type</th>\n",
       "      <th>salary</th>\n",
       "      <th>posted_on</th>\n",
       "      <th>job_qualification</th>\n",
       "      <th>job_description</th>\n",
       "    </tr>\n",
       "  </thead>\n",
       "  <tbody>\n",
       "    <tr>\n",
       "      <th>0</th>\n",
       "      <td>Junior Data Engineer</td>\n",
       "      <td>HYR Global Source Inc</td>\n",
       "      <td>Dallas, TX</td>\n",
       "      <td>Contract</td>\n",
       "      <td>Estimated: $77.3K - $97.9K a year</td>\n",
       "      <td>6 days ago</td>\n",
       "      <td>Microsoft Windows Server\\nWindows\\nAWS\\nScript...</td>\n",
       "      <td>Job Title - Junior Data Engineer\\n\\nLocation -...</td>\n",
       "    </tr>\n",
       "    <tr>\n",
       "      <th>1</th>\n",
       "      <td>Lead Big Data Engineer</td>\n",
       "      <td>ITgen systems</td>\n",
       "      <td>Dallas, TX</td>\n",
       "      <td>Contract</td>\n",
       "      <td>$60 - $70 an hour</td>\n",
       "      <td>12 hours ago</td>\n",
       "      <td>Azure\\nSpark\\nApache Hive\\nSoftware developmen...</td>\n",
       "      <td>Job Title: Lead Big Data Engineer\\nLocation: D...</td>\n",
       "    </tr>\n",
       "    <tr>\n",
       "      <th>2</th>\n",
       "      <td>Sports Data Engineer</td>\n",
       "      <td>Btechnical Group</td>\n",
       "      <td>Frisco, TX</td>\n",
       "      <td>Full-time | Contract</td>\n",
       "      <td>$150,000 - $175,000 a year</td>\n",
       "      <td>9 days ago</td>\n",
       "      <td>Computer Science\\n5 years\\nMicrosoft SQL Serve...</td>\n",
       "      <td>We, a leader in the Sports and Entertainment s...</td>\n",
       "    </tr>\n",
       "    <tr>\n",
       "      <th>3</th>\n",
       "      <td>Data Engineer</td>\n",
       "      <td>Garner Health - 1.0</td>\n",
       "      <td>Dallas, TX</td>\n",
       "      <td></td>\n",
       "      <td>$100,000 - $145,000 a year</td>\n",
       "      <td></td>\n",
       "      <td>Big data\\nSQL\\nAWS\\nPostgreSQL\\nTerraform\\nRed...</td>\n",
       "      <td>Garner's mission is to transform the healthcar...</td>\n",
       "    </tr>\n",
       "    <tr>\n",
       "      <th>4</th>\n",
       "      <td>Associate Data Engineer</td>\n",
       "      <td>48forty Solutions - 2.8</td>\n",
       "      <td>Houston, TX</td>\n",
       "      <td>Full-time</td>\n",
       "      <td>Estimated: $66.2K - $83.8K a year</td>\n",
       "      <td>10 hours ago</td>\n",
       "      <td>CI/CD\\nPower BI\\nAzure\\nDevOps\\nSpark\\nTest au...</td>\n",
       "      <td>48forty Solutions is the largest pallet manage...</td>\n",
       "    </tr>\n",
       "  </tbody>\n",
       "</table>\n",
       "</div>"
      ],
      "text/plain": [
       "                 job_title                    company      location  \\\n",
       "0     Junior Data Engineer      HYR Global Source Inc    Dallas, TX   \n",
       "1   Lead Big Data Engineer              ITgen systems    Dallas, TX   \n",
       "2     Sports Data Engineer           Btechnical Group    Frisco, TX   \n",
       "3            Data Engineer       Garner Health - 1.0     Dallas, TX   \n",
       "4  Associate Data Engineer   48forty Solutions - 2.8    Houston, TX   \n",
       "\n",
       "                job_type                              salary      posted_on  \\\n",
       "0               Contract   Estimated: $77.3K - $97.9K a year     6 days ago   \n",
       "1               Contract                   $60 - $70 an hour   12 hours ago   \n",
       "2   Full-time | Contract          $150,000 - $175,000 a year     9 days ago   \n",
       "3                                 $100,000 - $145,000 a year                  \n",
       "4              Full-time   Estimated: $66.2K - $83.8K a year   10 hours ago   \n",
       "\n",
       "                                   job_qualification  \\\n",
       "0  Microsoft Windows Server\\nWindows\\nAWS\\nScript...   \n",
       "1  Azure\\nSpark\\nApache Hive\\nSoftware developmen...   \n",
       "2  Computer Science\\n5 years\\nMicrosoft SQL Serve...   \n",
       "3  Big data\\nSQL\\nAWS\\nPostgreSQL\\nTerraform\\nRed...   \n",
       "4  CI/CD\\nPower BI\\nAzure\\nDevOps\\nSpark\\nTest au...   \n",
       "\n",
       "                                     job_description  \n",
       "0  Job Title - Junior Data Engineer\\n\\nLocation -...  \n",
       "1  Job Title: Lead Big Data Engineer\\nLocation: D...  \n",
       "2  We, a leader in the Sports and Entertainment s...  \n",
       "3  Garner's mission is to transform the healthcar...  \n",
       "4  48forty Solutions is the largest pallet manage...  "
      ]
     },
     "execution_count": 25,
     "metadata": {},
     "output_type": "execute_result"
    }
   ],
   "source": [
    "job = 'Data Engineer'\n",
    "location = 'texas'\n",
    "\n",
    "url = f'https://www.simplyhired.com/search?q={job}&l={location}'\n",
    "next_page = url\n",
    "\n",
    "soup = scrape_page(url)\n",
    "number_of_jobs = soup.find('div', {'data-testid':'headerSerpJobCount'}).p.text\n",
    "number_per_page = len(soup.find_all('ul', {'id':'job-list'})[0]\\\n",
    "        .find_all('li', {'class':'css-0'}))\n",
    "number_of_pages = math.ceil(int(number_of_jobs)/int(number_per_page))\n",
    "print({'number_of_jobs': number_of_jobs, 'number_per_page': number_per_page, 'number_of_pages': number_of_pages})\n",
    "\n",
    "i=1\n",
    "df = pd.DataFrame(columns=['job_title', 'company', 'location', 'job_type', 'salary', 'posted_on', 'job_qualification', 'job_description'])\n",
    "while next_page != None:\n",
    "    print('Page Number:', i, ' Page Link: ', next_page)\n",
    "    soup = scrape_page(next_page)\n",
    "    page_data = scrape_one_page(next_page, soup)\n",
    "    df = df.append(page_data)\n",
    "\n",
    "    i = i+1\n",
    "    next_page = get_cursor(soup, i+1)\n",
    "    \n",
    "print(\"Complete\")\n",
    "df.to_csv('simply_hired.csv')\n",
    "df.head()"
   ]
  },
  {
   "cell_type": "code",
   "execution_count": null,
   "metadata": {},
   "outputs": [],
   "source": [
    "job_qualification"
   ]
  },
  {
   "cell_type": "code",
   "execution_count": null,
   "metadata": {},
   "outputs": [],
   "source": [
    "# last_url = 'https://www.simplyhired.com/search?q=Data+Engineer&l=texas&cursor=AAsAJQGXAAAAAAAAAAAAAAACCP8v8AEAASKREim0qth6U1UGx3Kdm2xpc3Q%3D'\n",
    "url = 'https://www.simplyhired.com/search?q=Data+Engineer&l=texas&cursor=AAsAAQALAAAAAAAAAAAAAAACCP8v8AEACLxbmdcgaMSCrKocXGxPFPTCzR2ug7Ssp0Xo'\n",
    "soup = scrape_page(url)\n",
    "soup.find('a', {'class':'chakra-link css-1wxsdwr', 'aria-label': f'page {3}'})\n",
    "# job_title = job.h2.text.strip()\n",
    "# company = job.find('span', {'data-testid': 'viewJobCompanyName'}).text if job.find('span', {'data-testid': 'viewJobCompanyName'}) else \"\"\n",
    "# location = job.find('span', {'data-testid': 'viewJobCompanyLocation'}).text if job.find('span', {'data-testid': 'viewJobCompanyLocation'}) else \"\"\n",
    "# job_type = job.find('span', {'data-testid': 'viewJobBodyJobDetailsJobType'}).text if job.find('span', {'data-testid': 'viewJobBodyJobDetailsJobType'}) else \"\"\n",
    "# salary = job.find('span', {'data-testid': 'viewJobBodyJobCompensation'}).text if job.find('span', {'data-testid': 'viewJobBodyJobCompensation'}) else \"\"\n",
    "# posted_on = job.find('span', {'data-testid': 'viewJobBodyJobPostingTimestamp'}).text if job.find('span', {'data-testid': 'viewJobBodyJobPostingTimestamp'}) else \"\"\n",
    "# job_qualification = list(job.find('div', {'data-testid': 'viewJobQualificationsContainer'})\\\n",
    "#                                 .find('ul').strings)\n",
    "# job_qualification = \"\\n\".join(job_qualification)\n",
    "\n",
    "# job_description = list(job.find('div', {'data-testid':'viewJobBodyJobFullDescriptionContent'}).strings)\n",
    "# job_description = \"\\n\".join(job_description)\n",
    "# data = {\n",
    "#         'job_title':job_title,\n",
    "#         'company':company,\n",
    "#         'location': location, \n",
    "#         'job_type': job_type, \n",
    "#         'salary':salary, \n",
    "#         'posted_on':posted_on, \n",
    "#         'job_qualification':job_qualification, \n",
    "#         'job_description': job_description\n",
    "#         }\n",
    "\n",
    "# data = {\n",
    "#         'job_title':job_title,\n",
    "#         'company':company,\n",
    "#         'location': location, \n",
    "#         'job_type': job_type, \n",
    "#         'salary':salary, \n",
    "#         'posted_on':posted_on, \n",
    "#         'job_qualification':job_qualification, \n",
    "#         'job_description': job_description\n",
    "#         }\n",
    "# print(data)"
   ]
  },
  {
   "cell_type": "code",
   "execution_count": null,
   "metadata": {},
   "outputs": [],
   "source": [
    "# def scrape_one_page(soup):\n",
    "#     ul = soup.find_all('ul', id = 'job-list')\n",
    "#     li = ul[0].find_all('li', {'class':'css-0'})\n",
    "#     job_links = get_job_links(li)\n",
    "#     data_list = []\n",
    "#     for job_link in job_links:\n",
    "#         print(job_link)\n",
    "#         job = scrape_page(job_link)\n",
    "#         job_details = job.find_all('span', {'data-testid':'detailText'})\n",
    "#         job_title = job.h2.text.strip()\n",
    "#         company = job_details[0].text\n",
    "#         location = job_details[1].text\n",
    "#         job_type = job_details[2].text\n",
    "#         salary = job_details[3].text\n",
    "#         posted_on = job_details[4].text if len(job_details)>4 else ''\n",
    "\n",
    "#         job_qualification = list(job.find('div', {'data-testid': 'viewJobQualificationsContainer'})\\\n",
    "#                                 .find('ul').strings)\n",
    "#         job_qualification = \"\\n\".join(job_qualification)\n",
    "\n",
    "#         job_description = list(job.find('div', {'data-testid':'viewJobBodyJobFullDescriptionContent'}).strings)\n",
    "#         job_description = \"\\n\".join(job_description)\n",
    "#         data = {\n",
    "#                 'job_title':job_title,\n",
    "#                 'company':company,\n",
    "#                 'location': location, \n",
    "#                 'job_type': job_type, \n",
    "#                 'salary':salary, \n",
    "#                 'posted_on':posted_on, \n",
    "#                 'job_qualification':job_qualification, \n",
    "#                 'job_description': job_description\n",
    "#                 }\n",
    "#         data_list.append(data)\n",
    "#         # break\n",
    "#     return data_list"
   ]
  },
  {
   "cell_type": "code",
   "execution_count": null,
   "metadata": {},
   "outputs": [],
   "source": []
  },
  {
   "cell_type": "code",
   "execution_count": null,
   "metadata": {},
   "outputs": [],
   "source": [
    "# job_header = job.find('div', {'data-testid':'viewJobHeadingContainer'})\n",
    "# job_title = job_header.h2.text\n",
    "# company_location = job_header.find_all('span', {'data-testid': 'detailText'})\n",
    "# company = company_location[0].text\n",
    "# location = company_location[1].text\n",
    "# print(job_title, company, location)\n"
   ]
  },
  {
   "cell_type": "code",
   "execution_count": null,
   "metadata": {},
   "outputs": [],
   "source": []
  }
 ],
 "metadata": {
  "kernelspec": {
   "display_name": "scrapyvenv",
   "language": "python",
   "name": "python3"
  },
  "language_info": {
   "codemirror_mode": {
    "name": "ipython",
    "version": 3
   },
   "file_extension": ".py",
   "mimetype": "text/x-python",
   "name": "python",
   "nbconvert_exporter": "python",
   "pygments_lexer": "ipython3",
   "version": "3.10.6"
  },
  "orig_nbformat": 4
 },
 "nbformat": 4,
 "nbformat_minor": 2
}
