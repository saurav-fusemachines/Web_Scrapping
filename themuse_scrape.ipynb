{
 "cells": [
  {
   "cell_type": "code",
   "execution_count": 2,
   "metadata": {},
   "outputs": [],
   "source": [
    "from bs4 import BeautifulSoup\n",
    "import requests\n",
    "import pandas as pd\n",
    "import math"
   ]
  },
  {
   "cell_type": "code",
   "execution_count": 3,
   "metadata": {},
   "outputs": [],
   "source": [
    "def scrape_page(url):\n",
    "    response = requests.get(url)\n",
    "    soup = BeautifulSoup(response.content, \"html.parser\")\n",
    "    return soup"
   ]
  },
  {
   "cell_type": "code",
   "execution_count": 4,
   "metadata": {},
   "outputs": [],
   "source": [
    "job = 'Data Engineer'\n",
    "location = 'Texas'\n",
    "data_up_to = 5  #last seven days\n",
    "url=f\"https://www.themuse.com/search/location/los-angeles-ca/keyword/data%20engineer/radius/100mi/date-posted/last_7d/\"\n",
    "# url =f\"https://www.ziprecruiter.com/jobs-search?search=Data+Engineer&location=Texas&company=&no_explore=&refine_by_location_type=&radius=5&days=1&refine_by_salary=&refine_by_employment=employment_type%3Aall&refine_by_title=&refine_by_org_name=\""
   ]
  },
  {
   "cell_type": "code",
   "execution_count": 20,
   "metadata": {},
   "outputs": [
    {
     "name": "stdout",
     "output_type": "stream",
     "text": [
      "Total Job:119 \n",
      "20\n",
      "['https://themuse.com/jobs/kforce/software-engineer-f3b2d5', 'https://themuse.com/jobs/cashapp/principal-software-engineer-cash-pubsub-76d0bc', 'https://themuse.com/jobs/bd/sr-staff-software-engineer-salesforce-remote', 'https://themuse.com/jobs/reddit/staff-software-engineer-revenue-lifecycle-42a941', 'https://themuse.com/jobs/reddit/staff-software-engineer-revenue-lifecycle-42a941', 'https://themuse.com/jobs/eaton/senior-test-engineer-c09e17', 'https://themuse.com/jobs/warnerbrosdiscovery/infrastructure-operations-engineer', 'https://themuse.com/jobs/northropgrumman/database-engineer-sr-principal-level', 'https://themuse.com/jobs/northropgrumman/principal-engineer-test-a2c76a', 'https://themuse.com/jobs/blackline/senior-software-engineer-600a4d', 'https://themuse.com/jobs/bd/sr-staff-software-engineer-salesforce-remote', 'https://themuse.com/jobs/spacex/build-engineer-starshield-24ca46', 'https://themuse.com/jobs/spacex/build-engineer-starshield-24ca46', 'https://themuse.com/jobs/leidos/systems-engineer-d5d670', 'https://themuse.com/jobs/leidos/systems-engineer-766ca2', 'https://themuse.com/jobs/aparavi/fullstack-software-developer', 'https://themuse.com/jobs/esri/senior-devops-engineer-c9223c', 'https://themuse.com/jobs/wipro/technical-lead-3e77b0', 'https://themuse.com/jobs/blizzardentertainment/lead-software-engineer-client-warcraft-arclight-rumble', 'https://themuse.com/jobs/esri/senior-cnet-software-engineer']\n",
      "[{'job_title': 'Software Engineer', 'job_link': 'https://themuse.com/jobs/kforce/software-engineer-f3b2d5', 'location': 'Los Angeles, CA', 'job_description': [' Software Engineer will rapidly build prototypes in scalable way', ' Build the product from prototype to MVP (Minimum viable product)', ' Understanding concepts around Software Engineering, Machine Learning, Distributed Systems, Data Engineering', ' As a Software Engineer, you will design Data models and Data Products to enable extending various products']}, {'job_title': 'Principal Software Engineer, Cash PubSub', 'job_link': 'https://themuse.com/jobs/cashapp/principal-software-engineer-cash-pubsub-76d0bc', 'location': 'Los Angeles, CA / Remote', 'job_description': ['Design, build, and support infrastructure projects that provide critical support for tremendous processing requirements and distributed system pattern libraries to customers', 'Dig into the many parts of a large platform using a wide variety of analytical tooling, and if necessary, add some new ones', \"Use a data-driven approach to make the call on new infrastructure or product offerings that might need to be added, whether it's off-the-shelf or built in-house\", 'Have autonomy to research and achieve outcomes with support when you need it', 'Contribute to the growth of our development capabilities through leading, mentoring and supporting fellow engineers']}, {'job_title': 'Sr. Staff Software Engineer - Salesforce (Remote)', 'job_link': 'https://themuse.com/jobs/bd/sr-staff-software-engineer-salesforce-remote', 'location': 'Atlanta, GA', 'job_description': ['Deeply understand and drive toward the business goals and intended customer outcomes', 'You will be responsible for managing a team of analysts, developers, and drive delivery of the projects.', 'Provide Salesforce domain expertise and assessments to business collaborators and team members.', 'Good knowledge of Salesforce technologies offering standard process advice and recommendations to the team on system architecture and technical design.', 'Contribute to the Salesforce strategic vision and roadmap for the evolution of Salesforce within BD.', 'Demonstrated experience with advanced Salesforce.com development tools and techniques, e.g. Apex language, Force.com custom development, triggers, controllers, JavaScript, Force.com SOAP and REST APIs, JSON, sObjects, SOQL, SOSL, Chatter API, UI API, outbound messaging, Lightning Components and Visualforce pages.', 'Identify technical risks on your projects and help implement a mitigation plan.', 'Assist in the incorporation of DevSecOps principles into the development ecosystem, partnering with peer areas', 'Performs technical design reviews and code reviews.', 'Must be comfortable taking appropriate steps to protect PHI/PII/PCI.']}, {'job_title': 'Staff Software Engineer, Revenue Lifecycle', 'job_link': 'https://themuse.com/jobs/reddit/staff-software-engineer-revenue-lifecycle-42a941', 'location': 'San Francisco, CA', 'job_description': ['Internationalization efforts - Build support for new payment methods and currencies. Add features to support customers’ tax requirements in their countries.\\xa0', 'Codify sales contracts into funding sources that put system constraints on ad delivery, based on budgetary discretion of the customer.', 'Re-build our customer facing UI for our managed advertisers - the segment of our customer base that has reddit sales’ support. Create features expected for b2b relationships - detailed receipts and invoices, visibility into lines of credit and available funds.', 'Design roles-based permissions to support business-management of their advertiser accounts.\\xa0', 'End-to-end automation of lines of credit - advertisers apply for credit on the ads platform, the credit check policy is executed automatically, then converted into ads credit that enables ad delivery in our platform.']}, {'job_title': 'Staff Software Engineer, Revenue Lifecycle', 'job_link': 'https://themuse.com/jobs/reddit/staff-software-engineer-revenue-lifecycle-42a941', 'location': 'San Francisco, CA', 'job_description': ['Internationalization efforts - Build support for new payment methods and currencies. Add features to support customers’ tax requirements in their countries.\\xa0', 'Codify sales contracts into funding sources that put system constraints on ad delivery, based on budgetary discretion of the customer.', 'Re-build our customer facing UI for our managed advertisers - the segment of our customer base that has reddit sales’ support. Create features expected for b2b relationships - detailed receipts and invoices, visibility into lines of credit and available funds.', 'Design roles-based permissions to support business-management of their advertiser accounts.\\xa0', 'End-to-end automation of lines of credit - advertisers apply for credit on the ads platform, the credit check policy is executed automatically, then converted into ads credit that enables ad delivery in our platform.']}, {'job_title': 'Senior Test Engineer', 'job_link': 'https://themuse.com/jobs/eaton/senior-test-engineer-c09e17', 'location': 'Los Angeles, CA', 'job_description': ['Primarily responsible to be a liaison between the Engineering Test Lab, Mechanical/Project Engineers, and Program Management to provide technical planning, design, analysis, and guidance for new product development testing and testing-related improvements for legacy products. Define testing requirements based on customer and internal specifications. ', 'Design, build, and support sophisticated test systems to test hydraulic Valve ', 'Support fast prototyping by designing and building engineering test setups for investigation purpose', 'Support the development of test equipment internally as well as with supplier for new or existing equipment', 'Develop verification and validation plans, procedure and report summaries to support hydraulic test stand design', 'Review and interpret test data to assess test execution and performance both at the system and component level', 'Ensure a safe test environment by evaluating potential safety risks for planned testing and coordinating safety related efforts and activities with the Engineering Test Lab Manager, Test CoE, and site EH&S. ', 'Lead and participate in efforts to solve problems as it relates to component test, fixture design, test setup and execution as encountered by vendors, company operations personnel, and customers.', 'Plan, organize, control, and lead multiple simultaneous projects. Establish and oversee accomplishment of multiple project objectives.', 'Support targets and milestones for project budgets and schedules, develop and maintain metrics relevant to test. Participate in resolving program change of scope issues with Project Engineering and Program Management.', 'Create and/or guide the creation of technical documents, test setup schematics, test procedures, test reports, and design review material. Present test results and produce processed data for delivery to analysis and provide recommendations to customers and management.', 'Ensure standardization of products and adherence to engineering processes across multiple projects. Supports continuous improvement by offering input to standard processes and procedures. ', 'Anticipate and resolve major program obstacles to maintain overall schedule objectives and to achieve internal and external customer satisfaction.', 'Collaborate with peers and managers to determine key goals, objectives, and corresponding metrics. Review and amend these actions as appropriate. Focus on the timely achievement of these goals and objectives.', 'Interpret and coordinate updates of engineering documents. ', 'Lead and participate in cross-functional Root Cause and Corrective Action (RCCA) investigations. Provide engineering input and technical expertise and sound engineering judgment for failure investigation and for customer-returned hardware as it relates to testing.']}, {'job_title': 'Infrastructure Operations Engineer', 'job_link': 'https://themuse.com/jobs/warnerbrosdiscovery/infrastructure-operations-engineer', 'location': 'Burbank, CA', 'job_description': []}, {'job_title': 'Database Engineer (Sr Principal Level)', 'job_link': 'https://themuse.com/jobs/northropgrumman/database-engineer-sr-principal-level', 'location': 'Redondo Beach, CA', 'job_description': ['Uses data mapping, data mining and data transformational analysis tools to design and develop databases.', 'Determines data storage and optimum storage requirements.', 'Prepares system requirements, source analysis and process analyses and design throughout the database implementation.']}, {'job_title': 'Principal Engineer Test', 'job_link': 'https://themuse.com/jobs/northropgrumman/principal-engineer-test-a2c76a', 'location': 'Van Nuys, CA', 'job_description': ['US CITIZENSHIP REQUIRED FOR THIS POSITION: Yes']}, {'job_title': 'Senior Software Engineer', 'job_link': 'https://themuse.com/jobs/blackline/senior-software-engineer-600a4d', 'location': 'Los Angeles, CA', 'job_description': [\"Provide technical expertise and leadership in the design, development, and delivery of BlackLine's products, while adhering to timelines, coding standards, requirements, and quality. \", \"Architect, design, develop, test, troubleshoot, debug, optimize, scale, maintain and improve software applications, driving the delivery of high quality value and features to BlackLine's customers. Develop functional and technical specifications, and test plans. Review others' code. Develop and document functional and technical requirements. Collaborate with other team members and other teams on all of the above. \", 'Design and communicate coding standards, architectural plans, solve complex design and architectural problems, create robust architectural solutions. ', 'Implement, refine, and enforce software development techniques to ensure that delivered features meet software integration, performance, security, and maintainability expectations. ', 'Research, test, benchmark, and evaluate new tools and technologies, and recommend ways to implement them in product development. ', 'Maintain high standards of software quality and technical excellence within the team by establishing good practices and habits and writing clean, testable, maintainable, and secure code. ', 'Inspire a forward-thinking team of developers, acting as an agent of change and evangelist for a quality-first culture within the organization. Mentor and coach team members and guide them to solutions on complex design issues. ', 'Proactively identify issues, bottlenecks, gaps, or other areas of concern or opportunity and work to either directly affect change, or advocate for that change by working with peers and leadership to build consensus and take action. ', 'Perform critical maintenance, deployment, and release support activities, including occasional off-hours support. ', 'Adaptable team player with strong collaboration skills and a focus on results and value delivery. ', 'Passion for engineering excellence, curiosity and demonstrated ability of continuous learning. ']}, {'job_title': 'Sr. Staff Software Engineer - Salesforce (Remote)', 'job_link': 'https://themuse.com/jobs/bd/sr-staff-software-engineer-salesforce-remote', 'location': 'Atlanta, GA', 'job_description': ['Deeply understand and drive toward the business goals and intended customer outcomes', 'You will be responsible for managing a team of analysts, developers, and drive delivery of the projects.', 'Provide Salesforce domain expertise and assessments to business collaborators and team members.', 'Good knowledge of Salesforce technologies offering standard process advice and recommendations to the team on system architecture and technical design.', 'Contribute to the Salesforce strategic vision and roadmap for the evolution of Salesforce within BD.', 'Demonstrated experience with advanced Salesforce.com development tools and techniques, e.g. Apex language, Force.com custom development, triggers, controllers, JavaScript, Force.com SOAP and REST APIs, JSON, sObjects, SOQL, SOSL, Chatter API, UI API, outbound messaging, Lightning Components and Visualforce pages.', 'Identify technical risks on your projects and help implement a mitigation plan.', 'Assist in the incorporation of DevSecOps principles into the development ecosystem, partnering with peer areas', 'Performs technical design reviews and code reviews.', 'Must be comfortable taking appropriate steps to protect PHI/PII/PCI.']}, {'job_title': 'Build Engineer (Starshield)', 'job_link': 'https://themuse.com/jobs/spacex/build-engineer-starshield-24ca46', 'location': 'El Segundo, CA', 'job_description': ['Lead the assembly and integration of satellite sub-assemblies, test racks and test beds', 'Develop novel manufacturing techniques and manage the transition from development to full production handoff', 'Prepare engineering documentation necessary for the transition from development to production including assembly procedures, test procedures, standard operating procedures, schematic diagrams, bills of materials, suitable alternate parts lists and mechanical drawings', 'Actively engage with technicians in a hands-on fashion to facilitate and improve production processes', 'Devise and execute improvements to enhance production efficiency and quality', 'Create, maintain, and communicate detailed plans and schedules', 'Develop supply chain for new product and actively work with vendors', 'Understand, analyze and resolve manufacturing discrepancies while interfacing with key stakeholders', 'Tooling design and validation', 'Perform training of production personnel and leadership', 'Lead continuous improvement efforts of established product', 'Resolve non-conformances and identify root cause', 'Develop and execute tests for subscale and vehicle level testing']}, {'job_title': 'Build Engineer (Starshield)', 'job_link': 'https://themuse.com/jobs/spacex/build-engineer-starshield-24ca46', 'location': 'El Segundo, CA', 'job_description': ['Lead the assembly and integration of satellite sub-assemblies, test racks and test beds', 'Develop novel manufacturing techniques and manage the transition from development to full production handoff', 'Prepare engineering documentation necessary for the transition from development to production including assembly procedures, test procedures, standard operating procedures, schematic diagrams, bills of materials, suitable alternate parts lists and mechanical drawings', 'Actively engage with technicians in a hands-on fashion to facilitate and improve production processes', 'Devise and execute improvements to enhance production efficiency and quality', 'Create, maintain, and communicate detailed plans and schedules', 'Develop supply chain for new product and actively work with vendors', 'Understand, analyze and resolve manufacturing discrepancies while interfacing with key stakeholders', 'Tooling design and validation', 'Perform training of production personnel and leadership', 'Lead continuous improvement efforts of established product', 'Resolve non-conformances and identify root cause', 'Develop and execute tests for subscale and vehicle level testing']}, {'job_title': 'Systems Engineer', 'job_link': 'https://themuse.com/jobs/leidos/systems-engineer-d5d670', 'location': 'San Diego, CA', 'job_description': ['Candidates must posses an active TS/SCI with Polygraph security clearance to be considered for this role.']}, {'job_title': 'Systems Engineer', 'job_link': 'https://themuse.com/jobs/leidos/systems-engineer-766ca2', 'location': 'San Diego, CA', 'job_description': ['Candidates must possess an active TS/SCI with polygraph security clearance to be considered for this role.']}, {'job_title': 'Full-Stack Software Developer', 'job_link': 'https://themuse.com/jobs/aparavi/fullstack-software-developer', 'location': 'Santa Monica, CA', 'job_description': ['Design, write and submit scalable, maintainable software.\\u202f\\xa0', 'Follow and maintain a high technical bar.\\u202f\\xa0', 'Proactively and continuously expand experience and proficiency in code base, with solid understanding of relevant areas.\\u202f\\xa0', 'Scope and implement small to medium features with little to no guidance. \\u202f\\xa0', 'Understand code complexity; provide relatively accurate estimates based on complexity assessments.\\u202f\\xa0', 'Provide helpful, timely code reviews.\\u202f\\xa0', 'Write engineering review proposals and contribute to technical design; ability to think through problems and failure scenarios in use cases.\\u202f\\xa0', 'Understand how code fits into broader technical context.\\u202f\\xa0', 'Debug effectively within their primary area to find the root cause and fix.\\u202f\\xa0', 'Work as an agile member of a combined development and test team, running in short cycles to develop functional software in quick iterations.\\u202f\\xa0', 'Actively participate in agile ceremonies, providing accurate and timely feedback regarding both the process and the product.\\u202f\\xa0', 'Participate in on-call rotation, as applicable to their domain.\\u202f\\xa0', 'Perform other related duties as assigned.\\u202f']}, {'job_title': 'Senior DevOps Engineer', 'job_link': 'https://themuse.com/jobs/esri/senior-devops-engineer-c9223c', 'location': 'Redlands, CA', 'job_description': ['Collaborate with teams of SREs and DevOps engineers to operate SaaS capabilities across multi cloud providers', 'Partner in improving workflows to build, test, and deploy applications', 'Maintain CI/CD pipelines across development, QA, and production settings', 'Configure and deploy containerized micro-service components', 'Design, document, implement, and maintain operational components in applications', 'Employ automation, effective monitoring, and infrastructure-as-code', 'Develop and sustain data pipelines for gaining operational insights on deployed services and cloud apps', 'Iterate best practices, share knowledge across the team, show agility in your growth; to increase deployment quality and velocity']}, {'job_title': 'Technical Lead', 'job_link': 'https://themuse.com/jobs/wipro/technical-lead-3e77b0', 'location': 'Cypress, CA', 'job_description': ['  A PROUD HISTORY OF OVER 75 YEARS  ', '  FY22 REVENUE 10.4 BN USD  ', \"  WE'RE PRESENT IN 66 COUNTRIES  \", '  OVER 1,400 ACTIVE GLOBAL CLIENTS  ']}, {'job_title': 'Lead Software Engineer, Client - Warcraft Arclight Rumble', 'job_link': 'https://themuse.com/jobs/blizzardentertainment/lead-software-engineer-client-warcraft-arclight-rumble', 'location': 'Irvine, CA', 'job_description': ['Medical, dental, vision, health savings account or health reimbursement account, healthcare spending accounts, dependent care spending accounts, life and AD&D insurance, disability insurance;', '401(k) with Company match, tuition reimbursement, charitable donation matching;', 'Paid holidays and vacation, paid sick time, floating holidays, compassion and bereavement leaves, parental leave;', 'Mental health & wellbeing programs, fitness programs, free and discounted games, and a variety of other voluntary benefit programs like supplemental life & disability, legal service, ID protection, rental insurance, and others;', 'If the Company requires that you move geographic locations for the job, then you may also be eligible for relocation assistance.']}, {'job_title': 'Senior C#/.NET Software Engineer', 'job_link': 'https://themuse.com/jobs/esri/senior-cnet-software-engineer', 'location': 'Redlands, CA / Remote', 'job_description': ['Create web services components that follow industry-standard design patterns, development methodologies, and deployment models', 'Assist in bringing excellent software to the ArcGIS platform', 'Work closely with other developers to design and develop quality APIs that scale to millions of users', 'Write comprehensive technical design specifications and support documentation']}]\n"
     ]
    },
    {
     "name": "stderr",
     "output_type": "stream",
     "text": [
      "/tmp/ipykernel_14187/363914267.py:53: FutureWarning: The frame.append method is deprecated and will be removed from pandas in a future version. Use pandas.concat instead.\n",
      "  df = df.append(data_list)\n"
     ]
    }
   ],
   "source": [
    "soup = scrape_page(url)\n",
    "total_job_count=soup.find('h1',class_='Header_total__0AoR2')\n",
    "total_job_count= total_job_count.find('span').text\n",
    "print(f\"Total Job:{total_job_count}\")\n",
    "\n",
    "job_card = soup.find_all('div',{'data-testid':'job-card'})\n",
    "job_links = soup.find_all('a',{'class':'JobCard_viewJobLink__Gesny'})\n",
    "company_name = soup.find_all('a',{'class':'TextLink_textLink__WOMzP JobCard_companyName__8Fxax'})\n",
    "# print(company_name)\n",
    "\n",
    "job_id = []\n",
    "for item in job_links:\n",
    "    job_anchor = item.get('href')\n",
    "    job_id.append(job_anchor)\n",
    "print(len(job_id))\n",
    "\n",
    "individual_job_page_link = []\n",
    "for i in job_id:\n",
    "    individual_job_page_link.append(\"https://themuse.com\"+i)\n",
    "\n",
    "print(individual_job_page_link)\n",
    "\n",
    "\n",
    "# print(job_links)\n",
    "\n",
    "    # with open ('themuse.html',\"w\") as f:\n",
    "#     f.write(str(soup.prettify))\n",
    "data_list = []\n",
    "for j in individual_job_page_link:\n",
    "    job = scrape_page(j)\n",
    "    job_title = job.h1.text.strip()\n",
    "    location = job.find('span',{'class':'JobIndividualHeader_jobHeaderLocation__Tyroc'}).text\n",
    "    job_description = job.find('article',{'class':'JobIndividualBody_jobBodyDescription__NTB3f'})\n",
    "    job_description = job_description.find_all('ul')\n",
    "\n",
    "    jobs_description=[]\n",
    "    if job_description:\n",
    "        job_description = job_description[0].find_all('li')\n",
    "        for li in job_description:\n",
    "            d = li.get_text()\n",
    "            jobs_description.append(d)\n",
    "    else:\n",
    "        job_description=\"\"        \n",
    "    data={\n",
    "        'job_title':job_title,\n",
    "        'job_link':j,\n",
    "        'location':location,\n",
    "        'job_description':jobs_description\n",
    "    }\n",
    "    data_list.append(data)\n",
    "print(data_list)\n",
    "df = pd.DataFrame(columns=['job_title','job_link','location','job_description'])\n",
    "df = df.append(data_list)\n",
    "df.to_csv('themuse.csv',index=False)\n"
   ]
  }
 ],
 "metadata": {
  "kernelspec": {
   "display_name": "Python 3",
   "language": "python",
   "name": "python3"
  },
  "language_info": {
   "codemirror_mode": {
    "name": "ipython",
    "version": 3
   },
   "file_extension": ".py",
   "mimetype": "text/x-python",
   "name": "python",
   "nbconvert_exporter": "python",
   "pygments_lexer": "ipython3",
   "version": "3.10.6"
  },
  "orig_nbformat": 4
 },
 "nbformat": 4,
 "nbformat_minor": 2
}
