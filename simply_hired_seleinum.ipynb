{
 "cells": [
  {
   "cell_type": "code",
   "execution_count": 1,
   "metadata": {},
   "outputs": [],
   "source": [
    "import time\n",
    "import math\n",
    "import requests\n",
    "import pandas as pd\n",
    "from bs4 import BeautifulSoup\n",
    "from selenium import webdriver\n",
    "from requests.adapters import Retry\n",
    "from requests.exceptions import Timeout\n",
    "from datetime import datetime, timedelta\n",
    "from selenium.webdriver.common.by import By\n",
    "from selenium.webdriver.firefox.options import Options\n",
    "from selenium.common.exceptions import TimeoutException\n"
   ]
  },
  {
   "cell_type": "code",
   "execution_count": 2,
   "metadata": {},
   "outputs": [
    {
     "name": "stderr",
     "output_type": "stream",
     "text": [
      "/tmp/ipykernel_5743/3424232155.py:2: DeprecationWarning: headless property is deprecated, instead use add_argument('-headless')\n",
      "  firefox_options.headless = False\n"
     ]
    }
   ],
   "source": [
    "firefox_options = Options()\n",
    "firefox_options.headless = False\n"
   ]
  },
  {
   "cell_type": "code",
   "execution_count": 3,
   "metadata": {},
   "outputs": [],
   "source": [
    "driver = webdriver.Firefox(options=firefox_options)"
   ]
  },
  {
   "cell_type": "code",
   "execution_count": 4,
   "metadata": {},
   "outputs": [],
   "source": [
    "def scrape_page(url):\n",
    "    driver.get(url)\n",
    "    selenium_response = driver.page_source\n",
    "    response = BeautifulSoup(selenium_response,\"html.parser\")\n",
    "    return response"
   ]
  },
  {
   "cell_type": "code",
   "execution_count": 4,
   "metadata": {},
   "outputs": [],
   "source": [
    "def scrape_page(url, max_retries=3):\n",
    "    for attempt in range(max_retries):\n",
    "        try:\n",
    "            time.sleep(2)\n",
    "            driver.get(url)\n",
    "            selenium_response = driver.page_source\n",
    "            soup = BeautifulSoup(selenium_response, \"html.parser\")\n",
    "            return soup\n",
    "        except Exception as e:\n",
    "            attempt = attempt + 1\n",
    "            print(\"Exception occurred on attempt\", attempt + 1)\n",
    "            print(\"Exception: \",e)\n",
    "            if attempt + 1 < max_retries:\n",
    "                print(\"Retrying...\")\n",
    "                time.sleep(2)  # Add a delay before retrying\n",
    "                continue\n",
    "            else:\n",
    "                print(\"Max retries reached\")\n",
    "                return None\n"
   ]
  },
  {
   "cell_type": "code",
   "execution_count": null,
   "metadata": {},
   "outputs": [],
   "source": [
    "def scrape_page(url):\n",
    "    retry_strategy = Retry(\n",
    "        total=3,\n",
    "        status_forcelist=[429, 500, 502, 503, 504],\n",
    "        backoff_factor=1\n",
    "    )\n",
    "    adapter = requests.adapters.HTTPAdapter(max_retries=retry_strategy)\n",
    "    session = requests.Session()\n",
    "    session.mount(\"http://\", adapter)\n",
    "    session.mount(\"https://\", adapter)\n",
    "\n",
    "    try:\n",
    "        # response = session.get(url, timeout=5)\n",
    "        driver.get(url)\n",
    "        selenium_response = driver.page_source\n",
    "    except Timeout:\n",
    "        print(\"Timeout occurred\")\n",
    "        return None\n",
    "\n",
    "    soup = BeautifulSoup(selenium_response, \"html.parser\")\n",
    "    return soup"
   ]
  },
  {
   "cell_type": "code",
   "execution_count": 5,
   "metadata": {},
   "outputs": [],
   "source": [
    "def get_cursor(soup, next_page_num):\n",
    "    cursor = soup.find('a', {'class':'chakra-link css-1wxsdwr', 'aria-label': f'page {next_page_num}'})\n",
    "    if cursor:\n",
    "        return cursor.get('href')\n",
    "    else:\n",
    "        return None"
   ]
  },
  {
   "cell_type": "code",
   "execution_count": 6,
   "metadata": {},
   "outputs": [],
   "source": [
    "def get_job_links(url, list_elems):\n",
    "    job_links = []\n",
    "    for item in list_elems:\n",
    "        job_key = item.div.get('data-jobkey')\n",
    "        job_link = f'{url}&job={job_key}'\n",
    "        job_links.append(job_link)\n",
    "    return job_links\n"
   ]
  },
  {
   "cell_type": "code",
   "execution_count": 7,
   "metadata": {},
   "outputs": [],
   "source": [
    "def scrape_one_page(url, soup,search_keyword_for_job):\n",
    "    ul = soup.find_all('ul', id = 'job-list')\n",
    "    li = ul[0].find_all('li', {'class':'css-0'})\n",
    "    job_links = get_job_links(url, li)\n",
    "    data_list = []\n",
    "    for job_link in job_links:\n",
    "        print(job_link)\n",
    "        job = scrape_page(job_link)\n",
    "        job_title = job.h2.text.strip() if job.h2.text.strip() else \"\"\n",
    "        company = job.find('span', {'data-testid': 'viewJobCompanyName'}).text if job.find('span', {'data-testid': 'viewJobCompanyName'}) else \"\"\n",
    "        location = job.find('span', {'data-testid': 'viewJobCompanyLocation'}).text if job.find('span', {'data-testid': 'viewJobCompanyLocation'}) else \"\"\n",
    "        job_type = job.find('span', {'data-testid': 'viewJobBodyJobDetailsJobType'}).text if job.find('span', {'data-testid': 'viewJobBodyJobDetailsJobType'}) else \"\"\n",
    "        salary = job.find('span', {'data-testid': 'viewJobBodyJobCompensation'}).text if job.find('span', {'data-testid': 'viewJobBodyJobCompensation'}) else \"\"\n",
    "        posted_on = job.find('span', {'data-testid': 'viewJobBodyJobPostingTimestamp'}).text if job.find('span', {'data-testid': 'viewJobBodyJobPostingTimestamp'}) else \"\"\n",
    "        # job_qualification = job.find('div', {'data-testid': 'viewJobQualificationsContainer'})\\\n",
    "        #                         .find('ul')\n",
    "        try:\n",
    "            job_qualification = job.find('div', {'data-testid': 'viewJobQualificationsContainer'}).find('ul')\n",
    "            if job_qualification:\n",
    "                job_qualification = list(job_qualification.strings)\n",
    "            else:\n",
    "                job_qualification = []\n",
    "        except AttributeError:\n",
    "            job_qualification = []\n",
    "\n",
    "        if job_qualification:\n",
    "            job_qualification = list(job.find('div', {'data-testid': 'viewJobQualificationsContainer'})\\\n",
    "                                    .find('ul').strings)\n",
    "            job_qualification = [x.strip() for x in job_qualification]\n",
    "            # job_qualification = \"\\n\".join(job_qualification)\n",
    "        else:\n",
    "            job_qualification = \"\"\n",
    "\n",
    "        job_description = job.find('div', {'data-testid':'viewJobBodyJobFullDescriptionContent'})\n",
    "        if job_description:\n",
    "            job_description = list(job.find('div', {'data-testid':'viewJobBodyJobFullDescriptionContent'}).strings)\n",
    "            job_description = [x.strip() for x in job_description]\n",
    "            # job_description = \"\\n\".join(job_description)\n",
    "        else:\n",
    "            job_description = \"\"\n",
    "\n",
    "        job_posted_time = soup.find_all('span',{'data-testid':'viewJobBodyJobPostingTimestamp'})\n",
    "        job_posted_time = job_posted_time[0].find('span',{'data-testid':'detailText'}).text.strip()\n",
    "        # date_format = \"%Y-%m-%d\"\n",
    "        date_format = \"%Y-%m-%d\"\n",
    "        if \"days\" in  job_posted_time :\n",
    "            job_posted_date = datetime.now() - timedelta(days=int(job_posted_time.split()[0]))\n",
    "            job_posted_dates = job_posted_date.strftime(date_format)\n",
    "        elif \"hours\" in job_posted_time:\n",
    "            job_posted_date = datetime.now() - timedelta(hours=int(job_posted_time.split()[0]))\n",
    "            job_posted_dates = job_posted_date.strftime(date_format)\n",
    "        else:\n",
    "            job_posted_dates = datetime.now()\n",
    "\n",
    "        data = {\n",
    "                'search_keyword_for_job':search_keyword_for_job,\n",
    "                'job_title':job_title,\n",
    "                'job_url':job_link,\n",
    "                'company':company,\n",
    "                'location': location, \n",
    "                'job_type': job_type, \n",
    "                'salary':salary, \n",
    "                'posted_on':job_posted_dates, \n",
    "                'job_qualification':job_qualification, \n",
    "                'job_description': job_description\n",
    "                }\n",
    "        data_list.append(data)\n",
    "        # break\n",
    "    return data_list\n",
    "        "
   ]
  },
  {
   "cell_type": "code",
   "execution_count": 8,
   "metadata": {},
   "outputs": [
    {
     "name": "stdout",
     "output_type": "stream",
     "text": [
      "Number of jobs for Data Engineer:104   total_page:6\n",
      "Page Number: 1  Page Link:  https://www.simplyhired.com/search?q=Data Engineer&l=united+states&t=1\n",
      "https://www.simplyhired.com/search?q=Data Engineer&l=united+states&t=1&job=dz7dm6ELpMc1Aha6xWQmV1gME8E_IVg1SJh4MguqgteJqTFiu88kYA\n",
      "https://www.simplyhired.com/search?q=Data Engineer&l=united+states&t=1&job=0xk1JtjQJ6zifgmpdi8qvgbXV0GXlnBRQK8hYDJBtbzZLJy897Rarg\n",
      "https://www.simplyhired.com/search?q=Data Engineer&l=united+states&t=1&job=71-kq0Y7Xhl9ifhN7p65yCkl2volsHBj-92KJ_vkj_1JvPdW1hhd7Q\n",
      "https://www.simplyhired.com/search?q=Data Engineer&l=united+states&t=1&job=hdhvIFpFN9euvQxUJBX_8qH4l4MfWaEm925cmTBMVlMd9eQSkXv49A\n",
      "https://www.simplyhired.com/search?q=Data Engineer&l=united+states&t=1&job=rnGWsMRFdyiSNsHmu0PvMebAGhhXgdhp3_aXucxUuSqdVzlkrdEZrg\n",
      "https://www.simplyhired.com/search?q=Data Engineer&l=united+states&t=1&job=jUjeB31n7v3rYYuPszVg1vTLX-9e6iMfrw-qAouipRhUQhAVY9MuHg\n",
      "https://www.simplyhired.com/search?q=Data Engineer&l=united+states&t=1&job=IjOzSiwAmG3nT-aI4RCJi5pSFM6Owq6JC711f4luixeoNjtiEfeBMQ\n",
      "https://www.simplyhired.com/search?q=Data Engineer&l=united+states&t=1&job=1PWq8sx16wdMRipMkD5VIkVySa6ZAALHQboip_FJmhizZpYIP6ZBxQ\n",
      "https://www.simplyhired.com/search?q=Data Engineer&l=united+states&t=1&job=29F3MBwWi1GFc8sD2zrD_OlIcxdeMH3chdggCn1vRjd6ejyEm8xgbw\n",
      "https://www.simplyhired.com/search?q=Data Engineer&l=united+states&t=1&job=erLwhCqZkxvh8qU_Y9hl9mWDw_bn4gHF0YcSE1CPfZovVmfRatveng\n",
      "https://www.simplyhired.com/search?q=Data Engineer&l=united+states&t=1&job=tZ4vs0Mooim4WMrESJXKvR--aOC6mqyN2yMs_HBngtnrmea-DIafzA\n",
      "https://www.simplyhired.com/search?q=Data Engineer&l=united+states&t=1&job=JLX_W7QPXgEiR0GKBiFzLzqJnTYXH9qK7k0uzhMyXgai80BqoerqXQ\n",
      "https://www.simplyhired.com/search?q=Data Engineer&l=united+states&t=1&job=yLvMZHeGvPQCc16gplDOwDnNfay6QwDjvnSMCE5n344x8eQdpZgjZw\n",
      "https://www.simplyhired.com/search?q=Data Engineer&l=united+states&t=1&job=tyovdwHwtgkM58gJmTwE8vUmo_rPFxzCikkn8GFBEaq5wZM1nYp2aw\n",
      "https://www.simplyhired.com/search?q=Data Engineer&l=united+states&t=1&job=70xTexZGHVmuPusxeBPCSNz0cGnpMz5nrbzW_1Amm-aDBxZo187ePw\n",
      "https://www.simplyhired.com/search?q=Data Engineer&l=united+states&t=1&job=JOcHL7RqO4NvZM_yh0HBDZJPofEBaK53INKY-CFMtXEf-ipu6LDBHw\n",
      "https://www.simplyhired.com/search?q=Data Engineer&l=united+states&t=1&job=9kUc4m3B6T1jx_R-QWpZbtzREmUPrmL8poi900kWVreDgjCXV4UG5g\n",
      "https://www.simplyhired.com/search?q=Data Engineer&l=united+states&t=1&job=pndWLFAYPE-Nv7O-6NlXMHJnb3ks-HB-KhGAwsUxeqF-O3vLVjeB3w\n",
      "https://www.simplyhired.com/search?q=Data Engineer&l=united+states&t=1&job=KUPGjSNElCfErZnY7cvwTSuvEPkb6PnbYej1-SkLC31mfcUh-QmLtA\n",
      "https://www.simplyhired.com/search?q=Data Engineer&l=united+states&t=1&job=MAK8HPgSmNWFdhNrFwv7gXl1Lj9hXZkKxQOy1MKevLn1JEQn7GSrKg\n"
     ]
    },
    {
     "name": "stderr",
     "output_type": "stream",
     "text": [
      "/tmp/ipykernel_5743/3381847202.py:22: FutureWarning: The frame.append method is deprecated and will be removed from pandas in a future version. Use pandas.concat instead.\n",
      "  df = df.append(page_data)\n"
     ]
    },
    {
     "name": "stdout",
     "output_type": "stream",
     "text": [
      "Page Number: 2  Page Link:  https://www.simplyhired.com/search?q=Data+Engineer&l=united+states&t=1&cursor=ABQAAQAUAAAAAAAAAAAAAAACDzC29AEBAQcSOzmSTQHnj1zgxtZXkawrecCyLIXAXFk%3D\n",
      "https://www.simplyhired.com/search?q=Data+Engineer&l=united+states&t=1&cursor=ABQAAQAUAAAAAAAAAAAAAAACDzC29AEBAQcSOzmSTQHnj1zgxtZXkawrecCyLIXAXFk%3D&job=ODGHSS10ONK8gEX9N6VdnF3yYnnNLcWuAUh_0gDiHU8Pl6q8FmgAXQ\n",
      "https://www.simplyhired.com/search?q=Data+Engineer&l=united+states&t=1&cursor=ABQAAQAUAAAAAAAAAAAAAAACDzC29AEBAQcSOzmSTQHnj1zgxtZXkawrecCyLIXAXFk%3D&job=EDEUJ49tJsQCDe1wbqPZynDmOJk6oKOUqILG6fy8Dzy36cZHCmxa7w\n",
      "https://www.simplyhired.com/search?q=Data+Engineer&l=united+states&t=1&cursor=ABQAAQAUAAAAAAAAAAAAAAACDzC29AEBAQcSOzmSTQHnj1zgxtZXkawrecCyLIXAXFk%3D&job=Q7uMTRTtSqLi5tcXKd3wNV3pXtlduoFWJU3vYolKr00luynjdzcBJA\n",
      "https://www.simplyhired.com/search?q=Data+Engineer&l=united+states&t=1&cursor=ABQAAQAUAAAAAAAAAAAAAAACDzC29AEBAQcSOzmSTQHnj1zgxtZXkawrecCyLIXAXFk%3D&job=5WChVghiZqlgNrAW9TN_c95zHZ5HxbUJz4cugAjTKzmFHswwlRCe3A\n",
      "https://www.simplyhired.com/search?q=Data+Engineer&l=united+states&t=1&cursor=ABQAAQAUAAAAAAAAAAAAAAACDzC29AEBAQcSOzmSTQHnj1zgxtZXkawrecCyLIXAXFk%3D&job=F5NKIEuVd76VWmAks28F3mPbt2LVxQ6WOOTeGgzzSQiQuljp3T3UIg\n",
      "https://www.simplyhired.com/search?q=Data+Engineer&l=united+states&t=1&cursor=ABQAAQAUAAAAAAAAAAAAAAACDzC29AEBAQcSOzmSTQHnj1zgxtZXkawrecCyLIXAXFk%3D&job=73xGxMsDicinJw0wnpQhp3K5kDQvg24ei3ACDJG5AG2rMqslnUrJVA\n",
      "https://www.simplyhired.com/search?q=Data+Engineer&l=united+states&t=1&cursor=ABQAAQAUAAAAAAAAAAAAAAACDzC29AEBAQcSOzmSTQHnj1zgxtZXkawrecCyLIXAXFk%3D&job=Sy22K4-v9rizIVqTsWhMdxxUg-U_vrwiwymqKl-nS8__1xC3kpN49w\n",
      "https://www.simplyhired.com/search?q=Data+Engineer&l=united+states&t=1&cursor=ABQAAQAUAAAAAAAAAAAAAAACDzC29AEBAQcSOzmSTQHnj1zgxtZXkawrecCyLIXAXFk%3D&job=PgoNqk1Dyoqdu_nxa_kJUrUjZFTCz_-9Llrx_CUszTRXxF0kKI5yyQ\n",
      "https://www.simplyhired.com/search?q=Data+Engineer&l=united+states&t=1&cursor=ABQAAQAUAAAAAAAAAAAAAAACDzC29AEBAQcSOzmSTQHnj1zgxtZXkawrecCyLIXAXFk%3D&job=xc-m_oGvP4TjrBM68F_6RCzFDzHmdcsyRSYJkLZKfpA2b8RQi8HQog\n",
      "https://www.simplyhired.com/search?q=Data+Engineer&l=united+states&t=1&cursor=ABQAAQAUAAAAAAAAAAAAAAACDzC29AEBAQcSOzmSTQHnj1zgxtZXkawrecCyLIXAXFk%3D&job=Rklm8_ePRmxz7_Xw_6i7-SxJeIjFD9IhJADoq2l4D1nwRbSfF5oUKA\n",
      "https://www.simplyhired.com/search?q=Data+Engineer&l=united+states&t=1&cursor=ABQAAQAUAAAAAAAAAAAAAAACDzC29AEBAQcSOzmSTQHnj1zgxtZXkawrecCyLIXAXFk%3D&job=vG3VXOENfwU-O662sDi0p89KICew4oi-YQryDvqkuMpjuOK3sVv0ZA\n",
      "https://www.simplyhired.com/search?q=Data+Engineer&l=united+states&t=1&cursor=ABQAAQAUAAAAAAAAAAAAAAACDzC29AEBAQcSOzmSTQHnj1zgxtZXkawrecCyLIXAXFk%3D&job=iNdDr5nJlcY1qSmRq2H1_qEsCoQgQtTdVS0hd3hdaMsDPtEYtqS5kQ\n",
      "https://www.simplyhired.com/search?q=Data+Engineer&l=united+states&t=1&cursor=ABQAAQAUAAAAAAAAAAAAAAACDzC29AEBAQcSOzmSTQHnj1zgxtZXkawrecCyLIXAXFk%3D&job=90VSYHR4FHZAzraY1C2SkYIA0oCzIxRV-wT2S0nWjhuFSU2ee60few\n",
      "https://www.simplyhired.com/search?q=Data+Engineer&l=united+states&t=1&cursor=ABQAAQAUAAAAAAAAAAAAAAACDzC29AEBAQcSOzmSTQHnj1zgxtZXkawrecCyLIXAXFk%3D&job=eXbaeLV5pfHGQCvjL69k-hznlehNdMa3HzOwEiRat82Jp3EY0BnRNg\n",
      "https://www.simplyhired.com/search?q=Data+Engineer&l=united+states&t=1&cursor=ABQAAQAUAAAAAAAAAAAAAAACDzC29AEBAQcSOzmSTQHnj1zgxtZXkawrecCyLIXAXFk%3D&job=qeqjkIxPT_4Ak1hYJf2Jv43mvWO88Eo6Uv9UOE6EzbhoZ6xlgBLI8Q\n",
      "https://www.simplyhired.com/search?q=Data+Engineer&l=united+states&t=1&cursor=ABQAAQAUAAAAAAAAAAAAAAACDzC29AEBAQcSOzmSTQHnj1zgxtZXkawrecCyLIXAXFk%3D&job=wXl5gbYzoD5tPG5QwazmsvuVtP3vS2fVGAQyXRNFlaPIviWgQZwUhQ\n",
      "https://www.simplyhired.com/search?q=Data+Engineer&l=united+states&t=1&cursor=ABQAAQAUAAAAAAAAAAAAAAACDzC29AEBAQcSOzmSTQHnj1zgxtZXkawrecCyLIXAXFk%3D&job=77QOm0AVxm6IMy4DtcNvvXbXTtvQY9KaxUdsU3eeLNzlyb9ANIWTdA\n",
      "https://www.simplyhired.com/search?q=Data+Engineer&l=united+states&t=1&cursor=ABQAAQAUAAAAAAAAAAAAAAACDzC29AEBAQcSOzmSTQHnj1zgxtZXkawrecCyLIXAXFk%3D&job=lbzdxRfsNsad-t5-h5V0yqaprO_GgNhzjss0IXu61L5AkwgT_1CfCw\n",
      "https://www.simplyhired.com/search?q=Data+Engineer&l=united+states&t=1&cursor=ABQAAQAUAAAAAAAAAAAAAAACDzC29AEBAQcSOzmSTQHnj1zgxtZXkawrecCyLIXAXFk%3D&job=gRAfPxUMJ881orlbUj6duFLzGfIriInQQg8EWW8cEgELkH3TwfiEHA\n",
      "https://www.simplyhired.com/search?q=Data+Engineer&l=united+states&t=1&cursor=ABQAAQAUAAAAAAAAAAAAAAACDzC29AEBAQcSOzmSTQHnj1zgxtZXkawrecCyLIXAXFk%3D&job=FJ9QphDJeMRKISoFqMX2YUOOq_qel99HYEdIvS4stkAhtppagI1Tug\n"
     ]
    },
    {
     "name": "stderr",
     "output_type": "stream",
     "text": [
      "/tmp/ipykernel_5743/3381847202.py:22: FutureWarning: The frame.append method is deprecated and will be removed from pandas in a future version. Use pandas.concat instead.\n",
      "  df = df.append(page_data)\n"
     ]
    },
    {
     "name": "stdout",
     "output_type": "stream",
     "text": [
      "Page Number: 3  Page Link:  https://www.simplyhired.com/search?q=Data+Engineer&l=united+states&t=1&cursor=ABQAAgAoAAAAAAAAAAAAAAACDzC29AEBAQkE51A7uMgCOsIQAp5FP%2FE1ICOJocYmBamzQxX%2FmbqApQ%3D%3D\n",
      "https://www.simplyhired.com/search?q=Data+Engineer&l=united+states&t=1&cursor=ABQAAgAoAAAAAAAAAAAAAAACDzC29AEBAQkE51A7uMgCOsIQAp5FP%2FE1ICOJocYmBamzQxX%2FmbqApQ%3D%3D&job=YLAH4UOYYdkO8QN6FEtEpXTxmr1RAE6QpdvcYqQD43nlAWbgPsfsGw\n",
      "https://www.simplyhired.com/search?q=Data+Engineer&l=united+states&t=1&cursor=ABQAAgAoAAAAAAAAAAAAAAACDzC29AEBAQkE51A7uMgCOsIQAp5FP%2FE1ICOJocYmBamzQxX%2FmbqApQ%3D%3D&job=GoNbyhgf4aOi7agSix-vRpT-rUQTRnrw4qwLJsqw0AsOGCn4IYmg9g\n",
      "https://www.simplyhired.com/search?q=Data+Engineer&l=united+states&t=1&cursor=ABQAAgAoAAAAAAAAAAAAAAACDzC29AEBAQkE51A7uMgCOsIQAp5FP%2FE1ICOJocYmBamzQxX%2FmbqApQ%3D%3D&job=PqKOJbew1Y-x3IKgo58G-d4pfxttn-p8VpozIINjf4tGtFbw7RT0sA\n",
      "https://www.simplyhired.com/search?q=Data+Engineer&l=united+states&t=1&cursor=ABQAAgAoAAAAAAAAAAAAAAACDzC29AEBAQkE51A7uMgCOsIQAp5FP%2FE1ICOJocYmBamzQxX%2FmbqApQ%3D%3D&job=vRf5tfUrTEiik-Vwamv8UW-Xu2p2eaDIqdfJ3OslImq7l_o0QDY83Q\n",
      "https://www.simplyhired.com/search?q=Data+Engineer&l=united+states&t=1&cursor=ABQAAgAoAAAAAAAAAAAAAAACDzC29AEBAQkE51A7uMgCOsIQAp5FP%2FE1ICOJocYmBamzQxX%2FmbqApQ%3D%3D&job=wCKn_hn6BeguIebGKyokzXdtSTzHrKdqzCPg_sht2vKiEj46WyoocQ\n",
      "https://www.simplyhired.com/search?q=Data+Engineer&l=united+states&t=1&cursor=ABQAAgAoAAAAAAAAAAAAAAACDzC29AEBAQkE51A7uMgCOsIQAp5FP%2FE1ICOJocYmBamzQxX%2FmbqApQ%3D%3D&job=hwa9WZg0NDX9KPPObEh2w6NY_launZHxIPfK61fq_Kg_XgmFQI61MA\n",
      "https://www.simplyhired.com/search?q=Data+Engineer&l=united+states&t=1&cursor=ABQAAgAoAAAAAAAAAAAAAAACDzC29AEBAQkE51A7uMgCOsIQAp5FP%2FE1ICOJocYmBamzQxX%2FmbqApQ%3D%3D&job=rjb1WOs-z7komYapoi5dPOurfNNhhOQlSNpcwHp-cC3gzEsQO3slrw\n",
      "https://www.simplyhired.com/search?q=Data+Engineer&l=united+states&t=1&cursor=ABQAAgAoAAAAAAAAAAAAAAACDzC29AEBAQkE51A7uMgCOsIQAp5FP%2FE1ICOJocYmBamzQxX%2FmbqApQ%3D%3D&job=6--c1VIPk5pEJNy3URCgs6QCmX7kgKNDocSm5yJ9169GTe1BRDnJvQ\n",
      "https://www.simplyhired.com/search?q=Data+Engineer&l=united+states&t=1&cursor=ABQAAgAoAAAAAAAAAAAAAAACDzC29AEBAQkE51A7uMgCOsIQAp5FP%2FE1ICOJocYmBamzQxX%2FmbqApQ%3D%3D&job=AeCp_WFL_8PoNmHd4LV0XWtBb8A9NyU-qNtzfxS6qA22yVeYN05Kvg\n",
      "https://www.simplyhired.com/search?q=Data+Engineer&l=united+states&t=1&cursor=ABQAAgAoAAAAAAAAAAAAAAACDzC29AEBAQkE51A7uMgCOsIQAp5FP%2FE1ICOJocYmBamzQxX%2FmbqApQ%3D%3D&job=cBI0qTf7jS0q4lAvYtKWPX76XKtIZL5PKIj9qXsLVTvyrVPdC-HPmw\n",
      "https://www.simplyhired.com/search?q=Data+Engineer&l=united+states&t=1&cursor=ABQAAgAoAAAAAAAAAAAAAAACDzC29AEBAQkE51A7uMgCOsIQAp5FP%2FE1ICOJocYmBamzQxX%2FmbqApQ%3D%3D&job=26FA3caNfwaYRb70vIKQ7cfVhcR3H0y2HRvV2Fq7tsn8qVi0GvMtKg\n",
      "https://www.simplyhired.com/search?q=Data+Engineer&l=united+states&t=1&cursor=ABQAAgAoAAAAAAAAAAAAAAACDzC29AEBAQkE51A7uMgCOsIQAp5FP%2FE1ICOJocYmBamzQxX%2FmbqApQ%3D%3D&job=daEf_Wlb7saciQ90c6u_uKnLhC5PO7EnWKZbWQsEGHeGYhUaZVZZMw\n",
      "https://www.simplyhired.com/search?q=Data+Engineer&l=united+states&t=1&cursor=ABQAAgAoAAAAAAAAAAAAAAACDzC29AEBAQkE51A7uMgCOsIQAp5FP%2FE1ICOJocYmBamzQxX%2FmbqApQ%3D%3D&job=RC6jdZ5_UwLAIgVCchL3qJS6-Xh56pyWZGxoo63SacUl5E6wPhuGTg\n",
      "https://www.simplyhired.com/search?q=Data+Engineer&l=united+states&t=1&cursor=ABQAAgAoAAAAAAAAAAAAAAACDzC29AEBAQkE51A7uMgCOsIQAp5FP%2FE1ICOJocYmBamzQxX%2FmbqApQ%3D%3D&job=sXuMkpxE1gdtZk23ouVTWaAI-jmOkZ4K18CeDRnrSbEl-pBO4sQYTQ\n",
      "https://www.simplyhired.com/search?q=Data+Engineer&l=united+states&t=1&cursor=ABQAAgAoAAAAAAAAAAAAAAACDzC29AEBAQkE51A7uMgCOsIQAp5FP%2FE1ICOJocYmBamzQxX%2FmbqApQ%3D%3D&job=zxXPTioiAcPXIL2cToSiXHkWq6VVC1j5R8Swm0I-sbGTBMoUbec_pg\n",
      "https://www.simplyhired.com/search?q=Data+Engineer&l=united+states&t=1&cursor=ABQAAgAoAAAAAAAAAAAAAAACDzC29AEBAQkE51A7uMgCOsIQAp5FP%2FE1ICOJocYmBamzQxX%2FmbqApQ%3D%3D&job=G6sDL0z6IqABKuI9kOmFBuV79vzMP2Pgi2AhurMEOm-R58HtvHSIuw\n",
      "https://www.simplyhired.com/search?q=Data+Engineer&l=united+states&t=1&cursor=ABQAAgAoAAAAAAAAAAAAAAACDzC29AEBAQkE51A7uMgCOsIQAp5FP%2FE1ICOJocYmBamzQxX%2FmbqApQ%3D%3D&job=-DfDSZ8dje2b3ko4KONcyuLW8YcrxJiTetl57Gb6Z4fSj1-vtAj2eg\n",
      "https://www.simplyhired.com/search?q=Data+Engineer&l=united+states&t=1&cursor=ABQAAgAoAAAAAAAAAAAAAAACDzC29AEBAQkE51A7uMgCOsIQAp5FP%2FE1ICOJocYmBamzQxX%2FmbqApQ%3D%3D&job=_1iqzZSgeMKywDPYBVBplyEn4PKalGW2PAt8wqcMAvog73izNv4VTg\n",
      "https://www.simplyhired.com/search?q=Data+Engineer&l=united+states&t=1&cursor=ABQAAgAoAAAAAAAAAAAAAAACDzC29AEBAQkE51A7uMgCOsIQAp5FP%2FE1ICOJocYmBamzQxX%2FmbqApQ%3D%3D&job=RLyteSCE05w2U_k6hHNrhM_GfHyCZdddknADzDuEzMz6J0NFYWXHaw\n",
      "https://www.simplyhired.com/search?q=Data+Engineer&l=united+states&t=1&cursor=ABQAAgAoAAAAAAAAAAAAAAACDzC29AEBAQkE51A7uMgCOsIQAp5FP%2FE1ICOJocYmBamzQxX%2FmbqApQ%3D%3D&job=427jB_H6QeOPWcJsuZeQcDD-8uXtk_j_N3lhsk_ueLU_29XN3R4HOw\n"
     ]
    },
    {
     "name": "stderr",
     "output_type": "stream",
     "text": [
      "/tmp/ipykernel_5743/3381847202.py:22: FutureWarning: The frame.append method is deprecated and will be removed from pandas in a future version. Use pandas.concat instead.\n",
      "  df = df.append(page_data)\n"
     ]
    },
    {
     "name": "stdout",
     "output_type": "stream",
     "text": [
      "Page Number: 4  Page Link:  https://www.simplyhired.com/search?q=Data+Engineer&l=united+states&t=1&cursor=ABQAAwA8AAAAAAAAAAAAAAACDzC29AECAQoWBgaGyJ6I43ql8ifs%2BLEtcQPxNNBFcmgsO8w%3D\n",
      "https://www.simplyhired.com/search?q=Data+Engineer&l=united+states&t=1&cursor=ABQAAwA8AAAAAAAAAAAAAAACDzC29AECAQoWBgaGyJ6I43ql8ifs%2BLEtcQPxNNBFcmgsO8w%3D&job=oPaK5l8xmEpV9oJ30fKOUu0l1S_YpHXUpvnISqiQR6To-Oiyf2zRuA\n",
      "https://www.simplyhired.com/search?q=Data+Engineer&l=united+states&t=1&cursor=ABQAAwA8AAAAAAAAAAAAAAACDzC29AECAQoWBgaGyJ6I43ql8ifs%2BLEtcQPxNNBFcmgsO8w%3D&job=jLmEYaJS5rrK-OLj3VNpr_UOssr-vBFyymAe_VQTqdAyvtDffYrOXg\n",
      "https://www.simplyhired.com/search?q=Data+Engineer&l=united+states&t=1&cursor=ABQAAwA8AAAAAAAAAAAAAAACDzC29AECAQoWBgaGyJ6I43ql8ifs%2BLEtcQPxNNBFcmgsO8w%3D&job=-C6zY5pU1pnITzEJx-_S7ZOdeWrCI-YppGo5dj_-0TdRNem0fkFB7A\n",
      "https://www.simplyhired.com/search?q=Data+Engineer&l=united+states&t=1&cursor=ABQAAwA8AAAAAAAAAAAAAAACDzC29AECAQoWBgaGyJ6I43ql8ifs%2BLEtcQPxNNBFcmgsO8w%3D&job=NIZLAh2s8PHhPk0D0EsrZVaD3aahzq9KnQ6RHcGzcqUd4H96hWNopw\n",
      "https://www.simplyhired.com/search?q=Data+Engineer&l=united+states&t=1&cursor=ABQAAwA8AAAAAAAAAAAAAAACDzC29AECAQoWBgaGyJ6I43ql8ifs%2BLEtcQPxNNBFcmgsO8w%3D&job=tOWp5JFi3WfmLq1TPjd4ZdRC5oZHDn3sGfjbIoxDIIn2OKgHGj4mpA\n",
      "https://www.simplyhired.com/search?q=Data+Engineer&l=united+states&t=1&cursor=ABQAAwA8AAAAAAAAAAAAAAACDzC29AECAQoWBgaGyJ6I43ql8ifs%2BLEtcQPxNNBFcmgsO8w%3D&job=hIcM6Lk1vUZ9wqyibWXXn0Pc67QQG7Xl1IZDKtRBu3aUtjkDdxknnQ\n",
      "https://www.simplyhired.com/search?q=Data+Engineer&l=united+states&t=1&cursor=ABQAAwA8AAAAAAAAAAAAAAACDzC29AECAQoWBgaGyJ6I43ql8ifs%2BLEtcQPxNNBFcmgsO8w%3D&job=soorDOIH4XbH4Z0AKEiT0J1e_pKSYYL1bVsjOGpXGxTSZYVhdqkU1w\n",
      "https://www.simplyhired.com/search?q=Data+Engineer&l=united+states&t=1&cursor=ABQAAwA8AAAAAAAAAAAAAAACDzC29AECAQoWBgaGyJ6I43ql8ifs%2BLEtcQPxNNBFcmgsO8w%3D&job=o_AouMUr5Ltbqha1-1F3dySvhkhKTguKiRvXgrRg-TpPxbKsIbhe3Q\n",
      "https://www.simplyhired.com/search?q=Data+Engineer&l=united+states&t=1&cursor=ABQAAwA8AAAAAAAAAAAAAAACDzC29AECAQoWBgaGyJ6I43ql8ifs%2BLEtcQPxNNBFcmgsO8w%3D&job=qIWrShBlzffvxy6fOFFw69_lAoUKiyWUTQi1FTajzuj-LHts5v85YA\n",
      "https://www.simplyhired.com/search?q=Data+Engineer&l=united+states&t=1&cursor=ABQAAwA8AAAAAAAAAAAAAAACDzC29AECAQoWBgaGyJ6I43ql8ifs%2BLEtcQPxNNBFcmgsO8w%3D&job=gqVYOTASQGdajsI4IND3fkycoeS_3TYNVbGTjNh91C2PrrTXkoBW2Q\n",
      "https://www.simplyhired.com/search?q=Data+Engineer&l=united+states&t=1&cursor=ABQAAwA8AAAAAAAAAAAAAAACDzC29AECAQoWBgaGyJ6I43ql8ifs%2BLEtcQPxNNBFcmgsO8w%3D&job=-yOD_85xZwGvcv3WMIdi6Ah9LPywfsbvOzctsrmhlSej2sq2UhPnTQ\n",
      "https://www.simplyhired.com/search?q=Data+Engineer&l=united+states&t=1&cursor=ABQAAwA8AAAAAAAAAAAAAAACDzC29AECAQoWBgaGyJ6I43ql8ifs%2BLEtcQPxNNBFcmgsO8w%3D&job=bnwlmk-hRfK2etriRrIUdxyzRWz9rVNngmfzFy6TKIN9jRyEDZEDTQ\n",
      "https://www.simplyhired.com/search?q=Data+Engineer&l=united+states&t=1&cursor=ABQAAwA8AAAAAAAAAAAAAAACDzC29AECAQoWBgaGyJ6I43ql8ifs%2BLEtcQPxNNBFcmgsO8w%3D&job=UJes7HH_K_kaQDKRVD_FiqJtWFoDa90fSP3m5fC4o8GZvqwUiuInsg\n",
      "https://www.simplyhired.com/search?q=Data+Engineer&l=united+states&t=1&cursor=ABQAAwA8AAAAAAAAAAAAAAACDzC29AECAQoWBgaGyJ6I43ql8ifs%2BLEtcQPxNNBFcmgsO8w%3D&job=aNKQbOxzbX4wYSZcDbcgmxDeOy0Olz4_w9gOu6jtg0AaHsAKSYJngQ\n",
      "https://www.simplyhired.com/search?q=Data+Engineer&l=united+states&t=1&cursor=ABQAAwA8AAAAAAAAAAAAAAACDzC29AECAQoWBgaGyJ6I43ql8ifs%2BLEtcQPxNNBFcmgsO8w%3D&job=QviznxGOQPdiqCmWZiqySBs5m21JKooqtI-RmKK-wARCSWg2gmSAZg\n",
      "https://www.simplyhired.com/search?q=Data+Engineer&l=united+states&t=1&cursor=ABQAAwA8AAAAAAAAAAAAAAACDzC29AECAQoWBgaGyJ6I43ql8ifs%2BLEtcQPxNNBFcmgsO8w%3D&job=mGy3Je202bfx_fVOsQLztmEFh8IujTYr58gHf7aeIqzObguMa2w2QA\n",
      "https://www.simplyhired.com/search?q=Data+Engineer&l=united+states&t=1&cursor=ABQAAwA8AAAAAAAAAAAAAAACDzC29AECAQoWBgaGyJ6I43ql8ifs%2BLEtcQPxNNBFcmgsO8w%3D&job=jtYvoI5AKXG5F7maFtq0kwtBTGk31ONqCK7HCgMFR-k3Cwf_MXmLUg\n",
      "https://www.simplyhired.com/search?q=Data+Engineer&l=united+states&t=1&cursor=ABQAAwA8AAAAAAAAAAAAAAACDzC29AECAQoWBgaGyJ6I43ql8ifs%2BLEtcQPxNNBFcmgsO8w%3D&job=a1dHH4auzxlVLeaHHztoDZpEghkEqDB7Xmvp1eI5-zpHPi1oSlnJqg\n",
      "https://www.simplyhired.com/search?q=Data+Engineer&l=united+states&t=1&cursor=ABQAAwA8AAAAAAAAAAAAAAACDzC29AECAQoWBgaGyJ6I43ql8ifs%2BLEtcQPxNNBFcmgsO8w%3D&job=g6lzBYZxX8FheK8sRYPcxS_V9lyfAdgrgjJ_f50pjXev-EOqTYcTOw\n",
      "https://www.simplyhired.com/search?q=Data+Engineer&l=united+states&t=1&cursor=ABQAAwA8AAAAAAAAAAAAAAACDzC29AECAQoWBgaGyJ6I43ql8ifs%2BLEtcQPxNNBFcmgsO8w%3D&job=xqN6C7UiXSNSn62IknRwdQ9lxUwCS1-oC_z_JRUn34kqm0Zj58ItVQ\n"
     ]
    },
    {
     "name": "stderr",
     "output_type": "stream",
     "text": [
      "/tmp/ipykernel_5743/3381847202.py:22: FutureWarning: The frame.append method is deprecated and will be removed from pandas in a future version. Use pandas.concat instead.\n",
      "  df = df.append(page_data)\n"
     ]
    },
    {
     "name": "stdout",
     "output_type": "stream",
     "text": [
      "Page Number: 5  Page Link:  https://www.simplyhired.com/search?q=Data+Engineer&l=united+states&t=1&cursor=ABQABABQAAAAAAAAAAAAAAACDzC29AEAIkskaYvX6tm8GNYGGp0ZUnd%2BCzE%2BRhzT1A%3D%3D\n",
      "https://www.simplyhired.com/search?q=Data+Engineer&l=united+states&t=1&cursor=ABQABABQAAAAAAAAAAAAAAACDzC29AEAIkskaYvX6tm8GNYGGp0ZUnd%2BCzE%2BRhzT1A%3D%3D&job=E9y_ikam3TfnL9aREGukEFUQ72AroFxIoMPrYBKY9tpQmGx0A0f3QQ\n",
      "https://www.simplyhired.com/search?q=Data+Engineer&l=united+states&t=1&cursor=ABQABABQAAAAAAAAAAAAAAACDzC29AEAIkskaYvX6tm8GNYGGp0ZUnd%2BCzE%2BRhzT1A%3D%3D&job=b4sQCSPrcp8TH7_WITlzl3HAW3ZJ9rkBEM0vhPY61tHTp0uLvGT0Rw\n",
      "https://www.simplyhired.com/search?q=Data+Engineer&l=united+states&t=1&cursor=ABQABABQAAAAAAAAAAAAAAACDzC29AEAIkskaYvX6tm8GNYGGp0ZUnd%2BCzE%2BRhzT1A%3D%3D&job=5lyQ3jMZFzNJASQsGpkLvTqNhE1SrGdldBV4_VcfYBTehYKYhrgXAw\n",
      "https://www.simplyhired.com/search?q=Data+Engineer&l=united+states&t=1&cursor=ABQABABQAAAAAAAAAAAAAAACDzC29AEAIkskaYvX6tm8GNYGGp0ZUnd%2BCzE%2BRhzT1A%3D%3D&job=P94XYwIrHvTYtOUiZ6CTgxUFJgsXkCTd7XfKqFObbvhyVqBVtKvivw\n",
      "https://www.simplyhired.com/search?q=Data+Engineer&l=united+states&t=1&cursor=ABQABABQAAAAAAAAAAAAAAACDzC29AEAIkskaYvX6tm8GNYGGp0ZUnd%2BCzE%2BRhzT1A%3D%3D&job=ohsUq47LpQ9IczE5WgdelCePZUu3yq4oWFutqbz50xPIo5S3SC3SVQ\n",
      "https://www.simplyhired.com/search?q=Data+Engineer&l=united+states&t=1&cursor=ABQABABQAAAAAAAAAAAAAAACDzC29AEAIkskaYvX6tm8GNYGGp0ZUnd%2BCzE%2BRhzT1A%3D%3D&job=szE-jLV27xVLAF5iql267v1FU-mlFGfGOUGwYEqDtQ9l8anHRjOBmw\n",
      "https://www.simplyhired.com/search?q=Data+Engineer&l=united+states&t=1&cursor=ABQABABQAAAAAAAAAAAAAAACDzC29AEAIkskaYvX6tm8GNYGGp0ZUnd%2BCzE%2BRhzT1A%3D%3D&job=2HqzyczN18rniYIUU4lG_Km8rPUeB22bhfVpXEznO8ja8tzPVi9oNQ\n",
      "https://www.simplyhired.com/search?q=Data+Engineer&l=united+states&t=1&cursor=ABQABABQAAAAAAAAAAAAAAACDzC29AEAIkskaYvX6tm8GNYGGp0ZUnd%2BCzE%2BRhzT1A%3D%3D&job=tvSUfdjOG8CyK7ydv0eqhSVNzake08kGqTkry65J49dX9TYGV081Qg\n",
      "https://www.simplyhired.com/search?q=Data+Engineer&l=united+states&t=1&cursor=ABQABABQAAAAAAAAAAAAAAACDzC29AEAIkskaYvX6tm8GNYGGp0ZUnd%2BCzE%2BRhzT1A%3D%3D&job=ZhDp1TiHaEK2fZs3dozHHRFpYVvfzQwqGn3MPjuJ072jI234H2CVTQ\n",
      "https://www.simplyhired.com/search?q=Data+Engineer&l=united+states&t=1&cursor=ABQABABQAAAAAAAAAAAAAAACDzC29AEAIkskaYvX6tm8GNYGGp0ZUnd%2BCzE%2BRhzT1A%3D%3D&job=FIJP7TiB-paiPw0WiObI7LCqXNM_xygxnC5uUF_2Bqx9RCVzbmGCfA\n",
      "https://www.simplyhired.com/search?q=Data+Engineer&l=united+states&t=1&cursor=ABQABABQAAAAAAAAAAAAAAACDzC29AEAIkskaYvX6tm8GNYGGp0ZUnd%2BCzE%2BRhzT1A%3D%3D&job=x_vDTcxpui4VVGjxYLqZMrhH7MIE81t82xMOFS-JhxAGdX77D8Ds2w\n",
      "https://www.simplyhired.com/search?q=Data+Engineer&l=united+states&t=1&cursor=ABQABABQAAAAAAAAAAAAAAACDzC29AEAIkskaYvX6tm8GNYGGp0ZUnd%2BCzE%2BRhzT1A%3D%3D&job=1SoYt3owCQC8Q8Qw9pffckVj98dLuzOc4UJMKXvzwIqy_5dJBbJoMw\n",
      "https://www.simplyhired.com/search?q=Data+Engineer&l=united+states&t=1&cursor=ABQABABQAAAAAAAAAAAAAAACDzC29AEAIkskaYvX6tm8GNYGGp0ZUnd%2BCzE%2BRhzT1A%3D%3D&job=jTVJ_nzW6sMk2SZdoGr1Mpbq9GhFw-TYSUfjQzcFl6A2sB6cm1P5Bw\n",
      "https://www.simplyhired.com/search?q=Data+Engineer&l=united+states&t=1&cursor=ABQABABQAAAAAAAAAAAAAAACDzC29AEAIkskaYvX6tm8GNYGGp0ZUnd%2BCzE%2BRhzT1A%3D%3D&job=gWEjI8aRxoH04_nMNRjSA_58d1a2tCMBO5-r8pQeTkldO8eilrcYAw\n",
      "https://www.simplyhired.com/search?q=Data+Engineer&l=united+states&t=1&cursor=ABQABABQAAAAAAAAAAAAAAACDzC29AEAIkskaYvX6tm8GNYGGp0ZUnd%2BCzE%2BRhzT1A%3D%3D&job=DfwJR0NEz0C1U59TCM27ibmMlHt7KnOkq9Dsh3gZtz95LKsCkrqjFw\n",
      "https://www.simplyhired.com/search?q=Data+Engineer&l=united+states&t=1&cursor=ABQABABQAAAAAAAAAAAAAAACDzC29AEAIkskaYvX6tm8GNYGGp0ZUnd%2BCzE%2BRhzT1A%3D%3D&job=VVWfKErm91PNlVs1KGKhljVsBXaHcvGJh1eFDPigaxHYFADn26vxoA\n",
      "https://www.simplyhired.com/search?q=Data+Engineer&l=united+states&t=1&cursor=ABQABABQAAAAAAAAAAAAAAACDzC29AEAIkskaYvX6tm8GNYGGp0ZUnd%2BCzE%2BRhzT1A%3D%3D&job=AZYM_Nnwb5CnjbPL49XUolYBxU2PyYkyOnBplYU-1OnoxBiJx63mpw\n",
      "https://www.simplyhired.com/search?q=Data+Engineer&l=united+states&t=1&cursor=ABQABABQAAAAAAAAAAAAAAACDzC29AEAIkskaYvX6tm8GNYGGp0ZUnd%2BCzE%2BRhzT1A%3D%3D&job=9zMCRVGXgHnigqEN2wy8ssmITvTonRwDpWKHFEX_hq6i4A1mjak1nQ\n",
      "https://www.simplyhired.com/search?q=Data+Engineer&l=united+states&t=1&cursor=ABQABABQAAAAAAAAAAAAAAACDzC29AEAIkskaYvX6tm8GNYGGp0ZUnd%2BCzE%2BRhzT1A%3D%3D&job=SbNtE4I_kkk9Oovnnq2Q6ZflXv5KNE6KNCA-mZNH7pbnrLk5y9krZw\n",
      "https://www.simplyhired.com/search?q=Data+Engineer&l=united+states&t=1&cursor=ABQABABQAAAAAAAAAAAAAAACDzC29AEAIkskaYvX6tm8GNYGGp0ZUnd%2BCzE%2BRhzT1A%3D%3D&job=0RGe4jQKVMQZcoiuQmJbiHT0SWz50ipPODercBlikpj50hOZQeSUnQ\n"
     ]
    },
    {
     "name": "stderr",
     "output_type": "stream",
     "text": [
      "/tmp/ipykernel_5743/3381847202.py:22: FutureWarning: The frame.append method is deprecated and will be removed from pandas in a future version. Use pandas.concat instead.\n",
      "  df = df.append(page_data)\n"
     ]
    },
    {
     "name": "stdout",
     "output_type": "stream",
     "text": [
      "Page Number: 6  Page Link:  https://www.simplyhired.com/search?q=Data+Engineer&l=united+states&t=1&cursor=ABQABQBkAAAAAAAAAAAAAAACDzC29AEAHAeKwicB4dpKKqY%3D\n",
      "https://www.simplyhired.com/search?q=Data+Engineer&l=united+states&t=1&cursor=ABQABQBkAAAAAAAAAAAAAAACDzC29AEAHAeKwicB4dpKKqY%3D&job=m6U08KfRIYyR0Fi3lkyOfRI45sm3nK9YS008RXel9x_RLYw05w3lYw\n",
      "https://www.simplyhired.com/search?q=Data+Engineer&l=united+states&t=1&cursor=ABQABQBkAAAAAAAAAAAAAAACDzC29AEAHAeKwicB4dpKKqY%3D&job=Vm1AT0vsSQLxrqm6XSOdDY_oUGwvBUqT5fusE3qJRIn_rxSj779K7w\n",
      "https://www.simplyhired.com/search?q=Data+Engineer&l=united+states&t=1&cursor=ABQABQBkAAAAAAAAAAAAAAACDzC29AEAHAeKwicB4dpKKqY%3D&job=yLKqI0tEQe180zP5goNoaGLGVXzG_5HijEfB1x5OSv6IDx11CKRGOA\n",
      "https://www.simplyhired.com/search?q=Data+Engineer&l=united+states&t=1&cursor=ABQABQBkAAAAAAAAAAAAAAACDzC29AEAHAeKwicB4dpKKqY%3D&job=BLVcCh6tZXjBp9NfHALfe1q3DPIC6QpfcsSxEHPQMMdESQMvJZNbSQ\n"
     ]
    },
    {
     "name": "stderr",
     "output_type": "stream",
     "text": [
      "/tmp/ipykernel_5743/3381847202.py:22: FutureWarning: The frame.append method is deprecated and will be removed from pandas in a future version. Use pandas.concat instead.\n",
      "  df = df.append(page_data)\n"
     ]
    },
    {
     "name": "stdout",
     "output_type": "stream",
     "text": [
      "Number of jobs for Frontend Developer:222   total_page:12\n",
      "Page Number: 1  Page Link:  https://www.simplyhired.com/search?q=Frontend Developer&l=united+states&t=1\n",
      "https://www.simplyhired.com/search?q=Frontend Developer&l=united+states&t=1&job=0ff6jD19VwhZf4fzJ6FzN2fETv_G94BYQhE9JrJwQHb5DzhnTXnGhA\n",
      "https://www.simplyhired.com/search?q=Frontend Developer&l=united+states&t=1&job=woLmKcccj_l3RY7i8BDxRO03tQsY391eUk50Nt2TCM9WO_ohnWQfCA\n",
      "https://www.simplyhired.com/search?q=Frontend Developer&l=united+states&t=1&job=6RLR17_371RIp_TgOAvweo3lMOUKjRg3qe0kpFO7zIC_DP_tx7UUpA\n",
      "https://www.simplyhired.com/search?q=Frontend Developer&l=united+states&t=1&job=2CVmV9w8TB2XeEjtByh6b4Kr37K4DsmyRjL-9j0wvozOStdv7HSLJA\n",
      "https://www.simplyhired.com/search?q=Frontend Developer&l=united+states&t=1&job=cWBzfyT9GZ6AIzvIxpWLSEgWQwSxGd5cRnd1_wOr0rsDdPG6mI1YxQ\n",
      "https://www.simplyhired.com/search?q=Frontend Developer&l=united+states&t=1&job=e64ua2vKumlXrOE8l7QyejU9povXKX80RXIpHeQvtmnwEL3MufTfCg\n",
      "https://www.simplyhired.com/search?q=Frontend Developer&l=united+states&t=1&job=BV5fJTgNyawg2TZleZzQIIHBstQWV9GqaSu4j8eEavC7z-vuhWsiDw\n",
      "https://www.simplyhired.com/search?q=Frontend Developer&l=united+states&t=1&job=9Mik7TuOpX6JKj5wcLLFmp51ZQK0XW8nST3BkCTQlQhHIK4MNXrN7g\n",
      "https://www.simplyhired.com/search?q=Frontend Developer&l=united+states&t=1&job=lsZVcHlLOjzFKK2Iydm-1PTQ7CHCXUtX91b7DVkQzFDPtK3Cu3SBOw\n",
      "https://www.simplyhired.com/search?q=Frontend Developer&l=united+states&t=1&job=KhSOmZpfc6Ng4zxirWFhc9fDQKsh1UT0aBbxzplRSwLqbjo5y67v9w\n",
      "https://www.simplyhired.com/search?q=Frontend Developer&l=united+states&t=1&job=kCr0cAYEiTlk4R2brgTDu9r_jvdmK49GvdJ_PK0oJlZg05ZWUwhycw\n",
      "https://www.simplyhired.com/search?q=Frontend Developer&l=united+states&t=1&job=OnwOQ4WQf9vx_wragGULWuis-8hH56FAKt8KHwTXWYo9_fHeNwocog\n",
      "https://www.simplyhired.com/search?q=Frontend Developer&l=united+states&t=1&job=N9xQRcBYEUb3lN2-8VsHu-XLAMtmn4Q-5FDZXvSMw0cR2qCSCO9TpQ\n",
      "https://www.simplyhired.com/search?q=Frontend Developer&l=united+states&t=1&job=-tn0ePEjzaliKNgivRdqbUNp1eDpQtQMTxdu5AI2SLQxF3plPth2qA\n",
      "https://www.simplyhired.com/search?q=Frontend Developer&l=united+states&t=1&job=hTbxvO5Jy5FT4gxOO8YaktMWrhT22fuq8Ufvr1ubcM8dLZ1xPy9EWw\n",
      "https://www.simplyhired.com/search?q=Frontend Developer&l=united+states&t=1&job=4kYa8-GXuswfbJjQivOHrBpYPnXyNpzY0B8ickJ7nc2_R6GZhg_N2A\n",
      "https://www.simplyhired.com/search?q=Frontend Developer&l=united+states&t=1&job=5Nz1OK1K1K9nL2BVC02kuLTKGMA2K2P353xLrUEloSNm4v6kDHR6xQ\n",
      "https://www.simplyhired.com/search?q=Frontend Developer&l=united+states&t=1&job=zzkPubJTMld5Z6-kvRgXUFHAl4m3794cPvD_AtQ-d3gRDytKYuffCA\n",
      "https://www.simplyhired.com/search?q=Frontend Developer&l=united+states&t=1&job=kq21szX2rGl0iwNgggpQ2DaBu8uKyHSUX0T87hoWsJQdwkaakUn0LA\n",
      "https://www.simplyhired.com/search?q=Frontend Developer&l=united+states&t=1&job=9aBs8wf1XncPfqLAR8L9zWDwv2i8iB4pkx-ScZKRkLc9Rg1bx6ADXg\n"
     ]
    },
    {
     "name": "stderr",
     "output_type": "stream",
     "text": [
      "/tmp/ipykernel_5743/3381847202.py:22: FutureWarning: The frame.append method is deprecated and will be removed from pandas in a future version. Use pandas.concat instead.\n",
      "  df = df.append(page_data)\n"
     ]
    },
    {
     "name": "stdout",
     "output_type": "stream",
     "text": [
      "Page Number: 2  Page Link:  https://www.simplyhired.com/search?q=Frontend+Developer&l=united+states&t=1&cursor=ABQAAQAUAAAAAAAAAAAAAAACDzHhSQEBAQgGiBpL1YHyHXkQrfE4v%2BbSFX5VEmGrxFD3eSCKn0AJKko%3D\n",
      "https://www.simplyhired.com/search?q=Frontend+Developer&l=united+states&t=1&cursor=ABQAAQAUAAAAAAAAAAAAAAACDzHhSQEBAQgGiBpL1YHyHXkQrfE4v%2BbSFX5VEmGrxFD3eSCKn0AJKko%3D&job=jpdKhKeLQPnAkznSkLAmvrO_camkSuP8QQwM2YbyRL_1Mbyuq8nT6A\n",
      "https://www.simplyhired.com/search?q=Frontend+Developer&l=united+states&t=1&cursor=ABQAAQAUAAAAAAAAAAAAAAACDzHhSQEBAQgGiBpL1YHyHXkQrfE4v%2BbSFX5VEmGrxFD3eSCKn0AJKko%3D&job=j5GuyE0zoPzVdaNsBzpR8fiAm885eJivmfgZDzZ2Guuobz6SwRsN7w\n",
      "https://www.simplyhired.com/search?q=Frontend+Developer&l=united+states&t=1&cursor=ABQAAQAUAAAAAAAAAAAAAAACDzHhSQEBAQgGiBpL1YHyHXkQrfE4v%2BbSFX5VEmGrxFD3eSCKn0AJKko%3D&job=6aXhtxG2mSwIb5O6jsx8YdPpXL6w8Nlhkiwxfw1oPF2lAHIE7XH1Gw\n",
      "https://www.simplyhired.com/search?q=Frontend+Developer&l=united+states&t=1&cursor=ABQAAQAUAAAAAAAAAAAAAAACDzHhSQEBAQgGiBpL1YHyHXkQrfE4v%2BbSFX5VEmGrxFD3eSCKn0AJKko%3D&job=6vO7ktvISH3eI3pu_dRZU5W8LhkaxFJ_oO5RQl-ESw1nAMTYNfE7Cg\n",
      "https://www.simplyhired.com/search?q=Frontend+Developer&l=united+states&t=1&cursor=ABQAAQAUAAAAAAAAAAAAAAACDzHhSQEBAQgGiBpL1YHyHXkQrfE4v%2BbSFX5VEmGrxFD3eSCKn0AJKko%3D&job=DkdMwNU1LKzpX6mZ96RK6Cd6W2-G60n_ErlFUVwqjAy2DoZdFunwhQ\n",
      "https://www.simplyhired.com/search?q=Frontend+Developer&l=united+states&t=1&cursor=ABQAAQAUAAAAAAAAAAAAAAACDzHhSQEBAQgGiBpL1YHyHXkQrfE4v%2BbSFX5VEmGrxFD3eSCKn0AJKko%3D&job=tqpIYIvSLwrNKolZC10UuOjM_XYRQ1ud7PLLzUTg6Ix8FDLKO6gSZw\n",
      "https://www.simplyhired.com/search?q=Frontend+Developer&l=united+states&t=1&cursor=ABQAAQAUAAAAAAAAAAAAAAACDzHhSQEBAQgGiBpL1YHyHXkQrfE4v%2BbSFX5VEmGrxFD3eSCKn0AJKko%3D&job=RxeFR-I0s1WoO9RyyAD7IZMOgU6LrJH_2u0PfU_jh9jhrgP81y5PGQ\n",
      "https://www.simplyhired.com/search?q=Frontend+Developer&l=united+states&t=1&cursor=ABQAAQAUAAAAAAAAAAAAAAACDzHhSQEBAQgGiBpL1YHyHXkQrfE4v%2BbSFX5VEmGrxFD3eSCKn0AJKko%3D&job=Iq7dBA9HDmNqIrU23boFwT48c9vsMcIeA8LEeW4nf7t3T20Er9uHBA\n",
      "https://www.simplyhired.com/search?q=Frontend+Developer&l=united+states&t=1&cursor=ABQAAQAUAAAAAAAAAAAAAAACDzHhSQEBAQgGiBpL1YHyHXkQrfE4v%2BbSFX5VEmGrxFD3eSCKn0AJKko%3D&job=EQYxomHkr79joMfLFvj4eRFpyg3ZLr3ziONfDWqBiX8QgXHOPox7FA\n",
      "https://www.simplyhired.com/search?q=Frontend+Developer&l=united+states&t=1&cursor=ABQAAQAUAAAAAAAAAAAAAAACDzHhSQEBAQgGiBpL1YHyHXkQrfE4v%2BbSFX5VEmGrxFD3eSCKn0AJKko%3D&job=X_0IOABLGNrqrcf7TZgb-1TnLypQX6Hp4j0UT-3w3GUOry7MY2s6KA\n",
      "https://www.simplyhired.com/search?q=Frontend+Developer&l=united+states&t=1&cursor=ABQAAQAUAAAAAAAAAAAAAAACDzHhSQEBAQgGiBpL1YHyHXkQrfE4v%2BbSFX5VEmGrxFD3eSCKn0AJKko%3D&job=G-J9GRMN4JqpjCnobxBNBoYUK9kt6DJ4n2fsPAONmG0bWxzAwy2HgQ\n",
      "https://www.simplyhired.com/search?q=Frontend+Developer&l=united+states&t=1&cursor=ABQAAQAUAAAAAAAAAAAAAAACDzHhSQEBAQgGiBpL1YHyHXkQrfE4v%2BbSFX5VEmGrxFD3eSCKn0AJKko%3D&job=oALoTuaD8Zd5uExUwM34jB0a14R2hWKTWrSX7qGINUBkRwW38cgOOg\n",
      "https://www.simplyhired.com/search?q=Frontend+Developer&l=united+states&t=1&cursor=ABQAAQAUAAAAAAAAAAAAAAACDzHhSQEBAQgGiBpL1YHyHXkQrfE4v%2BbSFX5VEmGrxFD3eSCKn0AJKko%3D&job=0cuj6yniNTy9N6M6rqvYOH335X7VCsCI7TyLDWhLqkdyOFQap69FvQ\n",
      "https://www.simplyhired.com/search?q=Frontend+Developer&l=united+states&t=1&cursor=ABQAAQAUAAAAAAAAAAAAAAACDzHhSQEBAQgGiBpL1YHyHXkQrfE4v%2BbSFX5VEmGrxFD3eSCKn0AJKko%3D&job=Vva9C31FnjAE3Q19KyC9GwmnFUvZLBR_BsvCxmXcze8DN7F--NwBig\n",
      "https://www.simplyhired.com/search?q=Frontend+Developer&l=united+states&t=1&cursor=ABQAAQAUAAAAAAAAAAAAAAACDzHhSQEBAQgGiBpL1YHyHXkQrfE4v%2BbSFX5VEmGrxFD3eSCKn0AJKko%3D&job=zSYL_7yrGydOgpnLYfmmnJHfbEkRx5YqzOr-H-AXw8iKTdOcCNH7Zg\n",
      "https://www.simplyhired.com/search?q=Frontend+Developer&l=united+states&t=1&cursor=ABQAAQAUAAAAAAAAAAAAAAACDzHhSQEBAQgGiBpL1YHyHXkQrfE4v%2BbSFX5VEmGrxFD3eSCKn0AJKko%3D&job=2Dg58cUjjfE8zgfR5NcwgQow-b6ztIZ3ylgx7KYmVTEDEK3DT-5BkA\n",
      "https://www.simplyhired.com/search?q=Frontend+Developer&l=united+states&t=1&cursor=ABQAAQAUAAAAAAAAAAAAAAACDzHhSQEBAQgGiBpL1YHyHXkQrfE4v%2BbSFX5VEmGrxFD3eSCKn0AJKko%3D&job=_HOv1u00wX_-Yqi5rTVT7rw01bzgDEebo9g4Fz8MsuXPlSUox2tsGQ\n",
      "https://www.simplyhired.com/search?q=Frontend+Developer&l=united+states&t=1&cursor=ABQAAQAUAAAAAAAAAAAAAAACDzHhSQEBAQgGiBpL1YHyHXkQrfE4v%2BbSFX5VEmGrxFD3eSCKn0AJKko%3D&job=uQXrx7eOxp7710vDXXNA4t04z91-qQnCJJQeKP_Y41h2rNmDuZCO4g\n",
      "https://www.simplyhired.com/search?q=Frontend+Developer&l=united+states&t=1&cursor=ABQAAQAUAAAAAAAAAAAAAAACDzHhSQEBAQgGiBpL1YHyHXkQrfE4v%2BbSFX5VEmGrxFD3eSCKn0AJKko%3D&job=ywGv4mybPJk3f-teeiZ1HMqLye76Sz61t-YLGR621SCgt6YeVJsBtA\n",
      "https://www.simplyhired.com/search?q=Frontend+Developer&l=united+states&t=1&cursor=ABQAAQAUAAAAAAAAAAAAAAACDzHhSQEBAQgGiBpL1YHyHXkQrfE4v%2BbSFX5VEmGrxFD3eSCKn0AJKko%3D&job=PG9Uq_iNu0jsbsYa7w_ygafq1dtmV-auPa4xYrPv5FzKvXeEkMLjQw\n"
     ]
    },
    {
     "name": "stderr",
     "output_type": "stream",
     "text": [
      "/tmp/ipykernel_5743/3381847202.py:22: FutureWarning: The frame.append method is deprecated and will be removed from pandas in a future version. Use pandas.concat instead.\n",
      "  df = df.append(page_data)\n"
     ]
    },
    {
     "name": "stdout",
     "output_type": "stream",
     "text": [
      "Page Number: 3  Page Link:  https://www.simplyhired.com/search?q=Frontend+Developer&l=united+states&t=1&cursor=ABQAAgAoAAAAAAAAAAAAAAACDzKQPAEBAQ47MS0ME%2FQ9PENfvALhFaef%2BjNH5veCEC4c4F9C5nal7D%2BaQjFwtE6rQemEgYq%2F7gQ%3D\n",
      "https://www.simplyhired.com/search?q=Frontend+Developer&l=united+states&t=1&cursor=ABQAAgAoAAAAAAAAAAAAAAACDzKQPAEBAQ47MS0ME%2FQ9PENfvALhFaef%2BjNH5veCEC4c4F9C5nal7D%2BaQjFwtE6rQemEgYq%2F7gQ%3D&job=4u_aZT60ps-n1DjfGgIapmmuBG-rMy4b36tHbTO0VQ5jLf002QgY0A\n",
      "https://www.simplyhired.com/search?q=Frontend+Developer&l=united+states&t=1&cursor=ABQAAgAoAAAAAAAAAAAAAAACDzKQPAEBAQ47MS0ME%2FQ9PENfvALhFaef%2BjNH5veCEC4c4F9C5nal7D%2BaQjFwtE6rQemEgYq%2F7gQ%3D&job=BeOEW3Rww9SR5ciZ2SINtc7P9zrve9qjm-NMW7Z6SkaDZ-xhOEhoaQ\n",
      "https://www.simplyhired.com/search?q=Frontend+Developer&l=united+states&t=1&cursor=ABQAAgAoAAAAAAAAAAAAAAACDzKQPAEBAQ47MS0ME%2FQ9PENfvALhFaef%2BjNH5veCEC4c4F9C5nal7D%2BaQjFwtE6rQemEgYq%2F7gQ%3D&job=TrG_BhK6I0E6q_LxXuxsTmsDAhV42iSf-M3jXbjGQ7xPcKr3jzcZyw\n",
      "https://www.simplyhired.com/search?q=Frontend+Developer&l=united+states&t=1&cursor=ABQAAgAoAAAAAAAAAAAAAAACDzKQPAEBAQ47MS0ME%2FQ9PENfvALhFaef%2BjNH5veCEC4c4F9C5nal7D%2BaQjFwtE6rQemEgYq%2F7gQ%3D&job=iCk8uEwNxJv1iY0MI5MWfdKIRXapspoSJq3Cl56Y0l2YOw44Vg5sBA\n",
      "https://www.simplyhired.com/search?q=Frontend+Developer&l=united+states&t=1&cursor=ABQAAgAoAAAAAAAAAAAAAAACDzKQPAEBAQ47MS0ME%2FQ9PENfvALhFaef%2BjNH5veCEC4c4F9C5nal7D%2BaQjFwtE6rQemEgYq%2F7gQ%3D&job=vLqq7L6_zpDCqZq1iOFqrSqYXXANqWJKX-mokTDUAVMgiYX6ljppDQ\n",
      "https://www.simplyhired.com/search?q=Frontend+Developer&l=united+states&t=1&cursor=ABQAAgAoAAAAAAAAAAAAAAACDzKQPAEBAQ47MS0ME%2FQ9PENfvALhFaef%2BjNH5veCEC4c4F9C5nal7D%2BaQjFwtE6rQemEgYq%2F7gQ%3D&job=RN7aDIeEVuTZ0Xf_O9LnW3izYzaS1PB8K7M2bgBpucpPX1Pnan1USw\n",
      "https://www.simplyhired.com/search?q=Frontend+Developer&l=united+states&t=1&cursor=ABQAAgAoAAAAAAAAAAAAAAACDzKQPAEBAQ47MS0ME%2FQ9PENfvALhFaef%2BjNH5veCEC4c4F9C5nal7D%2BaQjFwtE6rQemEgYq%2F7gQ%3D&job=ywuQ5NGLWk9btp_4XOA7wOrkH1HnXpzaP9wspy5PITgj0HhW-W84rg\n",
      "https://www.simplyhired.com/search?q=Frontend+Developer&l=united+states&t=1&cursor=ABQAAgAoAAAAAAAAAAAAAAACDzKQPAEBAQ47MS0ME%2FQ9PENfvALhFaef%2BjNH5veCEC4c4F9C5nal7D%2BaQjFwtE6rQemEgYq%2F7gQ%3D&job=r6rBfb7zYlupiTOGhSwG68NZqpipY26PGak4XbQwPUA7WXJFExKmMA\n",
      "https://www.simplyhired.com/search?q=Frontend+Developer&l=united+states&t=1&cursor=ABQAAgAoAAAAAAAAAAAAAAACDzKQPAEBAQ47MS0ME%2FQ9PENfvALhFaef%2BjNH5veCEC4c4F9C5nal7D%2BaQjFwtE6rQemEgYq%2F7gQ%3D&job=UWCQJCJmyRXVhs1VXfwOyJBO6UErHaKYt20pjVN3BFNoDaJhvOlaOQ\n",
      "https://www.simplyhired.com/search?q=Frontend+Developer&l=united+states&t=1&cursor=ABQAAgAoAAAAAAAAAAAAAAACDzKQPAEBAQ47MS0ME%2FQ9PENfvALhFaef%2BjNH5veCEC4c4F9C5nal7D%2BaQjFwtE6rQemEgYq%2F7gQ%3D&job=GvlMedFHB8IxfbpSYJJpsp8yyUHFueTR-aT8P8VqIcrlfFxiOaHi8g\n",
      "https://www.simplyhired.com/search?q=Frontend+Developer&l=united+states&t=1&cursor=ABQAAgAoAAAAAAAAAAAAAAACDzKQPAEBAQ47MS0ME%2FQ9PENfvALhFaef%2BjNH5veCEC4c4F9C5nal7D%2BaQjFwtE6rQemEgYq%2F7gQ%3D&job=pOInG73aEdu4UJ8qFXD8aywfOrMq8lFU8oxvwyeWrlI7EN5nSNlT-A\n",
      "https://www.simplyhired.com/search?q=Frontend+Developer&l=united+states&t=1&cursor=ABQAAgAoAAAAAAAAAAAAAAACDzKQPAEBAQ47MS0ME%2FQ9PENfvALhFaef%2BjNH5veCEC4c4F9C5nal7D%2BaQjFwtE6rQemEgYq%2F7gQ%3D&job=MXIT6qw_zFzGIGcJkEn4A9VrbWR_wBH79NWSvP6MiJHWedCUIKsNrA\n",
      "https://www.simplyhired.com/search?q=Frontend+Developer&l=united+states&t=1&cursor=ABQAAgAoAAAAAAAAAAAAAAACDzKQPAEBAQ47MS0ME%2FQ9PENfvALhFaef%2BjNH5veCEC4c4F9C5nal7D%2BaQjFwtE6rQemEgYq%2F7gQ%3D&job=eClaM7VGE1qaaWmQaMToVfEzoMin8ch8T3uHjJ8S_myLDbsyL1c9PA\n",
      "https://www.simplyhired.com/search?q=Frontend+Developer&l=united+states&t=1&cursor=ABQAAgAoAAAAAAAAAAAAAAACDzKQPAEBAQ47MS0ME%2FQ9PENfvALhFaef%2BjNH5veCEC4c4F9C5nal7D%2BaQjFwtE6rQemEgYq%2F7gQ%3D&job=uOJsyfCM2c2PqQEvacbZsKW42hCFnyqZHK3Z3lacbg3cnzOfK_asLg\n",
      "https://www.simplyhired.com/search?q=Frontend+Developer&l=united+states&t=1&cursor=ABQAAgAoAAAAAAAAAAAAAAACDzKQPAEBAQ47MS0ME%2FQ9PENfvALhFaef%2BjNH5veCEC4c4F9C5nal7D%2BaQjFwtE6rQemEgYq%2F7gQ%3D&job=F_aFi4tFFoYWAwAxfE_gS7IBeymEBDIWI6dhVy9pt6C5wYphjA95GQ\n",
      "https://www.simplyhired.com/search?q=Frontend+Developer&l=united+states&t=1&cursor=ABQAAgAoAAAAAAAAAAAAAAACDzKQPAEBAQ47MS0ME%2FQ9PENfvALhFaef%2BjNH5veCEC4c4F9C5nal7D%2BaQjFwtE6rQemEgYq%2F7gQ%3D&job=z6_bdbGLLl6d80IFbn1ibonCU1n-elVbXxc__cTci-kw-eBvO6K5jQ\n",
      "https://www.simplyhired.com/search?q=Frontend+Developer&l=united+states&t=1&cursor=ABQAAgAoAAAAAAAAAAAAAAACDzKQPAEBAQ47MS0ME%2FQ9PENfvALhFaef%2BjNH5veCEC4c4F9C5nal7D%2BaQjFwtE6rQemEgYq%2F7gQ%3D&job=vXQ0PSFQ0xoKyvwVp5RZ5aH4gGtcPrciEp-zccfiozYtNpwGYdVn4g\n",
      "https://www.simplyhired.com/search?q=Frontend+Developer&l=united+states&t=1&cursor=ABQAAgAoAAAAAAAAAAAAAAACDzKQPAEBAQ47MS0ME%2FQ9PENfvALhFaef%2BjNH5veCEC4c4F9C5nal7D%2BaQjFwtE6rQemEgYq%2F7gQ%3D&job=qJ_2MTVKkdgVVPLdT5nrGhaXUYwwtXCIDJIraKvNJLRPF6bN7kX_gg\n",
      "https://www.simplyhired.com/search?q=Frontend+Developer&l=united+states&t=1&cursor=ABQAAgAoAAAAAAAAAAAAAAACDzKQPAEBAQ47MS0ME%2FQ9PENfvALhFaef%2BjNH5veCEC4c4F9C5nal7D%2BaQjFwtE6rQemEgYq%2F7gQ%3D&job=yFr_Nijzr2rTA965qvx9ja0935fR21i2ARN9vl3kn_SLFMmKjQaSig\n",
      "https://www.simplyhired.com/search?q=Frontend+Developer&l=united+states&t=1&cursor=ABQAAgAoAAAAAAAAAAAAAAACDzKQPAEBAQ47MS0ME%2FQ9PENfvALhFaef%2BjNH5veCEC4c4F9C5nal7D%2BaQjFwtE6rQemEgYq%2F7gQ%3D&job=TRrciS12LvfXbl4KE83eBkZtmEyMdeypmWklMScil5zEi2qpzLgq9w\n"
     ]
    },
    {
     "name": "stderr",
     "output_type": "stream",
     "text": [
      "/tmp/ipykernel_5743/3381847202.py:22: FutureWarning: The frame.append method is deprecated and will be removed from pandas in a future version. Use pandas.concat instead.\n",
      "  df = df.append(page_data)\n"
     ]
    },
    {
     "name": "stdout",
     "output_type": "stream",
     "text": [
      "Page Number: 4  Page Link:  https://www.simplyhired.com/search?q=Frontend+Developer&l=united+states&t=1&cursor=ABQAAwA8AAAAAAAAAAAAAAACDzKQPAEBARAQodETqQ1%2FbUwhlUWIetP0fHa5qxIs7Ln7m1o23tE3ZWRrVGyRTaqQzSmZaIJLLBuOk%2BzXBAcYe2A%3D\n",
      "https://www.simplyhired.com/search?q=Frontend+Developer&l=united+states&t=1&cursor=ABQAAwA8AAAAAAAAAAAAAAACDzKQPAEBARAQodETqQ1%2FbUwhlUWIetP0fHa5qxIs7Ln7m1o23tE3ZWRrVGyRTaqQzSmZaIJLLBuOk%2BzXBAcYe2A%3D&job=-4GPIq0NrepM0yThqKrHaaODeBecz0JqHMdV-hnqrMvm8apAVqWa2A\n",
      "https://www.simplyhired.com/search?q=Frontend+Developer&l=united+states&t=1&cursor=ABQAAwA8AAAAAAAAAAAAAAACDzKQPAEBARAQodETqQ1%2FbUwhlUWIetP0fHa5qxIs7Ln7m1o23tE3ZWRrVGyRTaqQzSmZaIJLLBuOk%2BzXBAcYe2A%3D&job=pAy3NO0Gwdt1iYOFsTbEDDbWVGE2Jh4sbsLoTF5bgFM0j0aBpG1INQ\n",
      "https://www.simplyhired.com/search?q=Frontend+Developer&l=united+states&t=1&cursor=ABQAAwA8AAAAAAAAAAAAAAACDzKQPAEBARAQodETqQ1%2FbUwhlUWIetP0fHa5qxIs7Ln7m1o23tE3ZWRrVGyRTaqQzSmZaIJLLBuOk%2BzXBAcYe2A%3D&job=TBuFp1jMnb4QLjBR97_jiCasJNsNvStzWHfrPWovTPBjcp_Xed_7Gg\n",
      "https://www.simplyhired.com/search?q=Frontend+Developer&l=united+states&t=1&cursor=ABQAAwA8AAAAAAAAAAAAAAACDzKQPAEBARAQodETqQ1%2FbUwhlUWIetP0fHa5qxIs7Ln7m1o23tE3ZWRrVGyRTaqQzSmZaIJLLBuOk%2BzXBAcYe2A%3D&job=wgqzfIGOtjZ8ud0JuDOdl35YNHMW5n6lxyoPMphOxSfJrQQDi88qQQ\n",
      "https://www.simplyhired.com/search?q=Frontend+Developer&l=united+states&t=1&cursor=ABQAAwA8AAAAAAAAAAAAAAACDzKQPAEBARAQodETqQ1%2FbUwhlUWIetP0fHa5qxIs7Ln7m1o23tE3ZWRrVGyRTaqQzSmZaIJLLBuOk%2BzXBAcYe2A%3D&job=AYs-If_G-E6aT1GNcg05-4RuBS4Zp4fDJiy8ow7MBkq3QUTiJgTf2w\n",
      "https://www.simplyhired.com/search?q=Frontend+Developer&l=united+states&t=1&cursor=ABQAAwA8AAAAAAAAAAAAAAACDzKQPAEBARAQodETqQ1%2FbUwhlUWIetP0fHa5qxIs7Ln7m1o23tE3ZWRrVGyRTaqQzSmZaIJLLBuOk%2BzXBAcYe2A%3D&job=oje3vEeOn1bB1c252WWOhordjTgOvIYrq_12nxMQ_DBJsBdgOUahUg\n",
      "https://www.simplyhired.com/search?q=Frontend+Developer&l=united+states&t=1&cursor=ABQAAwA8AAAAAAAAAAAAAAACDzKQPAEBARAQodETqQ1%2FbUwhlUWIetP0fHa5qxIs7Ln7m1o23tE3ZWRrVGyRTaqQzSmZaIJLLBuOk%2BzXBAcYe2A%3D&job=Mj9rhDLT5YBAX_spD6xyrP-n19DCtSZqFToDqfWN6yhijYhPyTV0sQ\n",
      "https://www.simplyhired.com/search?q=Frontend+Developer&l=united+states&t=1&cursor=ABQAAwA8AAAAAAAAAAAAAAACDzKQPAEBARAQodETqQ1%2FbUwhlUWIetP0fHa5qxIs7Ln7m1o23tE3ZWRrVGyRTaqQzSmZaIJLLBuOk%2BzXBAcYe2A%3D&job=2Mv9_0ohWO_yYyCNOQDyh8zRqcdGc9Z-rl5rlhPCxK10fBKB7rnAtQ\n",
      "https://www.simplyhired.com/search?q=Frontend+Developer&l=united+states&t=1&cursor=ABQAAwA8AAAAAAAAAAAAAAACDzKQPAEBARAQodETqQ1%2FbUwhlUWIetP0fHa5qxIs7Ln7m1o23tE3ZWRrVGyRTaqQzSmZaIJLLBuOk%2BzXBAcYe2A%3D&job=KvGtHtOSXXksIxYeg-E56rLxwuHkGphyNhgGKzAb_Rfz8w4kcluw1A\n",
      "https://www.simplyhired.com/search?q=Frontend+Developer&l=united+states&t=1&cursor=ABQAAwA8AAAAAAAAAAAAAAACDzKQPAEBARAQodETqQ1%2FbUwhlUWIetP0fHa5qxIs7Ln7m1o23tE3ZWRrVGyRTaqQzSmZaIJLLBuOk%2BzXBAcYe2A%3D&job=iwinPZK72aPnEjJVdrTK4MVUGHWOuP2hKw-n6NuvrqfphauzuCYarg\n",
      "https://www.simplyhired.com/search?q=Frontend+Developer&l=united+states&t=1&cursor=ABQAAwA8AAAAAAAAAAAAAAACDzKQPAEBARAQodETqQ1%2FbUwhlUWIetP0fHa5qxIs7Ln7m1o23tE3ZWRrVGyRTaqQzSmZaIJLLBuOk%2BzXBAcYe2A%3D&job=i3KCHj0YiLEpmjSADGvvWQpZjmtu26c8DL3nByDF9kCMcNW2EJZevw\n",
      "https://www.simplyhired.com/search?q=Frontend+Developer&l=united+states&t=1&cursor=ABQAAwA8AAAAAAAAAAAAAAACDzKQPAEBARAQodETqQ1%2FbUwhlUWIetP0fHa5qxIs7Ln7m1o23tE3ZWRrVGyRTaqQzSmZaIJLLBuOk%2BzXBAcYe2A%3D&job=Wp3fVirTF4BrC_Bhwjwpshy7XyB1j68c4qNCEsYBBZRF_HcQY09jTw\n",
      "https://www.simplyhired.com/search?q=Frontend+Developer&l=united+states&t=1&cursor=ABQAAwA8AAAAAAAAAAAAAAACDzKQPAEBARAQodETqQ1%2FbUwhlUWIetP0fHa5qxIs7Ln7m1o23tE3ZWRrVGyRTaqQzSmZaIJLLBuOk%2BzXBAcYe2A%3D&job=Z_cMU7izZSX4ebMFUnGQ-UUc_I98PmWoGARy6MJgMUC0O0JGjvDZ-A\n",
      "https://www.simplyhired.com/search?q=Frontend+Developer&l=united+states&t=1&cursor=ABQAAwA8AAAAAAAAAAAAAAACDzKQPAEBARAQodETqQ1%2FbUwhlUWIetP0fHa5qxIs7Ln7m1o23tE3ZWRrVGyRTaqQzSmZaIJLLBuOk%2BzXBAcYe2A%3D&job=_tceXH4I9DFZQ0LcZ79JyKSlnPD8x6TBtxpfgyccqbBoWdmY4DBdSA\n",
      "https://www.simplyhired.com/search?q=Frontend+Developer&l=united+states&t=1&cursor=ABQAAwA8AAAAAAAAAAAAAAACDzKQPAEBARAQodETqQ1%2FbUwhlUWIetP0fHa5qxIs7Ln7m1o23tE3ZWRrVGyRTaqQzSmZaIJLLBuOk%2BzXBAcYe2A%3D&job=0OAfhBHSZ1vjAhSMRrbKto9nEzaHQ92za5KHRVKQI60Bkx23CX_ZiA\n",
      "https://www.simplyhired.com/search?q=Frontend+Developer&l=united+states&t=1&cursor=ABQAAwA8AAAAAAAAAAAAAAACDzKQPAEBARAQodETqQ1%2FbUwhlUWIetP0fHa5qxIs7Ln7m1o23tE3ZWRrVGyRTaqQzSmZaIJLLBuOk%2BzXBAcYe2A%3D&job=cmg1K8okMWZONihhHIO5jrHUqHtk8EBjqZYw1W70T2JL-WC5Ug2sjw\n",
      "https://www.simplyhired.com/search?q=Frontend+Developer&l=united+states&t=1&cursor=ABQAAwA8AAAAAAAAAAAAAAACDzKQPAEBARAQodETqQ1%2FbUwhlUWIetP0fHa5qxIs7Ln7m1o23tE3ZWRrVGyRTaqQzSmZaIJLLBuOk%2BzXBAcYe2A%3D&job=1GIMVZWEAmRCsqmGK2cEmWVstzP-gpn95XdcX0NwTEMT_UCqJXCuLQ\n",
      "https://www.simplyhired.com/search?q=Frontend+Developer&l=united+states&t=1&cursor=ABQAAwA8AAAAAAAAAAAAAAACDzKQPAEBARAQodETqQ1%2FbUwhlUWIetP0fHa5qxIs7Ln7m1o23tE3ZWRrVGyRTaqQzSmZaIJLLBuOk%2BzXBAcYe2A%3D&job=IKMfpO1CEQRy6C7uT392EVuYxuU0MV_7EwwDLt_DInESUGr2T_ml2A\n",
      "https://www.simplyhired.com/search?q=Frontend+Developer&l=united+states&t=1&cursor=ABQAAwA8AAAAAAAAAAAAAAACDzKQPAEBARAQodETqQ1%2FbUwhlUWIetP0fHa5qxIs7Ln7m1o23tE3ZWRrVGyRTaqQzSmZaIJLLBuOk%2BzXBAcYe2A%3D&job=4116M1axO1S5tm3VK61fvFtEUaj6oPj4RZiPd3kEjcGaeP_zbGrteg\n",
      "https://www.simplyhired.com/search?q=Frontend+Developer&l=united+states&t=1&cursor=ABQAAwA8AAAAAAAAAAAAAAACDzKQPAEBARAQodETqQ1%2FbUwhlUWIetP0fHa5qxIs7Ln7m1o23tE3ZWRrVGyRTaqQzSmZaIJLLBuOk%2BzXBAcYe2A%3D&job=1H7IOkX3vvQbd3pWWQN72mS2dpS3yWM3d727W7y_VaHggVQ9DJCJ8Q\n"
     ]
    },
    {
     "name": "stderr",
     "output_type": "stream",
     "text": [
      "/tmp/ipykernel_5743/3381847202.py:22: FutureWarning: The frame.append method is deprecated and will be removed from pandas in a future version. Use pandas.concat instead.\n",
      "  df = df.append(page_data)\n"
     ]
    },
    {
     "name": "stdout",
     "output_type": "stream",
     "text": [
      "Page Number: 5  Page Link:  https://www.simplyhired.com/search?q=Frontend+Developer&l=united+states&t=1&cursor=ABQABABQAAAAAAAAAAAAAAACDzKQPAECAREkCzhQ6Q1IYI2rtQ80GF%2FfhydJkilCKjCThu46eh94fSfjES2MiXZBkWSn35gCg0UVjUE5%2FS1r%2FRdp0VVxCh0gb9ugeUg%3D\n",
      "https://www.simplyhired.com/search?q=Frontend+Developer&l=united+states&t=1&cursor=ABQABABQAAAAAAAAAAAAAAACDzKQPAECAREkCzhQ6Q1IYI2rtQ80GF%2FfhydJkilCKjCThu46eh94fSfjES2MiXZBkWSn35gCg0UVjUE5%2FS1r%2FRdp0VVxCh0gb9ugeUg%3D&job=lWHN8cAV-YK6Vo2654IB-6wp3BzxcqG_PQpx62HHUNTmdifyfesCQQ\n",
      "https://www.simplyhired.com/search?q=Frontend+Developer&l=united+states&t=1&cursor=ABQABABQAAAAAAAAAAAAAAACDzKQPAECAREkCzhQ6Q1IYI2rtQ80GF%2FfhydJkilCKjCThu46eh94fSfjES2MiXZBkWSn35gCg0UVjUE5%2FS1r%2FRdp0VVxCh0gb9ugeUg%3D&job=GyNb6kpwiZuZ293qEtOvMEMbKxPsKsm6H3DiiMBs3FOH6eIPXwK-PQ\n",
      "https://www.simplyhired.com/search?q=Frontend+Developer&l=united+states&t=1&cursor=ABQABABQAAAAAAAAAAAAAAACDzKQPAECAREkCzhQ6Q1IYI2rtQ80GF%2FfhydJkilCKjCThu46eh94fSfjES2MiXZBkWSn35gCg0UVjUE5%2FS1r%2FRdp0VVxCh0gb9ugeUg%3D&job=hRvIUGuVLmFBJuNVzt4i-5by3YsAgVni1NoiKl64X9YGknU5hbcubg\n",
      "https://www.simplyhired.com/search?q=Frontend+Developer&l=united+states&t=1&cursor=ABQABABQAAAAAAAAAAAAAAACDzKQPAECAREkCzhQ6Q1IYI2rtQ80GF%2FfhydJkilCKjCThu46eh94fSfjES2MiXZBkWSn35gCg0UVjUE5%2FS1r%2FRdp0VVxCh0gb9ugeUg%3D&job=m6kFVhphZ_EqRX34GvSPiZKOOa_ASZitazGPxS4A1f5kXSECOeO1LQ\n",
      "https://www.simplyhired.com/search?q=Frontend+Developer&l=united+states&t=1&cursor=ABQABABQAAAAAAAAAAAAAAACDzKQPAECAREkCzhQ6Q1IYI2rtQ80GF%2FfhydJkilCKjCThu46eh94fSfjES2MiXZBkWSn35gCg0UVjUE5%2FS1r%2FRdp0VVxCh0gb9ugeUg%3D&job=jT8kTvVrEW2JV-UHKvEUKxHBAFNiTdKQ71reK03cTTmqA32qTVn3EQ\n",
      "https://www.simplyhired.com/search?q=Frontend+Developer&l=united+states&t=1&cursor=ABQABABQAAAAAAAAAAAAAAACDzKQPAECAREkCzhQ6Q1IYI2rtQ80GF%2FfhydJkilCKjCThu46eh94fSfjES2MiXZBkWSn35gCg0UVjUE5%2FS1r%2FRdp0VVxCh0gb9ugeUg%3D&job=avKt0HqjhfZBK_6sCR4sY5Rf4R-2zb0eu-2vSgQaa-jP-rlhPODQdw\n",
      "https://www.simplyhired.com/search?q=Frontend+Developer&l=united+states&t=1&cursor=ABQABABQAAAAAAAAAAAAAAACDzKQPAECAREkCzhQ6Q1IYI2rtQ80GF%2FfhydJkilCKjCThu46eh94fSfjES2MiXZBkWSn35gCg0UVjUE5%2FS1r%2FRdp0VVxCh0gb9ugeUg%3D&job=yrm-IXFefq-UGG47-4FeloQnK0gBIMP3pOXftQU7Uh93PYJp3XaEkA\n",
      "https://www.simplyhired.com/search?q=Frontend+Developer&l=united+states&t=1&cursor=ABQABABQAAAAAAAAAAAAAAACDzKQPAECAREkCzhQ6Q1IYI2rtQ80GF%2FfhydJkilCKjCThu46eh94fSfjES2MiXZBkWSn35gCg0UVjUE5%2FS1r%2FRdp0VVxCh0gb9ugeUg%3D&job=NkjO3_AbXvQyRzT-4qZ3sL_c9uy8IuEVWbyAt1SaSR7HFagcTvL10w\n",
      "https://www.simplyhired.com/search?q=Frontend+Developer&l=united+states&t=1&cursor=ABQABABQAAAAAAAAAAAAAAACDzKQPAECAREkCzhQ6Q1IYI2rtQ80GF%2FfhydJkilCKjCThu46eh94fSfjES2MiXZBkWSn35gCg0UVjUE5%2FS1r%2FRdp0VVxCh0gb9ugeUg%3D&job=dvlB-FTS7EatysEfzDUqKmARksC51f7hxPimbN2dDmM_rgpoJb5i_A\n",
      "https://www.simplyhired.com/search?q=Frontend+Developer&l=united+states&t=1&cursor=ABQABABQAAAAAAAAAAAAAAACDzKQPAECAREkCzhQ6Q1IYI2rtQ80GF%2FfhydJkilCKjCThu46eh94fSfjES2MiXZBkWSn35gCg0UVjUE5%2FS1r%2FRdp0VVxCh0gb9ugeUg%3D&job=WWF2M1sg54fUds72mnhSXtK69hZRzLbTwIfZExDLF-RjPDMQ-ayh6g\n",
      "https://www.simplyhired.com/search?q=Frontend+Developer&l=united+states&t=1&cursor=ABQABABQAAAAAAAAAAAAAAACDzKQPAECAREkCzhQ6Q1IYI2rtQ80GF%2FfhydJkilCKjCThu46eh94fSfjES2MiXZBkWSn35gCg0UVjUE5%2FS1r%2FRdp0VVxCh0gb9ugeUg%3D&job=n0QYW9FfJh7j8vwtuhoMJMxis-rqPZXa6PIlHaK94sLSmVFYSQ6HiA\n",
      "https://www.simplyhired.com/search?q=Frontend+Developer&l=united+states&t=1&cursor=ABQABABQAAAAAAAAAAAAAAACDzKQPAECAREkCzhQ6Q1IYI2rtQ80GF%2FfhydJkilCKjCThu46eh94fSfjES2MiXZBkWSn35gCg0UVjUE5%2FS1r%2FRdp0VVxCh0gb9ugeUg%3D&job=ABRjNtNGcMe5ojrlbaUR2aB9pvQLHJXYCsUIPbrlZNUygSNNA_a2xA\n",
      "https://www.simplyhired.com/search?q=Frontend+Developer&l=united+states&t=1&cursor=ABQABABQAAAAAAAAAAAAAAACDzKQPAECAREkCzhQ6Q1IYI2rtQ80GF%2FfhydJkilCKjCThu46eh94fSfjES2MiXZBkWSn35gCg0UVjUE5%2FS1r%2FRdp0VVxCh0gb9ugeUg%3D&job=ltseyrSWe1kbyrD9wkuhL0vxnfNcPKYkZJpJtINSs8APYLNSLb-fPQ\n",
      "https://www.simplyhired.com/search?q=Frontend+Developer&l=united+states&t=1&cursor=ABQABABQAAAAAAAAAAAAAAACDzKQPAECAREkCzhQ6Q1IYI2rtQ80GF%2FfhydJkilCKjCThu46eh94fSfjES2MiXZBkWSn35gCg0UVjUE5%2FS1r%2FRdp0VVxCh0gb9ugeUg%3D&job=l7_nwxa3XTFXVrZ06qX0Y6I1_xJQFy72wUGvgTGRh266PqmQ1ClPPQ\n",
      "https://www.simplyhired.com/search?q=Frontend+Developer&l=united+states&t=1&cursor=ABQABABQAAAAAAAAAAAAAAACDzKQPAECAREkCzhQ6Q1IYI2rtQ80GF%2FfhydJkilCKjCThu46eh94fSfjES2MiXZBkWSn35gCg0UVjUE5%2FS1r%2FRdp0VVxCh0gb9ugeUg%3D&job=XvCKKCbOi1bUsQjJ_1fCKxF4K2WSCycVTfTfHSuxAPUSLXTqMFwQXw\n",
      "https://www.simplyhired.com/search?q=Frontend+Developer&l=united+states&t=1&cursor=ABQABABQAAAAAAAAAAAAAAACDzKQPAECAREkCzhQ6Q1IYI2rtQ80GF%2FfhydJkilCKjCThu46eh94fSfjES2MiXZBkWSn35gCg0UVjUE5%2FS1r%2FRdp0VVxCh0gb9ugeUg%3D&job=-ObHgGcGG6pBfnA7I-oW7BMX6Egw8eYqfmMLfNwFQD6pDh6aJGFDPg\n",
      "https://www.simplyhired.com/search?q=Frontend+Developer&l=united+states&t=1&cursor=ABQABABQAAAAAAAAAAAAAAACDzKQPAECAREkCzhQ6Q1IYI2rtQ80GF%2FfhydJkilCKjCThu46eh94fSfjES2MiXZBkWSn35gCg0UVjUE5%2FS1r%2FRdp0VVxCh0gb9ugeUg%3D&job=GCK94Qr3V8xiKqUGsJ-bokDP5aVQ_cYTdnY3T9iGoaUZGmhx-qlUXQ\n",
      "https://www.simplyhired.com/search?q=Frontend+Developer&l=united+states&t=1&cursor=ABQABABQAAAAAAAAAAAAAAACDzKQPAECAREkCzhQ6Q1IYI2rtQ80GF%2FfhydJkilCKjCThu46eh94fSfjES2MiXZBkWSn35gCg0UVjUE5%2FS1r%2FRdp0VVxCh0gb9ugeUg%3D&job=a7s2697GHuFwCyPboPaze6hTo4_rEyiQNHcU2G5vgjJpLcHEUZ3Tvw\n",
      "https://www.simplyhired.com/search?q=Frontend+Developer&l=united+states&t=1&cursor=ABQABABQAAAAAAAAAAAAAAACDzKQPAECAREkCzhQ6Q1IYI2rtQ80GF%2FfhydJkilCKjCThu46eh94fSfjES2MiXZBkWSn35gCg0UVjUE5%2FS1r%2FRdp0VVxCh0gb9ugeUg%3D&job=MzEh5Zn-NhWiEx9Xyp0xI_a8l-EcAy40P0K3MzwhMWonMRRWC7DKcg\n",
      "https://www.simplyhired.com/search?q=Frontend+Developer&l=united+states&t=1&cursor=ABQABABQAAAAAAAAAAAAAAACDzKQPAECAREkCzhQ6Q1IYI2rtQ80GF%2FfhydJkilCKjCThu46eh94fSfjES2MiXZBkWSn35gCg0UVjUE5%2FS1r%2FRdp0VVxCh0gb9ugeUg%3D&job=AMU6LlVdUhS0aA75R-4AKgcL6qtBdvcplf14Lb7KyeM4VHyxytZGBQ\n"
     ]
    },
    {
     "name": "stderr",
     "output_type": "stream",
     "text": [
      "/tmp/ipykernel_5743/3381847202.py:22: FutureWarning: The frame.append method is deprecated and will be removed from pandas in a future version. Use pandas.concat instead.\n",
      "  df = df.append(page_data)\n"
     ]
    },
    {
     "name": "stdout",
     "output_type": "stream",
     "text": [
      "Page Number: 6  Page Link:  https://www.simplyhired.com/search?q=Frontend+Developer&l=united+states&t=1&cursor=ABQABQBkAAAAAAAAAAAAAAACDzKQPAECARAkCwiP4L%2Bs4jkv3e5WLWX64EaN0T1nz0VOYD43zJgxgQNmJ1xTPdbp%2FRffTyok7utbWt7rQ6nW7fTzdULGf5OxGgxo6Q%3D%3D\n",
      "https://www.simplyhired.com/search?q=Frontend+Developer&l=united+states&t=1&cursor=ABQABQBkAAAAAAAAAAAAAAACDzKQPAECARAkCwiP4L%2Bs4jkv3e5WLWX64EaN0T1nz0VOYD43zJgxgQNmJ1xTPdbp%2FRffTyok7utbWt7rQ6nW7fTzdULGf5OxGgxo6Q%3D%3D&job=HmoU_teJlVKEYV824tjQWjkI-glREUNwoCmDOJvTjH8FJqN2T8d2Vw\n",
      "https://www.simplyhired.com/search?q=Frontend+Developer&l=united+states&t=1&cursor=ABQABQBkAAAAAAAAAAAAAAACDzKQPAECARAkCwiP4L%2Bs4jkv3e5WLWX64EaN0T1nz0VOYD43zJgxgQNmJ1xTPdbp%2FRffTyok7utbWt7rQ6nW7fTzdULGf5OxGgxo6Q%3D%3D&job=ylYO4U5HOcmBKMbKRlHUJvOi4_GZBZeWjZdlCoiKronMjeBa2TbG7A\n",
      "https://www.simplyhired.com/search?q=Frontend+Developer&l=united+states&t=1&cursor=ABQABQBkAAAAAAAAAAAAAAACDzKQPAECARAkCwiP4L%2Bs4jkv3e5WLWX64EaN0T1nz0VOYD43zJgxgQNmJ1xTPdbp%2FRffTyok7utbWt7rQ6nW7fTzdULGf5OxGgxo6Q%3D%3D&job=mUWsgZtJ6kX7eaPF3sdGjH15sdyM4G8O_elJbdUuD_WwbrlqMS4OBw\n",
      "https://www.simplyhired.com/search?q=Frontend+Developer&l=united+states&t=1&cursor=ABQABQBkAAAAAAAAAAAAAAACDzKQPAECARAkCwiP4L%2Bs4jkv3e5WLWX64EaN0T1nz0VOYD43zJgxgQNmJ1xTPdbp%2FRffTyok7utbWt7rQ6nW7fTzdULGf5OxGgxo6Q%3D%3D&job=YpALwR5eLcTaPFA4fO3VfN3cCP4vOm5u-dh5tF2cibXhQlslBVfotA\n",
      "https://www.simplyhired.com/search?q=Frontend+Developer&l=united+states&t=1&cursor=ABQABQBkAAAAAAAAAAAAAAACDzKQPAECARAkCwiP4L%2Bs4jkv3e5WLWX64EaN0T1nz0VOYD43zJgxgQNmJ1xTPdbp%2FRffTyok7utbWt7rQ6nW7fTzdULGf5OxGgxo6Q%3D%3D&job=4-jUa_vJbE0gOq0PWz_Uy6aaRR8oQrrHiV-BItMlYb0bgo5NYm6qjg\n",
      "https://www.simplyhired.com/search?q=Frontend+Developer&l=united+states&t=1&cursor=ABQABQBkAAAAAAAAAAAAAAACDzKQPAECARAkCwiP4L%2Bs4jkv3e5WLWX64EaN0T1nz0VOYD43zJgxgQNmJ1xTPdbp%2FRffTyok7utbWt7rQ6nW7fTzdULGf5OxGgxo6Q%3D%3D&job=AqUTH5HFET9rfetfIzg31HtD2Bz7YH-E70kw3tVTBaK64bprbjgXlQ\n",
      "https://www.simplyhired.com/search?q=Frontend+Developer&l=united+states&t=1&cursor=ABQABQBkAAAAAAAAAAAAAAACDzKQPAECARAkCwiP4L%2Bs4jkv3e5WLWX64EaN0T1nz0VOYD43zJgxgQNmJ1xTPdbp%2FRffTyok7utbWt7rQ6nW7fTzdULGf5OxGgxo6Q%3D%3D&job=TDpXL6S4sRipeu0yGCq52XYk8W9anmWNigj4wXv4OTGtBdUCkjUJNg\n",
      "https://www.simplyhired.com/search?q=Frontend+Developer&l=united+states&t=1&cursor=ABQABQBkAAAAAAAAAAAAAAACDzKQPAECARAkCwiP4L%2Bs4jkv3e5WLWX64EaN0T1nz0VOYD43zJgxgQNmJ1xTPdbp%2FRffTyok7utbWt7rQ6nW7fTzdULGf5OxGgxo6Q%3D%3D&job=EoLUMq2T-x1YcsxlVMk5qbQIIODsxDIWjhhBz7PocfGsKrvQusxizQ\n",
      "https://www.simplyhired.com/search?q=Frontend+Developer&l=united+states&t=1&cursor=ABQABQBkAAAAAAAAAAAAAAACDzKQPAECARAkCwiP4L%2Bs4jkv3e5WLWX64EaN0T1nz0VOYD43zJgxgQNmJ1xTPdbp%2FRffTyok7utbWt7rQ6nW7fTzdULGf5OxGgxo6Q%3D%3D&job=APYAy0kIKAxYUmKPFmJ8gGVgEJcOvXcKDBNhW16illdgYCYVMr9AEg\n",
      "https://www.simplyhired.com/search?q=Frontend+Developer&l=united+states&t=1&cursor=ABQABQBkAAAAAAAAAAAAAAACDzKQPAECARAkCwiP4L%2Bs4jkv3e5WLWX64EaN0T1nz0VOYD43zJgxgQNmJ1xTPdbp%2FRffTyok7utbWt7rQ6nW7fTzdULGf5OxGgxo6Q%3D%3D&job=lGhJRULN7CmiN69P8MYZTK6gFkwrRfmukrFIfowF93NCPJsnyG_4lg\n",
      "https://www.simplyhired.com/search?q=Frontend+Developer&l=united+states&t=1&cursor=ABQABQBkAAAAAAAAAAAAAAACDzKQPAECARAkCwiP4L%2Bs4jkv3e5WLWX64EaN0T1nz0VOYD43zJgxgQNmJ1xTPdbp%2FRffTyok7utbWt7rQ6nW7fTzdULGf5OxGgxo6Q%3D%3D&job=-2WX0bLxIp4Pc392p3AGpkgEDDMcZKruCjYWSFw4TB7kV9xo997D_w\n",
      "https://www.simplyhired.com/search?q=Frontend+Developer&l=united+states&t=1&cursor=ABQABQBkAAAAAAAAAAAAAAACDzKQPAECARAkCwiP4L%2Bs4jkv3e5WLWX64EaN0T1nz0VOYD43zJgxgQNmJ1xTPdbp%2FRffTyok7utbWt7rQ6nW7fTzdULGf5OxGgxo6Q%3D%3D&job=UUy3ugBkDiaYF5IoEyZB7NG8yRR1VRWwehB82RR_P15r_66whv5Tyw\n",
      "https://www.simplyhired.com/search?q=Frontend+Developer&l=united+states&t=1&cursor=ABQABQBkAAAAAAAAAAAAAAACDzKQPAECARAkCwiP4L%2Bs4jkv3e5WLWX64EaN0T1nz0VOYD43zJgxgQNmJ1xTPdbp%2FRffTyok7utbWt7rQ6nW7fTzdULGf5OxGgxo6Q%3D%3D&job=_PFfzq1FcWezu9YK3t5-JNzAcouZ5Zm9-lu0MaBiI7C2m-vKK8XOIA\n",
      "https://www.simplyhired.com/search?q=Frontend+Developer&l=united+states&t=1&cursor=ABQABQBkAAAAAAAAAAAAAAACDzKQPAECARAkCwiP4L%2Bs4jkv3e5WLWX64EaN0T1nz0VOYD43zJgxgQNmJ1xTPdbp%2FRffTyok7utbWt7rQ6nW7fTzdULGf5OxGgxo6Q%3D%3D&job=MWigtuXRKyAxSA06VsChfBBFYWpETFUdt4PKxE2NceZO4e4KsO3OUQ\n",
      "https://www.simplyhired.com/search?q=Frontend+Developer&l=united+states&t=1&cursor=ABQABQBkAAAAAAAAAAAAAAACDzKQPAECARAkCwiP4L%2Bs4jkv3e5WLWX64EaN0T1nz0VOYD43zJgxgQNmJ1xTPdbp%2FRffTyok7utbWt7rQ6nW7fTzdULGf5OxGgxo6Q%3D%3D&job=YtNDssP-QQvfconP0xI2ivDBh8fkvJsUkGmibyu0OcZq5FhmdDRHbQ\n",
      "https://www.simplyhired.com/search?q=Frontend+Developer&l=united+states&t=1&cursor=ABQABQBkAAAAAAAAAAAAAAACDzKQPAECARAkCwiP4L%2Bs4jkv3e5WLWX64EaN0T1nz0VOYD43zJgxgQNmJ1xTPdbp%2FRffTyok7utbWt7rQ6nW7fTzdULGf5OxGgxo6Q%3D%3D&job=enSAh1OC7atfSpJF-ZugjahyS9ttSVBzUekv1uumGeZuZq12IrYn8w\n",
      "https://www.simplyhired.com/search?q=Frontend+Developer&l=united+states&t=1&cursor=ABQABQBkAAAAAAAAAAAAAAACDzKQPAECARAkCwiP4L%2Bs4jkv3e5WLWX64EaN0T1nz0VOYD43zJgxgQNmJ1xTPdbp%2FRffTyok7utbWt7rQ6nW7fTzdULGf5OxGgxo6Q%3D%3D&job=2nsy8IdVdPh31Nrw5aBUzDXA2hFunneY5oLEU-wfAiRVJvJn6OLn2Q\n",
      "https://www.simplyhired.com/search?q=Frontend+Developer&l=united+states&t=1&cursor=ABQABQBkAAAAAAAAAAAAAAACDzKQPAECARAkCwiP4L%2Bs4jkv3e5WLWX64EaN0T1nz0VOYD43zJgxgQNmJ1xTPdbp%2FRffTyok7utbWt7rQ6nW7fTzdULGf5OxGgxo6Q%3D%3D&job=-2VECp_gmYcKLoGtyhYTTrDnjNOMdD-XSwyhWS1TjNgXo27enYazUw\n",
      "https://www.simplyhired.com/search?q=Frontend+Developer&l=united+states&t=1&cursor=ABQABQBkAAAAAAAAAAAAAAACDzKQPAECARAkCwiP4L%2Bs4jkv3e5WLWX64EaN0T1nz0VOYD43zJgxgQNmJ1xTPdbp%2FRffTyok7utbWt7rQ6nW7fTzdULGf5OxGgxo6Q%3D%3D&job=HtjQapXQK27QmTbbQCsecWGN_ypZbot03UR91OIO1weZXCeCs7jQdA\n",
      "https://www.simplyhired.com/search?q=Frontend+Developer&l=united+states&t=1&cursor=ABQABQBkAAAAAAAAAAAAAAACDzKQPAECARAkCwiP4L%2Bs4jkv3e5WLWX64EaN0T1nz0VOYD43zJgxgQNmJ1xTPdbp%2FRffTyok7utbWt7rQ6nW7fTzdULGf5OxGgxo6Q%3D%3D&job=WMutVKKb6HfM3jgpXGKvQ8znPNlTr3MWtB_0A8qutMPMGaAXaYL_Rw\n"
     ]
    },
    {
     "name": "stderr",
     "output_type": "stream",
     "text": [
      "/tmp/ipykernel_5743/3381847202.py:22: FutureWarning: The frame.append method is deprecated and will be removed from pandas in a future version. Use pandas.concat instead.\n",
      "  df = df.append(page_data)\n"
     ]
    },
    {
     "name": "stdout",
     "output_type": "stream",
     "text": [
      "Page Number: 7  Page Link:  https://www.simplyhired.com/search?q=Frontend+Developer&l=united+states&t=1&cursor=ABQABgB4AAAAAAAAAAAAAAACDzKQPAEDAQcQChYNDbbcaBGLq0eUGJouyegeLHZ%2BwSqngMhn0GYpSMlNf657KDtapWKMIoJEXodf%2Bh0LZZTBWGRJEOKNYEoSEZ71X4Q1YyQ%3D\n",
      "https://www.simplyhired.com/search?q=Frontend+Developer&l=united+states&t=1&cursor=ABQABgB4AAAAAAAAAAAAAAACDzKQPAEDAQcQChYNDbbcaBGLq0eUGJouyegeLHZ%2BwSqngMhn0GYpSMlNf657KDtapWKMIoJEXodf%2Bh0LZZTBWGRJEOKNYEoSEZ71X4Q1YyQ%3D&job=JhxVSb3aEqxgoN5tYA75j_xwxkF2mjOEZenylskZ2wo_8R7I9AYSTQ\n",
      "https://www.simplyhired.com/search?q=Frontend+Developer&l=united+states&t=1&cursor=ABQABgB4AAAAAAAAAAAAAAACDzKQPAEDAQcQChYNDbbcaBGLq0eUGJouyegeLHZ%2BwSqngMhn0GYpSMlNf657KDtapWKMIoJEXodf%2Bh0LZZTBWGRJEOKNYEoSEZ71X4Q1YyQ%3D&job=Tk_OQ-glkMFiK61Kcgrcz5byWQlZyr_uXkUXa4bnNzEGeNlw3akvUQ\n",
      "https://www.simplyhired.com/search?q=Frontend+Developer&l=united+states&t=1&cursor=ABQABgB4AAAAAAAAAAAAAAACDzKQPAEDAQcQChYNDbbcaBGLq0eUGJouyegeLHZ%2BwSqngMhn0GYpSMlNf657KDtapWKMIoJEXodf%2Bh0LZZTBWGRJEOKNYEoSEZ71X4Q1YyQ%3D&job=bHfK3KRewLCv09pc-jdurbpt_0jQ0PeWAXdBErfPemS0K6rk42fWIQ\n",
      "https://www.simplyhired.com/search?q=Frontend+Developer&l=united+states&t=1&cursor=ABQABgB4AAAAAAAAAAAAAAACDzKQPAEDAQcQChYNDbbcaBGLq0eUGJouyegeLHZ%2BwSqngMhn0GYpSMlNf657KDtapWKMIoJEXodf%2Bh0LZZTBWGRJEOKNYEoSEZ71X4Q1YyQ%3D&job=4j9pcKSRt9jrrnz6UjdceSJeA7KkFcw5PVKtDsi8ioCNKVpCIohG3Q\n",
      "https://www.simplyhired.com/search?q=Frontend+Developer&l=united+states&t=1&cursor=ABQABgB4AAAAAAAAAAAAAAACDzKQPAEDAQcQChYNDbbcaBGLq0eUGJouyegeLHZ%2BwSqngMhn0GYpSMlNf657KDtapWKMIoJEXodf%2Bh0LZZTBWGRJEOKNYEoSEZ71X4Q1YyQ%3D&job=OEC3Us6-3WEEe4K3K26KWp4B1T8FpWUib2VZfHu1yDG3CVWBhx9L8w\n",
      "https://www.simplyhired.com/search?q=Frontend+Developer&l=united+states&t=1&cursor=ABQABgB4AAAAAAAAAAAAAAACDzKQPAEDAQcQChYNDbbcaBGLq0eUGJouyegeLHZ%2BwSqngMhn0GYpSMlNf657KDtapWKMIoJEXodf%2Bh0LZZTBWGRJEOKNYEoSEZ71X4Q1YyQ%3D&job=2bfFcnTWg4px9HeNkaIR1P0qGyPto9UcUA1ptJsEDXED6lEDmkaWJQ\n",
      "https://www.simplyhired.com/search?q=Frontend+Developer&l=united+states&t=1&cursor=ABQABgB4AAAAAAAAAAAAAAACDzKQPAEDAQcQChYNDbbcaBGLq0eUGJouyegeLHZ%2BwSqngMhn0GYpSMlNf657KDtapWKMIoJEXodf%2Bh0LZZTBWGRJEOKNYEoSEZ71X4Q1YyQ%3D&job=EA23s3NjxcdVgXFJma5h-xJMf0TMtnBQ1IbMzB4GiyEceM9FeOWn7w\n",
      "https://www.simplyhired.com/search?q=Frontend+Developer&l=united+states&t=1&cursor=ABQABgB4AAAAAAAAAAAAAAACDzKQPAEDAQcQChYNDbbcaBGLq0eUGJouyegeLHZ%2BwSqngMhn0GYpSMlNf657KDtapWKMIoJEXodf%2Bh0LZZTBWGRJEOKNYEoSEZ71X4Q1YyQ%3D&job=1HHvhPLvpZUKNjLGJ6Nq6NZqLA8VgvhexwPKN5b5l-qyliDgdOoZkg\n",
      "https://www.simplyhired.com/search?q=Frontend+Developer&l=united+states&t=1&cursor=ABQABgB4AAAAAAAAAAAAAAACDzKQPAEDAQcQChYNDbbcaBGLq0eUGJouyegeLHZ%2BwSqngMhn0GYpSMlNf657KDtapWKMIoJEXodf%2Bh0LZZTBWGRJEOKNYEoSEZ71X4Q1YyQ%3D&job=1N37tKpSryJObMs3vjQKz54HwsszhvpSRxPDfMmVRvOy7jtv80Vj3A\n",
      "https://www.simplyhired.com/search?q=Frontend+Developer&l=united+states&t=1&cursor=ABQABgB4AAAAAAAAAAAAAAACDzKQPAEDAQcQChYNDbbcaBGLq0eUGJouyegeLHZ%2BwSqngMhn0GYpSMlNf657KDtapWKMIoJEXodf%2Bh0LZZTBWGRJEOKNYEoSEZ71X4Q1YyQ%3D&job=yI2gnhvKyxgJJ1bBs8BJYT4son9X_ia8fU910Vx0k9MKkFodaUkFcA\n",
      "https://www.simplyhired.com/search?q=Frontend+Developer&l=united+states&t=1&cursor=ABQABgB4AAAAAAAAAAAAAAACDzKQPAEDAQcQChYNDbbcaBGLq0eUGJouyegeLHZ%2BwSqngMhn0GYpSMlNf657KDtapWKMIoJEXodf%2Bh0LZZTBWGRJEOKNYEoSEZ71X4Q1YyQ%3D&job=IHquNS4ubDWaxjEzI_VZ0Ke_NZhpwGwkTS4_cKJRUM-M1VhXgul60A\n",
      "https://www.simplyhired.com/search?q=Frontend+Developer&l=united+states&t=1&cursor=ABQABgB4AAAAAAAAAAAAAAACDzKQPAEDAQcQChYNDbbcaBGLq0eUGJouyegeLHZ%2BwSqngMhn0GYpSMlNf657KDtapWKMIoJEXodf%2Bh0LZZTBWGRJEOKNYEoSEZ71X4Q1YyQ%3D&job=0bSc1bZ3UeqwzitodFkgJ0_AXnoZFsxmvk-lv0TS3s6dz_v12It7qw\n",
      "https://www.simplyhired.com/search?q=Frontend+Developer&l=united+states&t=1&cursor=ABQABgB4AAAAAAAAAAAAAAACDzKQPAEDAQcQChYNDbbcaBGLq0eUGJouyegeLHZ%2BwSqngMhn0GYpSMlNf657KDtapWKMIoJEXodf%2Bh0LZZTBWGRJEOKNYEoSEZ71X4Q1YyQ%3D&job=UKLUFW9QjxS_YIcvEJXjBZS8wLvt0ndbVJcpSDBNThI7r2skjp8K0Q\n",
      "https://www.simplyhired.com/search?q=Frontend+Developer&l=united+states&t=1&cursor=ABQABgB4AAAAAAAAAAAAAAACDzKQPAEDAQcQChYNDbbcaBGLq0eUGJouyegeLHZ%2BwSqngMhn0GYpSMlNf657KDtapWKMIoJEXodf%2Bh0LZZTBWGRJEOKNYEoSEZ71X4Q1YyQ%3D&job=_hcx0XxYpO2s4pTOKI-0ejFrjZdCuzH6DnGF1GJsv_ulw-MRNuMb_Q\n",
      "https://www.simplyhired.com/search?q=Frontend+Developer&l=united+states&t=1&cursor=ABQABgB4AAAAAAAAAAAAAAACDzKQPAEDAQcQChYNDbbcaBGLq0eUGJouyegeLHZ%2BwSqngMhn0GYpSMlNf657KDtapWKMIoJEXodf%2Bh0LZZTBWGRJEOKNYEoSEZ71X4Q1YyQ%3D&job=YOERlXqisTfAFvVlgXyvzbTw5fP1eOkJUfNsz1iSMfpAGN8ywd_70w\n",
      "https://www.simplyhired.com/search?q=Frontend+Developer&l=united+states&t=1&cursor=ABQABgB4AAAAAAAAAAAAAAACDzKQPAEDAQcQChYNDbbcaBGLq0eUGJouyegeLHZ%2BwSqngMhn0GYpSMlNf657KDtapWKMIoJEXodf%2Bh0LZZTBWGRJEOKNYEoSEZ71X4Q1YyQ%3D&job=q4SWz-is5uvUVbv3UctVC5m6Q0QDL01pZ70dmjWNnt6jfdrZinC5Uw\n",
      "https://www.simplyhired.com/search?q=Frontend+Developer&l=united+states&t=1&cursor=ABQABgB4AAAAAAAAAAAAAAACDzKQPAEDAQcQChYNDbbcaBGLq0eUGJouyegeLHZ%2BwSqngMhn0GYpSMlNf657KDtapWKMIoJEXodf%2Bh0LZZTBWGRJEOKNYEoSEZ71X4Q1YyQ%3D&job=jkR146jD2qroDLm_7xS12DIkDVbbDZkKa-XOoJofIjyXGFclELG0tg\n",
      "https://www.simplyhired.com/search?q=Frontend+Developer&l=united+states&t=1&cursor=ABQABgB4AAAAAAAAAAAAAAACDzKQPAEDAQcQChYNDbbcaBGLq0eUGJouyegeLHZ%2BwSqngMhn0GYpSMlNf657KDtapWKMIoJEXodf%2Bh0LZZTBWGRJEOKNYEoSEZ71X4Q1YyQ%3D&job=7AiJyx0Sokyhn3Olx9sOY1yrv7yDHOHiYjuIuNFZY1_V8HF6OIUGxw\n",
      "https://www.simplyhired.com/search?q=Frontend+Developer&l=united+states&t=1&cursor=ABQABgB4AAAAAAAAAAAAAAACDzKQPAEDAQcQChYNDbbcaBGLq0eUGJouyegeLHZ%2BwSqngMhn0GYpSMlNf657KDtapWKMIoJEXodf%2Bh0LZZTBWGRJEOKNYEoSEZ71X4Q1YyQ%3D&job=iNnweKzHi_LE3tBtbwjHp_ynjfJknBRWLPAt9XSLrkc4gjvCLqJ__Q\n",
      "https://www.simplyhired.com/search?q=Frontend+Developer&l=united+states&t=1&cursor=ABQABgB4AAAAAAAAAAAAAAACDzKQPAEDAQcQChYNDbbcaBGLq0eUGJouyegeLHZ%2BwSqngMhn0GYpSMlNf657KDtapWKMIoJEXodf%2Bh0LZZTBWGRJEOKNYEoSEZ71X4Q1YyQ%3D&job=KvXNymwKCrUuwq3IwXlpSVARrncr_85NrDCGLC0v7-ah-uQip1rIfg\n"
     ]
    },
    {
     "name": "stderr",
     "output_type": "stream",
     "text": [
      "/tmp/ipykernel_5743/3381847202.py:22: FutureWarning: The frame.append method is deprecated and will be removed from pandas in a future version. Use pandas.concat instead.\n",
      "  df = df.append(page_data)\n"
     ]
    },
    {
     "name": "stdout",
     "output_type": "stream",
     "text": [
      "Page Number: 8  Page Link:  https://www.simplyhired.com/search?q=Frontend+Developer&l=united+states&t=1&cursor=ABQABwCMAAAAAAAAAAAAAAACDzKQPAEDAQcQChYJBL%2BGfN1g5z01F5B8Nt%2Bq4MrNJ2p88VqHKROlCUI%2BscjiP2sXo8rKzBBqX%2FO%2F%2B6gyry3%2B9JleK2dg%2F2NTAPybkg%2B%2B55z76%2B4%3D\n",
      "https://www.simplyhired.com/search?q=Frontend+Developer&l=united+states&t=1&cursor=ABQABwCMAAAAAAAAAAAAAAACDzKQPAEDAQcQChYJBL%2BGfN1g5z01F5B8Nt%2Bq4MrNJ2p88VqHKROlCUI%2BscjiP2sXo8rKzBBqX%2FO%2F%2B6gyry3%2B9JleK2dg%2F2NTAPybkg%2B%2B55z76%2B4%3D&job=2Mvm2EFYYLYz0SOedsn344wcNNvBFrGbYSYCP_oIEWxxvNKzZRucxA\n",
      "https://www.simplyhired.com/search?q=Frontend+Developer&l=united+states&t=1&cursor=ABQABwCMAAAAAAAAAAAAAAACDzKQPAEDAQcQChYJBL%2BGfN1g5z01F5B8Nt%2Bq4MrNJ2p88VqHKROlCUI%2BscjiP2sXo8rKzBBqX%2FO%2F%2B6gyry3%2B9JleK2dg%2F2NTAPybkg%2B%2B55z76%2B4%3D&job=eqJIgPCNOBeQrgOWAvR_75R8DyxCIYWF4yGjlaMEnExP9CCdKRgdcA\n",
      "https://www.simplyhired.com/search?q=Frontend+Developer&l=united+states&t=1&cursor=ABQABwCMAAAAAAAAAAAAAAACDzKQPAEDAQcQChYJBL%2BGfN1g5z01F5B8Nt%2Bq4MrNJ2p88VqHKROlCUI%2BscjiP2sXo8rKzBBqX%2FO%2F%2B6gyry3%2B9JleK2dg%2F2NTAPybkg%2B%2B55z76%2B4%3D&job=sM0mn7-H305Vad91mA862GEX11pvAnUtKc01Evo0t5GtP6r_bllCbw\n",
      "https://www.simplyhired.com/search?q=Frontend+Developer&l=united+states&t=1&cursor=ABQABwCMAAAAAAAAAAAAAAACDzKQPAEDAQcQChYJBL%2BGfN1g5z01F5B8Nt%2Bq4MrNJ2p88VqHKROlCUI%2BscjiP2sXo8rKzBBqX%2FO%2F%2B6gyry3%2B9JleK2dg%2F2NTAPybkg%2B%2B55z76%2B4%3D&job=g9VNh6YWq7mBtA-hMP_Ms13BrB5S3N_GDF99HrvZ-KTB-_5S3Wt3yA\n",
      "https://www.simplyhired.com/search?q=Frontend+Developer&l=united+states&t=1&cursor=ABQABwCMAAAAAAAAAAAAAAACDzKQPAEDAQcQChYJBL%2BGfN1g5z01F5B8Nt%2Bq4MrNJ2p88VqHKROlCUI%2BscjiP2sXo8rKzBBqX%2FO%2F%2B6gyry3%2B9JleK2dg%2F2NTAPybkg%2B%2B55z76%2B4%3D&job=qKhvL6fx-nkwiKY-WwUJA-ZmRcbC8Dt0z8ZEf8CKqf9KB9UmrqnERA\n",
      "https://www.simplyhired.com/search?q=Frontend+Developer&l=united+states&t=1&cursor=ABQABwCMAAAAAAAAAAAAAAACDzKQPAEDAQcQChYJBL%2BGfN1g5z01F5B8Nt%2Bq4MrNJ2p88VqHKROlCUI%2BscjiP2sXo8rKzBBqX%2FO%2F%2B6gyry3%2B9JleK2dg%2F2NTAPybkg%2B%2B55z76%2B4%3D&job=hGvvpAdeMr0aHL64dmi49l7FSBr5jHCFZlSFUZWQejo5s6SKgHiHsw\n",
      "https://www.simplyhired.com/search?q=Frontend+Developer&l=united+states&t=1&cursor=ABQABwCMAAAAAAAAAAAAAAACDzKQPAEDAQcQChYJBL%2BGfN1g5z01F5B8Nt%2Bq4MrNJ2p88VqHKROlCUI%2BscjiP2sXo8rKzBBqX%2FO%2F%2B6gyry3%2B9JleK2dg%2F2NTAPybkg%2B%2B55z76%2B4%3D&job=g9rBj5R9hd4r0uxQgbl8DbN-Mr8XixuMIncV81blH6NTpfMjavVz8A\n",
      "https://www.simplyhired.com/search?q=Frontend+Developer&l=united+states&t=1&cursor=ABQABwCMAAAAAAAAAAAAAAACDzKQPAEDAQcQChYJBL%2BGfN1g5z01F5B8Nt%2Bq4MrNJ2p88VqHKROlCUI%2BscjiP2sXo8rKzBBqX%2FO%2F%2B6gyry3%2B9JleK2dg%2F2NTAPybkg%2B%2B55z76%2B4%3D&job=qwxC11eSe8eeVjTCRJa_HM_dRHoiCAbXnWY8vOgVZwaYFnxEhrvrOQ\n",
      "https://www.simplyhired.com/search?q=Frontend+Developer&l=united+states&t=1&cursor=ABQABwCMAAAAAAAAAAAAAAACDzKQPAEDAQcQChYJBL%2BGfN1g5z01F5B8Nt%2Bq4MrNJ2p88VqHKROlCUI%2BscjiP2sXo8rKzBBqX%2FO%2F%2B6gyry3%2B9JleK2dg%2F2NTAPybkg%2B%2B55z76%2B4%3D&job=BAziEX-xhZX9CXY5yCatvjHHKjayR4aBvL9-me498Qi7z0ekNpnxTA\n",
      "https://www.simplyhired.com/search?q=Frontend+Developer&l=united+states&t=1&cursor=ABQABwCMAAAAAAAAAAAAAAACDzKQPAEDAQcQChYJBL%2BGfN1g5z01F5B8Nt%2Bq4MrNJ2p88VqHKROlCUI%2BscjiP2sXo8rKzBBqX%2FO%2F%2B6gyry3%2B9JleK2dg%2F2NTAPybkg%2B%2B55z76%2B4%3D&job=6JP_JC6bvz0ml9eDF1NyNwPzaEJsbPOZHkN5H76HJPPv7cDYFAbkEA\n",
      "https://www.simplyhired.com/search?q=Frontend+Developer&l=united+states&t=1&cursor=ABQABwCMAAAAAAAAAAAAAAACDzKQPAEDAQcQChYJBL%2BGfN1g5z01F5B8Nt%2Bq4MrNJ2p88VqHKROlCUI%2BscjiP2sXo8rKzBBqX%2FO%2F%2B6gyry3%2B9JleK2dg%2F2NTAPybkg%2B%2B55z76%2B4%3D&job=c0x_A8b9488gPWgn50T84Um32_GOQFRgh-t2gTzxH17uyN-Rqs0X4Q\n",
      "https://www.simplyhired.com/search?q=Frontend+Developer&l=united+states&t=1&cursor=ABQABwCMAAAAAAAAAAAAAAACDzKQPAEDAQcQChYJBL%2BGfN1g5z01F5B8Nt%2Bq4MrNJ2p88VqHKROlCUI%2BscjiP2sXo8rKzBBqX%2FO%2F%2B6gyry3%2B9JleK2dg%2F2NTAPybkg%2B%2B55z76%2B4%3D&job=nN3sfrPFRxdG7gXQ_PEPFb1LK59X_J6HPYTKu5cr0V42VvZ517-flg\n",
      "https://www.simplyhired.com/search?q=Frontend+Developer&l=united+states&t=1&cursor=ABQABwCMAAAAAAAAAAAAAAACDzKQPAEDAQcQChYJBL%2BGfN1g5z01F5B8Nt%2Bq4MrNJ2p88VqHKROlCUI%2BscjiP2sXo8rKzBBqX%2FO%2F%2B6gyry3%2B9JleK2dg%2F2NTAPybkg%2B%2B55z76%2B4%3D&job=K_iUqcWnnmleDvdkw2rUWSXCfX41LYDkf-gmBNHH0VJQMkNMO2gTkg\n",
      "https://www.simplyhired.com/search?q=Frontend+Developer&l=united+states&t=1&cursor=ABQABwCMAAAAAAAAAAAAAAACDzKQPAEDAQcQChYJBL%2BGfN1g5z01F5B8Nt%2Bq4MrNJ2p88VqHKROlCUI%2BscjiP2sXo8rKzBBqX%2FO%2F%2B6gyry3%2B9JleK2dg%2F2NTAPybkg%2B%2B55z76%2B4%3D&job=kveybFsfnckKW1YTeC6u4Thr83pcqGDl_8xgNTtM2qMWVyvSCQcJ-A\n",
      "https://www.simplyhired.com/search?q=Frontend+Developer&l=united+states&t=1&cursor=ABQABwCMAAAAAAAAAAAAAAACDzKQPAEDAQcQChYJBL%2BGfN1g5z01F5B8Nt%2Bq4MrNJ2p88VqHKROlCUI%2BscjiP2sXo8rKzBBqX%2FO%2F%2B6gyry3%2B9JleK2dg%2F2NTAPybkg%2B%2B55z76%2B4%3D&job=Dz-HWT_XepoPOxvvCQITglw9iKLR2BYNYYQZOCODEjwmqk0UxsX3Ig\n",
      "https://www.simplyhired.com/search?q=Frontend+Developer&l=united+states&t=1&cursor=ABQABwCMAAAAAAAAAAAAAAACDzKQPAEDAQcQChYJBL%2BGfN1g5z01F5B8Nt%2Bq4MrNJ2p88VqHKROlCUI%2BscjiP2sXo8rKzBBqX%2FO%2F%2B6gyry3%2B9JleK2dg%2F2NTAPybkg%2B%2B55z76%2B4%3D&job=kCcYqscr1HSOrBMHbhRV_WO5yZVwsGsPb9adoBKA_2_7cvj4f4Akjg\n",
      "https://www.simplyhired.com/search?q=Frontend+Developer&l=united+states&t=1&cursor=ABQABwCMAAAAAAAAAAAAAAACDzKQPAEDAQcQChYJBL%2BGfN1g5z01F5B8Nt%2Bq4MrNJ2p88VqHKROlCUI%2BscjiP2sXo8rKzBBqX%2FO%2F%2B6gyry3%2B9JleK2dg%2F2NTAPybkg%2B%2B55z76%2B4%3D&job=X1_Nat2hmWZvkpMoONhnS45EOlawNpynSXkI6d-BHcr4IUSfeXcDJA\n",
      "https://www.simplyhired.com/search?q=Frontend+Developer&l=united+states&t=1&cursor=ABQABwCMAAAAAAAAAAAAAAACDzKQPAEDAQcQChYJBL%2BGfN1g5z01F5B8Nt%2Bq4MrNJ2p88VqHKROlCUI%2BscjiP2sXo8rKzBBqX%2FO%2F%2B6gyry3%2B9JleK2dg%2F2NTAPybkg%2B%2B55z76%2B4%3D&job=dEWAahSeoCwHpCUr1d8a4mmmxdFP9mcqRq4tL8WoKbswqDqLAojHMg\n",
      "https://www.simplyhired.com/search?q=Frontend+Developer&l=united+states&t=1&cursor=ABQABwCMAAAAAAAAAAAAAAACDzKQPAEDAQcQChYJBL%2BGfN1g5z01F5B8Nt%2Bq4MrNJ2p88VqHKROlCUI%2BscjiP2sXo8rKzBBqX%2FO%2F%2B6gyry3%2B9JleK2dg%2F2NTAPybkg%2B%2B55z76%2B4%3D&job=kkDuF22xs7sJ7vvGIOsVJzqdLnuAtosJr41Ttf31IErU7rdjgNl0oA\n",
      "https://www.simplyhired.com/search?q=Frontend+Developer&l=united+states&t=1&cursor=ABQABwCMAAAAAAAAAAAAAAACDzKQPAEDAQcQChYJBL%2BGfN1g5z01F5B8Nt%2Bq4MrNJ2p88VqHKROlCUI%2BscjiP2sXo8rKzBBqX%2FO%2F%2B6gyry3%2B9JleK2dg%2F2NTAPybkg%2B%2B55z76%2B4%3D&job=upTMAuVD7byNfWw8TQc9DHWLnLJzY9sviVx7pEodeWFCl1VbyW91TA\n"
     ]
    },
    {
     "name": "stderr",
     "output_type": "stream",
     "text": [
      "/tmp/ipykernel_5743/3381847202.py:22: FutureWarning: The frame.append method is deprecated and will be removed from pandas in a future version. Use pandas.concat instead.\n",
      "  df = df.append(page_data)\n"
     ]
    },
    {
     "name": "stdout",
     "output_type": "stream",
     "text": [
      "Page Number: 9  Page Link:  https://www.simplyhired.com/search?q=Frontend+Developer&l=united+states&t=1&cursor=ABQACACgAAAAAAAAAAAAAAACDzKQPAECAQcQClboH%2BlU2ZpffpdqSB4sH2hF6jXAYjGpch1RpCIzu7WSrspWtIapezAstuCaHkJjIBZnq7EznthDQ6o%2BStE%3D\n",
      "https://www.simplyhired.com/search?q=Frontend+Developer&l=united+states&t=1&cursor=ABQACACgAAAAAAAAAAAAAAACDzKQPAECAQcQClboH%2BlU2ZpffpdqSB4sH2hF6jXAYjGpch1RpCIzu7WSrspWtIapezAstuCaHkJjIBZnq7EznthDQ6o%2BStE%3D&job=7ufGTMb7JPohrdDprjfAkkYd9Ob1LTXcwrlbdl310ZLpj8BYmrBfTw\n",
      "https://www.simplyhired.com/search?q=Frontend+Developer&l=united+states&t=1&cursor=ABQACACgAAAAAAAAAAAAAAACDzKQPAECAQcQClboH%2BlU2ZpffpdqSB4sH2hF6jXAYjGpch1RpCIzu7WSrspWtIapezAstuCaHkJjIBZnq7EznthDQ6o%2BStE%3D&job=gWQSmbRVHjAFGP3sywVp8c_HmQlXxLS2x8JLBwSvO7mAxMxlN03jlg\n",
      "https://www.simplyhired.com/search?q=Frontend+Developer&l=united+states&t=1&cursor=ABQACACgAAAAAAAAAAAAAAACDzKQPAECAQcQClboH%2BlU2ZpffpdqSB4sH2hF6jXAYjGpch1RpCIzu7WSrspWtIapezAstuCaHkJjIBZnq7EznthDQ6o%2BStE%3D&job=gMbpmTJorD4rKExatxS0SJuudRXQAbWK2rR0E_OvmfWzuwyHD_h65Q\n",
      "https://www.simplyhired.com/search?q=Frontend+Developer&l=united+states&t=1&cursor=ABQACACgAAAAAAAAAAAAAAACDzKQPAECAQcQClboH%2BlU2ZpffpdqSB4sH2hF6jXAYjGpch1RpCIzu7WSrspWtIapezAstuCaHkJjIBZnq7EznthDQ6o%2BStE%3D&job=lskDPtK6rM78xXSKr7RBnXgFKUOZJPY0U0IwlH6tsKYSZfVnVBgecg\n",
      "https://www.simplyhired.com/search?q=Frontend+Developer&l=united+states&t=1&cursor=ABQACACgAAAAAAAAAAAAAAACDzKQPAECAQcQClboH%2BlU2ZpffpdqSB4sH2hF6jXAYjGpch1RpCIzu7WSrspWtIapezAstuCaHkJjIBZnq7EznthDQ6o%2BStE%3D&job=alcN_cj1_zEaOJWxo_7ITZfWe9pqZfHZLrEIPNcXT1mYT5kcgT8KHQ\n",
      "https://www.simplyhired.com/search?q=Frontend+Developer&l=united+states&t=1&cursor=ABQACACgAAAAAAAAAAAAAAACDzKQPAECAQcQClboH%2BlU2ZpffpdqSB4sH2hF6jXAYjGpch1RpCIzu7WSrspWtIapezAstuCaHkJjIBZnq7EznthDQ6o%2BStE%3D&job=cb0lhGUJgvN8IWxmgwBTTxdqCjOAU760WqzEg2Vy_KkHytmtFNHVtw\n",
      "https://www.simplyhired.com/search?q=Frontend+Developer&l=united+states&t=1&cursor=ABQACACgAAAAAAAAAAAAAAACDzKQPAECAQcQClboH%2BlU2ZpffpdqSB4sH2hF6jXAYjGpch1RpCIzu7WSrspWtIapezAstuCaHkJjIBZnq7EznthDQ6o%2BStE%3D&job=z3fmhNK0Cslz99KqYtjg5ci48q_AooE4-9qMXgzB-dSVdypdf8a9bg\n",
      "https://www.simplyhired.com/search?q=Frontend+Developer&l=united+states&t=1&cursor=ABQACACgAAAAAAAAAAAAAAACDzKQPAECAQcQClboH%2BlU2ZpffpdqSB4sH2hF6jXAYjGpch1RpCIzu7WSrspWtIapezAstuCaHkJjIBZnq7EznthDQ6o%2BStE%3D&job=yezY7d4lMfDcJtz3_FdxJxp7yHKhnKI3Me6cZWgIiHwVWSqDMmlcGw\n",
      "https://www.simplyhired.com/search?q=Frontend+Developer&l=united+states&t=1&cursor=ABQACACgAAAAAAAAAAAAAAACDzKQPAECAQcQClboH%2BlU2ZpffpdqSB4sH2hF6jXAYjGpch1RpCIzu7WSrspWtIapezAstuCaHkJjIBZnq7EznthDQ6o%2BStE%3D&job=88J4vVEACsXhjfbuf8-4MhNTx7tYFx7fpsY7_mJQh8nq1DrvKqQvzA\n",
      "https://www.simplyhired.com/search?q=Frontend+Developer&l=united+states&t=1&cursor=ABQACACgAAAAAAAAAAAAAAACDzKQPAECAQcQClboH%2BlU2ZpffpdqSB4sH2hF6jXAYjGpch1RpCIzu7WSrspWtIapezAstuCaHkJjIBZnq7EznthDQ6o%2BStE%3D&job=dK9ppCcqB9IKbKFKvi30TQKbyFRP99iX_6E_VEOtf1cQ7Sb4R8-9Nw\n",
      "https://www.simplyhired.com/search?q=Frontend+Developer&l=united+states&t=1&cursor=ABQACACgAAAAAAAAAAAAAAACDzKQPAECAQcQClboH%2BlU2ZpffpdqSB4sH2hF6jXAYjGpch1RpCIzu7WSrspWtIapezAstuCaHkJjIBZnq7EznthDQ6o%2BStE%3D&job=VjXiu6s6m4wqo40ZwqdGa086qVOK6DmYYcsn22l5MwrTwIMFWOHRGA\n",
      "https://www.simplyhired.com/search?q=Frontend+Developer&l=united+states&t=1&cursor=ABQACACgAAAAAAAAAAAAAAACDzKQPAECAQcQClboH%2BlU2ZpffpdqSB4sH2hF6jXAYjGpch1RpCIzu7WSrspWtIapezAstuCaHkJjIBZnq7EznthDQ6o%2BStE%3D&job=4bApPYqexfhnPdCwwx6VLj_I2RN_WcOr_4SQFLVpn_TsT1E8Rl7qLA\n",
      "https://www.simplyhired.com/search?q=Frontend+Developer&l=united+states&t=1&cursor=ABQACACgAAAAAAAAAAAAAAACDzKQPAECAQcQClboH%2BlU2ZpffpdqSB4sH2hF6jXAYjGpch1RpCIzu7WSrspWtIapezAstuCaHkJjIBZnq7EznthDQ6o%2BStE%3D&job=h1A6EuFpS-qnhD5S75yA0vnsgJpKZd2A2wvUrDHbv-3BFHjy4lOuhQ\n",
      "https://www.simplyhired.com/search?q=Frontend+Developer&l=united+states&t=1&cursor=ABQACACgAAAAAAAAAAAAAAACDzKQPAECAQcQClboH%2BlU2ZpffpdqSB4sH2hF6jXAYjGpch1RpCIzu7WSrspWtIapezAstuCaHkJjIBZnq7EznthDQ6o%2BStE%3D&job=ga4PeaR03CVBwz01Jl4hDSzyWB3o2tHEl_vGI-XPrgRRkNi6qFkFMg\n",
      "https://www.simplyhired.com/search?q=Frontend+Developer&l=united+states&t=1&cursor=ABQACACgAAAAAAAAAAAAAAACDzKQPAECAQcQClboH%2BlU2ZpffpdqSB4sH2hF6jXAYjGpch1RpCIzu7WSrspWtIapezAstuCaHkJjIBZnq7EznthDQ6o%2BStE%3D&job=4l5oEEeU5bNlxmAIH8n1aoL_7isz4E5Xnc5TEXIUkhhoRp2I9QqwaA\n",
      "https://www.simplyhired.com/search?q=Frontend+Developer&l=united+states&t=1&cursor=ABQACACgAAAAAAAAAAAAAAACDzKQPAECAQcQClboH%2BlU2ZpffpdqSB4sH2hF6jXAYjGpch1RpCIzu7WSrspWtIapezAstuCaHkJjIBZnq7EznthDQ6o%2BStE%3D&job=nVKYCHiy9jgmY6YvgdGYogzRSNpJvjWlhUpaCB5UAmYkAUG_z8fH9w\n",
      "https://www.simplyhired.com/search?q=Frontend+Developer&l=united+states&t=1&cursor=ABQACACgAAAAAAAAAAAAAAACDzKQPAECAQcQClboH%2BlU2ZpffpdqSB4sH2hF6jXAYjGpch1RpCIzu7WSrspWtIapezAstuCaHkJjIBZnq7EznthDQ6o%2BStE%3D&job=hh39N-c2m84n9w0SC53VjabRvr3bbqI-IDhjI6QNqdwVtJZawbACrw\n",
      "https://www.simplyhired.com/search?q=Frontend+Developer&l=united+states&t=1&cursor=ABQACACgAAAAAAAAAAAAAAACDzKQPAECAQcQClboH%2BlU2ZpffpdqSB4sH2hF6jXAYjGpch1RpCIzu7WSrspWtIapezAstuCaHkJjIBZnq7EznthDQ6o%2BStE%3D&job=e2ClRJdTsn3gUI4GOxf6xCeC_BxbeSs87fLHEOElS-BzcWeih1VXWA\n",
      "https://www.simplyhired.com/search?q=Frontend+Developer&l=united+states&t=1&cursor=ABQACACgAAAAAAAAAAAAAAACDzKQPAECAQcQClboH%2BlU2ZpffpdqSB4sH2hF6jXAYjGpch1RpCIzu7WSrspWtIapezAstuCaHkJjIBZnq7EznthDQ6o%2BStE%3D&job=JDG91rxlaccannIg78AsN8-xwxN9OKFXjk4VxYT86TaBN9sr7iF52Q\n",
      "https://www.simplyhired.com/search?q=Frontend+Developer&l=united+states&t=1&cursor=ABQACACgAAAAAAAAAAAAAAACDzKQPAECAQcQClboH%2BlU2ZpffpdqSB4sH2hF6jXAYjGpch1RpCIzu7WSrspWtIapezAstuCaHkJjIBZnq7EznthDQ6o%2BStE%3D&job=7SATVDEpU6-yrYso9bG7HRqob8KLoXDkJcYhGamZzGmMDbqINJodPg\n"
     ]
    },
    {
     "name": "stderr",
     "output_type": "stream",
     "text": [
      "/tmp/ipykernel_5743/3381847202.py:22: FutureWarning: The frame.append method is deprecated and will be removed from pandas in a future version. Use pandas.concat instead.\n",
      "  df = df.append(page_data)\n"
     ]
    },
    {
     "name": "stdout",
     "output_type": "stream",
     "text": [
      "Page Number: 10  Page Link:  https://www.simplyhired.com/search?q=Frontend+Developer&l=united+states&t=1&cursor=ABQACQC0AAAAAAAAAAAAAAACDzKQPAECAQcQCU7ioluPscBSZar%2FggdcCUz7dvbY%2FceBZRtGQkyvVFK2BO399%2FREzqQ%2FF6sjQsF3JxvEJWmGmA%3D%3D\n",
      "https://www.simplyhired.com/search?q=Frontend+Developer&l=united+states&t=1&cursor=ABQACQC0AAAAAAAAAAAAAAACDzKQPAECAQcQCU7ioluPscBSZar%2FggdcCUz7dvbY%2FceBZRtGQkyvVFK2BO399%2FREzqQ%2FF6sjQsF3JxvEJWmGmA%3D%3D&job=aSwu-EQcFEni8-uZ-2bFcA7-0a53NrHKVYMAzW4QvR6hQ84VeqmJmA\n",
      "https://www.simplyhired.com/search?q=Frontend+Developer&l=united+states&t=1&cursor=ABQACQC0AAAAAAAAAAAAAAACDzKQPAECAQcQCU7ioluPscBSZar%2FggdcCUz7dvbY%2FceBZRtGQkyvVFK2BO399%2FREzqQ%2FF6sjQsF3JxvEJWmGmA%3D%3D&job=VETMr5j_ZDny61xGmVIINhPXcb_ONh6XyBtQ338SmzLP0liwMZVAtg\n",
      "https://www.simplyhired.com/search?q=Frontend+Developer&l=united+states&t=1&cursor=ABQACQC0AAAAAAAAAAAAAAACDzKQPAECAQcQCU7ioluPscBSZar%2FggdcCUz7dvbY%2FceBZRtGQkyvVFK2BO399%2FREzqQ%2FF6sjQsF3JxvEJWmGmA%3D%3D&job=9l2taZvg7SVP6MgnIge07XRC1i_xV0oCspz8G0sufiyM3qkCWZ7xQw\n",
      "https://www.simplyhired.com/search?q=Frontend+Developer&l=united+states&t=1&cursor=ABQACQC0AAAAAAAAAAAAAAACDzKQPAECAQcQCU7ioluPscBSZar%2FggdcCUz7dvbY%2FceBZRtGQkyvVFK2BO399%2FREzqQ%2FF6sjQsF3JxvEJWmGmA%3D%3D&job=YapCvVuRVGU_PjaVoMlveOYK1qtnNon-RKZcgBMGEal-uhK5IRdM_w\n",
      "https://www.simplyhired.com/search?q=Frontend+Developer&l=united+states&t=1&cursor=ABQACQC0AAAAAAAAAAAAAAACDzKQPAECAQcQCU7ioluPscBSZar%2FggdcCUz7dvbY%2FceBZRtGQkyvVFK2BO399%2FREzqQ%2FF6sjQsF3JxvEJWmGmA%3D%3D&job=1R0zEo8CXHQOmB9B9WpT3LeZDqm6J6qG3xKYIa5i_6DNmvzyY5dOaA\n",
      "https://www.simplyhired.com/search?q=Frontend+Developer&l=united+states&t=1&cursor=ABQACQC0AAAAAAAAAAAAAAACDzKQPAECAQcQCU7ioluPscBSZar%2FggdcCUz7dvbY%2FceBZRtGQkyvVFK2BO399%2FREzqQ%2FF6sjQsF3JxvEJWmGmA%3D%3D&job=gA22xXRtHckjp2eAzLcK_QJ3UANKMhm2Desxrd_U7TZPQYTPnrmpDw\n",
      "https://www.simplyhired.com/search?q=Frontend+Developer&l=united+states&t=1&cursor=ABQACQC0AAAAAAAAAAAAAAACDzKQPAECAQcQCU7ioluPscBSZar%2FggdcCUz7dvbY%2FceBZRtGQkyvVFK2BO399%2FREzqQ%2FF6sjQsF3JxvEJWmGmA%3D%3D&job=1zorVV3KYaXW20hRgFVS9B9UzDBXTArgFRMGW1pnvlkvW0XBAtdQZw\n",
      "https://www.simplyhired.com/search?q=Frontend+Developer&l=united+states&t=1&cursor=ABQACQC0AAAAAAAAAAAAAAACDzKQPAECAQcQCU7ioluPscBSZar%2FggdcCUz7dvbY%2FceBZRtGQkyvVFK2BO399%2FREzqQ%2FF6sjQsF3JxvEJWmGmA%3D%3D&job=d-TpsUOKQL-U3wWBStZ3BDx5sQ0VJ7iJuEcSDCnOwp8HztogSQgoYg\n",
      "https://www.simplyhired.com/search?q=Frontend+Developer&l=united+states&t=1&cursor=ABQACQC0AAAAAAAAAAAAAAACDzKQPAECAQcQCU7ioluPscBSZar%2FggdcCUz7dvbY%2FceBZRtGQkyvVFK2BO399%2FREzqQ%2FF6sjQsF3JxvEJWmGmA%3D%3D&job=CyN7GisnqPBrCjD6aWxQNJ049QTWMLJvN7KQz8a428NfcFYPacgGEg\n",
      "https://www.simplyhired.com/search?q=Frontend+Developer&l=united+states&t=1&cursor=ABQACQC0AAAAAAAAAAAAAAACDzKQPAECAQcQCU7ioluPscBSZar%2FggdcCUz7dvbY%2FceBZRtGQkyvVFK2BO399%2FREzqQ%2FF6sjQsF3JxvEJWmGmA%3D%3D&job=7bvh2QXeLaYW3cxXevNfVum7MHv79aP3HUTypC0XoCaDnjIvyzVdww\n",
      "https://www.simplyhired.com/search?q=Frontend+Developer&l=united+states&t=1&cursor=ABQACQC0AAAAAAAAAAAAAAACDzKQPAECAQcQCU7ioluPscBSZar%2FggdcCUz7dvbY%2FceBZRtGQkyvVFK2BO399%2FREzqQ%2FF6sjQsF3JxvEJWmGmA%3D%3D&job=XDHN8qBV5H0qQIZk8alpBPOp_q8kGWYTQ4B5oUAsOTDdHawR8_jlWw\n",
      "https://www.simplyhired.com/search?q=Frontend+Developer&l=united+states&t=1&cursor=ABQACQC0AAAAAAAAAAAAAAACDzKQPAECAQcQCU7ioluPscBSZar%2FggdcCUz7dvbY%2FceBZRtGQkyvVFK2BO399%2FREzqQ%2FF6sjQsF3JxvEJWmGmA%3D%3D&job=Cl6zN1VgFsSDP3KA7umXY218MVAFvtl5uFTkpCjOxykv1rW2ZONXtA\n",
      "https://www.simplyhired.com/search?q=Frontend+Developer&l=united+states&t=1&cursor=ABQACQC0AAAAAAAAAAAAAAACDzKQPAECAQcQCU7ioluPscBSZar%2FggdcCUz7dvbY%2FceBZRtGQkyvVFK2BO399%2FREzqQ%2FF6sjQsF3JxvEJWmGmA%3D%3D&job=Gz4xrsaykn_E0hZt9KcgiQ_Bk59isY0MWwpR2DvdhA2VIPLmEKNYqQ\n",
      "https://www.simplyhired.com/search?q=Frontend+Developer&l=united+states&t=1&cursor=ABQACQC0AAAAAAAAAAAAAAACDzKQPAECAQcQCU7ioluPscBSZar%2FggdcCUz7dvbY%2FceBZRtGQkyvVFK2BO399%2FREzqQ%2FF6sjQsF3JxvEJWmGmA%3D%3D&job=Rt5g0BpzSMpjRJ_LM1b1SKboRvGtF2ozMQXzgmiSe_vUkVnx4SxBkQ\n",
      "https://www.simplyhired.com/search?q=Frontend+Developer&l=united+states&t=1&cursor=ABQACQC0AAAAAAAAAAAAAAACDzKQPAECAQcQCU7ioluPscBSZar%2FggdcCUz7dvbY%2FceBZRtGQkyvVFK2BO399%2FREzqQ%2FF6sjQsF3JxvEJWmGmA%3D%3D&job=teb3AkZNYFeT9uzITAQz_mL6Hc_szkwp9d7khdsqHhtOV0AtkRHIcg\n",
      "https://www.simplyhired.com/search?q=Frontend+Developer&l=united+states&t=1&cursor=ABQACQC0AAAAAAAAAAAAAAACDzKQPAECAQcQCU7ioluPscBSZar%2FggdcCUz7dvbY%2FceBZRtGQkyvVFK2BO399%2FREzqQ%2FF6sjQsF3JxvEJWmGmA%3D%3D&job=v5Zz1B3YLbFR7V4nqEpKcW1IxzKEdmedX-rVpBC00xeb5FXUNYA6bQ\n",
      "https://www.simplyhired.com/search?q=Frontend+Developer&l=united+states&t=1&cursor=ABQACQC0AAAAAAAAAAAAAAACDzKQPAECAQcQCU7ioluPscBSZar%2FggdcCUz7dvbY%2FceBZRtGQkyvVFK2BO399%2FREzqQ%2FF6sjQsF3JxvEJWmGmA%3D%3D&job=jgWtTnXZFhG-9JZ-Q3oDVe9CvbwaRj29vf0-rl5kL7_kRFsC6U59XA\n",
      "https://www.simplyhired.com/search?q=Frontend+Developer&l=united+states&t=1&cursor=ABQACQC0AAAAAAAAAAAAAAACDzKQPAECAQcQCU7ioluPscBSZar%2FggdcCUz7dvbY%2FceBZRtGQkyvVFK2BO399%2FREzqQ%2FF6sjQsF3JxvEJWmGmA%3D%3D&job=Pbab1baJpeE2BSiNgIEeAGCs1b2BW13Slw2siQiCxV9Q6yUECkuG8g\n",
      "https://www.simplyhired.com/search?q=Frontend+Developer&l=united+states&t=1&cursor=ABQACQC0AAAAAAAAAAAAAAACDzKQPAECAQcQCU7ioluPscBSZar%2FggdcCUz7dvbY%2FceBZRtGQkyvVFK2BO399%2FREzqQ%2FF6sjQsF3JxvEJWmGmA%3D%3D&job=ddQh_TlEhik5uTwXumdwwSQcMiE7wOekpJH7LXcN8smtrd_yh1Cnlg\n",
      "https://www.simplyhired.com/search?q=Frontend+Developer&l=united+states&t=1&cursor=ABQACQC0AAAAAAAAAAAAAAACDzKQPAECAQcQCU7ioluPscBSZar%2FggdcCUz7dvbY%2FceBZRtGQkyvVFK2BO399%2FREzqQ%2FF6sjQsF3JxvEJWmGmA%3D%3D&job=r920qqOICFaLIg4uUxAzhT60mQaEe0a4fg45rGDEQfA8Z2_WRyRcZw\n"
     ]
    },
    {
     "name": "stderr",
     "output_type": "stream",
     "text": [
      "/tmp/ipykernel_5743/3381847202.py:22: FutureWarning: The frame.append method is deprecated and will be removed from pandas in a future version. Use pandas.concat instead.\n",
      "  df = df.append(page_data)\n"
     ]
    },
    {
     "name": "stdout",
     "output_type": "stream",
     "text": [
      "Page Number: 11  Page Link:  https://www.simplyhired.com/search?q=Frontend+Developer&l=united+states&t=1&cursor=ABQACgDIAAAAAAAAAAAAAAACDzKQPAEBAQcCESBVxbpJ2FL96f6%2B4U1WEaaQrF%2FHfTSZ5RwS5zmstkg1uw%3D%3D\n",
      "https://www.simplyhired.com/search?q=Frontend+Developer&l=united+states&t=1&cursor=ABQACgDIAAAAAAAAAAAAAAACDzKQPAEBAQcCESBVxbpJ2FL96f6%2B4U1WEaaQrF%2FHfTSZ5RwS5zmstkg1uw%3D%3D&job=S4mhRDZYFq8kFY0TJCRPOpAqWFm35p1nv1RM2sFaZFG4300dHSltnA\n",
      "https://www.simplyhired.com/search?q=Frontend+Developer&l=united+states&t=1&cursor=ABQACgDIAAAAAAAAAAAAAAACDzKQPAEBAQcCESBVxbpJ2FL96f6%2B4U1WEaaQrF%2FHfTSZ5RwS5zmstkg1uw%3D%3D&job=hjz1YTrepaZc3spxcohHatXx6rOfM5adXzOOQczE90GAaDDrcrFYjw\n",
      "https://www.simplyhired.com/search?q=Frontend+Developer&l=united+states&t=1&cursor=ABQACgDIAAAAAAAAAAAAAAACDzKQPAEBAQcCESBVxbpJ2FL96f6%2B4U1WEaaQrF%2FHfTSZ5RwS5zmstkg1uw%3D%3D&job=gMfftJYdJOYgz-gn8p5oeoECSrjrbm3phtEV_n_ZL9pJ8iJ6-u8TpQ\n",
      "https://www.simplyhired.com/search?q=Frontend+Developer&l=united+states&t=1&cursor=ABQACgDIAAAAAAAAAAAAAAACDzKQPAEBAQcCESBVxbpJ2FL96f6%2B4U1WEaaQrF%2FHfTSZ5RwS5zmstkg1uw%3D%3D&job=tRVb8KYLKDpQSv9MGwn5T7WZ_Zbe0JHNpAbvX-JVagl9A0t4lNlcVg\n",
      "https://www.simplyhired.com/search?q=Frontend+Developer&l=united+states&t=1&cursor=ABQACgDIAAAAAAAAAAAAAAACDzKQPAEBAQcCESBVxbpJ2FL96f6%2B4U1WEaaQrF%2FHfTSZ5RwS5zmstkg1uw%3D%3D&job=H0iONYHga-xWLstYOZQJVVRC_kNmmgzKUSpywZ02oUv8Sc4L1D9tSQ\n",
      "https://www.simplyhired.com/search?q=Frontend+Developer&l=united+states&t=1&cursor=ABQACgDIAAAAAAAAAAAAAAACDzKQPAEBAQcCESBVxbpJ2FL96f6%2B4U1WEaaQrF%2FHfTSZ5RwS5zmstkg1uw%3D%3D&job=Zirs_yNS5h7jMeYUFTex9X26Ts85OkvI6loznRbNn4eIHg4Q2LBUig\n",
      "https://www.simplyhired.com/search?q=Frontend+Developer&l=united+states&t=1&cursor=ABQACgDIAAAAAAAAAAAAAAACDzKQPAEBAQcCESBVxbpJ2FL96f6%2B4U1WEaaQrF%2FHfTSZ5RwS5zmstkg1uw%3D%3D&job=e4YSfEOYk0TQTh5pc57Ykdbf7mvKjQlNwABBequZJOWgwD5ucIq8Dg\n",
      "https://www.simplyhired.com/search?q=Frontend+Developer&l=united+states&t=1&cursor=ABQACgDIAAAAAAAAAAAAAAACDzKQPAEBAQcCESBVxbpJ2FL96f6%2B4U1WEaaQrF%2FHfTSZ5RwS5zmstkg1uw%3D%3D&job=Mxr2n3tANHTqwuzaEn3dDgmHH6g_Ow4mFu17gfTgJqz8CrS2Aph0FQ\n",
      "https://www.simplyhired.com/search?q=Frontend+Developer&l=united+states&t=1&cursor=ABQACgDIAAAAAAAAAAAAAAACDzKQPAEBAQcCESBVxbpJ2FL96f6%2B4U1WEaaQrF%2FHfTSZ5RwS5zmstkg1uw%3D%3D&job=6XAP0R2sHiKm6h6iYH9jkc1W5qj52jicyAfGIVb8doPcRLaFJHaFwg\n",
      "https://www.simplyhired.com/search?q=Frontend+Developer&l=united+states&t=1&cursor=ABQACgDIAAAAAAAAAAAAAAACDzKQPAEBAQcCESBVxbpJ2FL96f6%2B4U1WEaaQrF%2FHfTSZ5RwS5zmstkg1uw%3D%3D&job=doVwZIoU4IJ89MPmuwJpg47ZHW3rfGG4SeHh1XAtQR2XQhoaE0Gx0A\n",
      "https://www.simplyhired.com/search?q=Frontend+Developer&l=united+states&t=1&cursor=ABQACgDIAAAAAAAAAAAAAAACDzKQPAEBAQcCESBVxbpJ2FL96f6%2B4U1WEaaQrF%2FHfTSZ5RwS5zmstkg1uw%3D%3D&job=vzvu8wTYn4cFiFYZ8igGiDhuGlSL2ODi1Ydjm7cE8C-aBwkO1zzjHA\n",
      "https://www.simplyhired.com/search?q=Frontend+Developer&l=united+states&t=1&cursor=ABQACgDIAAAAAAAAAAAAAAACDzKQPAEBAQcCESBVxbpJ2FL96f6%2B4U1WEaaQrF%2FHfTSZ5RwS5zmstkg1uw%3D%3D&job=ge-O-bJmm1qCl1r875PITqvuBdG_38QdgGGXSjrAwrsoS0W8jtpECw\n",
      "https://www.simplyhired.com/search?q=Frontend+Developer&l=united+states&t=1&cursor=ABQACgDIAAAAAAAAAAAAAAACDzKQPAEBAQcCESBVxbpJ2FL96f6%2B4U1WEaaQrF%2FHfTSZ5RwS5zmstkg1uw%3D%3D&job=1Q3iQIgdGSVhqx_6N_w7vTBtC2-c24XFEc6YRmmu9jE7HZffXMvdvg\n",
      "https://www.simplyhired.com/search?q=Frontend+Developer&l=united+states&t=1&cursor=ABQACgDIAAAAAAAAAAAAAAACDzKQPAEBAQcCESBVxbpJ2FL96f6%2B4U1WEaaQrF%2FHfTSZ5RwS5zmstkg1uw%3D%3D&job=TlGSy8t9cvcBGXpk97IzsgD8IrUZrsaJIc1ok-PIH1kgszce0vDjJQ\n",
      "https://www.simplyhired.com/search?q=Frontend+Developer&l=united+states&t=1&cursor=ABQACgDIAAAAAAAAAAAAAAACDzKQPAEBAQcCESBVxbpJ2FL96f6%2B4U1WEaaQrF%2FHfTSZ5RwS5zmstkg1uw%3D%3D&job=9mwIj59plnhRuUuvM76m1VYyc5EonMzq_Q--_OlDRhi_L1K1R9UvzQ\n",
      "https://www.simplyhired.com/search?q=Frontend+Developer&l=united+states&t=1&cursor=ABQACgDIAAAAAAAAAAAAAAACDzKQPAEBAQcCESBVxbpJ2FL96f6%2B4U1WEaaQrF%2FHfTSZ5RwS5zmstkg1uw%3D%3D&job=Fmb6ZRI5oUBmY06Oy_ZbfX0F9OY-Ku-vCLWjAwdyPsQs2GWqyeR5Kg\n",
      "https://www.simplyhired.com/search?q=Frontend+Developer&l=united+states&t=1&cursor=ABQACgDIAAAAAAAAAAAAAAACDzKQPAEBAQcCESBVxbpJ2FL96f6%2B4U1WEaaQrF%2FHfTSZ5RwS5zmstkg1uw%3D%3D&job=JXDXrrEwlIY1_tNm36qz63VP3DGbC55w6C_5GqQ_03VCgxP9sRs0EA\n",
      "https://www.simplyhired.com/search?q=Frontend+Developer&l=united+states&t=1&cursor=ABQACgDIAAAAAAAAAAAAAAACDzKQPAEBAQcCESBVxbpJ2FL96f6%2B4U1WEaaQrF%2FHfTSZ5RwS5zmstkg1uw%3D%3D&job=IUKWx5igzQ43Ib2dqVtR-UKqRYwTYYAYoiasznxSKhPt9lMQShHD0g\n",
      "https://www.simplyhired.com/search?q=Frontend+Developer&l=united+states&t=1&cursor=ABQACgDIAAAAAAAAAAAAAAACDzKQPAEBAQcCESBVxbpJ2FL96f6%2B4U1WEaaQrF%2FHfTSZ5RwS5zmstkg1uw%3D%3D&job=IEK3cC5lrGZrM9GkbpByyOqKTCMGUeEQ82QZLX8aTKs0OoCx-iLCJw\n",
      "https://www.simplyhired.com/search?q=Frontend+Developer&l=united+states&t=1&cursor=ABQACgDIAAAAAAAAAAAAAAACDzKQPAEBAQcCESBVxbpJ2FL96f6%2B4U1WEaaQrF%2FHfTSZ5RwS5zmstkg1uw%3D%3D&job=_nvgeP1nHEPFWMthRGymp_XwlMaFYG4Xzmv-_lItBZ8219xZMMgENw\n"
     ]
    },
    {
     "name": "stderr",
     "output_type": "stream",
     "text": [
      "/tmp/ipykernel_5743/3381847202.py:22: FutureWarning: The frame.append method is deprecated and will be removed from pandas in a future version. Use pandas.concat instead.\n",
      "  df = df.append(page_data)\n"
     ]
    },
    {
     "name": "stdout",
     "output_type": "stream",
     "text": [
      "Page Number: 12  Page Link:  https://www.simplyhired.com/search?q=Frontend+Developer&l=united+states&t=1&cursor=ABQACwDcAAAAAAAAAAAAAAACDzKQPAEAP2WCLjd0Rg%3D%3D\n",
      "https://www.simplyhired.com/search?q=Frontend+Developer&l=united+states&t=1&cursor=ABQACwDcAAAAAAAAAAAAAAACDzKQPAEAP2WCLjd0Rg%3D%3D&job=Hfi9iKdn1K7MUo2nszLZAfgiS3wGMbP-hptYLl_Btn25pVqytnkNgg\n",
      "https://www.simplyhired.com/search?q=Frontend+Developer&l=united+states&t=1&cursor=ABQACwDcAAAAAAAAAAAAAAACDzKQPAEAP2WCLjd0Rg%3D%3D&job=PPg0LAK5ykJ5s4Ma4TFbDfuO6r9Sl44YqsenzkDSVA64JbpoG1bCoA\n",
      "https://www.simplyhired.com/search?q=Frontend+Developer&l=united+states&t=1&cursor=ABQACwDcAAAAAAAAAAAAAAACDzKQPAEAP2WCLjd0Rg%3D%3D&job=23PR3SYVDAyDvDO2jc5uYv4up7w0fRpl6TMRf0NE3XmqRsHUfDA06g\n"
     ]
    },
    {
     "name": "stderr",
     "output_type": "stream",
     "text": [
      "/tmp/ipykernel_5743/3381847202.py:22: FutureWarning: The frame.append method is deprecated and will be removed from pandas in a future version. Use pandas.concat instead.\n",
      "  df = df.append(page_data)\n"
     ]
    },
    {
     "name": "stdout",
     "output_type": "stream",
     "text": [
      "Number of jobs for Backend Developer:255   total_page:13\n",
      "Page Number: 1  Page Link:  https://www.simplyhired.com/search?q=Backend Developer&l=united+states&t=1\n",
      "https://www.simplyhired.com/search?q=Backend Developer&l=united+states&t=1&job=sLXfoPhEd52OcBo_GIuTEi2CAmG6ep-0eKjfxSewSGXnsURcdCkwsA\n",
      "https://www.simplyhired.com/search?q=Backend Developer&l=united+states&t=1&job=-tn0ePEjzaliKNgivRdqbUNp1eDpQtQMTxdu5AI2SLQxF3plPth2qA\n",
      "https://www.simplyhired.com/search?q=Backend Developer&l=united+states&t=1&job=woLmKcccj_l3RY7i8BDxRO03tQsY391eUk50Nt2TCM9WO_ohnWQfCA\n",
      "https://www.simplyhired.com/search?q=Backend Developer&l=united+states&t=1&job=YXdEwGR97UD6NQK8ZH8LMJuWF49z0NCMwDUCvFW3rh2G4otN1LKmjA\n",
      "https://www.simplyhired.com/search?q=Backend Developer&l=united+states&t=1&job=qH-Xpoc_SYk7iaiOL777ptlOqDC7Ct9eazWwoQrOIqFrzTuodSSgow\n",
      "https://www.simplyhired.com/search?q=Backend Developer&l=united+states&t=1&job=tqpIYIvSLwrNKolZC10UuOjM_XYRQ1ud7PLLzUTg6Ix8FDLKO6gSZw\n",
      "https://www.simplyhired.com/search?q=Backend Developer&l=united+states&t=1&job=n0zOsBm6c34vQFbSFVJOjwhbPIgc9zomk_Nx8FWwZk4GuTLuHrmWrg\n",
      "https://www.simplyhired.com/search?q=Backend Developer&l=united+states&t=1&job=e70UkanJTteSp7R_1At_HaF8ClHhlo23FFtRRzIJ5znQgtzr9QnImA\n",
      "https://www.simplyhired.com/search?q=Backend Developer&l=united+states&t=1&job=uOJsyfCM2c2PqQEvacbZsKW42hCFnyqZHK3Z3lacbg3cnzOfK_asLg\n",
      "https://www.simplyhired.com/search?q=Backend Developer&l=united+states&t=1&job=Thd75SV6M1xIFrTwWnr6f0ghpkFmy_Fv6nZDZVkgqiqe61ZnLEDxCQ\n",
      "https://www.simplyhired.com/search?q=Backend Developer&l=united+states&t=1&job=zzkPubJTMld5Z6-kvRgXUFHAl4m3794cPvD_AtQ-d3gRDytKYuffCA\n",
      "https://www.simplyhired.com/search?q=Backend Developer&l=united+states&t=1&job=BeOEW3Rww9SR5ciZ2SINtc7P9zrve9qjm-NMW7Z6SkaDZ-xhOEhoaQ\n",
      "https://www.simplyhired.com/search?q=Backend Developer&l=united+states&t=1&job=iy4u3wls4jcx0RJPY4iorbMr2i__A2Oj0cmuHwrP01IFQGZQAO-9mA\n",
      "https://www.simplyhired.com/search?q=Backend Developer&l=united+states&t=1&job=XPxrloC0w04L28o6EPt93dOryY09l2Sr-gPBbHJCch7S7Zdz0h1A6w\n",
      "https://www.simplyhired.com/search?q=Backend Developer&l=united+states&t=1&job=U59z32K3GLu3xuawp_8-Pik0aURPqzguJ2t0kFdkF_7_8K5IsGClig\n",
      "https://www.simplyhired.com/search?q=Backend Developer&l=united+states&t=1&job=I4IHNuyVc6d7uy-VNxSsLa4bE64HyoqK9z_w6Dx_wZWd3RjPHHO_Sw\n",
      "https://www.simplyhired.com/search?q=Backend Developer&l=united+states&t=1&job=fToF2xXlm8esFky3y9JOldmMGFGG9omgyVCnCOmgzQB4mXRrPjxDhQ\n",
      "https://www.simplyhired.com/search?q=Backend Developer&l=united+states&t=1&job=BMbG9rnL6vrXkbgojV4xemecmxPMHMo-Ie5hFG_qkKLQ_jzTfhLKiA\n",
      "https://www.simplyhired.com/search?q=Backend Developer&l=united+states&t=1&job=vBNq49ioMhu11YhyZjbzRTCuyevlJIu89U7Nk_7zt-OLlKPtJDwsiw\n",
      "https://www.simplyhired.com/search?q=Backend Developer&l=united+states&t=1&job=QNpcqfGV4Nw6d1rDIistRaNZ5zNOa7Sp8oRO2Q4z4FnZgOhKOw5Vpw\n"
     ]
    },
    {
     "name": "stderr",
     "output_type": "stream",
     "text": [
      "/tmp/ipykernel_5743/3381847202.py:22: FutureWarning: The frame.append method is deprecated and will be removed from pandas in a future version. Use pandas.concat instead.\n",
      "  df = df.append(page_data)\n"
     ]
    },
    {
     "name": "stdout",
     "output_type": "stream",
     "text": [
      "Page Number: 2  Page Link:  https://www.simplyhired.com/search?q=Backend+Developer&l=united+states&t=1&cursor=ABQAAQAUAAAAAAAAAAAAAAACDzJ8QwEBAQckU5CBE%2FrLj8OvVHGljXm6WHIBst9L1KzlCwBkHfB6vyk%3D\n",
      "https://www.simplyhired.com/search?q=Backend+Developer&l=united+states&t=1&cursor=ABQAAQAUAAAAAAAAAAAAAAACDzJ8QwEBAQckU5CBE%2FrLj8OvVHGljXm6WHIBst9L1KzlCwBkHfB6vyk%3D&job=0p_pKoEAA5saumYOWrD4wK6YD5R1GS3hgDHQa5Nl5FFwJRUF8tktLA\n",
      "https://www.simplyhired.com/search?q=Backend+Developer&l=united+states&t=1&cursor=ABQAAQAUAAAAAAAAAAAAAAACDzJ8QwEBAQckU5CBE%2FrLj8OvVHGljXm6WHIBst9L1KzlCwBkHfB6vyk%3D&job=2Dg58cUjjfE8zgfR5NcwgQow-b6ztIZ3ylgx7KYmVTEDEK3DT-5BkA\n",
      "https://www.simplyhired.com/search?q=Backend+Developer&l=united+states&t=1&cursor=ABQAAQAUAAAAAAAAAAAAAAACDzJ8QwEBAQckU5CBE%2FrLj8OvVHGljXm6WHIBst9L1KzlCwBkHfB6vyk%3D&job=4kYa8-GXuswfbJjQivOHrBpYPnXyNpzY0B8ickJ7nc2_R6GZhg_N2A\n",
      "https://www.simplyhired.com/search?q=Backend+Developer&l=united+states&t=1&cursor=ABQAAQAUAAAAAAAAAAAAAAACDzJ8QwEBAQckU5CBE%2FrLj8OvVHGljXm6WHIBst9L1KzlCwBkHfB6vyk%3D&job=oNkv2K7C3b091FUr1Ec8OiG0aKgOfw_FwVXVAc0666FaLSJX1h5B6Q\n",
      "https://www.simplyhired.com/search?q=Backend+Developer&l=united+states&t=1&cursor=ABQAAQAUAAAAAAAAAAAAAAACDzJ8QwEBAQckU5CBE%2FrLj8OvVHGljXm6WHIBst9L1KzlCwBkHfB6vyk%3D&job=9aBs8wf1XncPfqLAR8L9zWDwv2i8iB4pkx-ScZKRkLc9Rg1bx6ADXg\n",
      "https://www.simplyhired.com/search?q=Backend+Developer&l=united+states&t=1&cursor=ABQAAQAUAAAAAAAAAAAAAAACDzJ8QwEBAQckU5CBE%2FrLj8OvVHGljXm6WHIBst9L1KzlCwBkHfB6vyk%3D&job=_f2TITNBF0trGpT87Bx4B91PUuIrwdEmKNDb7Gf-v5dDofXBdpjKhw\n",
      "https://www.simplyhired.com/search?q=Backend+Developer&l=united+states&t=1&cursor=ABQAAQAUAAAAAAAAAAAAAAACDzJ8QwEBAQckU5CBE%2FrLj8OvVHGljXm6WHIBst9L1KzlCwBkHfB6vyk%3D&job=xQUe8Rm0C2acsndCNYOFUge3JFOoGnHV49q6oNTWQiebJG3gMHS8Yg\n",
      "https://www.simplyhired.com/search?q=Backend+Developer&l=united+states&t=1&cursor=ABQAAQAUAAAAAAAAAAAAAAACDzJ8QwEBAQckU5CBE%2FrLj8OvVHGljXm6WHIBst9L1KzlCwBkHfB6vyk%3D&job=GY5c-PlZWlKPocKfY-dCX6R9az3ph-iJqE1hnm-_FnjDfRLuDtuleg\n",
      "https://www.simplyhired.com/search?q=Backend+Developer&l=united+states&t=1&cursor=ABQAAQAUAAAAAAAAAAAAAAACDzJ8QwEBAQckU5CBE%2FrLj8OvVHGljXm6WHIBst9L1KzlCwBkHfB6vyk%3D&job=Lr3SA3EXzjScZUIJFM_cqkKwwOFNWdl74OQoZk79O-Ekpe0lWNjTOA\n",
      "https://www.simplyhired.com/search?q=Backend+Developer&l=united+states&t=1&cursor=ABQAAQAUAAAAAAAAAAAAAAACDzJ8QwEBAQckU5CBE%2FrLj8OvVHGljXm6WHIBst9L1KzlCwBkHfB6vyk%3D&job=s7W059y9TZZ-oQlOVpOyLSgZduD0xvIHLFkWx2-9R29X8vUCy3lBLg\n",
      "https://www.simplyhired.com/search?q=Backend+Developer&l=united+states&t=1&cursor=ABQAAQAUAAAAAAAAAAAAAAACDzJ8QwEBAQckU5CBE%2FrLj8OvVHGljXm6WHIBst9L1KzlCwBkHfB6vyk%3D&job=YCJ4l0h1hT1eJrQxB7tvNJUb5gLNvFpO-VtxRJyxNXIpXNykq0hn4A\n",
      "https://www.simplyhired.com/search?q=Backend+Developer&l=united+states&t=1&cursor=ABQAAQAUAAAAAAAAAAAAAAACDzJ8QwEBAQckU5CBE%2FrLj8OvVHGljXm6WHIBst9L1KzlCwBkHfB6vyk%3D&job=QlOAiV_u1v2GCznRvp6wVH-FjtOERt4FdXT4wXT4UyqKZpJ-BmWhdg\n",
      "https://www.simplyhired.com/search?q=Backend+Developer&l=united+states&t=1&cursor=ABQAAQAUAAAAAAAAAAAAAAACDzJ8QwEBAQckU5CBE%2FrLj8OvVHGljXm6WHIBst9L1KzlCwBkHfB6vyk%3D&job=UaXql-3kQ85gp724X6yQ1w8V-ED8C8cMQIyS0aJE8ZoyRwX7jUvUdQ\n",
      "https://www.simplyhired.com/search?q=Backend+Developer&l=united+states&t=1&cursor=ABQAAQAUAAAAAAAAAAAAAAACDzJ8QwEBAQckU5CBE%2FrLj8OvVHGljXm6WHIBst9L1KzlCwBkHfB6vyk%3D&job=jT8kTvVrEW2JV-UHKvEUKxHBAFNiTdKQ71reK03cTTmqA32qTVn3EQ\n",
      "https://www.simplyhired.com/search?q=Backend+Developer&l=united+states&t=1&cursor=ABQAAQAUAAAAAAAAAAAAAAACDzJ8QwEBAQckU5CBE%2FrLj8OvVHGljXm6WHIBst9L1KzlCwBkHfB6vyk%3D&job=YvSW3lT8Z9-DaQ4KUNC8KGiZ7bm9pL4_0Fi8KKxcVWGI81kTPTTPzA\n",
      "https://www.simplyhired.com/search?q=Backend+Developer&l=united+states&t=1&cursor=ABQAAQAUAAAAAAAAAAAAAAACDzJ8QwEBAQckU5CBE%2FrLj8OvVHGljXm6WHIBst9L1KzlCwBkHfB6vyk%3D&job=0jNm2vmNAmQCoPQdqyMPiesuXLH1uR2vO84nAVFMX2ynns0Hmeht2w\n",
      "https://www.simplyhired.com/search?q=Backend+Developer&l=united+states&t=1&cursor=ABQAAQAUAAAAAAAAAAAAAAACDzJ8QwEBAQckU5CBE%2FrLj8OvVHGljXm6WHIBst9L1KzlCwBkHfB6vyk%3D&job=5TXXYhbhdKOao1LKXWefTXkrsUHh8WtiWN2tY530suubbzaUc69PBg\n",
      "https://www.simplyhired.com/search?q=Backend+Developer&l=united+states&t=1&cursor=ABQAAQAUAAAAAAAAAAAAAAACDzJ8QwEBAQckU5CBE%2FrLj8OvVHGljXm6WHIBst9L1KzlCwBkHfB6vyk%3D&job=PUiog_ef36n5HyfANyS0HZ9o-LUzIfG-mmBkcq3L-eYXftsns944Cw\n",
      "https://www.simplyhired.com/search?q=Backend+Developer&l=united+states&t=1&cursor=ABQAAQAUAAAAAAAAAAAAAAACDzJ8QwEBAQckU5CBE%2FrLj8OvVHGljXm6WHIBst9L1KzlCwBkHfB6vyk%3D&job=vnVB6EADjsQ-vIr6HGGJmo3NU9GPwD1WfGXp3gBHHxazjoF7Zt8UjQ\n",
      "https://www.simplyhired.com/search?q=Backend+Developer&l=united+states&t=1&cursor=ABQAAQAUAAAAAAAAAAAAAAACDzJ8QwEBAQckU5CBE%2FrLj8OvVHGljXm6WHIBst9L1KzlCwBkHfB6vyk%3D&job=mjziL9yk0p4aTQD8ggtbGKA8qCk0YcPUhFanubkLd63kgIRBsYOZ1Q\n"
     ]
    },
    {
     "name": "stderr",
     "output_type": "stream",
     "text": [
      "/tmp/ipykernel_5743/3381847202.py:22: FutureWarning: The frame.append method is deprecated and will be removed from pandas in a future version. Use pandas.concat instead.\n",
      "  df = df.append(page_data)\n"
     ]
    },
    {
     "name": "stdout",
     "output_type": "stream",
     "text": [
      "Page Number: 3  Page Link:  https://www.simplyhired.com/search?q=Backend+Developer&l=united+states&t=1&cursor=ABQAAgAoAAAAAAAAAAAAAAACDzJ8QwEBAQwLVIDhAQ4Kz5gajI4LoDLUwc%2Fk%2Fvl9GESWVnsf1pR3p5247PLCqAw9YEE4VLNeyBF6\n",
      "https://www.simplyhired.com/search?q=Backend+Developer&l=united+states&t=1&cursor=ABQAAgAoAAAAAAAAAAAAAAACDzJ8QwEBAQwLVIDhAQ4Kz5gajI4LoDLUwc%2Fk%2Fvl9GESWVnsf1pR3p5247PLCqAw9YEE4VLNeyBF6&job=FjRmbZcySWdPyJe6yZugfO5MQJrtcbfDq1NhtTgoiNVfQHN2YzY3sA\n",
      "https://www.simplyhired.com/search?q=Backend+Developer&l=united+states&t=1&cursor=ABQAAgAoAAAAAAAAAAAAAAACDzJ8QwEBAQwLVIDhAQ4Kz5gajI4LoDLUwc%2Fk%2Fvl9GESWVnsf1pR3p5247PLCqAw9YEE4VLNeyBF6&job=a7s2697GHuFwCyPboPaze6hTo4_rEyiQNHcU2G5vgjJpLcHEUZ3Tvw\n",
      "https://www.simplyhired.com/search?q=Backend+Developer&l=united+states&t=1&cursor=ABQAAgAoAAAAAAAAAAAAAAACDzJ8QwEBAQwLVIDhAQ4Kz5gajI4LoDLUwc%2Fk%2Fvl9GESWVnsf1pR3p5247PLCqAw9YEE4VLNeyBF6&job=mKnvNW8fWpniMf2y9c4Zu4ZMH-6_U_8oekseJZz6lC2tWVJqvRGmTg\n",
      "https://www.simplyhired.com/search?q=Backend+Developer&l=united+states&t=1&cursor=ABQAAgAoAAAAAAAAAAAAAAACDzJ8QwEBAQwLVIDhAQ4Kz5gajI4LoDLUwc%2Fk%2Fvl9GESWVnsf1pR3p5247PLCqAw9YEE4VLNeyBF6&job=F_aFi4tFFoYWAwAxfE_gS7IBeymEBDIWI6dhVy9pt6C5wYphjA95GQ\n",
      "https://www.simplyhired.com/search?q=Backend+Developer&l=united+states&t=1&cursor=ABQAAgAoAAAAAAAAAAAAAAACDzJ8QwEBAQwLVIDhAQ4Kz5gajI4LoDLUwc%2Fk%2Fvl9GESWVnsf1pR3p5247PLCqAw9YEE4VLNeyBF6&job=Eus3-7K_6XZWivx_GWJyqego-Au7bQK4jIwlSrTsLQGlABRSDh4N7w\n",
      "https://www.simplyhired.com/search?q=Backend+Developer&l=united+states&t=1&cursor=ABQAAgAoAAAAAAAAAAAAAAACDzJ8QwEBAQwLVIDhAQ4Kz5gajI4LoDLUwc%2Fk%2Fvl9GESWVnsf1pR3p5247PLCqAw9YEE4VLNeyBF6&job=CfOPjkqjjUgF_IhD-wuTSW7AmHbkSbh8zMICPrsRJlFmW4r32KvEYg\n",
      "https://www.simplyhired.com/search?q=Backend+Developer&l=united+states&t=1&cursor=ABQAAgAoAAAAAAAAAAAAAAACDzJ8QwEBAQwLVIDhAQ4Kz5gajI4LoDLUwc%2Fk%2Fvl9GESWVnsf1pR3p5247PLCqAw9YEE4VLNeyBF6&job=3jGxSCDMZyy7le6324VdCNLjiv8sR8pkZQXt-YA0AyeF6un2ddjjOw\n",
      "https://www.simplyhired.com/search?q=Backend+Developer&l=united+states&t=1&cursor=ABQAAgAoAAAAAAAAAAAAAAACDzJ8QwEBAQwLVIDhAQ4Kz5gajI4LoDLUwc%2Fk%2Fvl9GESWVnsf1pR3p5247PLCqAw9YEE4VLNeyBF6&job=Mj9rhDLT5YBAX_spD6xyrP-n19DCtSZqFToDqfWN6yhijYhPyTV0sQ\n",
      "https://www.simplyhired.com/search?q=Backend+Developer&l=united+states&t=1&cursor=ABQAAgAoAAAAAAAAAAAAAAACDzJ8QwEBAQwLVIDhAQ4Kz5gajI4LoDLUwc%2Fk%2Fvl9GESWVnsf1pR3p5247PLCqAw9YEE4VLNeyBF6&job=RN7aDIeEVuTZ0Xf_O9LnW3izYzaS1PB8K7M2bgBpucpPX1Pnan1USw\n",
      "https://www.simplyhired.com/search?q=Backend+Developer&l=united+states&t=1&cursor=ABQAAgAoAAAAAAAAAAAAAAACDzJ8QwEBAQwLVIDhAQ4Kz5gajI4LoDLUwc%2Fk%2Fvl9GESWVnsf1pR3p5247PLCqAw9YEE4VLNeyBF6&job=OcQMHAsMGJelVg_Bl1DePKlVTiKDvcTMa9NPlmAuO6CiXMk8srZo7A\n",
      "https://www.simplyhired.com/search?q=Backend+Developer&l=united+states&t=1&cursor=ABQAAgAoAAAAAAAAAAAAAAACDzJ8QwEBAQwLVIDhAQ4Kz5gajI4LoDLUwc%2Fk%2Fvl9GESWVnsf1pR3p5247PLCqAw9YEE4VLNeyBF6&job=8BGERXZ1dG0-57wa9KEUA_T2sk6wMDWecGFiqnuwJkbfPZUYQfaT7w\n",
      "https://www.simplyhired.com/search?q=Backend+Developer&l=united+states&t=1&cursor=ABQAAgAoAAAAAAAAAAAAAAACDzJ8QwEBAQwLVIDhAQ4Kz5gajI4LoDLUwc%2Fk%2Fvl9GESWVnsf1pR3p5247PLCqAw9YEE4VLNeyBF6&job=_tceXH4I9DFZQ0LcZ79JyKSlnPD8x6TBtxpfgyccqbBoWdmY4DBdSA\n",
      "https://www.simplyhired.com/search?q=Backend+Developer&l=united+states&t=1&cursor=ABQAAgAoAAAAAAAAAAAAAAACDzJ8QwEBAQwLVIDhAQ4Kz5gajI4LoDLUwc%2Fk%2Fvl9GESWVnsf1pR3p5247PLCqAw9YEE4VLNeyBF6&job=Y5RutgwhJLMeicFOuvmRvGkYOjldTQgDxV9u66wTLmoNuh7SFcBMBQ\n",
      "https://www.simplyhired.com/search?q=Backend+Developer&l=united+states&t=1&cursor=ABQAAgAoAAAAAAAAAAAAAAACDzJ8QwEBAQwLVIDhAQ4Kz5gajI4LoDLUwc%2Fk%2Fvl9GESWVnsf1pR3p5247PLCqAw9YEE4VLNeyBF6&job=IPMFHsAOFICXGbvtFzObEspnJYmMYX9WtGWC9NqVAaDyBKPHxGugrQ\n",
      "https://www.simplyhired.com/search?q=Backend+Developer&l=united+states&t=1&cursor=ABQAAgAoAAAAAAAAAAAAAAACDzJ8QwEBAQwLVIDhAQ4Kz5gajI4LoDLUwc%2Fk%2Fvl9GESWVnsf1pR3p5247PLCqAw9YEE4VLNeyBF6&job=qqclQTWlCyG26hBFCcTnR46-QSau-bQ_EjENIBysda8ugY2Wuf0nAQ\n",
      "https://www.simplyhired.com/search?q=Backend+Developer&l=united+states&t=1&cursor=ABQAAgAoAAAAAAAAAAAAAAACDzJ8QwEBAQwLVIDhAQ4Kz5gajI4LoDLUwc%2Fk%2Fvl9GESWVnsf1pR3p5247PLCqAw9YEE4VLNeyBF6&job=uQXrx7eOxp7710vDXXNA4t04z91-qQnCJJQeKP_Y41h2rNmDuZCO4g\n",
      "https://www.simplyhired.com/search?q=Backend+Developer&l=united+states&t=1&cursor=ABQAAgAoAAAAAAAAAAAAAAACDzJ8QwEBAQwLVIDhAQ4Kz5gajI4LoDLUwc%2Fk%2Fvl9GESWVnsf1pR3p5247PLCqAw9YEE4VLNeyBF6&job=-kN7sEgzQoN2t2J28qRwuuzRZff54PEGvsm3kz-3TFNYabcaS4eIfQ\n",
      "https://www.simplyhired.com/search?q=Backend+Developer&l=united+states&t=1&cursor=ABQAAgAoAAAAAAAAAAAAAAACDzJ8QwEBAQwLVIDhAQ4Kz5gajI4LoDLUwc%2Fk%2Fvl9GESWVnsf1pR3p5247PLCqAw9YEE4VLNeyBF6&job=pG7lhK815A1qmEBP11Rfp4niNrY4yclmg7qLxxpsPjJRSrdv8b4r_w\n",
      "https://www.simplyhired.com/search?q=Backend+Developer&l=united+states&t=1&cursor=ABQAAgAoAAAAAAAAAAAAAAACDzJ8QwEBAQwLVIDhAQ4Kz5gajI4LoDLUwc%2Fk%2Fvl9GESWVnsf1pR3p5247PLCqAw9YEE4VLNeyBF6&job=JIxjt0W6SsF91BefWuS4vPnSQGDcvafo1Pxru1ogH4msec-go05naA\n",
      "https://www.simplyhired.com/search?q=Backend+Developer&l=united+states&t=1&cursor=ABQAAgAoAAAAAAAAAAAAAAACDzJ8QwEBAQwLVIDhAQ4Kz5gajI4LoDLUwc%2Fk%2Fvl9GESWVnsf1pR3p5247PLCqAw9YEE4VLNeyBF6&job=gQNRJ22TCUIlUsG7vzL-2EOLOvgXm2rQIGmH3BB4FR1da1L3FZSIUQ\n"
     ]
    },
    {
     "name": "stderr",
     "output_type": "stream",
     "text": [
      "/tmp/ipykernel_5743/3381847202.py:22: FutureWarning: The frame.append method is deprecated and will be removed from pandas in a future version. Use pandas.concat instead.\n",
      "  df = df.append(page_data)\n"
     ]
    },
    {
     "name": "stdout",
     "output_type": "stream",
     "text": [
      "Page Number: 4  Page Link:  https://www.simplyhired.com/search?q=Backend+Developer&l=united+states&t=1&cursor=ABQAAwA8AAAAAAAAAAAAAAACDzJ8QwEBAQwCqQpLWRcOLXgyy6rOiSWHlSsSgsGHPVETnY8lqJk0xIKzHK5tem%2BDwgHy9u3mbc4dGP%2FtOeaJDW3Ir0Lxf2d8\n",
      "https://www.simplyhired.com/search?q=Backend+Developer&l=united+states&t=1&cursor=ABQAAwA8AAAAAAAAAAAAAAACDzJ8QwEBAQwCqQpLWRcOLXgyy6rOiSWHlSsSgsGHPVETnY8lqJk0xIKzHK5tem%2BDwgHy9u3mbc4dGP%2FtOeaJDW3Ir0Lxf2d8&job=4yWwlb8wlegSUMCMgniazuqBvTisNep1EC8e9a6wI5LiXul0VMhh5A\n",
      "https://www.simplyhired.com/search?q=Backend+Developer&l=united+states&t=1&cursor=ABQAAwA8AAAAAAAAAAAAAAACDzJ8QwEBAQwCqQpLWRcOLXgyy6rOiSWHlSsSgsGHPVETnY8lqJk0xIKzHK5tem%2BDwgHy9u3mbc4dGP%2FtOeaJDW3Ir0Lxf2d8&job=YdR5eu9okt2jouJr0MIDRZdlwdYbwTlZma0lAA9OXjMDgRmU5Gqtyw\n",
      "https://www.simplyhired.com/search?q=Backend+Developer&l=united+states&t=1&cursor=ABQAAwA8AAAAAAAAAAAAAAACDzJ8QwEBAQwCqQpLWRcOLXgyy6rOiSWHlSsSgsGHPVETnY8lqJk0xIKzHK5tem%2BDwgHy9u3mbc4dGP%2FtOeaJDW3Ir0Lxf2d8&job=twB_w7MYMR1XzBDXEboir1_7KqCNfJPp26qX2WgGpqyXcN9jR61fIg\n",
      "https://www.simplyhired.com/search?q=Backend+Developer&l=united+states&t=1&cursor=ABQAAwA8AAAAAAAAAAAAAAACDzJ8QwEBAQwCqQpLWRcOLXgyy6rOiSWHlSsSgsGHPVETnY8lqJk0xIKzHK5tem%2BDwgHy9u3mbc4dGP%2FtOeaJDW3Ir0Lxf2d8&job=4116M1axO1S5tm3VK61fvFtEUaj6oPj4RZiPd3kEjcGaeP_zbGrteg\n",
      "https://www.simplyhired.com/search?q=Backend+Developer&l=united+states&t=1&cursor=ABQAAwA8AAAAAAAAAAAAAAACDzJ8QwEBAQwCqQpLWRcOLXgyy6rOiSWHlSsSgsGHPVETnY8lqJk0xIKzHK5tem%2BDwgHy9u3mbc4dGP%2FtOeaJDW3Ir0Lxf2d8&job=CPE6REbJw70cQx4-Ic8vhepulDIOK5sebJRZ1uUKkwI3sG-0bqAmNg\n",
      "https://www.simplyhired.com/search?q=Backend+Developer&l=united+states&t=1&cursor=ABQAAwA8AAAAAAAAAAAAAAACDzJ8QwEBAQwCqQpLWRcOLXgyy6rOiSWHlSsSgsGHPVETnY8lqJk0xIKzHK5tem%2BDwgHy9u3mbc4dGP%2FtOeaJDW3Ir0Lxf2d8&job=_HzYM8AVdo2Qlo2UV718cOqNuH9NzDngLIWpk2PDJHpdCqUa1Hlp9Q\n",
      "https://www.simplyhired.com/search?q=Backend+Developer&l=united+states&t=1&cursor=ABQAAwA8AAAAAAAAAAAAAAACDzJ8QwEBAQwCqQpLWRcOLXgyy6rOiSWHlSsSgsGHPVETnY8lqJk0xIKzHK5tem%2BDwgHy9u3mbc4dGP%2FtOeaJDW3Ir0Lxf2d8&job=cCxM6-FKIltVcKUFIhaLMcxeymOltREAfrpx9ccR-KbtPWv6Kql5Hw\n",
      "https://www.simplyhired.com/search?q=Backend+Developer&l=united+states&t=1&cursor=ABQAAwA8AAAAAAAAAAAAAAACDzJ8QwEBAQwCqQpLWRcOLXgyy6rOiSWHlSsSgsGHPVETnY8lqJk0xIKzHK5tem%2BDwgHy9u3mbc4dGP%2FtOeaJDW3Ir0Lxf2d8&job=4-iDmXKfwK2fWTNuD-JLPBJX6bMowceEgv6kG1eH4e_o-rzB6EN3oA\n",
      "https://www.simplyhired.com/search?q=Backend+Developer&l=united+states&t=1&cursor=ABQAAwA8AAAAAAAAAAAAAAACDzJ8QwEBAQwCqQpLWRcOLXgyy6rOiSWHlSsSgsGHPVETnY8lqJk0xIKzHK5tem%2BDwgHy9u3mbc4dGP%2FtOeaJDW3Ir0Lxf2d8&job=xM3Lzv3RhxA9u48hn0eWtNICtSyk8irWEBwr_H2J1jOFFqQI65Gpzw\n",
      "https://www.simplyhired.com/search?q=Backend+Developer&l=united+states&t=1&cursor=ABQAAwA8AAAAAAAAAAAAAAACDzJ8QwEBAQwCqQpLWRcOLXgyy6rOiSWHlSsSgsGHPVETnY8lqJk0xIKzHK5tem%2BDwgHy9u3mbc4dGP%2FtOeaJDW3Ir0Lxf2d8&job=rhDQCv7zAmBWD1kOP7Mm8FiU2rOCFQwvLEXYypPa1fDKqv7qTxvm4Q\n",
      "https://www.simplyhired.com/search?q=Backend+Developer&l=united+states&t=1&cursor=ABQAAwA8AAAAAAAAAAAAAAACDzJ8QwEBAQwCqQpLWRcOLXgyy6rOiSWHlSsSgsGHPVETnY8lqJk0xIKzHK5tem%2BDwgHy9u3mbc4dGP%2FtOeaJDW3Ir0Lxf2d8&job=pyDM8vuYnSHnssHJrgLF7QDjSg2Wvn2JHcOb635wp5ydl-TqDYLWMQ\n",
      "https://www.simplyhired.com/search?q=Backend+Developer&l=united+states&t=1&cursor=ABQAAwA8AAAAAAAAAAAAAAACDzJ8QwEBAQwCqQpLWRcOLXgyy6rOiSWHlSsSgsGHPVETnY8lqJk0xIKzHK5tem%2BDwgHy9u3mbc4dGP%2FtOeaJDW3Ir0Lxf2d8&job=lYKN6OoZpu-Kps6xSUC320heQzAIsve6tGKza1NZwMuVRmJu-NR_Yg\n",
      "https://www.simplyhired.com/search?q=Backend+Developer&l=united+states&t=1&cursor=ABQAAwA8AAAAAAAAAAAAAAACDzJ8QwEBAQwCqQpLWRcOLXgyy6rOiSWHlSsSgsGHPVETnY8lqJk0xIKzHK5tem%2BDwgHy9u3mbc4dGP%2FtOeaJDW3Ir0Lxf2d8&job=IKeFsnaYl9UIQeFM5ctjI5vNOh5glmU3HMwaVgLLYumoVBbl7hwxiQ\n",
      "https://www.simplyhired.com/search?q=Backend+Developer&l=united+states&t=1&cursor=ABQAAwA8AAAAAAAAAAAAAAACDzJ8QwEBAQwCqQpLWRcOLXgyy6rOiSWHlSsSgsGHPVETnY8lqJk0xIKzHK5tem%2BDwgHy9u3mbc4dGP%2FtOeaJDW3Ir0Lxf2d8&job=t4ug9B5M74gCxJo2xzm0RXdSPxMZK4DXQ--Rk11DaLj5Fr6MJ_NBJw\n",
      "https://www.simplyhired.com/search?q=Backend+Developer&l=united+states&t=1&cursor=ABQAAwA8AAAAAAAAAAAAAAACDzJ8QwEBAQwCqQpLWRcOLXgyy6rOiSWHlSsSgsGHPVETnY8lqJk0xIKzHK5tem%2BDwgHy9u3mbc4dGP%2FtOeaJDW3Ir0Lxf2d8&job=yos9cbR7A9rM2gWCcnaqs9MFd7kvtDBB8ON7hXKNBW1QkRJ5yBRRyw\n",
      "https://www.simplyhired.com/search?q=Backend+Developer&l=united+states&t=1&cursor=ABQAAwA8AAAAAAAAAAAAAAACDzJ8QwEBAQwCqQpLWRcOLXgyy6rOiSWHlSsSgsGHPVETnY8lqJk0xIKzHK5tem%2BDwgHy9u3mbc4dGP%2FtOeaJDW3Ir0Lxf2d8&job=F8wlI_NaJxU1lCEL6q55pPCLf9PHUN3wU5L1KdIB22ToOy1d6qmZmQ\n",
      "https://www.simplyhired.com/search?q=Backend+Developer&l=united+states&t=1&cursor=ABQAAwA8AAAAAAAAAAAAAAACDzJ8QwEBAQwCqQpLWRcOLXgyy6rOiSWHlSsSgsGHPVETnY8lqJk0xIKzHK5tem%2BDwgHy9u3mbc4dGP%2FtOeaJDW3Ir0Lxf2d8&job=p7XZ6S_yMZF0QjUjhppm9DJm-OSUJfsUSQa1jDiwbkuIYy7TgswVcQ\n",
      "https://www.simplyhired.com/search?q=Backend+Developer&l=united+states&t=1&cursor=ABQAAwA8AAAAAAAAAAAAAAACDzJ8QwEBAQwCqQpLWRcOLXgyy6rOiSWHlSsSgsGHPVETnY8lqJk0xIKzHK5tem%2BDwgHy9u3mbc4dGP%2FtOeaJDW3Ir0Lxf2d8&job=vzLVP-FzmVWhXFfzYn5iZDXBLKA9_9ezQCFpqahCLqBTkv9YwqcKmw\n",
      "https://www.simplyhired.com/search?q=Backend+Developer&l=united+states&t=1&cursor=ABQAAwA8AAAAAAAAAAAAAAACDzJ8QwEBAQwCqQpLWRcOLXgyy6rOiSWHlSsSgsGHPVETnY8lqJk0xIKzHK5tem%2BDwgHy9u3mbc4dGP%2FtOeaJDW3Ir0Lxf2d8&job=1F47WHNZ4gz4YnynF8mEEReNBZ3FpSsSUPEFfVIS_MvJ5n_qfpij3w\n",
      "https://www.simplyhired.com/search?q=Backend+Developer&l=united+states&t=1&cursor=ABQAAwA8AAAAAAAAAAAAAAACDzJ8QwEBAQwCqQpLWRcOLXgyy6rOiSWHlSsSgsGHPVETnY8lqJk0xIKzHK5tem%2BDwgHy9u3mbc4dGP%2FtOeaJDW3Ir0Lxf2d8&job=Q35DtDqsNEYdTndL2oOJHWd7Uw0kWGvGSoIsk87R23g81Mmbj7lczw\n"
     ]
    },
    {
     "name": "stderr",
     "output_type": "stream",
     "text": [
      "/tmp/ipykernel_5743/3381847202.py:22: FutureWarning: The frame.append method is deprecated and will be removed from pandas in a future version. Use pandas.concat instead.\n",
      "  df = df.append(page_data)\n"
     ]
    },
    {
     "name": "stdout",
     "output_type": "stream",
     "text": [
      "Page Number: 5  Page Link:  https://www.simplyhired.com/search?q=Backend+Developer&l=united+states&t=1&cursor=ABQABABQAAAAAAAAAAAAAAACDzJ8QwECARQyCROncJYU4uUA7UjyubnFuEv%2BWUpn51th%2BASHF5b5w0nDCdwyTtd27tPPdUN8Sv%2BNmyfxKBqPPbQiNzKQ9srTW9pmjNgiR5U%3D\n",
      "https://www.simplyhired.com/search?q=Backend+Developer&l=united+states&t=1&cursor=ABQABABQAAAAAAAAAAAAAAACDzJ8QwECARQyCROncJYU4uUA7UjyubnFuEv%2BWUpn51th%2BASHF5b5w0nDCdwyTtd27tPPdUN8Sv%2BNmyfxKBqPPbQiNzKQ9srTW9pmjNgiR5U%3D&job=PKBqqXFzj0tQ6eFWceFeUPDHHW24F-wpPZ3Rz3tAQchg2J-NEPMZng\n",
      "https://www.simplyhired.com/search?q=Backend+Developer&l=united+states&t=1&cursor=ABQABABQAAAAAAAAAAAAAAACDzJ8QwECARQyCROncJYU4uUA7UjyubnFuEv%2BWUpn51th%2BASHF5b5w0nDCdwyTtd27tPPdUN8Sv%2BNmyfxKBqPPbQiNzKQ9srTW9pmjNgiR5U%3D&job=eDI4Az2nNju7eqAe1jxXmsta8mCmsNV8rHwL79tl4ehoFo3nMvbONw\n",
      "https://www.simplyhired.com/search?q=Backend+Developer&l=united+states&t=1&cursor=ABQABABQAAAAAAAAAAAAAAACDzJ8QwECARQyCROncJYU4uUA7UjyubnFuEv%2BWUpn51th%2BASHF5b5w0nDCdwyTtd27tPPdUN8Sv%2BNmyfxKBqPPbQiNzKQ9srTW9pmjNgiR5U%3D&job=kSnSjiRUdn6m5-zx1694KmTYk02Iorxy1I_ffIMT5r-f0QCxshS3gg\n",
      "https://www.simplyhired.com/search?q=Backend+Developer&l=united+states&t=1&cursor=ABQABABQAAAAAAAAAAAAAAACDzJ8QwECARQyCROncJYU4uUA7UjyubnFuEv%2BWUpn51th%2BASHF5b5w0nDCdwyTtd27tPPdUN8Sv%2BNmyfxKBqPPbQiNzKQ9srTW9pmjNgiR5U%3D&job=g3IYt6uJJ3GFB4u4LZitlLwLyyv1O1NXC8XhyQ30EZHf3w-1KaCi6w\n",
      "https://www.simplyhired.com/search?q=Backend+Developer&l=united+states&t=1&cursor=ABQABABQAAAAAAAAAAAAAAACDzJ8QwECARQyCROncJYU4uUA7UjyubnFuEv%2BWUpn51th%2BASHF5b5w0nDCdwyTtd27tPPdUN8Sv%2BNmyfxKBqPPbQiNzKQ9srTW9pmjNgiR5U%3D&job=wiLdi3ZW-M4KrDQnDVddcsTsYL-Dx3SvAeeffbwOn9dxTcRjNzCZEQ\n",
      "https://www.simplyhired.com/search?q=Backend+Developer&l=united+states&t=1&cursor=ABQABABQAAAAAAAAAAAAAAACDzJ8QwECARQyCROncJYU4uUA7UjyubnFuEv%2BWUpn51th%2BASHF5b5w0nDCdwyTtd27tPPdUN8Sv%2BNmyfxKBqPPbQiNzKQ9srTW9pmjNgiR5U%3D&job=3yQdlf0vHcBkQSNPLSSTvke0xAbl9xEYC7pDNf25RGq0Q33WFiHmVg\n",
      "https://www.simplyhired.com/search?q=Backend+Developer&l=united+states&t=1&cursor=ABQABABQAAAAAAAAAAAAAAACDzJ8QwECARQyCROncJYU4uUA7UjyubnFuEv%2BWUpn51th%2BASHF5b5w0nDCdwyTtd27tPPdUN8Sv%2BNmyfxKBqPPbQiNzKQ9srTW9pmjNgiR5U%3D&job=oXWh5ORSh8sFmxReH4ff3ZiP4llBDVY1e5UHwQjXFE-QY_TCMXqabA\n",
      "https://www.simplyhired.com/search?q=Backend+Developer&l=united+states&t=1&cursor=ABQABABQAAAAAAAAAAAAAAACDzJ8QwECARQyCROncJYU4uUA7UjyubnFuEv%2BWUpn51th%2BASHF5b5w0nDCdwyTtd27tPPdUN8Sv%2BNmyfxKBqPPbQiNzKQ9srTW9pmjNgiR5U%3D&job=JI1ScUPBRoxKk-ypUpQgh0fTPgfe9i6cupo27FtugFeyzaomAp4puQ\n",
      "https://www.simplyhired.com/search?q=Backend+Developer&l=united+states&t=1&cursor=ABQABABQAAAAAAAAAAAAAAACDzJ8QwECARQyCROncJYU4uUA7UjyubnFuEv%2BWUpn51th%2BASHF5b5w0nDCdwyTtd27tPPdUN8Sv%2BNmyfxKBqPPbQiNzKQ9srTW9pmjNgiR5U%3D&job=-v8OZ_hLjFJHp39SNyVkjgVJAxrOqsaUyTyBPax8G2ziTn6ysRqOIA\n",
      "https://www.simplyhired.com/search?q=Backend+Developer&l=united+states&t=1&cursor=ABQABABQAAAAAAAAAAAAAAACDzJ8QwECARQyCROncJYU4uUA7UjyubnFuEv%2BWUpn51th%2BASHF5b5w0nDCdwyTtd27tPPdUN8Sv%2BNmyfxKBqPPbQiNzKQ9srTW9pmjNgiR5U%3D&job=8yhs_FU-cA3DTJMzosj86W8zZuZu1RvkKtBwf-E7iFw3KscKbBvVYA\n",
      "https://www.simplyhired.com/search?q=Backend+Developer&l=united+states&t=1&cursor=ABQABABQAAAAAAAAAAAAAAACDzJ8QwECARQyCROncJYU4uUA7UjyubnFuEv%2BWUpn51th%2BASHF5b5w0nDCdwyTtd27tPPdUN8Sv%2BNmyfxKBqPPbQiNzKQ9srTW9pmjNgiR5U%3D&job=ruYHtqosFkQjNbyAC9qXtuHh1y01eOOp8UkFaZORYUQNIa9t2L_dvQ\n",
      "https://www.simplyhired.com/search?q=Backend+Developer&l=united+states&t=1&cursor=ABQABABQAAAAAAAAAAAAAAACDzJ8QwECARQyCROncJYU4uUA7UjyubnFuEv%2BWUpn51th%2BASHF5b5w0nDCdwyTtd27tPPdUN8Sv%2BNmyfxKBqPPbQiNzKQ9srTW9pmjNgiR5U%3D&job=UykLuGuvGbFAoMXbxQuO6jNdU6YvYrhfN13u1PTqIs-HQlQitmtFmA\n",
      "https://www.simplyhired.com/search?q=Backend+Developer&l=united+states&t=1&cursor=ABQABABQAAAAAAAAAAAAAAACDzJ8QwECARQyCROncJYU4uUA7UjyubnFuEv%2BWUpn51th%2BASHF5b5w0nDCdwyTtd27tPPdUN8Sv%2BNmyfxKBqPPbQiNzKQ9srTW9pmjNgiR5U%3D&job=Gu9W7xvnj5tjDQBEtGOufhOGWxoun_P0gHNybKsqYpF7aatJgPN6-g\n",
      "https://www.simplyhired.com/search?q=Backend+Developer&l=united+states&t=1&cursor=ABQABABQAAAAAAAAAAAAAAACDzJ8QwECARQyCROncJYU4uUA7UjyubnFuEv%2BWUpn51th%2BASHF5b5w0nDCdwyTtd27tPPdUN8Sv%2BNmyfxKBqPPbQiNzKQ9srTW9pmjNgiR5U%3D&job=XvCKKCbOi1bUsQjJ_1fCKxF4K2WSCycVTfTfHSuxAPUSLXTqMFwQXw\n",
      "https://www.simplyhired.com/search?q=Backend+Developer&l=united+states&t=1&cursor=ABQABABQAAAAAAAAAAAAAAACDzJ8QwECARQyCROncJYU4uUA7UjyubnFuEv%2BWUpn51th%2BASHF5b5w0nDCdwyTtd27tPPdUN8Sv%2BNmyfxKBqPPbQiNzKQ9srTW9pmjNgiR5U%3D&job=aLO8uGsgqc2VvfEtR9Lfq0iHH_qp-E4HNOS8eOdnqKspxbdUQuhAWg\n",
      "https://www.simplyhired.com/search?q=Backend+Developer&l=united+states&t=1&cursor=ABQABABQAAAAAAAAAAAAAAACDzJ8QwECARQyCROncJYU4uUA7UjyubnFuEv%2BWUpn51th%2BASHF5b5w0nDCdwyTtd27tPPdUN8Sv%2BNmyfxKBqPPbQiNzKQ9srTW9pmjNgiR5U%3D&job=CCFVGg2n-74v9-exCOZom4FaEpe-7h3_guXO0zXkGIb25YUt7SxSsQ\n",
      "https://www.simplyhired.com/search?q=Backend+Developer&l=united+states&t=1&cursor=ABQABABQAAAAAAAAAAAAAAACDzJ8QwECARQyCROncJYU4uUA7UjyubnFuEv%2BWUpn51th%2BASHF5b5w0nDCdwyTtd27tPPdUN8Sv%2BNmyfxKBqPPbQiNzKQ9srTW9pmjNgiR5U%3D&job=w0Y_GCra00iIO8A-iZTHRfeFIyFfI_OIqQVOMqPQi7jjRPSXlHOR9Q\n",
      "https://www.simplyhired.com/search?q=Backend+Developer&l=united+states&t=1&cursor=ABQABABQAAAAAAAAAAAAAAACDzJ8QwECARQyCROncJYU4uUA7UjyubnFuEv%2BWUpn51th%2BASHF5b5w0nDCdwyTtd27tPPdUN8Sv%2BNmyfxKBqPPbQiNzKQ9srTW9pmjNgiR5U%3D&job=-E6NC44-xc-I_94sHzA_t2eSaIRROkf5KArek6BOC28Jb1LH6DAO4w\n",
      "https://www.simplyhired.com/search?q=Backend+Developer&l=united+states&t=1&cursor=ABQABABQAAAAAAAAAAAAAAACDzJ8QwECARQyCROncJYU4uUA7UjyubnFuEv%2BWUpn51th%2BASHF5b5w0nDCdwyTtd27tPPdUN8Sv%2BNmyfxKBqPPbQiNzKQ9srTW9pmjNgiR5U%3D&job=ZQu8IBkA0QjVkUS7Mu--xiqsetdBYOytY2-joJkysBIR-ONMNTSHPw\n",
      "https://www.simplyhired.com/search?q=Backend+Developer&l=united+states&t=1&cursor=ABQABABQAAAAAAAAAAAAAAACDzJ8QwECARQyCROncJYU4uUA7UjyubnFuEv%2BWUpn51th%2BASHF5b5w0nDCdwyTtd27tPPdUN8Sv%2BNmyfxKBqPPbQiNzKQ9srTW9pmjNgiR5U%3D&job=dEWAahSeoCwHpCUr1d8a4mmmxdFP9mcqRq4tL8WoKbswqDqLAojHMg\n"
     ]
    },
    {
     "name": "stderr",
     "output_type": "stream",
     "text": [
      "/tmp/ipykernel_5743/3381847202.py:22: FutureWarning: The frame.append method is deprecated and will be removed from pandas in a future version. Use pandas.concat instead.\n",
      "  df = df.append(page_data)\n"
     ]
    },
    {
     "name": "stdout",
     "output_type": "stream",
     "text": [
      "Page Number: 6  Page Link:  https://www.simplyhired.com/search?q=Backend+Developer&l=united+states&t=1&cursor=ABQABQBkAAAAAAAAAAAAAAACDzJ8QwECARQyCQkMYreLQxXTtubmonIfGLUSfgDQddIh95rdbfZEaFyNwMUgDVrWHXZ6xo0t8keVC%2BvL2rIuNcL4AiFf6sw4nUITVNZRkEHINpCj\n",
      "https://www.simplyhired.com/search?q=Backend+Developer&l=united+states&t=1&cursor=ABQABQBkAAAAAAAAAAAAAAACDzJ8QwECARQyCQkMYreLQxXTtubmonIfGLUSfgDQddIh95rdbfZEaFyNwMUgDVrWHXZ6xo0t8keVC%2BvL2rIuNcL4AiFf6sw4nUITVNZRkEHINpCj&job=TI6_6qdQuSxsg9sLCV0cFBV_PPQi-ZZFNYTbBqvZ7ufRRBHy7sTAAw\n",
      "https://www.simplyhired.com/search?q=Backend+Developer&l=united+states&t=1&cursor=ABQABQBkAAAAAAAAAAAAAAACDzJ8QwECARQyCQkMYreLQxXTtubmonIfGLUSfgDQddIh95rdbfZEaFyNwMUgDVrWHXZ6xo0t8keVC%2BvL2rIuNcL4AiFf6sw4nUITVNZRkEHINpCj&job=twyqhq93PmsFtu5UbiI0-A5lyMvvFvN5hgu9rEU8pw1SeoJQRHxBhQ\n",
      "https://www.simplyhired.com/search?q=Backend+Developer&l=united+states&t=1&cursor=ABQABQBkAAAAAAAAAAAAAAACDzJ8QwECARQyCQkMYreLQxXTtubmonIfGLUSfgDQddIh95rdbfZEaFyNwMUgDVrWHXZ6xo0t8keVC%2BvL2rIuNcL4AiFf6sw4nUITVNZRkEHINpCj&job=AZZffna77dtKtZrmDuS1gZErkuH-1f8h7r419fQo9vzvzcUXnKbMDg\n",
      "https://www.simplyhired.com/search?q=Backend+Developer&l=united+states&t=1&cursor=ABQABQBkAAAAAAAAAAAAAAACDzJ8QwECARQyCQkMYreLQxXTtubmonIfGLUSfgDQddIh95rdbfZEaFyNwMUgDVrWHXZ6xo0t8keVC%2BvL2rIuNcL4AiFf6sw4nUITVNZRkEHINpCj&job=WWvuAQw_BPv6SG8zKTpXbEcDBejgkBgdJg9AAylwvxQLnzle53Q6Xw\n",
      "https://www.simplyhired.com/search?q=Backend+Developer&l=united+states&t=1&cursor=ABQABQBkAAAAAAAAAAAAAAACDzJ8QwECARQyCQkMYreLQxXTtubmonIfGLUSfgDQddIh95rdbfZEaFyNwMUgDVrWHXZ6xo0t8keVC%2BvL2rIuNcL4AiFf6sw4nUITVNZRkEHINpCj&job=g9rBj5R9hd4r0uxQgbl8DbN-Mr8XixuMIncV81blH6NTpfMjavVz8A\n",
      "https://www.simplyhired.com/search?q=Backend+Developer&l=united+states&t=1&cursor=ABQABQBkAAAAAAAAAAAAAAACDzJ8QwECARQyCQkMYreLQxXTtubmonIfGLUSfgDQddIh95rdbfZEaFyNwMUgDVrWHXZ6xo0t8keVC%2BvL2rIuNcL4AiFf6sw4nUITVNZRkEHINpCj&job=g2_GDD6HhZPXXTUCCyaKR15q-fMEnZG-k6DGZQ3dFmSSIoGGIt_4yw\n",
      "https://www.simplyhired.com/search?q=Backend+Developer&l=united+states&t=1&cursor=ABQABQBkAAAAAAAAAAAAAAACDzJ8QwECARQyCQkMYreLQxXTtubmonIfGLUSfgDQddIh95rdbfZEaFyNwMUgDVrWHXZ6xo0t8keVC%2BvL2rIuNcL4AiFf6sw4nUITVNZRkEHINpCj&job=5bP5UovA9qvU5UbZGJNFh1NLh2iwIg5MEw-bYHYrZLItqyXDr6_yxw\n",
      "https://www.simplyhired.com/search?q=Backend+Developer&l=united+states&t=1&cursor=ABQABQBkAAAAAAAAAAAAAAACDzJ8QwECARQyCQkMYreLQxXTtubmonIfGLUSfgDQddIh95rdbfZEaFyNwMUgDVrWHXZ6xo0t8keVC%2BvL2rIuNcL4AiFf6sw4nUITVNZRkEHINpCj&job=wSWBtg7T4u8FVfW2wDWV5TBmFArxKfKjAyrxzjKy_aWs_7NfQr0jGw\n",
      "https://www.simplyhired.com/search?q=Backend+Developer&l=united+states&t=1&cursor=ABQABQBkAAAAAAAAAAAAAAACDzJ8QwECARQyCQkMYreLQxXTtubmonIfGLUSfgDQddIh95rdbfZEaFyNwMUgDVrWHXZ6xo0t8keVC%2BvL2rIuNcL4AiFf6sw4nUITVNZRkEHINpCj&job=1WnaX5b2RK4nnq5YET0ihMReBwjadiCOnzEJtfVyN8kuKvpl7rID1A\n",
      "https://www.simplyhired.com/search?q=Backend+Developer&l=united+states&t=1&cursor=ABQABQBkAAAAAAAAAAAAAAACDzJ8QwECARQyCQkMYreLQxXTtubmonIfGLUSfgDQddIh95rdbfZEaFyNwMUgDVrWHXZ6xo0t8keVC%2BvL2rIuNcL4AiFf6sw4nUITVNZRkEHINpCj&job=U768dVOlVYF0f6i1sl69LvVpG7jl1P_egg6EXkuBWaH12bmieKzzmw\n",
      "https://www.simplyhired.com/search?q=Backend+Developer&l=united+states&t=1&cursor=ABQABQBkAAAAAAAAAAAAAAACDzJ8QwECARQyCQkMYreLQxXTtubmonIfGLUSfgDQddIh95rdbfZEaFyNwMUgDVrWHXZ6xo0t8keVC%2BvL2rIuNcL4AiFf6sw4nUITVNZRkEHINpCj&job=GBJfwHytsAC6Kk_7bHFQPeottt1s_JoFHVjqcaZ7RynsG-UAsEcfJw\n",
      "https://www.simplyhired.com/search?q=Backend+Developer&l=united+states&t=1&cursor=ABQABQBkAAAAAAAAAAAAAAACDzJ8QwECARQyCQkMYreLQxXTtubmonIfGLUSfgDQddIh95rdbfZEaFyNwMUgDVrWHXZ6xo0t8keVC%2BvL2rIuNcL4AiFf6sw4nUITVNZRkEHINpCj&job=qWJnCtSmDzv6DJPgp1jY34cZxG1QCx99qxszSXOSUY3zzHaT00sOSw\n",
      "https://www.simplyhired.com/search?q=Backend+Developer&l=united+states&t=1&cursor=ABQABQBkAAAAAAAAAAAAAAACDzJ8QwECARQyCQkMYreLQxXTtubmonIfGLUSfgDQddIh95rdbfZEaFyNwMUgDVrWHXZ6xo0t8keVC%2BvL2rIuNcL4AiFf6sw4nUITVNZRkEHINpCj&job=NpLBpRQZN9dA2ZE5AnvCvKUQthCJxpB0TqVSXwNSq_5GxjzHKHPK6g\n",
      "https://www.simplyhired.com/search?q=Backend+Developer&l=united+states&t=1&cursor=ABQABQBkAAAAAAAAAAAAAAACDzJ8QwECARQyCQkMYreLQxXTtubmonIfGLUSfgDQddIh95rdbfZEaFyNwMUgDVrWHXZ6xo0t8keVC%2BvL2rIuNcL4AiFf6sw4nUITVNZRkEHINpCj&job=97CTf4QrLomgQiTKs2Lq9pSyH3nlVYIZdtmjCuay6Sk0ZYzMaaFI2w\n",
      "https://www.simplyhired.com/search?q=Backend+Developer&l=united+states&t=1&cursor=ABQABQBkAAAAAAAAAAAAAAACDzJ8QwECARQyCQkMYreLQxXTtubmonIfGLUSfgDQddIh95rdbfZEaFyNwMUgDVrWHXZ6xo0t8keVC%2BvL2rIuNcL4AiFf6sw4nUITVNZRkEHINpCj&job=tpAQrYX_XktqhnIgnZrp9emab6vZqsn3b6vUFb-PxhSUu-MJFILm0Q\n",
      "https://www.simplyhired.com/search?q=Backend+Developer&l=united+states&t=1&cursor=ABQABQBkAAAAAAAAAAAAAAACDzJ8QwECARQyCQkMYreLQxXTtubmonIfGLUSfgDQddIh95rdbfZEaFyNwMUgDVrWHXZ6xo0t8keVC%2BvL2rIuNcL4AiFf6sw4nUITVNZRkEHINpCj&job=qYYeqfv6Hg2FiJ-wRveGpxF8agPgW_bM3Ug8WLWjLElRwQG9SZXyBg\n",
      "https://www.simplyhired.com/search?q=Backend+Developer&l=united+states&t=1&cursor=ABQABQBkAAAAAAAAAAAAAAACDzJ8QwECARQyCQkMYreLQxXTtubmonIfGLUSfgDQddIh95rdbfZEaFyNwMUgDVrWHXZ6xo0t8keVC%2BvL2rIuNcL4AiFf6sw4nUITVNZRkEHINpCj&job=HOkFJIlexkAgMFVtZsweic5CNALS3WfNdsB0Q9Vdbhor3XHzGePhsg\n",
      "https://www.simplyhired.com/search?q=Backend+Developer&l=united+states&t=1&cursor=ABQABQBkAAAAAAAAAAAAAAACDzJ8QwECARQyCQkMYreLQxXTtubmonIfGLUSfgDQddIh95rdbfZEaFyNwMUgDVrWHXZ6xo0t8keVC%2BvL2rIuNcL4AiFf6sw4nUITVNZRkEHINpCj&job=kj5WqyuIwlK4mjDR4FNqtMVyud0TeLJwQBHb_OaFnCTWfH0euWoPdw\n",
      "https://www.simplyhired.com/search?q=Backend+Developer&l=united+states&t=1&cursor=ABQABQBkAAAAAAAAAAAAAAACDzJ8QwECARQyCQkMYreLQxXTtubmonIfGLUSfgDQddIh95rdbfZEaFyNwMUgDVrWHXZ6xo0t8keVC%2BvL2rIuNcL4AiFf6sw4nUITVNZRkEHINpCj&job=IzRjKpX6T6_5D_GKBmNyq9BsjGDy2mzA8L7ELp0Vkm_yNSJzXqsMXQ\n",
      "https://www.simplyhired.com/search?q=Backend+Developer&l=united+states&t=1&cursor=ABQABQBkAAAAAAAAAAAAAAACDzJ8QwECARQyCQkMYreLQxXTtubmonIfGLUSfgDQddIh95rdbfZEaFyNwMUgDVrWHXZ6xo0t8keVC%2BvL2rIuNcL4AiFf6sw4nUITVNZRkEHINpCj&job=Cby8MPuTWi9vzF-dAl_UoL7zsa3hoJtovhes7JxBpkq3oFrRT1IcZw\n"
     ]
    },
    {
     "name": "stderr",
     "output_type": "stream",
     "text": [
      "/tmp/ipykernel_5743/3381847202.py:22: FutureWarning: The frame.append method is deprecated and will be removed from pandas in a future version. Use pandas.concat instead.\n",
      "  df = df.append(page_data)\n"
     ]
    },
    {
     "name": "stdout",
     "output_type": "stream",
     "text": [
      "Page Number: 7  Page Link:  https://www.simplyhired.com/search?q=Backend+Developer&l=united+states&t=1&cursor=ABQABgB4AAAAAAAAAAAAAAACDzJ8QwECARQyCAKR0%2B3xnULLYcjG0%2FFfJNsjF6Qb397fj%2FlJAYsJN6Tq8op%2FkhA2IpIPEd%2F%2FEcT%2B3YZkJCAPxGcROA1Jk3neGRiFnIBGcEX9pACVvNOedc5bbSVu\n",
      "https://www.simplyhired.com/search?q=Backend+Developer&l=united+states&t=1&cursor=ABQABgB4AAAAAAAAAAAAAAACDzJ8QwECARQyCAKR0%2B3xnULLYcjG0%2FFfJNsjF6Qb397fj%2FlJAYsJN6Tq8op%2FkhA2IpIPEd%2F%2FEcT%2B3YZkJCAPxGcROA1Jk3neGRiFnIBGcEX9pACVvNOedc5bbSVu&job=SRku7Pve3y6HJI6rVgvVJbyDfK7L1CX4NItKqMTlNSxJD_2vGn9-rg\n",
      "https://www.simplyhired.com/search?q=Backend+Developer&l=united+states&t=1&cursor=ABQABgB4AAAAAAAAAAAAAAACDzJ8QwECARQyCAKR0%2B3xnULLYcjG0%2FFfJNsjF6Qb397fj%2FlJAYsJN6Tq8op%2FkhA2IpIPEd%2F%2FEcT%2B3YZkJCAPxGcROA1Jk3neGRiFnIBGcEX9pACVvNOedc5bbSVu&job=YOERlXqisTfAFvVlgXyvzbTw5fP1eOkJUfNsz1iSMfpAGN8ywd_70w\n",
      "https://www.simplyhired.com/search?q=Backend+Developer&l=united+states&t=1&cursor=ABQABgB4AAAAAAAAAAAAAAACDzJ8QwECARQyCAKR0%2B3xnULLYcjG0%2FFfJNsjF6Qb397fj%2FlJAYsJN6Tq8op%2FkhA2IpIPEd%2F%2FEcT%2B3YZkJCAPxGcROA1Jk3neGRiFnIBGcEX9pACVvNOedc5bbSVu&job=qKhvL6fx-nkwiKY-WwUJA-ZmRcbC8Dt0z8ZEf8CKqf9KB9UmrqnERA\n",
      "https://www.simplyhired.com/search?q=Backend+Developer&l=united+states&t=1&cursor=ABQABgB4AAAAAAAAAAAAAAACDzJ8QwECARQyCAKR0%2B3xnULLYcjG0%2FFfJNsjF6Qb397fj%2FlJAYsJN6Tq8op%2FkhA2IpIPEd%2F%2FEcT%2B3YZkJCAPxGcROA1Jk3neGRiFnIBGcEX9pACVvNOedc5bbSVu&job=MuAUZ1sHWq9CKFU9oyB8U_lbLnCtC-xU8PG2sX7_E9cTkjOZxGA6ZQ\n",
      "https://www.simplyhired.com/search?q=Backend+Developer&l=united+states&t=1&cursor=ABQABgB4AAAAAAAAAAAAAAACDzJ8QwECARQyCAKR0%2B3xnULLYcjG0%2FFfJNsjF6Qb397fj%2FlJAYsJN6Tq8op%2FkhA2IpIPEd%2F%2FEcT%2B3YZkJCAPxGcROA1Jk3neGRiFnIBGcEX9pACVvNOedc5bbSVu&job=W6JaznuNZbA6gMZARO1DScdXmAA4b3Aj2kIDUET1gfeJPlTZyxzisg\n",
      "https://www.simplyhired.com/search?q=Backend+Developer&l=united+states&t=1&cursor=ABQABgB4AAAAAAAAAAAAAAACDzJ8QwECARQyCAKR0%2B3xnULLYcjG0%2FFfJNsjF6Qb397fj%2FlJAYsJN6Tq8op%2FkhA2IpIPEd%2F%2FEcT%2B3YZkJCAPxGcROA1Jk3neGRiFnIBGcEX9pACVvNOedc5bbSVu&job=Wh8rP-ZF3mz5miiaW7PVbpUCfr8_1J2sepxMZ-yPByo037_wXaN4sQ\n",
      "https://www.simplyhired.com/search?q=Backend+Developer&l=united+states&t=1&cursor=ABQABgB4AAAAAAAAAAAAAAACDzJ8QwECARQyCAKR0%2B3xnULLYcjG0%2FFfJNsjF6Qb397fj%2FlJAYsJN6Tq8op%2FkhA2IpIPEd%2F%2FEcT%2B3YZkJCAPxGcROA1Jk3neGRiFnIBGcEX9pACVvNOedc5bbSVu&job=fPJbPuQm3hKjUSQBtK5NVx0DWDOjI54TSOuXI8WWa1OH94WfNheR0w\n",
      "https://www.simplyhired.com/search?q=Backend+Developer&l=united+states&t=1&cursor=ABQABgB4AAAAAAAAAAAAAAACDzJ8QwECARQyCAKR0%2B3xnULLYcjG0%2FFfJNsjF6Qb397fj%2FlJAYsJN6Tq8op%2FkhA2IpIPEd%2F%2FEcT%2B3YZkJCAPxGcROA1Jk3neGRiFnIBGcEX9pACVvNOedc5bbSVu&job=kkDuF22xs7sJ7vvGIOsVJzqdLnuAtosJr41Ttf31IErU7rdjgNl0oA\n",
      "https://www.simplyhired.com/search?q=Backend+Developer&l=united+states&t=1&cursor=ABQABgB4AAAAAAAAAAAAAAACDzJ8QwECARQyCAKR0%2B3xnULLYcjG0%2FFfJNsjF6Qb397fj%2FlJAYsJN6Tq8op%2FkhA2IpIPEd%2F%2FEcT%2B3YZkJCAPxGcROA1Jk3neGRiFnIBGcEX9pACVvNOedc5bbSVu&job=yMmrMQfKkJvSWY8PWRYiSv7AIpdNPkmKs14d0aKAJwVP3vwvl0sMYg\n",
      "https://www.simplyhired.com/search?q=Backend+Developer&l=united+states&t=1&cursor=ABQABgB4AAAAAAAAAAAAAAACDzJ8QwECARQyCAKR0%2B3xnULLYcjG0%2FFfJNsjF6Qb397fj%2FlJAYsJN6Tq8op%2FkhA2IpIPEd%2F%2FEcT%2B3YZkJCAPxGcROA1Jk3neGRiFnIBGcEX9pACVvNOedc5bbSVu&job=rhWRZ3ClY_4S-VOpSPrdB6efrRPinNPrRgTC8t8k7PXXRfcSk9Zwuw\n",
      "https://www.simplyhired.com/search?q=Backend+Developer&l=united+states&t=1&cursor=ABQABgB4AAAAAAAAAAAAAAACDzJ8QwECARQyCAKR0%2B3xnULLYcjG0%2FFfJNsjF6Qb397fj%2FlJAYsJN6Tq8op%2FkhA2IpIPEd%2F%2FEcT%2B3YZkJCAPxGcROA1Jk3neGRiFnIBGcEX9pACVvNOedc5bbSVu&job=6ycyH_p9hfUdB1hBb8QwDYofjiEMwKkwgzfijrN-7OJb1TwHuj5yPg\n",
      "https://www.simplyhired.com/search?q=Backend+Developer&l=united+states&t=1&cursor=ABQABgB4AAAAAAAAAAAAAAACDzJ8QwECARQyCAKR0%2B3xnULLYcjG0%2FFfJNsjF6Qb397fj%2FlJAYsJN6Tq8op%2FkhA2IpIPEd%2F%2FEcT%2B3YZkJCAPxGcROA1Jk3neGRiFnIBGcEX9pACVvNOedc5bbSVu&job=rL76V7iD0_vFrw90vnULHIce69BWeirsMdbGitDUAAkBPINdDzjSgw\n",
      "https://www.simplyhired.com/search?q=Backend+Developer&l=united+states&t=1&cursor=ABQABgB4AAAAAAAAAAAAAAACDzJ8QwECARQyCAKR0%2B3xnULLYcjG0%2FFfJNsjF6Qb397fj%2FlJAYsJN6Tq8op%2FkhA2IpIPEd%2F%2FEcT%2B3YZkJCAPxGcROA1Jk3neGRiFnIBGcEX9pACVvNOedc5bbSVu&job=F38V_bZ9Os5Hl-HBdxoTYa0r4cMjL5nZuKmiaf4OGylex_zCK315SA\n",
      "https://www.simplyhired.com/search?q=Backend+Developer&l=united+states&t=1&cursor=ABQABgB4AAAAAAAAAAAAAAACDzJ8QwECARQyCAKR0%2B3xnULLYcjG0%2FFfJNsjF6Qb397fj%2FlJAYsJN6Tq8op%2FkhA2IpIPEd%2F%2FEcT%2B3YZkJCAPxGcROA1Jk3neGRiFnIBGcEX9pACVvNOedc5bbSVu&job=Upn6lIoSrqOhPmjJxi0NjwQJCFa_OQU9kXT8GSvSKsYRsoxcpBwwcA\n",
      "https://www.simplyhired.com/search?q=Backend+Developer&l=united+states&t=1&cursor=ABQABgB4AAAAAAAAAAAAAAACDzJ8QwECARQyCAKR0%2B3xnULLYcjG0%2FFfJNsjF6Qb397fj%2FlJAYsJN6Tq8op%2FkhA2IpIPEd%2F%2FEcT%2B3YZkJCAPxGcROA1Jk3neGRiFnIBGcEX9pACVvNOedc5bbSVu&job=zSDAP1VzpuFCau9B7T0R6zPdJSBpaNbyilkJq6j9jTvp2n6_6XUNgg\n",
      "https://www.simplyhired.com/search?q=Backend+Developer&l=united+states&t=1&cursor=ABQABgB4AAAAAAAAAAAAAAACDzJ8QwECARQyCAKR0%2B3xnULLYcjG0%2FFfJNsjF6Qb397fj%2FlJAYsJN6Tq8op%2FkhA2IpIPEd%2F%2FEcT%2B3YZkJCAPxGcROA1Jk3neGRiFnIBGcEX9pACVvNOedc5bbSVu&job=EoLUMq2T-x1YcsxlVMk5qbQIIODsxDIWjhhBz7PocfGsKrvQusxizQ\n",
      "https://www.simplyhired.com/search?q=Backend+Developer&l=united+states&t=1&cursor=ABQABgB4AAAAAAAAAAAAAAACDzJ8QwECARQyCAKR0%2B3xnULLYcjG0%2FFfJNsjF6Qb397fj%2FlJAYsJN6Tq8op%2FkhA2IpIPEd%2F%2FEcT%2B3YZkJCAPxGcROA1Jk3neGRiFnIBGcEX9pACVvNOedc5bbSVu&job=wmt7mv40S_TCqtFQxabUfL0fvAVfMGrLDvOo6wvImzOu1kQOykSZ5w\n",
      "https://www.simplyhired.com/search?q=Backend+Developer&l=united+states&t=1&cursor=ABQABgB4AAAAAAAAAAAAAAACDzJ8QwECARQyCAKR0%2B3xnULLYcjG0%2FFfJNsjF6Qb397fj%2FlJAYsJN6Tq8op%2FkhA2IpIPEd%2F%2FEcT%2B3YZkJCAPxGcROA1Jk3neGRiFnIBGcEX9pACVvNOedc5bbSVu&job=Gz4xrsaykn_E0hZt9KcgiQ_Bk59isY0MWwpR2DvdhA2VIPLmEKNYqQ\n",
      "https://www.simplyhired.com/search?q=Backend+Developer&l=united+states&t=1&cursor=ABQABgB4AAAAAAAAAAAAAAACDzJ8QwECARQyCAKR0%2B3xnULLYcjG0%2FFfJNsjF6Qb397fj%2FlJAYsJN6Tq8op%2FkhA2IpIPEd%2F%2FEcT%2B3YZkJCAPxGcROA1Jk3neGRiFnIBGcEX9pACVvNOedc5bbSVu&job=qZqqFQlEjEE7gZU6irS4k0QLtmwFUYNwQx3xJ8rTwmlyONOydlFLJg\n",
      "https://www.simplyhired.com/search?q=Backend+Developer&l=united+states&t=1&cursor=ABQABgB4AAAAAAAAAAAAAAACDzJ8QwECARQyCAKR0%2B3xnULLYcjG0%2FFfJNsjF6Qb397fj%2FlJAYsJN6Tq8op%2FkhA2IpIPEd%2F%2FEcT%2B3YZkJCAPxGcROA1Jk3neGRiFnIBGcEX9pACVvNOedc5bbSVu&job=yezY7d4lMfDcJtz3_FdxJxp7yHKhnKI3Me6cZWgIiHwVWSqDMmlcGw\n"
     ]
    },
    {
     "name": "stderr",
     "output_type": "stream",
     "text": [
      "/tmp/ipykernel_5743/3381847202.py:22: FutureWarning: The frame.append method is deprecated and will be removed from pandas in a future version. Use pandas.concat instead.\n",
      "  df = df.append(page_data)\n"
     ]
    },
    {
     "name": "stdout",
     "output_type": "stream",
     "text": [
      "Page Number: 8  Page Link:  https://www.simplyhired.com/search?q=Backend+Developer&l=united+states&t=1&cursor=ABQABwCMAAAAAAAAAAAAAAACDzJ8QwECARQqDDTNOy28LP4mKSi68CSNXSJAVUhh2DuhqpHMv7kJso%2F0Aqgu3%2FLuVanzMH1npED%2BjR9OZchGXaGCmG9cXv2ouLdjuvtwYlIepjE90%2B5UxqEI\n",
      "https://www.simplyhired.com/search?q=Backend+Developer&l=united+states&t=1&cursor=ABQABwCMAAAAAAAAAAAAAAACDzJ8QwECARQqDDTNOy28LP4mKSi68CSNXSJAVUhh2DuhqpHMv7kJso%2F0Aqgu3%2FLuVanzMH1npED%2BjR9OZchGXaGCmG9cXv2ouLdjuvtwYlIepjE90%2B5UxqEI&job=eNKhZ-HQ6cHo2XIsizedviEvIOXrbEXFZfnjH2Q1FVRYP4ZX_acdpg\n",
      "https://www.simplyhired.com/search?q=Backend+Developer&l=united+states&t=1&cursor=ABQABwCMAAAAAAAAAAAAAAACDzJ8QwECARQqDDTNOy28LP4mKSi68CSNXSJAVUhh2DuhqpHMv7kJso%2F0Aqgu3%2FLuVanzMH1npED%2BjR9OZchGXaGCmG9cXv2ouLdjuvtwYlIepjE90%2B5UxqEI&job=hyaq3dzr3NqJC04hJk3-PyRrZb6lwxs_9CMTfuV7BOPatk80UqotIw\n",
      "https://www.simplyhired.com/search?q=Backend+Developer&l=united+states&t=1&cursor=ABQABwCMAAAAAAAAAAAAAAACDzJ8QwECARQqDDTNOy28LP4mKSi68CSNXSJAVUhh2DuhqpHMv7kJso%2F0Aqgu3%2FLuVanzMH1npED%2BjR9OZchGXaGCmG9cXv2ouLdjuvtwYlIepjE90%2B5UxqEI&job=bNi4od4z12WbM3PiZQhfvyv5GESJ1VJn4IqrKvEia3jaz5Uzklkuew\n",
      "https://www.simplyhired.com/search?q=Backend+Developer&l=united+states&t=1&cursor=ABQABwCMAAAAAAAAAAAAAAACDzJ8QwECARQqDDTNOy28LP4mKSi68CSNXSJAVUhh2DuhqpHMv7kJso%2F0Aqgu3%2FLuVanzMH1npED%2BjR9OZchGXaGCmG9cXv2ouLdjuvtwYlIepjE90%2B5UxqEI&job=_0t_aRHGGfAxQNHEXXGDIWciKNU-tDk2AjOkh6KJIsajy6fqavvgCA\n",
      "https://www.simplyhired.com/search?q=Backend+Developer&l=united+states&t=1&cursor=ABQABwCMAAAAAAAAAAAAAAACDzJ8QwECARQqDDTNOy28LP4mKSi68CSNXSJAVUhh2DuhqpHMv7kJso%2F0Aqgu3%2FLuVanzMH1npED%2BjR9OZchGXaGCmG9cXv2ouLdjuvtwYlIepjE90%2B5UxqEI&job=QZ27tkLpSzdo6XAkyA2kSDElt8sz-teiQLMtN1uBq3jUZ947mJIlIQ\n",
      "https://www.simplyhired.com/search?q=Backend+Developer&l=united+states&t=1&cursor=ABQABwCMAAAAAAAAAAAAAAACDzJ8QwECARQqDDTNOy28LP4mKSi68CSNXSJAVUhh2DuhqpHMv7kJso%2F0Aqgu3%2FLuVanzMH1npED%2BjR9OZchGXaGCmG9cXv2ouLdjuvtwYlIepjE90%2B5UxqEI&job=1R0zEo8CXHQOmB9B9WpT3LeZDqm6J6qG3xKYIa5i_6DNmvzyY5dOaA\n",
      "https://www.simplyhired.com/search?q=Backend+Developer&l=united+states&t=1&cursor=ABQABwCMAAAAAAAAAAAAAAACDzJ8QwECARQqDDTNOy28LP4mKSi68CSNXSJAVUhh2DuhqpHMv7kJso%2F0Aqgu3%2FLuVanzMH1npED%2BjR9OZchGXaGCmG9cXv2ouLdjuvtwYlIepjE90%2B5UxqEI&job=3qbL3q0dj152Mi3EsMlVqhyk1HTYzMSsXjqKVOzCcBn8enj2OBMOmg\n",
      "https://www.simplyhired.com/search?q=Backend+Developer&l=united+states&t=1&cursor=ABQABwCMAAAAAAAAAAAAAAACDzJ8QwECARQqDDTNOy28LP4mKSi68CSNXSJAVUhh2DuhqpHMv7kJso%2F0Aqgu3%2FLuVanzMH1npED%2BjR9OZchGXaGCmG9cXv2ouLdjuvtwYlIepjE90%2B5UxqEI&job=TDpXL6S4sRipeu0yGCq52XYk8W9anmWNigj4wXv4OTGtBdUCkjUJNg\n",
      "https://www.simplyhired.com/search?q=Backend+Developer&l=united+states&t=1&cursor=ABQABwCMAAAAAAAAAAAAAAACDzJ8QwECARQqDDTNOy28LP4mKSi68CSNXSJAVUhh2DuhqpHMv7kJso%2F0Aqgu3%2FLuVanzMH1npED%2BjR9OZchGXaGCmG9cXv2ouLdjuvtwYlIepjE90%2B5UxqEI&job=LKBOgfcPvMN8WYjp6Y-ACvtIIuDG82UEt1AR0neDXiHAFc6EAFQAkQ\n",
      "https://www.simplyhired.com/search?q=Backend+Developer&l=united+states&t=1&cursor=ABQABwCMAAAAAAAAAAAAAAACDzJ8QwECARQqDDTNOy28LP4mKSi68CSNXSJAVUhh2DuhqpHMv7kJso%2F0Aqgu3%2FLuVanzMH1npED%2BjR9OZchGXaGCmG9cXv2ouLdjuvtwYlIepjE90%2B5UxqEI&job=q4SWz-is5uvUVbv3UctVC5m6Q0QDL01pZ70dmjWNnt6jfdrZinC5Uw\n",
      "https://www.simplyhired.com/search?q=Backend+Developer&l=united+states&t=1&cursor=ABQABwCMAAAAAAAAAAAAAAACDzJ8QwECARQqDDTNOy28LP4mKSi68CSNXSJAVUhh2DuhqpHMv7kJso%2F0Aqgu3%2FLuVanzMH1npED%2BjR9OZchGXaGCmG9cXv2ouLdjuvtwYlIepjE90%2B5UxqEI&job=o-56X_TEZt-CYx6njvm4sFU5ze3JK2YoD9ZAcWho3hbaCtuQV6y7og\n",
      "https://www.simplyhired.com/search?q=Backend+Developer&l=united+states&t=1&cursor=ABQABwCMAAAAAAAAAAAAAAACDzJ8QwECARQqDDTNOy28LP4mKSi68CSNXSJAVUhh2DuhqpHMv7kJso%2F0Aqgu3%2FLuVanzMH1npED%2BjR9OZchGXaGCmG9cXv2ouLdjuvtwYlIepjE90%2B5UxqEI&job=zZP2oEJNYpOjUF7j31WiPPFMBWmpwF05DykhDeIgxuEnJ3iNU_3etg\n",
      "https://www.simplyhired.com/search?q=Backend+Developer&l=united+states&t=1&cursor=ABQABwCMAAAAAAAAAAAAAAACDzJ8QwECARQqDDTNOy28LP4mKSi68CSNXSJAVUhh2DuhqpHMv7kJso%2F0Aqgu3%2FLuVanzMH1npED%2BjR9OZchGXaGCmG9cXv2ouLdjuvtwYlIepjE90%2B5UxqEI&job=9_7CUlc4TqBWJYxm6SeYsBEt7Hz6EruBPdSUL89VvSvzzKHAabsqkw\n",
      "https://www.simplyhired.com/search?q=Backend+Developer&l=united+states&t=1&cursor=ABQABwCMAAAAAAAAAAAAAAACDzJ8QwECARQqDDTNOy28LP4mKSi68CSNXSJAVUhh2DuhqpHMv7kJso%2F0Aqgu3%2FLuVanzMH1npED%2BjR9OZchGXaGCmG9cXv2ouLdjuvtwYlIepjE90%2B5UxqEI&job=6m6m9bBGUnIO3yy0IhWeBAWWJbBSp8Y0ZJiXRBfUXWSUPk6fImhhNg\n",
      "https://www.simplyhired.com/search?q=Backend+Developer&l=united+states&t=1&cursor=ABQABwCMAAAAAAAAAAAAAAACDzJ8QwECARQqDDTNOy28LP4mKSi68CSNXSJAVUhh2DuhqpHMv7kJso%2F0Aqgu3%2FLuVanzMH1npED%2BjR9OZchGXaGCmG9cXv2ouLdjuvtwYlIepjE90%2B5UxqEI&job=ga4PeaR03CVBwz01Jl4hDSzyWB3o2tHEl_vGI-XPrgRRkNi6qFkFMg\n",
      "https://www.simplyhired.com/search?q=Backend+Developer&l=united+states&t=1&cursor=ABQABwCMAAAAAAAAAAAAAAACDzJ8QwECARQqDDTNOy28LP4mKSi68CSNXSJAVUhh2DuhqpHMv7kJso%2F0Aqgu3%2FLuVanzMH1npED%2BjR9OZchGXaGCmG9cXv2ouLdjuvtwYlIepjE90%2B5UxqEI&job=DZZJjR5jeWeKcvpTz1yHIhWic8LLPPiDlYpOVFWfeTtYzfsDkc6Wnw\n",
      "https://www.simplyhired.com/search?q=Backend+Developer&l=united+states&t=1&cursor=ABQABwCMAAAAAAAAAAAAAAACDzJ8QwECARQqDDTNOy28LP4mKSi68CSNXSJAVUhh2DuhqpHMv7kJso%2F0Aqgu3%2FLuVanzMH1npED%2BjR9OZchGXaGCmG9cXv2ouLdjuvtwYlIepjE90%2B5UxqEI&job=qVaGRIobml26XJtIa3MCcOGlOuaSFqcDOOKnkB0RPE7tSI3x5rUk6g\n",
      "https://www.simplyhired.com/search?q=Backend+Developer&l=united+states&t=1&cursor=ABQABwCMAAAAAAAAAAAAAAACDzJ8QwECARQqDDTNOy28LP4mKSi68CSNXSJAVUhh2DuhqpHMv7kJso%2F0Aqgu3%2FLuVanzMH1npED%2BjR9OZchGXaGCmG9cXv2ouLdjuvtwYlIepjE90%2B5UxqEI&job=xT578UGqSrknw1-4Okm9d6JtfQqyQAhu12EIOixn_xYf2Vy4tceMVA\n",
      "https://www.simplyhired.com/search?q=Backend+Developer&l=united+states&t=1&cursor=ABQABwCMAAAAAAAAAAAAAAACDzJ8QwECARQqDDTNOy28LP4mKSi68CSNXSJAVUhh2DuhqpHMv7kJso%2F0Aqgu3%2FLuVanzMH1npED%2BjR9OZchGXaGCmG9cXv2ouLdjuvtwYlIepjE90%2B5UxqEI&job=9l2taZvg7SVP6MgnIge07XRC1i_xV0oCspz8G0sufiyM3qkCWZ7xQw\n",
      "https://www.simplyhired.com/search?q=Backend+Developer&l=united+states&t=1&cursor=ABQABwCMAAAAAAAAAAAAAAACDzJ8QwECARQqDDTNOy28LP4mKSi68CSNXSJAVUhh2DuhqpHMv7kJso%2F0Aqgu3%2FLuVanzMH1npED%2BjR9OZchGXaGCmG9cXv2ouLdjuvtwYlIepjE90%2B5UxqEI&job=pKTOrsF_Q_mDjhkB5_Hz8YTF9Z92WGt-o2LChtHyx-FMasPMHqJLsQ\n"
     ]
    },
    {
     "name": "stderr",
     "output_type": "stream",
     "text": [
      "/tmp/ipykernel_5743/3381847202.py:22: FutureWarning: The frame.append method is deprecated and will be removed from pandas in a future version. Use pandas.concat instead.\n",
      "  df = df.append(page_data)\n"
     ]
    },
    {
     "name": "stdout",
     "output_type": "stream",
     "text": [
      "Page Number: 9  Page Link:  https://www.simplyhired.com/search?q=Backend+Developer&l=united+states&t=1&cursor=ABQACACgAAAAAAAAAAAAAAACDzJ8QwECARImDhFVV26%2BDXPs%2BGWU%2FU%2FST50wBYtFwsdfFs9nRT9tav%2FXdHk25VRLsmorbNfW4Ob7vH%2BT8mhRwblWU6IOXYQiCJbWWjuQ%2BgcWpGyiBg%3D%3D\n",
      "https://www.simplyhired.com/search?q=Backend+Developer&l=united+states&t=1&cursor=ABQACACgAAAAAAAAAAAAAAACDzJ8QwECARImDhFVV26%2BDXPs%2BGWU%2FU%2FST50wBYtFwsdfFs9nRT9tav%2FXdHk25VRLsmorbNfW4Ob7vH%2BT8mhRwblWU6IOXYQiCJbWWjuQ%2BgcWpGyiBg%3D%3D&job=-VVAVmxC1uG2Huy1wk1iMBEDD1EUsDU9-CgmywnmrwOCinh2xzn0Tg\n",
      "https://www.simplyhired.com/search?q=Backend+Developer&l=united+states&t=1&cursor=ABQACACgAAAAAAAAAAAAAAACDzJ8QwECARImDhFVV26%2BDXPs%2BGWU%2FU%2FST50wBYtFwsdfFs9nRT9tav%2FXdHk25VRLsmorbNfW4Ob7vH%2BT8mhRwblWU6IOXYQiCJbWWjuQ%2BgcWpGyiBg%3D%3D&job=ZAyRfVtvG4_4Hu0f3id01-_Z-zIXrwIm_GVdwHaxMvnG458Ljx984g\n",
      "https://www.simplyhired.com/search?q=Backend+Developer&l=united+states&t=1&cursor=ABQACACgAAAAAAAAAAAAAAACDzJ8QwECARImDhFVV26%2BDXPs%2BGWU%2FU%2FST50wBYtFwsdfFs9nRT9tav%2FXdHk25VRLsmorbNfW4Ob7vH%2BT8mhRwblWU6IOXYQiCJbWWjuQ%2BgcWpGyiBg%3D%3D&job=EPfQu8I47t-RvvXaVYxVEXuqoc2Ttncr6Of4WewVP5cbpAVmuXUBMw\n",
      "https://www.simplyhired.com/search?q=Backend+Developer&l=united+states&t=1&cursor=ABQACACgAAAAAAAAAAAAAAACDzJ8QwECARImDhFVV26%2BDXPs%2BGWU%2FU%2FST50wBYtFwsdfFs9nRT9tav%2FXdHk25VRLsmorbNfW4Ob7vH%2BT8mhRwblWU6IOXYQiCJbWWjuQ%2BgcWpGyiBg%3D%3D&job=1gRa0QwC3uU7WsNhptlaf6mJLuDyodTcYsw19cR8asBEjHtqSaIJ_Q\n",
      "https://www.simplyhired.com/search?q=Backend+Developer&l=united+states&t=1&cursor=ABQACACgAAAAAAAAAAAAAAACDzJ8QwECARImDhFVV26%2BDXPs%2BGWU%2FU%2FST50wBYtFwsdfFs9nRT9tav%2FXdHk25VRLsmorbNfW4Ob7vH%2BT8mhRwblWU6IOXYQiCJbWWjuQ%2BgcWpGyiBg%3D%3D&job=4KVqDzOSdDhVlKNhY1CwkLM1QkSzIAzb1eluNUWoWk4bF1njZmBrtg\n",
      "https://www.simplyhired.com/search?q=Backend+Developer&l=united+states&t=1&cursor=ABQACACgAAAAAAAAAAAAAAACDzJ8QwECARImDhFVV26%2BDXPs%2BGWU%2FU%2FST50wBYtFwsdfFs9nRT9tav%2FXdHk25VRLsmorbNfW4Ob7vH%2BT8mhRwblWU6IOXYQiCJbWWjuQ%2BgcWpGyiBg%3D%3D&job=2sMU0QByi9Pp4o6pANt1v7oHxW-LkzKsPtX10RwtNWQnqu6jVjbfMg\n",
      "https://www.simplyhired.com/search?q=Backend+Developer&l=united+states&t=1&cursor=ABQACACgAAAAAAAAAAAAAAACDzJ8QwECARImDhFVV26%2BDXPs%2BGWU%2FU%2FST50wBYtFwsdfFs9nRT9tav%2FXdHk25VRLsmorbNfW4Ob7vH%2BT8mhRwblWU6IOXYQiCJbWWjuQ%2BgcWpGyiBg%3D%3D&job=7Jy6yiCJv_b0qQPWu6djAJ1ArCX7dt0-z2lwlefbCulwK1Wy4iEC0A\n",
      "https://www.simplyhired.com/search?q=Backend+Developer&l=united+states&t=1&cursor=ABQACACgAAAAAAAAAAAAAAACDzJ8QwECARImDhFVV26%2BDXPs%2BGWU%2FU%2FST50wBYtFwsdfFs9nRT9tav%2FXdHk25VRLsmorbNfW4Ob7vH%2BT8mhRwblWU6IOXYQiCJbWWjuQ%2BgcWpGyiBg%3D%3D&job=pOmnv6G6HJZN5eJ-iAQsR5me1wZOgrjWBTFR3CHF3Lzf5a2OhSh7cw\n",
      "https://www.simplyhired.com/search?q=Backend+Developer&l=united+states&t=1&cursor=ABQACACgAAAAAAAAAAAAAAACDzJ8QwECARImDhFVV26%2BDXPs%2BGWU%2FU%2FST50wBYtFwsdfFs9nRT9tav%2FXdHk25VRLsmorbNfW4Ob7vH%2BT8mhRwblWU6IOXYQiCJbWWjuQ%2BgcWpGyiBg%3D%3D&job=_UF0mdCt61wyHzwLYdRaHcH0T_BhYlEeqa4W2hOWYTy7xYF95iM5UQ\n",
      "https://www.simplyhired.com/search?q=Backend+Developer&l=united+states&t=1&cursor=ABQACACgAAAAAAAAAAAAAAACDzJ8QwECARImDhFVV26%2BDXPs%2BGWU%2FU%2FST50wBYtFwsdfFs9nRT9tav%2FXdHk25VRLsmorbNfW4Ob7vH%2BT8mhRwblWU6IOXYQiCJbWWjuQ%2BgcWpGyiBg%3D%3D&job=uwW2q32e0TBOUDUxL3S3g3BLT1OFybjpUwO6KwxfX9dGLvMd-Jc2Qw\n",
      "https://www.simplyhired.com/search?q=Backend+Developer&l=united+states&t=1&cursor=ABQACACgAAAAAAAAAAAAAAACDzJ8QwECARImDhFVV26%2BDXPs%2BGWU%2FU%2FST50wBYtFwsdfFs9nRT9tav%2FXdHk25VRLsmorbNfW4Ob7vH%2BT8mhRwblWU6IOXYQiCJbWWjuQ%2BgcWpGyiBg%3D%3D&job=8Td8N69aPENFAPoU8RkkpN57nOjr59Qmfxp6w6_cvYRtcHJEzsckPg\n",
      "https://www.simplyhired.com/search?q=Backend+Developer&l=united+states&t=1&cursor=ABQACACgAAAAAAAAAAAAAAACDzJ8QwECARImDhFVV26%2BDXPs%2BGWU%2FU%2FST50wBYtFwsdfFs9nRT9tav%2FXdHk25VRLsmorbNfW4Ob7vH%2BT8mhRwblWU6IOXYQiCJbWWjuQ%2BgcWpGyiBg%3D%3D&job=KTOmLHvsoPIg2xLWKZlSyiwUxD2PnydFS3nq-AlrLMFCPMx7HPSdnA\n",
      "https://www.simplyhired.com/search?q=Backend+Developer&l=united+states&t=1&cursor=ABQACACgAAAAAAAAAAAAAAACDzJ8QwECARImDhFVV26%2BDXPs%2BGWU%2FU%2FST50wBYtFwsdfFs9nRT9tav%2FXdHk25VRLsmorbNfW4Ob7vH%2BT8mhRwblWU6IOXYQiCJbWWjuQ%2BgcWpGyiBg%3D%3D&job=_hYLa8KvF_a0qP9hDkOYhlM5wEVSkLSd_vCdcpGr3l8nUsuG16Fplw\n",
      "https://www.simplyhired.com/search?q=Backend+Developer&l=united+states&t=1&cursor=ABQACACgAAAAAAAAAAAAAAACDzJ8QwECARImDhFVV26%2BDXPs%2BGWU%2FU%2FST50wBYtFwsdfFs9nRT9tav%2FXdHk25VRLsmorbNfW4Ob7vH%2BT8mhRwblWU6IOXYQiCJbWWjuQ%2BgcWpGyiBg%3D%3D&job=R6ovlftLNjRplsYnwFlOn98_p6q0tWdKb7sM1uazmKobCPZzyWJZGA\n",
      "https://www.simplyhired.com/search?q=Backend+Developer&l=united+states&t=1&cursor=ABQACACgAAAAAAAAAAAAAAACDzJ8QwECARImDhFVV26%2BDXPs%2BGWU%2FU%2FST50wBYtFwsdfFs9nRT9tav%2FXdHk25VRLsmorbNfW4Ob7vH%2BT8mhRwblWU6IOXYQiCJbWWjuQ%2BgcWpGyiBg%3D%3D&job=2bfFcnTWg4px9HeNkaIR1P0qGyPto9UcUA1ptJsEDXED6lEDmkaWJQ\n",
      "https://www.simplyhired.com/search?q=Backend+Developer&l=united+states&t=1&cursor=ABQACACgAAAAAAAAAAAAAAACDzJ8QwECARImDhFVV26%2BDXPs%2BGWU%2FU%2FST50wBYtFwsdfFs9nRT9tav%2FXdHk25VRLsmorbNfW4Ob7vH%2BT8mhRwblWU6IOXYQiCJbWWjuQ%2BgcWpGyiBg%3D%3D&job=PemuwuZK-CosYNiZM_wPJ2gt_vks4ObX5UF3YOScq0AE17530QkAGg\n",
      "https://www.simplyhired.com/search?q=Backend+Developer&l=united+states&t=1&cursor=ABQACACgAAAAAAAAAAAAAAACDzJ8QwECARImDhFVV26%2BDXPs%2BGWU%2FU%2FST50wBYtFwsdfFs9nRT9tav%2FXdHk25VRLsmorbNfW4Ob7vH%2BT8mhRwblWU6IOXYQiCJbWWjuQ%2BgcWpGyiBg%3D%3D&job=eB9McEH2mtc7y0ZbT5oJGGUDk8aFZkV00_ePZMN8HmaRH4ZtK3O_zQ\n",
      "https://www.simplyhired.com/search?q=Backend+Developer&l=united+states&t=1&cursor=ABQACACgAAAAAAAAAAAAAAACDzJ8QwECARImDhFVV26%2BDXPs%2BGWU%2FU%2FST50wBYtFwsdfFs9nRT9tav%2FXdHk25VRLsmorbNfW4Ob7vH%2BT8mhRwblWU6IOXYQiCJbWWjuQ%2BgcWpGyiBg%3D%3D&job=g9VNh6YWq7mBtA-hMP_Ms13BrB5S3N_GDF99HrvZ-KTB-_5S3Wt3yA\n",
      "https://www.simplyhired.com/search?q=Backend+Developer&l=united+states&t=1&cursor=ABQACACgAAAAAAAAAAAAAAACDzJ8QwECARImDhFVV26%2BDXPs%2BGWU%2FU%2FST50wBYtFwsdfFs9nRT9tav%2FXdHk25VRLsmorbNfW4Ob7vH%2BT8mhRwblWU6IOXYQiCJbWWjuQ%2BgcWpGyiBg%3D%3D&job=4l5oEEeU5bNlxmAIH8n1aoL_7isz4E5Xnc5TEXIUkhhoRp2I9QqwaA\n",
      "https://www.simplyhired.com/search?q=Backend+Developer&l=united+states&t=1&cursor=ABQACACgAAAAAAAAAAAAAAACDzJ8QwECARImDhFVV26%2BDXPs%2BGWU%2FU%2FST50wBYtFwsdfFs9nRT9tav%2FXdHk25VRLsmorbNfW4Ob7vH%2BT8mhRwblWU6IOXYQiCJbWWjuQ%2BgcWpGyiBg%3D%3D&job=9VS1TLwVKtc5wgboyKBpJoU6OsE4gSX0xUjUaowVYajn4BKrrsSpUQ\n"
     ]
    },
    {
     "name": "stderr",
     "output_type": "stream",
     "text": [
      "/tmp/ipykernel_5743/3381847202.py:22: FutureWarning: The frame.append method is deprecated and will be removed from pandas in a future version. Use pandas.concat instead.\n",
      "  df = df.append(page_data)\n"
     ]
    },
    {
     "name": "stdout",
     "output_type": "stream",
     "text": [
      "Page Number: 10  Page Link:  https://www.simplyhired.com/search?q=Backend+Developer&l=united+states&t=1&cursor=ABQACQC0AAAAAAAAAAAAAAACDzLMFQECARImDhwZqd%2FTadF075rtOBSmvy6K0HC2cvMi1jLpVhJgMCmrPDueDaoBsOdFe%2FkRqvEkx7CX6dcvuP5MzxfezVmZ%2B1kpPxr1npI%3D\n",
      "https://www.simplyhired.com/search?q=Backend+Developer&l=united+states&t=1&cursor=ABQACQC0AAAAAAAAAAAAAAACDzLMFQECARImDhwZqd%2FTadF075rtOBSmvy6K0HC2cvMi1jLpVhJgMCmrPDueDaoBsOdFe%2FkRqvEkx7CX6dcvuP5MzxfezVmZ%2B1kpPxr1npI%3D&job=NrasQGTq1BfatyWH_G2TQZjXr78Vwgb9e32LmGs7yzkt3CF7O0VFxw\n",
      "https://www.simplyhired.com/search?q=Backend+Developer&l=united+states&t=1&cursor=ABQACQC0AAAAAAAAAAAAAAACDzLMFQECARImDhwZqd%2FTadF075rtOBSmvy6K0HC2cvMi1jLpVhJgMCmrPDueDaoBsOdFe%2FkRqvEkx7CX6dcvuP5MzxfezVmZ%2B1kpPxr1npI%3D&job=RpVOs4N-p_U66dVW2yYmMC8E9Qb1U8VlFaoxTAkVoIH-Hbo1_mfF9g\n",
      "https://www.simplyhired.com/search?q=Backend+Developer&l=united+states&t=1&cursor=ABQACQC0AAAAAAAAAAAAAAACDzLMFQECARImDhwZqd%2FTadF075rtOBSmvy6K0HC2cvMi1jLpVhJgMCmrPDueDaoBsOdFe%2FkRqvEkx7CX6dcvuP5MzxfezVmZ%2B1kpPxr1npI%3D&job=gA22xXRtHckjp2eAzLcK_QJ3UANKMhm2Desxrd_U7TZPQYTPnrmpDw\n",
      "https://www.simplyhired.com/search?q=Backend+Developer&l=united+states&t=1&cursor=ABQACQC0AAAAAAAAAAAAAAACDzLMFQECARImDhwZqd%2FTadF075rtOBSmvy6K0HC2cvMi1jLpVhJgMCmrPDueDaoBsOdFe%2FkRqvEkx7CX6dcvuP5MzxfezVmZ%2B1kpPxr1npI%3D&job=agVJcfnAfbLNIKfYRqzakj2p7pgy3wYT6VHca4UMzwII7wnogrFOhw\n",
      "https://www.simplyhired.com/search?q=Backend+Developer&l=united+states&t=1&cursor=ABQACQC0AAAAAAAAAAAAAAACDzLMFQECARImDhwZqd%2FTadF075rtOBSmvy6K0HC2cvMi1jLpVhJgMCmrPDueDaoBsOdFe%2FkRqvEkx7CX6dcvuP5MzxfezVmZ%2B1kpPxr1npI%3D&job=YwTcKrUnPa7yCcfmG8NQ7M0H5JV2tkubygfvFT7qbqjso8T1OB65cA\n",
      "https://www.simplyhired.com/search?q=Backend+Developer&l=united+states&t=1&cursor=ABQACQC0AAAAAAAAAAAAAAACDzLMFQECARImDhwZqd%2FTadF075rtOBSmvy6K0HC2cvMi1jLpVhJgMCmrPDueDaoBsOdFe%2FkRqvEkx7CX6dcvuP5MzxfezVmZ%2B1kpPxr1npI%3D&job=PDbhYl3R_6-7t6HGb8OX_l6XdMktB6bbyE3faxr2opjdCi50s1Yh9A\n",
      "https://www.simplyhired.com/search?q=Backend+Developer&l=united+states&t=1&cursor=ABQACQC0AAAAAAAAAAAAAAACDzLMFQECARImDhwZqd%2FTadF075rtOBSmvy6K0HC2cvMi1jLpVhJgMCmrPDueDaoBsOdFe%2FkRqvEkx7CX6dcvuP5MzxfezVmZ%2B1kpPxr1npI%3D&job=dc8wa7L8krKdxA98iHDWvc92dDEfWKfEdrDsw_zoy-4ZI1vcpH5fzw\n",
      "https://www.simplyhired.com/search?q=Backend+Developer&l=united+states&t=1&cursor=ABQACQC0AAAAAAAAAAAAAAACDzLMFQECARImDhwZqd%2FTadF075rtOBSmvy6K0HC2cvMi1jLpVhJgMCmrPDueDaoBsOdFe%2FkRqvEkx7CX6dcvuP5MzxfezVmZ%2B1kpPxr1npI%3D&job=2SvfzU-Ona71lcFFonb9NWICOatd8orM98g9iCydixuDNUWFhEsuvw\n",
      "https://www.simplyhired.com/search?q=Backend+Developer&l=united+states&t=1&cursor=ABQACQC0AAAAAAAAAAAAAAACDzLMFQECARImDhwZqd%2FTadF075rtOBSmvy6K0HC2cvMi1jLpVhJgMCmrPDueDaoBsOdFe%2FkRqvEkx7CX6dcvuP5MzxfezVmZ%2B1kpPxr1npI%3D&job=1BZ3TbU53w0WHHjlb0sAia8GagEFOqpErDj_crjhxHEPcP-1SqJa7Q\n",
      "https://www.simplyhired.com/search?q=Backend+Developer&l=united+states&t=1&cursor=ABQACQC0AAAAAAAAAAAAAAACDzLMFQECARImDhwZqd%2FTadF075rtOBSmvy6K0HC2cvMi1jLpVhJgMCmrPDueDaoBsOdFe%2FkRqvEkx7CX6dcvuP5MzxfezVmZ%2B1kpPxr1npI%3D&job=OVgaK81magqPMGes_at6fYxWYZvwFf5AeCOcaK89nYI_K_RWWTXfDg\n",
      "https://www.simplyhired.com/search?q=Backend+Developer&l=united+states&t=1&cursor=ABQACQC0AAAAAAAAAAAAAAACDzLMFQECARImDhwZqd%2FTadF075rtOBSmvy6K0HC2cvMi1jLpVhJgMCmrPDueDaoBsOdFe%2FkRqvEkx7CX6dcvuP5MzxfezVmZ%2B1kpPxr1npI%3D&job=hh39N-c2m84n9w0SC53VjabRvr3bbqI-IDhjI6QNqdwVtJZawbACrw\n",
      "https://www.simplyhired.com/search?q=Backend+Developer&l=united+states&t=1&cursor=ABQACQC0AAAAAAAAAAAAAAACDzLMFQECARImDhwZqd%2FTadF075rtOBSmvy6K0HC2cvMi1jLpVhJgMCmrPDueDaoBsOdFe%2FkRqvEkx7CX6dcvuP5MzxfezVmZ%2B1kpPxr1npI%3D&job=bX66lh88OMN5jUc0Qv0ZFxFiKZcwagDDslfs0QpL0_NJEfWsHTERZA\n",
      "https://www.simplyhired.com/search?q=Backend+Developer&l=united+states&t=1&cursor=ABQACQC0AAAAAAAAAAAAAAACDzLMFQECARImDhwZqd%2FTadF075rtOBSmvy6K0HC2cvMi1jLpVhJgMCmrPDueDaoBsOdFe%2FkRqvEkx7CX6dcvuP5MzxfezVmZ%2B1kpPxr1npI%3D&job=UlYrjum26rjWWRv4Fi41Bnrel7xbd3PYi2FOReFlASC05vVeWZWnPw\n",
      "https://www.simplyhired.com/search?q=Backend+Developer&l=united+states&t=1&cursor=ABQACQC0AAAAAAAAAAAAAAACDzLMFQECARImDhwZqd%2FTadF075rtOBSmvy6K0HC2cvMi1jLpVhJgMCmrPDueDaoBsOdFe%2FkRqvEkx7CX6dcvuP5MzxfezVmZ%2B1kpPxr1npI%3D&job=h1A6EuFpS-qnhD5S75yA0vnsgJpKZd2A2wvUrDHbv-3BFHjy4lOuhQ\n",
      "https://www.simplyhired.com/search?q=Backend+Developer&l=united+states&t=1&cursor=ABQACQC0AAAAAAAAAAAAAAACDzLMFQECARImDhwZqd%2FTadF075rtOBSmvy6K0HC2cvMi1jLpVhJgMCmrPDueDaoBsOdFe%2FkRqvEkx7CX6dcvuP5MzxfezVmZ%2B1kpPxr1npI%3D&job=en0GlhMzdJaD8VsqvsKm8FDNIB0yiua3sPkNOTlWwWNaqZ-zQ6SkWQ\n",
      "https://www.simplyhired.com/search?q=Backend+Developer&l=united+states&t=1&cursor=ABQACQC0AAAAAAAAAAAAAAACDzLMFQECARImDhwZqd%2FTadF075rtOBSmvy6K0HC2cvMi1jLpVhJgMCmrPDueDaoBsOdFe%2FkRqvEkx7CX6dcvuP5MzxfezVmZ%2B1kpPxr1npI%3D&job=taW2vdqmABda3A-soIB1NkN4ARhutvIEfWaot7pEzluOGLWVe2rh1w\n",
      "https://www.simplyhired.com/search?q=Backend+Developer&l=united+states&t=1&cursor=ABQACQC0AAAAAAAAAAAAAAACDzLMFQECARImDhwZqd%2FTadF075rtOBSmvy6K0HC2cvMi1jLpVhJgMCmrPDueDaoBsOdFe%2FkRqvEkx7CX6dcvuP5MzxfezVmZ%2B1kpPxr1npI%3D&job=KJEktA0xAmFdQv28E7KiJxatZ0Cz564UzKnR2KqqeoAF4EzSMTMcZA\n",
      "https://www.simplyhired.com/search?q=Backend+Developer&l=united+states&t=1&cursor=ABQACQC0AAAAAAAAAAAAAAACDzLMFQECARImDhwZqd%2FTadF075rtOBSmvy6K0HC2cvMi1jLpVhJgMCmrPDueDaoBsOdFe%2FkRqvEkx7CX6dcvuP5MzxfezVmZ%2B1kpPxr1npI%3D&job=Jj30Bgf3q-fUif6UUqMSP1u6yYIzu9IxKMZRU-Ot5HscSDRlCnnptA\n",
      "https://www.simplyhired.com/search?q=Backend+Developer&l=united+states&t=1&cursor=ABQACQC0AAAAAAAAAAAAAAACDzLMFQECARImDhwZqd%2FTadF075rtOBSmvy6K0HC2cvMi1jLpVhJgMCmrPDueDaoBsOdFe%2FkRqvEkx7CX6dcvuP5MzxfezVmZ%2B1kpPxr1npI%3D&job=tRVb8KYLKDpQSv9MGwn5T7WZ_Zbe0JHNpAbvX-JVagl9A0t4lNlcVg\n",
      "https://www.simplyhired.com/search?q=Backend+Developer&l=united+states&t=1&cursor=ABQACQC0AAAAAAAAAAAAAAACDzLMFQECARImDhwZqd%2FTadF075rtOBSmvy6K0HC2cvMi1jLpVhJgMCmrPDueDaoBsOdFe%2FkRqvEkx7CX6dcvuP5MzxfezVmZ%2B1kpPxr1npI%3D&job=f6EcLBxJelIA3Fv_HuUlNpxd4ilZKPRTApl4ypW4MiZvuGWG2kxWaA\n"
     ]
    },
    {
     "name": "stderr",
     "output_type": "stream",
     "text": [
      "/tmp/ipykernel_5743/3381847202.py:22: FutureWarning: The frame.append method is deprecated and will be removed from pandas in a future version. Use pandas.concat instead.\n",
      "  df = df.append(page_data)\n"
     ]
    },
    {
     "name": "stdout",
     "output_type": "stream",
     "text": [
      "Page Number: 11  Page Link:  https://www.simplyhired.com/search?q=Backend+Developer&l=united+states&t=1&cursor=ABQACgDIAAAAAAAAAAAAAAACDzLMFQEBARAZVo45eo74b2iUgV87ewWWNy65A6EPuNYCGM03IHNgSl6lWR086WIlOc9x4tJuEF7M%2FSV7U%2FI%2FSQnwLDWGxkA%3D\n",
      "https://www.simplyhired.com/search?q=Backend+Developer&l=united+states&t=1&cursor=ABQACgDIAAAAAAAAAAAAAAACDzLMFQEBARAZVo45eo74b2iUgV87ewWWNy65A6EPuNYCGM03IHNgSl6lWR086WIlOc9x4tJuEF7M%2FSV7U%2FI%2FSQnwLDWGxkA%3D&job=5VzHrBNc2reJp_07g7ajDOFLHdMI5c0CuK4rjAkf9mm10LgBfW8MMg\n",
      "https://www.simplyhired.com/search?q=Backend+Developer&l=united+states&t=1&cursor=ABQACgDIAAAAAAAAAAAAAAACDzLMFQEBARAZVo45eo74b2iUgV87ewWWNy65A6EPuNYCGM03IHNgSl6lWR086WIlOc9x4tJuEF7M%2FSV7U%2FI%2FSQnwLDWGxkA%3D&job=S4mhRDZYFq8kFY0TJCRPOpAqWFm35p1nv1RM2sFaZFG4300dHSltnA\n",
      "https://www.simplyhired.com/search?q=Backend+Developer&l=united+states&t=1&cursor=ABQACgDIAAAAAAAAAAAAAAACDzLMFQEBARAZVo45eo74b2iUgV87ewWWNy65A6EPuNYCGM03IHNgSl6lWR086WIlOc9x4tJuEF7M%2FSV7U%2FI%2FSQnwLDWGxkA%3D&job=AO8iiFU2nyVyJEgUc_eRH4g5TJp2V74PcdgvXp7NNeF9lKWW1oBPoA\n",
      "https://www.simplyhired.com/search?q=Backend+Developer&l=united+states&t=1&cursor=ABQACgDIAAAAAAAAAAAAAAACDzLMFQEBARAZVo45eo74b2iUgV87ewWWNy65A6EPuNYCGM03IHNgSl6lWR086WIlOc9x4tJuEF7M%2FSV7U%2FI%2FSQnwLDWGxkA%3D&job=r920qqOICFaLIg4uUxAzhT60mQaEe0a4fg45rGDEQfA8Z2_WRyRcZw\n",
      "https://www.simplyhired.com/search?q=Backend+Developer&l=united+states&t=1&cursor=ABQACgDIAAAAAAAAAAAAAAACDzLMFQEBARAZVo45eo74b2iUgV87ewWWNy65A6EPuNYCGM03IHNgSl6lWR086WIlOc9x4tJuEF7M%2FSV7U%2FI%2FSQnwLDWGxkA%3D&job=a51u0t7ztfGxfrROo-pjEFEOZJ46-NBSnUas-WaUquP-8ky3ZPrHIg\n",
      "https://www.simplyhired.com/search?q=Backend+Developer&l=united+states&t=1&cursor=ABQACgDIAAAAAAAAAAAAAAACDzLMFQEBARAZVo45eo74b2iUgV87ewWWNy65A6EPuNYCGM03IHNgSl6lWR086WIlOc9x4tJuEF7M%2FSV7U%2FI%2FSQnwLDWGxkA%3D&job=poU20EZ5Y4NWsQddcIrZyWBjTzjOOfH8JDrV87TkQBFjl8JR5DXnBA\n",
      "https://www.simplyhired.com/search?q=Backend+Developer&l=united+states&t=1&cursor=ABQACgDIAAAAAAAAAAAAAAACDzLMFQEBARAZVo45eo74b2iUgV87ewWWNy65A6EPuNYCGM03IHNgSl6lWR086WIlOc9x4tJuEF7M%2FSV7U%2FI%2FSQnwLDWGxkA%3D&job=so-taOQOmUl37Aym1pOXxe-bnEAumhjHxC-aT6syKywEYpShU9I5TQ\n",
      "https://www.simplyhired.com/search?q=Backend+Developer&l=united+states&t=1&cursor=ABQACgDIAAAAAAAAAAAAAAACDzLMFQEBARAZVo45eo74b2iUgV87ewWWNy65A6EPuNYCGM03IHNgSl6lWR086WIlOc9x4tJuEF7M%2FSV7U%2FI%2FSQnwLDWGxkA%3D&job=bqo-uNsgKlitucAv6acfw1l6qo3y_7y5Wwb2eJ-OooLu_gYmkKTt-g\n",
      "https://www.simplyhired.com/search?q=Backend+Developer&l=united+states&t=1&cursor=ABQACgDIAAAAAAAAAAAAAAACDzLMFQEBARAZVo45eo74b2iUgV87ewWWNy65A6EPuNYCGM03IHNgSl6lWR086WIlOc9x4tJuEF7M%2FSV7U%2FI%2FSQnwLDWGxkA%3D&job=WHWrHIZaMqMqRWxkuz9rlM3PusKK4zjxLWOMh_YsscFSOuptdqWjrQ\n",
      "https://www.simplyhired.com/search?q=Backend+Developer&l=united+states&t=1&cursor=ABQACgDIAAAAAAAAAAAAAAACDzLMFQEBARAZVo45eo74b2iUgV87ewWWNy65A6EPuNYCGM03IHNgSl6lWR086WIlOc9x4tJuEF7M%2FSV7U%2FI%2FSQnwLDWGxkA%3D&job=4zfis7BfHzB5c7SfaNq_KwEs7Aqzh-pmnuhwFFhiR9sFJvuf9itUqQ\n",
      "https://www.simplyhired.com/search?q=Backend+Developer&l=united+states&t=1&cursor=ABQACgDIAAAAAAAAAAAAAAACDzLMFQEBARAZVo45eo74b2iUgV87ewWWNy65A6EPuNYCGM03IHNgSl6lWR086WIlOc9x4tJuEF7M%2FSV7U%2FI%2FSQnwLDWGxkA%3D&job=nPTM9CuBWvdIGDPDNCoWuoSKQ9bZLOavXTHuCMTSvy3g8vy2M4f4EQ\n",
      "https://www.simplyhired.com/search?q=Backend+Developer&l=united+states&t=1&cursor=ABQACgDIAAAAAAAAAAAAAAACDzLMFQEBARAZVo45eo74b2iUgV87ewWWNy65A6EPuNYCGM03IHNgSl6lWR086WIlOc9x4tJuEF7M%2FSV7U%2FI%2FSQnwLDWGxkA%3D&job=BgVAOw9YzZ_P1RN10lRiEZhhKzTGhKLuxTNam3X2yH0SVQkpmvsMBA\n",
      "https://www.simplyhired.com/search?q=Backend+Developer&l=united+states&t=1&cursor=ABQACgDIAAAAAAAAAAAAAAACDzLMFQEBARAZVo45eo74b2iUgV87ewWWNy65A6EPuNYCGM03IHNgSl6lWR086WIlOc9x4tJuEF7M%2FSV7U%2FI%2FSQnwLDWGxkA%3D&job=HXEjcZd4JV3dSk_T4BYPZ0J821G5Um6uU4sJGkT6eUds3G4nr9DElg\n",
      "https://www.simplyhired.com/search?q=Backend+Developer&l=united+states&t=1&cursor=ABQACgDIAAAAAAAAAAAAAAACDzLMFQEBARAZVo45eo74b2iUgV87ewWWNy65A6EPuNYCGM03IHNgSl6lWR086WIlOc9x4tJuEF7M%2FSV7U%2FI%2FSQnwLDWGxkA%3D&job=DLU_5JjQ02ybEO-yMM8jiJhTS2iTWApVlcWoxYZLiLmNkDZdI9gZNA\n",
      "https://www.simplyhired.com/search?q=Backend+Developer&l=united+states&t=1&cursor=ABQACgDIAAAAAAAAAAAAAAACDzLMFQEBARAZVo45eo74b2iUgV87ewWWNy65A6EPuNYCGM03IHNgSl6lWR086WIlOc9x4tJuEF7M%2FSV7U%2FI%2FSQnwLDWGxkA%3D&job=l6LBLMkeRLXHidT9GlGS3vUHn48IjFElRF2lZBqefp6m1rRjucdqsw\n",
      "https://www.simplyhired.com/search?q=Backend+Developer&l=united+states&t=1&cursor=ABQACgDIAAAAAAAAAAAAAAACDzLMFQEBARAZVo45eo74b2iUgV87ewWWNy65A6EPuNYCGM03IHNgSl6lWR086WIlOc9x4tJuEF7M%2FSV7U%2FI%2FSQnwLDWGxkA%3D&job=tyS_0Fojq_dLrwnK-tMo_ouH2nFS_NxjawvflmKo6rKmV3EHZLlsEg\n",
      "https://www.simplyhired.com/search?q=Backend+Developer&l=united+states&t=1&cursor=ABQACgDIAAAAAAAAAAAAAAACDzLMFQEBARAZVo45eo74b2iUgV87ewWWNy65A6EPuNYCGM03IHNgSl6lWR086WIlOc9x4tJuEF7M%2FSV7U%2FI%2FSQnwLDWGxkA%3D&job=ddQh_TlEhik5uTwXumdwwSQcMiE7wOekpJH7LXcN8smtrd_yh1Cnlg\n",
      "https://www.simplyhired.com/search?q=Backend+Developer&l=united+states&t=1&cursor=ABQACgDIAAAAAAAAAAAAAAACDzLMFQEBARAZVo45eo74b2iUgV87ewWWNy65A6EPuNYCGM03IHNgSl6lWR086WIlOc9x4tJuEF7M%2FSV7U%2FI%2FSQnwLDWGxkA%3D&job=8A0mDewk_sQua35236R0odRAbAxYf09bVEYhPeRHsxfzWEwxjI0pNg\n",
      "https://www.simplyhired.com/search?q=Backend+Developer&l=united+states&t=1&cursor=ABQACgDIAAAAAAAAAAAAAAACDzLMFQEBARAZVo45eo74b2iUgV87ewWWNy65A6EPuNYCGM03IHNgSl6lWR086WIlOc9x4tJuEF7M%2FSV7U%2FI%2FSQnwLDWGxkA%3D&job=1Q3iQIgdGSVhqx_6N_w7vTBtC2-c24XFEc6YRmmu9jE7HZffXMvdvg\n",
      "https://www.simplyhired.com/search?q=Backend+Developer&l=united+states&t=1&cursor=ABQACgDIAAAAAAAAAAAAAAACDzLMFQEBARAZVo45eo74b2iUgV87ewWWNy65A6EPuNYCGM03IHNgSl6lWR086WIlOc9x4tJuEF7M%2FSV7U%2FI%2FSQnwLDWGxkA%3D&job=Ng2-AFsJ0h_ZWxn0tTd5I0VCba_TQvZrDYMdUQquEDCpgP_Swjw69A\n"
     ]
    },
    {
     "name": "stderr",
     "output_type": "stream",
     "text": [
      "/tmp/ipykernel_5743/3381847202.py:22: FutureWarning: The frame.append method is deprecated and will be removed from pandas in a future version. Use pandas.concat instead.\n",
      "  df = df.append(page_data)\n"
     ]
    },
    {
     "name": "stdout",
     "output_type": "stream",
     "text": [
      "Page Number: 12  Page Link:  https://www.simplyhired.com/search?q=Backend+Developer&l=united+states&t=1&cursor=ABQACwDcAAAAAAAAAAAAAAACDzLMFQECAQcQBwZABhycMi6p0tvUPi3GZTA%2FSihxmU06s9BsX%2BwkaR8lUHYCZQQqlF0dkn775SebbvIOjXo%3D\n",
      "https://www.simplyhired.com/search?q=Backend+Developer&l=united+states&t=1&cursor=ABQACwDcAAAAAAAAAAAAAAACDzLMFQECAQcQBwZABhycMi6p0tvUPi3GZTA%2FSihxmU06s9BsX%2BwkaR8lUHYCZQQqlF0dkn775SebbvIOjXo%3D&job=ge-O-bJmm1qCl1r875PITqvuBdG_38QdgGGXSjrAwrsoS0W8jtpECw\n",
      "https://www.simplyhired.com/search?q=Backend+Developer&l=united+states&t=1&cursor=ABQACwDcAAAAAAAAAAAAAAACDzLMFQECAQcQBwZABhycMi6p0tvUPi3GZTA%2FSihxmU06s9BsX%2BwkaR8lUHYCZQQqlF0dkn775SebbvIOjXo%3D&job=Uzx0gBV2GjbLdn9FzR7Xt_HRVHV1q--R1VBqXUJuGNALSmPDjjPr9Q\n",
      "https://www.simplyhired.com/search?q=Backend+Developer&l=united+states&t=1&cursor=ABQACwDcAAAAAAAAAAAAAAACDzLMFQECAQcQBwZABhycMi6p0tvUPi3GZTA%2FSihxmU06s9BsX%2BwkaR8lUHYCZQQqlF0dkn775SebbvIOjXo%3D&job=onj-fhZXGJSIaUveRrIDZmWph_5k_S-ZmaDERfUuXzzZ44STJEYMNQ\n",
      "https://www.simplyhired.com/search?q=Backend+Developer&l=united+states&t=1&cursor=ABQACwDcAAAAAAAAAAAAAAACDzLMFQECAQcQBwZABhycMi6p0tvUPi3GZTA%2FSihxmU06s9BsX%2BwkaR8lUHYCZQQqlF0dkn775SebbvIOjXo%3D&job=0Jf2ePFYw1ekmK7Z5bqDb1F2flfUQV31zK7i-ZdnQOaOiKr8T1BwdQ\n",
      "https://www.simplyhired.com/search?q=Backend+Developer&l=united+states&t=1&cursor=ABQACwDcAAAAAAAAAAAAAAACDzLMFQECAQcQBwZABhycMi6p0tvUPi3GZTA%2FSihxmU06s9BsX%2BwkaR8lUHYCZQQqlF0dkn775SebbvIOjXo%3D&job=SPZH3EaW7vi8fh_BfZgfVqaMtUu9Bunk2pSXqEz4Ik8AP22cqxhxVQ\n",
      "https://www.simplyhired.com/search?q=Backend+Developer&l=united+states&t=1&cursor=ABQACwDcAAAAAAAAAAAAAAACDzLMFQECAQcQBwZABhycMi6p0tvUPi3GZTA%2FSihxmU06s9BsX%2BwkaR8lUHYCZQQqlF0dkn775SebbvIOjXo%3D&job=COk4QaBBzQ_fRF5suJoPrdBUUgsv73kxQGE9MTuGFW7rKwFc5ceQCQ\n",
      "https://www.simplyhired.com/search?q=Backend+Developer&l=united+states&t=1&cursor=ABQACwDcAAAAAAAAAAAAAAACDzLMFQECAQcQBwZABhycMi6p0tvUPi3GZTA%2FSihxmU06s9BsX%2BwkaR8lUHYCZQQqlF0dkn775SebbvIOjXo%3D&job=rUTksIUU7RHlLg1lBYD5Ggb0XtSYUqO93HPmq5409mUYN4GSj7ZnsQ\n",
      "https://www.simplyhired.com/search?q=Backend+Developer&l=united+states&t=1&cursor=ABQACwDcAAAAAAAAAAAAAAACDzLMFQECAQcQBwZABhycMi6p0tvUPi3GZTA%2FSihxmU06s9BsX%2BwkaR8lUHYCZQQqlF0dkn775SebbvIOjXo%3D&job=Dk1YAQlu24vkdp7fPHIR3DfRCqrPbZ0JWvkuFdPtSAcfbWl-ZIz2Kg\n",
      "https://www.simplyhired.com/search?q=Backend+Developer&l=united+states&t=1&cursor=ABQACwDcAAAAAAAAAAAAAAACDzLMFQECAQcQBwZABhycMi6p0tvUPi3GZTA%2FSihxmU06s9BsX%2BwkaR8lUHYCZQQqlF0dkn775SebbvIOjXo%3D&job=QL5Fx-hPsK1yuS86ncrOr9IjJrk6s2rQYaWOy6aszajUNVvliDwvUQ\n",
      "https://www.simplyhired.com/search?q=Backend+Developer&l=united+states&t=1&cursor=ABQACwDcAAAAAAAAAAAAAAACDzLMFQECAQcQBwZABhycMi6p0tvUPi3GZTA%2FSihxmU06s9BsX%2BwkaR8lUHYCZQQqlF0dkn775SebbvIOjXo%3D&job=kT4tPChc8BxODkjgtGCkAAx5DapM6t0cepwsMAsM-phGx7oInMWnng\n",
      "https://www.simplyhired.com/search?q=Backend+Developer&l=united+states&t=1&cursor=ABQACwDcAAAAAAAAAAAAAAACDzLMFQECAQcQBwZABhycMi6p0tvUPi3GZTA%2FSihxmU06s9BsX%2BwkaR8lUHYCZQQqlF0dkn775SebbvIOjXo%3D&job=ZMVojgF25Uhy3w_-pg0USXjcUy5dpE4ab5-l8miwMEPQfnL4zEBLzQ\n",
      "https://www.simplyhired.com/search?q=Backend+Developer&l=united+states&t=1&cursor=ABQACwDcAAAAAAAAAAAAAAACDzLMFQECAQcQBwZABhycMi6p0tvUPi3GZTA%2FSihxmU06s9BsX%2BwkaR8lUHYCZQQqlF0dkn775SebbvIOjXo%3D&job=AMKGMVbVaKT-fZqT6t8mi8djLs5gMNZ3K0vSt-Q4v6UzMdaDRhtJVA\n",
      "https://www.simplyhired.com/search?q=Backend+Developer&l=united+states&t=1&cursor=ABQACwDcAAAAAAAAAAAAAAACDzLMFQECAQcQBwZABhycMi6p0tvUPi3GZTA%2FSihxmU06s9BsX%2BwkaR8lUHYCZQQqlF0dkn775SebbvIOjXo%3D&job=g8h90ATX8H3JtgG0J8bJLSsUZ9xc2zV8GZ2s9UaKe_HXVje0HdD3cQ\n",
      "https://www.simplyhired.com/search?q=Backend+Developer&l=united+states&t=1&cursor=ABQACwDcAAAAAAAAAAAAAAACDzLMFQECAQcQBwZABhycMi6p0tvUPi3GZTA%2FSihxmU06s9BsX%2BwkaR8lUHYCZQQqlF0dkn775SebbvIOjXo%3D&job=5dnGxhA21Gnqk3SBmrANADbVbUDOVpf6EjB07eyCjRBX1oP0W9NkIg\n",
      "https://www.simplyhired.com/search?q=Backend+Developer&l=united+states&t=1&cursor=ABQACwDcAAAAAAAAAAAAAAACDzLMFQECAQcQBwZABhycMi6p0tvUPi3GZTA%2FSihxmU06s9BsX%2BwkaR8lUHYCZQQqlF0dkn775SebbvIOjXo%3D&job=KlHHwhEehqvwhIiQ_YE-87ip_KWps3eK6j4nqALICXUVjQaqycMklA\n",
      "https://www.simplyhired.com/search?q=Backend+Developer&l=united+states&t=1&cursor=ABQACwDcAAAAAAAAAAAAAAACDzLMFQECAQcQBwZABhycMi6p0tvUPi3GZTA%2FSihxmU06s9BsX%2BwkaR8lUHYCZQQqlF0dkn775SebbvIOjXo%3D&job=7gWNh9i7DnNIOnTuYmLWs6LdehrBCFmZVmgnKLJqpCjNQeA6KFlbbg\n",
      "https://www.simplyhired.com/search?q=Backend+Developer&l=united+states&t=1&cursor=ABQACwDcAAAAAAAAAAAAAAACDzLMFQECAQcQBwZABhycMi6p0tvUPi3GZTA%2FSihxmU06s9BsX%2BwkaR8lUHYCZQQqlF0dkn775SebbvIOjXo%3D&job=nwW7vTkkDUyYoF5yW6TRg2vuhaGAnFvbvPfAsHLOtjG5CGuixHXj-Q\n",
      "https://www.simplyhired.com/search?q=Backend+Developer&l=united+states&t=1&cursor=ABQACwDcAAAAAAAAAAAAAAACDzLMFQECAQcQBwZABhycMi6p0tvUPi3GZTA%2FSihxmU06s9BsX%2BwkaR8lUHYCZQQqlF0dkn775SebbvIOjXo%3D&job=8LEfqE22BCyT2T41Wb27RFEquXAmiK1P5NzlRrbkzofOn1ihiQiaNA\n",
      "https://www.simplyhired.com/search?q=Backend+Developer&l=united+states&t=1&cursor=ABQACwDcAAAAAAAAAAAAAAACDzLMFQECAQcQBwZABhycMi6p0tvUPi3GZTA%2FSihxmU06s9BsX%2BwkaR8lUHYCZQQqlF0dkn775SebbvIOjXo%3D&job=gYG0il5umPS-YmLCeuNDoccG5UxuUnZLNQeF4AWrrd89p48g3uc-PA\n",
      "https://www.simplyhired.com/search?q=Backend+Developer&l=united+states&t=1&cursor=ABQACwDcAAAAAAAAAAAAAAACDzLMFQECAQcQBwZABhycMi6p0tvUPi3GZTA%2FSihxmU06s9BsX%2BwkaR8lUHYCZQQqlF0dkn775SebbvIOjXo%3D&job=_o7eT-fbtqT78JAnslEcYt5psLjIlOVjbSe94-SaMAvusUFM8WdGUQ\n"
     ]
    },
    {
     "name": "stderr",
     "output_type": "stream",
     "text": [
      "/tmp/ipykernel_5743/3381847202.py:22: FutureWarning: The frame.append method is deprecated and will be removed from pandas in a future version. Use pandas.concat instead.\n",
      "  df = df.append(page_data)\n"
     ]
    },
    {
     "name": "stdout",
     "output_type": "stream",
     "text": [
      "Page Number: 13  Page Link:  https://www.simplyhired.com/search?q=Backend+Developer&l=united+states&t=1&cursor=ABQADADwAAAAAAAAAAAAAAACDzLMFQEBAQYDPuSzGpcVmYUPtuW1UafNyrsGg1luTWxztLXhnMBy7U7euc4%3D\n",
      "https://www.simplyhired.com/search?q=Backend+Developer&l=united+states&t=1&cursor=ABQADADwAAAAAAAAAAAAAAACDzLMFQEBAQYDPuSzGpcVmYUPtuW1UafNyrsGg1luTWxztLXhnMBy7U7euc4%3D&job=rg5FTO1vEW9QzoDvqYhcRasaSgKOaNr_RkKZDU8rLz7Aojh0U_LiKw\n",
      "https://www.simplyhired.com/search?q=Backend+Developer&l=united+states&t=1&cursor=ABQADADwAAAAAAAAAAAAAAACDzLMFQEBAQYDPuSzGpcVmYUPtuW1UafNyrsGg1luTWxztLXhnMBy7U7euc4%3D&job=lhx6vj74uHxCTsC7V5qNjInZXsMObpfanZjmGyEXeWCgKeV7LCgbrg\n",
      "https://www.simplyhired.com/search?q=Backend+Developer&l=united+states&t=1&cursor=ABQADADwAAAAAAAAAAAAAAACDzLMFQEBAQYDPuSzGpcVmYUPtuW1UafNyrsGg1luTWxztLXhnMBy7U7euc4%3D&job=VwilEwKsaOmLNUALopq3KhKeIDv2l8DUhz7bulucqGP5HBpbG0l32g\n",
      "https://www.simplyhired.com/search?q=Backend+Developer&l=united+states&t=1&cursor=ABQADADwAAAAAAAAAAAAAAACDzLMFQEBAQYDPuSzGpcVmYUPtuW1UafNyrsGg1luTWxztLXhnMBy7U7euc4%3D&job=5Q-Rq4qTabwOryaiimzQjMMpcwA2mHArdd_HpCquNfM30TH3zBdW-g\n",
      "https://www.simplyhired.com/search?q=Backend+Developer&l=united+states&t=1&cursor=ABQADADwAAAAAAAAAAAAAAACDzLMFQEBAQYDPuSzGpcVmYUPtuW1UafNyrsGg1luTWxztLXhnMBy7U7euc4%3D&job=XSAupmN6Mr3HypGSOhQzyPKewMGqSGcvR6Oo3GPPY5b-i1imTzjwGw\n",
      "https://www.simplyhired.com/search?q=Backend+Developer&l=united+states&t=1&cursor=ABQADADwAAAAAAAAAAAAAAACDzLMFQEBAQYDPuSzGpcVmYUPtuW1UafNyrsGg1luTWxztLXhnMBy7U7euc4%3D&job=09v1g_4ylfEd6ozQEYc7gMk8IPXLFUZ0WMDV7D0X8qUrY94EpXMX_g\n",
      "https://www.simplyhired.com/search?q=Backend+Developer&l=united+states&t=1&cursor=ABQADADwAAAAAAAAAAAAAAACDzLMFQEBAQYDPuSzGpcVmYUPtuW1UafNyrsGg1luTWxztLXhnMBy7U7euc4%3D&job=sMuBoTBZto2J0ekTxtvVtX58daF92G6jWInfc2-gQ8sfde22-crTNg\n",
      "https://www.simplyhired.com/search?q=Backend+Developer&l=united+states&t=1&cursor=ABQADADwAAAAAAAAAAAAAAACDzLMFQEBAQYDPuSzGpcVmYUPtuW1UafNyrsGg1luTWxztLXhnMBy7U7euc4%3D&job=aTHAUet1l9yWYc5VivDDlJXQ49HrdUcgzfBx-qfVx54BENwgJrw7vg\n",
      "https://www.simplyhired.com/search?q=Backend+Developer&l=united+states&t=1&cursor=ABQADADwAAAAAAAAAAAAAAACDzLMFQEBAQYDPuSzGpcVmYUPtuW1UafNyrsGg1luTWxztLXhnMBy7U7euc4%3D&job=IgvxVo1rCvMZdZGX5znt8FraNZ3mVNlseHFdSu6FpX4WCQ8tGSuO9w\n",
      "https://www.simplyhired.com/search?q=Backend+Developer&l=united+states&t=1&cursor=ABQADADwAAAAAAAAAAAAAAACDzLMFQEBAQYDPuSzGpcVmYUPtuW1UafNyrsGg1luTWxztLXhnMBy7U7euc4%3D&job=Bg4gJfInstUJ36ylryVHCcg3lslsnm9oi1fqxkMo0YVsSXCivsuFCg\n",
      "https://www.simplyhired.com/search?q=Backend+Developer&l=united+states&t=1&cursor=ABQADADwAAAAAAAAAAAAAAACDzLMFQEBAQYDPuSzGpcVmYUPtuW1UafNyrsGg1luTWxztLXhnMBy7U7euc4%3D&job=I06Gsvlx52Yb9j27oE1ocJf_2sVOwfMakyH7Xzdqs92-5JKU4VZ6xw\n",
      "https://www.simplyhired.com/search?q=Backend+Developer&l=united+states&t=1&cursor=ABQADADwAAAAAAAAAAAAAAACDzLMFQEBAQYDPuSzGpcVmYUPtuW1UafNyrsGg1luTWxztLXhnMBy7U7euc4%3D&job=Hfi9iKdn1K7MUo2nszLZAfgiS3wGMbP-hptYLl_Btn25pVqytnkNgg\n",
      "https://www.simplyhired.com/search?q=Backend+Developer&l=united+states&t=1&cursor=ABQADADwAAAAAAAAAAAAAAACDzLMFQEBAQYDPuSzGpcVmYUPtuW1UafNyrsGg1luTWxztLXhnMBy7U7euc4%3D&job=XNgXQfgLdhn-jxAn4yiZ_a4Mr9K8HpcOvhaDVRSPvUH1_xbkJzty3A\n",
      "https://www.simplyhired.com/search?q=Backend+Developer&l=united+states&t=1&cursor=ABQADADwAAAAAAAAAAAAAAACDzLMFQEBAQYDPuSzGpcVmYUPtuW1UafNyrsGg1luTWxztLXhnMBy7U7euc4%3D&job=CC_Kuly1jKFINwJvbupft0wjeZBwLZ_wFS63I1oc_ZFdVQ9wyHuEBQ\n",
      "https://www.simplyhired.com/search?q=Backend+Developer&l=united+states&t=1&cursor=ABQADADwAAAAAAAAAAAAAAACDzLMFQEBAQYDPuSzGpcVmYUPtuW1UafNyrsGg1luTWxztLXhnMBy7U7euc4%3D&job=COlGOr3VBE2HPuBkBEVCKsNrHv-mIiDG1IHB86FyqTA35Zo7gyrRsA\n",
      "https://www.simplyhired.com/search?q=Backend+Developer&l=united+states&t=1&cursor=ABQADADwAAAAAAAAAAAAAAACDzLMFQEBAQYDPuSzGpcVmYUPtuW1UafNyrsGg1luTWxztLXhnMBy7U7euc4%3D&job=oq4mEQ509SeSxF-kF3T-LoB9QxpDBc--9iYcqgAoqh46Yui0sF3a1A\n",
      "https://www.simplyhired.com/search?q=Backend+Developer&l=united+states&t=1&cursor=ABQADADwAAAAAAAAAAAAAAACDzLMFQEBAQYDPuSzGpcVmYUPtuW1UafNyrsGg1luTWxztLXhnMBy7U7euc4%3D&job=oqFZokgIx8wEEuDRQOmFPZErCTWuMRF3nZsIhEicagaEI_b-Gwo2hg\n",
      "https://www.simplyhired.com/search?q=Backend+Developer&l=united+states&t=1&cursor=ABQADADwAAAAAAAAAAAAAAACDzLMFQEBAQYDPuSzGpcVmYUPtuW1UafNyrsGg1luTWxztLXhnMBy7U7euc4%3D&job=TDWEw2YPSSh6Q2BGqs6HeTvO23WtJvdaS0192EmbK5L7VQgvTKrGvw\n"
     ]
    },
    {
     "name": "stderr",
     "output_type": "stream",
     "text": [
      "/tmp/ipykernel_5743/3381847202.py:22: FutureWarning: The frame.append method is deprecated and will be removed from pandas in a future version. Use pandas.concat instead.\n",
      "  df = df.append(page_data)\n"
     ]
    },
    {
     "name": "stdout",
     "output_type": "stream",
     "text": [
      "Number of jobs for Fullstack Developer:113   total_page:6\n",
      "Page Number: 1  Page Link:  https://www.simplyhired.com/search?q=Fullstack Developer&l=united+states&t=1\n",
      "https://www.simplyhired.com/search?q=Fullstack Developer&l=united+states&t=1&job=n0zOsBm6c34vQFbSFVJOjwhbPIgc9zomk_Nx8FWwZk4GuTLuHrmWrg\n",
      "https://www.simplyhired.com/search?q=Fullstack Developer&l=united+states&t=1&job=e70UkanJTteSp7R_1At_HaF8ClHhlo23FFtRRzIJ5znQgtzr9QnImA\n",
      "https://www.simplyhired.com/search?q=Fullstack Developer&l=united+states&t=1&job=RAC-4X95h4yDOKm6w9gZIVrQm8AmsBgPXpnh_bWjyUDDQ0ywkSIThw\n",
      "https://www.simplyhired.com/search?q=Fullstack Developer&l=united+states&t=1&job=_E8pGQX6cA_rLPXqpGXaocP4eR2n73Eat4G6Jgeblw-pzSqooujhrA\n",
      "https://www.simplyhired.com/search?q=Fullstack Developer&l=united+states&t=1&job=fToF2xXlm8esFky3y9JOldmMGFGG9omgyVCnCOmgzQB4mXRrPjxDhQ\n",
      "https://www.simplyhired.com/search?q=Fullstack Developer&l=united+states&t=1&job=Q35DtDqsNEYdTndL2oOJHWd7Uw0kWGvGSoIsk87R23g81Mmbj7lczw\n",
      "https://www.simplyhired.com/search?q=Fullstack Developer&l=united+states&t=1&job=tmjHEvmfTRky_WETnVMyxmCdVymeByjxaDXxjqTNKdY36s_yo7R8KA\n",
      "https://www.simplyhired.com/search?q=Fullstack Developer&l=united+states&t=1&job=pV6NxSRMk3EDBn9X9gzOOf6-ycHj__STBedJfEks3jzjHboZw4GL-Q\n",
      "https://www.simplyhired.com/search?q=Fullstack Developer&l=united+states&t=1&job=I4IHNuyVc6d7uy-VNxSsLa4bE64HyoqK9z_w6Dx_wZWd3RjPHHO_Sw\n",
      "https://www.simplyhired.com/search?q=Fullstack Developer&l=united+states&t=1&job=6jzgW2s_-7_lqqSomdnlq1XjNqtKfE7C3jbiINasolFRUoqkzoUvSw\n",
      "https://www.simplyhired.com/search?q=Fullstack Developer&l=united+states&t=1&job=HychK-kXZSeuaDlcLxuW2UkJEzRPDZVDN0zCs4Y_L9UMNbdNjbGtng\n",
      "https://www.simplyhired.com/search?q=Fullstack Developer&l=united+states&t=1&job=cq3yteU0LZv1jjIiDjKK5aj0TQo-qTMSLdfubyrzwHURYYim_u-tsQ\n",
      "https://www.simplyhired.com/search?q=Fullstack Developer&l=united+states&t=1&job=yF7EeeB7x-V5kMJeqGyEJlMRE95Sgtyf4YaRlmzL5_iY8CfZEQy5Ww\n",
      "https://www.simplyhired.com/search?q=Fullstack Developer&l=united+states&t=1&job=yJ2c3fzNW7IL8YBw8d8tsjWJWDyTapBoylJC4K3vUo2eJ4z1pCRE4w\n",
      "https://www.simplyhired.com/search?q=Fullstack Developer&l=united+states&t=1&job=m6kFVhphZ_EqRX34GvSPiZKOOa_ASZitazGPxS4A1f5kXSECOeO1LQ\n",
      "https://www.simplyhired.com/search?q=Fullstack Developer&l=united+states&t=1&job=s7W059y9TZZ-oQlOVpOyLSgZduD0xvIHLFkWx2-9R29X8vUCy3lBLg\n",
      "https://www.simplyhired.com/search?q=Fullstack Developer&l=united+states&t=1&job=111IiVeacH2VTuWW3Tfu_eDEbV_RJ6G5ZnNnqfBjMz_shiyghtvtMg\n",
      "https://www.simplyhired.com/search?q=Fullstack Developer&l=united+states&t=1&job=X2-UCboorvb57WSM5KqeR8E6r2kgTOKm3RjmRLJ0UwXXYbB3bFNACA\n",
      "https://www.simplyhired.com/search?q=Fullstack Developer&l=united+states&t=1&job=KqY-GHiRMkq4f17bcgkL5uy7yWsc-NMnNk1wSs7LUJm_f8pM8fveNw\n",
      "https://www.simplyhired.com/search?q=Fullstack Developer&l=united+states&t=1&job=ZXVe-4ZmHwfebeQz7Rra2GzhCmsKpp30kBKi5QDYi-RmTKefZe37YA\n"
     ]
    },
    {
     "name": "stderr",
     "output_type": "stream",
     "text": [
      "/tmp/ipykernel_5743/3381847202.py:22: FutureWarning: The frame.append method is deprecated and will be removed from pandas in a future version. Use pandas.concat instead.\n",
      "  df = df.append(page_data)\n"
     ]
    },
    {
     "name": "stdout",
     "output_type": "stream",
     "text": [
      "Page Number: 2  Page Link:  https://www.simplyhired.com/search?q=Fullstack+Developer&l=united+states&t=1&cursor=ABQAAQAUAAAAAAAAAAAAAAACDzKWjwEAALMn7IYrV80N1yagjLhrOdcejTjRbvw8KA%3D%3D\n",
      "https://www.simplyhired.com/search?q=Fullstack+Developer&l=united+states&t=1&cursor=ABQAAQAUAAAAAAAAAAAAAAACDzKWjwEAALMn7IYrV80N1yagjLhrOdcejTjRbvw8KA%3D%3D&job=vhE0RsTX4O3z651WESYFDn1V2tFHBYjzaLNhJ80FQchGoLu11HeSaQ\n",
      "https://www.simplyhired.com/search?q=Fullstack+Developer&l=united+states&t=1&cursor=ABQAAQAUAAAAAAAAAAAAAAACDzKWjwEAALMn7IYrV80N1yagjLhrOdcejTjRbvw8KA%3D%3D&job=elvNb8RDK2LGIzCxW4FP5VO7i41KbuTcCyDYdxkq0jedq7SDz2OvYQ\n",
      "https://www.simplyhired.com/search?q=Fullstack+Developer&l=united+states&t=1&cursor=ABQAAQAUAAAAAAAAAAAAAAACDzKWjwEAALMn7IYrV80N1yagjLhrOdcejTjRbvw8KA%3D%3D&job=mjziL9yk0p4aTQD8ggtbGKA8qCk0YcPUhFanubkLd63kgIRBsYOZ1Q\n",
      "https://www.simplyhired.com/search?q=Fullstack+Developer&l=united+states&t=1&cursor=ABQAAQAUAAAAAAAAAAAAAAACDzKWjwEAALMn7IYrV80N1yagjLhrOdcejTjRbvw8KA%3D%3D&job=c7bVelqFYSOOo3w1mFWdT7-fHT-cMTxlWwc_-SDHbwUuNC-PA5iEuQ\n",
      "https://www.simplyhired.com/search?q=Fullstack+Developer&l=united+states&t=1&cursor=ABQAAQAUAAAAAAAAAAAAAAACDzKWjwEAALMn7IYrV80N1yagjLhrOdcejTjRbvw8KA%3D%3D&job=6RLR17_371RIp_TgOAvweo3lMOUKjRg3qe0kpFO7zIC_DP_tx7UUpA\n",
      "https://www.simplyhired.com/search?q=Fullstack+Developer&l=united+states&t=1&cursor=ABQAAQAUAAAAAAAAAAAAAAACDzKWjwEAALMn7IYrV80N1yagjLhrOdcejTjRbvw8KA%3D%3D&job=enSAh1OC7atfSpJF-ZugjahyS9ttSVBzUekv1uumGeZuZq12IrYn8w\n",
      "https://www.simplyhired.com/search?q=Fullstack+Developer&l=united+states&t=1&cursor=ABQAAQAUAAAAAAAAAAAAAAACDzKWjwEAALMn7IYrV80N1yagjLhrOdcejTjRbvw8KA%3D%3D&job=YCJ4l0h1hT1eJrQxB7tvNJUb5gLNvFpO-VtxRJyxNXIpXNykq0hn4A\n",
      "https://www.simplyhired.com/search?q=Fullstack+Developer&l=united+states&t=1&cursor=ABQAAQAUAAAAAAAAAAAAAAACDzKWjwEAALMn7IYrV80N1yagjLhrOdcejTjRbvw8KA%3D%3D&job=FH3voIQA6ob8R2T_oifOFyp-aV96MuHE_yvedNREFgN01GmWOOsWpQ\n",
      "https://www.simplyhired.com/search?q=Fullstack+Developer&l=united+states&t=1&cursor=ABQAAQAUAAAAAAAAAAAAAAACDzKWjwEAALMn7IYrV80N1yagjLhrOdcejTjRbvw8KA%3D%3D&job=ohhqqlVIF_a_GapIlvpwxWj9ki_tPilrqZDtdSZ7DikBpa3YNUiFmg\n",
      "https://www.simplyhired.com/search?q=Fullstack+Developer&l=united+states&t=1&cursor=ABQAAQAUAAAAAAAAAAAAAAACDzKWjwEAALMn7IYrV80N1yagjLhrOdcejTjRbvw8KA%3D%3D&job=JYbQ7fO1O-DbiMsJOn4okFlnDC8Q89yE8vYsJCUka0nyZ3a-zHYk9g\n",
      "https://www.simplyhired.com/search?q=Fullstack+Developer&l=united+states&t=1&cursor=ABQAAQAUAAAAAAAAAAAAAAACDzKWjwEAALMn7IYrV80N1yagjLhrOdcejTjRbvw8KA%3D%3D&job=IPMFHsAOFICXGbvtFzObEspnJYmMYX9WtGWC9NqVAaDyBKPHxGugrQ\n",
      "https://www.simplyhired.com/search?q=Fullstack+Developer&l=united+states&t=1&cursor=ABQAAQAUAAAAAAAAAAAAAAACDzKWjwEAALMn7IYrV80N1yagjLhrOdcejTjRbvw8KA%3D%3D&job=bsnTrhv6Cfp6zw98bdSFahtvlNRY5jGAwU3qshDYsWw_L1uhNdsZCg\n",
      "https://www.simplyhired.com/search?q=Fullstack+Developer&l=united+states&t=1&cursor=ABQAAQAUAAAAAAAAAAAAAAACDzKWjwEAALMn7IYrV80N1yagjLhrOdcejTjRbvw8KA%3D%3D&job=-VVAVmxC1uG2Huy1wk1iMBEDD1EUsDU9-CgmywnmrwOCinh2xzn0Tg\n",
      "https://www.simplyhired.com/search?q=Fullstack+Developer&l=united+states&t=1&cursor=ABQAAQAUAAAAAAAAAAAAAAACDzKWjwEAALMn7IYrV80N1yagjLhrOdcejTjRbvw8KA%3D%3D&job=4yWwlb8wlegSUMCMgniazuqBvTisNep1EC8e9a6wI5LiXul0VMhh5A\n",
      "https://www.simplyhired.com/search?q=Fullstack+Developer&l=united+states&t=1&cursor=ABQAAQAUAAAAAAAAAAAAAAACDzKWjwEAALMn7IYrV80N1yagjLhrOdcejTjRbvw8KA%3D%3D&job=sBc7Cz4iuUb4PgExZLRbY8QYm-FQCGSJvZvfjxTJfRQ6B_VUtws23w\n",
      "https://www.simplyhired.com/search?q=Fullstack+Developer&l=united+states&t=1&cursor=ABQAAQAUAAAAAAAAAAAAAAACDzKWjwEAALMn7IYrV80N1yagjLhrOdcejTjRbvw8KA%3D%3D&job=CZg1pYwepkbCFQZNi7igrlQd_mtBhc19oWXCbPquSrBdqmqziNqkug\n",
      "https://www.simplyhired.com/search?q=Fullstack+Developer&l=united+states&t=1&cursor=ABQAAQAUAAAAAAAAAAAAAAACDzKWjwEAALMn7IYrV80N1yagjLhrOdcejTjRbvw8KA%3D%3D&job=gQNRJ22TCUIlUsG7vzL-2EOLOvgXm2rQIGmH3BB4FR1da1L3FZSIUQ\n",
      "https://www.simplyhired.com/search?q=Fullstack+Developer&l=united+states&t=1&cursor=ABQAAQAUAAAAAAAAAAAAAAACDzKWjwEAALMn7IYrV80N1yagjLhrOdcejTjRbvw8KA%3D%3D&job=LjCN7-u09ieQyKoE10KGA_u0LfuI4Xs2ANNbJLAAGoHPT6As5AEX0w\n",
      "https://www.simplyhired.com/search?q=Fullstack+Developer&l=united+states&t=1&cursor=ABQAAQAUAAAAAAAAAAAAAAACDzKWjwEAALMn7IYrV80N1yagjLhrOdcejTjRbvw8KA%3D%3D&job=6JP_JC6bvz0ml9eDF1NyNwPzaEJsbPOZHkN5H76HJPPv7cDYFAbkEA\n",
      "https://www.simplyhired.com/search?q=Fullstack+Developer&l=united+states&t=1&cursor=ABQAAQAUAAAAAAAAAAAAAAACDzKWjwEAALMn7IYrV80N1yagjLhrOdcejTjRbvw8KA%3D%3D&job=O7pqCZFsn50OTv8LJ_gGN1sscbnuMs5NmMdsVxJLklCwhVWH_lsrwg\n"
     ]
    },
    {
     "name": "stderr",
     "output_type": "stream",
     "text": [
      "/tmp/ipykernel_5743/3381847202.py:22: FutureWarning: The frame.append method is deprecated and will be removed from pandas in a future version. Use pandas.concat instead.\n",
      "  df = df.append(page_data)\n"
     ]
    },
    {
     "name": "stdout",
     "output_type": "stream",
     "text": [
      "Page Number: 3  Page Link:  https://www.simplyhired.com/search?q=Fullstack+Developer&l=united+states&t=1&cursor=ABQAAgAoAAAAAAAAAAAAAAACDzKWjwEAH2IQ8cjQsAJPY6O2MnIURswMGC2F0OOdjt%2B%2BiptCJLvgzaU0ZZg%3D\n",
      "https://www.simplyhired.com/search?q=Fullstack+Developer&l=united+states&t=1&cursor=ABQAAgAoAAAAAAAAAAAAAAACDzKWjwEAH2IQ8cjQsAJPY6O2MnIURswMGC2F0OOdjt%2B%2BiptCJLvgzaU0ZZg%3D&job=g2_GDD6HhZPXXTUCCyaKR15q-fMEnZG-k6DGZQ3dFmSSIoGGIt_4yw\n",
      "https://www.simplyhired.com/search?q=Fullstack+Developer&l=united+states&t=1&cursor=ABQAAgAoAAAAAAAAAAAAAAACDzKWjwEAH2IQ8cjQsAJPY6O2MnIURswMGC2F0OOdjt%2B%2BiptCJLvgzaU0ZZg%3D&job=DdQgoInsvDfZtesMCd4XvFyVaLqWnguBovcR_C9Ofhuccd6ojCHUWA\n",
      "https://www.simplyhired.com/search?q=Fullstack+Developer&l=united+states&t=1&cursor=ABQAAgAoAAAAAAAAAAAAAAACDzKWjwEAH2IQ8cjQsAJPY6O2MnIURswMGC2F0OOdjt%2B%2BiptCJLvgzaU0ZZg%3D&job=xc4NNw97PZrPmJajGnpfPvWFRbrY4_DEDLzMX6i8KOyO7DoITKA0Ww\n",
      "https://www.simplyhired.com/search?q=Fullstack+Developer&l=united+states&t=1&cursor=ABQAAgAoAAAAAAAAAAAAAAACDzKWjwEAH2IQ8cjQsAJPY6O2MnIURswMGC2F0OOdjt%2B%2BiptCJLvgzaU0ZZg%3D&job=t4ug9B5M74gCxJo2xzm0RXdSPxMZK4DXQ--Rk11DaLj5Fr6MJ_NBJw\n",
      "https://www.simplyhired.com/search?q=Fullstack+Developer&l=united+states&t=1&cursor=ABQAAgAoAAAAAAAAAAAAAAACDzKWjwEAH2IQ8cjQsAJPY6O2MnIURswMGC2F0OOdjt%2B%2BiptCJLvgzaU0ZZg%3D&job=X1_Nat2hmWZvkpMoONhnS45EOlawNpynSXkI6d-BHcr4IUSfeXcDJA\n",
      "https://www.simplyhired.com/search?q=Fullstack+Developer&l=united+states&t=1&cursor=ABQAAgAoAAAAAAAAAAAAAAACDzKWjwEAH2IQ8cjQsAJPY6O2MnIURswMGC2F0OOdjt%2B%2BiptCJLvgzaU0ZZg%3D&job=Gu9W7xvnj5tjDQBEtGOufhOGWxoun_P0gHNybKsqYpF7aatJgPN6-g\n",
      "https://www.simplyhired.com/search?q=Fullstack+Developer&l=united+states&t=1&cursor=ABQAAgAoAAAAAAAAAAAAAAACDzKWjwEAH2IQ8cjQsAJPY6O2MnIURswMGC2F0OOdjt%2B%2BiptCJLvgzaU0ZZg%3D&job=4o7q0y6c9zJNJ_t7ZK3hlNI1nN79zxzJ6NXHq1ArfKPXGeU8m6bDZg\n",
      "https://www.simplyhired.com/search?q=Fullstack+Developer&l=united+states&t=1&cursor=ABQAAgAoAAAAAAAAAAAAAAACDzKWjwEAH2IQ8cjQsAJPY6O2MnIURswMGC2F0OOdjt%2B%2BiptCJLvgzaU0ZZg%3D&job=rhWRZ3ClY_4S-VOpSPrdB6efrRPinNPrRgTC8t8k7PXXRfcSk9Zwuw\n",
      "https://www.simplyhired.com/search?q=Fullstack+Developer&l=united+states&t=1&cursor=ABQAAgAoAAAAAAAAAAAAAAACDzKWjwEAH2IQ8cjQsAJPY6O2MnIURswMGC2F0OOdjt%2B%2BiptCJLvgzaU0ZZg%3D&job=bDI0ar2KZI6HsBd9X3CDo2CoYCaEkafIWhSxw7xZUSnquPKXvQgUDA\n",
      "https://www.simplyhired.com/search?q=Fullstack+Developer&l=united+states&t=1&cursor=ABQAAgAoAAAAAAAAAAAAAAACDzKWjwEAH2IQ8cjQsAJPY6O2MnIURswMGC2F0OOdjt%2B%2BiptCJLvgzaU0ZZg%3D&job=P67mYtcxbcmLv9CIQZ2XsyKol-DNLe5cdBh5PhX3Dhvt_9UzvWq3AQ\n",
      "https://www.simplyhired.com/search?q=Fullstack+Developer&l=united+states&t=1&cursor=ABQAAgAoAAAAAAAAAAAAAAACDzKWjwEAH2IQ8cjQsAJPY6O2MnIURswMGC2F0OOdjt%2B%2BiptCJLvgzaU0ZZg%3D&job=NpLBpRQZN9dA2ZE5AnvCvKUQthCJxpB0TqVSXwNSq_5GxjzHKHPK6g\n",
      "https://www.simplyhired.com/search?q=Fullstack+Developer&l=united+states&t=1&cursor=ABQAAgAoAAAAAAAAAAAAAAACDzKWjwEAH2IQ8cjQsAJPY6O2MnIURswMGC2F0OOdjt%2B%2BiptCJLvgzaU0ZZg%3D&job=oOj4wiJihBE-KoZGxjNqrIbPwPCfys6ZDl3bOBbb0atPznK_ssFLfw\n",
      "https://www.simplyhired.com/search?q=Fullstack+Developer&l=united+states&t=1&cursor=ABQAAgAoAAAAAAAAAAAAAAACDzKWjwEAH2IQ8cjQsAJPY6O2MnIURswMGC2F0OOdjt%2B%2BiptCJLvgzaU0ZZg%3D&job=EA23s3NjxcdVgXFJma5h-xJMf0TMtnBQ1IbMzB4GiyEceM9FeOWn7w\n",
      "https://www.simplyhired.com/search?q=Fullstack+Developer&l=united+states&t=1&cursor=ABQAAgAoAAAAAAAAAAAAAAACDzKWjwEAH2IQ8cjQsAJPY6O2MnIURswMGC2F0OOdjt%2B%2BiptCJLvgzaU0ZZg%3D&job=KCOyQF_BshZcDYsI-x4_9-8BAJj4F1SvdZWeuLZpRs0-pmyThd-khQ\n",
      "https://www.simplyhired.com/search?q=Fullstack+Developer&l=united+states&t=1&cursor=ABQAAgAoAAAAAAAAAAAAAAACDzKWjwEAH2IQ8cjQsAJPY6O2MnIURswMGC2F0OOdjt%2B%2BiptCJLvgzaU0ZZg%3D&job=rL76V7iD0_vFrw90vnULHIce69BWeirsMdbGitDUAAkBPINdDzjSgw\n",
      "https://www.simplyhired.com/search?q=Fullstack+Developer&l=united+states&t=1&cursor=ABQAAgAoAAAAAAAAAAAAAAACDzKWjwEAH2IQ8cjQsAJPY6O2MnIURswMGC2F0OOdjt%2B%2BiptCJLvgzaU0ZZg%3D&job=0DljUhMgW-lJq6lUCexU_OjOzXBHHwwTstJ1P0wLw1B7N4PIIORiyQ\n",
      "https://www.simplyhired.com/search?q=Fullstack+Developer&l=united+states&t=1&cursor=ABQAAgAoAAAAAAAAAAAAAAACDzKWjwEAH2IQ8cjQsAJPY6O2MnIURswMGC2F0OOdjt%2B%2BiptCJLvgzaU0ZZg%3D&job=gE7i06kPXNTZ42UqbNHIPo_O9ymPuTTd-sww6m1PFQJAahprYlTbLw\n",
      "https://www.simplyhired.com/search?q=Fullstack+Developer&l=united+states&t=1&cursor=ABQAAgAoAAAAAAAAAAAAAAACDzKWjwEAH2IQ8cjQsAJPY6O2MnIURswMGC2F0OOdjt%2B%2BiptCJLvgzaU0ZZg%3D&job=5Tej_KCgMZewRSoXGdDy9CxGBFqr3om0yAMpYYkak_ejIRVrSy96Og\n",
      "https://www.simplyhired.com/search?q=Fullstack+Developer&l=united+states&t=1&cursor=ABQAAgAoAAAAAAAAAAAAAAACDzKWjwEAH2IQ8cjQsAJPY6O2MnIURswMGC2F0OOdjt%2B%2BiptCJLvgzaU0ZZg%3D&job=GBJfwHytsAC6Kk_7bHFQPeottt1s_JoFHVjqcaZ7RynsG-UAsEcfJw\n",
      "https://www.simplyhired.com/search?q=Fullstack+Developer&l=united+states&t=1&cursor=ABQAAgAoAAAAAAAAAAAAAAACDzKWjwEAH2IQ8cjQsAJPY6O2MnIURswMGC2F0OOdjt%2B%2BiptCJLvgzaU0ZZg%3D&job=8dMK2CzE_n5uancCCmgLMICxPY9e0js8SBTchHSwTaq7zvdVbsg8Xg\n"
     ]
    },
    {
     "name": "stderr",
     "output_type": "stream",
     "text": [
      "/tmp/ipykernel_5743/3381847202.py:22: FutureWarning: The frame.append method is deprecated and will be removed from pandas in a future version. Use pandas.concat instead.\n",
      "  df = df.append(page_data)\n"
     ]
    },
    {
     "name": "stdout",
     "output_type": "stream",
     "text": [
      "Page Number: 4  Page Link:  https://www.simplyhired.com/search?q=Fullstack+Developer&l=united+states&t=1&cursor=ABQAAwA8AAAAAAAAAAAAAAACDzKWjwEBAQsiW3Sk%2F3V7XMOHDvCsAAjYa0dT%2FyUQnIQtE2Wge8nF1w%3D%3D\n",
      "https://www.simplyhired.com/search?q=Fullstack+Developer&l=united+states&t=1&cursor=ABQAAwA8AAAAAAAAAAAAAAACDzKWjwEBAQsiW3Sk%2F3V7XMOHDvCsAAjYa0dT%2FyUQnIQtE2Wge8nF1w%3D%3D&job=SRku7Pve3y6HJI6rVgvVJbyDfK7L1CX4NItKqMTlNSxJD_2vGn9-rg\n",
      "https://www.simplyhired.com/search?q=Fullstack+Developer&l=united+states&t=1&cursor=ABQAAwA8AAAAAAAAAAAAAAACDzKWjwEBAQsiW3Sk%2F3V7XMOHDvCsAAjYa0dT%2FyUQnIQtE2Wge8nF1w%3D%3D&job=W6JaznuNZbA6gMZARO1DScdXmAA4b3Aj2kIDUET1gfeJPlTZyxzisg\n",
      "https://www.simplyhired.com/search?q=Fullstack+Developer&l=united+states&t=1&cursor=ABQAAwA8AAAAAAAAAAAAAAACDzKWjwEBAQsiW3Sk%2F3V7XMOHDvCsAAjYa0dT%2FyUQnIQtE2Wge8nF1w%3D%3D&job=SsX3Sxeq1cGFDohwutcqBPBIfKd18Q0J5rsMemErO8wBcPsSp6yVfQ\n",
      "https://www.simplyhired.com/search?q=Fullstack+Developer&l=united+states&t=1&cursor=ABQAAwA8AAAAAAAAAAAAAAACDzKWjwEBAQsiW3Sk%2F3V7XMOHDvCsAAjYa0dT%2FyUQnIQtE2Wge8nF1w%3D%3D&job=Tk_OQ-glkMFiK61Kcgrcz5byWQlZyr_uXkUXa4bnNzEGeNlw3akvUQ\n",
      "https://www.simplyhired.com/search?q=Fullstack+Developer&l=united+states&t=1&cursor=ABQAAwA8AAAAAAAAAAAAAAACDzKWjwEBAQsiW3Sk%2F3V7XMOHDvCsAAjYa0dT%2FyUQnIQtE2Wge8nF1w%3D%3D&job=gQyTP0_2suK4rzxFSQvUVqGgOWYTELc7LHdvy0sjvNQe45YJsMMKxA\n",
      "https://www.simplyhired.com/search?q=Fullstack+Developer&l=united+states&t=1&cursor=ABQAAwA8AAAAAAAAAAAAAAACDzKWjwEBAQsiW3Sk%2F3V7XMOHDvCsAAjYa0dT%2FyUQnIQtE2Wge8nF1w%3D%3D&job=o-56X_TEZt-CYx6njvm4sFU5ze3JK2YoD9ZAcWho3hbaCtuQV6y7og\n",
      "https://www.simplyhired.com/search?q=Fullstack+Developer&l=united+states&t=1&cursor=ABQAAwA8AAAAAAAAAAAAAAACDzKWjwEBAQsiW3Sk%2F3V7XMOHDvCsAAjYa0dT%2FyUQnIQtE2Wge8nF1w%3D%3D&job=qVaGRIobml26XJtIa3MCcOGlOuaSFqcDOOKnkB0RPE7tSI3x5rUk6g\n",
      "https://www.simplyhired.com/search?q=Fullstack+Developer&l=united+states&t=1&cursor=ABQAAwA8AAAAAAAAAAAAAAACDzKWjwEBAQsiW3Sk%2F3V7XMOHDvCsAAjYa0dT%2FyUQnIQtE2Wge8nF1w%3D%3D&job=QZ27tkLpSzdo6XAkyA2kSDElt8sz-teiQLMtN1uBq3jUZ947mJIlIQ\n",
      "https://www.simplyhired.com/search?q=Fullstack+Developer&l=united+states&t=1&cursor=ABQAAwA8AAAAAAAAAAAAAAACDzKWjwEBAQsiW3Sk%2F3V7XMOHDvCsAAjYa0dT%2FyUQnIQtE2Wge8nF1w%3D%3D&job=Oz3JLCCXdWIDNaAUWp-Bc6g2-QscGqoUeyTnu3CNg1Z38F7XkCMYDg\n",
      "https://www.simplyhired.com/search?q=Fullstack+Developer&l=united+states&t=1&cursor=ABQAAwA8AAAAAAAAAAAAAAACDzKWjwEBAQsiW3Sk%2F3V7XMOHDvCsAAjYa0dT%2FyUQnIQtE2Wge8nF1w%3D%3D&job=woM0zVld1DEjMNAmJRJdWTAmdaCxM-ADvZr-XUTankHsliyH7cn77g\n",
      "https://www.simplyhired.com/search?q=Fullstack+Developer&l=united+states&t=1&cursor=ABQAAwA8AAAAAAAAAAAAAAACDzKWjwEBAQsiW3Sk%2F3V7XMOHDvCsAAjYa0dT%2FyUQnIQtE2Wge8nF1w%3D%3D&job=PemuwuZK-CosYNiZM_wPJ2gt_vks4ObX5UF3YOScq0AE17530QkAGg\n",
      "https://www.simplyhired.com/search?q=Fullstack+Developer&l=united+states&t=1&cursor=ABQAAwA8AAAAAAAAAAAAAAACDzKWjwEBAQsiW3Sk%2F3V7XMOHDvCsAAjYa0dT%2FyUQnIQtE2Wge8nF1w%3D%3D&job=xqmLPqOrmYmaARFJNFBGnbb5kB4f2Ej3wPhEcMRafP3O-YKU7pvGMw\n",
      "https://www.simplyhired.com/search?q=Fullstack+Developer&l=united+states&t=1&cursor=ABQAAwA8AAAAAAAAAAAAAAACDzKWjwEBAQsiW3Sk%2F3V7XMOHDvCsAAjYa0dT%2FyUQnIQtE2Wge8nF1w%3D%3D&job=kh3HlqhBsOOdILJXR8gecJEaRc1TSa0bGbGx_LSL_CfrVxuqWOoAKQ\n",
      "https://www.simplyhired.com/search?q=Fullstack+Developer&l=united+states&t=1&cursor=ABQAAwA8AAAAAAAAAAAAAAACDzKWjwEBAQsiW3Sk%2F3V7XMOHDvCsAAjYa0dT%2FyUQnIQtE2Wge8nF1w%3D%3D&job=_I8E2Bwt161wo7bDCdG8JCkS4okuetrCk2tqPHds_h-J3oQYHxMxsg\n",
      "https://www.simplyhired.com/search?q=Fullstack+Developer&l=united+states&t=1&cursor=ABQAAwA8AAAAAAAAAAAAAAACDzKWjwEBAQsiW3Sk%2F3V7XMOHDvCsAAjYa0dT%2FyUQnIQtE2Wge8nF1w%3D%3D&job=d6n32Wym2Nac2V7sHssT3pfo3lbiwTEuMNxTkznk8APwhWtBOvJ4wg\n",
      "https://www.simplyhired.com/search?q=Fullstack+Developer&l=united+states&t=1&cursor=ABQAAwA8AAAAAAAAAAAAAAACDzKWjwEBAQsiW3Sk%2F3V7XMOHDvCsAAjYa0dT%2FyUQnIQtE2Wge8nF1w%3D%3D&job=pOmnv6G6HJZN5eJ-iAQsR5me1wZOgrjWBTFR3CHF3Lzf5a2OhSh7cw\n",
      "https://www.simplyhired.com/search?q=Fullstack+Developer&l=united+states&t=1&cursor=ABQAAwA8AAAAAAAAAAAAAAACDzKWjwEBAQsiW3Sk%2F3V7XMOHDvCsAAjYa0dT%2FyUQnIQtE2Wge8nF1w%3D%3D&job=PO151-Y-rLZRhu_0_Mqt3XZDPRLEzd9ZjibnHIke3NTx-4z8DYRjTw\n",
      "https://www.simplyhired.com/search?q=Fullstack+Developer&l=united+states&t=1&cursor=ABQAAwA8AAAAAAAAAAAAAAACDzKWjwEBAQsiW3Sk%2F3V7XMOHDvCsAAjYa0dT%2FyUQnIQtE2Wge8nF1w%3D%3D&job=1BZ3TbU53w0WHHjlb0sAia8GagEFOqpErDj_crjhxHEPcP-1SqJa7Q\n",
      "https://www.simplyhired.com/search?q=Fullstack+Developer&l=united+states&t=1&cursor=ABQAAwA8AAAAAAAAAAAAAAACDzKWjwEBAQsiW3Sk%2F3V7XMOHDvCsAAjYa0dT%2FyUQnIQtE2Wge8nF1w%3D%3D&job=2ONGf2jg5MIR790E_AnzZ9rvsLdpJ-7TSNXQno-nkRSb_ksXYYiVJw\n",
      "https://www.simplyhired.com/search?q=Fullstack+Developer&l=united+states&t=1&cursor=ABQAAwA8AAAAAAAAAAAAAAACDzKWjwEBAQsiW3Sk%2F3V7XMOHDvCsAAjYa0dT%2FyUQnIQtE2Wge8nF1w%3D%3D&job=nE9ffZNPtebN2WlLTb1jd2JuCyKOGCeLO3L4Vvd0D4HhlMeOQQnhTQ\n"
     ]
    },
    {
     "name": "stderr",
     "output_type": "stream",
     "text": [
      "/tmp/ipykernel_5743/3381847202.py:22: FutureWarning: The frame.append method is deprecated and will be removed from pandas in a future version. Use pandas.concat instead.\n",
      "  df = df.append(page_data)\n"
     ]
    },
    {
     "name": "stdout",
     "output_type": "stream",
     "text": [
      "Page Number: 5  Page Link:  https://www.simplyhired.com/search?q=Fullstack+Developer&l=united+states&t=1&cursor=ABQABABQAAAAAAAAAAAAAAACDzQjDgEBAQsbfBHZtnXevtNdtgXVqrgPMze0Bxx1eUSAtyDA%2B8k%3D\n",
      "https://www.simplyhired.com/search?q=Fullstack+Developer&l=united+states&t=1&cursor=ABQABABQAAAAAAAAAAAAAAACDzQjDgEBAQsbfBHZtnXevtNdtgXVqrgPMze0Bxx1eUSAtyDA%2B8k%3D&job=gzhLVTrO82G9GABL5QEJag6tQ63C_HA4g94lFfXanGAzE7ORf1ZEmg\n",
      "https://www.simplyhired.com/search?q=Fullstack+Developer&l=united+states&t=1&cursor=ABQABABQAAAAAAAAAAAAAAACDzQjDgEBAQsbfBHZtnXevtNdtgXVqrgPMze0Bxx1eUSAtyDA%2B8k%3D&job=LKBOgfcPvMN8WYjp6Y-ACvtIIuDG82UEt1AR0neDXiHAFc6EAFQAkQ\n",
      "https://www.simplyhired.com/search?q=Fullstack+Developer&l=united+states&t=1&cursor=ABQABABQAAAAAAAAAAAAAAACDzQjDgEBAQsbfBHZtnXevtNdtgXVqrgPMze0Bxx1eUSAtyDA%2B8k%3D&job=bqo-uNsgKlitucAv6acfw1l6qo3y_7y5Wwb2eJ-OooLu_gYmkKTt-g\n",
      "https://www.simplyhired.com/search?q=Fullstack+Developer&l=united+states&t=1&cursor=ABQABABQAAAAAAAAAAAAAAACDzQjDgEBAQsbfBHZtnXevtNdtgXVqrgPMze0Bxx1eUSAtyDA%2B8k%3D&job=poU20EZ5Y4NWsQddcIrZyWBjTzjOOfH8JDrV87TkQBFjl8JR5DXnBA\n",
      "https://www.simplyhired.com/search?q=Fullstack+Developer&l=united+states&t=1&cursor=ABQABABQAAAAAAAAAAAAAAACDzQjDgEBAQsbfBHZtnXevtNdtgXVqrgPMze0Bxx1eUSAtyDA%2B8k%3D&job=Om-7rwbaFcvu1E6_ev51R_QLUjdKjvDfcQT9YNCjnYmtQs9pDwvQyg\n",
      "https://www.simplyhired.com/search?q=Fullstack+Developer&l=united+states&t=1&cursor=ABQABABQAAAAAAAAAAAAAAACDzQjDgEBAQsbfBHZtnXevtNdtgXVqrgPMze0Bxx1eUSAtyDA%2B8k%3D&job=EQsSG8oZeycImkQ48WbDjL8MM79xi33_6dlNBxBUJGcIgjta1ArcRQ\n",
      "https://www.simplyhired.com/search?q=Fullstack+Developer&l=united+states&t=1&cursor=ABQABABQAAAAAAAAAAAAAAACDzQjDgEBAQsbfBHZtnXevtNdtgXVqrgPMze0Bxx1eUSAtyDA%2B8k%3D&job=ddQh_TlEhik5uTwXumdwwSQcMiE7wOekpJH7LXcN8smtrd_yh1Cnlg\n",
      "https://www.simplyhired.com/search?q=Fullstack+Developer&l=united+states&t=1&cursor=ABQABABQAAAAAAAAAAAAAAACDzQjDgEBAQsbfBHZtnXevtNdtgXVqrgPMze0Bxx1eUSAtyDA%2B8k%3D&job=1F47WHNZ4gz4YnynF8mEEReNBZ3FpSsSUPEFfVIS_MvJ5n_qfpij3w\n",
      "https://www.simplyhired.com/search?q=Fullstack+Developer&l=united+states&t=1&cursor=ABQABABQAAAAAAAAAAAAAAACDzQjDgEBAQsbfBHZtnXevtNdtgXVqrgPMze0Bxx1eUSAtyDA%2B8k%3D&job=DLU_5JjQ02ybEO-yMM8jiJhTS2iTWApVlcWoxYZLiLmNkDZdI9gZNA\n",
      "https://www.simplyhired.com/search?q=Fullstack+Developer&l=united+states&t=1&cursor=ABQABABQAAAAAAAAAAAAAAACDzQjDgEBAQsbfBHZtnXevtNdtgXVqrgPMze0Bxx1eUSAtyDA%2B8k%3D&job=wULGV_syLEfjpo2NJt2NPVo4IdVRlzHK2YDk00R3RXGYbKqvpD-1fg\n",
      "https://www.simplyhired.com/search?q=Fullstack+Developer&l=united+states&t=1&cursor=ABQABABQAAAAAAAAAAAAAAACDzQjDgEBAQsbfBHZtnXevtNdtgXVqrgPMze0Bxx1eUSAtyDA%2B8k%3D&job=58vA3lFVbuXS6PJ09ou-DiFxayLkNWOKhNuVHKwZxAzmvO3JkXOyZQ\n",
      "https://www.simplyhired.com/search?q=Fullstack+Developer&l=united+states&t=1&cursor=ABQABABQAAAAAAAAAAAAAAACDzQjDgEBAQsbfBHZtnXevtNdtgXVqrgPMze0Bxx1eUSAtyDA%2B8k%3D&job=d0jYRgRjoNpFWRcIaAvMNZ5FGuJoBBhBy2_GPnoDfQl6_yAjqpOmxg\n",
      "https://www.simplyhired.com/search?q=Fullstack+Developer&l=united+states&t=1&cursor=ABQABABQAAAAAAAAAAAAAAACDzQjDgEBAQsbfBHZtnXevtNdtgXVqrgPMze0Bxx1eUSAtyDA%2B8k%3D&job=Uzx0gBV2GjbLdn9FzR7Xt_HRVHV1q--R1VBqXUJuGNALSmPDjjPr9Q\n",
      "https://www.simplyhired.com/search?q=Fullstack+Developer&l=united+states&t=1&cursor=ABQABABQAAAAAAAAAAAAAAACDzQjDgEBAQsbfBHZtnXevtNdtgXVqrgPMze0Bxx1eUSAtyDA%2B8k%3D&job=WiFSAeq-Yi6DbE5R94DmwWiAFxGTCsQ1yCn-Qcb5fBXKCvTUz09Sfg\n",
      "https://www.simplyhired.com/search?q=Fullstack+Developer&l=united+states&t=1&cursor=ABQABABQAAAAAAAAAAAAAAACDzQjDgEBAQsbfBHZtnXevtNdtgXVqrgPMze0Bxx1eUSAtyDA%2B8k%3D&job=1IwkDveLaWof2fn1JP_Wm27TZD3agJDh-CQEe1XxSEHZlosv_7m7vg\n",
      "https://www.simplyhired.com/search?q=Fullstack+Developer&l=united+states&t=1&cursor=ABQABABQAAAAAAAAAAAAAAACDzQjDgEBAQsbfBHZtnXevtNdtgXVqrgPMze0Bxx1eUSAtyDA%2B8k%3D&job=1Q3iQIgdGSVhqx_6N_w7vTBtC2-c24XFEc6YRmmu9jE7HZffXMvdvg\n",
      "https://www.simplyhired.com/search?q=Fullstack+Developer&l=united+states&t=1&cursor=ABQABABQAAAAAAAAAAAAAAACDzQjDgEBAQsbfBHZtnXevtNdtgXVqrgPMze0Bxx1eUSAtyDA%2B8k%3D&job=X5PCtaM9Ti9g_e0HM5CLIbw05F7IJfxczACtvEuKpd09ELdzAi5Q7Q\n",
      "https://www.simplyhired.com/search?q=Fullstack+Developer&l=united+states&t=1&cursor=ABQABABQAAAAAAAAAAAAAAACDzQjDgEBAQsbfBHZtnXevtNdtgXVqrgPMze0Bxx1eUSAtyDA%2B8k%3D&job=TlGSy8t9cvcBGXpk97IzsgD8IrUZrsaJIc1ok-PIH1kgszce0vDjJQ\n",
      "https://www.simplyhired.com/search?q=Fullstack+Developer&l=united+states&t=1&cursor=ABQABABQAAAAAAAAAAAAAAACDzQjDgEBAQsbfBHZtnXevtNdtgXVqrgPMze0Bxx1eUSAtyDA%2B8k%3D&job=9mwIj59plnhRuUuvM76m1VYyc5EonMzq_Q--_OlDRhi_L1K1R9UvzQ\n",
      "https://www.simplyhired.com/search?q=Fullstack+Developer&l=united+states&t=1&cursor=ABQABABQAAAAAAAAAAAAAAACDzQjDgEBAQsbfBHZtnXevtNdtgXVqrgPMze0Bxx1eUSAtyDA%2B8k%3D&job=3711vmqkPpIds3Gdp8GNfyh7QV7DoBoB0_VMHvgJ2NrmR7OtRsR1ww\n"
     ]
    },
    {
     "name": "stderr",
     "output_type": "stream",
     "text": [
      "/tmp/ipykernel_5743/3381847202.py:22: FutureWarning: The frame.append method is deprecated and will be removed from pandas in a future version. Use pandas.concat instead.\n",
      "  df = df.append(page_data)\n"
     ]
    },
    {
     "name": "stdout",
     "output_type": "stream",
     "text": [
      "Page Number: 6  Page Link:  https://www.simplyhired.com/search?q=Fullstack+Developer&l=united+states&t=1&cursor=ABQABQBkAAAAAAAAAAAAAAACDzQjDgEBAQcQSSemtKmhVgmR7H20%2FsesZoafKhyD\n",
      "https://www.simplyhired.com/search?q=Fullstack+Developer&l=united+states&t=1&cursor=ABQABQBkAAAAAAAAAAAAAAACDzQjDgEBAQcQSSemtKmhVgmR7H20%2FsesZoafKhyD&job=1MEu9Tibm4N8jOAYjqgmLBGtQ6SZMfjUOTDdl4qRTk-3tbvM0BkSOQ\n",
      "https://www.simplyhired.com/search?q=Fullstack+Developer&l=united+states&t=1&cursor=ABQABQBkAAAAAAAAAAAAAAACDzQjDgEBAQcQSSemtKmhVgmR7H20%2FsesZoafKhyD&job=0564rJ0hv1lzC43n0QYe24FJnhmW0cO6t9kJdLhVA6FSArAS0AMbcA\n",
      "https://www.simplyhired.com/search?q=Fullstack+Developer&l=united+states&t=1&cursor=ABQABQBkAAAAAAAAAAAAAAACDzQjDgEBAQcQSSemtKmhVgmR7H20%2FsesZoafKhyD&job=4ThY7nUnoo9M1DMfkJpBdq5vjW3M-Mcx8W8VP3dQpej2thVLPrZVRw\n",
      "https://www.simplyhired.com/search?q=Fullstack+Developer&l=united+states&t=1&cursor=ABQABQBkAAAAAAAAAAAAAAACDzQjDgEBAQcQSSemtKmhVgmR7H20%2FsesZoafKhyD&job=ZrZCtuZVfjsSkCprLbwXmFv0KvNjKzSO-H4obfrAk90AzElS523tew\n",
      "https://www.simplyhired.com/search?q=Fullstack+Developer&l=united+states&t=1&cursor=ABQABQBkAAAAAAAAAAAAAAACDzQjDgEBAQcQSSemtKmhVgmR7H20%2FsesZoafKhyD&job=bQyvn7LnkZbTNDywxwSnIMmV-HbBkFOoCH8xpDCZINqVWLlX-IbcOA\n",
      "https://www.simplyhired.com/search?q=Fullstack+Developer&l=united+states&t=1&cursor=ABQABQBkAAAAAAAAAAAAAAACDzQjDgEBAQcQSSemtKmhVgmR7H20%2FsesZoafKhyD&job=0RGe4jQKVMQZcoiuQmJbiHT0SWz50ipPODercBlikpj50hOZQeSUnQ\n",
      "https://www.simplyhired.com/search?q=Fullstack+Developer&l=united+states&t=1&cursor=ABQABQBkAAAAAAAAAAAAAAACDzQjDgEBAQcQSSemtKmhVgmR7H20%2FsesZoafKhyD&job=OHIUQfB6BWyaTNkF1Q4XIw6_u4bpW55tAExWfdKwvw8vvvmqoNYNPA\n",
      "https://www.simplyhired.com/search?q=Fullstack+Developer&l=united+states&t=1&cursor=ABQABQBkAAAAAAAAAAAAAAACDzQjDgEBAQcQSSemtKmhVgmR7H20%2FsesZoafKhyD&job=Va9cNd9M9p7laaZ5inh5LzWxFYCfBl3Y9Rv3aUN6GvVtOW39uDImzw\n",
      "https://www.simplyhired.com/search?q=Fullstack+Developer&l=united+states&t=1&cursor=ABQABQBkAAAAAAAAAAAAAAACDzQjDgEBAQcQSSemtKmhVgmR7H20%2FsesZoafKhyD&job=PPg0LAK5ykJ5s4Ma4TFbDfuO6r9Sl44YqsenzkDSVA64JbpoG1bCoA\n",
      "https://www.simplyhired.com/search?q=Fullstack+Developer&l=united+states&t=1&cursor=ABQABQBkAAAAAAAAAAAAAAACDzQjDgEBAQcQSSemtKmhVgmR7H20%2FsesZoafKhyD&job=yu7vZGYtKoyfZ1HaZpcRBrvl5SVHgzk1H7ntdZ9Mc5jt2O9c4NSXTA\n",
      "https://www.simplyhired.com/search?q=Fullstack+Developer&l=united+states&t=1&cursor=ABQABQBkAAAAAAAAAAAAAAACDzQjDgEBAQcQSSemtKmhVgmR7H20%2FsesZoafKhyD&job=VVWfKErm91PNlVs1KGKhljVsBXaHcvGJh1eFDPigaxHYFADn26vxoA\n",
      "https://www.simplyhired.com/search?q=Fullstack+Developer&l=united+states&t=1&cursor=ABQABQBkAAAAAAAAAAAAAAACDzQjDgEBAQcQSSemtKmhVgmR7H20%2FsesZoafKhyD&job=T72pv_KX4UwzJz5HqAn4JPauQkihCeacn5LkHocZN6cHXBc7Gr8j9g\n",
      "https://www.simplyhired.com/search?q=Fullstack+Developer&l=united+states&t=1&cursor=ABQABQBkAAAAAAAAAAAAAAACDzQjDgEBAQcQSSemtKmhVgmR7H20%2FsesZoafKhyD&job=oq4mEQ509SeSxF-kF3T-LoB9QxpDBc--9iYcqgAoqh46Yui0sF3a1A\n",
      "https://www.simplyhired.com/search?q=Fullstack+Developer&l=united+states&t=1&cursor=ABQABQBkAAAAAAAAAAAAAAACDzQjDgEBAQcQSSemtKmhVgmR7H20%2FsesZoafKhyD&job=TDWEw2YPSSh6Q2BGqs6HeTvO23WtJvdaS0192EmbK5L7VQgvTKrGvw\n"
     ]
    },
    {
     "name": "stderr",
     "output_type": "stream",
     "text": [
      "/tmp/ipykernel_5743/3381847202.py:22: FutureWarning: The frame.append method is deprecated and will be removed from pandas in a future version. Use pandas.concat instead.\n",
      "  df = df.append(page_data)\n"
     ]
    },
    {
     "name": "stdout",
     "output_type": "stream",
     "text": [
      "Number of jobs for Business Analyst:481   total_page:25\n",
      "Page Number: 1  Page Link:  https://www.simplyhired.com/search?q=Business Analyst&l=united+states&t=1\n",
      "https://www.simplyhired.com/search?q=Business Analyst&l=united+states&t=1&job=mGQivUB244A7ljRxktTkBr14j-u5RUbpmJuj0L_ZCmTAyfAHhFBp6Q\n",
      "https://www.simplyhired.com/search?q=Business Analyst&l=united+states&t=1&job=vIoD60zEx234wpKtr50vT8Rd3MlLpDhbsZk2Iq_qB6ibUu4C5rNz9g\n",
      "https://www.simplyhired.com/search?q=Business Analyst&l=united+states&t=1&job=oQk1WzJnCkzwkWsZmdcEr3x2974PDtG0VQGmmYCjFF5xUYdBOCqDnw\n",
      "https://www.simplyhired.com/search?q=Business Analyst&l=united+states&t=1&job=NR5QNcVlfns1MFayhEL4NIBLCihJ0HnkvnfclP4wpVum9SmXJdvQnA\n",
      "https://www.simplyhired.com/search?q=Business Analyst&l=united+states&t=1&job=xsTv9E2PwGC1BPCfzFhH2vKdNOAcazlgXqwVJ3ombdeKQAQkyagh6g\n",
      "https://www.simplyhired.com/search?q=Business Analyst&l=united+states&t=1&job=adoxdwTER4ndNcn8UPbbF-q320ZKAMTK7DuVS3yepwxRankYPQIZ9Q\n",
      "https://www.simplyhired.com/search?q=Business Analyst&l=united+states&t=1&job=OeQIHLFZa18MKIu5Q5DhzQWKtA1Nrlai4cTFyxdfHP7H89zi4SFejg\n",
      "https://www.simplyhired.com/search?q=Business Analyst&l=united+states&t=1&job=L33zArCc27hjLpz3wUvmtYNu-JSoevez_TwF_NSShqwCqp2n2heYDQ\n",
      "https://www.simplyhired.com/search?q=Business Analyst&l=united+states&t=1&job=SzqLhlMASsj4VA7OXnIV71pWZmVBwMnlyVsMeuPsXd-pXTijt7x-fA\n",
      "https://www.simplyhired.com/search?q=Business Analyst&l=united+states&t=1&job=1hJHcR7R0eT2Lhcmro4-UjuOCH0wSnQanbtjrufFpptoyM4hfQ6AWA\n",
      "https://www.simplyhired.com/search?q=Business Analyst&l=united+states&t=1&job=eNBONOEPHR5n1e7bYb3YO_niNBN-JAKBZ7A7h9orEGuCLjpSDc0VzQ\n",
      "https://www.simplyhired.com/search?q=Business Analyst&l=united+states&t=1&job=rbrMi8g1GCVoYXZIpiHcpUDhlMrJO9MPj35V3spiJkLXFFi_zgAaMA\n",
      "https://www.simplyhired.com/search?q=Business Analyst&l=united+states&t=1&job=POT_BI0HOTQhmLD1G6H-QHYp-lLsaaTchSgZ7CXegk0wuo-2DOq5qA\n",
      "https://www.simplyhired.com/search?q=Business Analyst&l=united+states&t=1&job=55PbXXd1wUQt8y-S3EhXs0a2xQKikgWeI1b430sj41LsGCIXWF4M7Q\n",
      "https://www.simplyhired.com/search?q=Business Analyst&l=united+states&t=1&job=Tq5XsWFEwaY14267YAbxv34q4M_ECNl2rUiL-GQ5SStkOn59cT35kw\n",
      "https://www.simplyhired.com/search?q=Business Analyst&l=united+states&t=1&job=bGIwfdsDANMFQb1AeU1ptFmggk_AYnalfmWMYF1Z7eYLBi-MusB27Q\n",
      "https://www.simplyhired.com/search?q=Business Analyst&l=united+states&t=1&job=GIhGoafSoQ-_T1fuuLzxrRjxZ1GVhV8-ERfRSdTFzWYsoETw70A2mQ\n",
      "https://www.simplyhired.com/search?q=Business Analyst&l=united+states&t=1&job=sEWkZQ0wqgLh2AXkWmx2C7bUC1dVd8FB8-R86ZKOxOQkWNR37-wI-A\n",
      "https://www.simplyhired.com/search?q=Business Analyst&l=united+states&t=1&job=XyDtqPF17a4CDVS7yC04DCOurnQBd6mUAx7mZ2_eWKbDZBWTlU8y9Q\n",
      "https://www.simplyhired.com/search?q=Business Analyst&l=united+states&t=1&job=ZFWWfFiLke5RPAZIufHEce8VFas71aghk2_f-tviwPU9j3vk0OQUZQ\n"
     ]
    },
    {
     "name": "stderr",
     "output_type": "stream",
     "text": [
      "/tmp/ipykernel_5743/3381847202.py:22: FutureWarning: The frame.append method is deprecated and will be removed from pandas in a future version. Use pandas.concat instead.\n",
      "  df = df.append(page_data)\n"
     ]
    },
    {
     "name": "stdout",
     "output_type": "stream",
     "text": [
      "Page Number: 2  Page Link:  https://www.simplyhired.com/search?q=Business+Analyst&l=united+states&t=1&cursor=ABQAAQAUAAAAAAAAAAAAAAACDzS59wEBAQsDM1c7JjelZVEL01kRx7jlaJMwzemgTtLr0Q%2FQFxAFLRuwTTHSrQ%3D%3D\n",
      "https://www.simplyhired.com/search?q=Business+Analyst&l=united+states&t=1&cursor=ABQAAQAUAAAAAAAAAAAAAAACDzS59wEBAQsDM1c7JjelZVEL01kRx7jlaJMwzemgTtLr0Q%2FQFxAFLRuwTTHSrQ%3D%3D&job=izmR223uYuGp0iMJMc0L6NII-aD46pNdktb6JCbnqbd0o9VLZQV-Wg\n",
      "https://www.simplyhired.com/search?q=Business+Analyst&l=united+states&t=1&cursor=ABQAAQAUAAAAAAAAAAAAAAACDzS59wEBAQsDM1c7JjelZVEL01kRx7jlaJMwzemgTtLr0Q%2FQFxAFLRuwTTHSrQ%3D%3D&job=PfyKd-V0xOSfsQF27_-d2DxGh3nHPWXVqCX9gkH1Qe014QC5--_dKg\n",
      "https://www.simplyhired.com/search?q=Business+Analyst&l=united+states&t=1&cursor=ABQAAQAUAAAAAAAAAAAAAAACDzS59wEBAQsDM1c7JjelZVEL01kRx7jlaJMwzemgTtLr0Q%2FQFxAFLRuwTTHSrQ%3D%3D&job=9qTykOQrBH_Vbk4m6NGOgxSIEQVQpL_ugxwd_AHAG3h0HrcS45K4Hg\n",
      "https://www.simplyhired.com/search?q=Business+Analyst&l=united+states&t=1&cursor=ABQAAQAUAAAAAAAAAAAAAAACDzS59wEBAQsDM1c7JjelZVEL01kRx7jlaJMwzemgTtLr0Q%2FQFxAFLRuwTTHSrQ%3D%3D&job=jG3hg8doOjAFvEYmtZ7mTGlU2or79_uXj-UEUzIJFE3z7vdHwDuM5g\n",
      "https://www.simplyhired.com/search?q=Business+Analyst&l=united+states&t=1&cursor=ABQAAQAUAAAAAAAAAAAAAAACDzS59wEBAQsDM1c7JjelZVEL01kRx7jlaJMwzemgTtLr0Q%2FQFxAFLRuwTTHSrQ%3D%3D&job=hCZ-jGsncKdbO9dVavjLrYqJWkZThsddURrZl6xAZcEmMJUqnHYtQA\n",
      "https://www.simplyhired.com/search?q=Business+Analyst&l=united+states&t=1&cursor=ABQAAQAUAAAAAAAAAAAAAAACDzS59wEBAQsDM1c7JjelZVEL01kRx7jlaJMwzemgTtLr0Q%2FQFxAFLRuwTTHSrQ%3D%3D&job=mPOg95u4ZXb7HKBmnoTPtbcK7x9m35YWQH1n6w7K7AA8f6J8zYYfvg\n",
      "https://www.simplyhired.com/search?q=Business+Analyst&l=united+states&t=1&cursor=ABQAAQAUAAAAAAAAAAAAAAACDzS59wEBAQsDM1c7JjelZVEL01kRx7jlaJMwzemgTtLr0Q%2FQFxAFLRuwTTHSrQ%3D%3D&job=yoo9IFc6bp1T9j-ArK7M3LRtHzAZC7irIm6YooRlp3vRtSGozOh_KQ\n",
      "https://www.simplyhired.com/search?q=Business+Analyst&l=united+states&t=1&cursor=ABQAAQAUAAAAAAAAAAAAAAACDzS59wEBAQsDM1c7JjelZVEL01kRx7jlaJMwzemgTtLr0Q%2FQFxAFLRuwTTHSrQ%3D%3D&job=lTwzp8E4Mrytop1G0wT07RI03FedV2ZXlOWO5Z_-yeedSRRQeNGu0A\n",
      "https://www.simplyhired.com/search?q=Business+Analyst&l=united+states&t=1&cursor=ABQAAQAUAAAAAAAAAAAAAAACDzS59wEBAQsDM1c7JjelZVEL01kRx7jlaJMwzemgTtLr0Q%2FQFxAFLRuwTTHSrQ%3D%3D&job=8mTLDE6H_tz3Zqm-fwTyOdbg4W6ZdjyPzH3pQPZooio3ytjx0aTmeA\n",
      "https://www.simplyhired.com/search?q=Business+Analyst&l=united+states&t=1&cursor=ABQAAQAUAAAAAAAAAAAAAAACDzS59wEBAQsDM1c7JjelZVEL01kRx7jlaJMwzemgTtLr0Q%2FQFxAFLRuwTTHSrQ%3D%3D&job=LEUFIu3d4m3bdK_S4d5LQRw3RDDzpm2AsysuG1oWOYcSnKC2vTOeIA\n",
      "https://www.simplyhired.com/search?q=Business+Analyst&l=united+states&t=1&cursor=ABQAAQAUAAAAAAAAAAAAAAACDzS59wEBAQsDM1c7JjelZVEL01kRx7jlaJMwzemgTtLr0Q%2FQFxAFLRuwTTHSrQ%3D%3D&job=wXOa6W3ysiBg8vW2rhlcAz3AIXx0Yyy4DftnfoP1Ya8HTyK9S9QW4A\n",
      "https://www.simplyhired.com/search?q=Business+Analyst&l=united+states&t=1&cursor=ABQAAQAUAAAAAAAAAAAAAAACDzS59wEBAQsDM1c7JjelZVEL01kRx7jlaJMwzemgTtLr0Q%2FQFxAFLRuwTTHSrQ%3D%3D&job=KNypzIWhK114998kjP1tqxzQVHRcsn_L1muR4S2ERr7E39YkUc-cVQ\n",
      "https://www.simplyhired.com/search?q=Business+Analyst&l=united+states&t=1&cursor=ABQAAQAUAAAAAAAAAAAAAAACDzS59wEBAQsDM1c7JjelZVEL01kRx7jlaJMwzemgTtLr0Q%2FQFxAFLRuwTTHSrQ%3D%3D&job=Q07AqAKVXOqkVGZSS1_3jz0ugglnDVoLi8EuZKXw62J_Nb2JzsD_jg\n",
      "https://www.simplyhired.com/search?q=Business+Analyst&l=united+states&t=1&cursor=ABQAAQAUAAAAAAAAAAAAAAACDzS59wEBAQsDM1c7JjelZVEL01kRx7jlaJMwzemgTtLr0Q%2FQFxAFLRuwTTHSrQ%3D%3D&job=XxELhcFfWGGT2zPSGJ-RT9betmEQdCpToctoO7WgnoZ9ZXe4OHvoAw\n",
      "https://www.simplyhired.com/search?q=Business+Analyst&l=united+states&t=1&cursor=ABQAAQAUAAAAAAAAAAAAAAACDzS59wEBAQsDM1c7JjelZVEL01kRx7jlaJMwzemgTtLr0Q%2FQFxAFLRuwTTHSrQ%3D%3D&job=IFZgFyk70MdpEoTzxmz4-I_fskDOyDfpagzTCySGuHvbZzUXNbRPkw\n",
      "https://www.simplyhired.com/search?q=Business+Analyst&l=united+states&t=1&cursor=ABQAAQAUAAAAAAAAAAAAAAACDzS59wEBAQsDM1c7JjelZVEL01kRx7jlaJMwzemgTtLr0Q%2FQFxAFLRuwTTHSrQ%3D%3D&job=4QhPxDJJJts18hWg3dgWhVtyDrSZV562vC7PUKtjuSx8jGbj_MLWkA\n",
      "https://www.simplyhired.com/search?q=Business+Analyst&l=united+states&t=1&cursor=ABQAAQAUAAAAAAAAAAAAAAACDzS59wEBAQsDM1c7JjelZVEL01kRx7jlaJMwzemgTtLr0Q%2FQFxAFLRuwTTHSrQ%3D%3D&job=RfNDmSTfUdjzH-p9-qbBotrHiUkh2NW2Idh0IfFLQilqTTlAAxsz0A\n",
      "https://www.simplyhired.com/search?q=Business+Analyst&l=united+states&t=1&cursor=ABQAAQAUAAAAAAAAAAAAAAACDzS59wEBAQsDM1c7JjelZVEL01kRx7jlaJMwzemgTtLr0Q%2FQFxAFLRuwTTHSrQ%3D%3D&job=ldL-PH7BHQkhDEkyAYzQdW2n15ZLyJscJVdYsPEiU8jRx2gTyKJBbQ\n",
      "https://www.simplyhired.com/search?q=Business+Analyst&l=united+states&t=1&cursor=ABQAAQAUAAAAAAAAAAAAAAACDzS59wEBAQsDM1c7JjelZVEL01kRx7jlaJMwzemgTtLr0Q%2FQFxAFLRuwTTHSrQ%3D%3D&job=SmO3DrfuApBlEilOHXLNEbkenpzkk0rbTWYNeMQcovotz9DUxLW6Ag\n",
      "https://www.simplyhired.com/search?q=Business+Analyst&l=united+states&t=1&cursor=ABQAAQAUAAAAAAAAAAAAAAACDzS59wEBAQsDM1c7JjelZVEL01kRx7jlaJMwzemgTtLr0Q%2FQFxAFLRuwTTHSrQ%3D%3D&job=vVymeft3ftyOb94tcXDIEyc8-RcWui3qzf2l9KJ3h3uYkVjq5S94-A\n"
     ]
    },
    {
     "name": "stderr",
     "output_type": "stream",
     "text": [
      "/tmp/ipykernel_5743/3381847202.py:22: FutureWarning: The frame.append method is deprecated and will be removed from pandas in a future version. Use pandas.concat instead.\n",
      "  df = df.append(page_data)\n"
     ]
    },
    {
     "name": "stdout",
     "output_type": "stream",
     "text": [
      "Page Number: 3  Page Link:  https://www.simplyhired.com/search?q=Business+Analyst&l=united+states&t=1&cursor=ABQAAgAoAAAAAAAAAAAAAAACDzS59wEBARMBkD1MRnAJDXjY06BeYyVj%2BY7W3YE7pWA6by7t5HvsjwZ%2B%2B3aHZuQqAPflGr2BTxVEyWwm6YSDHaKvhBHEtd%2FTJt2YBw%3D%3D\n",
      "https://www.simplyhired.com/search?q=Business+Analyst&l=united+states&t=1&cursor=ABQAAgAoAAAAAAAAAAAAAAACDzS59wEBARMBkD1MRnAJDXjY06BeYyVj%2BY7W3YE7pWA6by7t5HvsjwZ%2B%2B3aHZuQqAPflGr2BTxVEyWwm6YSDHaKvhBHEtd%2FTJt2YBw%3D%3D&job=Iq64m8UmeWQ6ks4IMR7kL-dWQblRbZ-MM-Y_b_8woYWyu-tTR-YHbA\n",
      "https://www.simplyhired.com/search?q=Business+Analyst&l=united+states&t=1&cursor=ABQAAgAoAAAAAAAAAAAAAAACDzS59wEBARMBkD1MRnAJDXjY06BeYyVj%2BY7W3YE7pWA6by7t5HvsjwZ%2B%2B3aHZuQqAPflGr2BTxVEyWwm6YSDHaKvhBHEtd%2FTJt2YBw%3D%3D&job=WcOnFqRE09vpZmTieCz-e-wF2wdsdvXPFvwDs7C4l5a9gb-4fjYLvg\n",
      "https://www.simplyhired.com/search?q=Business+Analyst&l=united+states&t=1&cursor=ABQAAgAoAAAAAAAAAAAAAAACDzS59wEBARMBkD1MRnAJDXjY06BeYyVj%2BY7W3YE7pWA6by7t5HvsjwZ%2B%2B3aHZuQqAPflGr2BTxVEyWwm6YSDHaKvhBHEtd%2FTJt2YBw%3D%3D&job=anRCqSd98UmRk774avPUZCshsZtx4pd_Y_woq6GguTmEYfepSGLXuQ\n",
      "https://www.simplyhired.com/search?q=Business+Analyst&l=united+states&t=1&cursor=ABQAAgAoAAAAAAAAAAAAAAACDzS59wEBARMBkD1MRnAJDXjY06BeYyVj%2BY7W3YE7pWA6by7t5HvsjwZ%2B%2B3aHZuQqAPflGr2BTxVEyWwm6YSDHaKvhBHEtd%2FTJt2YBw%3D%3D&job=uitXlqKwvOTrrCOkWq3o886RZnn-ET94qjW3k9AnW0MnRYKkK0YBZA\n",
      "https://www.simplyhired.com/search?q=Business+Analyst&l=united+states&t=1&cursor=ABQAAgAoAAAAAAAAAAAAAAACDzS59wEBARMBkD1MRnAJDXjY06BeYyVj%2BY7W3YE7pWA6by7t5HvsjwZ%2B%2B3aHZuQqAPflGr2BTxVEyWwm6YSDHaKvhBHEtd%2FTJt2YBw%3D%3D&job=uDWrWafod1Ykq7H_KMqQQ0zOSckfJ_P-CS3cIBxb76BKo9WuxZrmDw\n",
      "https://www.simplyhired.com/search?q=Business+Analyst&l=united+states&t=1&cursor=ABQAAgAoAAAAAAAAAAAAAAACDzS59wEBARMBkD1MRnAJDXjY06BeYyVj%2BY7W3YE7pWA6by7t5HvsjwZ%2B%2B3aHZuQqAPflGr2BTxVEyWwm6YSDHaKvhBHEtd%2FTJt2YBw%3D%3D&job=s-jLUC6AN0-5dUdsTzY7MzWtnxBkJt2TeUnPT0922lKjE6CjEHmI9A\n",
      "https://www.simplyhired.com/search?q=Business+Analyst&l=united+states&t=1&cursor=ABQAAgAoAAAAAAAAAAAAAAACDzS59wEBARMBkD1MRnAJDXjY06BeYyVj%2BY7W3YE7pWA6by7t5HvsjwZ%2B%2B3aHZuQqAPflGr2BTxVEyWwm6YSDHaKvhBHEtd%2FTJt2YBw%3D%3D&job=NkmHhSNmJHR7bE30-ml6y8ndU5x7jxSlLA_ruR2UdPnTOI3X0zmrKg\n",
      "https://www.simplyhired.com/search?q=Business+Analyst&l=united+states&t=1&cursor=ABQAAgAoAAAAAAAAAAAAAAACDzS59wEBARMBkD1MRnAJDXjY06BeYyVj%2BY7W3YE7pWA6by7t5HvsjwZ%2B%2B3aHZuQqAPflGr2BTxVEyWwm6YSDHaKvhBHEtd%2FTJt2YBw%3D%3D&job=M45WWeitENzqk_YS94nn58mcCug4xrx6TQNKJ2XsZucBsZZt0dK4YA\n",
      "https://www.simplyhired.com/search?q=Business+Analyst&l=united+states&t=1&cursor=ABQAAgAoAAAAAAAAAAAAAAACDzS59wEBARMBkD1MRnAJDXjY06BeYyVj%2BY7W3YE7pWA6by7t5HvsjwZ%2B%2B3aHZuQqAPflGr2BTxVEyWwm6YSDHaKvhBHEtd%2FTJt2YBw%3D%3D&job=eBueGJSBPb9WuhuxLZzBbo5hPd17H9IHzjxv7Eh-llLC-O7ZD27ecg\n",
      "https://www.simplyhired.com/search?q=Business+Analyst&l=united+states&t=1&cursor=ABQAAgAoAAAAAAAAAAAAAAACDzS59wEBARMBkD1MRnAJDXjY06BeYyVj%2BY7W3YE7pWA6by7t5HvsjwZ%2B%2B3aHZuQqAPflGr2BTxVEyWwm6YSDHaKvhBHEtd%2FTJt2YBw%3D%3D&job=JDFrxRJyQRQG6KoYVSg7kuvZsOtvoHaSSBMQeBTWZst9cvkED1Tm2w\n",
      "https://www.simplyhired.com/search?q=Business+Analyst&l=united+states&t=1&cursor=ABQAAgAoAAAAAAAAAAAAAAACDzS59wEBARMBkD1MRnAJDXjY06BeYyVj%2BY7W3YE7pWA6by7t5HvsjwZ%2B%2B3aHZuQqAPflGr2BTxVEyWwm6YSDHaKvhBHEtd%2FTJt2YBw%3D%3D&job=QQHWi8JxNqJHO9FqsiTPlF2hHutUIKR3pkW2lJuUZtqlCHI1_kDnVQ\n",
      "https://www.simplyhired.com/search?q=Business+Analyst&l=united+states&t=1&cursor=ABQAAgAoAAAAAAAAAAAAAAACDzS59wEBARMBkD1MRnAJDXjY06BeYyVj%2BY7W3YE7pWA6by7t5HvsjwZ%2B%2B3aHZuQqAPflGr2BTxVEyWwm6YSDHaKvhBHEtd%2FTJt2YBw%3D%3D&job=jK0c33E8fG3wXElkXKSWipHuT-MfmvChNn12PeBt06xfFF0u4TNy1w\n",
      "https://www.simplyhired.com/search?q=Business+Analyst&l=united+states&t=1&cursor=ABQAAgAoAAAAAAAAAAAAAAACDzS59wEBARMBkD1MRnAJDXjY06BeYyVj%2BY7W3YE7pWA6by7t5HvsjwZ%2B%2B3aHZuQqAPflGr2BTxVEyWwm6YSDHaKvhBHEtd%2FTJt2YBw%3D%3D&job=1kmM71BboFo49KMOafdcQQqtgYQdGCUJ_CHTl1_ayKIvb6KRygEeyQ\n",
      "https://www.simplyhired.com/search?q=Business+Analyst&l=united+states&t=1&cursor=ABQAAgAoAAAAAAAAAAAAAAACDzS59wEBARMBkD1MRnAJDXjY06BeYyVj%2BY7W3YE7pWA6by7t5HvsjwZ%2B%2B3aHZuQqAPflGr2BTxVEyWwm6YSDHaKvhBHEtd%2FTJt2YBw%3D%3D&job=1YoETjIx_76cSrmgxTsh4YXdqAHOGof2LBUmksjiWuF7lmOm2J2UQQ\n",
      "https://www.simplyhired.com/search?q=Business+Analyst&l=united+states&t=1&cursor=ABQAAgAoAAAAAAAAAAAAAAACDzS59wEBARMBkD1MRnAJDXjY06BeYyVj%2BY7W3YE7pWA6by7t5HvsjwZ%2B%2B3aHZuQqAPflGr2BTxVEyWwm6YSDHaKvhBHEtd%2FTJt2YBw%3D%3D&job=-L0m8NRzxiRuFdVjVKKGjBPkyDVQbn2VE3UuG7T6tSImbjROJ8R7oA\n",
      "https://www.simplyhired.com/search?q=Business+Analyst&l=united+states&t=1&cursor=ABQAAgAoAAAAAAAAAAAAAAACDzS59wEBARMBkD1MRnAJDXjY06BeYyVj%2BY7W3YE7pWA6by7t5HvsjwZ%2B%2B3aHZuQqAPflGr2BTxVEyWwm6YSDHaKvhBHEtd%2FTJt2YBw%3D%3D&job=ROjxErLkvsaNvPfcuWcsDt5ch89Qr4AInEoqDaGT5J6iiEQeuUWNsw\n",
      "https://www.simplyhired.com/search?q=Business+Analyst&l=united+states&t=1&cursor=ABQAAgAoAAAAAAAAAAAAAAACDzS59wEBARMBkD1MRnAJDXjY06BeYyVj%2BY7W3YE7pWA6by7t5HvsjwZ%2B%2B3aHZuQqAPflGr2BTxVEyWwm6YSDHaKvhBHEtd%2FTJt2YBw%3D%3D&job=dhCAm3xzYGl6OKil5q17eO0gaiVGXI8SNzyZ0g3IZoPm5UjSzFGbIQ\n",
      "https://www.simplyhired.com/search?q=Business+Analyst&l=united+states&t=1&cursor=ABQAAgAoAAAAAAAAAAAAAAACDzS59wEBARMBkD1MRnAJDXjY06BeYyVj%2BY7W3YE7pWA6by7t5HvsjwZ%2B%2B3aHZuQqAPflGr2BTxVEyWwm6YSDHaKvhBHEtd%2FTJt2YBw%3D%3D&job=oXr8nlYyxpzLtTab8yOnS9g94HiSbaYdCuZv0oRcrYm7Qs3hcFJiuQ\n",
      "https://www.simplyhired.com/search?q=Business+Analyst&l=united+states&t=1&cursor=ABQAAgAoAAAAAAAAAAAAAAACDzS59wEBARMBkD1MRnAJDXjY06BeYyVj%2BY7W3YE7pWA6by7t5HvsjwZ%2B%2B3aHZuQqAPflGr2BTxVEyWwm6YSDHaKvhBHEtd%2FTJt2YBw%3D%3D&job=7i65a_S_-K43ZMktedjF-HO_qMTUPZNEaBeOVqeaWkl6cvGbeL1hpA\n",
      "https://www.simplyhired.com/search?q=Business+Analyst&l=united+states&t=1&cursor=ABQAAgAoAAAAAAAAAAAAAAACDzS59wEBARMBkD1MRnAJDXjY06BeYyVj%2BY7W3YE7pWA6by7t5HvsjwZ%2B%2B3aHZuQqAPflGr2BTxVEyWwm6YSDHaKvhBHEtd%2FTJt2YBw%3D%3D&job=Ok7ZqB16jWFGDo28fVfww05_qRiHuEkEK8huX5jl-1YFvme8AocRRQ\n"
     ]
    },
    {
     "name": "stderr",
     "output_type": "stream",
     "text": [
      "/tmp/ipykernel_5743/3381847202.py:22: FutureWarning: The frame.append method is deprecated and will be removed from pandas in a future version. Use pandas.concat instead.\n",
      "  df = df.append(page_data)\n"
     ]
    },
    {
     "name": "stdout",
     "output_type": "stream",
     "text": [
      "Page Number: 4  Page Link:  https://www.simplyhired.com/search?q=Business+Analyst&l=united+states&t=1&cursor=ABQAAwA8AAAAAAAAAAAAAAACDzS59wEBARMC2D2DvpVckyyyhlwxBWdWTFto1ejGzHFjmAg5GKi2rgsilEHfKaCTODOO20diEXLEa%2FHgTJUYU%2FHB2Znq43vdXy%2Bda5%2F0RQwKnJig2Ijb%2FXaNt3T2v15CiiM%3D\n",
      "https://www.simplyhired.com/search?q=Business+Analyst&l=united+states&t=1&cursor=ABQAAwA8AAAAAAAAAAAAAAACDzS59wEBARMC2D2DvpVckyyyhlwxBWdWTFto1ejGzHFjmAg5GKi2rgsilEHfKaCTODOO20diEXLEa%2FHgTJUYU%2FHB2Znq43vdXy%2Bda5%2F0RQwKnJig2Ijb%2FXaNt3T2v15CiiM%3D&job=JHB7nuhTpo4aMqtH_P81KBSTuh7VsakTQIyXI_2uUcjD0r2hc0O6eA\n",
      "https://www.simplyhired.com/search?q=Business+Analyst&l=united+states&t=1&cursor=ABQAAwA8AAAAAAAAAAAAAAACDzS59wEBARMC2D2DvpVckyyyhlwxBWdWTFto1ejGzHFjmAg5GKi2rgsilEHfKaCTODOO20diEXLEa%2FHgTJUYU%2FHB2Znq43vdXy%2Bda5%2F0RQwKnJig2Ijb%2FXaNt3T2v15CiiM%3D&job=RYxFGfaIgeNMpGx_k1CA7wTbFG7q5O7hcLW-S9AtqfOgvx5Uil462w\n",
      "https://www.simplyhired.com/search?q=Business+Analyst&l=united+states&t=1&cursor=ABQAAwA8AAAAAAAAAAAAAAACDzS59wEBARMC2D2DvpVckyyyhlwxBWdWTFto1ejGzHFjmAg5GKi2rgsilEHfKaCTODOO20diEXLEa%2FHgTJUYU%2FHB2Znq43vdXy%2Bda5%2F0RQwKnJig2Ijb%2FXaNt3T2v15CiiM%3D&job=2ZnJnNGsY_nDCY3nJfMnmxvOJK0DrpaaFaRnZ_b_raZRPbbJRNGrPQ\n",
      "https://www.simplyhired.com/search?q=Business+Analyst&l=united+states&t=1&cursor=ABQAAwA8AAAAAAAAAAAAAAACDzS59wEBARMC2D2DvpVckyyyhlwxBWdWTFto1ejGzHFjmAg5GKi2rgsilEHfKaCTODOO20diEXLEa%2FHgTJUYU%2FHB2Znq43vdXy%2Bda5%2F0RQwKnJig2Ijb%2FXaNt3T2v15CiiM%3D&job=Dl58cWesQZGsd8utV1jjORJLMtqR44Tfhuno_aUZo8oUOtuuHwe6nA\n",
      "https://www.simplyhired.com/search?q=Business+Analyst&l=united+states&t=1&cursor=ABQAAwA8AAAAAAAAAAAAAAACDzS59wEBARMC2D2DvpVckyyyhlwxBWdWTFto1ejGzHFjmAg5GKi2rgsilEHfKaCTODOO20diEXLEa%2FHgTJUYU%2FHB2Znq43vdXy%2Bda5%2F0RQwKnJig2Ijb%2FXaNt3T2v15CiiM%3D&job=z3pwC9uUlhgYhtuhd7V1LyFzay__coKyCo2WqIbEWFabDeGFnj9i4Q\n",
      "https://www.simplyhired.com/search?q=Business+Analyst&l=united+states&t=1&cursor=ABQAAwA8AAAAAAAAAAAAAAACDzS59wEBARMC2D2DvpVckyyyhlwxBWdWTFto1ejGzHFjmAg5GKi2rgsilEHfKaCTODOO20diEXLEa%2FHgTJUYU%2FHB2Znq43vdXy%2Bda5%2F0RQwKnJig2Ijb%2FXaNt3T2v15CiiM%3D&job=GVUKyzIBl8TH2ir3e5VSEKLZk0PJpIIbX_1-dKCQl-IOdJoMgyskAw\n",
      "https://www.simplyhired.com/search?q=Business+Analyst&l=united+states&t=1&cursor=ABQAAwA8AAAAAAAAAAAAAAACDzS59wEBARMC2D2DvpVckyyyhlwxBWdWTFto1ejGzHFjmAg5GKi2rgsilEHfKaCTODOO20diEXLEa%2FHgTJUYU%2FHB2Znq43vdXy%2Bda5%2F0RQwKnJig2Ijb%2FXaNt3T2v15CiiM%3D&job=TV4_K9G9EHRyVSVFqBaI9FQGvWSADfr41RbbcG_j-O5vakPFgcNh-w\n",
      "https://www.simplyhired.com/search?q=Business+Analyst&l=united+states&t=1&cursor=ABQAAwA8AAAAAAAAAAAAAAACDzS59wEBARMC2D2DvpVckyyyhlwxBWdWTFto1ejGzHFjmAg5GKi2rgsilEHfKaCTODOO20diEXLEa%2FHgTJUYU%2FHB2Znq43vdXy%2Bda5%2F0RQwKnJig2Ijb%2FXaNt3T2v15CiiM%3D&job=30S-iZ44YGf-40RUs7SK5ZxITTzx6sD-iALh1KBSlAZMkgukv4xwHg\n",
      "https://www.simplyhired.com/search?q=Business+Analyst&l=united+states&t=1&cursor=ABQAAwA8AAAAAAAAAAAAAAACDzS59wEBARMC2D2DvpVckyyyhlwxBWdWTFto1ejGzHFjmAg5GKi2rgsilEHfKaCTODOO20diEXLEa%2FHgTJUYU%2FHB2Znq43vdXy%2Bda5%2F0RQwKnJig2Ijb%2FXaNt3T2v15CiiM%3D&job=J95OBoHAaIIA_cKv3RfCQEqybg6yHDJayV3wJH8JGnvrjR660mBqeA\n",
      "https://www.simplyhired.com/search?q=Business+Analyst&l=united+states&t=1&cursor=ABQAAwA8AAAAAAAAAAAAAAACDzS59wEBARMC2D2DvpVckyyyhlwxBWdWTFto1ejGzHFjmAg5GKi2rgsilEHfKaCTODOO20diEXLEa%2FHgTJUYU%2FHB2Znq43vdXy%2Bda5%2F0RQwKnJig2Ijb%2FXaNt3T2v15CiiM%3D&job=zZ23qQU-RyVDFvrh6b6_eVEUaKNS2cDZgb-r_KsFnkr3dJl1Di1N2A\n",
      "https://www.simplyhired.com/search?q=Business+Analyst&l=united+states&t=1&cursor=ABQAAwA8AAAAAAAAAAAAAAACDzS59wEBARMC2D2DvpVckyyyhlwxBWdWTFto1ejGzHFjmAg5GKi2rgsilEHfKaCTODOO20diEXLEa%2FHgTJUYU%2FHB2Znq43vdXy%2Bda5%2F0RQwKnJig2Ijb%2FXaNt3T2v15CiiM%3D&job=1Jps06UihlrZ2Yx_4yhYmBeaQXp6UuRNRuNFT7kZy9LyBZle4xh6Aw\n",
      "https://www.simplyhired.com/search?q=Business+Analyst&l=united+states&t=1&cursor=ABQAAwA8AAAAAAAAAAAAAAACDzS59wEBARMC2D2DvpVckyyyhlwxBWdWTFto1ejGzHFjmAg5GKi2rgsilEHfKaCTODOO20diEXLEa%2FHgTJUYU%2FHB2Znq43vdXy%2Bda5%2F0RQwKnJig2Ijb%2FXaNt3T2v15CiiM%3D&job=TTRFCsgDSPEpEMAGE9ojprnrRp19BRaTZ0-4ZdbKhBYZbVqFqYut0w\n",
      "https://www.simplyhired.com/search?q=Business+Analyst&l=united+states&t=1&cursor=ABQAAwA8AAAAAAAAAAAAAAACDzS59wEBARMC2D2DvpVckyyyhlwxBWdWTFto1ejGzHFjmAg5GKi2rgsilEHfKaCTODOO20diEXLEa%2FHgTJUYU%2FHB2Znq43vdXy%2Bda5%2F0RQwKnJig2Ijb%2FXaNt3T2v15CiiM%3D&job=CL9yOV2Pi7OXKujN30W6oJc_-yYtEhQETwYeUPj8RCHcegTjxhu45g\n",
      "https://www.simplyhired.com/search?q=Business+Analyst&l=united+states&t=1&cursor=ABQAAwA8AAAAAAAAAAAAAAACDzS59wEBARMC2D2DvpVckyyyhlwxBWdWTFto1ejGzHFjmAg5GKi2rgsilEHfKaCTODOO20diEXLEa%2FHgTJUYU%2FHB2Znq43vdXy%2Bda5%2F0RQwKnJig2Ijb%2FXaNt3T2v15CiiM%3D&job=vphi2iMtz3dA3v3283uSlOuoux3qBnZTsWcxEuX2ZbsONQ8qKZLQ-Q\n",
      "https://www.simplyhired.com/search?q=Business+Analyst&l=united+states&t=1&cursor=ABQAAwA8AAAAAAAAAAAAAAACDzS59wEBARMC2D2DvpVckyyyhlwxBWdWTFto1ejGzHFjmAg5GKi2rgsilEHfKaCTODOO20diEXLEa%2FHgTJUYU%2FHB2Znq43vdXy%2Bda5%2F0RQwKnJig2Ijb%2FXaNt3T2v15CiiM%3D&job=BZLOsHzg1qnqEV3JIaqox8kMa3JoSmgr4YEwsP5PPVf1jDiozaDhug\n",
      "https://www.simplyhired.com/search?q=Business+Analyst&l=united+states&t=1&cursor=ABQAAwA8AAAAAAAAAAAAAAACDzS59wEBARMC2D2DvpVckyyyhlwxBWdWTFto1ejGzHFjmAg5GKi2rgsilEHfKaCTODOO20diEXLEa%2FHgTJUYU%2FHB2Znq43vdXy%2Bda5%2F0RQwKnJig2Ijb%2FXaNt3T2v15CiiM%3D&job=DqopY-_sST2LSfpSaPIVIH5w-5mQUvycsfpWfamomPvUrbPUCm7S3Q\n",
      "https://www.simplyhired.com/search?q=Business+Analyst&l=united+states&t=1&cursor=ABQAAwA8AAAAAAAAAAAAAAACDzS59wEBARMC2D2DvpVckyyyhlwxBWdWTFto1ejGzHFjmAg5GKi2rgsilEHfKaCTODOO20diEXLEa%2FHgTJUYU%2FHB2Znq43vdXy%2Bda5%2F0RQwKnJig2Ijb%2FXaNt3T2v15CiiM%3D&job=4Hx0CeGrAljX3hXf7hZ0O3SMCyi8Uyx3hj8i2KF-Z4RPHvhu7c55xw\n",
      "https://www.simplyhired.com/search?q=Business+Analyst&l=united+states&t=1&cursor=ABQAAwA8AAAAAAAAAAAAAAACDzS59wEBARMC2D2DvpVckyyyhlwxBWdWTFto1ejGzHFjmAg5GKi2rgsilEHfKaCTODOO20diEXLEa%2FHgTJUYU%2FHB2Znq43vdXy%2Bda5%2F0RQwKnJig2Ijb%2FXaNt3T2v15CiiM%3D&job=3j3CqG3k2ylSJlkB-M7YkiyzlfVo1FUNRfRdtptkTlSRJYCXfQ_I9w\n",
      "https://www.simplyhired.com/search?q=Business+Analyst&l=united+states&t=1&cursor=ABQAAwA8AAAAAAAAAAAAAAACDzS59wEBARMC2D2DvpVckyyyhlwxBWdWTFto1ejGzHFjmAg5GKi2rgsilEHfKaCTODOO20diEXLEa%2FHgTJUYU%2FHB2Znq43vdXy%2Bda5%2F0RQwKnJig2Ijb%2FXaNt3T2v15CiiM%3D&job=K7L0dqazLWGMR5J3TBN_tgySsmmshX92gq-QSl1P7CUQBa9rR0uScA\n",
      "https://www.simplyhired.com/search?q=Business+Analyst&l=united+states&t=1&cursor=ABQAAwA8AAAAAAAAAAAAAAACDzS59wEBARMC2D2DvpVckyyyhlwxBWdWTFto1ejGzHFjmAg5GKi2rgsilEHfKaCTODOO20diEXLEa%2FHgTJUYU%2FHB2Znq43vdXy%2Bda5%2F0RQwKnJig2Ijb%2FXaNt3T2v15CiiM%3D&job=Y9RS56WcRxogUor7VT3kLY9U1E_Atl5ShC6voxQJF09I2Jy7iPSFmQ\n"
     ]
    },
    {
     "name": "stderr",
     "output_type": "stream",
     "text": [
      "/tmp/ipykernel_5743/3381847202.py:22: FutureWarning: The frame.append method is deprecated and will be removed from pandas in a future version. Use pandas.concat instead.\n",
      "  df = df.append(page_data)\n"
     ]
    },
    {
     "name": "stdout",
     "output_type": "stream",
     "text": [
      "Page Number: 5  Page Link:  https://www.simplyhired.com/search?q=Business+Analyst&l=united+states&t=1&cursor=ABQABABQAAAAAAAAAAAAAAACDzS59wECARhEBgHxkpDH6KOVxf3KqM1iNGpojg2CmCO8LDjiUrYMircQF44LV9okVMyEFqK9adK6X13PHdu9pRMguXGXAH5O0ap0CcVtTeE54dUBGyfAi1elFWWC7sTt%2BQfxgNGrAg0x9RYbWzNCTA%3D%3D\n",
      "https://www.simplyhired.com/search?q=Business+Analyst&l=united+states&t=1&cursor=ABQABABQAAAAAAAAAAAAAAACDzS59wECARhEBgHxkpDH6KOVxf3KqM1iNGpojg2CmCO8LDjiUrYMircQF44LV9okVMyEFqK9adK6X13PHdu9pRMguXGXAH5O0ap0CcVtTeE54dUBGyfAi1elFWWC7sTt%2BQfxgNGrAg0x9RYbWzNCTA%3D%3D&job=P2jEu4JL-mWKQUohFkphrR8HBaHx9ClB_FiIEwgNTnDCZxXuCey_RA\n",
      "https://www.simplyhired.com/search?q=Business+Analyst&l=united+states&t=1&cursor=ABQABABQAAAAAAAAAAAAAAACDzS59wECARhEBgHxkpDH6KOVxf3KqM1iNGpojg2CmCO8LDjiUrYMircQF44LV9okVMyEFqK9adK6X13PHdu9pRMguXGXAH5O0ap0CcVtTeE54dUBGyfAi1elFWWC7sTt%2BQfxgNGrAg0x9RYbWzNCTA%3D%3D&job=-VizWp7qlFPBmabaYJWVCf9fsSXMr_BbEz4WsrsSGkdN7TtA3R8CEA\n",
      "https://www.simplyhired.com/search?q=Business+Analyst&l=united+states&t=1&cursor=ABQABABQAAAAAAAAAAAAAAACDzS59wECARhEBgHxkpDH6KOVxf3KqM1iNGpojg2CmCO8LDjiUrYMircQF44LV9okVMyEFqK9adK6X13PHdu9pRMguXGXAH5O0ap0CcVtTeE54dUBGyfAi1elFWWC7sTt%2BQfxgNGrAg0x9RYbWzNCTA%3D%3D&job=Fi72_UKoztMEAxr7c5B4BtYiNOxVg5OiPT7v9zSlIW9mqV4tydStJQ\n",
      "https://www.simplyhired.com/search?q=Business+Analyst&l=united+states&t=1&cursor=ABQABABQAAAAAAAAAAAAAAACDzS59wECARhEBgHxkpDH6KOVxf3KqM1iNGpojg2CmCO8LDjiUrYMircQF44LV9okVMyEFqK9adK6X13PHdu9pRMguXGXAH5O0ap0CcVtTeE54dUBGyfAi1elFWWC7sTt%2BQfxgNGrAg0x9RYbWzNCTA%3D%3D&job=lMapnx-gHomJHV12tmeXpxzfUj2EwNF5H402_J66t1uueZb6CxhDXw\n",
      "https://www.simplyhired.com/search?q=Business+Analyst&l=united+states&t=1&cursor=ABQABABQAAAAAAAAAAAAAAACDzS59wECARhEBgHxkpDH6KOVxf3KqM1iNGpojg2CmCO8LDjiUrYMircQF44LV9okVMyEFqK9adK6X13PHdu9pRMguXGXAH5O0ap0CcVtTeE54dUBGyfAi1elFWWC7sTt%2BQfxgNGrAg0x9RYbWzNCTA%3D%3D&job=8VOdcROuiDXHs8DWvAOXdY9BxNmaEZyIueNVz97kMRHmo_2hr3xhqg\n",
      "https://www.simplyhired.com/search?q=Business+Analyst&l=united+states&t=1&cursor=ABQABABQAAAAAAAAAAAAAAACDzS59wECARhEBgHxkpDH6KOVxf3KqM1iNGpojg2CmCO8LDjiUrYMircQF44LV9okVMyEFqK9adK6X13PHdu9pRMguXGXAH5O0ap0CcVtTeE54dUBGyfAi1elFWWC7sTt%2BQfxgNGrAg0x9RYbWzNCTA%3D%3D&job=RqFKRc-e4SqeSSNZooMBQ3H9StcpiESriT5AQy7UEA5Zy8VQ8gaFtA\n",
      "https://www.simplyhired.com/search?q=Business+Analyst&l=united+states&t=1&cursor=ABQABABQAAAAAAAAAAAAAAACDzS59wECARhEBgHxkpDH6KOVxf3KqM1iNGpojg2CmCO8LDjiUrYMircQF44LV9okVMyEFqK9adK6X13PHdu9pRMguXGXAH5O0ap0CcVtTeE54dUBGyfAi1elFWWC7sTt%2BQfxgNGrAg0x9RYbWzNCTA%3D%3D&job=neXG36zkfe0N2sB0DcRSQp1LCdgi2oFexryTsPtCXqP8iPhWVQtcug\n",
      "https://www.simplyhired.com/search?q=Business+Analyst&l=united+states&t=1&cursor=ABQABABQAAAAAAAAAAAAAAACDzS59wECARhEBgHxkpDH6KOVxf3KqM1iNGpojg2CmCO8LDjiUrYMircQF44LV9okVMyEFqK9adK6X13PHdu9pRMguXGXAH5O0ap0CcVtTeE54dUBGyfAi1elFWWC7sTt%2BQfxgNGrAg0x9RYbWzNCTA%3D%3D&job=tTy5uJyDuCkPbdxFaiN68KorP613NOIuIdUjSYy5INbI-tCTd5Lp8g\n",
      "https://www.simplyhired.com/search?q=Business+Analyst&l=united+states&t=1&cursor=ABQABABQAAAAAAAAAAAAAAACDzS59wECARhEBgHxkpDH6KOVxf3KqM1iNGpojg2CmCO8LDjiUrYMircQF44LV9okVMyEFqK9adK6X13PHdu9pRMguXGXAH5O0ap0CcVtTeE54dUBGyfAi1elFWWC7sTt%2BQfxgNGrAg0x9RYbWzNCTA%3D%3D&job=TK_2pRxL-bJfJny5G9gzPUWWKbF5mtIgsblrnfp53SS32kQsJkX9dg\n",
      "https://www.simplyhired.com/search?q=Business+Analyst&l=united+states&t=1&cursor=ABQABABQAAAAAAAAAAAAAAACDzS59wECARhEBgHxkpDH6KOVxf3KqM1iNGpojg2CmCO8LDjiUrYMircQF44LV9okVMyEFqK9adK6X13PHdu9pRMguXGXAH5O0ap0CcVtTeE54dUBGyfAi1elFWWC7sTt%2BQfxgNGrAg0x9RYbWzNCTA%3D%3D&job=Ivu3a2dayMukOXu1X9xpCzZdYvCeOTVjON-WZ-jkE6-rqNZaE3uuEg\n",
      "https://www.simplyhired.com/search?q=Business+Analyst&l=united+states&t=1&cursor=ABQABABQAAAAAAAAAAAAAAACDzS59wECARhEBgHxkpDH6KOVxf3KqM1iNGpojg2CmCO8LDjiUrYMircQF44LV9okVMyEFqK9adK6X13PHdu9pRMguXGXAH5O0ap0CcVtTeE54dUBGyfAi1elFWWC7sTt%2BQfxgNGrAg0x9RYbWzNCTA%3D%3D&job=E6Sfwurum0M441_trk7bIlYXZ6susIAk0kF99vTT8pmmi9z7MY8IGA\n",
      "https://www.simplyhired.com/search?q=Business+Analyst&l=united+states&t=1&cursor=ABQABABQAAAAAAAAAAAAAAACDzS59wECARhEBgHxkpDH6KOVxf3KqM1iNGpojg2CmCO8LDjiUrYMircQF44LV9okVMyEFqK9adK6X13PHdu9pRMguXGXAH5O0ap0CcVtTeE54dUBGyfAi1elFWWC7sTt%2BQfxgNGrAg0x9RYbWzNCTA%3D%3D&job=D5DpcSRmIzwr9PDrjBsPKAni6kPM3H2T_aLsQ5FlgW2NS3daEv4Nfg\n",
      "https://www.simplyhired.com/search?q=Business+Analyst&l=united+states&t=1&cursor=ABQABABQAAAAAAAAAAAAAAACDzS59wECARhEBgHxkpDH6KOVxf3KqM1iNGpojg2CmCO8LDjiUrYMircQF44LV9okVMyEFqK9adK6X13PHdu9pRMguXGXAH5O0ap0CcVtTeE54dUBGyfAi1elFWWC7sTt%2BQfxgNGrAg0x9RYbWzNCTA%3D%3D&job=JeRd1lGeDDPdZ2BdImQdu75obRTemHKwkAVaMJESUu3jTlKbllWhjQ\n",
      "https://www.simplyhired.com/search?q=Business+Analyst&l=united+states&t=1&cursor=ABQABABQAAAAAAAAAAAAAAACDzS59wECARhEBgHxkpDH6KOVxf3KqM1iNGpojg2CmCO8LDjiUrYMircQF44LV9okVMyEFqK9adK6X13PHdu9pRMguXGXAH5O0ap0CcVtTeE54dUBGyfAi1elFWWC7sTt%2BQfxgNGrAg0x9RYbWzNCTA%3D%3D&job=kH3RpN0OM9Jdg4OgpJQzm3I85pbuHk8u7GWNO4akrVlhOmdUncIjww\n",
      "https://www.simplyhired.com/search?q=Business+Analyst&l=united+states&t=1&cursor=ABQABABQAAAAAAAAAAAAAAACDzS59wECARhEBgHxkpDH6KOVxf3KqM1iNGpojg2CmCO8LDjiUrYMircQF44LV9okVMyEFqK9adK6X13PHdu9pRMguXGXAH5O0ap0CcVtTeE54dUBGyfAi1elFWWC7sTt%2BQfxgNGrAg0x9RYbWzNCTA%3D%3D&job=pwidQCq8UvuLPJlg3y8msQAnwFdhvxkKwjpqnPy1_8BDfWzsMJFBGA\n",
      "https://www.simplyhired.com/search?q=Business+Analyst&l=united+states&t=1&cursor=ABQABABQAAAAAAAAAAAAAAACDzS59wECARhEBgHxkpDH6KOVxf3KqM1iNGpojg2CmCO8LDjiUrYMircQF44LV9okVMyEFqK9adK6X13PHdu9pRMguXGXAH5O0ap0CcVtTeE54dUBGyfAi1elFWWC7sTt%2BQfxgNGrAg0x9RYbWzNCTA%3D%3D&job=qpeygygWDDaYkFLrBHt_c1ji8hciHxyirMiw3vC2wcj94GufPlEbYQ\n",
      "https://www.simplyhired.com/search?q=Business+Analyst&l=united+states&t=1&cursor=ABQABABQAAAAAAAAAAAAAAACDzS59wECARhEBgHxkpDH6KOVxf3KqM1iNGpojg2CmCO8LDjiUrYMircQF44LV9okVMyEFqK9adK6X13PHdu9pRMguXGXAH5O0ap0CcVtTeE54dUBGyfAi1elFWWC7sTt%2BQfxgNGrAg0x9RYbWzNCTA%3D%3D&job=K0GGSk2wpR69cR7DCpWtChsZbGb_Q68ortqM5fIvcRhQMdDBJo4c5Q\n",
      "https://www.simplyhired.com/search?q=Business+Analyst&l=united+states&t=1&cursor=ABQABABQAAAAAAAAAAAAAAACDzS59wECARhEBgHxkpDH6KOVxf3KqM1iNGpojg2CmCO8LDjiUrYMircQF44LV9okVMyEFqK9adK6X13PHdu9pRMguXGXAH5O0ap0CcVtTeE54dUBGyfAi1elFWWC7sTt%2BQfxgNGrAg0x9RYbWzNCTA%3D%3D&job=9r6N2C5kj1UMwrH66Zqk0cTgP1tauonF8QnJofJcDqNcA8md10MZgA\n",
      "https://www.simplyhired.com/search?q=Business+Analyst&l=united+states&t=1&cursor=ABQABABQAAAAAAAAAAAAAAACDzS59wECARhEBgHxkpDH6KOVxf3KqM1iNGpojg2CmCO8LDjiUrYMircQF44LV9okVMyEFqK9adK6X13PHdu9pRMguXGXAH5O0ap0CcVtTeE54dUBGyfAi1elFWWC7sTt%2BQfxgNGrAg0x9RYbWzNCTA%3D%3D&job=fTKhxq-Y7gWh2oWfb7G1rat1xLEDS677WUsaO1YFdM4wT-Q_aVolmg\n",
      "https://www.simplyhired.com/search?q=Business+Analyst&l=united+states&t=1&cursor=ABQABABQAAAAAAAAAAAAAAACDzS59wECARhEBgHxkpDH6KOVxf3KqM1iNGpojg2CmCO8LDjiUrYMircQF44LV9okVMyEFqK9adK6X13PHdu9pRMguXGXAH5O0ap0CcVtTeE54dUBGyfAi1elFWWC7sTt%2BQfxgNGrAg0x9RYbWzNCTA%3D%3D&job=5rmRvONiu1R1RyL29A89pJHTRJyqWlp0u9GvqUajHox-2chucIowPg\n"
     ]
    },
    {
     "name": "stderr",
     "output_type": "stream",
     "text": [
      "/tmp/ipykernel_5743/3381847202.py:22: FutureWarning: The frame.append method is deprecated and will be removed from pandas in a future version. Use pandas.concat instead.\n",
      "  df = df.append(page_data)\n"
     ]
    },
    {
     "name": "stdout",
     "output_type": "stream",
     "text": [
      "Page Number: 6  Page Link:  https://www.simplyhired.com/search?q=Business+Analyst&l=united+states&t=1&cursor=ABQABQBkAAAAAAAAAAAAAAACDzS59wECASBEBgbJhaj4Y5Wh1xJAL0dGIFnsZP5KEUnYLu5hGrPdcqKjkGOaCdQ9PtyA8OB%2Fm6ZH3DvqiiL2yWUlGIe96szgor%2BxnuKVE%2BQwoPbIO4vi52mtsFL2WWDRv0gS3sRYeAhhzWtyxXQLfUyhT%2FUCd7CPAUeQ\n",
      "https://www.simplyhired.com/search?q=Business+Analyst&l=united+states&t=1&cursor=ABQABQBkAAAAAAAAAAAAAAACDzS59wECASBEBgbJhaj4Y5Wh1xJAL0dGIFnsZP5KEUnYLu5hGrPdcqKjkGOaCdQ9PtyA8OB%2Fm6ZH3DvqiiL2yWUlGIe96szgor%2BxnuKVE%2BQwoPbIO4vi52mtsFL2WWDRv0gS3sRYeAhhzWtyxXQLfUyhT%2FUCd7CPAUeQ&job=ZwGRAMtk44GXXQHjfg9zLhtkwqQk8sk1fySe5CFhA2x5pOQqPPi03Q\n",
      "https://www.simplyhired.com/search?q=Business+Analyst&l=united+states&t=1&cursor=ABQABQBkAAAAAAAAAAAAAAACDzS59wECASBEBgbJhaj4Y5Wh1xJAL0dGIFnsZP5KEUnYLu5hGrPdcqKjkGOaCdQ9PtyA8OB%2Fm6ZH3DvqiiL2yWUlGIe96szgor%2BxnuKVE%2BQwoPbIO4vi52mtsFL2WWDRv0gS3sRYeAhhzWtyxXQLfUyhT%2FUCd7CPAUeQ&job=cNbqzyMAi0DoEFPQ-s1pbKMTdIQXhbkKKlH4Dj7a29URZaccAC9cNw\n",
      "https://www.simplyhired.com/search?q=Business+Analyst&l=united+states&t=1&cursor=ABQABQBkAAAAAAAAAAAAAAACDzS59wECASBEBgbJhaj4Y5Wh1xJAL0dGIFnsZP5KEUnYLu5hGrPdcqKjkGOaCdQ9PtyA8OB%2Fm6ZH3DvqiiL2yWUlGIe96szgor%2BxnuKVE%2BQwoPbIO4vi52mtsFL2WWDRv0gS3sRYeAhhzWtyxXQLfUyhT%2FUCd7CPAUeQ&job=1xlq_cNEAsMqvImSGYg6Bw-emjubpVSJDNg0572RBTh4BHrKkSSjkw\n",
      "https://www.simplyhired.com/search?q=Business+Analyst&l=united+states&t=1&cursor=ABQABQBkAAAAAAAAAAAAAAACDzS59wECASBEBgbJhaj4Y5Wh1xJAL0dGIFnsZP5KEUnYLu5hGrPdcqKjkGOaCdQ9PtyA8OB%2Fm6ZH3DvqiiL2yWUlGIe96szgor%2BxnuKVE%2BQwoPbIO4vi52mtsFL2WWDRv0gS3sRYeAhhzWtyxXQLfUyhT%2FUCd7CPAUeQ&job=-MXu-eizPKq1bKTSAXCNbXakwzLlEbvfFlzkXDjUPBQfbbJdnVOYDA\n",
      "https://www.simplyhired.com/search?q=Business+Analyst&l=united+states&t=1&cursor=ABQABQBkAAAAAAAAAAAAAAACDzS59wECASBEBgbJhaj4Y5Wh1xJAL0dGIFnsZP5KEUnYLu5hGrPdcqKjkGOaCdQ9PtyA8OB%2Fm6ZH3DvqiiL2yWUlGIe96szgor%2BxnuKVE%2BQwoPbIO4vi52mtsFL2WWDRv0gS3sRYeAhhzWtyxXQLfUyhT%2FUCd7CPAUeQ&job=ydtPnfGfF9lU6y3S6EeEII6bbgPVQBWD9ccIVnLfPscFzVMi1cZ0cw\n",
      "https://www.simplyhired.com/search?q=Business+Analyst&l=united+states&t=1&cursor=ABQABQBkAAAAAAAAAAAAAAACDzS59wECASBEBgbJhaj4Y5Wh1xJAL0dGIFnsZP5KEUnYLu5hGrPdcqKjkGOaCdQ9PtyA8OB%2Fm6ZH3DvqiiL2yWUlGIe96szgor%2BxnuKVE%2BQwoPbIO4vi52mtsFL2WWDRv0gS3sRYeAhhzWtyxXQLfUyhT%2FUCd7CPAUeQ&job=1vEMjscI_OdEoT6fv79nzgxyg0zsFHdOJV-Bz27aBq8Wtg25GH3uDw\n",
      "https://www.simplyhired.com/search?q=Business+Analyst&l=united+states&t=1&cursor=ABQABQBkAAAAAAAAAAAAAAACDzS59wECASBEBgbJhaj4Y5Wh1xJAL0dGIFnsZP5KEUnYLu5hGrPdcqKjkGOaCdQ9PtyA8OB%2Fm6ZH3DvqiiL2yWUlGIe96szgor%2BxnuKVE%2BQwoPbIO4vi52mtsFL2WWDRv0gS3sRYeAhhzWtyxXQLfUyhT%2FUCd7CPAUeQ&job=qeS-6V01wt_wMAZonEyDgdmBWuFYldPb37UKK_WYqyJtyT2WEb4fPg\n",
      "https://www.simplyhired.com/search?q=Business+Analyst&l=united+states&t=1&cursor=ABQABQBkAAAAAAAAAAAAAAACDzS59wECASBEBgbJhaj4Y5Wh1xJAL0dGIFnsZP5KEUnYLu5hGrPdcqKjkGOaCdQ9PtyA8OB%2Fm6ZH3DvqiiL2yWUlGIe96szgor%2BxnuKVE%2BQwoPbIO4vi52mtsFL2WWDRv0gS3sRYeAhhzWtyxXQLfUyhT%2FUCd7CPAUeQ&job=mizcDIWYgAuigO72iLqMOMj4iTCz431Eoo1u042siGpxY2uaP4ZfsA\n",
      "https://www.simplyhired.com/search?q=Business+Analyst&l=united+states&t=1&cursor=ABQABQBkAAAAAAAAAAAAAAACDzS59wECASBEBgbJhaj4Y5Wh1xJAL0dGIFnsZP5KEUnYLu5hGrPdcqKjkGOaCdQ9PtyA8OB%2Fm6ZH3DvqiiL2yWUlGIe96szgor%2BxnuKVE%2BQwoPbIO4vi52mtsFL2WWDRv0gS3sRYeAhhzWtyxXQLfUyhT%2FUCd7CPAUeQ&job=vK1mE0BoTXfcDKnR1DZ7HqU5BlAuembr2C2okEef6cfeQ0jZeOr8RA\n",
      "https://www.simplyhired.com/search?q=Business+Analyst&l=united+states&t=1&cursor=ABQABQBkAAAAAAAAAAAAAAACDzS59wECASBEBgbJhaj4Y5Wh1xJAL0dGIFnsZP5KEUnYLu5hGrPdcqKjkGOaCdQ9PtyA8OB%2Fm6ZH3DvqiiL2yWUlGIe96szgor%2BxnuKVE%2BQwoPbIO4vi52mtsFL2WWDRv0gS3sRYeAhhzWtyxXQLfUyhT%2FUCd7CPAUeQ&job=hUs6j5r3pUAO_ZeYcXqiMwKQfYsRbYTtUy6e7n9rVOspJoGlZ1VrKQ\n",
      "https://www.simplyhired.com/search?q=Business+Analyst&l=united+states&t=1&cursor=ABQABQBkAAAAAAAAAAAAAAACDzS59wECASBEBgbJhaj4Y5Wh1xJAL0dGIFnsZP5KEUnYLu5hGrPdcqKjkGOaCdQ9PtyA8OB%2Fm6ZH3DvqiiL2yWUlGIe96szgor%2BxnuKVE%2BQwoPbIO4vi52mtsFL2WWDRv0gS3sRYeAhhzWtyxXQLfUyhT%2FUCd7CPAUeQ&job=67LkHx9jXcYr_QGHjd8hKzJUg2rLPEYjOd2cY9Di9Et9Q0R3t3QtCA\n",
      "https://www.simplyhired.com/search?q=Business+Analyst&l=united+states&t=1&cursor=ABQABQBkAAAAAAAAAAAAAAACDzS59wECASBEBgbJhaj4Y5Wh1xJAL0dGIFnsZP5KEUnYLu5hGrPdcqKjkGOaCdQ9PtyA8OB%2Fm6ZH3DvqiiL2yWUlGIe96szgor%2BxnuKVE%2BQwoPbIO4vi52mtsFL2WWDRv0gS3sRYeAhhzWtyxXQLfUyhT%2FUCd7CPAUeQ&job=qq3SbPhOj-ifyUfeRsN5xF6xBmHzJ3oOsXUOuokrdYTWmcXEQQpXqg\n",
      "https://www.simplyhired.com/search?q=Business+Analyst&l=united+states&t=1&cursor=ABQABQBkAAAAAAAAAAAAAAACDzS59wECASBEBgbJhaj4Y5Wh1xJAL0dGIFnsZP5KEUnYLu5hGrPdcqKjkGOaCdQ9PtyA8OB%2Fm6ZH3DvqiiL2yWUlGIe96szgor%2BxnuKVE%2BQwoPbIO4vi52mtsFL2WWDRv0gS3sRYeAhhzWtyxXQLfUyhT%2FUCd7CPAUeQ&job=ptQGVC8FKbReS7wxsKIYGblZLuwDl4HVTJnhG1WluRVf24h5c2L-YA\n",
      "https://www.simplyhired.com/search?q=Business+Analyst&l=united+states&t=1&cursor=ABQABQBkAAAAAAAAAAAAAAACDzS59wECASBEBgbJhaj4Y5Wh1xJAL0dGIFnsZP5KEUnYLu5hGrPdcqKjkGOaCdQ9PtyA8OB%2Fm6ZH3DvqiiL2yWUlGIe96szgor%2BxnuKVE%2BQwoPbIO4vi52mtsFL2WWDRv0gS3sRYeAhhzWtyxXQLfUyhT%2FUCd7CPAUeQ&job=ZiiC5uMeR6erG1v2-EhCibqCU0lawEKf1iG8TLIGinT3Iy3DeIhdWw\n",
      "https://www.simplyhired.com/search?q=Business+Analyst&l=united+states&t=1&cursor=ABQABQBkAAAAAAAAAAAAAAACDzS59wECASBEBgbJhaj4Y5Wh1xJAL0dGIFnsZP5KEUnYLu5hGrPdcqKjkGOaCdQ9PtyA8OB%2Fm6ZH3DvqiiL2yWUlGIe96szgor%2BxnuKVE%2BQwoPbIO4vi52mtsFL2WWDRv0gS3sRYeAhhzWtyxXQLfUyhT%2FUCd7CPAUeQ&job=RSY0Gll1T7KdvT81vPO2w1DlkbghHxp09KoIYLImLo5nxJGKUKdLEA\n",
      "https://www.simplyhired.com/search?q=Business+Analyst&l=united+states&t=1&cursor=ABQABQBkAAAAAAAAAAAAAAACDzS59wECASBEBgbJhaj4Y5Wh1xJAL0dGIFnsZP5KEUnYLu5hGrPdcqKjkGOaCdQ9PtyA8OB%2Fm6ZH3DvqiiL2yWUlGIe96szgor%2BxnuKVE%2BQwoPbIO4vi52mtsFL2WWDRv0gS3sRYeAhhzWtyxXQLfUyhT%2FUCd7CPAUeQ&job=qdGTKJTBBgD_vXLUk1azkkGhzig4_16IJnFAKaSZKuYlZ5iHJ6BXEw\n",
      "https://www.simplyhired.com/search?q=Business+Analyst&l=united+states&t=1&cursor=ABQABQBkAAAAAAAAAAAAAAACDzS59wECASBEBgbJhaj4Y5Wh1xJAL0dGIFnsZP5KEUnYLu5hGrPdcqKjkGOaCdQ9PtyA8OB%2Fm6ZH3DvqiiL2yWUlGIe96szgor%2BxnuKVE%2BQwoPbIO4vi52mtsFL2WWDRv0gS3sRYeAhhzWtyxXQLfUyhT%2FUCd7CPAUeQ&job=7pNPkbr_j4sVSLVULubule8wvDFZAs5IkFHT84yjJzWjnKrHSFtU1A\n",
      "https://www.simplyhired.com/search?q=Business+Analyst&l=united+states&t=1&cursor=ABQABQBkAAAAAAAAAAAAAAACDzS59wECASBEBgbJhaj4Y5Wh1xJAL0dGIFnsZP5KEUnYLu5hGrPdcqKjkGOaCdQ9PtyA8OB%2Fm6ZH3DvqiiL2yWUlGIe96szgor%2BxnuKVE%2BQwoPbIO4vi52mtsFL2WWDRv0gS3sRYeAhhzWtyxXQLfUyhT%2FUCd7CPAUeQ&job=vzLVP-FzmVWhXFfzYn5iZDXBLKA9_9ezQCFpqahCLqBTkv9YwqcKmw\n",
      "https://www.simplyhired.com/search?q=Business+Analyst&l=united+states&t=1&cursor=ABQABQBkAAAAAAAAAAAAAAACDzS59wECASBEBgbJhaj4Y5Wh1xJAL0dGIFnsZP5KEUnYLu5hGrPdcqKjkGOaCdQ9PtyA8OB%2Fm6ZH3DvqiiL2yWUlGIe96szgor%2BxnuKVE%2BQwoPbIO4vi52mtsFL2WWDRv0gS3sRYeAhhzWtyxXQLfUyhT%2FUCd7CPAUeQ&job=e34Wn6_prAKHJYeIBYkA3zHFfzOZe5g7GlhvxTNpFTBWeE3FBn9y5Q\n",
      "https://www.simplyhired.com/search?q=Business+Analyst&l=united+states&t=1&cursor=ABQABQBkAAAAAAAAAAAAAAACDzS59wECASBEBgbJhaj4Y5Wh1xJAL0dGIFnsZP5KEUnYLu5hGrPdcqKjkGOaCdQ9PtyA8OB%2Fm6ZH3DvqiiL2yWUlGIe96szgor%2BxnuKVE%2BQwoPbIO4vi52mtsFL2WWDRv0gS3sRYeAhhzWtyxXQLfUyhT%2FUCd7CPAUeQ&job=Pf2A6-V2EyZUd8oBSq4VHCUJlE7Gte9qKdYD3lQZc7v5GDsd9v8XNw\n"
     ]
    },
    {
     "name": "stderr",
     "output_type": "stream",
     "text": [
      "/tmp/ipykernel_5743/3381847202.py:22: FutureWarning: The frame.append method is deprecated and will be removed from pandas in a future version. Use pandas.concat instead.\n",
      "  df = df.append(page_data)\n"
     ]
    },
    {
     "name": "stdout",
     "output_type": "stream",
     "text": [
      "Page Number: 7  Page Link:  https://www.simplyhired.com/search?q=Business+Analyst&l=united+states&t=1&cursor=ABQABgB4AAAAAAAAAAAAAAACDzS59wECASFECwabtwaoDorC%2FWhkalEnM5jqxDIbAYYbEVwGqejC6tEcKBVZ2%2FIebQw%2BfkimCNyduUFp681lb8nR6UcLHuHXYHwpD7ksDM7egrVoA%2FbWiAfoATsNZVsH0XBsmq3hswk2bXm%2ByDckyj%2BOuKklt6elnlC%2B\n",
      "https://www.simplyhired.com/search?q=Business+Analyst&l=united+states&t=1&cursor=ABQABgB4AAAAAAAAAAAAAAACDzS59wECASFECwabtwaoDorC%2FWhkalEnM5jqxDIbAYYbEVwGqejC6tEcKBVZ2%2FIebQw%2BfkimCNyduUFp681lb8nR6UcLHuHXYHwpD7ksDM7egrVoA%2FbWiAfoATsNZVsH0XBsmq3hswk2bXm%2ByDckyj%2BOuKklt6elnlC%2B&job=g1lOeZ1iXBa34ubsWnfRANTofpC627kkJhH5Yu5SQiid6uT5x8ohTA\n",
      "https://www.simplyhired.com/search?q=Business+Analyst&l=united+states&t=1&cursor=ABQABgB4AAAAAAAAAAAAAAACDzS59wECASFECwabtwaoDorC%2FWhkalEnM5jqxDIbAYYbEVwGqejC6tEcKBVZ2%2FIebQw%2BfkimCNyduUFp681lb8nR6UcLHuHXYHwpD7ksDM7egrVoA%2FbWiAfoATsNZVsH0XBsmq3hswk2bXm%2ByDckyj%2BOuKklt6elnlC%2B&job=OFkVgxeg4-ozoCYSlGnARmxKnBlN7hudfjz73vVUfkZxZrBaJa_3FA\n",
      "https://www.simplyhired.com/search?q=Business+Analyst&l=united+states&t=1&cursor=ABQABgB4AAAAAAAAAAAAAAACDzS59wECASFECwabtwaoDorC%2FWhkalEnM5jqxDIbAYYbEVwGqejC6tEcKBVZ2%2FIebQw%2BfkimCNyduUFp681lb8nR6UcLHuHXYHwpD7ksDM7egrVoA%2FbWiAfoATsNZVsH0XBsmq3hswk2bXm%2ByDckyj%2BOuKklt6elnlC%2B&job=f7Aa3Cy-cbvMXVtpV44ZtPr9uRbhvhWG8uhqa3xQHaKwd-B13NXDfA\n",
      "https://www.simplyhired.com/search?q=Business+Analyst&l=united+states&t=1&cursor=ABQABgB4AAAAAAAAAAAAAAACDzS59wECASFECwabtwaoDorC%2FWhkalEnM5jqxDIbAYYbEVwGqejC6tEcKBVZ2%2FIebQw%2BfkimCNyduUFp681lb8nR6UcLHuHXYHwpD7ksDM7egrVoA%2FbWiAfoATsNZVsH0XBsmq3hswk2bXm%2ByDckyj%2BOuKklt6elnlC%2B&job=X_MxGqZ6xtQGgMsMA05c7rblrx93Icr7aUdQTJljAaRGc9nEgcP4Fw\n",
      "https://www.simplyhired.com/search?q=Business+Analyst&l=united+states&t=1&cursor=ABQABgB4AAAAAAAAAAAAAAACDzS59wECASFECwabtwaoDorC%2FWhkalEnM5jqxDIbAYYbEVwGqejC6tEcKBVZ2%2FIebQw%2BfkimCNyduUFp681lb8nR6UcLHuHXYHwpD7ksDM7egrVoA%2FbWiAfoATsNZVsH0XBsmq3hswk2bXm%2ByDckyj%2BOuKklt6elnlC%2B&job=uaL2IK4T2jKrSouaNFhm2tMktheKu3l3p6t3jXz2EipI0IvZBISpcw\n",
      "https://www.simplyhired.com/search?q=Business+Analyst&l=united+states&t=1&cursor=ABQABgB4AAAAAAAAAAAAAAACDzS59wECASFECwabtwaoDorC%2FWhkalEnM5jqxDIbAYYbEVwGqejC6tEcKBVZ2%2FIebQw%2BfkimCNyduUFp681lb8nR6UcLHuHXYHwpD7ksDM7egrVoA%2FbWiAfoATsNZVsH0XBsmq3hswk2bXm%2ByDckyj%2BOuKklt6elnlC%2B&job=e2MI60q4lYx3ffnviRNDP0pL7NcwMTFr7oXDwBiigyjbkYGJcoqMcw\n",
      "https://www.simplyhired.com/search?q=Business+Analyst&l=united+states&t=1&cursor=ABQABgB4AAAAAAAAAAAAAAACDzS59wECASFECwabtwaoDorC%2FWhkalEnM5jqxDIbAYYbEVwGqejC6tEcKBVZ2%2FIebQw%2BfkimCNyduUFp681lb8nR6UcLHuHXYHwpD7ksDM7egrVoA%2FbWiAfoATsNZVsH0XBsmq3hswk2bXm%2ByDckyj%2BOuKklt6elnlC%2B&job=0mFEPQKREkpWWBRkIYj-ngBd3xDGArjke_71T3_8MhP0ZfROvgBGoQ\n",
      "https://www.simplyhired.com/search?q=Business+Analyst&l=united+states&t=1&cursor=ABQABgB4AAAAAAAAAAAAAAACDzS59wECASFECwabtwaoDorC%2FWhkalEnM5jqxDIbAYYbEVwGqejC6tEcKBVZ2%2FIebQw%2BfkimCNyduUFp681lb8nR6UcLHuHXYHwpD7ksDM7egrVoA%2FbWiAfoATsNZVsH0XBsmq3hswk2bXm%2ByDckyj%2BOuKklt6elnlC%2B&job=UuLt1ASyNUtoyiqGxcpICd1RgVajOEkIHWtWaKa5FMPLvhptXKtKAQ\n",
      "https://www.simplyhired.com/search?q=Business+Analyst&l=united+states&t=1&cursor=ABQABgB4AAAAAAAAAAAAAAACDzS59wECASFECwabtwaoDorC%2FWhkalEnM5jqxDIbAYYbEVwGqejC6tEcKBVZ2%2FIebQw%2BfkimCNyduUFp681lb8nR6UcLHuHXYHwpD7ksDM7egrVoA%2FbWiAfoATsNZVsH0XBsmq3hswk2bXm%2ByDckyj%2BOuKklt6elnlC%2B&job=ZgP71Eq5cym3SyXVAKWr6fHvCKSCJblqru3nVir9kRt7fKbIktvB4g\n",
      "https://www.simplyhired.com/search?q=Business+Analyst&l=united+states&t=1&cursor=ABQABgB4AAAAAAAAAAAAAAACDzS59wECASFECwabtwaoDorC%2FWhkalEnM5jqxDIbAYYbEVwGqejC6tEcKBVZ2%2FIebQw%2BfkimCNyduUFp681lb8nR6UcLHuHXYHwpD7ksDM7egrVoA%2FbWiAfoATsNZVsH0XBsmq3hswk2bXm%2ByDckyj%2BOuKklt6elnlC%2B&job=Y6CAsirXxSoFIChG7JuE6_nAnwGZdjNDfn2iw-3cB9H0k7QL55uDZQ\n",
      "https://www.simplyhired.com/search?q=Business+Analyst&l=united+states&t=1&cursor=ABQABgB4AAAAAAAAAAAAAAACDzS59wECASFECwabtwaoDorC%2FWhkalEnM5jqxDIbAYYbEVwGqejC6tEcKBVZ2%2FIebQw%2BfkimCNyduUFp681lb8nR6UcLHuHXYHwpD7ksDM7egrVoA%2FbWiAfoATsNZVsH0XBsmq3hswk2bXm%2ByDckyj%2BOuKklt6elnlC%2B&job=ybBtrgeLTAbkphacV15Vvqtkjr35Pkf5GPRi9kKab9XWjcIeFhwcUg\n",
      "https://www.simplyhired.com/search?q=Business+Analyst&l=united+states&t=1&cursor=ABQABgB4AAAAAAAAAAAAAAACDzS59wECASFECwabtwaoDorC%2FWhkalEnM5jqxDIbAYYbEVwGqejC6tEcKBVZ2%2FIebQw%2BfkimCNyduUFp681lb8nR6UcLHuHXYHwpD7ksDM7egrVoA%2FbWiAfoATsNZVsH0XBsmq3hswk2bXm%2ByDckyj%2BOuKklt6elnlC%2B&job=9AFMB7KDvZ7-z5oCR1Lj_QYvbR5JYH9xEpVj0YXL5BMxz2XqG5mARQ\n",
      "https://www.simplyhired.com/search?q=Business+Analyst&l=united+states&t=1&cursor=ABQABgB4AAAAAAAAAAAAAAACDzS59wECASFECwabtwaoDorC%2FWhkalEnM5jqxDIbAYYbEVwGqejC6tEcKBVZ2%2FIebQw%2BfkimCNyduUFp681lb8nR6UcLHuHXYHwpD7ksDM7egrVoA%2FbWiAfoATsNZVsH0XBsmq3hswk2bXm%2ByDckyj%2BOuKklt6elnlC%2B&job=Cyzqxd-_pStagUxwm_8xFaNpeIJ3Ok8guJ5g0Mu81SPt1OvXfhnpfA\n",
      "https://www.simplyhired.com/search?q=Business+Analyst&l=united+states&t=1&cursor=ABQABgB4AAAAAAAAAAAAAAACDzS59wECASFECwabtwaoDorC%2FWhkalEnM5jqxDIbAYYbEVwGqejC6tEcKBVZ2%2FIebQw%2BfkimCNyduUFp681lb8nR6UcLHuHXYHwpD7ksDM7egrVoA%2FbWiAfoATsNZVsH0XBsmq3hswk2bXm%2ByDckyj%2BOuKklt6elnlC%2B&job=QSjFDjMlF_mfJzyfEtDy89xLnBoV8vwR_CfqiT30OQMtOcFUjMnULg\n",
      "https://www.simplyhired.com/search?q=Business+Analyst&l=united+states&t=1&cursor=ABQABgB4AAAAAAAAAAAAAAACDzS59wECASFECwabtwaoDorC%2FWhkalEnM5jqxDIbAYYbEVwGqejC6tEcKBVZ2%2FIebQw%2BfkimCNyduUFp681lb8nR6UcLHuHXYHwpD7ksDM7egrVoA%2FbWiAfoATsNZVsH0XBsmq3hswk2bXm%2ByDckyj%2BOuKklt6elnlC%2B&job=_wLF1vxBoA2j9koDQahwpjRFp1WwrKlw5nTHQSH2wK1ELfvr6OP0ag\n",
      "https://www.simplyhired.com/search?q=Business+Analyst&l=united+states&t=1&cursor=ABQABgB4AAAAAAAAAAAAAAACDzS59wECASFECwabtwaoDorC%2FWhkalEnM5jqxDIbAYYbEVwGqejC6tEcKBVZ2%2FIebQw%2BfkimCNyduUFp681lb8nR6UcLHuHXYHwpD7ksDM7egrVoA%2FbWiAfoATsNZVsH0XBsmq3hswk2bXm%2ByDckyj%2BOuKklt6elnlC%2B&job=iVx6wm_yTmTVft74Sz-TajF-xKMb3zDCyAYttJPbKEqxZJJEna1N7A\n",
      "https://www.simplyhired.com/search?q=Business+Analyst&l=united+states&t=1&cursor=ABQABgB4AAAAAAAAAAAAAAACDzS59wECASFECwabtwaoDorC%2FWhkalEnM5jqxDIbAYYbEVwGqejC6tEcKBVZ2%2FIebQw%2BfkimCNyduUFp681lb8nR6UcLHuHXYHwpD7ksDM7egrVoA%2FbWiAfoATsNZVsH0XBsmq3hswk2bXm%2ByDckyj%2BOuKklt6elnlC%2B&job=2PXKKUxC8ns-egPtz030QHVhNnJSqzECJGYVUpU8zl9fHANRjKJ0LA\n",
      "https://www.simplyhired.com/search?q=Business+Analyst&l=united+states&t=1&cursor=ABQABgB4AAAAAAAAAAAAAAACDzS59wECASFECwabtwaoDorC%2FWhkalEnM5jqxDIbAYYbEVwGqejC6tEcKBVZ2%2FIebQw%2BfkimCNyduUFp681lb8nR6UcLHuHXYHwpD7ksDM7egrVoA%2FbWiAfoATsNZVsH0XBsmq3hswk2bXm%2ByDckyj%2BOuKklt6elnlC%2B&job=-1NewqJFRmEWLeCxTKd4lhgVfI0KJsrDzOQxqaeRazpjHgk0gmpi1g\n",
      "https://www.simplyhired.com/search?q=Business+Analyst&l=united+states&t=1&cursor=ABQABgB4AAAAAAAAAAAAAAACDzS59wECASFECwabtwaoDorC%2FWhkalEnM5jqxDIbAYYbEVwGqejC6tEcKBVZ2%2FIebQw%2BfkimCNyduUFp681lb8nR6UcLHuHXYHwpD7ksDM7egrVoA%2FbWiAfoATsNZVsH0XBsmq3hswk2bXm%2ByDckyj%2BOuKklt6elnlC%2B&job=b2M5jxvb9uOwMtm9ThG2myTBxI-QDDgIWf8np7ykkQJUQ02NiP8IZQ\n",
      "https://www.simplyhired.com/search?q=Business+Analyst&l=united+states&t=1&cursor=ABQABgB4AAAAAAAAAAAAAAACDzS59wECASFECwabtwaoDorC%2FWhkalEnM5jqxDIbAYYbEVwGqejC6tEcKBVZ2%2FIebQw%2BfkimCNyduUFp681lb8nR6UcLHuHXYHwpD7ksDM7egrVoA%2FbWiAfoATsNZVsH0XBsmq3hswk2bXm%2ByDckyj%2BOuKklt6elnlC%2B&job=ski9nGgWfEJalsVr6gfhicgzx4HTS2mgZyNyZUotHZ8LbbneMfOiqA\n"
     ]
    },
    {
     "name": "stderr",
     "output_type": "stream",
     "text": [
      "/tmp/ipykernel_5743/3381847202.py:22: FutureWarning: The frame.append method is deprecated and will be removed from pandas in a future version. Use pandas.concat instead.\n",
      "  df = df.append(page_data)\n"
     ]
    },
    {
     "name": "stdout",
     "output_type": "stream",
     "text": [
      "Page Number: 8  Page Link:  https://www.simplyhired.com/search?q=Business+Analyst&l=united+states&t=1&cursor=ABQABwCMAAAAAAAAAAAAAAACDzS59wECASFECwO7AoWZld8F%2Fc2yt%2F9uD%2BaHWsv96pHj9Gr%2BI8IiCGYxqdTJCvPzMe%2BwlGeS8IlFoyBrOKM8e2cJdYDc4YT3S32rdyrq6XJXvKu%2BIfSC7Dw%2F6mOpSG84pe0fi7Ro%2FwqjpDc0WxL1QkkKfw7aZtw5Y8XKiEKQPkWFVNXDez1nibmZB0vw\n",
      "https://www.simplyhired.com/search?q=Business+Analyst&l=united+states&t=1&cursor=ABQABwCMAAAAAAAAAAAAAAACDzS59wECASFECwO7AoWZld8F%2Fc2yt%2F9uD%2BaHWsv96pHj9Gr%2BI8IiCGYxqdTJCvPzMe%2BwlGeS8IlFoyBrOKM8e2cJdYDc4YT3S32rdyrq6XJXvKu%2BIfSC7Dw%2F6mOpSG84pe0fi7Ro%2FwqjpDc0WxL1QkkKfw7aZtw5Y8XKiEKQPkWFVNXDez1nibmZB0vw&job=wI51OgUfyjjyHWhh92_cFoMrDZCTXmIF776BC2auYC4X2jqZUM_7iw\n",
      "https://www.simplyhired.com/search?q=Business+Analyst&l=united+states&t=1&cursor=ABQABwCMAAAAAAAAAAAAAAACDzS59wECASFECwO7AoWZld8F%2Fc2yt%2F9uD%2BaHWsv96pHj9Gr%2BI8IiCGYxqdTJCvPzMe%2BwlGeS8IlFoyBrOKM8e2cJdYDc4YT3S32rdyrq6XJXvKu%2BIfSC7Dw%2F6mOpSG84pe0fi7Ro%2FwqjpDc0WxL1QkkKfw7aZtw5Y8XKiEKQPkWFVNXDez1nibmZB0vw&job=Yt08cCyLI33XakG3uiWwF0RjkIJoPtNmbE5rlFqEWRGeYnTSBkBdPw\n",
      "https://www.simplyhired.com/search?q=Business+Analyst&l=united+states&t=1&cursor=ABQABwCMAAAAAAAAAAAAAAACDzS59wECASFECwO7AoWZld8F%2Fc2yt%2F9uD%2BaHWsv96pHj9Gr%2BI8IiCGYxqdTJCvPzMe%2BwlGeS8IlFoyBrOKM8e2cJdYDc4YT3S32rdyrq6XJXvKu%2BIfSC7Dw%2F6mOpSG84pe0fi7Ro%2FwqjpDc0WxL1QkkKfw7aZtw5Y8XKiEKQPkWFVNXDez1nibmZB0vw&job=tHb4GySywgej5gc0DZzi5IKqz-MWyaHASz5-YKCSEZvalysBHeJrSA\n",
      "https://www.simplyhired.com/search?q=Business+Analyst&l=united+states&t=1&cursor=ABQABwCMAAAAAAAAAAAAAAACDzS59wECASFECwO7AoWZld8F%2Fc2yt%2F9uD%2BaHWsv96pHj9Gr%2BI8IiCGYxqdTJCvPzMe%2BwlGeS8IlFoyBrOKM8e2cJdYDc4YT3S32rdyrq6XJXvKu%2BIfSC7Dw%2F6mOpSG84pe0fi7Ro%2FwqjpDc0WxL1QkkKfw7aZtw5Y8XKiEKQPkWFVNXDez1nibmZB0vw&job=SDPjqRnej1XVGq2AoEsieRJzOE6vIa33iCYULARI1AWIgZpdlpmV2A\n",
      "https://www.simplyhired.com/search?q=Business+Analyst&l=united+states&t=1&cursor=ABQABwCMAAAAAAAAAAAAAAACDzS59wECASFECwO7AoWZld8F%2Fc2yt%2F9uD%2BaHWsv96pHj9Gr%2BI8IiCGYxqdTJCvPzMe%2BwlGeS8IlFoyBrOKM8e2cJdYDc4YT3S32rdyrq6XJXvKu%2BIfSC7Dw%2F6mOpSG84pe0fi7Ro%2FwqjpDc0WxL1QkkKfw7aZtw5Y8XKiEKQPkWFVNXDez1nibmZB0vw&job=SVYtb1ICymLZjYU8AY8alXkDgJyPp4c0kQdYI09H424yOySh527mDw\n",
      "https://www.simplyhired.com/search?q=Business+Analyst&l=united+states&t=1&cursor=ABQABwCMAAAAAAAAAAAAAAACDzS59wECASFECwO7AoWZld8F%2Fc2yt%2F9uD%2BaHWsv96pHj9Gr%2BI8IiCGYxqdTJCvPzMe%2BwlGeS8IlFoyBrOKM8e2cJdYDc4YT3S32rdyrq6XJXvKu%2BIfSC7Dw%2F6mOpSG84pe0fi7Ro%2FwqjpDc0WxL1QkkKfw7aZtw5Y8XKiEKQPkWFVNXDez1nibmZB0vw&job=FPIAG8duB3SVb4VfJngj78SkJED_TZQVgaIV7C2W59lvpTfhrGDYcw\n",
      "https://www.simplyhired.com/search?q=Business+Analyst&l=united+states&t=1&cursor=ABQABwCMAAAAAAAAAAAAAAACDzS59wECASFECwO7AoWZld8F%2Fc2yt%2F9uD%2BaHWsv96pHj9Gr%2BI8IiCGYxqdTJCvPzMe%2BwlGeS8IlFoyBrOKM8e2cJdYDc4YT3S32rdyrq6XJXvKu%2BIfSC7Dw%2F6mOpSG84pe0fi7Ro%2FwqjpDc0WxL1QkkKfw7aZtw5Y8XKiEKQPkWFVNXDez1nibmZB0vw&job=6rCW33Mhvg2FRnWs49G-K4Qeo1KpxV79rkmdSC7qLvh7zSRBahvfAw\n",
      "https://www.simplyhired.com/search?q=Business+Analyst&l=united+states&t=1&cursor=ABQABwCMAAAAAAAAAAAAAAACDzS59wECASFECwO7AoWZld8F%2Fc2yt%2F9uD%2BaHWsv96pHj9Gr%2BI8IiCGYxqdTJCvPzMe%2BwlGeS8IlFoyBrOKM8e2cJdYDc4YT3S32rdyrq6XJXvKu%2BIfSC7Dw%2F6mOpSG84pe0fi7Ro%2FwqjpDc0WxL1QkkKfw7aZtw5Y8XKiEKQPkWFVNXDez1nibmZB0vw&job=xlpyfAyn-QWeRe8Amojx2o3xH0_XNiOreGHmvP3NZfevlT8E05MHFg\n",
      "https://www.simplyhired.com/search?q=Business+Analyst&l=united+states&t=1&cursor=ABQABwCMAAAAAAAAAAAAAAACDzS59wECASFECwO7AoWZld8F%2Fc2yt%2F9uD%2BaHWsv96pHj9Gr%2BI8IiCGYxqdTJCvPzMe%2BwlGeS8IlFoyBrOKM8e2cJdYDc4YT3S32rdyrq6XJXvKu%2BIfSC7Dw%2F6mOpSG84pe0fi7Ro%2FwqjpDc0WxL1QkkKfw7aZtw5Y8XKiEKQPkWFVNXDez1nibmZB0vw&job=6E-G5-lwDqK1BZ0c9w7xaDtVevxO14sv0-OH9R_cNFDFBbIPQYq1OQ\n",
      "https://www.simplyhired.com/search?q=Business+Analyst&l=united+states&t=1&cursor=ABQABwCMAAAAAAAAAAAAAAACDzS59wECASFECwO7AoWZld8F%2Fc2yt%2F9uD%2BaHWsv96pHj9Gr%2BI8IiCGYxqdTJCvPzMe%2BwlGeS8IlFoyBrOKM8e2cJdYDc4YT3S32rdyrq6XJXvKu%2BIfSC7Dw%2F6mOpSG84pe0fi7Ro%2FwqjpDc0WxL1QkkKfw7aZtw5Y8XKiEKQPkWFVNXDez1nibmZB0vw&job=bl6vUxi9fsQ5RmEsCMkY4a3Z6XBg9IAeB5oCVNCGTGbHf63IuIPL8Q\n",
      "https://www.simplyhired.com/search?q=Business+Analyst&l=united+states&t=1&cursor=ABQABwCMAAAAAAAAAAAAAAACDzS59wECASFECwO7AoWZld8F%2Fc2yt%2F9uD%2BaHWsv96pHj9Gr%2BI8IiCGYxqdTJCvPzMe%2BwlGeS8IlFoyBrOKM8e2cJdYDc4YT3S32rdyrq6XJXvKu%2BIfSC7Dw%2F6mOpSG84pe0fi7Ro%2FwqjpDc0WxL1QkkKfw7aZtw5Y8XKiEKQPkWFVNXDez1nibmZB0vw&job=9Lot3LjjGQMjtX7kRQ7H05DC7PuH5UYno2p05F9s6MpwYjzzsYEFsg\n",
      "https://www.simplyhired.com/search?q=Business+Analyst&l=united+states&t=1&cursor=ABQABwCMAAAAAAAAAAAAAAACDzS59wECASFECwO7AoWZld8F%2Fc2yt%2F9uD%2BaHWsv96pHj9Gr%2BI8IiCGYxqdTJCvPzMe%2BwlGeS8IlFoyBrOKM8e2cJdYDc4YT3S32rdyrq6XJXvKu%2BIfSC7Dw%2F6mOpSG84pe0fi7Ro%2FwqjpDc0WxL1QkkKfw7aZtw5Y8XKiEKQPkWFVNXDez1nibmZB0vw&job=XzD7VoazSYOswwx4IxghJWMtrqF5vpj7FWJWVIYg6A-Zj0mVTujgIQ\n",
      "https://www.simplyhired.com/search?q=Business+Analyst&l=united+states&t=1&cursor=ABQABwCMAAAAAAAAAAAAAAACDzS59wECASFECwO7AoWZld8F%2Fc2yt%2F9uD%2BaHWsv96pHj9Gr%2BI8IiCGYxqdTJCvPzMe%2BwlGeS8IlFoyBrOKM8e2cJdYDc4YT3S32rdyrq6XJXvKu%2BIfSC7Dw%2F6mOpSG84pe0fi7Ro%2FwqjpDc0WxL1QkkKfw7aZtw5Y8XKiEKQPkWFVNXDez1nibmZB0vw&job=1x1hzKHdnQJzir8j2Gg5KLFAuRCK4fwnc8LWVrOlN7KJC92aqqEuKA\n",
      "https://www.simplyhired.com/search?q=Business+Analyst&l=united+states&t=1&cursor=ABQABwCMAAAAAAAAAAAAAAACDzS59wECASFECwO7AoWZld8F%2Fc2yt%2F9uD%2BaHWsv96pHj9Gr%2BI8IiCGYxqdTJCvPzMe%2BwlGeS8IlFoyBrOKM8e2cJdYDc4YT3S32rdyrq6XJXvKu%2BIfSC7Dw%2F6mOpSG84pe0fi7Ro%2FwqjpDc0WxL1QkkKfw7aZtw5Y8XKiEKQPkWFVNXDez1nibmZB0vw&job=NQhU30YtiJ6n-0phN7rk_wZtiFKPQUvLl3qNVa7UwaRuU04mJ4EnPA\n",
      "https://www.simplyhired.com/search?q=Business+Analyst&l=united+states&t=1&cursor=ABQABwCMAAAAAAAAAAAAAAACDzS59wECASFECwO7AoWZld8F%2Fc2yt%2F9uD%2BaHWsv96pHj9Gr%2BI8IiCGYxqdTJCvPzMe%2BwlGeS8IlFoyBrOKM8e2cJdYDc4YT3S32rdyrq6XJXvKu%2BIfSC7Dw%2F6mOpSG84pe0fi7Ro%2FwqjpDc0WxL1QkkKfw7aZtw5Y8XKiEKQPkWFVNXDez1nibmZB0vw&job=IYBUIGQIm1yWFTNynEXFeFpx7XoNXlxyYqBoO-dlxIMFwd43X9KVlA\n",
      "https://www.simplyhired.com/search?q=Business+Analyst&l=united+states&t=1&cursor=ABQABwCMAAAAAAAAAAAAAAACDzS59wECASFECwO7AoWZld8F%2Fc2yt%2F9uD%2BaHWsv96pHj9Gr%2BI8IiCGYxqdTJCvPzMe%2BwlGeS8IlFoyBrOKM8e2cJdYDc4YT3S32rdyrq6XJXvKu%2BIfSC7Dw%2F6mOpSG84pe0fi7Ro%2FwqjpDc0WxL1QkkKfw7aZtw5Y8XKiEKQPkWFVNXDez1nibmZB0vw&job=cw0mOFKJIR8vJ0YKh9NSx22VqucSpuBcPENYYd39xEOieXH-CeIf2g\n",
      "https://www.simplyhired.com/search?q=Business+Analyst&l=united+states&t=1&cursor=ABQABwCMAAAAAAAAAAAAAAACDzS59wECASFECwO7AoWZld8F%2Fc2yt%2F9uD%2BaHWsv96pHj9Gr%2BI8IiCGYxqdTJCvPzMe%2BwlGeS8IlFoyBrOKM8e2cJdYDc4YT3S32rdyrq6XJXvKu%2BIfSC7Dw%2F6mOpSG84pe0fi7Ro%2FwqjpDc0WxL1QkkKfw7aZtw5Y8XKiEKQPkWFVNXDez1nibmZB0vw&job=3MVexv708oCkjn1RIhTbNRbESKkQNKUJzTHelSfta8196V5D97TlYQ\n",
      "https://www.simplyhired.com/search?q=Business+Analyst&l=united+states&t=1&cursor=ABQABwCMAAAAAAAAAAAAAAACDzS59wECASFECwO7AoWZld8F%2Fc2yt%2F9uD%2BaHWsv96pHj9Gr%2BI8IiCGYxqdTJCvPzMe%2BwlGeS8IlFoyBrOKM8e2cJdYDc4YT3S32rdyrq6XJXvKu%2BIfSC7Dw%2F6mOpSG84pe0fi7Ro%2FwqjpDc0WxL1QkkKfw7aZtw5Y8XKiEKQPkWFVNXDez1nibmZB0vw&job=WM31yloCts9HepIwNlUHfksvFCOvFo8gIz1bJxy34CxQ4fDFbATZHg\n",
      "https://www.simplyhired.com/search?q=Business+Analyst&l=united+states&t=1&cursor=ABQABwCMAAAAAAAAAAAAAAACDzS59wECASFECwO7AoWZld8F%2Fc2yt%2F9uD%2BaHWsv96pHj9Gr%2BI8IiCGYxqdTJCvPzMe%2BwlGeS8IlFoyBrOKM8e2cJdYDc4YT3S32rdyrq6XJXvKu%2BIfSC7Dw%2F6mOpSG84pe0fi7Ro%2FwqjpDc0WxL1QkkKfw7aZtw5Y8XKiEKQPkWFVNXDez1nibmZB0vw&job=zOXeDbhbtXYLDnZ6zmspBEpt5WBskpPrEQeJq74biM-pQeJFr1xIqA\n",
      "https://www.simplyhired.com/search?q=Business+Analyst&l=united+states&t=1&cursor=ABQABwCMAAAAAAAAAAAAAAACDzS59wECASFECwO7AoWZld8F%2Fc2yt%2F9uD%2BaHWsv96pHj9Gr%2BI8IiCGYxqdTJCvPzMe%2BwlGeS8IlFoyBrOKM8e2cJdYDc4YT3S32rdyrq6XJXvKu%2BIfSC7Dw%2F6mOpSG84pe0fi7Ro%2FwqjpDc0WxL1QkkKfw7aZtw5Y8XKiEKQPkWFVNXDez1nibmZB0vw&job=gnUjr5dWGe4ewOn20vHtArRzEPg_wX60kWEUQ_3FzRaTtWtSnmObZw\n"
     ]
    },
    {
     "name": "stderr",
     "output_type": "stream",
     "text": [
      "/tmp/ipykernel_5743/3381847202.py:22: FutureWarning: The frame.append method is deprecated and will be removed from pandas in a future version. Use pandas.concat instead.\n",
      "  df = df.append(page_data)\n"
     ]
    },
    {
     "name": "stdout",
     "output_type": "stream",
     "text": [
      "Page Number: 9  Page Link:  https://www.simplyhired.com/search?q=Business+Analyst&l=united+states&t=1&cursor=ABQACACgAAAAAAAAAAAAAAACDzS59wECAS7qAQYCaboYEG6Ma8eqL%2FZkHzBu44dBdxP%2FbgZJDWg%2FAxWcCHWg4Fi1EHxvWfwu1kQYqulMl2boIfKunL1ntyn9JjgpR%2FKtx5%2BNLM2mC3OH6lPJHmO9XCAr9XWediwdpoRtetkMwyR1q1UFiRHKCZUfkPEjtZl%2FK6VnXLu6OF7PoBxs8J67dUBF95uU\n",
      "https://www.simplyhired.com/search?q=Business+Analyst&l=united+states&t=1&cursor=ABQACACgAAAAAAAAAAAAAAACDzS59wECAS7qAQYCaboYEG6Ma8eqL%2FZkHzBu44dBdxP%2FbgZJDWg%2FAxWcCHWg4Fi1EHxvWfwu1kQYqulMl2boIfKunL1ntyn9JjgpR%2FKtx5%2BNLM2mC3OH6lPJHmO9XCAr9XWediwdpoRtetkMwyR1q1UFiRHKCZUfkPEjtZl%2FK6VnXLu6OF7PoBxs8J67dUBF95uU&job=lTzsiD6HWq7JWo9QNF96mHiwPU0fcANaZm_1q0Wah3cRRuZFUSYwLA\n",
      "https://www.simplyhired.com/search?q=Business+Analyst&l=united+states&t=1&cursor=ABQACACgAAAAAAAAAAAAAAACDzS59wECAS7qAQYCaboYEG6Ma8eqL%2FZkHzBu44dBdxP%2FbgZJDWg%2FAxWcCHWg4Fi1EHxvWfwu1kQYqulMl2boIfKunL1ntyn9JjgpR%2FKtx5%2BNLM2mC3OH6lPJHmO9XCAr9XWediwdpoRtetkMwyR1q1UFiRHKCZUfkPEjtZl%2FK6VnXLu6OF7PoBxs8J67dUBF95uU&job=kb4JtXBGHiq8DLeFROZ9m8AfHr_-94IAugbiOOtiz8JCCbEQUr88-A\n",
      "https://www.simplyhired.com/search?q=Business+Analyst&l=united+states&t=1&cursor=ABQACACgAAAAAAAAAAAAAAACDzS59wECAS7qAQYCaboYEG6Ma8eqL%2FZkHzBu44dBdxP%2FbgZJDWg%2FAxWcCHWg4Fi1EHxvWfwu1kQYqulMl2boIfKunL1ntyn9JjgpR%2FKtx5%2BNLM2mC3OH6lPJHmO9XCAr9XWediwdpoRtetkMwyR1q1UFiRHKCZUfkPEjtZl%2FK6VnXLu6OF7PoBxs8J67dUBF95uU&job=OOnt5SXfCnWPcvcmpJjlB-kfnpabfywcTrRBcPQxLjACRMvQfNAecw\n",
      "https://www.simplyhired.com/search?q=Business+Analyst&l=united+states&t=1&cursor=ABQACACgAAAAAAAAAAAAAAACDzS59wECAS7qAQYCaboYEG6Ma8eqL%2FZkHzBu44dBdxP%2FbgZJDWg%2FAxWcCHWg4Fi1EHxvWfwu1kQYqulMl2boIfKunL1ntyn9JjgpR%2FKtx5%2BNLM2mC3OH6lPJHmO9XCAr9XWediwdpoRtetkMwyR1q1UFiRHKCZUfkPEjtZl%2FK6VnXLu6OF7PoBxs8J67dUBF95uU&job=OdVgrwAGIQVEWqu3crBdmZbMa5V7EibEeDKwR7NgyWj6OvLn-wYduA\n",
      "https://www.simplyhired.com/search?q=Business+Analyst&l=united+states&t=1&cursor=ABQACACgAAAAAAAAAAAAAAACDzS59wECAS7qAQYCaboYEG6Ma8eqL%2FZkHzBu44dBdxP%2FbgZJDWg%2FAxWcCHWg4Fi1EHxvWfwu1kQYqulMl2boIfKunL1ntyn9JjgpR%2FKtx5%2BNLM2mC3OH6lPJHmO9XCAr9XWediwdpoRtetkMwyR1q1UFiRHKCZUfkPEjtZl%2FK6VnXLu6OF7PoBxs8J67dUBF95uU&job=6zaWh_KkvlmhihWpg66aEe8NfJqtaRJ2d8vnGZzhuEe7v0LVIb5Jzw\n",
      "https://www.simplyhired.com/search?q=Business+Analyst&l=united+states&t=1&cursor=ABQACACgAAAAAAAAAAAAAAACDzS59wECAS7qAQYCaboYEG6Ma8eqL%2FZkHzBu44dBdxP%2FbgZJDWg%2FAxWcCHWg4Fi1EHxvWfwu1kQYqulMl2boIfKunL1ntyn9JjgpR%2FKtx5%2BNLM2mC3OH6lPJHmO9XCAr9XWediwdpoRtetkMwyR1q1UFiRHKCZUfkPEjtZl%2FK6VnXLu6OF7PoBxs8J67dUBF95uU&job=aoQK1HmyPSy-Lwk1KTijFUug_FwNZ1kBbyJDM4_gsbnv8BG6InBA4A\n",
      "https://www.simplyhired.com/search?q=Business+Analyst&l=united+states&t=1&cursor=ABQACACgAAAAAAAAAAAAAAACDzS59wECAS7qAQYCaboYEG6Ma8eqL%2FZkHzBu44dBdxP%2FbgZJDWg%2FAxWcCHWg4Fi1EHxvWfwu1kQYqulMl2boIfKunL1ntyn9JjgpR%2FKtx5%2BNLM2mC3OH6lPJHmO9XCAr9XWediwdpoRtetkMwyR1q1UFiRHKCZUfkPEjtZl%2FK6VnXLu6OF7PoBxs8J67dUBF95uU&job=l1JUDZCyprKbpbjw6fTecgDyZuuSK3Ib36KHEUR-22qLuj3HwwpVow\n",
      "https://www.simplyhired.com/search?q=Business+Analyst&l=united+states&t=1&cursor=ABQACACgAAAAAAAAAAAAAAACDzS59wECAS7qAQYCaboYEG6Ma8eqL%2FZkHzBu44dBdxP%2FbgZJDWg%2FAxWcCHWg4Fi1EHxvWfwu1kQYqulMl2boIfKunL1ntyn9JjgpR%2FKtx5%2BNLM2mC3OH6lPJHmO9XCAr9XWediwdpoRtetkMwyR1q1UFiRHKCZUfkPEjtZl%2FK6VnXLu6OF7PoBxs8J67dUBF95uU&job=Zk6CY9OWB38SxEtH6gBVxTu-yvtY3JbPxa_e8KkXbIk9TboS8N5CfA\n",
      "https://www.simplyhired.com/search?q=Business+Analyst&l=united+states&t=1&cursor=ABQACACgAAAAAAAAAAAAAAACDzS59wECAS7qAQYCaboYEG6Ma8eqL%2FZkHzBu44dBdxP%2FbgZJDWg%2FAxWcCHWg4Fi1EHxvWfwu1kQYqulMl2boIfKunL1ntyn9JjgpR%2FKtx5%2BNLM2mC3OH6lPJHmO9XCAr9XWediwdpoRtetkMwyR1q1UFiRHKCZUfkPEjtZl%2FK6VnXLu6OF7PoBxs8J67dUBF95uU&job=KAwIo7p1awcPcRhmGRbO3lNSb11-evnVwCKoJvrAQbHVvlAn83o7Ig\n",
      "https://www.simplyhired.com/search?q=Business+Analyst&l=united+states&t=1&cursor=ABQACACgAAAAAAAAAAAAAAACDzS59wECAS7qAQYCaboYEG6Ma8eqL%2FZkHzBu44dBdxP%2FbgZJDWg%2FAxWcCHWg4Fi1EHxvWfwu1kQYqulMl2boIfKunL1ntyn9JjgpR%2FKtx5%2BNLM2mC3OH6lPJHmO9XCAr9XWediwdpoRtetkMwyR1q1UFiRHKCZUfkPEjtZl%2FK6VnXLu6OF7PoBxs8J67dUBF95uU&job=Bxsoca_1H_uVgaxHFZf921JxEdCogKVzT36eT-6jFc7XxuJXlj49Cg\n",
      "https://www.simplyhired.com/search?q=Business+Analyst&l=united+states&t=1&cursor=ABQACACgAAAAAAAAAAAAAAACDzS59wECAS7qAQYCaboYEG6Ma8eqL%2FZkHzBu44dBdxP%2FbgZJDWg%2FAxWcCHWg4Fi1EHxvWfwu1kQYqulMl2boIfKunL1ntyn9JjgpR%2FKtx5%2BNLM2mC3OH6lPJHmO9XCAr9XWediwdpoRtetkMwyR1q1UFiRHKCZUfkPEjtZl%2FK6VnXLu6OF7PoBxs8J67dUBF95uU&job=HVHk_BQ5q1tckoOGQ-8Rx7AGNAQYhcKv083gOC0EuBjdTgl4baPX1w\n",
      "https://www.simplyhired.com/search?q=Business+Analyst&l=united+states&t=1&cursor=ABQACACgAAAAAAAAAAAAAAACDzS59wECAS7qAQYCaboYEG6Ma8eqL%2FZkHzBu44dBdxP%2FbgZJDWg%2FAxWcCHWg4Fi1EHxvWfwu1kQYqulMl2boIfKunL1ntyn9JjgpR%2FKtx5%2BNLM2mC3OH6lPJHmO9XCAr9XWediwdpoRtetkMwyR1q1UFiRHKCZUfkPEjtZl%2FK6VnXLu6OF7PoBxs8J67dUBF95uU&job=xR_RFsGED6VKpFEiYKIJEydeVZ0KIMWT0i-4bvq1A4BCUgNETNtn2w\n",
      "https://www.simplyhired.com/search?q=Business+Analyst&l=united+states&t=1&cursor=ABQACACgAAAAAAAAAAAAAAACDzS59wECAS7qAQYCaboYEG6Ma8eqL%2FZkHzBu44dBdxP%2FbgZJDWg%2FAxWcCHWg4Fi1EHxvWfwu1kQYqulMl2boIfKunL1ntyn9JjgpR%2FKtx5%2BNLM2mC3OH6lPJHmO9XCAr9XWediwdpoRtetkMwyR1q1UFiRHKCZUfkPEjtZl%2FK6VnXLu6OF7PoBxs8J67dUBF95uU&job=PoZvEsChc0xIQpZwQUF6SNMJx7y5UHi6_40bmoPYAyGiDBsVQBs3cw\n",
      "https://www.simplyhired.com/search?q=Business+Analyst&l=united+states&t=1&cursor=ABQACACgAAAAAAAAAAAAAAACDzS59wECAS7qAQYCaboYEG6Ma8eqL%2FZkHzBu44dBdxP%2FbgZJDWg%2FAxWcCHWg4Fi1EHxvWfwu1kQYqulMl2boIfKunL1ntyn9JjgpR%2FKtx5%2BNLM2mC3OH6lPJHmO9XCAr9XWediwdpoRtetkMwyR1q1UFiRHKCZUfkPEjtZl%2FK6VnXLu6OF7PoBxs8J67dUBF95uU&job=cJc4ODKAocUUUW2uLTNwa-FhMq50MtvhUZ4GQIOtRDjAcCOKCRd29A\n",
      "https://www.simplyhired.com/search?q=Business+Analyst&l=united+states&t=1&cursor=ABQACACgAAAAAAAAAAAAAAACDzS59wECAS7qAQYCaboYEG6Ma8eqL%2FZkHzBu44dBdxP%2FbgZJDWg%2FAxWcCHWg4Fi1EHxvWfwu1kQYqulMl2boIfKunL1ntyn9JjgpR%2FKtx5%2BNLM2mC3OH6lPJHmO9XCAr9XWediwdpoRtetkMwyR1q1UFiRHKCZUfkPEjtZl%2FK6VnXLu6OF7PoBxs8J67dUBF95uU&job=-OKcPNhu1Ni5g16W38tb0HVHy1q6d4wufVb6UhcipCEulNqgRRXkhw\n",
      "https://www.simplyhired.com/search?q=Business+Analyst&l=united+states&t=1&cursor=ABQACACgAAAAAAAAAAAAAAACDzS59wECAS7qAQYCaboYEG6Ma8eqL%2FZkHzBu44dBdxP%2FbgZJDWg%2FAxWcCHWg4Fi1EHxvWfwu1kQYqulMl2boIfKunL1ntyn9JjgpR%2FKtx5%2BNLM2mC3OH6lPJHmO9XCAr9XWediwdpoRtetkMwyR1q1UFiRHKCZUfkPEjtZl%2FK6VnXLu6OF7PoBxs8J67dUBF95uU&job=Hu4g8zQqP1rk7AgjkIK63lq9y4xOW3aSCH_Q1ut98W6w8ICa0-0gDQ\n",
      "https://www.simplyhired.com/search?q=Business+Analyst&l=united+states&t=1&cursor=ABQACACgAAAAAAAAAAAAAAACDzS59wECAS7qAQYCaboYEG6Ma8eqL%2FZkHzBu44dBdxP%2FbgZJDWg%2FAxWcCHWg4Fi1EHxvWfwu1kQYqulMl2boIfKunL1ntyn9JjgpR%2FKtx5%2BNLM2mC3OH6lPJHmO9XCAr9XWediwdpoRtetkMwyR1q1UFiRHKCZUfkPEjtZl%2FK6VnXLu6OF7PoBxs8J67dUBF95uU&job=cKFYogPUl_TH2W78e-S-ifOQpoBBDLFQIT4z5SZyw0g9piZp4oZ3ww\n",
      "https://www.simplyhired.com/search?q=Business+Analyst&l=united+states&t=1&cursor=ABQACACgAAAAAAAAAAAAAAACDzS59wECAS7qAQYCaboYEG6Ma8eqL%2FZkHzBu44dBdxP%2FbgZJDWg%2FAxWcCHWg4Fi1EHxvWfwu1kQYqulMl2boIfKunL1ntyn9JjgpR%2FKtx5%2BNLM2mC3OH6lPJHmO9XCAr9XWediwdpoRtetkMwyR1q1UFiRHKCZUfkPEjtZl%2FK6VnXLu6OF7PoBxs8J67dUBF95uU&job=GDqF5tqEeoA27ml7gDZsDLlsfK6GxOEozeAeHGZi6YwWzVOL6RYssQ\n",
      "https://www.simplyhired.com/search?q=Business+Analyst&l=united+states&t=1&cursor=ABQACACgAAAAAAAAAAAAAAACDzS59wECAS7qAQYCaboYEG6Ma8eqL%2FZkHzBu44dBdxP%2FbgZJDWg%2FAxWcCHWg4Fi1EHxvWfwu1kQYqulMl2boIfKunL1ntyn9JjgpR%2FKtx5%2BNLM2mC3OH6lPJHmO9XCAr9XWediwdpoRtetkMwyR1q1UFiRHKCZUfkPEjtZl%2FK6VnXLu6OF7PoBxs8J67dUBF95uU&job=_DcJ37xg9hJL10552_pnmhCNu1TTypQGkJYujgOamsWti-7MvaURIQ\n",
      "https://www.simplyhired.com/search?q=Business+Analyst&l=united+states&t=1&cursor=ABQACACgAAAAAAAAAAAAAAACDzS59wECAS7qAQYCaboYEG6Ma8eqL%2FZkHzBu44dBdxP%2FbgZJDWg%2FAxWcCHWg4Fi1EHxvWfwu1kQYqulMl2boIfKunL1ntyn9JjgpR%2FKtx5%2BNLM2mC3OH6lPJHmO9XCAr9XWediwdpoRtetkMwyR1q1UFiRHKCZUfkPEjtZl%2FK6VnXLu6OF7PoBxs8J67dUBF95uU&job=R-wwQ_NCjctSQF6bn3IqhgnlvD1gCohRJ65ShaDv2XPFv6nT-xXKaA\n"
     ]
    },
    {
     "name": "stderr",
     "output_type": "stream",
     "text": [
      "/tmp/ipykernel_5743/3381847202.py:22: FutureWarning: The frame.append method is deprecated and will be removed from pandas in a future version. Use pandas.concat instead.\n",
      "  df = df.append(page_data)\n"
     ]
    },
    {
     "name": "stdout",
     "output_type": "stream",
     "text": [
      "Page Number: 10  Page Link:  https://www.simplyhired.com/search?q=Business+Analyst&l=united+states&t=1&cursor=ABQACQC0AAAAAAAAAAAAAAACDzS59wEDAS5yBnoGAf6IVCn4FHWVxp5qNhzM0EqRPpjQungTD5TsgBDKxB%2FVAquzDUbPjrpf5ewnFhkzOrU9pWDyjsRnZiSLJ56rLfJycEgW%2Bt0NmbClh3NQ1FSqdogJZwSU1UAjK2mMHeaIjpa3iWYcgEfQHAd7u2aSRprGRcoCXi%2BiePQaYpilkRucUXiu5r7PZOe%2BPbWdpg%3D%3D\n",
      "https://www.simplyhired.com/search?q=Business+Analyst&l=united+states&t=1&cursor=ABQACQC0AAAAAAAAAAAAAAACDzS59wEDAS5yBnoGAf6IVCn4FHWVxp5qNhzM0EqRPpjQungTD5TsgBDKxB%2FVAquzDUbPjrpf5ewnFhkzOrU9pWDyjsRnZiSLJ56rLfJycEgW%2Bt0NmbClh3NQ1FSqdogJZwSU1UAjK2mMHeaIjpa3iWYcgEfQHAd7u2aSRprGRcoCXi%2BiePQaYpilkRucUXiu5r7PZOe%2BPbWdpg%3D%3D&job=yo2PPhXEsc9t05Tq_t9xVbUuVkB-s4I6FFnxZmmhsLQ6oAFjqKWlGA\n",
      "https://www.simplyhired.com/search?q=Business+Analyst&l=united+states&t=1&cursor=ABQACQC0AAAAAAAAAAAAAAACDzS59wEDAS5yBnoGAf6IVCn4FHWVxp5qNhzM0EqRPpjQungTD5TsgBDKxB%2FVAquzDUbPjrpf5ewnFhkzOrU9pWDyjsRnZiSLJ56rLfJycEgW%2Bt0NmbClh3NQ1FSqdogJZwSU1UAjK2mMHeaIjpa3iWYcgEfQHAd7u2aSRprGRcoCXi%2BiePQaYpilkRucUXiu5r7PZOe%2BPbWdpg%3D%3D&job=YSQEsOuPFFFG3FAMkdKf6z5uMe0pGE7hwisFb_snheB2KgTPJXClFQ\n",
      "https://www.simplyhired.com/search?q=Business+Analyst&l=united+states&t=1&cursor=ABQACQC0AAAAAAAAAAAAAAACDzS59wEDAS5yBnoGAf6IVCn4FHWVxp5qNhzM0EqRPpjQungTD5TsgBDKxB%2FVAquzDUbPjrpf5ewnFhkzOrU9pWDyjsRnZiSLJ56rLfJycEgW%2Bt0NmbClh3NQ1FSqdogJZwSU1UAjK2mMHeaIjpa3iWYcgEfQHAd7u2aSRprGRcoCXi%2BiePQaYpilkRucUXiu5r7PZOe%2BPbWdpg%3D%3D&job=cD5cc6EFvO2Rv0bqkYYmbJ98Citxhpg3HCEICC81i9DDtdBStmFzDg\n",
      "https://www.simplyhired.com/search?q=Business+Analyst&l=united+states&t=1&cursor=ABQACQC0AAAAAAAAAAAAAAACDzS59wEDAS5yBnoGAf6IVCn4FHWVxp5qNhzM0EqRPpjQungTD5TsgBDKxB%2FVAquzDUbPjrpf5ewnFhkzOrU9pWDyjsRnZiSLJ56rLfJycEgW%2Bt0NmbClh3NQ1FSqdogJZwSU1UAjK2mMHeaIjpa3iWYcgEfQHAd7u2aSRprGRcoCXi%2BiePQaYpilkRucUXiu5r7PZOe%2BPbWdpg%3D%3D&job=NOxLuBukMrSl-VR5Rh1cCJrwC5ZpMUqU15gnfiCje9PfMogey_47eQ\n",
      "https://www.simplyhired.com/search?q=Business+Analyst&l=united+states&t=1&cursor=ABQACQC0AAAAAAAAAAAAAAACDzS59wEDAS5yBnoGAf6IVCn4FHWVxp5qNhzM0EqRPpjQungTD5TsgBDKxB%2FVAquzDUbPjrpf5ewnFhkzOrU9pWDyjsRnZiSLJ56rLfJycEgW%2Bt0NmbClh3NQ1FSqdogJZwSU1UAjK2mMHeaIjpa3iWYcgEfQHAd7u2aSRprGRcoCXi%2BiePQaYpilkRucUXiu5r7PZOe%2BPbWdpg%3D%3D&job=lA53QeUzPjEMNz-ShG7HbPr-PqHWqL9tHs8uO9oXNIhvQk6Rc4WQWg\n",
      "https://www.simplyhired.com/search?q=Business+Analyst&l=united+states&t=1&cursor=ABQACQC0AAAAAAAAAAAAAAACDzS59wEDAS5yBnoGAf6IVCn4FHWVxp5qNhzM0EqRPpjQungTD5TsgBDKxB%2FVAquzDUbPjrpf5ewnFhkzOrU9pWDyjsRnZiSLJ56rLfJycEgW%2Bt0NmbClh3NQ1FSqdogJZwSU1UAjK2mMHeaIjpa3iWYcgEfQHAd7u2aSRprGRcoCXi%2BiePQaYpilkRucUXiu5r7PZOe%2BPbWdpg%3D%3D&job=DnvVOf44eHWa9n8uulzzM6_vRij99MKhCE28WuA6lu5eT4kqG76sTw\n",
      "https://www.simplyhired.com/search?q=Business+Analyst&l=united+states&t=1&cursor=ABQACQC0AAAAAAAAAAAAAAACDzS59wEDAS5yBnoGAf6IVCn4FHWVxp5qNhzM0EqRPpjQungTD5TsgBDKxB%2FVAquzDUbPjrpf5ewnFhkzOrU9pWDyjsRnZiSLJ56rLfJycEgW%2Bt0NmbClh3NQ1FSqdogJZwSU1UAjK2mMHeaIjpa3iWYcgEfQHAd7u2aSRprGRcoCXi%2BiePQaYpilkRucUXiu5r7PZOe%2BPbWdpg%3D%3D&job=hEqpwMHGj66n30x74hlBshnxf_qtjLf8uCC7tnfBCI1fGE2WYLRlZQ\n",
      "https://www.simplyhired.com/search?q=Business+Analyst&l=united+states&t=1&cursor=ABQACQC0AAAAAAAAAAAAAAACDzS59wEDAS5yBnoGAf6IVCn4FHWVxp5qNhzM0EqRPpjQungTD5TsgBDKxB%2FVAquzDUbPjrpf5ewnFhkzOrU9pWDyjsRnZiSLJ56rLfJycEgW%2Bt0NmbClh3NQ1FSqdogJZwSU1UAjK2mMHeaIjpa3iWYcgEfQHAd7u2aSRprGRcoCXi%2BiePQaYpilkRucUXiu5r7PZOe%2BPbWdpg%3D%3D&job=cr8gq1Z_6SKxaRJh92Qt7tHv9X4EXocq4aKUuY6JK9cXopiF6comBQ\n",
      "https://www.simplyhired.com/search?q=Business+Analyst&l=united+states&t=1&cursor=ABQACQC0AAAAAAAAAAAAAAACDzS59wEDAS5yBnoGAf6IVCn4FHWVxp5qNhzM0EqRPpjQungTD5TsgBDKxB%2FVAquzDUbPjrpf5ewnFhkzOrU9pWDyjsRnZiSLJ56rLfJycEgW%2Bt0NmbClh3NQ1FSqdogJZwSU1UAjK2mMHeaIjpa3iWYcgEfQHAd7u2aSRprGRcoCXi%2BiePQaYpilkRucUXiu5r7PZOe%2BPbWdpg%3D%3D&job=zUJZ3awDqjS37BiXbnoX-IqYY4mJkWz_pFU8vdtb8-Xzhn7Jv8X_ig\n",
      "https://www.simplyhired.com/search?q=Business+Analyst&l=united+states&t=1&cursor=ABQACQC0AAAAAAAAAAAAAAACDzS59wEDAS5yBnoGAf6IVCn4FHWVxp5qNhzM0EqRPpjQungTD5TsgBDKxB%2FVAquzDUbPjrpf5ewnFhkzOrU9pWDyjsRnZiSLJ56rLfJycEgW%2Bt0NmbClh3NQ1FSqdogJZwSU1UAjK2mMHeaIjpa3iWYcgEfQHAd7u2aSRprGRcoCXi%2BiePQaYpilkRucUXiu5r7PZOe%2BPbWdpg%3D%3D&job=veGSoErGN0azrprukw7DCclMAv52BB8IIeBfwmN3-HNTvz4oQgOchg\n",
      "https://www.simplyhired.com/search?q=Business+Analyst&l=united+states&t=1&cursor=ABQACQC0AAAAAAAAAAAAAAACDzS59wEDAS5yBnoGAf6IVCn4FHWVxp5qNhzM0EqRPpjQungTD5TsgBDKxB%2FVAquzDUbPjrpf5ewnFhkzOrU9pWDyjsRnZiSLJ56rLfJycEgW%2Bt0NmbClh3NQ1FSqdogJZwSU1UAjK2mMHeaIjpa3iWYcgEfQHAd7u2aSRprGRcoCXi%2BiePQaYpilkRucUXiu5r7PZOe%2BPbWdpg%3D%3D&job=hdO0UbUJte6qt7KvAlG5Ix_hzhh8J7_ZK5gzfnCO4hBpsyJhK2PLYQ\n",
      "https://www.simplyhired.com/search?q=Business+Analyst&l=united+states&t=1&cursor=ABQACQC0AAAAAAAAAAAAAAACDzS59wEDAS5yBnoGAf6IVCn4FHWVxp5qNhzM0EqRPpjQungTD5TsgBDKxB%2FVAquzDUbPjrpf5ewnFhkzOrU9pWDyjsRnZiSLJ56rLfJycEgW%2Bt0NmbClh3NQ1FSqdogJZwSU1UAjK2mMHeaIjpa3iWYcgEfQHAd7u2aSRprGRcoCXi%2BiePQaYpilkRucUXiu5r7PZOe%2BPbWdpg%3D%3D&job=WWlCScQCeL39ZUtyfEoapciMRQNhpRd4PdXZRDFmgnUFBOHdcChg2w\n",
      "https://www.simplyhired.com/search?q=Business+Analyst&l=united+states&t=1&cursor=ABQACQC0AAAAAAAAAAAAAAACDzS59wEDAS5yBnoGAf6IVCn4FHWVxp5qNhzM0EqRPpjQungTD5TsgBDKxB%2FVAquzDUbPjrpf5ewnFhkzOrU9pWDyjsRnZiSLJ56rLfJycEgW%2Bt0NmbClh3NQ1FSqdogJZwSU1UAjK2mMHeaIjpa3iWYcgEfQHAd7u2aSRprGRcoCXi%2BiePQaYpilkRucUXiu5r7PZOe%2BPbWdpg%3D%3D&job=X16ZOg5xowBwJBs6KpSoCTuf05-DWxNtQqAQ5QY1i7C8_Y4sFdHkEQ\n",
      "https://www.simplyhired.com/search?q=Business+Analyst&l=united+states&t=1&cursor=ABQACQC0AAAAAAAAAAAAAAACDzS59wEDAS5yBnoGAf6IVCn4FHWVxp5qNhzM0EqRPpjQungTD5TsgBDKxB%2FVAquzDUbPjrpf5ewnFhkzOrU9pWDyjsRnZiSLJ56rLfJycEgW%2Bt0NmbClh3NQ1FSqdogJZwSU1UAjK2mMHeaIjpa3iWYcgEfQHAd7u2aSRprGRcoCXi%2BiePQaYpilkRucUXiu5r7PZOe%2BPbWdpg%3D%3D&job=JAVa0OP1xxxqVwKq0O4V6BD9cqpLqpHFNQd7upGoTl3ATy0M3lVPcg\n",
      "https://www.simplyhired.com/search?q=Business+Analyst&l=united+states&t=1&cursor=ABQACQC0AAAAAAAAAAAAAAACDzS59wEDAS5yBnoGAf6IVCn4FHWVxp5qNhzM0EqRPpjQungTD5TsgBDKxB%2FVAquzDUbPjrpf5ewnFhkzOrU9pWDyjsRnZiSLJ56rLfJycEgW%2Bt0NmbClh3NQ1FSqdogJZwSU1UAjK2mMHeaIjpa3iWYcgEfQHAd7u2aSRprGRcoCXi%2BiePQaYpilkRucUXiu5r7PZOe%2BPbWdpg%3D%3D&job=q6PsCQup-ikveYqza4Y-g6hkoDQHOX9XrIZnbyuetcp54ALXIk-nww\n",
      "https://www.simplyhired.com/search?q=Business+Analyst&l=united+states&t=1&cursor=ABQACQC0AAAAAAAAAAAAAAACDzS59wEDAS5yBnoGAf6IVCn4FHWVxp5qNhzM0EqRPpjQungTD5TsgBDKxB%2FVAquzDUbPjrpf5ewnFhkzOrU9pWDyjsRnZiSLJ56rLfJycEgW%2Bt0NmbClh3NQ1FSqdogJZwSU1UAjK2mMHeaIjpa3iWYcgEfQHAd7u2aSRprGRcoCXi%2BiePQaYpilkRucUXiu5r7PZOe%2BPbWdpg%3D%3D&job=x9i1kNmyA40vVBj7ymLVx8NaUHa5tyoRXQP3yOSZym_ybClT6rNjEQ\n",
      "https://www.simplyhired.com/search?q=Business+Analyst&l=united+states&t=1&cursor=ABQACQC0AAAAAAAAAAAAAAACDzS59wEDAS5yBnoGAf6IVCn4FHWVxp5qNhzM0EqRPpjQungTD5TsgBDKxB%2FVAquzDUbPjrpf5ewnFhkzOrU9pWDyjsRnZiSLJ56rLfJycEgW%2Bt0NmbClh3NQ1FSqdogJZwSU1UAjK2mMHeaIjpa3iWYcgEfQHAd7u2aSRprGRcoCXi%2BiePQaYpilkRucUXiu5r7PZOe%2BPbWdpg%3D%3D&job=S8s3iBRb6SXET2zeOtkvVq_nLe55-7NezEpkjixAKul6KR4wmN6K1g\n",
      "https://www.simplyhired.com/search?q=Business+Analyst&l=united+states&t=1&cursor=ABQACQC0AAAAAAAAAAAAAAACDzS59wEDAS5yBnoGAf6IVCn4FHWVxp5qNhzM0EqRPpjQungTD5TsgBDKxB%2FVAquzDUbPjrpf5ewnFhkzOrU9pWDyjsRnZiSLJ56rLfJycEgW%2Bt0NmbClh3NQ1FSqdogJZwSU1UAjK2mMHeaIjpa3iWYcgEfQHAd7u2aSRprGRcoCXi%2BiePQaYpilkRucUXiu5r7PZOe%2BPbWdpg%3D%3D&job=Y5_ik7ZqELxRbvfZQYfHrYLWRXnZKC1H9-hz2YPh_gL_vsi4usqqNQ\n",
      "https://www.simplyhired.com/search?q=Business+Analyst&l=united+states&t=1&cursor=ABQACQC0AAAAAAAAAAAAAAACDzS59wEDAS5yBnoGAf6IVCn4FHWVxp5qNhzM0EqRPpjQungTD5TsgBDKxB%2FVAquzDUbPjrpf5ewnFhkzOrU9pWDyjsRnZiSLJ56rLfJycEgW%2Bt0NmbClh3NQ1FSqdogJZwSU1UAjK2mMHeaIjpa3iWYcgEfQHAd7u2aSRprGRcoCXi%2BiePQaYpilkRucUXiu5r7PZOe%2BPbWdpg%3D%3D&job=YotG2gJjvdabHo2Q-2NHnSyveHblWP9PTetVDdcEgmeOZvFHsYbqPg\n",
      "https://www.simplyhired.com/search?q=Business+Analyst&l=united+states&t=1&cursor=ABQACQC0AAAAAAAAAAAAAAACDzS59wEDAS5yBnoGAf6IVCn4FHWVxp5qNhzM0EqRPpjQungTD5TsgBDKxB%2FVAquzDUbPjrpf5ewnFhkzOrU9pWDyjsRnZiSLJ56rLfJycEgW%2Bt0NmbClh3NQ1FSqdogJZwSU1UAjK2mMHeaIjpa3iWYcgEfQHAd7u2aSRprGRcoCXi%2BiePQaYpilkRucUXiu5r7PZOe%2BPbWdpg%3D%3D&job=1qEoev6P2wYk4QOxno84TWuqd_WmbZzWRZZm5grJsx68ghOOuGmMRg\n"
     ]
    },
    {
     "name": "stderr",
     "output_type": "stream",
     "text": [
      "/tmp/ipykernel_5743/3381847202.py:22: FutureWarning: The frame.append method is deprecated and will be removed from pandas in a future version. Use pandas.concat instead.\n",
      "  df = df.append(page_data)\n"
     ]
    },
    {
     "name": "stdout",
     "output_type": "stream",
     "text": [
      "Page Number: 11  Page Link:  https://www.simplyhired.com/search?q=Business+Analyst&l=united+states&t=1&cursor=ABQACgDIAAAAAAAAAAAAAAACDzS59wEFATFkBg4GJAlaBgprVwlQVZfGUrZ%2FHV3Sm6y3zRo%2BGN5VsEwYqGYcLsVPCDnI5lebq1QPADeY36dwH9UWPMtPrsGWcx%2FMJYpu7Kn%2BTANQWwGsdkOKKweC546c3aC%2FCoEKWiDvjv6OWEZlHIm9%2FTkONhHkMGSeNzhDIJutIzEg1gG9es6Ujm%2BVIzpjvGX3bzpgMqhk32NAnuY%3D\n",
      "https://www.simplyhired.com/search?q=Business+Analyst&l=united+states&t=1&cursor=ABQACgDIAAAAAAAAAAAAAAACDzS59wEFATFkBg4GJAlaBgprVwlQVZfGUrZ%2FHV3Sm6y3zRo%2BGN5VsEwYqGYcLsVPCDnI5lebq1QPADeY36dwH9UWPMtPrsGWcx%2FMJYpu7Kn%2BTANQWwGsdkOKKweC546c3aC%2FCoEKWiDvjv6OWEZlHIm9%2FTkONhHkMGSeNzhDIJutIzEg1gG9es6Ujm%2BVIzpjvGX3bzpgMqhk32NAnuY%3D&job=sF3SGmwyMQ-4p16X0i3_8343NICsgZpnu0B36beZrWoRC8zS4kjfAg\n",
      "https://www.simplyhired.com/search?q=Business+Analyst&l=united+states&t=1&cursor=ABQACgDIAAAAAAAAAAAAAAACDzS59wEFATFkBg4GJAlaBgprVwlQVZfGUrZ%2FHV3Sm6y3zRo%2BGN5VsEwYqGYcLsVPCDnI5lebq1QPADeY36dwH9UWPMtPrsGWcx%2FMJYpu7Kn%2BTANQWwGsdkOKKweC546c3aC%2FCoEKWiDvjv6OWEZlHIm9%2FTkONhHkMGSeNzhDIJutIzEg1gG9es6Ujm%2BVIzpjvGX3bzpgMqhk32NAnuY%3D&job=rfVJXgGcMaKxGAyOQxePnkeorlB2dPp3kKvEOZEKLwqfBagRw1gy2A\n",
      "https://www.simplyhired.com/search?q=Business+Analyst&l=united+states&t=1&cursor=ABQACgDIAAAAAAAAAAAAAAACDzS59wEFATFkBg4GJAlaBgprVwlQVZfGUrZ%2FHV3Sm6y3zRo%2BGN5VsEwYqGYcLsVPCDnI5lebq1QPADeY36dwH9UWPMtPrsGWcx%2FMJYpu7Kn%2BTANQWwGsdkOKKweC546c3aC%2FCoEKWiDvjv6OWEZlHIm9%2FTkONhHkMGSeNzhDIJutIzEg1gG9es6Ujm%2BVIzpjvGX3bzpgMqhk32NAnuY%3D&job=LXqY2LEoSk6V6FiiGuLZ_KnEnE4bLQAAy4-qk3cnkakgaZwzkuWmCw\n",
      "https://www.simplyhired.com/search?q=Business+Analyst&l=united+states&t=1&cursor=ABQACgDIAAAAAAAAAAAAAAACDzS59wEFATFkBg4GJAlaBgprVwlQVZfGUrZ%2FHV3Sm6y3zRo%2BGN5VsEwYqGYcLsVPCDnI5lebq1QPADeY36dwH9UWPMtPrsGWcx%2FMJYpu7Kn%2BTANQWwGsdkOKKweC546c3aC%2FCoEKWiDvjv6OWEZlHIm9%2FTkONhHkMGSeNzhDIJutIzEg1gG9es6Ujm%2BVIzpjvGX3bzpgMqhk32NAnuY%3D&job=LKNlLBplVguASSp896Y-n0vAJgQ1w4Xoc4Eo-Kmj9NPc33ZBhpzYUw\n",
      "https://www.simplyhired.com/search?q=Business+Analyst&l=united+states&t=1&cursor=ABQACgDIAAAAAAAAAAAAAAACDzS59wEFATFkBg4GJAlaBgprVwlQVZfGUrZ%2FHV3Sm6y3zRo%2BGN5VsEwYqGYcLsVPCDnI5lebq1QPADeY36dwH9UWPMtPrsGWcx%2FMJYpu7Kn%2BTANQWwGsdkOKKweC546c3aC%2FCoEKWiDvjv6OWEZlHIm9%2FTkONhHkMGSeNzhDIJutIzEg1gG9es6Ujm%2BVIzpjvGX3bzpgMqhk32NAnuY%3D&job=NhfJXNctT0HXabx9zvWrqrtoB-WFWWIxAfQzYZJLm-1ox-HxXKCc5w\n",
      "https://www.simplyhired.com/search?q=Business+Analyst&l=united+states&t=1&cursor=ABQACgDIAAAAAAAAAAAAAAACDzS59wEFATFkBg4GJAlaBgprVwlQVZfGUrZ%2FHV3Sm6y3zRo%2BGN5VsEwYqGYcLsVPCDnI5lebq1QPADeY36dwH9UWPMtPrsGWcx%2FMJYpu7Kn%2BTANQWwGsdkOKKweC546c3aC%2FCoEKWiDvjv6OWEZlHIm9%2FTkONhHkMGSeNzhDIJutIzEg1gG9es6Ujm%2BVIzpjvGX3bzpgMqhk32NAnuY%3D&job=QedxCY50ElCorvt-QTsF2opodcuW6_0Rk8ekF3KIWKdBXOGdvCS8OA\n",
      "https://www.simplyhired.com/search?q=Business+Analyst&l=united+states&t=1&cursor=ABQACgDIAAAAAAAAAAAAAAACDzS59wEFATFkBg4GJAlaBgprVwlQVZfGUrZ%2FHV3Sm6y3zRo%2BGN5VsEwYqGYcLsVPCDnI5lebq1QPADeY36dwH9UWPMtPrsGWcx%2FMJYpu7Kn%2BTANQWwGsdkOKKweC546c3aC%2FCoEKWiDvjv6OWEZlHIm9%2FTkONhHkMGSeNzhDIJutIzEg1gG9es6Ujm%2BVIzpjvGX3bzpgMqhk32NAnuY%3D&job=qnR3ubs6WlhBeKifGwEVqH0qrh_q1SS1d11Y75DsIEjt46gUHBaJZA\n",
      "https://www.simplyhired.com/search?q=Business+Analyst&l=united+states&t=1&cursor=ABQACgDIAAAAAAAAAAAAAAACDzS59wEFATFkBg4GJAlaBgprVwlQVZfGUrZ%2FHV3Sm6y3zRo%2BGN5VsEwYqGYcLsVPCDnI5lebq1QPADeY36dwH9UWPMtPrsGWcx%2FMJYpu7Kn%2BTANQWwGsdkOKKweC546c3aC%2FCoEKWiDvjv6OWEZlHIm9%2FTkONhHkMGSeNzhDIJutIzEg1gG9es6Ujm%2BVIzpjvGX3bzpgMqhk32NAnuY%3D&job=fuezq-Wl1Hi8KQQfOQxnW5fP9vZdlj-EJfKPAHGLeLhRJIlQvQp_aQ\n",
      "https://www.simplyhired.com/search?q=Business+Analyst&l=united+states&t=1&cursor=ABQACgDIAAAAAAAAAAAAAAACDzS59wEFATFkBg4GJAlaBgprVwlQVZfGUrZ%2FHV3Sm6y3zRo%2BGN5VsEwYqGYcLsVPCDnI5lebq1QPADeY36dwH9UWPMtPrsGWcx%2FMJYpu7Kn%2BTANQWwGsdkOKKweC546c3aC%2FCoEKWiDvjv6OWEZlHIm9%2FTkONhHkMGSeNzhDIJutIzEg1gG9es6Ujm%2BVIzpjvGX3bzpgMqhk32NAnuY%3D&job=2cRyPiTpiTUI8ZTbxjSFQ7fOKUHbOtwxDJQ5b4ffNHWhoUtbl1LRjg\n",
      "https://www.simplyhired.com/search?q=Business+Analyst&l=united+states&t=1&cursor=ABQACgDIAAAAAAAAAAAAAAACDzS59wEFATFkBg4GJAlaBgprVwlQVZfGUrZ%2FHV3Sm6y3zRo%2BGN5VsEwYqGYcLsVPCDnI5lebq1QPADeY36dwH9UWPMtPrsGWcx%2FMJYpu7Kn%2BTANQWwGsdkOKKweC546c3aC%2FCoEKWiDvjv6OWEZlHIm9%2FTkONhHkMGSeNzhDIJutIzEg1gG9es6Ujm%2BVIzpjvGX3bzpgMqhk32NAnuY%3D&job=Fc6_K-JJdzTCg6eA-dfxl2Dy9lECUadFUU2zT-wrQ0CHEZSRaDcBkw\n",
      "https://www.simplyhired.com/search?q=Business+Analyst&l=united+states&t=1&cursor=ABQACgDIAAAAAAAAAAAAAAACDzS59wEFATFkBg4GJAlaBgprVwlQVZfGUrZ%2FHV3Sm6y3zRo%2BGN5VsEwYqGYcLsVPCDnI5lebq1QPADeY36dwH9UWPMtPrsGWcx%2FMJYpu7Kn%2BTANQWwGsdkOKKweC546c3aC%2FCoEKWiDvjv6OWEZlHIm9%2FTkONhHkMGSeNzhDIJutIzEg1gG9es6Ujm%2BVIzpjvGX3bzpgMqhk32NAnuY%3D&job=T3uavxvudFeAUOh7mbapWvM9ic67Y0H07Hwvqu0tEPc6sdInUIjhRw\n",
      "https://www.simplyhired.com/search?q=Business+Analyst&l=united+states&t=1&cursor=ABQACgDIAAAAAAAAAAAAAAACDzS59wEFATFkBg4GJAlaBgprVwlQVZfGUrZ%2FHV3Sm6y3zRo%2BGN5VsEwYqGYcLsVPCDnI5lebq1QPADeY36dwH9UWPMtPrsGWcx%2FMJYpu7Kn%2BTANQWwGsdkOKKweC546c3aC%2FCoEKWiDvjv6OWEZlHIm9%2FTkONhHkMGSeNzhDIJutIzEg1gG9es6Ujm%2BVIzpjvGX3bzpgMqhk32NAnuY%3D&job=JjDYnNRUPrZxHT3SXILbQUM08901WBbWl0vOxIcofpMBacxPzI6J7w\n",
      "https://www.simplyhired.com/search?q=Business+Analyst&l=united+states&t=1&cursor=ABQACgDIAAAAAAAAAAAAAAACDzS59wEFATFkBg4GJAlaBgprVwlQVZfGUrZ%2FHV3Sm6y3zRo%2BGN5VsEwYqGYcLsVPCDnI5lebq1QPADeY36dwH9UWPMtPrsGWcx%2FMJYpu7Kn%2BTANQWwGsdkOKKweC546c3aC%2FCoEKWiDvjv6OWEZlHIm9%2FTkONhHkMGSeNzhDIJutIzEg1gG9es6Ujm%2BVIzpjvGX3bzpgMqhk32NAnuY%3D&job=Odz_VRfHiDv40p0oIXipk22jZOrvU-0Y2Scx9vGX0I0fiywYYd8o-A\n",
      "https://www.simplyhired.com/search?q=Business+Analyst&l=united+states&t=1&cursor=ABQACgDIAAAAAAAAAAAAAAACDzS59wEFATFkBg4GJAlaBgprVwlQVZfGUrZ%2FHV3Sm6y3zRo%2BGN5VsEwYqGYcLsVPCDnI5lebq1QPADeY36dwH9UWPMtPrsGWcx%2FMJYpu7Kn%2BTANQWwGsdkOKKweC546c3aC%2FCoEKWiDvjv6OWEZlHIm9%2FTkONhHkMGSeNzhDIJutIzEg1gG9es6Ujm%2BVIzpjvGX3bzpgMqhk32NAnuY%3D&job=_zsEBvFojjqkcv5bFJ3SprqXEXtyq91HkCaLKSqJRHD39HSNx3g-ig\n",
      "https://www.simplyhired.com/search?q=Business+Analyst&l=united+states&t=1&cursor=ABQACgDIAAAAAAAAAAAAAAACDzS59wEFATFkBg4GJAlaBgprVwlQVZfGUrZ%2FHV3Sm6y3zRo%2BGN5VsEwYqGYcLsVPCDnI5lebq1QPADeY36dwH9UWPMtPrsGWcx%2FMJYpu7Kn%2BTANQWwGsdkOKKweC546c3aC%2FCoEKWiDvjv6OWEZlHIm9%2FTkONhHkMGSeNzhDIJutIzEg1gG9es6Ujm%2BVIzpjvGX3bzpgMqhk32NAnuY%3D&job=yjcc4e0rWgvLMQlGy1KQZmytTeXcVvMvhC89PJE-4WE7Zb_Noo11ww\n",
      "https://www.simplyhired.com/search?q=Business+Analyst&l=united+states&t=1&cursor=ABQACgDIAAAAAAAAAAAAAAACDzS59wEFATFkBg4GJAlaBgprVwlQVZfGUrZ%2FHV3Sm6y3zRo%2BGN5VsEwYqGYcLsVPCDnI5lebq1QPADeY36dwH9UWPMtPrsGWcx%2FMJYpu7Kn%2BTANQWwGsdkOKKweC546c3aC%2FCoEKWiDvjv6OWEZlHIm9%2FTkONhHkMGSeNzhDIJutIzEg1gG9es6Ujm%2BVIzpjvGX3bzpgMqhk32NAnuY%3D&job=rWHGvuOe708GhBeQrCRW9fZJkYZi-DM3HG-WQSaC4wUQUrT4JyPzDg\n",
      "https://www.simplyhired.com/search?q=Business+Analyst&l=united+states&t=1&cursor=ABQACgDIAAAAAAAAAAAAAAACDzS59wEFATFkBg4GJAlaBgprVwlQVZfGUrZ%2FHV3Sm6y3zRo%2BGN5VsEwYqGYcLsVPCDnI5lebq1QPADeY36dwH9UWPMtPrsGWcx%2FMJYpu7Kn%2BTANQWwGsdkOKKweC546c3aC%2FCoEKWiDvjv6OWEZlHIm9%2FTkONhHkMGSeNzhDIJutIzEg1gG9es6Ujm%2BVIzpjvGX3bzpgMqhk32NAnuY%3D&job=U7Ty8iF9tl-vd6YoozHOo4IUZ3cAtJ-uIojaxzl_Xae7011AIS1iXQ\n",
      "https://www.simplyhired.com/search?q=Business+Analyst&l=united+states&t=1&cursor=ABQACgDIAAAAAAAAAAAAAAACDzS59wEFATFkBg4GJAlaBgprVwlQVZfGUrZ%2FHV3Sm6y3zRo%2BGN5VsEwYqGYcLsVPCDnI5lebq1QPADeY36dwH9UWPMtPrsGWcx%2FMJYpu7Kn%2BTANQWwGsdkOKKweC546c3aC%2FCoEKWiDvjv6OWEZlHIm9%2FTkONhHkMGSeNzhDIJutIzEg1gG9es6Ujm%2BVIzpjvGX3bzpgMqhk32NAnuY%3D&job=OIof4IX4iMGcxWs0q7f9I-Tqe_Wh2ZUrz_cktD4f6t-zKtU5Y9y3iw\n",
      "https://www.simplyhired.com/search?q=Business+Analyst&l=united+states&t=1&cursor=ABQACgDIAAAAAAAAAAAAAAACDzS59wEFATFkBg4GJAlaBgprVwlQVZfGUrZ%2FHV3Sm6y3zRo%2BGN5VsEwYqGYcLsVPCDnI5lebq1QPADeY36dwH9UWPMtPrsGWcx%2FMJYpu7Kn%2BTANQWwGsdkOKKweC546c3aC%2FCoEKWiDvjv6OWEZlHIm9%2FTkONhHkMGSeNzhDIJutIzEg1gG9es6Ujm%2BVIzpjvGX3bzpgMqhk32NAnuY%3D&job=LcYr9nsvZYd8BuCfzzmoJvff0zI_L3t0VpARPv7TXaUirEXKz2pIPg\n",
      "https://www.simplyhired.com/search?q=Business+Analyst&l=united+states&t=1&cursor=ABQACgDIAAAAAAAAAAAAAAACDzS59wEFATFkBg4GJAlaBgprVwlQVZfGUrZ%2FHV3Sm6y3zRo%2BGN5VsEwYqGYcLsVPCDnI5lebq1QPADeY36dwH9UWPMtPrsGWcx%2FMJYpu7Kn%2BTANQWwGsdkOKKweC546c3aC%2FCoEKWiDvjv6OWEZlHIm9%2FTkONhHkMGSeNzhDIJutIzEg1gG9es6Ujm%2BVIzpjvGX3bzpgMqhk32NAnuY%3D&job=wLGmqDZ2AjVJf7US8VyvDERvo1NbVCkYFfG61lQhQfhhMKICJsJPrA\n"
     ]
    },
    {
     "name": "stderr",
     "output_type": "stream",
     "text": [
      "/tmp/ipykernel_5743/3381847202.py:22: FutureWarning: The frame.append method is deprecated and will be removed from pandas in a future version. Use pandas.concat instead.\n",
      "  df = df.append(page_data)\n"
     ]
    },
    {
     "name": "stdout",
     "output_type": "stream",
     "text": [
      "Page Number: 12  Page Link:  https://www.simplyhired.com/search?q=Business+Analyst&l=united+states&t=1&cursor=ABQACwDcAAAAAAAAAAAAAAACDzWIUQEEATFkBg4GJAkPdW7ahXYQlnBlff3qR6ulkjgyMLXLp64nsVljBm4Jc0HlWJWX%2B%2BVpZmZCJtd2cAT6jdlgj3Br%2FH2rpViUWU%2Fy83gMZEsRbSOhmHaXo5dDsWhJ0Y6XVabm08iP5agoaJthRLLRhH%2Fn%2FwfUjsmSmALapzhEDxr0JabXIY9sLCouLBRF%2FlqACU0azYLX9GKvKcW2NKL9K%2B4%3D\n",
      "https://www.simplyhired.com/search?q=Business+Analyst&l=united+states&t=1&cursor=ABQACwDcAAAAAAAAAAAAAAACDzWIUQEEATFkBg4GJAkPdW7ahXYQlnBlff3qR6ulkjgyMLXLp64nsVljBm4Jc0HlWJWX%2B%2BVpZmZCJtd2cAT6jdlgj3Br%2FH2rpViUWU%2Fy83gMZEsRbSOhmHaXo5dDsWhJ0Y6XVabm08iP5agoaJthRLLRhH%2Fn%2FwfUjsmSmALapzhEDxr0JabXIY9sLCouLBRF%2FlqACU0azYLX9GKvKcW2NKL9K%2B4%3D&job=yzWb3BaiUWWcnLkB9iKFMwcfT9X5cRzXBny5PpYFPy8Z7rvSsqCu0w\n",
      "https://www.simplyhired.com/search?q=Business+Analyst&l=united+states&t=1&cursor=ABQACwDcAAAAAAAAAAAAAAACDzWIUQEEATFkBg4GJAkPdW7ahXYQlnBlff3qR6ulkjgyMLXLp64nsVljBm4Jc0HlWJWX%2B%2BVpZmZCJtd2cAT6jdlgj3Br%2FH2rpViUWU%2Fy83gMZEsRbSOhmHaXo5dDsWhJ0Y6XVabm08iP5agoaJthRLLRhH%2Fn%2FwfUjsmSmALapzhEDxr0JabXIY9sLCouLBRF%2FlqACU0azYLX9GKvKcW2NKL9K%2B4%3D&job=qoppnT0fgtJlwSmLNGNLZH9ftEdFUNYoRliy-3zG6ZlJg_7pI_yvqA\n",
      "https://www.simplyhired.com/search?q=Business+Analyst&l=united+states&t=1&cursor=ABQACwDcAAAAAAAAAAAAAAACDzWIUQEEATFkBg4GJAkPdW7ahXYQlnBlff3qR6ulkjgyMLXLp64nsVljBm4Jc0HlWJWX%2B%2BVpZmZCJtd2cAT6jdlgj3Br%2FH2rpViUWU%2Fy83gMZEsRbSOhmHaXo5dDsWhJ0Y6XVabm08iP5agoaJthRLLRhH%2Fn%2FwfUjsmSmALapzhEDxr0JabXIY9sLCouLBRF%2FlqACU0azYLX9GKvKcW2NKL9K%2B4%3D&job=BXdkSq7YZw9_h-w4BsqnmEXI5JzpYtvCpdpZu55_6nXih_j4TXVh-w\n",
      "https://www.simplyhired.com/search?q=Business+Analyst&l=united+states&t=1&cursor=ABQACwDcAAAAAAAAAAAAAAACDzWIUQEEATFkBg4GJAkPdW7ahXYQlnBlff3qR6ulkjgyMLXLp64nsVljBm4Jc0HlWJWX%2B%2BVpZmZCJtd2cAT6jdlgj3Br%2FH2rpViUWU%2Fy83gMZEsRbSOhmHaXo5dDsWhJ0Y6XVabm08iP5agoaJthRLLRhH%2Fn%2FwfUjsmSmALapzhEDxr0JabXIY9sLCouLBRF%2FlqACU0azYLX9GKvKcW2NKL9K%2B4%3D&job=o59hfuB93VlA707ao9MvjQijNsy50U_vgpDdpdjhlqlDqt-WSO6TkQ\n",
      "https://www.simplyhired.com/search?q=Business+Analyst&l=united+states&t=1&cursor=ABQACwDcAAAAAAAAAAAAAAACDzWIUQEEATFkBg4GJAkPdW7ahXYQlnBlff3qR6ulkjgyMLXLp64nsVljBm4Jc0HlWJWX%2B%2BVpZmZCJtd2cAT6jdlgj3Br%2FH2rpViUWU%2Fy83gMZEsRbSOhmHaXo5dDsWhJ0Y6XVabm08iP5agoaJthRLLRhH%2Fn%2FwfUjsmSmALapzhEDxr0JabXIY9sLCouLBRF%2FlqACU0azYLX9GKvKcW2NKL9K%2B4%3D&job=LfrXkpCcEFOQcofiQQ6pXY0hnxfUlXLd7lco5fk66tV6Y1c7Vgthqw\n",
      "https://www.simplyhired.com/search?q=Business+Analyst&l=united+states&t=1&cursor=ABQACwDcAAAAAAAAAAAAAAACDzWIUQEEATFkBg4GJAkPdW7ahXYQlnBlff3qR6ulkjgyMLXLp64nsVljBm4Jc0HlWJWX%2B%2BVpZmZCJtd2cAT6jdlgj3Br%2FH2rpViUWU%2Fy83gMZEsRbSOhmHaXo5dDsWhJ0Y6XVabm08iP5agoaJthRLLRhH%2Fn%2FwfUjsmSmALapzhEDxr0JabXIY9sLCouLBRF%2FlqACU0azYLX9GKvKcW2NKL9K%2B4%3D&job=imq3qjOzO63mhl3hHwzY1zHd1cwv6koi2VId18m2_w4CB6dcsOxwhQ\n",
      "https://www.simplyhired.com/search?q=Business+Analyst&l=united+states&t=1&cursor=ABQACwDcAAAAAAAAAAAAAAACDzWIUQEEATFkBg4GJAkPdW7ahXYQlnBlff3qR6ulkjgyMLXLp64nsVljBm4Jc0HlWJWX%2B%2BVpZmZCJtd2cAT6jdlgj3Br%2FH2rpViUWU%2Fy83gMZEsRbSOhmHaXo5dDsWhJ0Y6XVabm08iP5agoaJthRLLRhH%2Fn%2FwfUjsmSmALapzhEDxr0JabXIY9sLCouLBRF%2FlqACU0azYLX9GKvKcW2NKL9K%2B4%3D&job=rhDQCv7zAmBWD1kOP7Mm8FiU2rOCFQwvLEXYypPa1fDKqv7qTxvm4Q\n",
      "https://www.simplyhired.com/search?q=Business+Analyst&l=united+states&t=1&cursor=ABQACwDcAAAAAAAAAAAAAAACDzWIUQEEATFkBg4GJAkPdW7ahXYQlnBlff3qR6ulkjgyMLXLp64nsVljBm4Jc0HlWJWX%2B%2BVpZmZCJtd2cAT6jdlgj3Br%2FH2rpViUWU%2Fy83gMZEsRbSOhmHaXo5dDsWhJ0Y6XVabm08iP5agoaJthRLLRhH%2Fn%2FwfUjsmSmALapzhEDxr0JabXIY9sLCouLBRF%2FlqACU0azYLX9GKvKcW2NKL9K%2B4%3D&job=xYVnrMD6Kij4IWQA0b7ykIYoo99XXxgXwURj7sJOb-bk95agoxmE6Q\n",
      "https://www.simplyhired.com/search?q=Business+Analyst&l=united+states&t=1&cursor=ABQACwDcAAAAAAAAAAAAAAACDzWIUQEEATFkBg4GJAkPdW7ahXYQlnBlff3qR6ulkjgyMLXLp64nsVljBm4Jc0HlWJWX%2B%2BVpZmZCJtd2cAT6jdlgj3Br%2FH2rpViUWU%2Fy83gMZEsRbSOhmHaXo5dDsWhJ0Y6XVabm08iP5agoaJthRLLRhH%2Fn%2FwfUjsmSmALapzhEDxr0JabXIY9sLCouLBRF%2FlqACU0azYLX9GKvKcW2NKL9K%2B4%3D&job=stNhsOdwfm6utHeospBa4sEkmEeVmXzv_lKt7wVIir4HQkUZmk90fQ\n",
      "https://www.simplyhired.com/search?q=Business+Analyst&l=united+states&t=1&cursor=ABQACwDcAAAAAAAAAAAAAAACDzWIUQEEATFkBg4GJAkPdW7ahXYQlnBlff3qR6ulkjgyMLXLp64nsVljBm4Jc0HlWJWX%2B%2BVpZmZCJtd2cAT6jdlgj3Br%2FH2rpViUWU%2Fy83gMZEsRbSOhmHaXo5dDsWhJ0Y6XVabm08iP5agoaJthRLLRhH%2Fn%2FwfUjsmSmALapzhEDxr0JabXIY9sLCouLBRF%2FlqACU0azYLX9GKvKcW2NKL9K%2B4%3D&job=yM9Gr0sExO9alncSI6xT9qzMb_3MSDTOVRJvXg8wYLWPii5CgR27qA\n",
      "https://www.simplyhired.com/search?q=Business+Analyst&l=united+states&t=1&cursor=ABQACwDcAAAAAAAAAAAAAAACDzWIUQEEATFkBg4GJAkPdW7ahXYQlnBlff3qR6ulkjgyMLXLp64nsVljBm4Jc0HlWJWX%2B%2BVpZmZCJtd2cAT6jdlgj3Br%2FH2rpViUWU%2Fy83gMZEsRbSOhmHaXo5dDsWhJ0Y6XVabm08iP5agoaJthRLLRhH%2Fn%2FwfUjsmSmALapzhEDxr0JabXIY9sLCouLBRF%2FlqACU0azYLX9GKvKcW2NKL9K%2B4%3D&job=_6q3eU5I80ij3K5KY2Fg4oJbZUENa-qlKoMN75sdhPqh4wof6vJpuQ\n",
      "https://www.simplyhired.com/search?q=Business+Analyst&l=united+states&t=1&cursor=ABQACwDcAAAAAAAAAAAAAAACDzWIUQEEATFkBg4GJAkPdW7ahXYQlnBlff3qR6ulkjgyMLXLp64nsVljBm4Jc0HlWJWX%2B%2BVpZmZCJtd2cAT6jdlgj3Br%2FH2rpViUWU%2Fy83gMZEsRbSOhmHaXo5dDsWhJ0Y6XVabm08iP5agoaJthRLLRhH%2Fn%2FwfUjsmSmALapzhEDxr0JabXIY9sLCouLBRF%2FlqACU0azYLX9GKvKcW2NKL9K%2B4%3D&job=Cby8MPuTWi9vzF-dAl_UoL7zsa3hoJtovhes7JxBpkq3oFrRT1IcZw\n",
      "https://www.simplyhired.com/search?q=Business+Analyst&l=united+states&t=1&cursor=ABQACwDcAAAAAAAAAAAAAAACDzWIUQEEATFkBg4GJAkPdW7ahXYQlnBlff3qR6ulkjgyMLXLp64nsVljBm4Jc0HlWJWX%2B%2BVpZmZCJtd2cAT6jdlgj3Br%2FH2rpViUWU%2Fy83gMZEsRbSOhmHaXo5dDsWhJ0Y6XVabm08iP5agoaJthRLLRhH%2Fn%2FwfUjsmSmALapzhEDxr0JabXIY9sLCouLBRF%2FlqACU0azYLX9GKvKcW2NKL9K%2B4%3D&job=JyyK4dMwxmfHGHEH1rbC2le3L8ecy04bB53HokKFY9yC55nBM6_XVw\n",
      "https://www.simplyhired.com/search?q=Business+Analyst&l=united+states&t=1&cursor=ABQACwDcAAAAAAAAAAAAAAACDzWIUQEEATFkBg4GJAkPdW7ahXYQlnBlff3qR6ulkjgyMLXLp64nsVljBm4Jc0HlWJWX%2B%2BVpZmZCJtd2cAT6jdlgj3Br%2FH2rpViUWU%2Fy83gMZEsRbSOhmHaXo5dDsWhJ0Y6XVabm08iP5agoaJthRLLRhH%2Fn%2FwfUjsmSmALapzhEDxr0JabXIY9sLCouLBRF%2FlqACU0azYLX9GKvKcW2NKL9K%2B4%3D&job=-GOEE5o_9nZ5iMuVEQ-aBOSBZukXhlpz6sY80hby3M2FeshRYbSefw\n",
      "https://www.simplyhired.com/search?q=Business+Analyst&l=united+states&t=1&cursor=ABQACwDcAAAAAAAAAAAAAAACDzWIUQEEATFkBg4GJAkPdW7ahXYQlnBlff3qR6ulkjgyMLXLp64nsVljBm4Jc0HlWJWX%2B%2BVpZmZCJtd2cAT6jdlgj3Br%2FH2rpViUWU%2Fy83gMZEsRbSOhmHaXo5dDsWhJ0Y6XVabm08iP5agoaJthRLLRhH%2Fn%2FwfUjsmSmALapzhEDxr0JabXIY9sLCouLBRF%2FlqACU0azYLX9GKvKcW2NKL9K%2B4%3D&job=AYegmmxXQ3ZIM1oaPjKYU18nLboCStOl83By-roTe0wCGTAnJW_LAg\n",
      "https://www.simplyhired.com/search?q=Business+Analyst&l=united+states&t=1&cursor=ABQACwDcAAAAAAAAAAAAAAACDzWIUQEEATFkBg4GJAkPdW7ahXYQlnBlff3qR6ulkjgyMLXLp64nsVljBm4Jc0HlWJWX%2B%2BVpZmZCJtd2cAT6jdlgj3Br%2FH2rpViUWU%2Fy83gMZEsRbSOhmHaXo5dDsWhJ0Y6XVabm08iP5agoaJthRLLRhH%2Fn%2FwfUjsmSmALapzhEDxr0JabXIY9sLCouLBRF%2FlqACU0azYLX9GKvKcW2NKL9K%2B4%3D&job=mdSmB-yx5caI_h5SGDlXfvdVDAA04G3etiQU9XpvTxFJTkO5DFItGA\n",
      "https://www.simplyhired.com/search?q=Business+Analyst&l=united+states&t=1&cursor=ABQACwDcAAAAAAAAAAAAAAACDzWIUQEEATFkBg4GJAkPdW7ahXYQlnBlff3qR6ulkjgyMLXLp64nsVljBm4Jc0HlWJWX%2B%2BVpZmZCJtd2cAT6jdlgj3Br%2FH2rpViUWU%2Fy83gMZEsRbSOhmHaXo5dDsWhJ0Y6XVabm08iP5agoaJthRLLRhH%2Fn%2FwfUjsmSmALapzhEDxr0JabXIY9sLCouLBRF%2FlqACU0azYLX9GKvKcW2NKL9K%2B4%3D&job=npOQZGZYoId6R0zYx-po4UVZktKJ5rBLnCTl_lDmBQ-S_GJwCwjghw\n",
      "https://www.simplyhired.com/search?q=Business+Analyst&l=united+states&t=1&cursor=ABQACwDcAAAAAAAAAAAAAAACDzWIUQEEATFkBg4GJAkPdW7ahXYQlnBlff3qR6ulkjgyMLXLp64nsVljBm4Jc0HlWJWX%2B%2BVpZmZCJtd2cAT6jdlgj3Br%2FH2rpViUWU%2Fy83gMZEsRbSOhmHaXo5dDsWhJ0Y6XVabm08iP5agoaJthRLLRhH%2Fn%2FwfUjsmSmALapzhEDxr0JabXIY9sLCouLBRF%2FlqACU0azYLX9GKvKcW2NKL9K%2B4%3D&job=wLOY3bbUcnG8U0LiHZo8fRpy338uGTik-5NWiFmA2iMhVPEchGX6GQ\n",
      "https://www.simplyhired.com/search?q=Business+Analyst&l=united+states&t=1&cursor=ABQACwDcAAAAAAAAAAAAAAACDzWIUQEEATFkBg4GJAkPdW7ahXYQlnBlff3qR6ulkjgyMLXLp64nsVljBm4Jc0HlWJWX%2B%2BVpZmZCJtd2cAT6jdlgj3Br%2FH2rpViUWU%2Fy83gMZEsRbSOhmHaXo5dDsWhJ0Y6XVabm08iP5agoaJthRLLRhH%2Fn%2FwfUjsmSmALapzhEDxr0JabXIY9sLCouLBRF%2FlqACU0azYLX9GKvKcW2NKL9K%2B4%3D&job=xtuxXaVeB3gn3wj2YY1xgll9uGScCIuNbaODtUBjXfYjNhIha1Uj5Q\n",
      "https://www.simplyhired.com/search?q=Business+Analyst&l=united+states&t=1&cursor=ABQACwDcAAAAAAAAAAAAAAACDzWIUQEEATFkBg4GJAkPdW7ahXYQlnBlff3qR6ulkjgyMLXLp64nsVljBm4Jc0HlWJWX%2B%2BVpZmZCJtd2cAT6jdlgj3Br%2FH2rpViUWU%2Fy83gMZEsRbSOhmHaXo5dDsWhJ0Y6XVabm08iP5agoaJthRLLRhH%2Fn%2FwfUjsmSmALapzhEDxr0JabXIY9sLCouLBRF%2FlqACU0azYLX9GKvKcW2NKL9K%2B4%3D&job=qtEJWDEeVd4aaySGDHMBIQQEV6iFwvFmdDgwuzkQhsZEICb1UlIXrQ\n"
     ]
    },
    {
     "name": "stderr",
     "output_type": "stream",
     "text": [
      "/tmp/ipykernel_5743/3381847202.py:22: FutureWarning: The frame.append method is deprecated and will be removed from pandas in a future version. Use pandas.concat instead.\n",
      "  df = df.append(page_data)\n"
     ]
    },
    {
     "name": "stdout",
     "output_type": "stream",
     "text": [
      "Page Number: 13  Page Link:  https://www.simplyhired.com/search?q=Business+Analyst&l=united+states&t=1&cursor=ABQADADwAAAAAAAAAAAAAAACDzWIUQEDATFkDTIJAcPyRZTsjdgRxOXAJ%2FOH3AdPeOIwu7pihQIfG7m3dXcOp9v26tgGu9I0PM7hVJ%2FkmVj%2BDNzC3akLAewA%2ByTZGWOlbyDnUr4YuvX3LBkAAlIXyR4vQrsZOV6lukXSoyXMQ4jgNEQpyrY24DUAII5hNv6ZYfuqbQ0kJdib2g%2F9dUY0hCVPU6L1%2F4mYkPFM5wQNqP9zSAE%3D\n",
      "https://www.simplyhired.com/search?q=Business+Analyst&l=united+states&t=1&cursor=ABQADADwAAAAAAAAAAAAAAACDzWIUQEDATFkDTIJAcPyRZTsjdgRxOXAJ%2FOH3AdPeOIwu7pihQIfG7m3dXcOp9v26tgGu9I0PM7hVJ%2FkmVj%2BDNzC3akLAewA%2ByTZGWOlbyDnUr4YuvX3LBkAAlIXyR4vQrsZOV6lukXSoyXMQ4jgNEQpyrY24DUAII5hNv6ZYfuqbQ0kJdib2g%2F9dUY0hCVPU6L1%2F4mYkPFM5wQNqP9zSAE%3D&job=8VOdcROuiDXHs8DWvAOXdY9BxNmaEZyIueNVz97kMRHmo_2hr3xhqg\n",
      "https://www.simplyhired.com/search?q=Business+Analyst&l=united+states&t=1&cursor=ABQADADwAAAAAAAAAAAAAAACDzWIUQEDATFkDTIJAcPyRZTsjdgRxOXAJ%2FOH3AdPeOIwu7pihQIfG7m3dXcOp9v26tgGu9I0PM7hVJ%2FkmVj%2BDNzC3akLAewA%2ByTZGWOlbyDnUr4YuvX3LBkAAlIXyR4vQrsZOV6lukXSoyXMQ4jgNEQpyrY24DUAII5hNv6ZYfuqbQ0kJdib2g%2F9dUY0hCVPU6L1%2F4mYkPFM5wQNqP9zSAE%3D&job=fU_tU7Uw5_w5tT5ww-TEPMCH-PdUtoFvQgi_F6t3cEAZfAniGcowJQ\n",
      "https://www.simplyhired.com/search?q=Business+Analyst&l=united+states&t=1&cursor=ABQADADwAAAAAAAAAAAAAAACDzWIUQEDATFkDTIJAcPyRZTsjdgRxOXAJ%2FOH3AdPeOIwu7pihQIfG7m3dXcOp9v26tgGu9I0PM7hVJ%2FkmVj%2BDNzC3akLAewA%2ByTZGWOlbyDnUr4YuvX3LBkAAlIXyR4vQrsZOV6lukXSoyXMQ4jgNEQpyrY24DUAII5hNv6ZYfuqbQ0kJdib2g%2F9dUY0hCVPU6L1%2F4mYkPFM5wQNqP9zSAE%3D&job=vWwdONNVNY2bPHmTvCKkkpIPVEKXwW2lJ7I45n9u15rlt8tphvre3A\n",
      "https://www.simplyhired.com/search?q=Business+Analyst&l=united+states&t=1&cursor=ABQADADwAAAAAAAAAAAAAAACDzWIUQEDATFkDTIJAcPyRZTsjdgRxOXAJ%2FOH3AdPeOIwu7pihQIfG7m3dXcOp9v26tgGu9I0PM7hVJ%2FkmVj%2BDNzC3akLAewA%2ByTZGWOlbyDnUr4YuvX3LBkAAlIXyR4vQrsZOV6lukXSoyXMQ4jgNEQpyrY24DUAII5hNv6ZYfuqbQ0kJdib2g%2F9dUY0hCVPU6L1%2F4mYkPFM5wQNqP9zSAE%3D&job=uPqqLXvne0ojaBxNZTr_dW5OD5HIMS_CENFJZV05fTc5ALPag834Eg\n",
      "https://www.simplyhired.com/search?q=Business+Analyst&l=united+states&t=1&cursor=ABQADADwAAAAAAAAAAAAAAACDzWIUQEDATFkDTIJAcPyRZTsjdgRxOXAJ%2FOH3AdPeOIwu7pihQIfG7m3dXcOp9v26tgGu9I0PM7hVJ%2FkmVj%2BDNzC3akLAewA%2ByTZGWOlbyDnUr4YuvX3LBkAAlIXyR4vQrsZOV6lukXSoyXMQ4jgNEQpyrY24DUAII5hNv6ZYfuqbQ0kJdib2g%2F9dUY0hCVPU6L1%2F4mYkPFM5wQNqP9zSAE%3D&job=xjNLNYcaig-kIzgm0yhWuumSL08qdOM559ukJ8hA7YJqQc8bi6Fvjw\n",
      "https://www.simplyhired.com/search?q=Business+Analyst&l=united+states&t=1&cursor=ABQADADwAAAAAAAAAAAAAAACDzWIUQEDATFkDTIJAcPyRZTsjdgRxOXAJ%2FOH3AdPeOIwu7pihQIfG7m3dXcOp9v26tgGu9I0PM7hVJ%2FkmVj%2BDNzC3akLAewA%2ByTZGWOlbyDnUr4YuvX3LBkAAlIXyR4vQrsZOV6lukXSoyXMQ4jgNEQpyrY24DUAII5hNv6ZYfuqbQ0kJdib2g%2F9dUY0hCVPU6L1%2F4mYkPFM5wQNqP9zSAE%3D&job=9IuLL8Cfrsjwx9UlqcIX0OG2a4P9Qp-EMNPDr1kuuZkrnTPcDhiT_w\n",
      "https://www.simplyhired.com/search?q=Business+Analyst&l=united+states&t=1&cursor=ABQADADwAAAAAAAAAAAAAAACDzWIUQEDATFkDTIJAcPyRZTsjdgRxOXAJ%2FOH3AdPeOIwu7pihQIfG7m3dXcOp9v26tgGu9I0PM7hVJ%2FkmVj%2BDNzC3akLAewA%2ByTZGWOlbyDnUr4YuvX3LBkAAlIXyR4vQrsZOV6lukXSoyXMQ4jgNEQpyrY24DUAII5hNv6ZYfuqbQ0kJdib2g%2F9dUY0hCVPU6L1%2F4mYkPFM5wQNqP9zSAE%3D&job=RA-13P4gvaBMG_pjEUGAtV527cS0JdWYQn3loWT5NZY3suHS4Xh_Kg\n",
      "https://www.simplyhired.com/search?q=Business+Analyst&l=united+states&t=1&cursor=ABQADADwAAAAAAAAAAAAAAACDzWIUQEDATFkDTIJAcPyRZTsjdgRxOXAJ%2FOH3AdPeOIwu7pihQIfG7m3dXcOp9v26tgGu9I0PM7hVJ%2FkmVj%2BDNzC3akLAewA%2ByTZGWOlbyDnUr4YuvX3LBkAAlIXyR4vQrsZOV6lukXSoyXMQ4jgNEQpyrY24DUAII5hNv6ZYfuqbQ0kJdib2g%2F9dUY0hCVPU6L1%2F4mYkPFM5wQNqP9zSAE%3D&job=CFdaTnVQRf2tz-bTKUWkhojBz2wjWKX9PeBXVKP838lr9vMv1--rAQ\n",
      "https://www.simplyhired.com/search?q=Business+Analyst&l=united+states&t=1&cursor=ABQADADwAAAAAAAAAAAAAAACDzWIUQEDATFkDTIJAcPyRZTsjdgRxOXAJ%2FOH3AdPeOIwu7pihQIfG7m3dXcOp9v26tgGu9I0PM7hVJ%2FkmVj%2BDNzC3akLAewA%2ByTZGWOlbyDnUr4YuvX3LBkAAlIXyR4vQrsZOV6lukXSoyXMQ4jgNEQpyrY24DUAII5hNv6ZYfuqbQ0kJdib2g%2F9dUY0hCVPU6L1%2F4mYkPFM5wQNqP9zSAE%3D&job=NVEjR2zUpOzF_Wm18bMOj__lncm-7EbQnyzOa7-cGpYiQhMD0TKL9Q\n",
      "https://www.simplyhired.com/search?q=Business+Analyst&l=united+states&t=1&cursor=ABQADADwAAAAAAAAAAAAAAACDzWIUQEDATFkDTIJAcPyRZTsjdgRxOXAJ%2FOH3AdPeOIwu7pihQIfG7m3dXcOp9v26tgGu9I0PM7hVJ%2FkmVj%2BDNzC3akLAewA%2ByTZGWOlbyDnUr4YuvX3LBkAAlIXyR4vQrsZOV6lukXSoyXMQ4jgNEQpyrY24DUAII5hNv6ZYfuqbQ0kJdib2g%2F9dUY0hCVPU6L1%2F4mYkPFM5wQNqP9zSAE%3D&job=2lhgLmsN8xO0JoPpyH4xXNZhDAQ36XCW9aUkqtI9sFKTsyxqXR_tsQ\n",
      "https://www.simplyhired.com/search?q=Business+Analyst&l=united+states&t=1&cursor=ABQADADwAAAAAAAAAAAAAAACDzWIUQEDATFkDTIJAcPyRZTsjdgRxOXAJ%2FOH3AdPeOIwu7pihQIfG7m3dXcOp9v26tgGu9I0PM7hVJ%2FkmVj%2BDNzC3akLAewA%2ByTZGWOlbyDnUr4YuvX3LBkAAlIXyR4vQrsZOV6lukXSoyXMQ4jgNEQpyrY24DUAII5hNv6ZYfuqbQ0kJdib2g%2F9dUY0hCVPU6L1%2F4mYkPFM5wQNqP9zSAE%3D&job=zEeAj5QidJe6uvD-YEGJv95Vm32aQxn64E7HGaAJLj1kOo2fEKhkkw\n",
      "https://www.simplyhired.com/search?q=Business+Analyst&l=united+states&t=1&cursor=ABQADADwAAAAAAAAAAAAAAACDzWIUQEDATFkDTIJAcPyRZTsjdgRxOXAJ%2FOH3AdPeOIwu7pihQIfG7m3dXcOp9v26tgGu9I0PM7hVJ%2FkmVj%2BDNzC3akLAewA%2ByTZGWOlbyDnUr4YuvX3LBkAAlIXyR4vQrsZOV6lukXSoyXMQ4jgNEQpyrY24DUAII5hNv6ZYfuqbQ0kJdib2g%2F9dUY0hCVPU6L1%2F4mYkPFM5wQNqP9zSAE%3D&job=URHvDL2KNGOkn5hs6Jios_1x2jZCRVNPnlgTACd7Y4L-xD0BrngHgA\n",
      "https://www.simplyhired.com/search?q=Business+Analyst&l=united+states&t=1&cursor=ABQADADwAAAAAAAAAAAAAAACDzWIUQEDATFkDTIJAcPyRZTsjdgRxOXAJ%2FOH3AdPeOIwu7pihQIfG7m3dXcOp9v26tgGu9I0PM7hVJ%2FkmVj%2BDNzC3akLAewA%2ByTZGWOlbyDnUr4YuvX3LBkAAlIXyR4vQrsZOV6lukXSoyXMQ4jgNEQpyrY24DUAII5hNv6ZYfuqbQ0kJdib2g%2F9dUY0hCVPU6L1%2F4mYkPFM5wQNqP9zSAE%3D&job=BJoZdJcPWdWtDLyxPdjS4ngcVy5bBhTHM_AXx4yoj-ctsmQKQiF9ag\n",
      "https://www.simplyhired.com/search?q=Business+Analyst&l=united+states&t=1&cursor=ABQADADwAAAAAAAAAAAAAAACDzWIUQEDATFkDTIJAcPyRZTsjdgRxOXAJ%2FOH3AdPeOIwu7pihQIfG7m3dXcOp9v26tgGu9I0PM7hVJ%2FkmVj%2BDNzC3akLAewA%2ByTZGWOlbyDnUr4YuvX3LBkAAlIXyR4vQrsZOV6lukXSoyXMQ4jgNEQpyrY24DUAII5hNv6ZYfuqbQ0kJdib2g%2F9dUY0hCVPU6L1%2F4mYkPFM5wQNqP9zSAE%3D&job=kOBv3G7waczktFUBmm2S44d822KGg-m5xPIUp5y1o5g7qcEeykhrXA\n",
      "https://www.simplyhired.com/search?q=Business+Analyst&l=united+states&t=1&cursor=ABQADADwAAAAAAAAAAAAAAACDzWIUQEDATFkDTIJAcPyRZTsjdgRxOXAJ%2FOH3AdPeOIwu7pihQIfG7m3dXcOp9v26tgGu9I0PM7hVJ%2FkmVj%2BDNzC3akLAewA%2ByTZGWOlbyDnUr4YuvX3LBkAAlIXyR4vQrsZOV6lukXSoyXMQ4jgNEQpyrY24DUAII5hNv6ZYfuqbQ0kJdib2g%2F9dUY0hCVPU6L1%2F4mYkPFM5wQNqP9zSAE%3D&job=UUQf9iOJCvZPrzFLcIfXOgWdVH6OHamyl65gOp-G7C3pWPSAjRoueA\n",
      "https://www.simplyhired.com/search?q=Business+Analyst&l=united+states&t=1&cursor=ABQADADwAAAAAAAAAAAAAAACDzWIUQEDATFkDTIJAcPyRZTsjdgRxOXAJ%2FOH3AdPeOIwu7pihQIfG7m3dXcOp9v26tgGu9I0PM7hVJ%2FkmVj%2BDNzC3akLAewA%2ByTZGWOlbyDnUr4YuvX3LBkAAlIXyR4vQrsZOV6lukXSoyXMQ4jgNEQpyrY24DUAII5hNv6ZYfuqbQ0kJdib2g%2F9dUY0hCVPU6L1%2F4mYkPFM5wQNqP9zSAE%3D&job=WvAqb7ztoXFgGjW4wVWfQaIXfrXHA2DGAE0wMcCp66_yJ5H8BnDXJw\n",
      "https://www.simplyhired.com/search?q=Business+Analyst&l=united+states&t=1&cursor=ABQADADwAAAAAAAAAAAAAAACDzWIUQEDATFkDTIJAcPyRZTsjdgRxOXAJ%2FOH3AdPeOIwu7pihQIfG7m3dXcOp9v26tgGu9I0PM7hVJ%2FkmVj%2BDNzC3akLAewA%2ByTZGWOlbyDnUr4YuvX3LBkAAlIXyR4vQrsZOV6lukXSoyXMQ4jgNEQpyrY24DUAII5hNv6ZYfuqbQ0kJdib2g%2F9dUY0hCVPU6L1%2F4mYkPFM5wQNqP9zSAE%3D&job=0Sb3aJdHZxtYR1BphQaEHTMnuld5jVNJhOEIlX_Fn5gmgXDlULhF-A\n",
      "https://www.simplyhired.com/search?q=Business+Analyst&l=united+states&t=1&cursor=ABQADADwAAAAAAAAAAAAAAACDzWIUQEDATFkDTIJAcPyRZTsjdgRxOXAJ%2FOH3AdPeOIwu7pihQIfG7m3dXcOp9v26tgGu9I0PM7hVJ%2FkmVj%2BDNzC3akLAewA%2ByTZGWOlbyDnUr4YuvX3LBkAAlIXyR4vQrsZOV6lukXSoyXMQ4jgNEQpyrY24DUAII5hNv6ZYfuqbQ0kJdib2g%2F9dUY0hCVPU6L1%2F4mYkPFM5wQNqP9zSAE%3D&job=c0E6EcR9uVpaTd0JoK_WlziXcIq0blE31U5P1edWEhq5JaNuoq3tYA\n",
      "https://www.simplyhired.com/search?q=Business+Analyst&l=united+states&t=1&cursor=ABQADADwAAAAAAAAAAAAAAACDzWIUQEDATFkDTIJAcPyRZTsjdgRxOXAJ%2FOH3AdPeOIwu7pihQIfG7m3dXcOp9v26tgGu9I0PM7hVJ%2FkmVj%2BDNzC3akLAewA%2ByTZGWOlbyDnUr4YuvX3LBkAAlIXyR4vQrsZOV6lukXSoyXMQ4jgNEQpyrY24DUAII5hNv6ZYfuqbQ0kJdib2g%2F9dUY0hCVPU6L1%2F4mYkPFM5wQNqP9zSAE%3D&job=0AqMNLgIiCNusxBZzn6biUspNQA56i8VdNaWMeW8Pu4QnmqRhWEQIQ\n",
      "https://www.simplyhired.com/search?q=Business+Analyst&l=united+states&t=1&cursor=ABQADADwAAAAAAAAAAAAAAACDzWIUQEDATFkDTIJAcPyRZTsjdgRxOXAJ%2FOH3AdPeOIwu7pihQIfG7m3dXcOp9v26tgGu9I0PM7hVJ%2FkmVj%2BDNzC3akLAewA%2ByTZGWOlbyDnUr4YuvX3LBkAAlIXyR4vQrsZOV6lukXSoyXMQ4jgNEQpyrY24DUAII5hNv6ZYfuqbQ0kJdib2g%2F9dUY0hCVPU6L1%2F4mYkPFM5wQNqP9zSAE%3D&job=eRkP8w3IUYtVR_8eqZcEAmhw12z8T9-X6GZL4yc1fXsKUCa31IZLGQ\n"
     ]
    },
    {
     "name": "stderr",
     "output_type": "stream",
     "text": [
      "/tmp/ipykernel_5743/3381847202.py:22: FutureWarning: The frame.append method is deprecated and will be removed from pandas in a future version. Use pandas.concat instead.\n",
      "  df = df.append(page_data)\n"
     ]
    },
    {
     "name": "stdout",
     "output_type": "stream",
     "text": [
      "Page Number: 14  Page Link:  https://www.simplyhired.com/search?q=Business+Analyst&l=united+states&t=1&cursor=ABQADQEEAAAAAAAAAAAAAAACDzWIUQEBAT8IWNN2%2BrX%2BfiuVNL00OQjx%2BJ5FhszBdP6C%2FgIjyvjlY79I0BcRwj6%2BBOr4kY9Nxfttr0mgy5%2BNlUgkzmEVbkZ6IFJ8LfeFiD2F7PPGSVtUCeS9ghWQ5mbRTaCS6yOsnbmERjzIuF6TOHfxtmKN9IeD8T70j691b1m5QTxiQ5O0mqeAKaRb2PogSj%2B01XSXouOIOoonMLokGtc%3D\n",
      "https://www.simplyhired.com/search?q=Business+Analyst&l=united+states&t=1&cursor=ABQADQEEAAAAAAAAAAAAAAACDzWIUQEBAT8IWNN2%2BrX%2BfiuVNL00OQjx%2BJ5FhszBdP6C%2FgIjyvjlY79I0BcRwj6%2BBOr4kY9Nxfttr0mgy5%2BNlUgkzmEVbkZ6IFJ8LfeFiD2F7PPGSVtUCeS9ghWQ5mbRTaCS6yOsnbmERjzIuF6TOHfxtmKN9IeD8T70j691b1m5QTxiQ5O0mqeAKaRb2PogSj%2B01XSXouOIOoonMLokGtc%3D&job=9hl1tDlz2afHVAZCOLt9ldmFHDpoGpljLx_fMgfNHKWSAeqgOmg2yg\n",
      "https://www.simplyhired.com/search?q=Business+Analyst&l=united+states&t=1&cursor=ABQADQEEAAAAAAAAAAAAAAACDzWIUQEBAT8IWNN2%2BrX%2BfiuVNL00OQjx%2BJ5FhszBdP6C%2FgIjyvjlY79I0BcRwj6%2BBOr4kY9Nxfttr0mgy5%2BNlUgkzmEVbkZ6IFJ8LfeFiD2F7PPGSVtUCeS9ghWQ5mbRTaCS6yOsnbmERjzIuF6TOHfxtmKN9IeD8T70j691b1m5QTxiQ5O0mqeAKaRb2PogSj%2B01XSXouOIOoonMLokGtc%3D&job=dG9MO4Qm7PQ72l6zVp5ffwwOVZtdoOBWdYfb7k9CeM5VCqGqJLDp2g\n",
      "https://www.simplyhired.com/search?q=Business+Analyst&l=united+states&t=1&cursor=ABQADQEEAAAAAAAAAAAAAAACDzWIUQEBAT8IWNN2%2BrX%2BfiuVNL00OQjx%2BJ5FhszBdP6C%2FgIjyvjlY79I0BcRwj6%2BBOr4kY9Nxfttr0mgy5%2BNlUgkzmEVbkZ6IFJ8LfeFiD2F7PPGSVtUCeS9ghWQ5mbRTaCS6yOsnbmERjzIuF6TOHfxtmKN9IeD8T70j691b1m5QTxiQ5O0mqeAKaRb2PogSj%2B01XSXouOIOoonMLokGtc%3D&job=u_X2YmmRkZDlmBVB1zeDJmOUP4vAPNV8G5mTtFYGLrVHCYfV7tR6AA\n",
      "https://www.simplyhired.com/search?q=Business+Analyst&l=united+states&t=1&cursor=ABQADQEEAAAAAAAAAAAAAAACDzWIUQEBAT8IWNN2%2BrX%2BfiuVNL00OQjx%2BJ5FhszBdP6C%2FgIjyvjlY79I0BcRwj6%2BBOr4kY9Nxfttr0mgy5%2BNlUgkzmEVbkZ6IFJ8LfeFiD2F7PPGSVtUCeS9ghWQ5mbRTaCS6yOsnbmERjzIuF6TOHfxtmKN9IeD8T70j691b1m5QTxiQ5O0mqeAKaRb2PogSj%2B01XSXouOIOoonMLokGtc%3D&job=B5tqjA4SMwAKjAQKAW4UCUi67bNkepM-JE0aKj27x9xCRo8BkMxWCw\n",
      "https://www.simplyhired.com/search?q=Business+Analyst&l=united+states&t=1&cursor=ABQADQEEAAAAAAAAAAAAAAACDzWIUQEBAT8IWNN2%2BrX%2BfiuVNL00OQjx%2BJ5FhszBdP6C%2FgIjyvjlY79I0BcRwj6%2BBOr4kY9Nxfttr0mgy5%2BNlUgkzmEVbkZ6IFJ8LfeFiD2F7PPGSVtUCeS9ghWQ5mbRTaCS6yOsnbmERjzIuF6TOHfxtmKN9IeD8T70j691b1m5QTxiQ5O0mqeAKaRb2PogSj%2B01XSXouOIOoonMLokGtc%3D&job=zkiWl_J4Vmm-MU9gMfT4TnfESiZZjYTzu18BWSEPuGLxgjWaaCwdpg\n",
      "https://www.simplyhired.com/search?q=Business+Analyst&l=united+states&t=1&cursor=ABQADQEEAAAAAAAAAAAAAAACDzWIUQEBAT8IWNN2%2BrX%2BfiuVNL00OQjx%2BJ5FhszBdP6C%2FgIjyvjlY79I0BcRwj6%2BBOr4kY9Nxfttr0mgy5%2BNlUgkzmEVbkZ6IFJ8LfeFiD2F7PPGSVtUCeS9ghWQ5mbRTaCS6yOsnbmERjzIuF6TOHfxtmKN9IeD8T70j691b1m5QTxiQ5O0mqeAKaRb2PogSj%2B01XSXouOIOoonMLokGtc%3D&job=6zGt8bnD0dETAfUlV2876dR4ZED6Ms1suv_nPJORM9mWkMlq1fyYFw\n",
      "https://www.simplyhired.com/search?q=Business+Analyst&l=united+states&t=1&cursor=ABQADQEEAAAAAAAAAAAAAAACDzWIUQEBAT8IWNN2%2BrX%2BfiuVNL00OQjx%2BJ5FhszBdP6C%2FgIjyvjlY79I0BcRwj6%2BBOr4kY9Nxfttr0mgy5%2BNlUgkzmEVbkZ6IFJ8LfeFiD2F7PPGSVtUCeS9ghWQ5mbRTaCS6yOsnbmERjzIuF6TOHfxtmKN9IeD8T70j691b1m5QTxiQ5O0mqeAKaRb2PogSj%2B01XSXouOIOoonMLokGtc%3D&job=Xzg-iV9C0cwy-lGEewfkC-WELfPNwyOEAmojjFx8caSoJvm1p2BMMg\n",
      "https://www.simplyhired.com/search?q=Business+Analyst&l=united+states&t=1&cursor=ABQADQEEAAAAAAAAAAAAAAACDzWIUQEBAT8IWNN2%2BrX%2BfiuVNL00OQjx%2BJ5FhszBdP6C%2FgIjyvjlY79I0BcRwj6%2BBOr4kY9Nxfttr0mgy5%2BNlUgkzmEVbkZ6IFJ8LfeFiD2F7PPGSVtUCeS9ghWQ5mbRTaCS6yOsnbmERjzIuF6TOHfxtmKN9IeD8T70j691b1m5QTxiQ5O0mqeAKaRb2PogSj%2B01XSXouOIOoonMLokGtc%3D&job=y7Qm44cHOzWR7BMTg8gSM958HAslVtIy3NnvypQIwW4P7GLhfVH0fA\n",
      "https://www.simplyhired.com/search?q=Business+Analyst&l=united+states&t=1&cursor=ABQADQEEAAAAAAAAAAAAAAACDzWIUQEBAT8IWNN2%2BrX%2BfiuVNL00OQjx%2BJ5FhszBdP6C%2FgIjyvjlY79I0BcRwj6%2BBOr4kY9Nxfttr0mgy5%2BNlUgkzmEVbkZ6IFJ8LfeFiD2F7PPGSVtUCeS9ghWQ5mbRTaCS6yOsnbmERjzIuF6TOHfxtmKN9IeD8T70j691b1m5QTxiQ5O0mqeAKaRb2PogSj%2B01XSXouOIOoonMLokGtc%3D&job=WWG5ouiBsMvsbvi5UQAFyfSjkPPGl71gEdo9V_xvtRW7VTb0ukEQ9g\n",
      "https://www.simplyhired.com/search?q=Business+Analyst&l=united+states&t=1&cursor=ABQADQEEAAAAAAAAAAAAAAACDzWIUQEBAT8IWNN2%2BrX%2BfiuVNL00OQjx%2BJ5FhszBdP6C%2FgIjyvjlY79I0BcRwj6%2BBOr4kY9Nxfttr0mgy5%2BNlUgkzmEVbkZ6IFJ8LfeFiD2F7PPGSVtUCeS9ghWQ5mbRTaCS6yOsnbmERjzIuF6TOHfxtmKN9IeD8T70j691b1m5QTxiQ5O0mqeAKaRb2PogSj%2B01XSXouOIOoonMLokGtc%3D&job=kHTQuE1cMO9Z6JuuzbbwcdKTUqLOTblqz3xvya_xeITpWo765wTPLw\n",
      "https://www.simplyhired.com/search?q=Business+Analyst&l=united+states&t=1&cursor=ABQADQEEAAAAAAAAAAAAAAACDzWIUQEBAT8IWNN2%2BrX%2BfiuVNL00OQjx%2BJ5FhszBdP6C%2FgIjyvjlY79I0BcRwj6%2BBOr4kY9Nxfttr0mgy5%2BNlUgkzmEVbkZ6IFJ8LfeFiD2F7PPGSVtUCeS9ghWQ5mbRTaCS6yOsnbmERjzIuF6TOHfxtmKN9IeD8T70j691b1m5QTxiQ5O0mqeAKaRb2PogSj%2B01XSXouOIOoonMLokGtc%3D&job=xv042MuJG_rx7Z1-2KIStYdTBKjlAXEZjIfshkcYs5x2Wb7YvSrgow\n",
      "https://www.simplyhired.com/search?q=Business+Analyst&l=united+states&t=1&cursor=ABQADQEEAAAAAAAAAAAAAAACDzWIUQEBAT8IWNN2%2BrX%2BfiuVNL00OQjx%2BJ5FhszBdP6C%2FgIjyvjlY79I0BcRwj6%2BBOr4kY9Nxfttr0mgy5%2BNlUgkzmEVbkZ6IFJ8LfeFiD2F7PPGSVtUCeS9ghWQ5mbRTaCS6yOsnbmERjzIuF6TOHfxtmKN9IeD8T70j691b1m5QTxiQ5O0mqeAKaRb2PogSj%2B01XSXouOIOoonMLokGtc%3D&job=sMn7jsSF15PDogGnqGgb2y92Y-SbZ2d4F8P9wttaYV0RBIMu7fQohQ\n",
      "https://www.simplyhired.com/search?q=Business+Analyst&l=united+states&t=1&cursor=ABQADQEEAAAAAAAAAAAAAAACDzWIUQEBAT8IWNN2%2BrX%2BfiuVNL00OQjx%2BJ5FhszBdP6C%2FgIjyvjlY79I0BcRwj6%2BBOr4kY9Nxfttr0mgy5%2BNlUgkzmEVbkZ6IFJ8LfeFiD2F7PPGSVtUCeS9ghWQ5mbRTaCS6yOsnbmERjzIuF6TOHfxtmKN9IeD8T70j691b1m5QTxiQ5O0mqeAKaRb2PogSj%2B01XSXouOIOoonMLokGtc%3D&job=iyLMx7iiaUSMZEMcuGuhhYy4arK4KJOMiOgUis5s1gUX5wuybIXk9w\n",
      "https://www.simplyhired.com/search?q=Business+Analyst&l=united+states&t=1&cursor=ABQADQEEAAAAAAAAAAAAAAACDzWIUQEBAT8IWNN2%2BrX%2BfiuVNL00OQjx%2BJ5FhszBdP6C%2FgIjyvjlY79I0BcRwj6%2BBOr4kY9Nxfttr0mgy5%2BNlUgkzmEVbkZ6IFJ8LfeFiD2F7PPGSVtUCeS9ghWQ5mbRTaCS6yOsnbmERjzIuF6TOHfxtmKN9IeD8T70j691b1m5QTxiQ5O0mqeAKaRb2PogSj%2B01XSXouOIOoonMLokGtc%3D&job=hqQywmpnU0_5dHvSy7-6tAd3QpVl-yzZQKVyUEQUn2w2DqijucUsRA\n",
      "https://www.simplyhired.com/search?q=Business+Analyst&l=united+states&t=1&cursor=ABQADQEEAAAAAAAAAAAAAAACDzWIUQEBAT8IWNN2%2BrX%2BfiuVNL00OQjx%2BJ5FhszBdP6C%2FgIjyvjlY79I0BcRwj6%2BBOr4kY9Nxfttr0mgy5%2BNlUgkzmEVbkZ6IFJ8LfeFiD2F7PPGSVtUCeS9ghWQ5mbRTaCS6yOsnbmERjzIuF6TOHfxtmKN9IeD8T70j691b1m5QTxiQ5O0mqeAKaRb2PogSj%2B01XSXouOIOoonMLokGtc%3D&job=x-3ynA8hJqz-ugQZ_idGB5At0Kq1rKlH5rOL3RIb0Ulk6dajcw3JNA\n",
      "https://www.simplyhired.com/search?q=Business+Analyst&l=united+states&t=1&cursor=ABQADQEEAAAAAAAAAAAAAAACDzWIUQEBAT8IWNN2%2BrX%2BfiuVNL00OQjx%2BJ5FhszBdP6C%2FgIjyvjlY79I0BcRwj6%2BBOr4kY9Nxfttr0mgy5%2BNlUgkzmEVbkZ6IFJ8LfeFiD2F7PPGSVtUCeS9ghWQ5mbRTaCS6yOsnbmERjzIuF6TOHfxtmKN9IeD8T70j691b1m5QTxiQ5O0mqeAKaRb2PogSj%2B01XSXouOIOoonMLokGtc%3D&job=19mHXxdtF5a3s0jy40O0FEW0yBxow3QfNFjoDOw8mvsRRblyBPwpdg\n",
      "https://www.simplyhired.com/search?q=Business+Analyst&l=united+states&t=1&cursor=ABQADQEEAAAAAAAAAAAAAAACDzWIUQEBAT8IWNN2%2BrX%2BfiuVNL00OQjx%2BJ5FhszBdP6C%2FgIjyvjlY79I0BcRwj6%2BBOr4kY9Nxfttr0mgy5%2BNlUgkzmEVbkZ6IFJ8LfeFiD2F7PPGSVtUCeS9ghWQ5mbRTaCS6yOsnbmERjzIuF6TOHfxtmKN9IeD8T70j691b1m5QTxiQ5O0mqeAKaRb2PogSj%2B01XSXouOIOoonMLokGtc%3D&job=Xgaki4sge0aKIuhuz8mSts6mM80tzXCiKkJMoNIEypGBm01AMvb90A\n",
      "https://www.simplyhired.com/search?q=Business+Analyst&l=united+states&t=1&cursor=ABQADQEEAAAAAAAAAAAAAAACDzWIUQEBAT8IWNN2%2BrX%2BfiuVNL00OQjx%2BJ5FhszBdP6C%2FgIjyvjlY79I0BcRwj6%2BBOr4kY9Nxfttr0mgy5%2BNlUgkzmEVbkZ6IFJ8LfeFiD2F7PPGSVtUCeS9ghWQ5mbRTaCS6yOsnbmERjzIuF6TOHfxtmKN9IeD8T70j691b1m5QTxiQ5O0mqeAKaRb2PogSj%2B01XSXouOIOoonMLokGtc%3D&job=KgMKkej2zl4Sgk1GsY7XUMkLwJ0Fl39xemqq6Pn3cCpqhqZMMijpRw\n",
      "https://www.simplyhired.com/search?q=Business+Analyst&l=united+states&t=1&cursor=ABQADQEEAAAAAAAAAAAAAAACDzWIUQEBAT8IWNN2%2BrX%2BfiuVNL00OQjx%2BJ5FhszBdP6C%2FgIjyvjlY79I0BcRwj6%2BBOr4kY9Nxfttr0mgy5%2BNlUgkzmEVbkZ6IFJ8LfeFiD2F7PPGSVtUCeS9ghWQ5mbRTaCS6yOsnbmERjzIuF6TOHfxtmKN9IeD8T70j691b1m5QTxiQ5O0mqeAKaRb2PogSj%2B01XSXouOIOoonMLokGtc%3D&job=dMFN7vYCOToQyfKFQpboi_A7MaMsIY0bA9K2cYKM0JfuJBa9Au2Hkw\n",
      "https://www.simplyhired.com/search?q=Business+Analyst&l=united+states&t=1&cursor=ABQADQEEAAAAAAAAAAAAAAACDzWIUQEBAT8IWNN2%2BrX%2BfiuVNL00OQjx%2BJ5FhszBdP6C%2FgIjyvjlY79I0BcRwj6%2BBOr4kY9Nxfttr0mgy5%2BNlUgkzmEVbkZ6IFJ8LfeFiD2F7PPGSVtUCeS9ghWQ5mbRTaCS6yOsnbmERjzIuF6TOHfxtmKN9IeD8T70j691b1m5QTxiQ5O0mqeAKaRb2PogSj%2B01XSXouOIOoonMLokGtc%3D&job=y4a6WSQXHIf7EcgVwqNpN8FQHlu1t9VBO7XLrznd-bXnNLx3CVSaZA\n"
     ]
    },
    {
     "name": "stderr",
     "output_type": "stream",
     "text": [
      "/tmp/ipykernel_5743/3381847202.py:22: FutureWarning: The frame.append method is deprecated and will be removed from pandas in a future version. Use pandas.concat instead.\n",
      "  df = df.append(page_data)\n"
     ]
    },
    {
     "name": "stdout",
     "output_type": "stream",
     "text": [
      "Page Number: 15  Page Link:  https://www.simplyhired.com/search?q=Business+Analyst&l=united+states&t=1&cursor=ABQADgEYAAAAAAAAAAAAAAACDzWIUQEBAT9OS1cyJxcNzvX8HhbyXr1O235YvPsSBEV1bMI6LHeu9dm7zp9o5TVSHAlU%2FZ7q7bUAk5ekodgpyXq9guiXrqPWEVstqn6yRbx6vwHoyamy1tIWWrnEB12VPLNdpa1eFtXMFEXiHysClBD5%2B9L5kNrwEHdQN2GT5N6RSW8d9h0h2TaiPuimNgeKcE6dorMJmJ1FD7FfD9rsnDy1\n",
      "https://www.simplyhired.com/search?q=Business+Analyst&l=united+states&t=1&cursor=ABQADgEYAAAAAAAAAAAAAAACDzWIUQEBAT9OS1cyJxcNzvX8HhbyXr1O235YvPsSBEV1bMI6LHeu9dm7zp9o5TVSHAlU%2FZ7q7bUAk5ekodgpyXq9guiXrqPWEVstqn6yRbx6vwHoyamy1tIWWrnEB12VPLNdpa1eFtXMFEXiHysClBD5%2B9L5kNrwEHdQN2GT5N6RSW8d9h0h2TaiPuimNgeKcE6dorMJmJ1FD7FfD9rsnDy1&job=7dGgJ5HylAf35ReOjQ9NcOy6CM-KESmP5cxHoIPjyc67Fy2tKeIkpg\n",
      "https://www.simplyhired.com/search?q=Business+Analyst&l=united+states&t=1&cursor=ABQADgEYAAAAAAAAAAAAAAACDzWIUQEBAT9OS1cyJxcNzvX8HhbyXr1O235YvPsSBEV1bMI6LHeu9dm7zp9o5TVSHAlU%2FZ7q7bUAk5ekodgpyXq9guiXrqPWEVstqn6yRbx6vwHoyamy1tIWWrnEB12VPLNdpa1eFtXMFEXiHysClBD5%2B9L5kNrwEHdQN2GT5N6RSW8d9h0h2TaiPuimNgeKcE6dorMJmJ1FD7FfD9rsnDy1&job=2srnoRBaUtxOEzYNlTuwdR5s5zttTZlMU3us15_EPqC6z3TZJrXsaQ\n",
      "https://www.simplyhired.com/search?q=Business+Analyst&l=united+states&t=1&cursor=ABQADgEYAAAAAAAAAAAAAAACDzWIUQEBAT9OS1cyJxcNzvX8HhbyXr1O235YvPsSBEV1bMI6LHeu9dm7zp9o5TVSHAlU%2FZ7q7bUAk5ekodgpyXq9guiXrqPWEVstqn6yRbx6vwHoyamy1tIWWrnEB12VPLNdpa1eFtXMFEXiHysClBD5%2B9L5kNrwEHdQN2GT5N6RSW8d9h0h2TaiPuimNgeKcE6dorMJmJ1FD7FfD9rsnDy1&job=OJ_dFEqxmRmHTJtNXyE9V-khVQM94Kzk0ZqI9YW7-pnur-cYLnmoPg\n",
      "https://www.simplyhired.com/search?q=Business+Analyst&l=united+states&t=1&cursor=ABQADgEYAAAAAAAAAAAAAAACDzWIUQEBAT9OS1cyJxcNzvX8HhbyXr1O235YvPsSBEV1bMI6LHeu9dm7zp9o5TVSHAlU%2FZ7q7bUAk5ekodgpyXq9guiXrqPWEVstqn6yRbx6vwHoyamy1tIWWrnEB12VPLNdpa1eFtXMFEXiHysClBD5%2B9L5kNrwEHdQN2GT5N6RSW8d9h0h2TaiPuimNgeKcE6dorMJmJ1FD7FfD9rsnDy1&job=Uy7KwR4HSR0gfmFaVs6DAhf3v14DaV5tuoOLZ2uOUeIGh_s-95vMHg\n",
      "https://www.simplyhired.com/search?q=Business+Analyst&l=united+states&t=1&cursor=ABQADgEYAAAAAAAAAAAAAAACDzWIUQEBAT9OS1cyJxcNzvX8HhbyXr1O235YvPsSBEV1bMI6LHeu9dm7zp9o5TVSHAlU%2FZ7q7bUAk5ekodgpyXq9guiXrqPWEVstqn6yRbx6vwHoyamy1tIWWrnEB12VPLNdpa1eFtXMFEXiHysClBD5%2B9L5kNrwEHdQN2GT5N6RSW8d9h0h2TaiPuimNgeKcE6dorMJmJ1FD7FfD9rsnDy1&job=aDPTDpvGauUa_HKc_Q1N1KEePKDawpnaeTYEPg5f6av3KHOYlT2h7w\n",
      "https://www.simplyhired.com/search?q=Business+Analyst&l=united+states&t=1&cursor=ABQADgEYAAAAAAAAAAAAAAACDzWIUQEBAT9OS1cyJxcNzvX8HhbyXr1O235YvPsSBEV1bMI6LHeu9dm7zp9o5TVSHAlU%2FZ7q7bUAk5ekodgpyXq9guiXrqPWEVstqn6yRbx6vwHoyamy1tIWWrnEB12VPLNdpa1eFtXMFEXiHysClBD5%2B9L5kNrwEHdQN2GT5N6RSW8d9h0h2TaiPuimNgeKcE6dorMJmJ1FD7FfD9rsnDy1&job=TDTMug5SSr-pUhhOWDJszcpwqXcmRfNA5qYXjiwQ4Jy4haC2gXKthg\n",
      "https://www.simplyhired.com/search?q=Business+Analyst&l=united+states&t=1&cursor=ABQADgEYAAAAAAAAAAAAAAACDzWIUQEBAT9OS1cyJxcNzvX8HhbyXr1O235YvPsSBEV1bMI6LHeu9dm7zp9o5TVSHAlU%2FZ7q7bUAk5ekodgpyXq9guiXrqPWEVstqn6yRbx6vwHoyamy1tIWWrnEB12VPLNdpa1eFtXMFEXiHysClBD5%2B9L5kNrwEHdQN2GT5N6RSW8d9h0h2TaiPuimNgeKcE6dorMJmJ1FD7FfD9rsnDy1&job=aonxiHxNxlCJfozA8VVgKpPQCFc04K-UvEnNcFhxhDUPdvjZzE9UWg\n",
      "https://www.simplyhired.com/search?q=Business+Analyst&l=united+states&t=1&cursor=ABQADgEYAAAAAAAAAAAAAAACDzWIUQEBAT9OS1cyJxcNzvX8HhbyXr1O235YvPsSBEV1bMI6LHeu9dm7zp9o5TVSHAlU%2FZ7q7bUAk5ekodgpyXq9guiXrqPWEVstqn6yRbx6vwHoyamy1tIWWrnEB12VPLNdpa1eFtXMFEXiHysClBD5%2B9L5kNrwEHdQN2GT5N6RSW8d9h0h2TaiPuimNgeKcE6dorMJmJ1FD7FfD9rsnDy1&job=tfBRwOhdOIxSZuACQSPP9EuyHlKUq6HRVdWRh6hWZ31ajCkx5riHsA\n",
      "https://www.simplyhired.com/search?q=Business+Analyst&l=united+states&t=1&cursor=ABQADgEYAAAAAAAAAAAAAAACDzWIUQEBAT9OS1cyJxcNzvX8HhbyXr1O235YvPsSBEV1bMI6LHeu9dm7zp9o5TVSHAlU%2FZ7q7bUAk5ekodgpyXq9guiXrqPWEVstqn6yRbx6vwHoyamy1tIWWrnEB12VPLNdpa1eFtXMFEXiHysClBD5%2B9L5kNrwEHdQN2GT5N6RSW8d9h0h2TaiPuimNgeKcE6dorMJmJ1FD7FfD9rsnDy1&job=aPT7uUi5P01iMkAYx1TJ7yRh1NTE2SD-ioQeA0y3Q-ikhKPsxE29Fw\n",
      "https://www.simplyhired.com/search?q=Business+Analyst&l=united+states&t=1&cursor=ABQADgEYAAAAAAAAAAAAAAACDzWIUQEBAT9OS1cyJxcNzvX8HhbyXr1O235YvPsSBEV1bMI6LHeu9dm7zp9o5TVSHAlU%2FZ7q7bUAk5ekodgpyXq9guiXrqPWEVstqn6yRbx6vwHoyamy1tIWWrnEB12VPLNdpa1eFtXMFEXiHysClBD5%2B9L5kNrwEHdQN2GT5N6RSW8d9h0h2TaiPuimNgeKcE6dorMJmJ1FD7FfD9rsnDy1&job=w-5a7klpxhD0prWuHHhaE6u3ubyJrxwimqaz5koxl7GfHDHnelS93A\n",
      "https://www.simplyhired.com/search?q=Business+Analyst&l=united+states&t=1&cursor=ABQADgEYAAAAAAAAAAAAAAACDzWIUQEBAT9OS1cyJxcNzvX8HhbyXr1O235YvPsSBEV1bMI6LHeu9dm7zp9o5TVSHAlU%2FZ7q7bUAk5ekodgpyXq9guiXrqPWEVstqn6yRbx6vwHoyamy1tIWWrnEB12VPLNdpa1eFtXMFEXiHysClBD5%2B9L5kNrwEHdQN2GT5N6RSW8d9h0h2TaiPuimNgeKcE6dorMJmJ1FD7FfD9rsnDy1&job=TKXSvYXhj_lBuld0_14sYKomIVB2nSIkst_5Y7NdYtm7WebzT_sQqw\n",
      "https://www.simplyhired.com/search?q=Business+Analyst&l=united+states&t=1&cursor=ABQADgEYAAAAAAAAAAAAAAACDzWIUQEBAT9OS1cyJxcNzvX8HhbyXr1O235YvPsSBEV1bMI6LHeu9dm7zp9o5TVSHAlU%2FZ7q7bUAk5ekodgpyXq9guiXrqPWEVstqn6yRbx6vwHoyamy1tIWWrnEB12VPLNdpa1eFtXMFEXiHysClBD5%2B9L5kNrwEHdQN2GT5N6RSW8d9h0h2TaiPuimNgeKcE6dorMJmJ1FD7FfD9rsnDy1&job=bTKheZ7MfrzjhYcUPQOgQt1_mLi0qJPKqEW17Obgo-TfXpf9NlJdBw\n",
      "https://www.simplyhired.com/search?q=Business+Analyst&l=united+states&t=1&cursor=ABQADgEYAAAAAAAAAAAAAAACDzWIUQEBAT9OS1cyJxcNzvX8HhbyXr1O235YvPsSBEV1bMI6LHeu9dm7zp9o5TVSHAlU%2FZ7q7bUAk5ekodgpyXq9guiXrqPWEVstqn6yRbx6vwHoyamy1tIWWrnEB12VPLNdpa1eFtXMFEXiHysClBD5%2B9L5kNrwEHdQN2GT5N6RSW8d9h0h2TaiPuimNgeKcE6dorMJmJ1FD7FfD9rsnDy1&job=vLwUHoOWiIF159XAIWZSnUJpXoOuMZcAuD-4rqQzTC3Kan13MgQ1wA\n",
      "https://www.simplyhired.com/search?q=Business+Analyst&l=united+states&t=1&cursor=ABQADgEYAAAAAAAAAAAAAAACDzWIUQEBAT9OS1cyJxcNzvX8HhbyXr1O235YvPsSBEV1bMI6LHeu9dm7zp9o5TVSHAlU%2FZ7q7bUAk5ekodgpyXq9guiXrqPWEVstqn6yRbx6vwHoyamy1tIWWrnEB12VPLNdpa1eFtXMFEXiHysClBD5%2B9L5kNrwEHdQN2GT5N6RSW8d9h0h2TaiPuimNgeKcE6dorMJmJ1FD7FfD9rsnDy1&job=OSvLhWiKUyZmdeWr_iiKw-pPumjPdqacDymUqgJWaWgmhuSGe8CD0w\n",
      "https://www.simplyhired.com/search?q=Business+Analyst&l=united+states&t=1&cursor=ABQADgEYAAAAAAAAAAAAAAACDzWIUQEBAT9OS1cyJxcNzvX8HhbyXr1O235YvPsSBEV1bMI6LHeu9dm7zp9o5TVSHAlU%2FZ7q7bUAk5ekodgpyXq9guiXrqPWEVstqn6yRbx6vwHoyamy1tIWWrnEB12VPLNdpa1eFtXMFEXiHysClBD5%2B9L5kNrwEHdQN2GT5N6RSW8d9h0h2TaiPuimNgeKcE6dorMJmJ1FD7FfD9rsnDy1&job=-25CC8OfKm5Z8_gfac5L8Lg8LG-2KbpVYnaOf-slznm5RuqhXPjwQQ\n",
      "https://www.simplyhired.com/search?q=Business+Analyst&l=united+states&t=1&cursor=ABQADgEYAAAAAAAAAAAAAAACDzWIUQEBAT9OS1cyJxcNzvX8HhbyXr1O235YvPsSBEV1bMI6LHeu9dm7zp9o5TVSHAlU%2FZ7q7bUAk5ekodgpyXq9guiXrqPWEVstqn6yRbx6vwHoyamy1tIWWrnEB12VPLNdpa1eFtXMFEXiHysClBD5%2B9L5kNrwEHdQN2GT5N6RSW8d9h0h2TaiPuimNgeKcE6dorMJmJ1FD7FfD9rsnDy1&job=WNEfCwbBlLTjCq4gSDufGA2oE8GwavXaWH0EsNuh6krCuvTkHuvW4g\n",
      "https://www.simplyhired.com/search?q=Business+Analyst&l=united+states&t=1&cursor=ABQADgEYAAAAAAAAAAAAAAACDzWIUQEBAT9OS1cyJxcNzvX8HhbyXr1O235YvPsSBEV1bMI6LHeu9dm7zp9o5TVSHAlU%2FZ7q7bUAk5ekodgpyXq9guiXrqPWEVstqn6yRbx6vwHoyamy1tIWWrnEB12VPLNdpa1eFtXMFEXiHysClBD5%2B9L5kNrwEHdQN2GT5N6RSW8d9h0h2TaiPuimNgeKcE6dorMJmJ1FD7FfD9rsnDy1&job=s4FDzpUlnB4KlMNJJDIwb4LUHLYvc7lj7lDuKXZ68wNjNqu9WOqHTA\n",
      "https://www.simplyhired.com/search?q=Business+Analyst&l=united+states&t=1&cursor=ABQADgEYAAAAAAAAAAAAAAACDzWIUQEBAT9OS1cyJxcNzvX8HhbyXr1O235YvPsSBEV1bMI6LHeu9dm7zp9o5TVSHAlU%2FZ7q7bUAk5ekodgpyXq9guiXrqPWEVstqn6yRbx6vwHoyamy1tIWWrnEB12VPLNdpa1eFtXMFEXiHysClBD5%2B9L5kNrwEHdQN2GT5N6RSW8d9h0h2TaiPuimNgeKcE6dorMJmJ1FD7FfD9rsnDy1&job=HAjHVKj1HIh3UkOpa8O4p6BwZnxjRq6nX89CZ4dgHFUzX7M_9Rwnjw\n",
      "https://www.simplyhired.com/search?q=Business+Analyst&l=united+states&t=1&cursor=ABQADgEYAAAAAAAAAAAAAAACDzWIUQEBAT9OS1cyJxcNzvX8HhbyXr1O235YvPsSBEV1bMI6LHeu9dm7zp9o5TVSHAlU%2FZ7q7bUAk5ekodgpyXq9guiXrqPWEVstqn6yRbx6vwHoyamy1tIWWrnEB12VPLNdpa1eFtXMFEXiHysClBD5%2B9L5kNrwEHdQN2GT5N6RSW8d9h0h2TaiPuimNgeKcE6dorMJmJ1FD7FfD9rsnDy1&job=-Eq22jC1PU2O6UZ1L4cX4RynLmoS8atDrgSHPxagQO5z37pjWcbU_A\n",
      "https://www.simplyhired.com/search?q=Business+Analyst&l=united+states&t=1&cursor=ABQADgEYAAAAAAAAAAAAAAACDzWIUQEBAT9OS1cyJxcNzvX8HhbyXr1O235YvPsSBEV1bMI6LHeu9dm7zp9o5TVSHAlU%2FZ7q7bUAk5ekodgpyXq9guiXrqPWEVstqn6yRbx6vwHoyamy1tIWWrnEB12VPLNdpa1eFtXMFEXiHysClBD5%2B9L5kNrwEHdQN2GT5N6RSW8d9h0h2TaiPuimNgeKcE6dorMJmJ1FD7FfD9rsnDy1&job=H-Yl33C8ZdOpJ5nSQ6Sp5yZvdKt96nhY5uR8qm3I5YBlPYUS2E5I1g\n"
     ]
    },
    {
     "name": "stderr",
     "output_type": "stream",
     "text": [
      "/tmp/ipykernel_5743/3381847202.py:22: FutureWarning: The frame.append method is deprecated and will be removed from pandas in a future version. Use pandas.concat instead.\n",
      "  df = df.append(page_data)\n"
     ]
    },
    {
     "name": "stdout",
     "output_type": "stream",
     "text": [
      "Page Number: 16  Page Link:  https://www.simplyhired.com/search?q=Business+Analyst&l=united+states&t=1&cursor=ABQADwEsAAAAAAAAAAAAAAACDzWIUQEBAT8V8JYe69J%2F2AS7hW%2BVmQ2YxfkzHpJjpuJUtH%2FYKNhJIXMSs1BJg%2Fe0M1KuZSmUQp45bWg4cTP1D86qtu0Cy5RbyviiDhZuiSW1f3CGPc5Q0kiPfWcWTXp8osO0mJrYZTma%2FZi%2F6q7u%2FZljlSOkiykehTRtQltfkqHtHAMXkYBqB97yvfjboINn2kkk2CTCgQ%3D%3D\n",
      "https://www.simplyhired.com/search?q=Business+Analyst&l=united+states&t=1&cursor=ABQADwEsAAAAAAAAAAAAAAACDzWIUQEBAT8V8JYe69J%2F2AS7hW%2BVmQ2YxfkzHpJjpuJUtH%2FYKNhJIXMSs1BJg%2Fe0M1KuZSmUQp45bWg4cTP1D86qtu0Cy5RbyviiDhZuiSW1f3CGPc5Q0kiPfWcWTXp8osO0mJrYZTma%2FZi%2F6q7u%2FZljlSOkiykehTRtQltfkqHtHAMXkYBqB97yvfjboINn2kkk2CTCgQ%3D%3D&job=6Y5sB4-lT5NgEVxAf8vjCG3moFv0cCOMlJRN0u4Lv5Ztm69L-gMMOg\n",
      "https://www.simplyhired.com/search?q=Business+Analyst&l=united+states&t=1&cursor=ABQADwEsAAAAAAAAAAAAAAACDzWIUQEBAT8V8JYe69J%2F2AS7hW%2BVmQ2YxfkzHpJjpuJUtH%2FYKNhJIXMSs1BJg%2Fe0M1KuZSmUQp45bWg4cTP1D86qtu0Cy5RbyviiDhZuiSW1f3CGPc5Q0kiPfWcWTXp8osO0mJrYZTma%2FZi%2F6q7u%2FZljlSOkiykehTRtQltfkqHtHAMXkYBqB97yvfjboINn2kkk2CTCgQ%3D%3D&job=VOmfx32ETATfLe27FbSfJS0yO4S1UAgYxsBc8Wq7bcMrBnAxcNrhEg\n",
      "https://www.simplyhired.com/search?q=Business+Analyst&l=united+states&t=1&cursor=ABQADwEsAAAAAAAAAAAAAAACDzWIUQEBAT8V8JYe69J%2F2AS7hW%2BVmQ2YxfkzHpJjpuJUtH%2FYKNhJIXMSs1BJg%2Fe0M1KuZSmUQp45bWg4cTP1D86qtu0Cy5RbyviiDhZuiSW1f3CGPc5Q0kiPfWcWTXp8osO0mJrYZTma%2FZi%2F6q7u%2FZljlSOkiykehTRtQltfkqHtHAMXkYBqB97yvfjboINn2kkk2CTCgQ%3D%3D&job=rthY1l2rtYm7cXwBitqTIsRdcJiFsSVQ93hQceUgCv80L-54bD568w\n",
      "https://www.simplyhired.com/search?q=Business+Analyst&l=united+states&t=1&cursor=ABQADwEsAAAAAAAAAAAAAAACDzWIUQEBAT8V8JYe69J%2F2AS7hW%2BVmQ2YxfkzHpJjpuJUtH%2FYKNhJIXMSs1BJg%2Fe0M1KuZSmUQp45bWg4cTP1D86qtu0Cy5RbyviiDhZuiSW1f3CGPc5Q0kiPfWcWTXp8osO0mJrYZTma%2FZi%2F6q7u%2FZljlSOkiykehTRtQltfkqHtHAMXkYBqB97yvfjboINn2kkk2CTCgQ%3D%3D&job=T2N3XxL9-jfOhDe-LB7XAchZLCYWGZG4bFdV67d0X0A4xgq-YCz6kQ\n",
      "https://www.simplyhired.com/search?q=Business+Analyst&l=united+states&t=1&cursor=ABQADwEsAAAAAAAAAAAAAAACDzWIUQEBAT8V8JYe69J%2F2AS7hW%2BVmQ2YxfkzHpJjpuJUtH%2FYKNhJIXMSs1BJg%2Fe0M1KuZSmUQp45bWg4cTP1D86qtu0Cy5RbyviiDhZuiSW1f3CGPc5Q0kiPfWcWTXp8osO0mJrYZTma%2FZi%2F6q7u%2FZljlSOkiykehTRtQltfkqHtHAMXkYBqB97yvfjboINn2kkk2CTCgQ%3D%3D&job=CLrVuL2mtyIWCZqGeygHB1EFZWwczYa_lI7A5P31SnBFvk6EKXEBQw\n",
      "https://www.simplyhired.com/search?q=Business+Analyst&l=united+states&t=1&cursor=ABQADwEsAAAAAAAAAAAAAAACDzWIUQEBAT8V8JYe69J%2F2AS7hW%2BVmQ2YxfkzHpJjpuJUtH%2FYKNhJIXMSs1BJg%2Fe0M1KuZSmUQp45bWg4cTP1D86qtu0Cy5RbyviiDhZuiSW1f3CGPc5Q0kiPfWcWTXp8osO0mJrYZTma%2FZi%2F6q7u%2FZljlSOkiykehTRtQltfkqHtHAMXkYBqB97yvfjboINn2kkk2CTCgQ%3D%3D&job=Am5RLbF3fe0PtTL7VbgNlgwmCrgs9TlU2b5sJH3eFB-iPciSgFptfw\n",
      "https://www.simplyhired.com/search?q=Business+Analyst&l=united+states&t=1&cursor=ABQADwEsAAAAAAAAAAAAAAACDzWIUQEBAT8V8JYe69J%2F2AS7hW%2BVmQ2YxfkzHpJjpuJUtH%2FYKNhJIXMSs1BJg%2Fe0M1KuZSmUQp45bWg4cTP1D86qtu0Cy5RbyviiDhZuiSW1f3CGPc5Q0kiPfWcWTXp8osO0mJrYZTma%2FZi%2F6q7u%2FZljlSOkiykehTRtQltfkqHtHAMXkYBqB97yvfjboINn2kkk2CTCgQ%3D%3D&job=UWfVo_MBed0ZxxXCeRDaVf0-sERWTPuoxMVMUF7r6J9YWofWoMuPmg\n",
      "https://www.simplyhired.com/search?q=Business+Analyst&l=united+states&t=1&cursor=ABQADwEsAAAAAAAAAAAAAAACDzWIUQEBAT8V8JYe69J%2F2AS7hW%2BVmQ2YxfkzHpJjpuJUtH%2FYKNhJIXMSs1BJg%2Fe0M1KuZSmUQp45bWg4cTP1D86qtu0Cy5RbyviiDhZuiSW1f3CGPc5Q0kiPfWcWTXp8osO0mJrYZTma%2FZi%2F6q7u%2FZljlSOkiykehTRtQltfkqHtHAMXkYBqB97yvfjboINn2kkk2CTCgQ%3D%3D&job=NJBlLuWV4UP8pNcuQjEJ5JVQOVzkpH_H6YLdOtuqywHfpfU276QCSw\n",
      "https://www.simplyhired.com/search?q=Business+Analyst&l=united+states&t=1&cursor=ABQADwEsAAAAAAAAAAAAAAACDzWIUQEBAT8V8JYe69J%2F2AS7hW%2BVmQ2YxfkzHpJjpuJUtH%2FYKNhJIXMSs1BJg%2Fe0M1KuZSmUQp45bWg4cTP1D86qtu0Cy5RbyviiDhZuiSW1f3CGPc5Q0kiPfWcWTXp8osO0mJrYZTma%2FZi%2F6q7u%2FZljlSOkiykehTRtQltfkqHtHAMXkYBqB97yvfjboINn2kkk2CTCgQ%3D%3D&job=FijKnb4m3MSendUuaD__iK5Lf3mL2KCaSrOEz2qrUVEjOlvoV5C28g\n",
      "https://www.simplyhired.com/search?q=Business+Analyst&l=united+states&t=1&cursor=ABQADwEsAAAAAAAAAAAAAAACDzWIUQEBAT8V8JYe69J%2F2AS7hW%2BVmQ2YxfkzHpJjpuJUtH%2FYKNhJIXMSs1BJg%2Fe0M1KuZSmUQp45bWg4cTP1D86qtu0Cy5RbyviiDhZuiSW1f3CGPc5Q0kiPfWcWTXp8osO0mJrYZTma%2FZi%2F6q7u%2FZljlSOkiykehTRtQltfkqHtHAMXkYBqB97yvfjboINn2kkk2CTCgQ%3D%3D&job=B3lX2ZXvMHfacJaTeIfzMYaAG0eh3dbjM7EawCheN5FK-dCVDPIZCA\n",
      "https://www.simplyhired.com/search?q=Business+Analyst&l=united+states&t=1&cursor=ABQADwEsAAAAAAAAAAAAAAACDzWIUQEBAT8V8JYe69J%2F2AS7hW%2BVmQ2YxfkzHpJjpuJUtH%2FYKNhJIXMSs1BJg%2Fe0M1KuZSmUQp45bWg4cTP1D86qtu0Cy5RbyviiDhZuiSW1f3CGPc5Q0kiPfWcWTXp8osO0mJrYZTma%2FZi%2F6q7u%2FZljlSOkiykehTRtQltfkqHtHAMXkYBqB97yvfjboINn2kkk2CTCgQ%3D%3D&job=dmW6JBCGJZTuDWg26gW3hGB8LOG_LlCxBLXn1QcF9rZcax-4WR2A9g\n",
      "https://www.simplyhired.com/search?q=Business+Analyst&l=united+states&t=1&cursor=ABQADwEsAAAAAAAAAAAAAAACDzWIUQEBAT8V8JYe69J%2F2AS7hW%2BVmQ2YxfkzHpJjpuJUtH%2FYKNhJIXMSs1BJg%2Fe0M1KuZSmUQp45bWg4cTP1D86qtu0Cy5RbyviiDhZuiSW1f3CGPc5Q0kiPfWcWTXp8osO0mJrYZTma%2FZi%2F6q7u%2FZljlSOkiykehTRtQltfkqHtHAMXkYBqB97yvfjboINn2kkk2CTCgQ%3D%3D&job=bEQnbDihDdQF1CYX-Yr_l171awyrJyEoEixdCd_Als4z1qdtrOZt4g\n",
      "https://www.simplyhired.com/search?q=Business+Analyst&l=united+states&t=1&cursor=ABQADwEsAAAAAAAAAAAAAAACDzWIUQEBAT8V8JYe69J%2F2AS7hW%2BVmQ2YxfkzHpJjpuJUtH%2FYKNhJIXMSs1BJg%2Fe0M1KuZSmUQp45bWg4cTP1D86qtu0Cy5RbyviiDhZuiSW1f3CGPc5Q0kiPfWcWTXp8osO0mJrYZTma%2FZi%2F6q7u%2FZljlSOkiykehTRtQltfkqHtHAMXkYBqB97yvfjboINn2kkk2CTCgQ%3D%3D&job=PuJKBhVkvMrVCvQtFeMRrZkhM-fZUncEt50hOBrkcl10zCfYTko2WA\n",
      "https://www.simplyhired.com/search?q=Business+Analyst&l=united+states&t=1&cursor=ABQADwEsAAAAAAAAAAAAAAACDzWIUQEBAT8V8JYe69J%2F2AS7hW%2BVmQ2YxfkzHpJjpuJUtH%2FYKNhJIXMSs1BJg%2Fe0M1KuZSmUQp45bWg4cTP1D86qtu0Cy5RbyviiDhZuiSW1f3CGPc5Q0kiPfWcWTXp8osO0mJrYZTma%2FZi%2F6q7u%2FZljlSOkiykehTRtQltfkqHtHAMXkYBqB97yvfjboINn2kkk2CTCgQ%3D%3D&job=yClXCxbpgmZ9zzQ7Zo3JyatYLfpSAliG9VUp0wpy1gSUWK-i-EIAPQ\n",
      "https://www.simplyhired.com/search?q=Business+Analyst&l=united+states&t=1&cursor=ABQADwEsAAAAAAAAAAAAAAACDzWIUQEBAT8V8JYe69J%2F2AS7hW%2BVmQ2YxfkzHpJjpuJUtH%2FYKNhJIXMSs1BJg%2Fe0M1KuZSmUQp45bWg4cTP1D86qtu0Cy5RbyviiDhZuiSW1f3CGPc5Q0kiPfWcWTXp8osO0mJrYZTma%2FZi%2F6q7u%2FZljlSOkiykehTRtQltfkqHtHAMXkYBqB97yvfjboINn2kkk2CTCgQ%3D%3D&job=Vg2Vjx7vY_l5NIgWst8u-vqY09QJUmtfjU-GVDmT6CSy3KfKkCIRpw\n",
      "https://www.simplyhired.com/search?q=Business+Analyst&l=united+states&t=1&cursor=ABQADwEsAAAAAAAAAAAAAAACDzWIUQEBAT8V8JYe69J%2F2AS7hW%2BVmQ2YxfkzHpJjpuJUtH%2FYKNhJIXMSs1BJg%2Fe0M1KuZSmUQp45bWg4cTP1D86qtu0Cy5RbyviiDhZuiSW1f3CGPc5Q0kiPfWcWTXp8osO0mJrYZTma%2FZi%2F6q7u%2FZljlSOkiykehTRtQltfkqHtHAMXkYBqB97yvfjboINn2kkk2CTCgQ%3D%3D&job=wOZM1vT5sgKPyjykqgUeSVdnVV44940wwPUssse_Oyjj_VT5WsANxA\n",
      "https://www.simplyhired.com/search?q=Business+Analyst&l=united+states&t=1&cursor=ABQADwEsAAAAAAAAAAAAAAACDzWIUQEBAT8V8JYe69J%2F2AS7hW%2BVmQ2YxfkzHpJjpuJUtH%2FYKNhJIXMSs1BJg%2Fe0M1KuZSmUQp45bWg4cTP1D86qtu0Cy5RbyviiDhZuiSW1f3CGPc5Q0kiPfWcWTXp8osO0mJrYZTma%2FZi%2F6q7u%2FZljlSOkiykehTRtQltfkqHtHAMXkYBqB97yvfjboINn2kkk2CTCgQ%3D%3D&job=PRMBMAPk9NA1-IEr2z4qgGV-ukKgVJgkCupglzG42b7FI-hYaqC8ew\n",
      "https://www.simplyhired.com/search?q=Business+Analyst&l=united+states&t=1&cursor=ABQADwEsAAAAAAAAAAAAAAACDzWIUQEBAT8V8JYe69J%2F2AS7hW%2BVmQ2YxfkzHpJjpuJUtH%2FYKNhJIXMSs1BJg%2Fe0M1KuZSmUQp45bWg4cTP1D86qtu0Cy5RbyviiDhZuiSW1f3CGPc5Q0kiPfWcWTXp8osO0mJrYZTma%2FZi%2F6q7u%2FZljlSOkiykehTRtQltfkqHtHAMXkYBqB97yvfjboINn2kkk2CTCgQ%3D%3D&job=bM3j5DKfKXOpYjascEoABUVat6cYw9PBADvPZb2QilbJ81N11fAr0A\n",
      "https://www.simplyhired.com/search?q=Business+Analyst&l=united+states&t=1&cursor=ABQADwEsAAAAAAAAAAAAAAACDzWIUQEBAT8V8JYe69J%2F2AS7hW%2BVmQ2YxfkzHpJjpuJUtH%2FYKNhJIXMSs1BJg%2Fe0M1KuZSmUQp45bWg4cTP1D86qtu0Cy5RbyviiDhZuiSW1f3CGPc5Q0kiPfWcWTXp8osO0mJrYZTma%2FZi%2F6q7u%2FZljlSOkiykehTRtQltfkqHtHAMXkYBqB97yvfjboINn2kkk2CTCgQ%3D%3D&job=cUm3Q4PBYb3eoC_je9Yu-w_WVdfTdN7JNmUdHO5HbEVrQjROpoq1xg\n",
      "https://www.simplyhired.com/search?q=Business+Analyst&l=united+states&t=1&cursor=ABQADwEsAAAAAAAAAAAAAAACDzWIUQEBAT8V8JYe69J%2F2AS7hW%2BVmQ2YxfkzHpJjpuJUtH%2FYKNhJIXMSs1BJg%2Fe0M1KuZSmUQp45bWg4cTP1D86qtu0Cy5RbyviiDhZuiSW1f3CGPc5Q0kiPfWcWTXp8osO0mJrYZTma%2FZi%2F6q7u%2FZljlSOkiykehTRtQltfkqHtHAMXkYBqB97yvfjboINn2kkk2CTCgQ%3D%3D&job=nQCOfuB5fGLCeUJkcfKbgizlTNfAAnt-Z7JE6O2GzKRKtcyb4frLKA\n"
     ]
    },
    {
     "name": "stderr",
     "output_type": "stream",
     "text": [
      "/tmp/ipykernel_5743/3381847202.py:22: FutureWarning: The frame.append method is deprecated and will be removed from pandas in a future version. Use pandas.concat instead.\n",
      "  df = df.append(page_data)\n"
     ]
    },
    {
     "name": "stdout",
     "output_type": "stream",
     "text": [
      "Page Number: 17  Page Link:  https://www.simplyhired.com/search?q=Business+Analyst&l=united+states&t=1&cursor=ABQAEAFAAAAAAAAAAAAAAAACDzWIUQECAStYEwYz7uHAdz%2BM5fTdDlgxrs9654dQLfPSEj5FsCF%2FJeLkA0%2B9On36tnskKUDlTXKaq9%2F5yiURbsd2ll3gJoyL70MzymQ95I3%2FG2Ub61jBNokSHR50qduGgqdHNq3tBh9qUCYdVEnyVjgRg9P1xRLwNGuHENd9jYe3h%2BvkuUaZ%2FQPwFrz8IwAIfRmf6g%3D%3D\n",
      "https://www.simplyhired.com/search?q=Business+Analyst&l=united+states&t=1&cursor=ABQAEAFAAAAAAAAAAAAAAAACDzWIUQECAStYEwYz7uHAdz%2BM5fTdDlgxrs9654dQLfPSEj5FsCF%2FJeLkA0%2B9On36tnskKUDlTXKaq9%2F5yiURbsd2ll3gJoyL70MzymQ95I3%2FG2Ub61jBNokSHR50qduGgqdHNq3tBh9qUCYdVEnyVjgRg9P1xRLwNGuHENd9jYe3h%2BvkuUaZ%2FQPwFrz8IwAIfRmf6g%3D%3D&job=8QNivWEkpDDyXsDukuB8FLtBrwAuTl-YuCnBnIXklcKQTM8PtRG3Qg\n",
      "https://www.simplyhired.com/search?q=Business+Analyst&l=united+states&t=1&cursor=ABQAEAFAAAAAAAAAAAAAAAACDzWIUQECAStYEwYz7uHAdz%2BM5fTdDlgxrs9654dQLfPSEj5FsCF%2FJeLkA0%2B9On36tnskKUDlTXKaq9%2F5yiURbsd2ll3gJoyL70MzymQ95I3%2FG2Ub61jBNokSHR50qduGgqdHNq3tBh9qUCYdVEnyVjgRg9P1xRLwNGuHENd9jYe3h%2BvkuUaZ%2FQPwFrz8IwAIfRmf6g%3D%3D&job=O5Ebg3XA28j8sdWJcKVSp5AkOGXcU2sQNsYq1yi2x-Dum6kJlY_INA\n",
      "https://www.simplyhired.com/search?q=Business+Analyst&l=united+states&t=1&cursor=ABQAEAFAAAAAAAAAAAAAAAACDzWIUQECAStYEwYz7uHAdz%2BM5fTdDlgxrs9654dQLfPSEj5FsCF%2FJeLkA0%2B9On36tnskKUDlTXKaq9%2F5yiURbsd2ll3gJoyL70MzymQ95I3%2FG2Ub61jBNokSHR50qduGgqdHNq3tBh9qUCYdVEnyVjgRg9P1xRLwNGuHENd9jYe3h%2BvkuUaZ%2FQPwFrz8IwAIfRmf6g%3D%3D&job=R4QfBqbGEt73sJlkMCggJsjGXhLsYGEzNsxE17UUTpZ-bD8QeOIGSw\n",
      "https://www.simplyhired.com/search?q=Business+Analyst&l=united+states&t=1&cursor=ABQAEAFAAAAAAAAAAAAAAAACDzWIUQECAStYEwYz7uHAdz%2BM5fTdDlgxrs9654dQLfPSEj5FsCF%2FJeLkA0%2B9On36tnskKUDlTXKaq9%2F5yiURbsd2ll3gJoyL70MzymQ95I3%2FG2Ub61jBNokSHR50qduGgqdHNq3tBh9qUCYdVEnyVjgRg9P1xRLwNGuHENd9jYe3h%2BvkuUaZ%2FQPwFrz8IwAIfRmf6g%3D%3D&job=PFvFi3sO7XPRSr7yCn0d1AbX_-5bDXlqCjv756MSN-GcWpIKou6FzA\n",
      "https://www.simplyhired.com/search?q=Business+Analyst&l=united+states&t=1&cursor=ABQAEAFAAAAAAAAAAAAAAAACDzWIUQECAStYEwYz7uHAdz%2BM5fTdDlgxrs9654dQLfPSEj5FsCF%2FJeLkA0%2B9On36tnskKUDlTXKaq9%2F5yiURbsd2ll3gJoyL70MzymQ95I3%2FG2Ub61jBNokSHR50qduGgqdHNq3tBh9qUCYdVEnyVjgRg9P1xRLwNGuHENd9jYe3h%2BvkuUaZ%2FQPwFrz8IwAIfRmf6g%3D%3D&job=pBy8mlL4WsJwrQvrem6772yYZfeUDfXU66wr6up6aBVTAjdfS4_SUw\n",
      "https://www.simplyhired.com/search?q=Business+Analyst&l=united+states&t=1&cursor=ABQAEAFAAAAAAAAAAAAAAAACDzWIUQECAStYEwYz7uHAdz%2BM5fTdDlgxrs9654dQLfPSEj5FsCF%2FJeLkA0%2B9On36tnskKUDlTXKaq9%2F5yiURbsd2ll3gJoyL70MzymQ95I3%2FG2Ub61jBNokSHR50qduGgqdHNq3tBh9qUCYdVEnyVjgRg9P1xRLwNGuHENd9jYe3h%2BvkuUaZ%2FQPwFrz8IwAIfRmf6g%3D%3D&job=QnPo70lhGeYBvWRx4Q67vWziwx4nAfcdlIJBe_n_KcX_pgfENSbgVg\n",
      "https://www.simplyhired.com/search?q=Business+Analyst&l=united+states&t=1&cursor=ABQAEAFAAAAAAAAAAAAAAAACDzWIUQECAStYEwYz7uHAdz%2BM5fTdDlgxrs9654dQLfPSEj5FsCF%2FJeLkA0%2B9On36tnskKUDlTXKaq9%2F5yiURbsd2ll3gJoyL70MzymQ95I3%2FG2Ub61jBNokSHR50qduGgqdHNq3tBh9qUCYdVEnyVjgRg9P1xRLwNGuHENd9jYe3h%2BvkuUaZ%2FQPwFrz8IwAIfRmf6g%3D%3D&job=9OqwegJHPjZ_p0Y7kkzN0zZvXeLDJWzy_NvlRPPNEenzc9Ih3E28vQ\n",
      "https://www.simplyhired.com/search?q=Business+Analyst&l=united+states&t=1&cursor=ABQAEAFAAAAAAAAAAAAAAAACDzWIUQECAStYEwYz7uHAdz%2BM5fTdDlgxrs9654dQLfPSEj5FsCF%2FJeLkA0%2B9On36tnskKUDlTXKaq9%2F5yiURbsd2ll3gJoyL70MzymQ95I3%2FG2Ub61jBNokSHR50qduGgqdHNq3tBh9qUCYdVEnyVjgRg9P1xRLwNGuHENd9jYe3h%2BvkuUaZ%2FQPwFrz8IwAIfRmf6g%3D%3D&job=OlgWTRgbNb_52n7mO5rdIq9H0TSKZI_rNE9esirZZKsxnA1cHB04AA\n",
      "https://www.simplyhired.com/search?q=Business+Analyst&l=united+states&t=1&cursor=ABQAEAFAAAAAAAAAAAAAAAACDzWIUQECAStYEwYz7uHAdz%2BM5fTdDlgxrs9654dQLfPSEj5FsCF%2FJeLkA0%2B9On36tnskKUDlTXKaq9%2F5yiURbsd2ll3gJoyL70MzymQ95I3%2FG2Ub61jBNokSHR50qduGgqdHNq3tBh9qUCYdVEnyVjgRg9P1xRLwNGuHENd9jYe3h%2BvkuUaZ%2FQPwFrz8IwAIfRmf6g%3D%3D&job=ml8E8pBzmEQzXRYyTfcaMy8Qo5p4CRmtpUCyZnuOJwzTh_8QRq7seg\n",
      "https://www.simplyhired.com/search?q=Business+Analyst&l=united+states&t=1&cursor=ABQAEAFAAAAAAAAAAAAAAAACDzWIUQECAStYEwYz7uHAdz%2BM5fTdDlgxrs9654dQLfPSEj5FsCF%2FJeLkA0%2B9On36tnskKUDlTXKaq9%2F5yiURbsd2ll3gJoyL70MzymQ95I3%2FG2Ub61jBNokSHR50qduGgqdHNq3tBh9qUCYdVEnyVjgRg9P1xRLwNGuHENd9jYe3h%2BvkuUaZ%2FQPwFrz8IwAIfRmf6g%3D%3D&job=8BsQCO6d10Brlv8--WusqFmkcWS89ohaZpzf9_8BBXlIexqFN-9MtQ\n",
      "https://www.simplyhired.com/search?q=Business+Analyst&l=united+states&t=1&cursor=ABQAEAFAAAAAAAAAAAAAAAACDzWIUQECAStYEwYz7uHAdz%2BM5fTdDlgxrs9654dQLfPSEj5FsCF%2FJeLkA0%2B9On36tnskKUDlTXKaq9%2F5yiURbsd2ll3gJoyL70MzymQ95I3%2FG2Ub61jBNokSHR50qduGgqdHNq3tBh9qUCYdVEnyVjgRg9P1xRLwNGuHENd9jYe3h%2BvkuUaZ%2FQPwFrz8IwAIfRmf6g%3D%3D&job=uKOqtYjj7P5TeqaKPrgvNIOMMZ0hbTe2n5MWVfG2XkAlmWE7vndtLQ\n",
      "https://www.simplyhired.com/search?q=Business+Analyst&l=united+states&t=1&cursor=ABQAEAFAAAAAAAAAAAAAAAACDzWIUQECAStYEwYz7uHAdz%2BM5fTdDlgxrs9654dQLfPSEj5FsCF%2FJeLkA0%2B9On36tnskKUDlTXKaq9%2F5yiURbsd2ll3gJoyL70MzymQ95I3%2FG2Ub61jBNokSHR50qduGgqdHNq3tBh9qUCYdVEnyVjgRg9P1xRLwNGuHENd9jYe3h%2BvkuUaZ%2FQPwFrz8IwAIfRmf6g%3D%3D&job=jA4yOd43IPi1Tb9VOrJ5LXbSNSJsww1QUIB5s6jEAMw89owHpKOyLg\n",
      "https://www.simplyhired.com/search?q=Business+Analyst&l=united+states&t=1&cursor=ABQAEAFAAAAAAAAAAAAAAAACDzWIUQECAStYEwYz7uHAdz%2BM5fTdDlgxrs9654dQLfPSEj5FsCF%2FJeLkA0%2B9On36tnskKUDlTXKaq9%2F5yiURbsd2ll3gJoyL70MzymQ95I3%2FG2Ub61jBNokSHR50qduGgqdHNq3tBh9qUCYdVEnyVjgRg9P1xRLwNGuHENd9jYe3h%2BvkuUaZ%2FQPwFrz8IwAIfRmf6g%3D%3D&job=E8p-yRimfqSqeYkuIm8pkE66CuNHADGwimusTEjKNTqyccpxzy9R-A\n",
      "https://www.simplyhired.com/search?q=Business+Analyst&l=united+states&t=1&cursor=ABQAEAFAAAAAAAAAAAAAAAACDzWIUQECAStYEwYz7uHAdz%2BM5fTdDlgxrs9654dQLfPSEj5FsCF%2FJeLkA0%2B9On36tnskKUDlTXKaq9%2F5yiURbsd2ll3gJoyL70MzymQ95I3%2FG2Ub61jBNokSHR50qduGgqdHNq3tBh9qUCYdVEnyVjgRg9P1xRLwNGuHENd9jYe3h%2BvkuUaZ%2FQPwFrz8IwAIfRmf6g%3D%3D&job=Ju0nerNtlPWfFOWIJkqJkY0oAbel7jGVmJfwcTYcYRLznAv4DrUOeA\n",
      "https://www.simplyhired.com/search?q=Business+Analyst&l=united+states&t=1&cursor=ABQAEAFAAAAAAAAAAAAAAAACDzWIUQECAStYEwYz7uHAdz%2BM5fTdDlgxrs9654dQLfPSEj5FsCF%2FJeLkA0%2B9On36tnskKUDlTXKaq9%2F5yiURbsd2ll3gJoyL70MzymQ95I3%2FG2Ub61jBNokSHR50qduGgqdHNq3tBh9qUCYdVEnyVjgRg9P1xRLwNGuHENd9jYe3h%2BvkuUaZ%2FQPwFrz8IwAIfRmf6g%3D%3D&job=_bBy45QrN_exh_MDtF7qhwTKGhRNb8xPaD5KhXYN6F_Q8E5fFmBb3A\n",
      "https://www.simplyhired.com/search?q=Business+Analyst&l=united+states&t=1&cursor=ABQAEAFAAAAAAAAAAAAAAAACDzWIUQECAStYEwYz7uHAdz%2BM5fTdDlgxrs9654dQLfPSEj5FsCF%2FJeLkA0%2B9On36tnskKUDlTXKaq9%2F5yiURbsd2ll3gJoyL70MzymQ95I3%2FG2Ub61jBNokSHR50qduGgqdHNq3tBh9qUCYdVEnyVjgRg9P1xRLwNGuHENd9jYe3h%2BvkuUaZ%2FQPwFrz8IwAIfRmf6g%3D%3D&job=wS3RjNLcImUDnk9UYrIO1fdduLAz2SByG5fMt1eFbThzf2J7zdC85A\n",
      "https://www.simplyhired.com/search?q=Business+Analyst&l=united+states&t=1&cursor=ABQAEAFAAAAAAAAAAAAAAAACDzWIUQECAStYEwYz7uHAdz%2BM5fTdDlgxrs9654dQLfPSEj5FsCF%2FJeLkA0%2B9On36tnskKUDlTXKaq9%2F5yiURbsd2ll3gJoyL70MzymQ95I3%2FG2Ub61jBNokSHR50qduGgqdHNq3tBh9qUCYdVEnyVjgRg9P1xRLwNGuHENd9jYe3h%2BvkuUaZ%2FQPwFrz8IwAIfRmf6g%3D%3D&job=UdqksyHcbuE8WW4gBekbSk0VvDJmV7TkzhT7ES7urNgObCjY-_zPOQ\n",
      "https://www.simplyhired.com/search?q=Business+Analyst&l=united+states&t=1&cursor=ABQAEAFAAAAAAAAAAAAAAAACDzWIUQECAStYEwYz7uHAdz%2BM5fTdDlgxrs9654dQLfPSEj5FsCF%2FJeLkA0%2B9On36tnskKUDlTXKaq9%2F5yiURbsd2ll3gJoyL70MzymQ95I3%2FG2Ub61jBNokSHR50qduGgqdHNq3tBh9qUCYdVEnyVjgRg9P1xRLwNGuHENd9jYe3h%2BvkuUaZ%2FQPwFrz8IwAIfRmf6g%3D%3D&job=XuLyCGmX4bDAFnBMkbDUoG-Vx3OISvlsKnvGx3gBMbpCNUStWcHsSQ\n",
      "https://www.simplyhired.com/search?q=Business+Analyst&l=united+states&t=1&cursor=ABQAEAFAAAAAAAAAAAAAAAACDzWIUQECAStYEwYz7uHAdz%2BM5fTdDlgxrs9654dQLfPSEj5FsCF%2FJeLkA0%2B9On36tnskKUDlTXKaq9%2F5yiURbsd2ll3gJoyL70MzymQ95I3%2FG2Ub61jBNokSHR50qduGgqdHNq3tBh9qUCYdVEnyVjgRg9P1xRLwNGuHENd9jYe3h%2BvkuUaZ%2FQPwFrz8IwAIfRmf6g%3D%3D&job=IeYeRrNBROuSbUhT1JMOc4hIaNar7ATpFgAD9EDQXu-QBVMYXOotGw\n",
      "https://www.simplyhired.com/search?q=Business+Analyst&l=united+states&t=1&cursor=ABQAEAFAAAAAAAAAAAAAAAACDzWIUQECAStYEwYz7uHAdz%2BM5fTdDlgxrs9654dQLfPSEj5FsCF%2FJeLkA0%2B9On36tnskKUDlTXKaq9%2F5yiURbsd2ll3gJoyL70MzymQ95I3%2FG2Ub61jBNokSHR50qduGgqdHNq3tBh9qUCYdVEnyVjgRg9P1xRLwNGuHENd9jYe3h%2BvkuUaZ%2FQPwFrz8IwAIfRmf6g%3D%3D&job=KmyHqMExRkdGLZB6dJteubIRs54jz1DEkGxySOxWBruxeJv9ACUN8g\n"
     ]
    },
    {
     "name": "stderr",
     "output_type": "stream",
     "text": [
      "/tmp/ipykernel_5743/3381847202.py:22: FutureWarning: The frame.append method is deprecated and will be removed from pandas in a future version. Use pandas.concat instead.\n",
      "  df = df.append(page_data)\n"
     ]
    },
    {
     "name": "stdout",
     "output_type": "stream",
     "text": [
      "Page Number: 18  Page Link:  https://www.simplyhired.com/search?q=Business+Analyst&l=united+states&t=1&cursor=ABQAEQFUAAAAAAAAAAAAAAACDzWIUQECAStYEwESez%2FBduJ9QvxuokHd%2BrG89IUnr2khCZeYvjlTjXxFI1KFIbkdcwAdWVFfRZ1clL86qyBPR6v%2FzOzd59TyJoDNaibhgxVDj1oWhuqDjXoUxJ7YoqbfQ7uwrwwuP6TRLWQOiH%2B8mOzFbNextQKosTn%2FEztLYK5P3adgd6oTPIZuhlqiIA%3D%3D\n",
      "https://www.simplyhired.com/search?q=Business+Analyst&l=united+states&t=1&cursor=ABQAEQFUAAAAAAAAAAAAAAACDzWIUQECAStYEwESez%2FBduJ9QvxuokHd%2BrG89IUnr2khCZeYvjlTjXxFI1KFIbkdcwAdWVFfRZ1clL86qyBPR6v%2FzOzd59TyJoDNaibhgxVDj1oWhuqDjXoUxJ7YoqbfQ7uwrwwuP6TRLWQOiH%2B8mOzFbNextQKosTn%2FEztLYK5P3adgd6oTPIZuhlqiIA%3D%3D&job=OSIbd1Wh6Y-fv9-657zUMwupKPBzqA0oTThMkSvOliNuUVQObVfxjQ\n",
      "https://www.simplyhired.com/search?q=Business+Analyst&l=united+states&t=1&cursor=ABQAEQFUAAAAAAAAAAAAAAACDzWIUQECAStYEwESez%2FBduJ9QvxuokHd%2BrG89IUnr2khCZeYvjlTjXxFI1KFIbkdcwAdWVFfRZ1clL86qyBPR6v%2FzOzd59TyJoDNaibhgxVDj1oWhuqDjXoUxJ7YoqbfQ7uwrwwuP6TRLWQOiH%2B8mOzFbNextQKosTn%2FEztLYK5P3adgd6oTPIZuhlqiIA%3D%3D&job=wmTi16wu33ou19KEl5jZ4fnnr6TuHRW3yMvhxFvoRZ_wtTL-3ZCZJw\n",
      "https://www.simplyhired.com/search?q=Business+Analyst&l=united+states&t=1&cursor=ABQAEQFUAAAAAAAAAAAAAAACDzWIUQECAStYEwESez%2FBduJ9QvxuokHd%2BrG89IUnr2khCZeYvjlTjXxFI1KFIbkdcwAdWVFfRZ1clL86qyBPR6v%2FzOzd59TyJoDNaibhgxVDj1oWhuqDjXoUxJ7YoqbfQ7uwrwwuP6TRLWQOiH%2B8mOzFbNextQKosTn%2FEztLYK5P3adgd6oTPIZuhlqiIA%3D%3D&job=thf0riPbRIHA7lXb6QXmy-P_DvwZqOAyIEGOQnoQOlKQNcZmYpYfZw\n",
      "https://www.simplyhired.com/search?q=Business+Analyst&l=united+states&t=1&cursor=ABQAEQFUAAAAAAAAAAAAAAACDzWIUQECAStYEwESez%2FBduJ9QvxuokHd%2BrG89IUnr2khCZeYvjlTjXxFI1KFIbkdcwAdWVFfRZ1clL86qyBPR6v%2FzOzd59TyJoDNaibhgxVDj1oWhuqDjXoUxJ7YoqbfQ7uwrwwuP6TRLWQOiH%2B8mOzFbNextQKosTn%2FEztLYK5P3adgd6oTPIZuhlqiIA%3D%3D&job=_yRtyxv0BI8Bp2t5L1t6bQ9M0OQYUpu4E_sFg0ttSvmpOjARVNAFrw\n",
      "https://www.simplyhired.com/search?q=Business+Analyst&l=united+states&t=1&cursor=ABQAEQFUAAAAAAAAAAAAAAACDzWIUQECAStYEwESez%2FBduJ9QvxuokHd%2BrG89IUnr2khCZeYvjlTjXxFI1KFIbkdcwAdWVFfRZ1clL86qyBPR6v%2FzOzd59TyJoDNaibhgxVDj1oWhuqDjXoUxJ7YoqbfQ7uwrwwuP6TRLWQOiH%2B8mOzFbNextQKosTn%2FEztLYK5P3adgd6oTPIZuhlqiIA%3D%3D&job=hHYLpjS1wEZTlX27ui_X-gD7WFtNUXVBTZOnpIXE_3Cufdm0YbFRUg\n",
      "https://www.simplyhired.com/search?q=Business+Analyst&l=united+states&t=1&cursor=ABQAEQFUAAAAAAAAAAAAAAACDzWIUQECAStYEwESez%2FBduJ9QvxuokHd%2BrG89IUnr2khCZeYvjlTjXxFI1KFIbkdcwAdWVFfRZ1clL86qyBPR6v%2FzOzd59TyJoDNaibhgxVDj1oWhuqDjXoUxJ7YoqbfQ7uwrwwuP6TRLWQOiH%2B8mOzFbNextQKosTn%2FEztLYK5P3adgd6oTPIZuhlqiIA%3D%3D&job=Opx4OpGZZEf1OW6KFC2p-FgTj_CfZgyJMXiPDn06lYjg6Frc-gMD2w\n",
      "https://www.simplyhired.com/search?q=Business+Analyst&l=united+states&t=1&cursor=ABQAEQFUAAAAAAAAAAAAAAACDzWIUQECAStYEwESez%2FBduJ9QvxuokHd%2BrG89IUnr2khCZeYvjlTjXxFI1KFIbkdcwAdWVFfRZ1clL86qyBPR6v%2FzOzd59TyJoDNaibhgxVDj1oWhuqDjXoUxJ7YoqbfQ7uwrwwuP6TRLWQOiH%2B8mOzFbNextQKosTn%2FEztLYK5P3adgd6oTPIZuhlqiIA%3D%3D&job=5Jap_ZCYSb3JuHqcz8MrxLc0vlh3NtDGSAPNcbedKa5WjAknDlu0jg\n",
      "https://www.simplyhired.com/search?q=Business+Analyst&l=united+states&t=1&cursor=ABQAEQFUAAAAAAAAAAAAAAACDzWIUQECAStYEwESez%2FBduJ9QvxuokHd%2BrG89IUnr2khCZeYvjlTjXxFI1KFIbkdcwAdWVFfRZ1clL86qyBPR6v%2FzOzd59TyJoDNaibhgxVDj1oWhuqDjXoUxJ7YoqbfQ7uwrwwuP6TRLWQOiH%2B8mOzFbNextQKosTn%2FEztLYK5P3adgd6oTPIZuhlqiIA%3D%3D&job=gSCmhlYre0pKfYZpHQUBf-EDViJ1Eut81kP0LU6zIdYq9JF0_f3nyQ\n",
      "https://www.simplyhired.com/search?q=Business+Analyst&l=united+states&t=1&cursor=ABQAEQFUAAAAAAAAAAAAAAACDzWIUQECAStYEwESez%2FBduJ9QvxuokHd%2BrG89IUnr2khCZeYvjlTjXxFI1KFIbkdcwAdWVFfRZ1clL86qyBPR6v%2FzOzd59TyJoDNaibhgxVDj1oWhuqDjXoUxJ7YoqbfQ7uwrwwuP6TRLWQOiH%2B8mOzFbNextQKosTn%2FEztLYK5P3adgd6oTPIZuhlqiIA%3D%3D&job=cUMED701cjNVGf7xM93o5PmyPOqgPQUYKPnrtVqrT-P0ixqq_XZNDA\n",
      "https://www.simplyhired.com/search?q=Business+Analyst&l=united+states&t=1&cursor=ABQAEQFUAAAAAAAAAAAAAAACDzWIUQECAStYEwESez%2FBduJ9QvxuokHd%2BrG89IUnr2khCZeYvjlTjXxFI1KFIbkdcwAdWVFfRZ1clL86qyBPR6v%2FzOzd59TyJoDNaibhgxVDj1oWhuqDjXoUxJ7YoqbfQ7uwrwwuP6TRLWQOiH%2B8mOzFbNextQKosTn%2FEztLYK5P3adgd6oTPIZuhlqiIA%3D%3D&job=rZgMLI1b5vetIB8Up_xvylqcD60SJdxndmiNMzXWZQkNHkl34L-6Pw\n",
      "https://www.simplyhired.com/search?q=Business+Analyst&l=united+states&t=1&cursor=ABQAEQFUAAAAAAAAAAAAAAACDzWIUQECAStYEwESez%2FBduJ9QvxuokHd%2BrG89IUnr2khCZeYvjlTjXxFI1KFIbkdcwAdWVFfRZ1clL86qyBPR6v%2FzOzd59TyJoDNaibhgxVDj1oWhuqDjXoUxJ7YoqbfQ7uwrwwuP6TRLWQOiH%2B8mOzFbNextQKosTn%2FEztLYK5P3adgd6oTPIZuhlqiIA%3D%3D&job=2bZmKESfaTQFLe990DOKY_zmo4GKLzDSvtz2l-dOqQHhx8rHPLE9-A\n",
      "https://www.simplyhired.com/search?q=Business+Analyst&l=united+states&t=1&cursor=ABQAEQFUAAAAAAAAAAAAAAACDzWIUQECAStYEwESez%2FBduJ9QvxuokHd%2BrG89IUnr2khCZeYvjlTjXxFI1KFIbkdcwAdWVFfRZ1clL86qyBPR6v%2FzOzd59TyJoDNaibhgxVDj1oWhuqDjXoUxJ7YoqbfQ7uwrwwuP6TRLWQOiH%2B8mOzFbNextQKosTn%2FEztLYK5P3adgd6oTPIZuhlqiIA%3D%3D&job=28J8E9Z53xM75K3fctKdkl1jDE__Gv0w_ZCm4-7ZmU0TymHM6mxKsQ\n",
      "https://www.simplyhired.com/search?q=Business+Analyst&l=united+states&t=1&cursor=ABQAEQFUAAAAAAAAAAAAAAACDzWIUQECAStYEwESez%2FBduJ9QvxuokHd%2BrG89IUnr2khCZeYvjlTjXxFI1KFIbkdcwAdWVFfRZ1clL86qyBPR6v%2FzOzd59TyJoDNaibhgxVDj1oWhuqDjXoUxJ7YoqbfQ7uwrwwuP6TRLWQOiH%2B8mOzFbNextQKosTn%2FEztLYK5P3adgd6oTPIZuhlqiIA%3D%3D&job=NWXe3FusAv4bBylfVCVJilKHRQcTFzGewTRuwB7tEBseO0N8WPZz9w\n",
      "https://www.simplyhired.com/search?q=Business+Analyst&l=united+states&t=1&cursor=ABQAEQFUAAAAAAAAAAAAAAACDzWIUQECAStYEwESez%2FBduJ9QvxuokHd%2BrG89IUnr2khCZeYvjlTjXxFI1KFIbkdcwAdWVFfRZ1clL86qyBPR6v%2FzOzd59TyJoDNaibhgxVDj1oWhuqDjXoUxJ7YoqbfQ7uwrwwuP6TRLWQOiH%2B8mOzFbNextQKosTn%2FEztLYK5P3adgd6oTPIZuhlqiIA%3D%3D&job=mGp9-OaKavA87FC1gT3MQc_MrKQUkSqW2BQRJMbJSVgQzcrDc9L7GQ\n",
      "https://www.simplyhired.com/search?q=Business+Analyst&l=united+states&t=1&cursor=ABQAEQFUAAAAAAAAAAAAAAACDzWIUQECAStYEwESez%2FBduJ9QvxuokHd%2BrG89IUnr2khCZeYvjlTjXxFI1KFIbkdcwAdWVFfRZ1clL86qyBPR6v%2FzOzd59TyJoDNaibhgxVDj1oWhuqDjXoUxJ7YoqbfQ7uwrwwuP6TRLWQOiH%2B8mOzFbNextQKosTn%2FEztLYK5P3adgd6oTPIZuhlqiIA%3D%3D&job=1bGgkWTFk_N6S6MPet6cvEpDoeGKWD-G9_99ZTy0Jpz29r2nIl032g\n",
      "https://www.simplyhired.com/search?q=Business+Analyst&l=united+states&t=1&cursor=ABQAEQFUAAAAAAAAAAAAAAACDzWIUQECAStYEwESez%2FBduJ9QvxuokHd%2BrG89IUnr2khCZeYvjlTjXxFI1KFIbkdcwAdWVFfRZ1clL86qyBPR6v%2FzOzd59TyJoDNaibhgxVDj1oWhuqDjXoUxJ7YoqbfQ7uwrwwuP6TRLWQOiH%2B8mOzFbNextQKosTn%2FEztLYK5P3adgd6oTPIZuhlqiIA%3D%3D&job=gCTt2ou4hjVDEPDxZB9hKrCkgK47OvXNWAJbcgi-GIkusMRsG2Aiaw\n",
      "https://www.simplyhired.com/search?q=Business+Analyst&l=united+states&t=1&cursor=ABQAEQFUAAAAAAAAAAAAAAACDzWIUQECAStYEwESez%2FBduJ9QvxuokHd%2BrG89IUnr2khCZeYvjlTjXxFI1KFIbkdcwAdWVFfRZ1clL86qyBPR6v%2FzOzd59TyJoDNaibhgxVDj1oWhuqDjXoUxJ7YoqbfQ7uwrwwuP6TRLWQOiH%2B8mOzFbNextQKosTn%2FEztLYK5P3adgd6oTPIZuhlqiIA%3D%3D&job=_rH-_mRJRMAE90FRVx2rEuTh0G8NBXPXoITCY3Zf6E3MNZVRCI5GYg\n",
      "https://www.simplyhired.com/search?q=Business+Analyst&l=united+states&t=1&cursor=ABQAEQFUAAAAAAAAAAAAAAACDzWIUQECAStYEwESez%2FBduJ9QvxuokHd%2BrG89IUnr2khCZeYvjlTjXxFI1KFIbkdcwAdWVFfRZ1clL86qyBPR6v%2FzOzd59TyJoDNaibhgxVDj1oWhuqDjXoUxJ7YoqbfQ7uwrwwuP6TRLWQOiH%2B8mOzFbNextQKosTn%2FEztLYK5P3adgd6oTPIZuhlqiIA%3D%3D&job=31OKsgAMcnU_uHyRrj4ppfvWmbHzYg1EkOpVsG-Ts9NhuaJ4d1oXnQ\n",
      "https://www.simplyhired.com/search?q=Business+Analyst&l=united+states&t=1&cursor=ABQAEQFUAAAAAAAAAAAAAAACDzWIUQECAStYEwESez%2FBduJ9QvxuokHd%2BrG89IUnr2khCZeYvjlTjXxFI1KFIbkdcwAdWVFfRZ1clL86qyBPR6v%2FzOzd59TyJoDNaibhgxVDj1oWhuqDjXoUxJ7YoqbfQ7uwrwwuP6TRLWQOiH%2B8mOzFbNextQKosTn%2FEztLYK5P3adgd6oTPIZuhlqiIA%3D%3D&job=D_Zpw2E1bVA4vKF2XRMlMz-Cjl-RIFDJ2Y9stAP4LRDbJ8gKIQhIQQ\n",
      "https://www.simplyhired.com/search?q=Business+Analyst&l=united+states&t=1&cursor=ABQAEQFUAAAAAAAAAAAAAAACDzWIUQECAStYEwESez%2FBduJ9QvxuokHd%2BrG89IUnr2khCZeYvjlTjXxFI1KFIbkdcwAdWVFfRZ1clL86qyBPR6v%2FzOzd59TyJoDNaibhgxVDj1oWhuqDjXoUxJ7YoqbfQ7uwrwwuP6TRLWQOiH%2B8mOzFbNextQKosTn%2FEztLYK5P3adgd6oTPIZuhlqiIA%3D%3D&job=vfKzFRh6x3EJGoWVYkcbsPhFNtHpOyH-QO0M7kPhy-9vQYVKKF_O-Q\n"
     ]
    },
    {
     "name": "stderr",
     "output_type": "stream",
     "text": [
      "/tmp/ipykernel_5743/3381847202.py:22: FutureWarning: The frame.append method is deprecated and will be removed from pandas in a future version. Use pandas.concat instead.\n",
      "  df = df.append(page_data)\n"
     ]
    },
    {
     "name": "stdout",
     "output_type": "stream",
     "text": [
      "Page Number: 19  Page Link:  https://www.simplyhired.com/search?q=Business+Analyst&l=united+states&t=1&cursor=ABQAEgFoAAAAAAAAAAAAAAACDzWIUQECAStYDgbVnXI7tI22YHW%2FQVX4EGxRqESb5ehPvhWfCwNQXQudGBwSYJgu%2BOqbBZJ0CnQWDydQau0cTLPMc%2BH0pe2Fc87mrGCCzY5nLZzpWyHd6L5ZcGa16bd7JleRkl5WjdzGffWlx%2FRZPHR6%2FXyRD9iTHqsfIdxk%2BPmG2xEvInyF\n",
      "https://www.simplyhired.com/search?q=Business+Analyst&l=united+states&t=1&cursor=ABQAEgFoAAAAAAAAAAAAAAACDzWIUQECAStYDgbVnXI7tI22YHW%2FQVX4EGxRqESb5ehPvhWfCwNQXQudGBwSYJgu%2BOqbBZJ0CnQWDydQau0cTLPMc%2BH0pe2Fc87mrGCCzY5nLZzpWyHd6L5ZcGa16bd7JleRkl5WjdzGffWlx%2FRZPHR6%2FXyRD9iTHqsfIdxk%2BPmG2xEvInyF&job=mypCMvtoDogWJIH82QgPP0b5XVG_0Ko3hhFUsDIUWHjTThaSm7FHZw\n",
      "https://www.simplyhired.com/search?q=Business+Analyst&l=united+states&t=1&cursor=ABQAEgFoAAAAAAAAAAAAAAACDzWIUQECAStYDgbVnXI7tI22YHW%2FQVX4EGxRqESb5ehPvhWfCwNQXQudGBwSYJgu%2BOqbBZJ0CnQWDydQau0cTLPMc%2BH0pe2Fc87mrGCCzY5nLZzpWyHd6L5ZcGa16bd7JleRkl5WjdzGffWlx%2FRZPHR6%2FXyRD9iTHqsfIdxk%2BPmG2xEvInyF&job=df3UUwYel2y9kcpS3whJ1N396fWh5tASEdjf6LV3dTBfaJLESrGtRg\n",
      "https://www.simplyhired.com/search?q=Business+Analyst&l=united+states&t=1&cursor=ABQAEgFoAAAAAAAAAAAAAAACDzWIUQECAStYDgbVnXI7tI22YHW%2FQVX4EGxRqESb5ehPvhWfCwNQXQudGBwSYJgu%2BOqbBZJ0CnQWDydQau0cTLPMc%2BH0pe2Fc87mrGCCzY5nLZzpWyHd6L5ZcGa16bd7JleRkl5WjdzGffWlx%2FRZPHR6%2FXyRD9iTHqsfIdxk%2BPmG2xEvInyF&job=vhMpoSv-Bo94xKv0LLUdxI75E-5n3G2dyDdy7NFXeNUYY0QRtMetbg\n",
      "https://www.simplyhired.com/search?q=Business+Analyst&l=united+states&t=1&cursor=ABQAEgFoAAAAAAAAAAAAAAACDzWIUQECAStYDgbVnXI7tI22YHW%2FQVX4EGxRqESb5ehPvhWfCwNQXQudGBwSYJgu%2BOqbBZJ0CnQWDydQau0cTLPMc%2BH0pe2Fc87mrGCCzY5nLZzpWyHd6L5ZcGa16bd7JleRkl5WjdzGffWlx%2FRZPHR6%2FXyRD9iTHqsfIdxk%2BPmG2xEvInyF&job=nuo6RbtqfzoIqwvpbEzXG9Qrxyv7PgoEXVSM9Z2W0IvbxdYTW5yGmw\n",
      "https://www.simplyhired.com/search?q=Business+Analyst&l=united+states&t=1&cursor=ABQAEgFoAAAAAAAAAAAAAAACDzWIUQECAStYDgbVnXI7tI22YHW%2FQVX4EGxRqESb5ehPvhWfCwNQXQudGBwSYJgu%2BOqbBZJ0CnQWDydQau0cTLPMc%2BH0pe2Fc87mrGCCzY5nLZzpWyHd6L5ZcGa16bd7JleRkl5WjdzGffWlx%2FRZPHR6%2FXyRD9iTHqsfIdxk%2BPmG2xEvInyF&job=vv98EpjO6EPEgjuPEKHcRGO6nVV21TZwwTdrWyUQoacBRPoU_FbMZQ\n",
      "https://www.simplyhired.com/search?q=Business+Analyst&l=united+states&t=1&cursor=ABQAEgFoAAAAAAAAAAAAAAACDzWIUQECAStYDgbVnXI7tI22YHW%2FQVX4EGxRqESb5ehPvhWfCwNQXQudGBwSYJgu%2BOqbBZJ0CnQWDydQau0cTLPMc%2BH0pe2Fc87mrGCCzY5nLZzpWyHd6L5ZcGa16bd7JleRkl5WjdzGffWlx%2FRZPHR6%2FXyRD9iTHqsfIdxk%2BPmG2xEvInyF&job=wMvqoo70V4wNEoEV3XxA705v-ap08izoh0LXUkmEclmVx4gf6QBgqQ\n",
      "https://www.simplyhired.com/search?q=Business+Analyst&l=united+states&t=1&cursor=ABQAEgFoAAAAAAAAAAAAAAACDzWIUQECAStYDgbVnXI7tI22YHW%2FQVX4EGxRqESb5ehPvhWfCwNQXQudGBwSYJgu%2BOqbBZJ0CnQWDydQau0cTLPMc%2BH0pe2Fc87mrGCCzY5nLZzpWyHd6L5ZcGa16bd7JleRkl5WjdzGffWlx%2FRZPHR6%2FXyRD9iTHqsfIdxk%2BPmG2xEvInyF&job=3msVpCIlJQsBNqoR2MPlJf8OlOD-TBgkM2KRbmbPY_9DOHe2RxrXSQ\n",
      "https://www.simplyhired.com/search?q=Business+Analyst&l=united+states&t=1&cursor=ABQAEgFoAAAAAAAAAAAAAAACDzWIUQECAStYDgbVnXI7tI22YHW%2FQVX4EGxRqESb5ehPvhWfCwNQXQudGBwSYJgu%2BOqbBZJ0CnQWDydQau0cTLPMc%2BH0pe2Fc87mrGCCzY5nLZzpWyHd6L5ZcGa16bd7JleRkl5WjdzGffWlx%2FRZPHR6%2FXyRD9iTHqsfIdxk%2BPmG2xEvInyF&job=MvAVWowWlGtq_lq_55qqbLFbesw_WmTmZ0kCU1qFzcpWogUk-K3Iog\n",
      "https://www.simplyhired.com/search?q=Business+Analyst&l=united+states&t=1&cursor=ABQAEgFoAAAAAAAAAAAAAAACDzWIUQECAStYDgbVnXI7tI22YHW%2FQVX4EGxRqESb5ehPvhWfCwNQXQudGBwSYJgu%2BOqbBZJ0CnQWDydQau0cTLPMc%2BH0pe2Fc87mrGCCzY5nLZzpWyHd6L5ZcGa16bd7JleRkl5WjdzGffWlx%2FRZPHR6%2FXyRD9iTHqsfIdxk%2BPmG2xEvInyF&job=pWn_QP1rdNTpZrLEqbUHbRwzALjlZ5cMRPaH56PHAUCtrCU_YBrinw\n",
      "https://www.simplyhired.com/search?q=Business+Analyst&l=united+states&t=1&cursor=ABQAEgFoAAAAAAAAAAAAAAACDzWIUQECAStYDgbVnXI7tI22YHW%2FQVX4EGxRqESb5ehPvhWfCwNQXQudGBwSYJgu%2BOqbBZJ0CnQWDydQau0cTLPMc%2BH0pe2Fc87mrGCCzY5nLZzpWyHd6L5ZcGa16bd7JleRkl5WjdzGffWlx%2FRZPHR6%2FXyRD9iTHqsfIdxk%2BPmG2xEvInyF&job=XYIbQVhMbaFjAi2FyT4zbQeS8GpzIrobh2G9O2H70zghJz1W4QnPSg\n",
      "https://www.simplyhired.com/search?q=Business+Analyst&l=united+states&t=1&cursor=ABQAEgFoAAAAAAAAAAAAAAACDzWIUQECAStYDgbVnXI7tI22YHW%2FQVX4EGxRqESb5ehPvhWfCwNQXQudGBwSYJgu%2BOqbBZJ0CnQWDydQau0cTLPMc%2BH0pe2Fc87mrGCCzY5nLZzpWyHd6L5ZcGa16bd7JleRkl5WjdzGffWlx%2FRZPHR6%2FXyRD9iTHqsfIdxk%2BPmG2xEvInyF&job=yE9tTIGi7A-KJ-bcKzHMNI7DqyRyqosNV_j1fV-m-ew7cQwyJHYEzQ\n",
      "https://www.simplyhired.com/search?q=Business+Analyst&l=united+states&t=1&cursor=ABQAEgFoAAAAAAAAAAAAAAACDzWIUQECAStYDgbVnXI7tI22YHW%2FQVX4EGxRqESb5ehPvhWfCwNQXQudGBwSYJgu%2BOqbBZJ0CnQWDydQau0cTLPMc%2BH0pe2Fc87mrGCCzY5nLZzpWyHd6L5ZcGa16bd7JleRkl5WjdzGffWlx%2FRZPHR6%2FXyRD9iTHqsfIdxk%2BPmG2xEvInyF&job=jBrhEc471JqXn_naLQHtadu6snU9fj-RIPV-6a4tRqAnoDhhG80wBg\n",
      "https://www.simplyhired.com/search?q=Business+Analyst&l=united+states&t=1&cursor=ABQAEgFoAAAAAAAAAAAAAAACDzWIUQECAStYDgbVnXI7tI22YHW%2FQVX4EGxRqESb5ehPvhWfCwNQXQudGBwSYJgu%2BOqbBZJ0CnQWDydQau0cTLPMc%2BH0pe2Fc87mrGCCzY5nLZzpWyHd6L5ZcGa16bd7JleRkl5WjdzGffWlx%2FRZPHR6%2FXyRD9iTHqsfIdxk%2BPmG2xEvInyF&job=Scu91djxxeuLK6ZMEpjcd9367d5sd0td5xUfKT0S5TIQg622PzyKfg\n",
      "https://www.simplyhired.com/search?q=Business+Analyst&l=united+states&t=1&cursor=ABQAEgFoAAAAAAAAAAAAAAACDzWIUQECAStYDgbVnXI7tI22YHW%2FQVX4EGxRqESb5ehPvhWfCwNQXQudGBwSYJgu%2BOqbBZJ0CnQWDydQau0cTLPMc%2BH0pe2Fc87mrGCCzY5nLZzpWyHd6L5ZcGa16bd7JleRkl5WjdzGffWlx%2FRZPHR6%2FXyRD9iTHqsfIdxk%2BPmG2xEvInyF&job=QDYblN2SvT1fDGNd_HDlli3yNhkOqaoPRZ64Rnk_fOeJ6ccSdW3CPQ\n",
      "https://www.simplyhired.com/search?q=Business+Analyst&l=united+states&t=1&cursor=ABQAEgFoAAAAAAAAAAAAAAACDzWIUQECAStYDgbVnXI7tI22YHW%2FQVX4EGxRqESb5ehPvhWfCwNQXQudGBwSYJgu%2BOqbBZJ0CnQWDydQau0cTLPMc%2BH0pe2Fc87mrGCCzY5nLZzpWyHd6L5ZcGa16bd7JleRkl5WjdzGffWlx%2FRZPHR6%2FXyRD9iTHqsfIdxk%2BPmG2xEvInyF&job=a8ua2ohWN-6wmSuypQyN6n8kmdzlG7HAxK0Cd6AQIGwXEJ0YJ8eMRA\n",
      "https://www.simplyhired.com/search?q=Business+Analyst&l=united+states&t=1&cursor=ABQAEgFoAAAAAAAAAAAAAAACDzWIUQECAStYDgbVnXI7tI22YHW%2FQVX4EGxRqESb5ehPvhWfCwNQXQudGBwSYJgu%2BOqbBZJ0CnQWDydQau0cTLPMc%2BH0pe2Fc87mrGCCzY5nLZzpWyHd6L5ZcGa16bd7JleRkl5WjdzGffWlx%2FRZPHR6%2FXyRD9iTHqsfIdxk%2BPmG2xEvInyF&job=L9xGhuj7pgkwY4T2MdyN5LN76lqLaVcK9n7bnEC8TQjARUzolQUKTA\n",
      "https://www.simplyhired.com/search?q=Business+Analyst&l=united+states&t=1&cursor=ABQAEgFoAAAAAAAAAAAAAAACDzWIUQECAStYDgbVnXI7tI22YHW%2FQVX4EGxRqESb5ehPvhWfCwNQXQudGBwSYJgu%2BOqbBZJ0CnQWDydQau0cTLPMc%2BH0pe2Fc87mrGCCzY5nLZzpWyHd6L5ZcGa16bd7JleRkl5WjdzGffWlx%2FRZPHR6%2FXyRD9iTHqsfIdxk%2BPmG2xEvInyF&job=xacEnrWkZwf0fW9rw0UGff1HGb6T6vYuWxCIG4tima7ZGO0sFijF6A\n",
      "https://www.simplyhired.com/search?q=Business+Analyst&l=united+states&t=1&cursor=ABQAEgFoAAAAAAAAAAAAAAACDzWIUQECAStYDgbVnXI7tI22YHW%2FQVX4EGxRqESb5ehPvhWfCwNQXQudGBwSYJgu%2BOqbBZJ0CnQWDydQau0cTLPMc%2BH0pe2Fc87mrGCCzY5nLZzpWyHd6L5ZcGa16bd7JleRkl5WjdzGffWlx%2FRZPHR6%2FXyRD9iTHqsfIdxk%2BPmG2xEvInyF&job=Fg3D1eHCYXIskkoVcJgcLDHy00yBQcD3R01gF7SRlcqMEMhDBqZPeg\n",
      "https://www.simplyhired.com/search?q=Business+Analyst&l=united+states&t=1&cursor=ABQAEgFoAAAAAAAAAAAAAAACDzWIUQECAStYDgbVnXI7tI22YHW%2FQVX4EGxRqESb5ehPvhWfCwNQXQudGBwSYJgu%2BOqbBZJ0CnQWDydQau0cTLPMc%2BH0pe2Fc87mrGCCzY5nLZzpWyHd6L5ZcGa16bd7JleRkl5WjdzGffWlx%2FRZPHR6%2FXyRD9iTHqsfIdxk%2BPmG2xEvInyF&job=1oZMeLPJziJS-ETdyY_5KCrCNugifHcYELYd4E7Bq4yW23SGWjSgdQ\n",
      "https://www.simplyhired.com/search?q=Business+Analyst&l=united+states&t=1&cursor=ABQAEgFoAAAAAAAAAAAAAAACDzWIUQECAStYDgbVnXI7tI22YHW%2FQVX4EGxRqESb5ehPvhWfCwNQXQudGBwSYJgu%2BOqbBZJ0CnQWDydQau0cTLPMc%2BH0pe2Fc87mrGCCzY5nLZzpWyHd6L5ZcGa16bd7JleRkl5WjdzGffWlx%2FRZPHR6%2FXyRD9iTHqsfIdxk%2BPmG2xEvInyF&job=U5HlBZAW_QPFwRrtVPOrV6gfnUyYfy32KCAUKNjy0YC17NdCp3fduQ\n"
     ]
    },
    {
     "name": "stderr",
     "output_type": "stream",
     "text": [
      "/tmp/ipykernel_5743/3381847202.py:22: FutureWarning: The frame.append method is deprecated and will be removed from pandas in a future version. Use pandas.concat instead.\n",
      "  df = df.append(page_data)\n"
     ]
    },
    {
     "name": "stdout",
     "output_type": "stream",
     "text": [
      "Page Number: 20  Page Link:  https://www.simplyhired.com/search?q=Business+Analyst&l=united+states&t=1&cursor=ABQAEwF8AAAAAAAAAAAAAAACDzWIUQECASlYB1Ip4fUR8qE95F3BgMDwKwUBDg8ATy39y2lYeRmQlG9e5ZtIzdphHk8175%2FvhmEYa0gfu5EspFN8v4F8y4ODpDuIYDEljRTLrhH%2F2GvPKF8ehy6pjN%2FEnxfsdgsgK8UTZyIwVpjDDdfYlWoQpOqmjLdNdg%3D%3D\n",
      "https://www.simplyhired.com/search?q=Business+Analyst&l=united+states&t=1&cursor=ABQAEwF8AAAAAAAAAAAAAAACDzWIUQECASlYB1Ip4fUR8qE95F3BgMDwKwUBDg8ATy39y2lYeRmQlG9e5ZtIzdphHk8175%2FvhmEYa0gfu5EspFN8v4F8y4ODpDuIYDEljRTLrhH%2F2GvPKF8ehy6pjN%2FEnxfsdgsgK8UTZyIwVpjDDdfYlWoQpOqmjLdNdg%3D%3D&job=YJQPePNlGLh4I4tyqey_a91iPJBXZDqIP7K3krdVYVwJbutWA5FvBw\n",
      "https://www.simplyhired.com/search?q=Business+Analyst&l=united+states&t=1&cursor=ABQAEwF8AAAAAAAAAAAAAAACDzWIUQECASlYB1Ip4fUR8qE95F3BgMDwKwUBDg8ATy39y2lYeRmQlG9e5ZtIzdphHk8175%2FvhmEYa0gfu5EspFN8v4F8y4ODpDuIYDEljRTLrhH%2F2GvPKF8ehy6pjN%2FEnxfsdgsgK8UTZyIwVpjDDdfYlWoQpOqmjLdNdg%3D%3D&job=KUyo36CFMvI0yn-Knp0qcdXfw_Bw6na7TZgP39boteBSFwLNnEQ_FQ\n",
      "https://www.simplyhired.com/search?q=Business+Analyst&l=united+states&t=1&cursor=ABQAEwF8AAAAAAAAAAAAAAACDzWIUQECASlYB1Ip4fUR8qE95F3BgMDwKwUBDg8ATy39y2lYeRmQlG9e5ZtIzdphHk8175%2FvhmEYa0gfu5EspFN8v4F8y4ODpDuIYDEljRTLrhH%2F2GvPKF8ehy6pjN%2FEnxfsdgsgK8UTZyIwVpjDDdfYlWoQpOqmjLdNdg%3D%3D&job=bJ0Wm6FfZeo0HRIuSDrTcRYyExQvT25Zs6BJeDyqov-RmW_IJ7-IlQ\n",
      "https://www.simplyhired.com/search?q=Business+Analyst&l=united+states&t=1&cursor=ABQAEwF8AAAAAAAAAAAAAAACDzWIUQECASlYB1Ip4fUR8qE95F3BgMDwKwUBDg8ATy39y2lYeRmQlG9e5ZtIzdphHk8175%2FvhmEYa0gfu5EspFN8v4F8y4ODpDuIYDEljRTLrhH%2F2GvPKF8ehy6pjN%2FEnxfsdgsgK8UTZyIwVpjDDdfYlWoQpOqmjLdNdg%3D%3D&job=GxH3uLKx-0DhKtazIFd-thqS8RlXtcP_5GXBJN9u8CwmpKo5nDtEYg\n",
      "https://www.simplyhired.com/search?q=Business+Analyst&l=united+states&t=1&cursor=ABQAEwF8AAAAAAAAAAAAAAACDzWIUQECASlYB1Ip4fUR8qE95F3BgMDwKwUBDg8ATy39y2lYeRmQlG9e5ZtIzdphHk8175%2FvhmEYa0gfu5EspFN8v4F8y4ODpDuIYDEljRTLrhH%2F2GvPKF8ehy6pjN%2FEnxfsdgsgK8UTZyIwVpjDDdfYlWoQpOqmjLdNdg%3D%3D&job=z3kGDAOVpHxbPiwpkPnsh6jPfVynJNqcaJzEs2IoBINiumxxP17IdA\n",
      "https://www.simplyhired.com/search?q=Business+Analyst&l=united+states&t=1&cursor=ABQAEwF8AAAAAAAAAAAAAAACDzWIUQECASlYB1Ip4fUR8qE95F3BgMDwKwUBDg8ATy39y2lYeRmQlG9e5ZtIzdphHk8175%2FvhmEYa0gfu5EspFN8v4F8y4ODpDuIYDEljRTLrhH%2F2GvPKF8ehy6pjN%2FEnxfsdgsgK8UTZyIwVpjDDdfYlWoQpOqmjLdNdg%3D%3D&job=Ivrd63dZYLtnsZGKfD-FSN0-jmKa-gbKuBQSN-wLQXt_YT7uiA4hEg\n",
      "https://www.simplyhired.com/search?q=Business+Analyst&l=united+states&t=1&cursor=ABQAEwF8AAAAAAAAAAAAAAACDzWIUQECASlYB1Ip4fUR8qE95F3BgMDwKwUBDg8ATy39y2lYeRmQlG9e5ZtIzdphHk8175%2FvhmEYa0gfu5EspFN8v4F8y4ODpDuIYDEljRTLrhH%2F2GvPKF8ehy6pjN%2FEnxfsdgsgK8UTZyIwVpjDDdfYlWoQpOqmjLdNdg%3D%3D&job=O3Ll1x0KCbZxIK0yNgcLidTzpW7zE_b6l9OEzOFWufp18Ikl5wYx5g\n",
      "https://www.simplyhired.com/search?q=Business+Analyst&l=united+states&t=1&cursor=ABQAEwF8AAAAAAAAAAAAAAACDzWIUQECASlYB1Ip4fUR8qE95F3BgMDwKwUBDg8ATy39y2lYeRmQlG9e5ZtIzdphHk8175%2FvhmEYa0gfu5EspFN8v4F8y4ODpDuIYDEljRTLrhH%2F2GvPKF8ehy6pjN%2FEnxfsdgsgK8UTZyIwVpjDDdfYlWoQpOqmjLdNdg%3D%3D&job=t3DkanRXist7JjJS-0gIZJ4VpT3Z1E_fCIV_WfzrzkRZcuSTAK6qfQ\n",
      "https://www.simplyhired.com/search?q=Business+Analyst&l=united+states&t=1&cursor=ABQAEwF8AAAAAAAAAAAAAAACDzWIUQECASlYB1Ip4fUR8qE95F3BgMDwKwUBDg8ATy39y2lYeRmQlG9e5ZtIzdphHk8175%2FvhmEYa0gfu5EspFN8v4F8y4ODpDuIYDEljRTLrhH%2F2GvPKF8ehy6pjN%2FEnxfsdgsgK8UTZyIwVpjDDdfYlWoQpOqmjLdNdg%3D%3D&job=Zw6oMI__fyt4a1XVUsJ2WbztIWqsNPc9P3ydiDrCQdxPsl590ITOqw\n",
      "https://www.simplyhired.com/search?q=Business+Analyst&l=united+states&t=1&cursor=ABQAEwF8AAAAAAAAAAAAAAACDzWIUQECASlYB1Ip4fUR8qE95F3BgMDwKwUBDg8ATy39y2lYeRmQlG9e5ZtIzdphHk8175%2FvhmEYa0gfu5EspFN8v4F8y4ODpDuIYDEljRTLrhH%2F2GvPKF8ehy6pjN%2FEnxfsdgsgK8UTZyIwVpjDDdfYlWoQpOqmjLdNdg%3D%3D&job=XAKXTyAaS7W7DEHX15oEJ4BD3vho3E5LSDfDO67XZnk08KI4J-7k5Q\n",
      "https://www.simplyhired.com/search?q=Business+Analyst&l=united+states&t=1&cursor=ABQAEwF8AAAAAAAAAAAAAAACDzWIUQECASlYB1Ip4fUR8qE95F3BgMDwKwUBDg8ATy39y2lYeRmQlG9e5ZtIzdphHk8175%2FvhmEYa0gfu5EspFN8v4F8y4ODpDuIYDEljRTLrhH%2F2GvPKF8ehy6pjN%2FEnxfsdgsgK8UTZyIwVpjDDdfYlWoQpOqmjLdNdg%3D%3D&job=5EXk0CcBlFn6ikQlgwG2IaFBaJF38dRRUvwIPyZwYnFuU0vI0us8ew\n",
      "https://www.simplyhired.com/search?q=Business+Analyst&l=united+states&t=1&cursor=ABQAEwF8AAAAAAAAAAAAAAACDzWIUQECASlYB1Ip4fUR8qE95F3BgMDwKwUBDg8ATy39y2lYeRmQlG9e5ZtIzdphHk8175%2FvhmEYa0gfu5EspFN8v4F8y4ODpDuIYDEljRTLrhH%2F2GvPKF8ehy6pjN%2FEnxfsdgsgK8UTZyIwVpjDDdfYlWoQpOqmjLdNdg%3D%3D&job=_WJlGr6HtnV37TQUwxyDzZXFFis56BuXoFkMv4JF2j71eUx0gwPDZg\n",
      "https://www.simplyhired.com/search?q=Business+Analyst&l=united+states&t=1&cursor=ABQAEwF8AAAAAAAAAAAAAAACDzWIUQECASlYB1Ip4fUR8qE95F3BgMDwKwUBDg8ATy39y2lYeRmQlG9e5ZtIzdphHk8175%2FvhmEYa0gfu5EspFN8v4F8y4ODpDuIYDEljRTLrhH%2F2GvPKF8ehy6pjN%2FEnxfsdgsgK8UTZyIwVpjDDdfYlWoQpOqmjLdNdg%3D%3D&job=JBuibsa0e45hrts-ZAACD3h5LMvNM7GVhPWeSaMR3w-MJtIlgKXk8w\n",
      "https://www.simplyhired.com/search?q=Business+Analyst&l=united+states&t=1&cursor=ABQAEwF8AAAAAAAAAAAAAAACDzWIUQECASlYB1Ip4fUR8qE95F3BgMDwKwUBDg8ATy39y2lYeRmQlG9e5ZtIzdphHk8175%2FvhmEYa0gfu5EspFN8v4F8y4ODpDuIYDEljRTLrhH%2F2GvPKF8ehy6pjN%2FEnxfsdgsgK8UTZyIwVpjDDdfYlWoQpOqmjLdNdg%3D%3D&job=KoBAOh7SYNk3xlRmfjkvQJuv50LQZotJrKHHWSulHGF12Pe1d2_NZw\n",
      "https://www.simplyhired.com/search?q=Business+Analyst&l=united+states&t=1&cursor=ABQAEwF8AAAAAAAAAAAAAAACDzWIUQECASlYB1Ip4fUR8qE95F3BgMDwKwUBDg8ATy39y2lYeRmQlG9e5ZtIzdphHk8175%2FvhmEYa0gfu5EspFN8v4F8y4ODpDuIYDEljRTLrhH%2F2GvPKF8ehy6pjN%2FEnxfsdgsgK8UTZyIwVpjDDdfYlWoQpOqmjLdNdg%3D%3D&job=8rUr1ZsbF_QKrH5t9_SbJMSGcLbFRp0qIMNYEJFIaFgo5nVNYRamnA\n",
      "https://www.simplyhired.com/search?q=Business+Analyst&l=united+states&t=1&cursor=ABQAEwF8AAAAAAAAAAAAAAACDzWIUQECASlYB1Ip4fUR8qE95F3BgMDwKwUBDg8ATy39y2lYeRmQlG9e5ZtIzdphHk8175%2FvhmEYa0gfu5EspFN8v4F8y4ODpDuIYDEljRTLrhH%2F2GvPKF8ehy6pjN%2FEnxfsdgsgK8UTZyIwVpjDDdfYlWoQpOqmjLdNdg%3D%3D&job=15eLblqS1ojtvtOurQNq3VsqB8ipSRIIdIMZHztJ9FIZNomCW55pvQ\n",
      "https://www.simplyhired.com/search?q=Business+Analyst&l=united+states&t=1&cursor=ABQAEwF8AAAAAAAAAAAAAAACDzWIUQECASlYB1Ip4fUR8qE95F3BgMDwKwUBDg8ATy39y2lYeRmQlG9e5ZtIzdphHk8175%2FvhmEYa0gfu5EspFN8v4F8y4ODpDuIYDEljRTLrhH%2F2GvPKF8ehy6pjN%2FEnxfsdgsgK8UTZyIwVpjDDdfYlWoQpOqmjLdNdg%3D%3D&job=5veZsDLNde8p-G3ltC4v6EckagzS4mBxzJRbjRZrPwLSBFqaopkkzg\n",
      "https://www.simplyhired.com/search?q=Business+Analyst&l=united+states&t=1&cursor=ABQAEwF8AAAAAAAAAAAAAAACDzWIUQECASlYB1Ip4fUR8qE95F3BgMDwKwUBDg8ATy39y2lYeRmQlG9e5ZtIzdphHk8175%2FvhmEYa0gfu5EspFN8v4F8y4ODpDuIYDEljRTLrhH%2F2GvPKF8ehy6pjN%2FEnxfsdgsgK8UTZyIwVpjDDdfYlWoQpOqmjLdNdg%3D%3D&job=DQudZxaZ9h4WzVW6L4_zUdgmfmYghyg0WcM-faJU0HPv04ADhxmT5A\n",
      "https://www.simplyhired.com/search?q=Business+Analyst&l=united+states&t=1&cursor=ABQAEwF8AAAAAAAAAAAAAAACDzWIUQECASlYB1Ip4fUR8qE95F3BgMDwKwUBDg8ATy39y2lYeRmQlG9e5ZtIzdphHk8175%2FvhmEYa0gfu5EspFN8v4F8y4ODpDuIYDEljRTLrhH%2F2GvPKF8ehy6pjN%2FEnxfsdgsgK8UTZyIwVpjDDdfYlWoQpOqmjLdNdg%3D%3D&job=X46Ec9fU6iF-OmzSvKz6xGD196cnjw02fjFypFt-Mk2q-boIxssAgw\n",
      "https://www.simplyhired.com/search?q=Business+Analyst&l=united+states&t=1&cursor=ABQAEwF8AAAAAAAAAAAAAAACDzWIUQECASlYB1Ip4fUR8qE95F3BgMDwKwUBDg8ATy39y2lYeRmQlG9e5ZtIzdphHk8175%2FvhmEYa0gfu5EspFN8v4F8y4ODpDuIYDEljRTLrhH%2F2GvPKF8ehy6pjN%2FEnxfsdgsgK8UTZyIwVpjDDdfYlWoQpOqmjLdNdg%3D%3D&job=z33ic69HqR055Nb-VhoIqDEwv4Uww4YQUyHZC7xloTo9wy-Ab2FjPA\n"
     ]
    },
    {
     "name": "stderr",
     "output_type": "stream",
     "text": [
      "/tmp/ipykernel_5743/3381847202.py:22: FutureWarning: The frame.append method is deprecated and will be removed from pandas in a future version. Use pandas.concat instead.\n",
      "  df = df.append(page_data)\n"
     ]
    },
    {
     "name": "stdout",
     "output_type": "stream",
     "text": [
      "Page Number: 21  Page Link:  https://www.simplyhired.com/search?q=Business+Analyst&l=united+states&t=1&cursor=ABQAFAGQAAAAAAAAAAAAAAACDzWIUQEEARQqBg4GHgYFLz60CgB8GwKSPuzdKUMCzHSxaEIH4YZRomBseQatD1XizbJtM%2BHeGANMxZwTZ6STEPIwMxJqgIx0aP0KF9KTaGfGbbIAaRR0v88VZNhbiAV%2BEtpwsnvAUYznfG6FUH35kg%3D%3D\n",
      "https://www.simplyhired.com/search?q=Business+Analyst&l=united+states&t=1&cursor=ABQAFAGQAAAAAAAAAAAAAAACDzWIUQEEARQqBg4GHgYFLz60CgB8GwKSPuzdKUMCzHSxaEIH4YZRomBseQatD1XizbJtM%2BHeGANMxZwTZ6STEPIwMxJqgIx0aP0KF9KTaGfGbbIAaRR0v88VZNhbiAV%2BEtpwsnvAUYznfG6FUH35kg%3D%3D&job=CDv-GlxLpj5jst2ux9A8UQxvQr9Q9uU2Vlj5hrFxki9sRlOAvV1LJw\n",
      "https://www.simplyhired.com/search?q=Business+Analyst&l=united+states&t=1&cursor=ABQAFAGQAAAAAAAAAAAAAAACDzWIUQEEARQqBg4GHgYFLz60CgB8GwKSPuzdKUMCzHSxaEIH4YZRomBseQatD1XizbJtM%2BHeGANMxZwTZ6STEPIwMxJqgIx0aP0KF9KTaGfGbbIAaRR0v88VZNhbiAV%2BEtpwsnvAUYznfG6FUH35kg%3D%3D&job=KRSj4gjKdec6Y571TzvEXjNMvJoBP9-Mc3FCkwVq9rCPJP65M14E8A\n",
      "https://www.simplyhired.com/search?q=Business+Analyst&l=united+states&t=1&cursor=ABQAFAGQAAAAAAAAAAAAAAACDzWIUQEEARQqBg4GHgYFLz60CgB8GwKSPuzdKUMCzHSxaEIH4YZRomBseQatD1XizbJtM%2BHeGANMxZwTZ6STEPIwMxJqgIx0aP0KF9KTaGfGbbIAaRR0v88VZNhbiAV%2BEtpwsnvAUYznfG6FUH35kg%3D%3D&job=LXPx0SE17CDERIGAaALUszYPoh3O5G93PmCU98p-c7VzteIP_Zwrxg\n",
      "https://www.simplyhired.com/search?q=Business+Analyst&l=united+states&t=1&cursor=ABQAFAGQAAAAAAAAAAAAAAACDzWIUQEEARQqBg4GHgYFLz60CgB8GwKSPuzdKUMCzHSxaEIH4YZRomBseQatD1XizbJtM%2BHeGANMxZwTZ6STEPIwMxJqgIx0aP0KF9KTaGfGbbIAaRR0v88VZNhbiAV%2BEtpwsnvAUYznfG6FUH35kg%3D%3D&job=gBT-xbyH3QZS_e3NsnGCJZW_7OnY4SLikT0LCE4SpDVmxY2rjoqogQ\n",
      "https://www.simplyhired.com/search?q=Business+Analyst&l=united+states&t=1&cursor=ABQAFAGQAAAAAAAAAAAAAAACDzWIUQEEARQqBg4GHgYFLz60CgB8GwKSPuzdKUMCzHSxaEIH4YZRomBseQatD1XizbJtM%2BHeGANMxZwTZ6STEPIwMxJqgIx0aP0KF9KTaGfGbbIAaRR0v88VZNhbiAV%2BEtpwsnvAUYznfG6FUH35kg%3D%3D&job=DROUD6bslPIQlKgThCJpd1fF0KY6kcXlUBuQ3aNMP1WPl1fcfJfYQw\n",
      "https://www.simplyhired.com/search?q=Business+Analyst&l=united+states&t=1&cursor=ABQAFAGQAAAAAAAAAAAAAAACDzWIUQEEARQqBg4GHgYFLz60CgB8GwKSPuzdKUMCzHSxaEIH4YZRomBseQatD1XizbJtM%2BHeGANMxZwTZ6STEPIwMxJqgIx0aP0KF9KTaGfGbbIAaRR0v88VZNhbiAV%2BEtpwsnvAUYznfG6FUH35kg%3D%3D&job=Wqw0NpVAJhBS5BCAct9eKnot0yT2NR6X_yzGCTufymp4exaOGS6ghQ\n",
      "https://www.simplyhired.com/search?q=Business+Analyst&l=united+states&t=1&cursor=ABQAFAGQAAAAAAAAAAAAAAACDzWIUQEEARQqBg4GHgYFLz60CgB8GwKSPuzdKUMCzHSxaEIH4YZRomBseQatD1XizbJtM%2BHeGANMxZwTZ6STEPIwMxJqgIx0aP0KF9KTaGfGbbIAaRR0v88VZNhbiAV%2BEtpwsnvAUYznfG6FUH35kg%3D%3D&job=EiBM-IUuhhKpZ0bZf5Jxc0xtiddv-R0hMU5y2ot2ealRdFkzTpSdOA\n",
      "https://www.simplyhired.com/search?q=Business+Analyst&l=united+states&t=1&cursor=ABQAFAGQAAAAAAAAAAAAAAACDzWIUQEEARQqBg4GHgYFLz60CgB8GwKSPuzdKUMCzHSxaEIH4YZRomBseQatD1XizbJtM%2BHeGANMxZwTZ6STEPIwMxJqgIx0aP0KF9KTaGfGbbIAaRR0v88VZNhbiAV%2BEtpwsnvAUYznfG6FUH35kg%3D%3D&job=7NuKr55-rG6jHIOzVkjy1tGrlVw4o1SVkuE1cMSm9-G3H_PQYGwCIQ\n",
      "https://www.simplyhired.com/search?q=Business+Analyst&l=united+states&t=1&cursor=ABQAFAGQAAAAAAAAAAAAAAACDzWIUQEEARQqBg4GHgYFLz60CgB8GwKSPuzdKUMCzHSxaEIH4YZRomBseQatD1XizbJtM%2BHeGANMxZwTZ6STEPIwMxJqgIx0aP0KF9KTaGfGbbIAaRR0v88VZNhbiAV%2BEtpwsnvAUYznfG6FUH35kg%3D%3D&job=pbj5lXZ_ayUOn97_bnoY_ObUvvzCqTOJ4rZrkeWmseTDEyZ0VvqYjg\n",
      "https://www.simplyhired.com/search?q=Business+Analyst&l=united+states&t=1&cursor=ABQAFAGQAAAAAAAAAAAAAAACDzWIUQEEARQqBg4GHgYFLz60CgB8GwKSPuzdKUMCzHSxaEIH4YZRomBseQatD1XizbJtM%2BHeGANMxZwTZ6STEPIwMxJqgIx0aP0KF9KTaGfGbbIAaRR0v88VZNhbiAV%2BEtpwsnvAUYznfG6FUH35kg%3D%3D&job=9912Ne2gp2RfZTFqyVfXLOgo_sj4OAcWHOrFegNQnkK6Fak4DsCs8A\n",
      "https://www.simplyhired.com/search?q=Business+Analyst&l=united+states&t=1&cursor=ABQAFAGQAAAAAAAAAAAAAAACDzWIUQEEARQqBg4GHgYFLz60CgB8GwKSPuzdKUMCzHSxaEIH4YZRomBseQatD1XizbJtM%2BHeGANMxZwTZ6STEPIwMxJqgIx0aP0KF9KTaGfGbbIAaRR0v88VZNhbiAV%2BEtpwsnvAUYznfG6FUH35kg%3D%3D&job=Wsk3_woqMKermpkmQwB4_h9Qgsgtdrdz-s5iaoJO6dB5IxgYvYawYg\n",
      "https://www.simplyhired.com/search?q=Business+Analyst&l=united+states&t=1&cursor=ABQAFAGQAAAAAAAAAAAAAAACDzWIUQEEARQqBg4GHgYFLz60CgB8GwKSPuzdKUMCzHSxaEIH4YZRomBseQatD1XizbJtM%2BHeGANMxZwTZ6STEPIwMxJqgIx0aP0KF9KTaGfGbbIAaRR0v88VZNhbiAV%2BEtpwsnvAUYznfG6FUH35kg%3D%3D&job=YvhHytRzcWKFFd6JdtTXpun6DMwnjmHRPdn3C1nqYs_yOGKI18ToAQ\n",
      "https://www.simplyhired.com/search?q=Business+Analyst&l=united+states&t=1&cursor=ABQAFAGQAAAAAAAAAAAAAAACDzWIUQEEARQqBg4GHgYFLz60CgB8GwKSPuzdKUMCzHSxaEIH4YZRomBseQatD1XizbJtM%2BHeGANMxZwTZ6STEPIwMxJqgIx0aP0KF9KTaGfGbbIAaRR0v88VZNhbiAV%2BEtpwsnvAUYznfG6FUH35kg%3D%3D&job=Wr5JHxSfD34K12HMbPkG4aJPnl4bfM_eMRFoPq6VNqmdzTTPnVt-8g\n",
      "https://www.simplyhired.com/search?q=Business+Analyst&l=united+states&t=1&cursor=ABQAFAGQAAAAAAAAAAAAAAACDzWIUQEEARQqBg4GHgYFLz60CgB8GwKSPuzdKUMCzHSxaEIH4YZRomBseQatD1XizbJtM%2BHeGANMxZwTZ6STEPIwMxJqgIx0aP0KF9KTaGfGbbIAaRR0v88VZNhbiAV%2BEtpwsnvAUYznfG6FUH35kg%3D%3D&job=VpMURDk8BJsIZlB7O8fV152qcJVyZcLxZ3mtPOEV6QA2hKGicdhKPg\n",
      "https://www.simplyhired.com/search?q=Business+Analyst&l=united+states&t=1&cursor=ABQAFAGQAAAAAAAAAAAAAAACDzWIUQEEARQqBg4GHgYFLz60CgB8GwKSPuzdKUMCzHSxaEIH4YZRomBseQatD1XizbJtM%2BHeGANMxZwTZ6STEPIwMxJqgIx0aP0KF9KTaGfGbbIAaRR0v88VZNhbiAV%2BEtpwsnvAUYznfG6FUH35kg%3D%3D&job=b9TFkYlUzcb3mUBm1ny7IaXm8Tj3QQ0XIP9TbIjp4u-EKAVD7RjoHw\n",
      "https://www.simplyhired.com/search?q=Business+Analyst&l=united+states&t=1&cursor=ABQAFAGQAAAAAAAAAAAAAAACDzWIUQEEARQqBg4GHgYFLz60CgB8GwKSPuzdKUMCzHSxaEIH4YZRomBseQatD1XizbJtM%2BHeGANMxZwTZ6STEPIwMxJqgIx0aP0KF9KTaGfGbbIAaRR0v88VZNhbiAV%2BEtpwsnvAUYznfG6FUH35kg%3D%3D&job=olplG3U-GyEq_mTEIJj2GyAfQR1DJjvknqCFOn_0TuEStSJh94o5Yg\n",
      "https://www.simplyhired.com/search?q=Business+Analyst&l=united+states&t=1&cursor=ABQAFAGQAAAAAAAAAAAAAAACDzWIUQEEARQqBg4GHgYFLz60CgB8GwKSPuzdKUMCzHSxaEIH4YZRomBseQatD1XizbJtM%2BHeGANMxZwTZ6STEPIwMxJqgIx0aP0KF9KTaGfGbbIAaRR0v88VZNhbiAV%2BEtpwsnvAUYznfG6FUH35kg%3D%3D&job=6PUwc7fxClNlQIc0C1WJFxiLYUqqU2IC_4DUpi1HMtnlaBXN3k_xEw\n",
      "https://www.simplyhired.com/search?q=Business+Analyst&l=united+states&t=1&cursor=ABQAFAGQAAAAAAAAAAAAAAACDzWIUQEEARQqBg4GHgYFLz60CgB8GwKSPuzdKUMCzHSxaEIH4YZRomBseQatD1XizbJtM%2BHeGANMxZwTZ6STEPIwMxJqgIx0aP0KF9KTaGfGbbIAaRR0v88VZNhbiAV%2BEtpwsnvAUYznfG6FUH35kg%3D%3D&job=yMtAMwg_flfu05NY4Klf0kij6XlNfO3Yd6cG8V7Dy5R54AVq1MhK0w\n",
      "https://www.simplyhired.com/search?q=Business+Analyst&l=united+states&t=1&cursor=ABQAFAGQAAAAAAAAAAAAAAACDzWIUQEEARQqBg4GHgYFLz60CgB8GwKSPuzdKUMCzHSxaEIH4YZRomBseQatD1XizbJtM%2BHeGANMxZwTZ6STEPIwMxJqgIx0aP0KF9KTaGfGbbIAaRR0v88VZNhbiAV%2BEtpwsnvAUYznfG6FUH35kg%3D%3D&job=9-nAzOdN6ZO023SGTZKcX5ui0BeZdhhz20qSh1N4nlUcyacQkN-htA\n",
      "https://www.simplyhired.com/search?q=Business+Analyst&l=united+states&t=1&cursor=ABQAFAGQAAAAAAAAAAAAAAACDzWIUQEEARQqBg4GHgYFLz60CgB8GwKSPuzdKUMCzHSxaEIH4YZRomBseQatD1XizbJtM%2BHeGANMxZwTZ6STEPIwMxJqgIx0aP0KF9KTaGfGbbIAaRR0v88VZNhbiAV%2BEtpwsnvAUYznfG6FUH35kg%3D%3D&job=fjkv6_dEpvVx5GZxzP5OyGE9vFuyI0MRNwKI-eyf507CF2r7k5fMwQ\n"
     ]
    },
    {
     "name": "stderr",
     "output_type": "stream",
     "text": [
      "/tmp/ipykernel_5743/3381847202.py:22: FutureWarning: The frame.append method is deprecated and will be removed from pandas in a future version. Use pandas.concat instead.\n",
      "  df = df.append(page_data)\n"
     ]
    },
    {
     "name": "stdout",
     "output_type": "stream",
     "text": [
      "Page Number: 22  Page Link:  https://www.simplyhired.com/search?q=Business+Analyst&l=united+states&t=1&cursor=ABQAFQGkAAAAAAAAAAAAAAACDzWIUQEDARAqBg4GJxeR3UQ62DYgbpY%2FjcCeURviiSR5Mvb1QgaO1fGdPTVNnibNSRSzDwFn%2BWhbsDABURcZtTOy%2FyrMiKRpCqHk3i0FghVrqpMaMm%2BiCCOf%2Bnfj9d3uNg%3D%3D\n",
      "https://www.simplyhired.com/search?q=Business+Analyst&l=united+states&t=1&cursor=ABQAFQGkAAAAAAAAAAAAAAACDzWIUQEDARAqBg4GJxeR3UQ62DYgbpY%2FjcCeURviiSR5Mvb1QgaO1fGdPTVNnibNSRSzDwFn%2BWhbsDABURcZtTOy%2FyrMiKRpCqHk3i0FghVrqpMaMm%2BiCCOf%2Bnfj9d3uNg%3D%3D&job=Gj5nNvA8h9fYWooTxD8nkYW8Pub4lOuPIyZArbHhTUf5KZ6O0MLH_w\n",
      "https://www.simplyhired.com/search?q=Business+Analyst&l=united+states&t=1&cursor=ABQAFQGkAAAAAAAAAAAAAAACDzWIUQEDARAqBg4GJxeR3UQ62DYgbpY%2FjcCeURviiSR5Mvb1QgaO1fGdPTVNnibNSRSzDwFn%2BWhbsDABURcZtTOy%2FyrMiKRpCqHk3i0FghVrqpMaMm%2BiCCOf%2Bnfj9d3uNg%3D%3D&job=CPL5BdgyW9H4QcAXws7IiiMIhlt9NM-BofpyFmYTP8cnQ6ZYVXVqFw\n",
      "https://www.simplyhired.com/search?q=Business+Analyst&l=united+states&t=1&cursor=ABQAFQGkAAAAAAAAAAAAAAACDzWIUQEDARAqBg4GJxeR3UQ62DYgbpY%2FjcCeURviiSR5Mvb1QgaO1fGdPTVNnibNSRSzDwFn%2BWhbsDABURcZtTOy%2FyrMiKRpCqHk3i0FghVrqpMaMm%2BiCCOf%2Bnfj9d3uNg%3D%3D&job=DPXuqVFZW4HVebpxncuHbVdjSACoMh7MphGEcghVMvmophG_vFm8Dg\n",
      "https://www.simplyhired.com/search?q=Business+Analyst&l=united+states&t=1&cursor=ABQAFQGkAAAAAAAAAAAAAAACDzWIUQEDARAqBg4GJxeR3UQ62DYgbpY%2FjcCeURviiSR5Mvb1QgaO1fGdPTVNnibNSRSzDwFn%2BWhbsDABURcZtTOy%2FyrMiKRpCqHk3i0FghVrqpMaMm%2BiCCOf%2Bnfj9d3uNg%3D%3D&job=1gc6HxWZBx4MneLAGbA9h43YsTsHN0wVSSdxqvqFHupi1H3QpK-g0g\n",
      "https://www.simplyhired.com/search?q=Business+Analyst&l=united+states&t=1&cursor=ABQAFQGkAAAAAAAAAAAAAAACDzWIUQEDARAqBg4GJxeR3UQ62DYgbpY%2FjcCeURviiSR5Mvb1QgaO1fGdPTVNnibNSRSzDwFn%2BWhbsDABURcZtTOy%2FyrMiKRpCqHk3i0FghVrqpMaMm%2BiCCOf%2Bnfj9d3uNg%3D%3D&job=iid10gBvaNUc1bdgcACqM_hmBFgm-V3DncyhnjLSyBObdoB5jW0KXA\n",
      "https://www.simplyhired.com/search?q=Business+Analyst&l=united+states&t=1&cursor=ABQAFQGkAAAAAAAAAAAAAAACDzWIUQEDARAqBg4GJxeR3UQ62DYgbpY%2FjcCeURviiSR5Mvb1QgaO1fGdPTVNnibNSRSzDwFn%2BWhbsDABURcZtTOy%2FyrMiKRpCqHk3i0FghVrqpMaMm%2BiCCOf%2Bnfj9d3uNg%3D%3D&job=cmAFTlqAVBul7w1fAp1muCZkJnjJD_ygwpDO7kMZgnLsgJSVVJpwwA\n",
      "https://www.simplyhired.com/search?q=Business+Analyst&l=united+states&t=1&cursor=ABQAFQGkAAAAAAAAAAAAAAACDzWIUQEDARAqBg4GJxeR3UQ62DYgbpY%2FjcCeURviiSR5Mvb1QgaO1fGdPTVNnibNSRSzDwFn%2BWhbsDABURcZtTOy%2FyrMiKRpCqHk3i0FghVrqpMaMm%2BiCCOf%2Bnfj9d3uNg%3D%3D&job=dQnAHebkypx4i5wkBSPDgGdQzJkRl8mb-9rbO9uikql3sOPOw2tj8w\n",
      "https://www.simplyhired.com/search?q=Business+Analyst&l=united+states&t=1&cursor=ABQAFQGkAAAAAAAAAAAAAAACDzWIUQEDARAqBg4GJxeR3UQ62DYgbpY%2FjcCeURviiSR5Mvb1QgaO1fGdPTVNnibNSRSzDwFn%2BWhbsDABURcZtTOy%2FyrMiKRpCqHk3i0FghVrqpMaMm%2BiCCOf%2Bnfj9d3uNg%3D%3D&job=Dm6Zp7KWNaOF1bOxQYUvuvjS8Meyt-GsR1tizDjt8LTR9EiIqMBrGg\n",
      "https://www.simplyhired.com/search?q=Business+Analyst&l=united+states&t=1&cursor=ABQAFQGkAAAAAAAAAAAAAAACDzWIUQEDARAqBg4GJxeR3UQ62DYgbpY%2FjcCeURviiSR5Mvb1QgaO1fGdPTVNnibNSRSzDwFn%2BWhbsDABURcZtTOy%2FyrMiKRpCqHk3i0FghVrqpMaMm%2BiCCOf%2Bnfj9d3uNg%3D%3D&job=E8OZMIieQWOPTubSwaJqPe4dNjCCmWr0LjpPi7vAut7cmOD0Paj_MQ\n",
      "https://www.simplyhired.com/search?q=Business+Analyst&l=united+states&t=1&cursor=ABQAFQGkAAAAAAAAAAAAAAACDzWIUQEDARAqBg4GJxeR3UQ62DYgbpY%2FjcCeURviiSR5Mvb1QgaO1fGdPTVNnibNSRSzDwFn%2BWhbsDABURcZtTOy%2FyrMiKRpCqHk3i0FghVrqpMaMm%2BiCCOf%2Bnfj9d3uNg%3D%3D&job=oa6W5yBLfC7w1X7WyzFGHiqIkiM5cMBlUzZZbXVfch75EaXWqboz4g\n",
      "https://www.simplyhired.com/search?q=Business+Analyst&l=united+states&t=1&cursor=ABQAFQGkAAAAAAAAAAAAAAACDzWIUQEDARAqBg4GJxeR3UQ62DYgbpY%2FjcCeURviiSR5Mvb1QgaO1fGdPTVNnibNSRSzDwFn%2BWhbsDABURcZtTOy%2FyrMiKRpCqHk3i0FghVrqpMaMm%2BiCCOf%2Bnfj9d3uNg%3D%3D&job=g9y0jRy4rTTMGsFGlF6LL_Mity3Wo6OwdKNsy15z-JQdfeHbSiTqUg\n",
      "https://www.simplyhired.com/search?q=Business+Analyst&l=united+states&t=1&cursor=ABQAFQGkAAAAAAAAAAAAAAACDzWIUQEDARAqBg4GJxeR3UQ62DYgbpY%2FjcCeURviiSR5Mvb1QgaO1fGdPTVNnibNSRSzDwFn%2BWhbsDABURcZtTOy%2FyrMiKRpCqHk3i0FghVrqpMaMm%2BiCCOf%2Bnfj9d3uNg%3D%3D&job=V1uZYP9_ctwaJD10zX3YO2Ihn3nA_MU9KG8nU2jurBSVlh9ARnwz_g\n",
      "https://www.simplyhired.com/search?q=Business+Analyst&l=united+states&t=1&cursor=ABQAFQGkAAAAAAAAAAAAAAACDzWIUQEDARAqBg4GJxeR3UQ62DYgbpY%2FjcCeURviiSR5Mvb1QgaO1fGdPTVNnibNSRSzDwFn%2BWhbsDABURcZtTOy%2FyrMiKRpCqHk3i0FghVrqpMaMm%2BiCCOf%2Bnfj9d3uNg%3D%3D&job=YsucEu93d7z6z__4xQxMYx_2DVWE8KvYqu_NrNF2SUo9WsEbzRbwOA\n",
      "https://www.simplyhired.com/search?q=Business+Analyst&l=united+states&t=1&cursor=ABQAFQGkAAAAAAAAAAAAAAACDzWIUQEDARAqBg4GJxeR3UQ62DYgbpY%2FjcCeURviiSR5Mvb1QgaO1fGdPTVNnibNSRSzDwFn%2BWhbsDABURcZtTOy%2FyrMiKRpCqHk3i0FghVrqpMaMm%2BiCCOf%2Bnfj9d3uNg%3D%3D&job=hKMNYJ_xC9TLoS6LpP4vx1ruU6mUE8mILvi_KWCv8fcnytIkQaVlxw\n",
      "https://www.simplyhired.com/search?q=Business+Analyst&l=united+states&t=1&cursor=ABQAFQGkAAAAAAAAAAAAAAACDzWIUQEDARAqBg4GJxeR3UQ62DYgbpY%2FjcCeURviiSR5Mvb1QgaO1fGdPTVNnibNSRSzDwFn%2BWhbsDABURcZtTOy%2FyrMiKRpCqHk3i0FghVrqpMaMm%2BiCCOf%2Bnfj9d3uNg%3D%3D&job=V4Wr-BzLAcblCdDZQiFcsPAGZf-Nfk0lFmCgnekYHL47QR6hdukLCw\n",
      "https://www.simplyhired.com/search?q=Business+Analyst&l=united+states&t=1&cursor=ABQAFQGkAAAAAAAAAAAAAAACDzWIUQEDARAqBg4GJxeR3UQ62DYgbpY%2FjcCeURviiSR5Mvb1QgaO1fGdPTVNnibNSRSzDwFn%2BWhbsDABURcZtTOy%2FyrMiKRpCqHk3i0FghVrqpMaMm%2BiCCOf%2Bnfj9d3uNg%3D%3D&job=YCRa3A_JSlumXSJwgBI1zcrOIGfPhAH95BDAyheqCJimg4bFT3Sd0Q\n",
      "https://www.simplyhired.com/search?q=Business+Analyst&l=united+states&t=1&cursor=ABQAFQGkAAAAAAAAAAAAAAACDzWIUQEDARAqBg4GJxeR3UQ62DYgbpY%2FjcCeURviiSR5Mvb1QgaO1fGdPTVNnibNSRSzDwFn%2BWhbsDABURcZtTOy%2FyrMiKRpCqHk3i0FghVrqpMaMm%2BiCCOf%2Bnfj9d3uNg%3D%3D&job=ioDnamo7_Ld_kkC77b2KtOJLz08DDB7HiiYNt1JGxOAURfGn_7DUWA\n",
      "https://www.simplyhired.com/search?q=Business+Analyst&l=united+states&t=1&cursor=ABQAFQGkAAAAAAAAAAAAAAACDzWIUQEDARAqBg4GJxeR3UQ62DYgbpY%2FjcCeURviiSR5Mvb1QgaO1fGdPTVNnibNSRSzDwFn%2BWhbsDABURcZtTOy%2FyrMiKRpCqHk3i0FghVrqpMaMm%2BiCCOf%2Bnfj9d3uNg%3D%3D&job=DsztmkPlrBIzs0dq1Ccus35Ue73dulYVF6jsNgVu4vtaCcR1l8KmtA\n",
      "https://www.simplyhired.com/search?q=Business+Analyst&l=united+states&t=1&cursor=ABQAFQGkAAAAAAAAAAAAAAACDzWIUQEDARAqBg4GJxeR3UQ62DYgbpY%2FjcCeURviiSR5Mvb1QgaO1fGdPTVNnibNSRSzDwFn%2BWhbsDABURcZtTOy%2FyrMiKRpCqHk3i0FghVrqpMaMm%2BiCCOf%2Bnfj9d3uNg%3D%3D&job=XpZXWRJ4bwM6kTKD0w5_Bfs661ZrLGkPqyYPgM2WeB9qiE2PBlzR0A\n",
      "https://www.simplyhired.com/search?q=Business+Analyst&l=united+states&t=1&cursor=ABQAFQGkAAAAAAAAAAAAAAACDzWIUQEDARAqBg4GJxeR3UQ62DYgbpY%2FjcCeURviiSR5Mvb1QgaO1fGdPTVNnibNSRSzDwFn%2BWhbsDABURcZtTOy%2FyrMiKRpCqHk3i0FghVrqpMaMm%2BiCCOf%2Bnfj9d3uNg%3D%3D&job=XvCKKCbOi1bUsQjJ_1fCKxF4K2WSCycVTfTfHSuxAPUSLXTqMFwQXw\n"
     ]
    },
    {
     "name": "stderr",
     "output_type": "stream",
     "text": [
      "/tmp/ipykernel_5743/3381847202.py:22: FutureWarning: The frame.append method is deprecated and will be removed from pandas in a future version. Use pandas.concat instead.\n",
      "  df = df.append(page_data)\n"
     ]
    },
    {
     "name": "stdout",
     "output_type": "stream",
     "text": [
      "Page Number: 23  Page Link:  https://www.simplyhired.com/search?q=Business+Analyst&l=united+states&t=1&cursor=ABQAFgG4AAAAAAAAAAAAAAACDzYmigEBARQCLMAJ6VjSBo77PCWTNx6QBTKx76cEhs37JP%2FPg%2BdZ1y2z%2B9aqWv%2BVuYamAq%2BJL2R3DZ6hCKUgmcCHdbLXLhdQiZn26XMeYBf9Hw4%3D\n",
      "https://www.simplyhired.com/search?q=Business+Analyst&l=united+states&t=1&cursor=ABQAFgG4AAAAAAAAAAAAAAACDzYmigEBARQCLMAJ6VjSBo77PCWTNx6QBTKx76cEhs37JP%2FPg%2BdZ1y2z%2B9aqWv%2BVuYamAq%2BJL2R3DZ6hCKUgmcCHdbLXLhdQiZn26XMeYBf9Hw4%3D&job=sEc90o4Oczw_n5zX-miOGJUQpBgLMV0cRKMrQcM76JQnB_k3a_m8FQ\n",
      "https://www.simplyhired.com/search?q=Business+Analyst&l=united+states&t=1&cursor=ABQAFgG4AAAAAAAAAAAAAAACDzYmigEBARQCLMAJ6VjSBo77PCWTNx6QBTKx76cEhs37JP%2FPg%2BdZ1y2z%2B9aqWv%2BVuYamAq%2BJL2R3DZ6hCKUgmcCHdbLXLhdQiZn26XMeYBf9Hw4%3D&job=te4CJ-PDrhqHV7CJVs6Wb023DWOBdMbtly1ByHWYnULlR2O4lqw9lQ\n",
      "https://www.simplyhired.com/search?q=Business+Analyst&l=united+states&t=1&cursor=ABQAFgG4AAAAAAAAAAAAAAACDzYmigEBARQCLMAJ6VjSBo77PCWTNx6QBTKx76cEhs37JP%2FPg%2BdZ1y2z%2B9aqWv%2BVuYamAq%2BJL2R3DZ6hCKUgmcCHdbLXLhdQiZn26XMeYBf9Hw4%3D&job=gZXOhJvFK3bj-f3Hv0CTIgl3mpL8PtvnEosFkz46RTdwTg__m8qoTg\n",
      "https://www.simplyhired.com/search?q=Business+Analyst&l=united+states&t=1&cursor=ABQAFgG4AAAAAAAAAAAAAAACDzYmigEBARQCLMAJ6VjSBo77PCWTNx6QBTKx76cEhs37JP%2FPg%2BdZ1y2z%2B9aqWv%2BVuYamAq%2BJL2R3DZ6hCKUgmcCHdbLXLhdQiZn26XMeYBf9Hw4%3D&job=VNmmMq9LOAMVAQcbcD6UcztpBpOXo15r_8_DWU4uzUvpLOoZ9Hc92A\n",
      "https://www.simplyhired.com/search?q=Business+Analyst&l=united+states&t=1&cursor=ABQAFgG4AAAAAAAAAAAAAAACDzYmigEBARQCLMAJ6VjSBo77PCWTNx6QBTKx76cEhs37JP%2FPg%2BdZ1y2z%2B9aqWv%2BVuYamAq%2BJL2R3DZ6hCKUgmcCHdbLXLhdQiZn26XMeYBf9Hw4%3D&job=dqLjBjdp5rxJsQ3o4qfMZvuXuXZjXXd8-fbOPPykK0PXxKi-k4UCNg\n",
      "https://www.simplyhired.com/search?q=Business+Analyst&l=united+states&t=1&cursor=ABQAFgG4AAAAAAAAAAAAAAACDzYmigEBARQCLMAJ6VjSBo77PCWTNx6QBTKx76cEhs37JP%2FPg%2BdZ1y2z%2B9aqWv%2BVuYamAq%2BJL2R3DZ6hCKUgmcCHdbLXLhdQiZn26XMeYBf9Hw4%3D&job=KZzUIpBzeYASxPq_XSy52ReXZMyJyzv6ucFLg8-wzyDfklH2Br0gJQ\n",
      "https://www.simplyhired.com/search?q=Business+Analyst&l=united+states&t=1&cursor=ABQAFgG4AAAAAAAAAAAAAAACDzYmigEBARQCLMAJ6VjSBo77PCWTNx6QBTKx76cEhs37JP%2FPg%2BdZ1y2z%2B9aqWv%2BVuYamAq%2BJL2R3DZ6hCKUgmcCHdbLXLhdQiZn26XMeYBf9Hw4%3D&job=QzQRM_F7D10yS2YLRe9FPuUFGPFcTePAoY6oT1xuOip_9re-clc6fQ\n",
      "https://www.simplyhired.com/search?q=Business+Analyst&l=united+states&t=1&cursor=ABQAFgG4AAAAAAAAAAAAAAACDzYmigEBARQCLMAJ6VjSBo77PCWTNx6QBTKx76cEhs37JP%2FPg%2BdZ1y2z%2B9aqWv%2BVuYamAq%2BJL2R3DZ6hCKUgmcCHdbLXLhdQiZn26XMeYBf9Hw4%3D&job=Dur4amfujpd54MucjCUIHemAvX0ODh9CHXpLQCeLCraq_pDqfxg-ug\n",
      "https://www.simplyhired.com/search?q=Business+Analyst&l=united+states&t=1&cursor=ABQAFgG4AAAAAAAAAAAAAAACDzYmigEBARQCLMAJ6VjSBo77PCWTNx6QBTKx76cEhs37JP%2FPg%2BdZ1y2z%2B9aqWv%2BVuYamAq%2BJL2R3DZ6hCKUgmcCHdbLXLhdQiZn26XMeYBf9Hw4%3D&job=9ZAgWDiO7zxWlO3ThmmtWXwctUBliJ2Jb7HiEXWFAJIJI_lGJYWChw\n",
      "https://www.simplyhired.com/search?q=Business+Analyst&l=united+states&t=1&cursor=ABQAFgG4AAAAAAAAAAAAAAACDzYmigEBARQCLMAJ6VjSBo77PCWTNx6QBTKx76cEhs37JP%2FPg%2BdZ1y2z%2B9aqWv%2BVuYamAq%2BJL2R3DZ6hCKUgmcCHdbLXLhdQiZn26XMeYBf9Hw4%3D&job=Q1eMvwPhh_Tmdc8EkoaujD25J9msEN96VNH87FNaLPSJtB6QAkBmzg\n",
      "https://www.simplyhired.com/search?q=Business+Analyst&l=united+states&t=1&cursor=ABQAFgG4AAAAAAAAAAAAAAACDzYmigEBARQCLMAJ6VjSBo77PCWTNx6QBTKx76cEhs37JP%2FPg%2BdZ1y2z%2B9aqWv%2BVuYamAq%2BJL2R3DZ6hCKUgmcCHdbLXLhdQiZn26XMeYBf9Hw4%3D&job=AqJ1Gmo9Rr9eN_mDiSfA232K61SUZpxrr3udirPCVnbh3N-iYNT_OQ\n",
      "https://www.simplyhired.com/search?q=Business+Analyst&l=united+states&t=1&cursor=ABQAFgG4AAAAAAAAAAAAAAACDzYmigEBARQCLMAJ6VjSBo77PCWTNx6QBTKx76cEhs37JP%2FPg%2BdZ1y2z%2B9aqWv%2BVuYamAq%2BJL2R3DZ6hCKUgmcCHdbLXLhdQiZn26XMeYBf9Hw4%3D&job=-Pp4RCB1EZ3SxRYGqU73D0NArUyaIwwCwCW9SaxhBYAfPyRssmsjtg\n",
      "https://www.simplyhired.com/search?q=Business+Analyst&l=united+states&t=1&cursor=ABQAFgG4AAAAAAAAAAAAAAACDzYmigEBARQCLMAJ6VjSBo77PCWTNx6QBTKx76cEhs37JP%2FPg%2BdZ1y2z%2B9aqWv%2BVuYamAq%2BJL2R3DZ6hCKUgmcCHdbLXLhdQiZn26XMeYBf9Hw4%3D&job=qrxEsGt-J6u7xlFc7yTKpPdTuZdeAroOjbD4YoCOZxxvmFz2RN_q_Q\n",
      "https://www.simplyhired.com/search?q=Business+Analyst&l=united+states&t=1&cursor=ABQAFgG4AAAAAAAAAAAAAAACDzYmigEBARQCLMAJ6VjSBo77PCWTNx6QBTKx76cEhs37JP%2FPg%2BdZ1y2z%2B9aqWv%2BVuYamAq%2BJL2R3DZ6hCKUgmcCHdbLXLhdQiZn26XMeYBf9Hw4%3D&job=amWWD69QNu9sJHpSz7wjhD5BK_P2l_XpXKwu2iCBnP90-YEjOxbcoA\n",
      "https://www.simplyhired.com/search?q=Business+Analyst&l=united+states&t=1&cursor=ABQAFgG4AAAAAAAAAAAAAAACDzYmigEBARQCLMAJ6VjSBo77PCWTNx6QBTKx76cEhs37JP%2FPg%2BdZ1y2z%2B9aqWv%2BVuYamAq%2BJL2R3DZ6hCKUgmcCHdbLXLhdQiZn26XMeYBf9Hw4%3D&job=eTXTkad2NdoFwJ7WjHJHe10DT04azLGcZ-yu0KuR6ejZoOmmnCakww\n",
      "https://www.simplyhired.com/search?q=Business+Analyst&l=united+states&t=1&cursor=ABQAFgG4AAAAAAAAAAAAAAACDzYmigEBARQCLMAJ6VjSBo77PCWTNx6QBTKx76cEhs37JP%2FPg%2BdZ1y2z%2B9aqWv%2BVuYamAq%2BJL2R3DZ6hCKUgmcCHdbLXLhdQiZn26XMeYBf9Hw4%3D&job=uBg_Hnn4HCOcSIsF75r-WsqSqJrdBP36fZeL_2gQdlQpcHSyN-MSQw\n",
      "https://www.simplyhired.com/search?q=Business+Analyst&l=united+states&t=1&cursor=ABQAFgG4AAAAAAAAAAAAAAACDzYmigEBARQCLMAJ6VjSBo77PCWTNx6QBTKx76cEhs37JP%2FPg%2BdZ1y2z%2B9aqWv%2BVuYamAq%2BJL2R3DZ6hCKUgmcCHdbLXLhdQiZn26XMeYBf9Hw4%3D&job=Q4_oFutYD4SoqC-QP5QfcZuibQC31uEpzUThW-VPYPRBFXmujMrpOQ\n",
      "https://www.simplyhired.com/search?q=Business+Analyst&l=united+states&t=1&cursor=ABQAFgG4AAAAAAAAAAAAAAACDzYmigEBARQCLMAJ6VjSBo77PCWTNx6QBTKx76cEhs37JP%2FPg%2BdZ1y2z%2B9aqWv%2BVuYamAq%2BJL2R3DZ6hCKUgmcCHdbLXLhdQiZn26XMeYBf9Hw4%3D&job=ofNIHGC4al02OrFw4mdQeT_eVixTSA5TGrZ2kMSu5bsQGR0cj_of5g\n",
      "https://www.simplyhired.com/search?q=Business+Analyst&l=united+states&t=1&cursor=ABQAFgG4AAAAAAAAAAAAAAACDzYmigEBARQCLMAJ6VjSBo77PCWTNx6QBTKx76cEhs37JP%2FPg%2BdZ1y2z%2B9aqWv%2BVuYamAq%2BJL2R3DZ6hCKUgmcCHdbLXLhdQiZn26XMeYBf9Hw4%3D&job=LD76A8fEUlff1GawGFkqXOFhdGqD9ULorpPg9DH4WG3mJqGG8UOOCw\n",
      "https://www.simplyhired.com/search?q=Business+Analyst&l=united+states&t=1&cursor=ABQAFgG4AAAAAAAAAAAAAAACDzYmigEBARQCLMAJ6VjSBo77PCWTNx6QBTKx76cEhs37JP%2FPg%2BdZ1y2z%2B9aqWv%2BVuYamAq%2BJL2R3DZ6hCKUgmcCHdbLXLhdQiZn26XMeYBf9Hw4%3D&job=CFNdP_BWL2PXsebeixFQ55oXahWa7YCQAELF9J6JGoauNLK_UKmalQ\n"
     ]
    },
    {
     "name": "stderr",
     "output_type": "stream",
     "text": [
      "/tmp/ipykernel_5743/3381847202.py:22: FutureWarning: The frame.append method is deprecated and will be removed from pandas in a future version. Use pandas.concat instead.\n",
      "  df = df.append(page_data)\n"
     ]
    },
    {
     "name": "stdout",
     "output_type": "stream",
     "text": [
      "Page Number: 24  Page Link:  https://www.simplyhired.com/search?q=Business+Analyst&l=united+states&t=1&cursor=ABQAFwHMAAAAAAAAAAAAAAACDzYmigEBAQkDtuatf56zvHsiAQn0C8Q6HX1tvqI%2Fa5kATotLnqz8Y9ebqwBIooC0LyfvmRYQTnkuMK1laM3GawE%3D\n",
      "https://www.simplyhired.com/search?q=Business+Analyst&l=united+states&t=1&cursor=ABQAFwHMAAAAAAAAAAAAAAACDzYmigEBAQkDtuatf56zvHsiAQn0C8Q6HX1tvqI%2Fa5kATotLnqz8Y9ebqwBIooC0LyfvmRYQTnkuMK1laM3GawE%3D&job=pvMSS-kqOSHoVPviCNeTV8lpnHPp6k1Zzm19t9-G7KkyZyGkJas44Q\n",
      "https://www.simplyhired.com/search?q=Business+Analyst&l=united+states&t=1&cursor=ABQAFwHMAAAAAAAAAAAAAAACDzYmigEBAQkDtuatf56zvHsiAQn0C8Q6HX1tvqI%2Fa5kATotLnqz8Y9ebqwBIooC0LyfvmRYQTnkuMK1laM3GawE%3D&job=KXIO5V37S4VX_jAMd1-gKCghsqdEget1AH5FFH73mqC65HAbXTGkAw\n",
      "https://www.simplyhired.com/search?q=Business+Analyst&l=united+states&t=1&cursor=ABQAFwHMAAAAAAAAAAAAAAACDzYmigEBAQkDtuatf56zvHsiAQn0C8Q6HX1tvqI%2Fa5kATotLnqz8Y9ebqwBIooC0LyfvmRYQTnkuMK1laM3GawE%3D&job=vB87aUmehTA_T4eKigxHtyIgMr6onARE2ghDfiM8tgVEskEWoAbbig\n",
      "https://www.simplyhired.com/search?q=Business+Analyst&l=united+states&t=1&cursor=ABQAFwHMAAAAAAAAAAAAAAACDzYmigEBAQkDtuatf56zvHsiAQn0C8Q6HX1tvqI%2Fa5kATotLnqz8Y9ebqwBIooC0LyfvmRYQTnkuMK1laM3GawE%3D&job=7LR-9ORG1h-lZdvk1VQKAxNTtTKG2nodKt6EMchfqXCDcpUiKdbAUw\n",
      "https://www.simplyhired.com/search?q=Business+Analyst&l=united+states&t=1&cursor=ABQAFwHMAAAAAAAAAAAAAAACDzYmigEBAQkDtuatf56zvHsiAQn0C8Q6HX1tvqI%2Fa5kATotLnqz8Y9ebqwBIooC0LyfvmRYQTnkuMK1laM3GawE%3D&job=_I1cBeZEX2nculNDsrtSQRLoi-6lFTMcz779k9ENsUN6TBDvvxgosQ\n",
      "https://www.simplyhired.com/search?q=Business+Analyst&l=united+states&t=1&cursor=ABQAFwHMAAAAAAAAAAAAAAACDzYmigEBAQkDtuatf56zvHsiAQn0C8Q6HX1tvqI%2Fa5kATotLnqz8Y9ebqwBIooC0LyfvmRYQTnkuMK1laM3GawE%3D&job=F_k49ezAo7oIW9gRRUJfCdMHctWbVwzDmn3REEdw0tisSsW6vb-UOA\n",
      "https://www.simplyhired.com/search?q=Business+Analyst&l=united+states&t=1&cursor=ABQAFwHMAAAAAAAAAAAAAAACDzYmigEBAQkDtuatf56zvHsiAQn0C8Q6HX1tvqI%2Fa5kATotLnqz8Y9ebqwBIooC0LyfvmRYQTnkuMK1laM3GawE%3D&job=tA-OUU7GKBmToj8TrSY9C7UcvfI-e81VxGa0MxJ-0bLrd9FkV3VvOw\n",
      "https://www.simplyhired.com/search?q=Business+Analyst&l=united+states&t=1&cursor=ABQAFwHMAAAAAAAAAAAAAAACDzYmigEBAQkDtuatf56zvHsiAQn0C8Q6HX1tvqI%2Fa5kATotLnqz8Y9ebqwBIooC0LyfvmRYQTnkuMK1laM3GawE%3D&job=FZ8dy3mmnXctcTKi_PYdmN9CN_sim1K-BROq3wpDyGRoNirBFf-53w\n",
      "https://www.simplyhired.com/search?q=Business+Analyst&l=united+states&t=1&cursor=ABQAFwHMAAAAAAAAAAAAAAACDzYmigEBAQkDtuatf56zvHsiAQn0C8Q6HX1tvqI%2Fa5kATotLnqz8Y9ebqwBIooC0LyfvmRYQTnkuMK1laM3GawE%3D&job=iq2thNl0nD-xeFr44llmPcTwChCU2tN790NBnjJd5XmrtVOEX3aaSw\n",
      "https://www.simplyhired.com/search?q=Business+Analyst&l=united+states&t=1&cursor=ABQAFwHMAAAAAAAAAAAAAAACDzYmigEBAQkDtuatf56zvHsiAQn0C8Q6HX1tvqI%2Fa5kATotLnqz8Y9ebqwBIooC0LyfvmRYQTnkuMK1laM3GawE%3D&job=wKBlEPfXXa0GfhunXxlSz19dAptFTkfZ9LDEJYFAYUUWYNagARKd2Q\n",
      "https://www.simplyhired.com/search?q=Business+Analyst&l=united+states&t=1&cursor=ABQAFwHMAAAAAAAAAAAAAAACDzYmigEBAQkDtuatf56zvHsiAQn0C8Q6HX1tvqI%2Fa5kATotLnqz8Y9ebqwBIooC0LyfvmRYQTnkuMK1laM3GawE%3D&job=1WkvUS5UD7mWm4yJDCRBTnoFOLKm922iv_zSwTT7ej2_5IPLr_xOAw\n",
      "https://www.simplyhired.com/search?q=Business+Analyst&l=united+states&t=1&cursor=ABQAFwHMAAAAAAAAAAAAAAACDzYmigEBAQkDtuatf56zvHsiAQn0C8Q6HX1tvqI%2Fa5kATotLnqz8Y9ebqwBIooC0LyfvmRYQTnkuMK1laM3GawE%3D&job=5-NOX_8QEt-rK7bxf5GsC6WDYOf3GXzJT1DiG2QPO9g_db_7pPSFhQ\n",
      "https://www.simplyhired.com/search?q=Business+Analyst&l=united+states&t=1&cursor=ABQAFwHMAAAAAAAAAAAAAAACDzYmigEBAQkDtuatf56zvHsiAQn0C8Q6HX1tvqI%2Fa5kATotLnqz8Y9ebqwBIooC0LyfvmRYQTnkuMK1laM3GawE%3D&job=p4UkwVtC_pS4QWVER5_YbzX6H76Pz1H-I1SFwEzQ7GXk_JrYdIQY5g\n",
      "https://www.simplyhired.com/search?q=Business+Analyst&l=united+states&t=1&cursor=ABQAFwHMAAAAAAAAAAAAAAACDzYmigEBAQkDtuatf56zvHsiAQn0C8Q6HX1tvqI%2Fa5kATotLnqz8Y9ebqwBIooC0LyfvmRYQTnkuMK1laM3GawE%3D&job=uiYNQGb6LhEZVZKQofvPD3ZPidSWk2ymhhJx8goFLgNWg5LOwW49tQ\n",
      "https://www.simplyhired.com/search?q=Business+Analyst&l=united+states&t=1&cursor=ABQAFwHMAAAAAAAAAAAAAAACDzYmigEBAQkDtuatf56zvHsiAQn0C8Q6HX1tvqI%2Fa5kATotLnqz8Y9ebqwBIooC0LyfvmRYQTnkuMK1laM3GawE%3D&job=FxfkxX709fci9FYBbXuTy2CKV18SPLfxsVNlclcibCAZWifYy10MDQ\n",
      "https://www.simplyhired.com/search?q=Business+Analyst&l=united+states&t=1&cursor=ABQAFwHMAAAAAAAAAAAAAAACDzYmigEBAQkDtuatf56zvHsiAQn0C8Q6HX1tvqI%2Fa5kATotLnqz8Y9ebqwBIooC0LyfvmRYQTnkuMK1laM3GawE%3D&job=RWJiL1Jg6xkY9_pJ-TikxikxxyhKfOFznOw-aZvJAmT6pceILa6n0A\n",
      "https://www.simplyhired.com/search?q=Business+Analyst&l=united+states&t=1&cursor=ABQAFwHMAAAAAAAAAAAAAAACDzYmigEBAQkDtuatf56zvHsiAQn0C8Q6HX1tvqI%2Fa5kATotLnqz8Y9ebqwBIooC0LyfvmRYQTnkuMK1laM3GawE%3D&job=JwaM7CaKdUJh7L9A-Zj0Hjk_eiJBYStnrQdLvZTS4G0QEGnpuaKMnQ\n",
      "https://www.simplyhired.com/search?q=Business+Analyst&l=united+states&t=1&cursor=ABQAFwHMAAAAAAAAAAAAAAACDzYmigEBAQkDtuatf56zvHsiAQn0C8Q6HX1tvqI%2Fa5kATotLnqz8Y9ebqwBIooC0LyfvmRYQTnkuMK1laM3GawE%3D&job=ucE5hHR80nWcktIyJAaiQuwSpK9HX2Gi2MveRcSwmAoRvIT2Kr7_Mw\n",
      "https://www.simplyhired.com/search?q=Business+Analyst&l=united+states&t=1&cursor=ABQAFwHMAAAAAAAAAAAAAAACDzYmigEBAQkDtuatf56zvHsiAQn0C8Q6HX1tvqI%2Fa5kATotLnqz8Y9ebqwBIooC0LyfvmRYQTnkuMK1laM3GawE%3D&job=w4724s4zHryESE9faCk0zwjCerDBbv8SntlwfKctgCriym9_JfsSGw\n",
      "https://www.simplyhired.com/search?q=Business+Analyst&l=united+states&t=1&cursor=ABQAFwHMAAAAAAAAAAAAAAACDzYmigEBAQkDtuatf56zvHsiAQn0C8Q6HX1tvqI%2Fa5kATotLnqz8Y9ebqwBIooC0LyfvmRYQTnkuMK1laM3GawE%3D&job=xH9P9rJgn-7kSpL_Hg8TuOyi2B4UBCCFtf3aXxCX6VKAa_5e6J-ZIg\n"
     ]
    },
    {
     "name": "stderr",
     "output_type": "stream",
     "text": [
      "/tmp/ipykernel_5743/3381847202.py:22: FutureWarning: The frame.append method is deprecated and will be removed from pandas in a future version. Use pandas.concat instead.\n",
      "  df = df.append(page_data)\n"
     ]
    },
    {
     "name": "stdout",
     "output_type": "stream",
     "text": [
      "Page Number: 25  Page Link:  https://www.simplyhired.com/search?q=Business+Analyst&l=united+states&t=1&cursor=ABQAGAHgAAAAAAAAAAAAAAACDzYmigEADkJKublMJNV3L%2BYFlreMJlz%2FN%2BKfEg%3D%3D\n",
      "https://www.simplyhired.com/search?q=Business+Analyst&l=united+states&t=1&cursor=ABQAGAHgAAAAAAAAAAAAAAACDzYmigEADkJKublMJNV3L%2BYFlreMJlz%2FN%2BKfEg%3D%3D&job=M3DAqTT3svVBYEsFkdbkDAptLHVn1dOgLcNEq4gCEdrUF2tTCXrr_w\n",
      "https://www.simplyhired.com/search?q=Business+Analyst&l=united+states&t=1&cursor=ABQAGAHgAAAAAAAAAAAAAAACDzYmigEADkJKublMJNV3L%2BYFlreMJlz%2FN%2BKfEg%3D%3D&job=iTY_txHceBDq0Fg8J4YuV8PZnT-RfNuz2BXHh-TLv70LH3oVkgaxFg\n",
      "https://www.simplyhired.com/search?q=Business+Analyst&l=united+states&t=1&cursor=ABQAGAHgAAAAAAAAAAAAAAACDzYmigEADkJKublMJNV3L%2BYFlreMJlz%2FN%2BKfEg%3D%3D&job=hXPyHbmrnsheboVqXFZVMV3CTPbZff_pGn8g-ouhPu4YCGSJMQVoEQ\n",
      "https://www.simplyhired.com/search?q=Business+Analyst&l=united+states&t=1&cursor=ABQAGAHgAAAAAAAAAAAAAAACDzYmigEADkJKublMJNV3L%2BYFlreMJlz%2FN%2BKfEg%3D%3D&job=14Xim725rZgqsolxC6xrPAPOLVwXuX1VcM0C3HW0WEwJlKQ2ae39aA\n",
      "https://www.simplyhired.com/search?q=Business+Analyst&l=united+states&t=1&cursor=ABQAGAHgAAAAAAAAAAAAAAACDzYmigEADkJKublMJNV3L%2BYFlreMJlz%2FN%2BKfEg%3D%3D&job=KVB5jQhJ4q876rsO5wM4U5ttfLj750RmFbBl4EEeMOaoBruoUEzmRg\n",
      "https://www.simplyhired.com/search?q=Business+Analyst&l=united+states&t=1&cursor=ABQAGAHgAAAAAAAAAAAAAAACDzYmigEADkJKublMJNV3L%2BYFlreMJlz%2FN%2BKfEg%3D%3D&job=Ld9SpB0X4t41uQ04fbJouqS798y1-WcuW_GWBKcOufTrnRGnLjo6LA\n",
      "https://www.simplyhired.com/search?q=Business+Analyst&l=united+states&t=1&cursor=ABQAGAHgAAAAAAAAAAAAAAACDzYmigEADkJKublMJNV3L%2BYFlreMJlz%2FN%2BKfEg%3D%3D&job=QVANYwzbTollfe-zLu24iPTp16BudQHwyd8RFdcsIasosmnWLm1kYQ\n",
      "https://www.simplyhired.com/search?q=Business+Analyst&l=united+states&t=1&cursor=ABQAGAHgAAAAAAAAAAAAAAACDzYmigEADkJKublMJNV3L%2BYFlreMJlz%2FN%2BKfEg%3D%3D&job=vB9bdKUPDHVQXpTbtWhJo1-NW5DYUM8ehKQE6dBwes9EeJ14CPkn8Q\n",
      "https://www.simplyhired.com/search?q=Business+Analyst&l=united+states&t=1&cursor=ABQAGAHgAAAAAAAAAAAAAAACDzYmigEADkJKublMJNV3L%2BYFlreMJlz%2FN%2BKfEg%3D%3D&job=3hpN-mO4OCyPC4vnjwMV8Lmhvy7fkTM_44GOIEvo3p0qunRZuXkaPw\n"
     ]
    },
    {
     "name": "stderr",
     "output_type": "stream",
     "text": [
      "/tmp/ipykernel_5743/3381847202.py:22: FutureWarning: The frame.append method is deprecated and will be removed from pandas in a future version. Use pandas.concat instead.\n",
      "  df = df.append(page_data)\n"
     ]
    },
    {
     "name": "stdout",
     "output_type": "stream",
     "text": [
      "Number of jobs for DevOps Engineer:74   total_page:4\n",
      "Page Number: 1  Page Link:  https://www.simplyhired.com/search?q=DevOps Engineer&l=united+states&t=1\n",
      "https://www.simplyhired.com/search?q=DevOps Engineer&l=united+states&t=1&job=ldzXJNxggjINzKFze4RrUCf_H8Ci6v6GmsoAMg9jzuC1YHDnT7FCmQ\n",
      "https://www.simplyhired.com/search?q=DevOps Engineer&l=united+states&t=1&job=aItxVDI0Ua2N7qA70-pV1GaCk-c7ItvXee9MnGB5vh3Vf9In5NnBQg\n",
      "https://www.simplyhired.com/search?q=DevOps Engineer&l=united+states&t=1&job=LcW0hGVVAyQDQkRmPwGv754OZ3EG_1iL9ueXznottIbj7fc9PuEgwA\n",
      "https://www.simplyhired.com/search?q=DevOps Engineer&l=united+states&t=1&job=LfMEJefYTS8JhL5pLYn07o8OQ8lwcVDjd9TBuyKod13RIWaYoIFlBQ\n",
      "https://www.simplyhired.com/search?q=DevOps Engineer&l=united+states&t=1&job=RplgLCEQjxCAelgEu4xQOj-w7wVcgIJc19CchRGJQaB5jeKYTo4Few\n",
      "https://www.simplyhired.com/search?q=DevOps Engineer&l=united+states&t=1&job=_AF7XZAaPvwmcCO0jngIPhzE8spK-rF5BFejjNpQkYm8jNu-smlUCQ\n",
      "https://www.simplyhired.com/search?q=DevOps Engineer&l=united+states&t=1&job=42kI4UnTEsgYOPqALk7nh1t17GjBKogqxGler8PQj4UA-40haH-nEA\n",
      "https://www.simplyhired.com/search?q=DevOps Engineer&l=united+states&t=1&job=x_X1JaBgXw76FySPDgTRqMevXJ1hKTgHE7ehVRiCb1opoJ4LFzhK-Q\n",
      "https://www.simplyhired.com/search?q=DevOps Engineer&l=united+states&t=1&job=bLHdtYU5QPJQVEct_Y6sF8TN6ECmLuBEOkhgbQVR2JphkDfyI6zUrA\n",
      "https://www.simplyhired.com/search?q=DevOps Engineer&l=united+states&t=1&job=ima0GUbiqmUJTlSb55b2SwHi57iiLum0cLO3Sq1-pO73xzc9ovVaaw\n",
      "https://www.simplyhired.com/search?q=DevOps Engineer&l=united+states&t=1&job=ZFznHjD_skQxmMZublKzMhNdtkkJEJr3AhyORPQEWylcOCp8_0QzAQ\n",
      "https://www.simplyhired.com/search?q=DevOps Engineer&l=united+states&t=1&job=KTOmLHvsoPIg2xLWKZlSyiwUxD2PnydFS3nq-AlrLMFCPMx7HPSdnA\n",
      "https://www.simplyhired.com/search?q=DevOps Engineer&l=united+states&t=1&job=xm3NrjP3I1XfXV50K9xBMHXpr8rlklZjEnZqdpF61q7r9-61TYOljg\n",
      "https://www.simplyhired.com/search?q=DevOps Engineer&l=united+states&t=1&job=Jj30Bgf3q-fUif6UUqMSP1u6yYIzu9IxKMZRU-Ot5HscSDRlCnnptA\n",
      "https://www.simplyhired.com/search?q=DevOps Engineer&l=united+states&t=1&job=D8zXcHTS2YtKwP-pxb5el2xdeai9AoC-oEe7IA1Bn5Iqnmcgrew9NA\n",
      "https://www.simplyhired.com/search?q=DevOps Engineer&l=united+states&t=1&job=68yTKU6IoLdLxcFjgSI6g5i6iHYftfuAmPk9ZeoTeSReipUj_jpOjQ\n",
      "https://www.simplyhired.com/search?q=DevOps Engineer&l=united+states&t=1&job=KRWffkxYv-zuVz2_tUQa6Die7jKhlyf9rWWo3pTT_zbbqcHNzbNy9A\n",
      "https://www.simplyhired.com/search?q=DevOps Engineer&l=united+states&t=1&job=RVKdV14a-owMS9h-ahE-Xncw1qFSEks1DJ8CpQSatlAr4LLKj4gR3g\n",
      "https://www.simplyhired.com/search?q=DevOps Engineer&l=united+states&t=1&job=PSgsdbhPhWHcP48Mg-MPUbgElpYj8rwMUiAKRPUX_krtai8H3X-VTw\n",
      "https://www.simplyhired.com/search?q=DevOps Engineer&l=united+states&t=1&job=wgWSWHu--6URXxGK6ScZ1WSnKD6VgLIBBKQ28m4i6bz1eCsJyxGCAQ\n"
     ]
    },
    {
     "name": "stderr",
     "output_type": "stream",
     "text": [
      "/tmp/ipykernel_5743/3381847202.py:22: FutureWarning: The frame.append method is deprecated and will be removed from pandas in a future version. Use pandas.concat instead.\n",
      "  df = df.append(page_data)\n"
     ]
    },
    {
     "name": "stdout",
     "output_type": "stream",
     "text": [
      "Page Number: 2  Page Link:  https://www.simplyhired.com/search?q=DevOps+Engineer&l=united+states&t=1&cursor=ABQAAQAUAAAAAAAAAAAAAAACDzYKVwEBAQlCYIaA9E58xxiFla9PaM1cmomPMg0%3D\n",
      "https://www.simplyhired.com/search?q=DevOps+Engineer&l=united+states&t=1&cursor=ABQAAQAUAAAAAAAAAAAAAAACDzYKVwEBAQlCYIaA9E58xxiFla9PaM1cmomPMg0%3D&job=1scdy3U088FxSjdWE1vyOq8z3pOrgU7g5EqHV4sRLL6fkHfR9OW7pg\n",
      "https://www.simplyhired.com/search?q=DevOps+Engineer&l=united+states&t=1&cursor=ABQAAQAUAAAAAAAAAAAAAAACDzYKVwEBAQlCYIaA9E58xxiFla9PaM1cmomPMg0%3D&job=w4RyBg5XPB_JjGEf1kX8nM-EZr0Xf05sXrmRIluy47ORqF7o6iCzMQ\n",
      "https://www.simplyhired.com/search?q=DevOps+Engineer&l=united+states&t=1&cursor=ABQAAQAUAAAAAAAAAAAAAAACDzYKVwEBAQlCYIaA9E58xxiFla9PaM1cmomPMg0%3D&job=Q7MwD3oPchraVrq55WlfLf6ucKt6amWjebrupIpcpmCkLdJUZKZH6w\n",
      "https://www.simplyhired.com/search?q=DevOps+Engineer&l=united+states&t=1&cursor=ABQAAQAUAAAAAAAAAAAAAAACDzYKVwEBAQlCYIaA9E58xxiFla9PaM1cmomPMg0%3D&job=4x1S4PXjIWxq5zyLAS-R6li-zhOLyXpnTLlGrp0YDcsfcXM7NlvFuQ\n",
      "https://www.simplyhired.com/search?q=DevOps+Engineer&l=united+states&t=1&cursor=ABQAAQAUAAAAAAAAAAAAAAACDzYKVwEBAQlCYIaA9E58xxiFla9PaM1cmomPMg0%3D&job=GqgC07K7L__sBop1egQTl55ZopDhwFEywmRa807SRgmAOq0bjrfRiQ\n",
      "https://www.simplyhired.com/search?q=DevOps+Engineer&l=united+states&t=1&cursor=ABQAAQAUAAAAAAAAAAAAAAACDzYKVwEBAQlCYIaA9E58xxiFla9PaM1cmomPMg0%3D&job=H0TWZ1AXvIk61yMyDC1rX6pgX6b24rxYua79kfjDFklgSxDo8sjCAQ\n",
      "https://www.simplyhired.com/search?q=DevOps+Engineer&l=united+states&t=1&cursor=ABQAAQAUAAAAAAAAAAAAAAACDzYKVwEBAQlCYIaA9E58xxiFla9PaM1cmomPMg0%3D&job=khkVgjRFuXl4GR-yPrjKXRsTQdNyHmaFY-HyLeLmbgtZ8uqwQ4XiGw\n",
      "https://www.simplyhired.com/search?q=DevOps+Engineer&l=united+states&t=1&cursor=ABQAAQAUAAAAAAAAAAAAAAACDzYKVwEBAQlCYIaA9E58xxiFla9PaM1cmomPMg0%3D&job=6BfHgyQ7UzOznT-VhEPDlliWQ0qfRnij1zYHBCG3doZ90Zel_Q0uqA\n",
      "https://www.simplyhired.com/search?q=DevOps+Engineer&l=united+states&t=1&cursor=ABQAAQAUAAAAAAAAAAAAAAACDzYKVwEBAQlCYIaA9E58xxiFla9PaM1cmomPMg0%3D&job=AOIme9yA1nwQC8DiVmauKmNDGf7oPB1PBOjpTfHy-qM5AH5tL4mi9A\n",
      "https://www.simplyhired.com/search?q=DevOps+Engineer&l=united+states&t=1&cursor=ABQAAQAUAAAAAAAAAAAAAAACDzYKVwEBAQlCYIaA9E58xxiFla9PaM1cmomPMg0%3D&job=yzoSDz6sQ12gOglmBXU2bNTCDM2ia65zKa6DirjvCzs-yQx05G6lEA\n",
      "https://www.simplyhired.com/search?q=DevOps+Engineer&l=united+states&t=1&cursor=ABQAAQAUAAAAAAAAAAAAAAACDzYKVwEBAQlCYIaA9E58xxiFla9PaM1cmomPMg0%3D&job=oBCMa19tmzIV9jT5o9NjnUDaV__rhjK_2OLLM_3DvbEvKj-GKhJSzw\n",
      "https://www.simplyhired.com/search?q=DevOps+Engineer&l=united+states&t=1&cursor=ABQAAQAUAAAAAAAAAAAAAAACDzYKVwEBAQlCYIaA9E58xxiFla9PaM1cmomPMg0%3D&job=IEK3cC5lrGZrM9GkbpByyOqKTCMGUeEQ82QZLX8aTKs0OoCx-iLCJw\n",
      "https://www.simplyhired.com/search?q=DevOps+Engineer&l=united+states&t=1&cursor=ABQAAQAUAAAAAAAAAAAAAAACDzYKVwEBAQlCYIaA9E58xxiFla9PaM1cmomPMg0%3D&job=Q6iRKol_sZ5spwI8NvY05b5LjiZqO02HY1sFXmc1qumEwIV9MldDNA\n",
      "https://www.simplyhired.com/search?q=DevOps+Engineer&l=united+states&t=1&cursor=ABQAAQAUAAAAAAAAAAAAAAACDzYKVwEBAQlCYIaA9E58xxiFla9PaM1cmomPMg0%3D&job=ojC7b8Gm_hs4Z3yd-ZwMrz348YGBJEdHT1gH0MzbMXePPAQJdOK7cQ\n",
      "https://www.simplyhired.com/search?q=DevOps+Engineer&l=united+states&t=1&cursor=ABQAAQAUAAAAAAAAAAAAAAACDzYKVwEBAQlCYIaA9E58xxiFla9PaM1cmomPMg0%3D&job=gTtVzYAwEP-W0QErj1dLAObxts4MOm_lVz-YCs-kOxnJF0TZjvA1Cw\n",
      "https://www.simplyhired.com/search?q=DevOps+Engineer&l=united+states&t=1&cursor=ABQAAQAUAAAAAAAAAAAAAAACDzYKVwEBAQlCYIaA9E58xxiFla9PaM1cmomPMg0%3D&job=8kcPjKoe_4Jbn_665d2vb0SfMMpUvIpdDmc8XTIExOHI_WKpbltLow\n",
      "https://www.simplyhired.com/search?q=DevOps+Engineer&l=united+states&t=1&cursor=ABQAAQAUAAAAAAAAAAAAAAACDzYKVwEBAQlCYIaA9E58xxiFla9PaM1cmomPMg0%3D&job=PK2GJyLlv2fwC8RmqOYTcm55iSL7sQFg0g3REiCA0P3w6cYCo48mMA\n",
      "https://www.simplyhired.com/search?q=DevOps+Engineer&l=united+states&t=1&cursor=ABQAAQAUAAAAAAAAAAAAAAACDzYKVwEBAQlCYIaA9E58xxiFla9PaM1cmomPMg0%3D&job=IKzK7oGHGPzRdIXLhzBZStsZEfinXoSH9nKgD-RLxpJHNU00K9EpWA\n",
      "https://www.simplyhired.com/search?q=DevOps+Engineer&l=united+states&t=1&cursor=ABQAAQAUAAAAAAAAAAAAAAACDzYKVwEBAQlCYIaA9E58xxiFla9PaM1cmomPMg0%3D&job=uZ425kFcneM76k4k6hr7kBIshNVzDBhOXyBdQ33LgPEDzUTKa5mySg\n",
      "https://www.simplyhired.com/search?q=DevOps+Engineer&l=united+states&t=1&cursor=ABQAAQAUAAAAAAAAAAAAAAACDzYKVwEBAQlCYIaA9E58xxiFla9PaM1cmomPMg0%3D&job=iQahXYk53HCb75hLW4SPA6jg3gPYSwLAiXZfWrctTWH1s_YTmU8dyw\n"
     ]
    },
    {
     "name": "stderr",
     "output_type": "stream",
     "text": [
      "/tmp/ipykernel_5743/3381847202.py:22: FutureWarning: The frame.append method is deprecated and will be removed from pandas in a future version. Use pandas.concat instead.\n",
      "  df = df.append(page_data)\n"
     ]
    },
    {
     "name": "stdout",
     "output_type": "stream",
     "text": [
      "Page Number: 3  Page Link:  https://www.simplyhired.com/search?q=DevOps+Engineer&l=united+states&t=1&cursor=ABQAAgAoAAAAAAAAAAAAAAACDzYKVwEBAQ1GcguOKH3Y%2BCVQyV3sSylJQfMmlaU%3D\n",
      "https://www.simplyhired.com/search?q=DevOps+Engineer&l=united+states&t=1&cursor=ABQAAgAoAAAAAAAAAAAAAAACDzYKVwEBAQ1GcguOKH3Y%2BCVQyV3sSylJQfMmlaU%3D&job=zAKoPDHQHdCy_JjzGJsM8otMbl3wR22k1nDMcF437rkaIKYOuEwpUQ\n",
      "https://www.simplyhired.com/search?q=DevOps+Engineer&l=united+states&t=1&cursor=ABQAAgAoAAAAAAAAAAAAAAACDzYKVwEBAQ1GcguOKH3Y%2BCVQyV3sSylJQfMmlaU%3D&job=Rt5g0BpzSMpjRJ_LM1b1SKboRvGtF2ozMQXzgmiSe_vUkVnx4SxBkQ\n",
      "https://www.simplyhired.com/search?q=DevOps+Engineer&l=united+states&t=1&cursor=ABQAAgAoAAAAAAAAAAAAAAACDzYKVwEBAQ1GcguOKH3Y%2BCVQyV3sSylJQfMmlaU%3D&job=lpD8Wh2vcg0wF3IS05lOEMhJy5f2qkizDq8saR65FWUSNdb_q-TRCg\n",
      "https://www.simplyhired.com/search?q=DevOps+Engineer&l=united+states&t=1&cursor=ABQAAgAoAAAAAAAAAAAAAAACDzYKVwEBAQ1GcguOKH3Y%2BCVQyV3sSylJQfMmlaU%3D&job=AaykM73lmvj0S3T3BTlVl9pbjJrN4PFloEouY1kudufErLJ93v7RFw\n",
      "https://www.simplyhired.com/search?q=DevOps+Engineer&l=united+states&t=1&cursor=ABQAAgAoAAAAAAAAAAAAAAACDzYKVwEBAQ1GcguOKH3Y%2BCVQyV3sSylJQfMmlaU%3D&job=Dk1YAQlu24vkdp7fPHIR3DfRCqrPbZ0JWvkuFdPtSAcfbWl-ZIz2Kg\n",
      "https://www.simplyhired.com/search?q=DevOps+Engineer&l=united+states&t=1&cursor=ABQAAgAoAAAAAAAAAAAAAAACDzYKVwEBAQ1GcguOKH3Y%2BCVQyV3sSylJQfMmlaU%3D&job=P2iZvEnvhh2b0TQILgZve3SzEew_iVxG5E1m_I7ycD2k1EyoA_OJow\n",
      "https://www.simplyhired.com/search?q=DevOps+Engineer&l=united+states&t=1&cursor=ABQAAgAoAAAAAAAAAAAAAAACDzYKVwEBAQ1GcguOKH3Y%2BCVQyV3sSylJQfMmlaU%3D&job=H6JVUHBG0pgWCT1JqpLPxeOp4o1yZBiLMpTey8t4jmQxG6UmbC_LnA\n",
      "https://www.simplyhired.com/search?q=DevOps+Engineer&l=united+states&t=1&cursor=ABQAAgAoAAAAAAAAAAAAAAACDzYKVwEBAQ1GcguOKH3Y%2BCVQyV3sSylJQfMmlaU%3D&job=j8hYZetzD1xVoZZ9ulIxsMGQzGA4RKurn51CsFVFfI6SZp3h94TmeA\n",
      "https://www.simplyhired.com/search?q=DevOps+Engineer&l=united+states&t=1&cursor=ABQAAgAoAAAAAAAAAAAAAAACDzYKVwEBAQ1GcguOKH3Y%2BCVQyV3sSylJQfMmlaU%3D&job=saFqsFXvNhMOdbOMfV2wEzoNHMLnjjZObuecmvFZvNuF2KTZy3JWvg\n",
      "https://www.simplyhired.com/search?q=DevOps+Engineer&l=united+states&t=1&cursor=ABQAAgAoAAAAAAAAAAAAAAACDzYKVwEBAQ1GcguOKH3Y%2BCVQyV3sSylJQfMmlaU%3D&job=SblWN5qFWwp5ZR58ZMi5FIfG1-7gzvx4dEDaUniPLChbcVBArraYrQ\n",
      "https://www.simplyhired.com/search?q=DevOps+Engineer&l=united+states&t=1&cursor=ABQAAgAoAAAAAAAAAAAAAAACDzYKVwEBAQ1GcguOKH3Y%2BCVQyV3sSylJQfMmlaU%3D&job=VdCxNZTTaB0J2hrlT97HwsydGTEdWN-88gkmVoGaD6sOFJm1IrP5uw\n",
      "https://www.simplyhired.com/search?q=DevOps+Engineer&l=united+states&t=1&cursor=ABQAAgAoAAAAAAAAAAAAAAACDzYKVwEBAQ1GcguOKH3Y%2BCVQyV3sSylJQfMmlaU%3D&job=c3v0OnDBpDbuVluFJDJr_t6wz-S0aZnXwll4srpE6B54zp-H_szMUQ\n",
      "https://www.simplyhired.com/search?q=DevOps+Engineer&l=united+states&t=1&cursor=ABQAAgAoAAAAAAAAAAAAAAACDzYKVwEBAQ1GcguOKH3Y%2BCVQyV3sSylJQfMmlaU%3D&job=azN1-Bmqk2J4vOWW5ZPcdvwo88GQM7qsA4Us8FUQBtfQ0JLjHfvTtw\n",
      "https://www.simplyhired.com/search?q=DevOps+Engineer&l=united+states&t=1&cursor=ABQAAgAoAAAAAAAAAAAAAAACDzYKVwEBAQ1GcguOKH3Y%2BCVQyV3sSylJQfMmlaU%3D&job=4tSb7qlqQg8uU2FDsOrX1FC2nebIHvLEHDj1iX-cAlUakckT8fyPyQ\n",
      "https://www.simplyhired.com/search?q=DevOps+Engineer&l=united+states&t=1&cursor=ABQAAgAoAAAAAAAAAAAAAAACDzYKVwEBAQ1GcguOKH3Y%2BCVQyV3sSylJQfMmlaU%3D&job=xkJ-OSCPw6RC3p6zgXtW9dcmngp_1SZCzveG-9ZcZbBlrUQ4VRib0w\n",
      "https://www.simplyhired.com/search?q=DevOps+Engineer&l=united+states&t=1&cursor=ABQAAgAoAAAAAAAAAAAAAAACDzYKVwEBAQ1GcguOKH3Y%2BCVQyV3sSylJQfMmlaU%3D&job=7jUEX-sWsBcU-Txjb7RdTmXCBhvpgKCo-7A8Gy2k5zzGhSyB0f62lQ\n",
      "https://www.simplyhired.com/search?q=DevOps+Engineer&l=united+states&t=1&cursor=ABQAAgAoAAAAAAAAAAAAAAACDzYKVwEBAQ1GcguOKH3Y%2BCVQyV3sSylJQfMmlaU%3D&job=JLN3zLzZVLCIzuRTnu5gmpx5MdMsZjOPdEJVBftKxVPEEINvZiscpg\n",
      "https://www.simplyhired.com/search?q=DevOps+Engineer&l=united+states&t=1&cursor=ABQAAgAoAAAAAAAAAAAAAAACDzYKVwEBAQ1GcguOKH3Y%2BCVQyV3sSylJQfMmlaU%3D&job=OR7ataKzdVzbEnpjvsQSlccExdJPdP613RmItWTZPt4atGyz7xnWbQ\n",
      "https://www.simplyhired.com/search?q=DevOps+Engineer&l=united+states&t=1&cursor=ABQAAgAoAAAAAAAAAAAAAAACDzYKVwEBAQ1GcguOKH3Y%2BCVQyV3sSylJQfMmlaU%3D&job=NwlinCWUaf5GO_j6uxAHBAU6Wy1swxsaZ2CLYs1576seFpZ2R6zoTQ\n",
      "https://www.simplyhired.com/search?q=DevOps+Engineer&l=united+states&t=1&cursor=ABQAAgAoAAAAAAAAAAAAAAACDzYKVwEBAQ1GcguOKH3Y%2BCVQyV3sSylJQfMmlaU%3D&job=ssRA3hIWkqIf9Y3YTsIzOzRJLvu_Jou1GeNYdR5KjZeAvWDZWxNy6w\n"
     ]
    },
    {
     "name": "stderr",
     "output_type": "stream",
     "text": [
      "/tmp/ipykernel_5743/3381847202.py:22: FutureWarning: The frame.append method is deprecated and will be removed from pandas in a future version. Use pandas.concat instead.\n",
      "  df = df.append(page_data)\n"
     ]
    },
    {
     "name": "stdout",
     "output_type": "stream",
     "text": [
      "Page Number: 4  Page Link:  https://www.simplyhired.com/search?q=DevOps+Engineer&l=united+states&t=1&cursor=ABQAAwA8AAAAAAAAAAAAAAACDzYKVwEAKYD90uerFTl6llhnu3igh1s6XA%3D%3D\n",
      "https://www.simplyhired.com/search?q=DevOps+Engineer&l=united+states&t=1&cursor=ABQAAwA8AAAAAAAAAAAAAAACDzYKVwEAKYD90uerFTl6llhnu3igh1s6XA%3D%3D&job=gvVSk8NVwDL7TstgNIXR1ZYnXCY8hn3H5YdfgLFTsVffa-n7RSsSiw\n",
      "https://www.simplyhired.com/search?q=DevOps+Engineer&l=united+states&t=1&cursor=ABQAAwA8AAAAAAAAAAAAAAACDzYKVwEAKYD90uerFTl6llhnu3igh1s6XA%3D%3D&job=Ii274bF7oxoLZcnEdL8aYbY2xBe8q9OT--XrNwss3aYl0TjR5BtoRg\n",
      "https://www.simplyhired.com/search?q=DevOps+Engineer&l=united+states&t=1&cursor=ABQAAwA8AAAAAAAAAAAAAAACDzYKVwEAKYD90uerFTl6llhnu3igh1s6XA%3D%3D&job=A88A3iY-016Oyz7Uvc3Z_XF9G2rMGI6tGsQ6jbUNDVvzLPzX3_H0ng\n",
      "https://www.simplyhired.com/search?q=DevOps+Engineer&l=united+states&t=1&cursor=ABQAAwA8AAAAAAAAAAAAAAACDzYKVwEAKYD90uerFTl6llhnu3igh1s6XA%3D%3D&job=PdZvMtpIGvqOBUxHJd9SKlFlBp1iEkXcXEZg5y7kVnH7-trJQRcEtQ\n",
      "https://www.simplyhired.com/search?q=DevOps+Engineer&l=united+states&t=1&cursor=ABQAAwA8AAAAAAAAAAAAAAACDzYKVwEAKYD90uerFTl6llhnu3igh1s6XA%3D%3D&job=88FxmakSGXvJoWsU3dg92KF6J3iJyRA7S6kFFpNppFNm_CSJD73Zog\n",
      "https://www.simplyhired.com/search?q=DevOps+Engineer&l=united+states&t=1&cursor=ABQAAwA8AAAAAAAAAAAAAAACDzYKVwEAKYD90uerFTl6llhnu3igh1s6XA%3D%3D&job=AQTTHdGDw7EbhEXlWlNxmUTgJ1cn0W-CNhkAyZdRJTjL4AaCpXhwdQ\n",
      "https://www.simplyhired.com/search?q=DevOps+Engineer&l=united+states&t=1&cursor=ABQAAwA8AAAAAAAAAAAAAAACDzYKVwEAKYD90uerFTl6llhnu3igh1s6XA%3D%3D&job=4aNJut_aRGd9JI1ZmHZtQrlf9Phj4BLI_JgrI0vEK4yx5nJo2UvTlg\n",
      "https://www.simplyhired.com/search?q=DevOps+Engineer&l=united+states&t=1&cursor=ABQAAwA8AAAAAAAAAAAAAAACDzYKVwEAKYD90uerFTl6llhnu3igh1s6XA%3D%3D&job=pOxc0oaPatFoR_9iLnnWCZlYyUkDaT067aQBUM233iyOtZCyv9WChQ\n",
      "https://www.simplyhired.com/search?q=DevOps+Engineer&l=united+states&t=1&cursor=ABQAAwA8AAAAAAAAAAAAAAACDzYKVwEAKYD90uerFTl6llhnu3igh1s6XA%3D%3D&job=CVd3w2HismzDkDqaeGpZUbaVCager1GypYz89RfJlV-VvEXoTO_tiQ\n",
      "https://www.simplyhired.com/search?q=DevOps+Engineer&l=united+states&t=1&cursor=ABQAAwA8AAAAAAAAAAAAAAACDzYKVwEAKYD90uerFTl6llhnu3igh1s6XA%3D%3D&job=lPMLBJV6C2pZJU6kC32CD6lYARm9oJEcK9VhNqKBOBaBjhfuo7vIaA\n",
      "https://www.simplyhired.com/search?q=DevOps+Engineer&l=united+states&t=1&cursor=ABQAAwA8AAAAAAAAAAAAAAACDzYKVwEAKYD90uerFTl6llhnu3igh1s6XA%3D%3D&job=jL6UXkUhfUgFt1dXsYutzLBh4vQ2X3kHycobGg_T08Heu7vcvVG-1Q\n",
      "https://www.simplyhired.com/search?q=DevOps+Engineer&l=united+states&t=1&cursor=ABQAAwA8AAAAAAAAAAAAAAACDzYKVwEAKYD90uerFTl6llhnu3igh1s6XA%3D%3D&job=7hyy0Iwyv00J6YOpHW1upReuOAe82V9lm2nWBMDhB9tMPBVK4B1frg\n",
      "https://www.simplyhired.com/search?q=DevOps+Engineer&l=united+states&t=1&cursor=ABQAAwA8AAAAAAAAAAAAAAACDzYKVwEAKYD90uerFTl6llhnu3igh1s6XA%3D%3D&job=w71bAzN83oHr2gO3uNK-Bhmzav3jLfP92X5E_5iA0IvxU8nM_fNxEQ\n",
      "https://www.simplyhired.com/search?q=DevOps+Engineer&l=united+states&t=1&cursor=ABQAAwA8AAAAAAAAAAAAAAACDzYKVwEAKYD90uerFTl6llhnu3igh1s6XA%3D%3D&job=lNKXTi8jMbH0jXXyAPIkjHcilQpXGuYsN0Clhr5cXfKabMXirB2cKA\n"
     ]
    },
    {
     "name": "stderr",
     "output_type": "stream",
     "text": [
      "/tmp/ipykernel_5743/3381847202.py:22: FutureWarning: The frame.append method is deprecated and will be removed from pandas in a future version. Use pandas.concat instead.\n",
      "  df = df.append(page_data)\n"
     ]
    },
    {
     "name": "stdout",
     "output_type": "stream",
     "text": [
      "Number of jobs for UI/UX:62   total_page:4\n",
      "Page Number: 1  Page Link:  https://www.simplyhired.com/search?q=UI/UX&l=united+states&t=1\n",
      "https://www.simplyhired.com/search?q=UI/UX&l=united+states&t=1&job=OnwOQ4WQf9vx_wragGULWuis-8hH56FAKt8KHwTXWYo9_fHeNwocog\n",
      "https://www.simplyhired.com/search?q=UI/UX&l=united+states&t=1&job=e6NuxPvha7dL_dEBt7mCA3yNBBs44Fuk-LeJCc2hMaOioy-d1q_DMA\n",
      "https://www.simplyhired.com/search?q=UI/UX&l=united+states&t=1&job=ZJcJrrNNy_xCVYqVluiWuDP05yghFxzeDNq40qMSLJdDo3ANfD5heQ\n",
      "https://www.simplyhired.com/search?q=UI/UX&l=united+states&t=1&job=0ff6jD19VwhZf4fzJ6FzN2fETv_G94BYQhE9JrJwQHb5DzhnTXnGhA\n",
      "https://www.simplyhired.com/search?q=UI/UX&l=united+states&t=1&job=talIRg9LjbERVlRnVdhh1LrUfi7iMZRFqmv76w9wD49lHrjlKTwKYw\n",
      "https://www.simplyhired.com/search?q=UI/UX&l=united+states&t=1&job=TtEriyrlkwirxrJp8SWJvvsk01Bo3Rzfd0VVnaXbvLkbqvqBl6Azog\n",
      "https://www.simplyhired.com/search?q=UI/UX&l=united+states&t=1&job=5TJV3RNm9461HnO0nWVzRt7FtQwgCtLaSH-9OhGF2agVWgQhi2iZDQ\n",
      "https://www.simplyhired.com/search?q=UI/UX&l=united+states&t=1&job=2PyqYYLtxGpap5RSrZIsfi0WIz8vyFkXS9Z-AhN4QKJZE2Xj3BhEJA\n",
      "https://www.simplyhired.com/search?q=UI/UX&l=united+states&t=1&job=5UuVff4LrSounJx0Ax51GMMjOWG-Tfj30jG4Po7qc2ktJtJBUFmCGg\n",
      "https://www.simplyhired.com/search?q=UI/UX&l=united+states&t=1&job=KhSOmZpfc6Ng4zxirWFhc9fDQKsh1UT0aBbxzplRSwLqbjo5y67v9w\n",
      "https://www.simplyhired.com/search?q=UI/UX&l=united+states&t=1&job=0OAfhBHSZ1vjAhSMRrbKto9nEzaHQ92za5KHRVKQI60Bkx23CX_ZiA\n",
      "https://www.simplyhired.com/search?q=UI/UX&l=united+states&t=1&job=BeOEW3Rww9SR5ciZ2SINtc7P9zrve9qjm-NMW7Z6SkaDZ-xhOEhoaQ\n",
      "https://www.simplyhired.com/search?q=UI/UX&l=united+states&t=1&job=8qSmwvl01chA3WwWMDMySCItCWEBH4RfxUc4trRWHchE8NTDnKjEVg\n",
      "https://www.simplyhired.com/search?q=UI/UX&l=united+states&t=1&job=N9xQRcBYEUb3lN2-8VsHu-XLAMtmn4Q-5FDZXvSMw0cR2qCSCO9TpQ\n",
      "https://www.simplyhired.com/search?q=UI/UX&l=united+states&t=1&job=ELaQzTGETqQIndp8MByuyxFm_oipbbK8uXPO2T5u7CI-_VWWX6d6eQ\n",
      "https://www.simplyhired.com/search?q=UI/UX&l=united+states&t=1&job=fYcelfCq1nLBC4q3bNNdCSY54VzBdpTY7WzO829bg87TCoTK6vDAHQ\n",
      "https://www.simplyhired.com/search?q=UI/UX&l=united+states&t=1&job=KRYM47CZbVepOhcIr1W4WUemR6T72VVwrCkJr0xCFkR_ElME3TPmEg\n",
      "https://www.simplyhired.com/search?q=UI/UX&l=united+states&t=1&job=VU-Gei54bEWPfu3bNp7s3QqLayVzPb7xrS5QfA621Sgosy7F344eIg\n",
      "https://www.simplyhired.com/search?q=UI/UX&l=united+states&t=1&job=-xS5Z0lFH7o-gP710nDk-RSuiyrTIQ6oDJmVuReJwRUHuHOcgRhz0w\n",
      "https://www.simplyhired.com/search?q=UI/UX&l=united+states&t=1&job=lskDPtK6rM78xXSKr7RBnXgFKUOZJPY0U0IwlH6tsKYSZfVnVBgecg\n"
     ]
    },
    {
     "name": "stderr",
     "output_type": "stream",
     "text": [
      "/tmp/ipykernel_5743/3381847202.py:22: FutureWarning: The frame.append method is deprecated and will be removed from pandas in a future version. Use pandas.concat instead.\n",
      "  df = df.append(page_data)\n"
     ]
    },
    {
     "name": "stdout",
     "output_type": "stream",
     "text": [
      "Page Number: 2  Page Link:  https://www.simplyhired.com/search?q=UI%2FUX&l=united+states&t=1&cursor=ABQAAQAUAAAAAAAAAAAAAAACDzWqiAEBAQcQOHp9XyIifU%2FgT%2BvJgehzOw%3D%3D\n",
      "https://www.simplyhired.com/search?q=UI%2FUX&l=united+states&t=1&cursor=ABQAAQAUAAAAAAAAAAAAAAACDzWqiAEBAQcQOHp9XyIifU%2FgT%2BvJgehzOw%3D%3D&job=yI2gnhvKyxgJJ1bBs8BJYT4son9X_ia8fU910Vx0k9MKkFodaUkFcA\n",
      "https://www.simplyhired.com/search?q=UI%2FUX&l=united+states&t=1&cursor=ABQAAQAUAAAAAAAAAAAAAAACDzWqiAEBAQcQOHp9XyIifU%2FgT%2BvJgehzOw%3D%3D&job=1gRa0QwC3uU7WsNhptlaf6mJLuDyodTcYsw19cR8asBEjHtqSaIJ_Q\n",
      "https://www.simplyhired.com/search?q=UI%2FUX&l=united+states&t=1&cursor=ABQAAQAUAAAAAAAAAAAAAAACDzWqiAEBAQcQOHp9XyIifU%2FgT%2BvJgehzOw%3D%3D&job=L_59mCRdKsjE-PFpoF0Xe9KazoIcKRgXKCGELndEU6L9WQdng24dew\n",
      "https://www.simplyhired.com/search?q=UI%2FUX&l=united+states&t=1&cursor=ABQAAQAUAAAAAAAAAAAAAAACDzWqiAEBAQcQOHp9XyIifU%2FgT%2BvJgehzOw%3D%3D&job=ls9x8rfao5DcvbP60gBnqF8bLCqoCFtwwZB_XkHltrrPFIgqFrLF2A\n",
      "https://www.simplyhired.com/search?q=UI%2FUX&l=united+states&t=1&cursor=ABQAAQAUAAAAAAAAAAAAAAACDzWqiAEBAQcQOHp9XyIifU%2FgT%2BvJgehzOw%3D%3D&job=8OLSX1D-cfcGquo2_gP_Cp4WXGwr0IC3WPL3uFS9DQQy99yvvWyqbA\n",
      "https://www.simplyhired.com/search?q=UI%2FUX&l=united+states&t=1&cursor=ABQAAQAUAAAAAAAAAAAAAAACDzWqiAEBAQcQOHp9XyIifU%2FgT%2BvJgehzOw%3D%3D&job=JDG91rxlaccannIg78AsN8-xwxN9OKFXjk4VxYT86TaBN9sr7iF52Q\n",
      "https://www.simplyhired.com/search?q=UI%2FUX&l=united+states&t=1&cursor=ABQAAQAUAAAAAAAAAAAAAAACDzWqiAEBAQcQOHp9XyIifU%2FgT%2BvJgehzOw%3D%3D&job=QrY54vgxbUSsVXbjTLYq-eUhZUfKkvhuxSVvfXiQX1HJeh4PNqqldA\n",
      "https://www.simplyhired.com/search?q=UI%2FUX&l=united+states&t=1&cursor=ABQAAQAUAAAAAAAAAAAAAAACDzWqiAEBAQcQOHp9XyIifU%2FgT%2BvJgehzOw%3D%3D&job=eClaM7VGE1qaaWmQaMToVfEzoMin8ch8T3uHjJ8S_myLDbsyL1c9PA\n",
      "https://www.simplyhired.com/search?q=UI%2FUX&l=united+states&t=1&cursor=ABQAAQAUAAAAAAAAAAAAAAACDzWqiAEBAQcQOHp9XyIifU%2FgT%2BvJgehzOw%3D%3D&job=xGMTOzqQb1mQPM7pIlMlXXJGR_yd4hZkbXMDrmzOpwfKXu2RYk0jvA\n",
      "https://www.simplyhired.com/search?q=UI%2FUX&l=united+states&t=1&cursor=ABQAAQAUAAAAAAAAAAAAAAACDzWqiAEBAQcQOHp9XyIifU%2FgT%2BvJgehzOw%3D%3D&job=lGhJRULN7CmiN69P8MYZTK6gFkwrRfmukrFIfowF93NCPJsnyG_4lg\n",
      "https://www.simplyhired.com/search?q=UI%2FUX&l=united+states&t=1&cursor=ABQAAQAUAAAAAAAAAAAAAAACDzWqiAEBAQcQOHp9XyIifU%2FgT%2BvJgehzOw%3D%3D&job=eR7ZnJGUgMbTYhvr6nlZBNVmSdGMh5b1CpmyOYC2mujxzLSiuKLMTQ\n",
      "https://www.simplyhired.com/search?q=UI%2FUX&l=united+states&t=1&cursor=ABQAAQAUAAAAAAAAAAAAAAACDzWqiAEBAQcQOHp9XyIifU%2FgT%2BvJgehzOw%3D%3D&job=YLZf2I0cxMCi3lfk468TsOMqWRgL8VXvYqYo2YRG18MttkrKbwvafQ\n",
      "https://www.simplyhired.com/search?q=UI%2FUX&l=united+states&t=1&cursor=ABQAAQAUAAAAAAAAAAAAAAACDzWqiAEBAQcQOHp9XyIifU%2FgT%2BvJgehzOw%3D%3D&job=nj9QdhkQsbkufl_7bTmFQTt_JWGNquotKGXX0XXofKpdbxWlI0SNtQ\n",
      "https://www.simplyhired.com/search?q=UI%2FUX&l=united+states&t=1&cursor=ABQAAQAUAAAAAAAAAAAAAAACDzWqiAEBAQcQOHp9XyIifU%2FgT%2BvJgehzOw%3D%3D&job=wdM_hNMxcoA8y_jj1rtH8HZOUH9SktsnIC7Fb6DQB6o7I64Ls24O3A\n",
      "https://www.simplyhired.com/search?q=UI%2FUX&l=united+states&t=1&cursor=ABQAAQAUAAAAAAAAAAAAAAACDzWqiAEBAQcQOHp9XyIifU%2FgT%2BvJgehzOw%3D%3D&job=vOk9UAyKVYauSm2PvakNMVHrRyg9KtZp5giaKxCjSE6cSG8dQDadWQ\n",
      "https://www.simplyhired.com/search?q=UI%2FUX&l=united+states&t=1&cursor=ABQAAQAUAAAAAAAAAAAAAAACDzWqiAEBAQcQOHp9XyIifU%2FgT%2BvJgehzOw%3D%3D&job=PG9Uq_iNu0jsbsYa7w_ygafq1dtmV-auPa4xYrPv5FzKvXeEkMLjQw\n",
      "https://www.simplyhired.com/search?q=UI%2FUX&l=united+states&t=1&cursor=ABQAAQAUAAAAAAAAAAAAAAACDzWqiAEBAQcQOHp9XyIifU%2FgT%2BvJgehzOw%3D%3D&job=RKzb6kLGX_8oyw-5WrlZ6_X2igL7IvGKxJ96CTmkeiWE6Gm-upzYbg\n",
      "https://www.simplyhired.com/search?q=UI%2FUX&l=united+states&t=1&cursor=ABQAAQAUAAAAAAAAAAAAAAACDzWqiAEBAQcQOHp9XyIifU%2FgT%2BvJgehzOw%3D%3D&job=ck8RkKkf5jamyZFooUroKngd8qS1jGGRtJgQIU5SPR6sPkZLA1qIdg\n",
      "https://www.simplyhired.com/search?q=UI%2FUX&l=united+states&t=1&cursor=ABQAAQAUAAAAAAAAAAAAAAACDzWqiAEBAQcQOHp9XyIifU%2FgT%2BvJgehzOw%3D%3D&job=ZWH0zudpRAlm7ZeH8c2Y9GrGRMcbE8dHWwOIABrZkMZXWJ_mD4mlGg\n",
      "https://www.simplyhired.com/search?q=UI%2FUX&l=united+states&t=1&cursor=ABQAAQAUAAAAAAAAAAAAAAACDzWqiAEBAQcQOHp9XyIifU%2FgT%2BvJgehzOw%3D%3D&job=AMU6LlVdUhS0aA75R-4AKgcL6qtBdvcplf14Lb7KyeM4VHyxytZGBQ\n"
     ]
    },
    {
     "name": "stderr",
     "output_type": "stream",
     "text": [
      "/tmp/ipykernel_5743/3381847202.py:22: FutureWarning: The frame.append method is deprecated and will be removed from pandas in a future version. Use pandas.concat instead.\n",
      "  df = df.append(page_data)\n"
     ]
    },
    {
     "name": "stdout",
     "output_type": "stream",
     "text": [
      "Page Number: 3  Page Link:  https://www.simplyhired.com/search?q=UI%2FUX&l=united+states&t=1&cursor=ABQAAgAoAAAAAAAAAAAAAAACDzWqiAEBAQkLp4HIVWPCJXOyxPgdVUSLP06VuJ0%3D\n",
      "https://www.simplyhired.com/search?q=UI%2FUX&l=united+states&t=1&cursor=ABQAAgAoAAAAAAAAAAAAAAACDzWqiAEBAQkLp4HIVWPCJXOyxPgdVUSLP06VuJ0%3D&job=1zorVV3KYaXW20hRgFVS9B9UzDBXTArgFRMGW1pnvlkvW0XBAtdQZw\n",
      "https://www.simplyhired.com/search?q=UI%2FUX&l=united+states&t=1&cursor=ABQAAgAoAAAAAAAAAAAAAAACDzWqiAEBAQkLp4HIVWPCJXOyxPgdVUSLP06VuJ0%3D&job=yezY7d4lMfDcJtz3_FdxJxp7yHKhnKI3Me6cZWgIiHwVWSqDMmlcGw\n",
      "https://www.simplyhired.com/search?q=UI%2FUX&l=united+states&t=1&cursor=ABQAAgAoAAAAAAAAAAAAAAACDzWqiAEBAQkLp4HIVWPCJXOyxPgdVUSLP06VuJ0%3D&job=UUy3ugBkDiaYF5IoEyZB7NG8yRR1VRWwehB82RR_P15r_66whv5Tyw\n",
      "https://www.simplyhired.com/search?q=UI%2FUX&l=united+states&t=1&cursor=ABQAAgAoAAAAAAAAAAAAAAACDzWqiAEBAQkLp4HIVWPCJXOyxPgdVUSLP06VuJ0%3D&job=Frysm6MXPvpcPC45pMx-af9iz8tEaNIF1mGM48tn5K78vY48bb2Bvw\n",
      "https://www.simplyhired.com/search?q=UI%2FUX&l=united+states&t=1&cursor=ABQAAgAoAAAAAAAAAAAAAAACDzWqiAEBAQkLp4HIVWPCJXOyxPgdVUSLP06VuJ0%3D&job=jdfsnrIMhHL_ZnX-bMTLdljta9KcEuxSCMR13jOHIREnlDzrwdkYKQ\n",
      "https://www.simplyhired.com/search?q=UI%2FUX&l=united+states&t=1&cursor=ABQAAgAoAAAAAAAAAAAAAAACDzWqiAEBAQkLp4HIVWPCJXOyxPgdVUSLP06VuJ0%3D&job=gA22xXRtHckjp2eAzLcK_QJ3UANKMhm2Desxrd_U7TZPQYTPnrmpDw\n",
      "https://www.simplyhired.com/search?q=UI%2FUX&l=united+states&t=1&cursor=ABQAAgAoAAAAAAAAAAAAAAACDzWqiAEBAQkLp4HIVWPCJXOyxPgdVUSLP06VuJ0%3D&job=iwinPZK72aPnEjJVdrTK4MVUGHWOuP2hKw-n6NuvrqfphauzuCYarg\n",
      "https://www.simplyhired.com/search?q=UI%2FUX&l=united+states&t=1&cursor=ABQAAgAoAAAAAAAAAAAAAAACDzWqiAEBAQkLp4HIVWPCJXOyxPgdVUSLP06VuJ0%3D&job=KvGtHtOSXXksIxYeg-E56rLxwuHkGphyNhgGKzAb_Rfz8w4kcluw1A\n",
      "https://www.simplyhired.com/search?q=UI%2FUX&l=united+states&t=1&cursor=ABQAAgAoAAAAAAAAAAAAAAACDzWqiAEBAQkLp4HIVWPCJXOyxPgdVUSLP06VuJ0%3D&job=Gz4xrsaykn_E0hZt9KcgiQ_Bk59isY0MWwpR2DvdhA2VIPLmEKNYqQ\n",
      "https://www.simplyhired.com/search?q=UI%2FUX&l=united+states&t=1&cursor=ABQAAgAoAAAAAAAAAAAAAAACDzWqiAEBAQkLp4HIVWPCJXOyxPgdVUSLP06VuJ0%3D&job=XI3uptYg8uHFdrouet0q_XObue6vqPlEH7J1RgS82s4hfd5u3Bhd4g\n",
      "https://www.simplyhired.com/search?q=UI%2FUX&l=united+states&t=1&cursor=ABQAAgAoAAAAAAAAAAAAAAACDzWqiAEBAQkLp4HIVWPCJXOyxPgdVUSLP06VuJ0%3D&job=YpALwR5eLcTaPFA4fO3VfN3cCP4vOm5u-dh5tF2cibXhQlslBVfotA\n",
      "https://www.simplyhired.com/search?q=UI%2FUX&l=united+states&t=1&cursor=ABQAAgAoAAAAAAAAAAAAAAACDzWqiAEBAQkLp4HIVWPCJXOyxPgdVUSLP06VuJ0%3D&job=TDpXL6S4sRipeu0yGCq52XYk8W9anmWNigj4wXv4OTGtBdUCkjUJNg\n",
      "https://www.simplyhired.com/search?q=UI%2FUX&l=united+states&t=1&cursor=ABQAAgAoAAAAAAAAAAAAAAACDzWqiAEBAQkLp4HIVWPCJXOyxPgdVUSLP06VuJ0%3D&job=EoLUMq2T-x1YcsxlVMk5qbQIIODsxDIWjhhBz7PocfGsKrvQusxizQ\n",
      "https://www.simplyhired.com/search?q=UI%2FUX&l=united+states&t=1&cursor=ABQAAgAoAAAAAAAAAAAAAAACDzWqiAEBAQkLp4HIVWPCJXOyxPgdVUSLP06VuJ0%3D&job=_ks_NuRdxJqU5-57MmIqXER9h3ZSyFb-_zvkN5AW0ph5MkHuESBDLw\n",
      "https://www.simplyhired.com/search?q=UI%2FUX&l=united+states&t=1&cursor=ABQAAgAoAAAAAAAAAAAAAAACDzWqiAEBAQkLp4HIVWPCJXOyxPgdVUSLP06VuJ0%3D&job=kkDuF22xs7sJ7vvGIOsVJzqdLnuAtosJr41Ttf31IErU7rdjgNl0oA\n",
      "https://www.simplyhired.com/search?q=UI%2FUX&l=united+states&t=1&cursor=ABQAAgAoAAAAAAAAAAAAAAACDzWqiAEBAQkLp4HIVWPCJXOyxPgdVUSLP06VuJ0%3D&job=sBm_J6LxSG-nSvmZZTqhTDtAFdL-wjW49m0PwZZwFOZtyPolkryJ5w\n",
      "https://www.simplyhired.com/search?q=UI%2FUX&l=united+states&t=1&cursor=ABQAAgAoAAAAAAAAAAAAAAACDzWqiAEBAQkLp4HIVWPCJXOyxPgdVUSLP06VuJ0%3D&job=e2ClRJdTsn3gUI4GOxf6xCeC_BxbeSs87fLHEOElS-BzcWeih1VXWA\n",
      "https://www.simplyhired.com/search?q=UI%2FUX&l=united+states&t=1&cursor=ABQAAgAoAAAAAAAAAAAAAAACDzWqiAEBAQkLp4HIVWPCJXOyxPgdVUSLP06VuJ0%3D&job=cO-PNcFh83tKW6y9HYtncV7x4Q0SgaVOTCNvS5Zrc9K4C_PZ2Czvlg\n",
      "https://www.simplyhired.com/search?q=UI%2FUX&l=united+states&t=1&cursor=ABQAAgAoAAAAAAAAAAAAAAACDzWqiAEBAQkLp4HIVWPCJXOyxPgdVUSLP06VuJ0%3D&job=IUKWx5igzQ43Ib2dqVtR-UKqRYwTYYAYoiasznxSKhPt9lMQShHD0g\n",
      "https://www.simplyhired.com/search?q=UI%2FUX&l=united+states&t=1&cursor=ABQAAgAoAAAAAAAAAAAAAAACDzWqiAEBAQkLp4HIVWPCJXOyxPgdVUSLP06VuJ0%3D&job=2bfFcnTWg4px9HeNkaIR1P0qGyPto9UcUA1ptJsEDXED6lEDmkaWJQ\n"
     ]
    },
    {
     "name": "stderr",
     "output_type": "stream",
     "text": [
      "/tmp/ipykernel_5743/3381847202.py:22: FutureWarning: The frame.append method is deprecated and will be removed from pandas in a future version. Use pandas.concat instead.\n",
      "  df = df.append(page_data)\n"
     ]
    },
    {
     "name": "stdout",
     "output_type": "stream",
     "text": [
      "Page Number: 4  Page Link:  https://www.simplyhired.com/search?q=UI%2FUX&l=united+states&t=1&cursor=ABQAAwA8AAAAAAAAAAAAAAACDzWqiAEAL342rVbS\n",
      "https://www.simplyhired.com/search?q=UI%2FUX&l=united+states&t=1&cursor=ABQAAwA8AAAAAAAAAAAAAAACDzWqiAEAL342rVbS&job=S4mhRDZYFq8kFY0TJCRPOpAqWFm35p1nv1RM2sFaZFG4300dHSltnA\n",
      "https://www.simplyhired.com/search?q=UI%2FUX&l=united+states&t=1&cursor=ABQAAwA8AAAAAAAAAAAAAAACDzWqiAEAL342rVbS&job=CjvjK-Y9uW1671gapNOfRE-WdgqKhUhroVSIkRJTA6ZMmaSgD_L48g\n"
     ]
    },
    {
     "name": "stderr",
     "output_type": "stream",
     "text": [
      "/tmp/ipykernel_5743/3381847202.py:22: FutureWarning: The frame.append method is deprecated and will be removed from pandas in a future version. Use pandas.concat instead.\n",
      "  df = df.append(page_data)\n"
     ]
    },
    {
     "name": "stdout",
     "output_type": "stream",
     "text": [
      "Number of jobs for IT Manager:137   total_page:7\n",
      "Page Number: 1  Page Link:  https://www.simplyhired.com/search?q=IT Manager&l=united+states&t=1\n",
      "https://www.simplyhired.com/search?q=IT Manager&l=united+states&t=1&job=kQ0HB4imctdwOas7iIv-m5OuLu8corqNk8gtqvkL1lbaH6Eld60gmA\n",
      "https://www.simplyhired.com/search?q=IT Manager&l=united+states&t=1&job=5px7jdirjW8NmURP8lEYwHJPxeILxT9Bhj6U63Je8Xg8SKxYGcd7Lg\n",
      "https://www.simplyhired.com/search?q=IT Manager&l=united+states&t=1&job=eqwduJ5glcojl9-Tf8CcBUH7i6Jf0EsLwkoEnRIEL7mhWl_8UYf5-Q\n",
      "https://www.simplyhired.com/search?q=IT Manager&l=united+states&t=1&job=K8do9NDaWEiU3UGTBfihecT-I7XaXlZyLPijcUpU9MeF_nTYWoNZDg\n",
      "https://www.simplyhired.com/search?q=IT Manager&l=united+states&t=1&job=C8gO88CjX7GqvjYYHrVTzgfD8MjSulCQXWDnF_7Va0uNKYmhWWIY4Q\n",
      "https://www.simplyhired.com/search?q=IT Manager&l=united+states&t=1&job=qExHFKA-wPoqJD7l58OJK_b8ZK2RVbJB-m6gMmXJKJqXwdE017J8YA\n",
      "https://www.simplyhired.com/search?q=IT Manager&l=united+states&t=1&job=Vhrc9wn35mVBwcyZ-1DuRhJ8djc1hdN3DQ6poDnZgVskUx-ZMopPTA\n",
      "https://www.simplyhired.com/search?q=IT Manager&l=united+states&t=1&job=AXx3Z0agV8D4Cj96zYDlNUwAK5JytNUPobUkpo2aopZQpLAinEVXjg\n",
      "https://www.simplyhired.com/search?q=IT Manager&l=united+states&t=1&job=epfgH1JPJgXwk1JxW9jMmL-VLSne2kTpHbHwx8SCgGLqioDxeIfuVw\n",
      "https://www.simplyhired.com/search?q=IT Manager&l=united+states&t=1&job=FFEJB0C9Jw-zec1Q8iJjbrTYEcz8N3MVzE3YI5O8r-GGfmU3EfnbXw\n",
      "https://www.simplyhired.com/search?q=IT Manager&l=united+states&t=1&job=ro_dutD_KHqhJYib66WhlBFHb1u4_ZAnNtnMbG7p4XsELz5nIpib9Q\n",
      "https://www.simplyhired.com/search?q=IT Manager&l=united+states&t=1&job=u4jfojhgogk9ErZRHwahFv3IzDRJ6O3x-RkNFDVCdUZs5ttxWBEQhg\n",
      "https://www.simplyhired.com/search?q=IT Manager&l=united+states&t=1&job=M0tkvEatiNikvgrHcfW4NDkODIqlgGH-6jIWtFErVlslHC3kQnGprA\n",
      "https://www.simplyhired.com/search?q=IT Manager&l=united+states&t=1&job=ZgCL_rLIasJKL1mZhFz8uVpnixqne4qqh4A5z1QJPS9AdXJT9tctIQ\n",
      "https://www.simplyhired.com/search?q=IT Manager&l=united+states&t=1&job=sGG4eMnm7AjJSRWO-hD26q1u8Y0-0YNLzfoyt0EyahAxAxWoM74cpQ\n",
      "https://www.simplyhired.com/search?q=IT Manager&l=united+states&t=1&job=o4p0H7RqtzexbqTXz6ST5UbrX93OSYS01Wb3LRXK_09lfLILI3bATA\n",
      "https://www.simplyhired.com/search?q=IT Manager&l=united+states&t=1&job=wOYQND7BSTTljmKmDcitu7JnTjL2qcNo3o6ixSIuiEFU3tWFP5TGKg\n",
      "https://www.simplyhired.com/search?q=IT Manager&l=united+states&t=1&job=eyUkSTIaFpiOzdQhhEGLF1zKZq4b3qHfI0AKGjknh0fz51Sq0Gtzaw\n",
      "https://www.simplyhired.com/search?q=IT Manager&l=united+states&t=1&job=R35y2QqbyFy_3eDejCWzK_O47bgy0qVlNlXAZ6Ioa9l5HCjksEb-3A\n",
      "https://www.simplyhired.com/search?q=IT Manager&l=united+states&t=1&job=8NXboXuhx_grqQ5dpyhjjnC2vCmz-QyF7KCjTxgbRTQqo4refRcXNw\n"
     ]
    },
    {
     "name": "stderr",
     "output_type": "stream",
     "text": [
      "/tmp/ipykernel_5743/3381847202.py:22: FutureWarning: The frame.append method is deprecated and will be removed from pandas in a future version. Use pandas.concat instead.\n",
      "  df = df.append(page_data)\n"
     ]
    },
    {
     "name": "stdout",
     "output_type": "stream",
     "text": [
      "Page Number: 2  Page Link:  https://www.simplyhired.com/search?q=IT+Manager&l=united+states&t=1&cursor=ABQAAQAUAAAAAAAAAAAAAAACDzUOGAEBAQcBMOFck1%2FiRIMbiu60a77DsdGGoeDcUQA4w0sx\n",
      "https://www.simplyhired.com/search?q=IT+Manager&l=united+states&t=1&cursor=ABQAAQAUAAAAAAAAAAAAAAACDzUOGAEBAQcBMOFck1%2FiRIMbiu60a77DsdGGoeDcUQA4w0sx&job=wuHmJuVfdjTw2Mwj0LxtGaAJmhATcE4BVP_jfTahU9j9iOFI2MD0DQ\n",
      "https://www.simplyhired.com/search?q=IT+Manager&l=united+states&t=1&cursor=ABQAAQAUAAAAAAAAAAAAAAACDzUOGAEBAQcBMOFck1%2FiRIMbiu60a77DsdGGoeDcUQA4w0sx&job=JqAbImXoQIWL0BHX9Xl29KA2oGz2kjmWCT2ySDpfTchYqrF-6z-_1w\n",
      "https://www.simplyhired.com/search?q=IT+Manager&l=united+states&t=1&cursor=ABQAAQAUAAAAAAAAAAAAAAACDzUOGAEBAQcBMOFck1%2FiRIMbiu60a77DsdGGoeDcUQA4w0sx&job=yY-zy22mho8QB69fzY6305Ayf7LE1fp_Mx4Ntc48UYPFrRZXr_SxRQ\n",
      "https://www.simplyhired.com/search?q=IT+Manager&l=united+states&t=1&cursor=ABQAAQAUAAAAAAAAAAAAAAACDzUOGAEBAQcBMOFck1%2FiRIMbiu60a77DsdGGoeDcUQA4w0sx&job=1Tpt7g3UbnDltPUmPAJCQ4Qtte6E_m2WPYKPcdAZ9APieRfn-LrIBA\n",
      "https://www.simplyhired.com/search?q=IT+Manager&l=united+states&t=1&cursor=ABQAAQAUAAAAAAAAAAAAAAACDzUOGAEBAQcBMOFck1%2FiRIMbiu60a77DsdGGoeDcUQA4w0sx&job=tEkWeN4yoVEneLipkEvO06zHDglwrqmBFlSLPgZUV6W385AqdfbIeA\n",
      "https://www.simplyhired.com/search?q=IT+Manager&l=united+states&t=1&cursor=ABQAAQAUAAAAAAAAAAAAAAACDzUOGAEBAQcBMOFck1%2FiRIMbiu60a77DsdGGoeDcUQA4w0sx&job=__iR0NnXI_iALrclqYvZRBVbtMUI3-NFzyFgUIfF1MWkf4c6zqDpiA\n",
      "https://www.simplyhired.com/search?q=IT+Manager&l=united+states&t=1&cursor=ABQAAQAUAAAAAAAAAAAAAAACDzUOGAEBAQcBMOFck1%2FiRIMbiu60a77DsdGGoeDcUQA4w0sx&job=J8UXqGL2yUu49Iq6Jrrxn-YW78beNvDwCLtsp2PQwHmgONTzFZZ3dA\n",
      "https://www.simplyhired.com/search?q=IT+Manager&l=united+states&t=1&cursor=ABQAAQAUAAAAAAAAAAAAAAACDzUOGAEBAQcBMOFck1%2FiRIMbiu60a77DsdGGoeDcUQA4w0sx&job=kpODpvwWsTiyjawZkenTqJF1gk-Jz80fkeUfzf-P34ot75o7AVqDcg\n",
      "https://www.simplyhired.com/search?q=IT+Manager&l=united+states&t=1&cursor=ABQAAQAUAAAAAAAAAAAAAAACDzUOGAEBAQcBMOFck1%2FiRIMbiu60a77DsdGGoeDcUQA4w0sx&job=XkDKLMSzcVpgrohq6BFSqST_U0h72BFEBdXBLuc5IhWI2xd2UQyqxg\n",
      "https://www.simplyhired.com/search?q=IT+Manager&l=united+states&t=1&cursor=ABQAAQAUAAAAAAAAAAAAAAACDzUOGAEBAQcBMOFck1%2FiRIMbiu60a77DsdGGoeDcUQA4w0sx&job=O1ESiBDTOqIRNlhqSMN5j6QfZ_UPNi9KSAa9KGp_1Nvq8dMasB7ABw\n",
      "https://www.simplyhired.com/search?q=IT+Manager&l=united+states&t=1&cursor=ABQAAQAUAAAAAAAAAAAAAAACDzUOGAEBAQcBMOFck1%2FiRIMbiu60a77DsdGGoeDcUQA4w0sx&job=p5_GdQr4pwG-OyOxE2vft0a0_WNdWRnyuqgDaOtFvM3E1wGkamjv1Q\n",
      "https://www.simplyhired.com/search?q=IT+Manager&l=united+states&t=1&cursor=ABQAAQAUAAAAAAAAAAAAAAACDzUOGAEBAQcBMOFck1%2FiRIMbiu60a77DsdGGoeDcUQA4w0sx&job=XrynOyFMBDQOjb_8cder1SE9hGl6ifQAkbeNniB0O_xUSEhrV8lQaw\n",
      "https://www.simplyhired.com/search?q=IT+Manager&l=united+states&t=1&cursor=ABQAAQAUAAAAAAAAAAAAAAACDzUOGAEBAQcBMOFck1%2FiRIMbiu60a77DsdGGoeDcUQA4w0sx&job=RIB_MfOqGUpjldAZK2Mf-p8exBjFjZp2gthmJvYSrO0LBHP8lEvlNA\n",
      "https://www.simplyhired.com/search?q=IT+Manager&l=united+states&t=1&cursor=ABQAAQAUAAAAAAAAAAAAAAACDzUOGAEBAQcBMOFck1%2FiRIMbiu60a77DsdGGoeDcUQA4w0sx&job=THIAshi9m-tXGGvNEET8-B_pz23ETSozSfkqxFxe0DIkJRMKfMN_YQ\n",
      "https://www.simplyhired.com/search?q=IT+Manager&l=united+states&t=1&cursor=ABQAAQAUAAAAAAAAAAAAAAACDzUOGAEBAQcBMOFck1%2FiRIMbiu60a77DsdGGoeDcUQA4w0sx&job=FBzGGkBzxnEM5b8D6NXpm5ZhrZ07Tij7SVKhKQrIhRdLnUUCSOyfaA\n",
      "https://www.simplyhired.com/search?q=IT+Manager&l=united+states&t=1&cursor=ABQAAQAUAAAAAAAAAAAAAAACDzUOGAEBAQcBMOFck1%2FiRIMbiu60a77DsdGGoeDcUQA4w0sx&job=uu1dTE5zFX5ugXfDP3QI-m0YckMuHA9kp49E6oF9dJ14-ojWP0CkAQ\n",
      "https://www.simplyhired.com/search?q=IT+Manager&l=united+states&t=1&cursor=ABQAAQAUAAAAAAAAAAAAAAACDzUOGAEBAQcBMOFck1%2FiRIMbiu60a77DsdGGoeDcUQA4w0sx&job=RUawPPttEdxxA9a4GsXf_JjtpW8rxDMhJYINAEvWjiWpOBTjX_9TrQ\n",
      "https://www.simplyhired.com/search?q=IT+Manager&l=united+states&t=1&cursor=ABQAAQAUAAAAAAAAAAAAAAACDzUOGAEBAQcBMOFck1%2FiRIMbiu60a77DsdGGoeDcUQA4w0sx&job=_txgLysPQQJLNo6BLU1Bi7vk8xYusYYoTNMkhFHN0ZFytab3S50gXg\n",
      "https://www.simplyhired.com/search?q=IT+Manager&l=united+states&t=1&cursor=ABQAAQAUAAAAAAAAAAAAAAACDzUOGAEBAQcBMOFck1%2FiRIMbiu60a77DsdGGoeDcUQA4w0sx&job=2iGvun9v1dpKmhSk0RHTU1EvF1wWo4rw8vMVfcK_Bg5GxedAqSyglA\n",
      "https://www.simplyhired.com/search?q=IT+Manager&l=united+states&t=1&cursor=ABQAAQAUAAAAAAAAAAAAAAACDzUOGAEBAQcBMOFck1%2FiRIMbiu60a77DsdGGoeDcUQA4w0sx&job=0x2fibi9zFdMXp9A3wTbRkhY10_GHckur-VEAh2brzTp_m6jm9ImTQ\n"
     ]
    },
    {
     "name": "stderr",
     "output_type": "stream",
     "text": [
      "/tmp/ipykernel_5743/3381847202.py:22: FutureWarning: The frame.append method is deprecated and will be removed from pandas in a future version. Use pandas.concat instead.\n",
      "  df = df.append(page_data)\n"
     ]
    },
    {
     "name": "stdout",
     "output_type": "stream",
     "text": [
      "Page Number: 3  Page Link:  https://www.simplyhired.com/search?q=IT+Manager&l=united+states&t=1&cursor=ABQAAgAoAAAAAAAAAAAAAAACDzUOGAECAQcWBgF46m0jUi%2BAJh9XAceBxRhoQZ0ncA6AxjfndcaJAeOuo6Lje5Ri%2FLL9HQ%3D%3D\n",
      "https://www.simplyhired.com/search?q=IT+Manager&l=united+states&t=1&cursor=ABQAAgAoAAAAAAAAAAAAAAACDzUOGAECAQcWBgF46m0jUi%2BAJh9XAceBxRhoQZ0ncA6AxjfndcaJAeOuo6Lje5Ri%2FLL9HQ%3D%3D&job=fdwiZqn7wn2MZ1-ueUHP2qbA3p2DicyMunY_qm4ycJ87mb-OtLWt6g\n",
      "https://www.simplyhired.com/search?q=IT+Manager&l=united+states&t=1&cursor=ABQAAgAoAAAAAAAAAAAAAAACDzUOGAECAQcWBgF46m0jUi%2BAJh9XAceBxRhoQZ0ncA6AxjfndcaJAeOuo6Lje5Ri%2FLL9HQ%3D%3D&job=M462kCPdt4K4MdrNXF3fAyXntKl3lBxqzJJDqItSBBxRzfwHJKt5TA\n",
      "https://www.simplyhired.com/search?q=IT+Manager&l=united+states&t=1&cursor=ABQAAgAoAAAAAAAAAAAAAAACDzUOGAECAQcWBgF46m0jUi%2BAJh9XAceBxRhoQZ0ncA6AxjfndcaJAeOuo6Lje5Ri%2FLL9HQ%3D%3D&job=7SmwyY2z3lDhlnHTyKsQotzO2oxdJjXveg0oyaf7-5EV7RPbH4lvGw\n",
      "https://www.simplyhired.com/search?q=IT+Manager&l=united+states&t=1&cursor=ABQAAgAoAAAAAAAAAAAAAAACDzUOGAECAQcWBgF46m0jUi%2BAJh9XAceBxRhoQZ0ncA6AxjfndcaJAeOuo6Lje5Ri%2FLL9HQ%3D%3D&job=uA6mcE9cuMc0rw4CYHKxFvqGBfnv41aYAzskEvsZBy1PWJ2b-oFVKA\n",
      "https://www.simplyhired.com/search?q=IT+Manager&l=united+states&t=1&cursor=ABQAAgAoAAAAAAAAAAAAAAACDzUOGAECAQcWBgF46m0jUi%2BAJh9XAceBxRhoQZ0ncA6AxjfndcaJAeOuo6Lje5Ri%2FLL9HQ%3D%3D&job=yj2g0v_xC2s3XS4wURMQMShPzGaJoh-Na18FytMcGJzWqdewKszj2w\n",
      "https://www.simplyhired.com/search?q=IT+Manager&l=united+states&t=1&cursor=ABQAAgAoAAAAAAAAAAAAAAACDzUOGAECAQcWBgF46m0jUi%2BAJh9XAceBxRhoQZ0ncA6AxjfndcaJAeOuo6Lje5Ri%2FLL9HQ%3D%3D&job=9sK0rxJIHSoWzwNeEKLP1OcTjhGsM35al9fHxpalWJcuU1YLiwNmnA\n",
      "https://www.simplyhired.com/search?q=IT+Manager&l=united+states&t=1&cursor=ABQAAgAoAAAAAAAAAAAAAAACDzUOGAECAQcWBgF46m0jUi%2BAJh9XAceBxRhoQZ0ncA6AxjfndcaJAeOuo6Lje5Ri%2FLL9HQ%3D%3D&job=5yP7-c_FIxO5fbT1_2OKEBLIqdXD_lAgDjdWZjhGdAlX4Nahj3KbkQ\n",
      "https://www.simplyhired.com/search?q=IT+Manager&l=united+states&t=1&cursor=ABQAAgAoAAAAAAAAAAAAAAACDzUOGAECAQcWBgF46m0jUi%2BAJh9XAceBxRhoQZ0ncA6AxjfndcaJAeOuo6Lje5Ri%2FLL9HQ%3D%3D&job=KgoVmAvKCv0ikDxH1kHYKrdL89v6cqVNulC5VLgqAcg8BW5vH63ZJA\n",
      "https://www.simplyhired.com/search?q=IT+Manager&l=united+states&t=1&cursor=ABQAAgAoAAAAAAAAAAAAAAACDzUOGAECAQcWBgF46m0jUi%2BAJh9XAceBxRhoQZ0ncA6AxjfndcaJAeOuo6Lje5Ri%2FLL9HQ%3D%3D&job=sR3tTxspsHnUEBjvd0u0Yr2jG9ytSybdRSU2Y4v9fzdspNCzvT45bA\n",
      "https://www.simplyhired.com/search?q=IT+Manager&l=united+states&t=1&cursor=ABQAAgAoAAAAAAAAAAAAAAACDzUOGAECAQcWBgF46m0jUi%2BAJh9XAceBxRhoQZ0ncA6AxjfndcaJAeOuo6Lje5Ri%2FLL9HQ%3D%3D&job=1jQAcin9C5UtnK2fX2DDVbvd8XbZYBV2XUVYtLG_u5m-bYOpO6PA6Q\n",
      "https://www.simplyhired.com/search?q=IT+Manager&l=united+states&t=1&cursor=ABQAAgAoAAAAAAAAAAAAAAACDzUOGAECAQcWBgF46m0jUi%2BAJh9XAceBxRhoQZ0ncA6AxjfndcaJAeOuo6Lje5Ri%2FLL9HQ%3D%3D&job=VQzt1CQJdTA1A7SCFjxd0m2qRKPx90wTmFlCbiUuHD3bo49oir8sNw\n",
      "https://www.simplyhired.com/search?q=IT+Manager&l=united+states&t=1&cursor=ABQAAgAoAAAAAAAAAAAAAAACDzUOGAECAQcWBgF46m0jUi%2BAJh9XAceBxRhoQZ0ncA6AxjfndcaJAeOuo6Lje5Ri%2FLL9HQ%3D%3D&job=QaM_f71FdsQaG0qhfQlFnR2K9BKvoRcSp1Wx2r0Sw0y7bX_q4OhoPA\n",
      "https://www.simplyhired.com/search?q=IT+Manager&l=united+states&t=1&cursor=ABQAAgAoAAAAAAAAAAAAAAACDzUOGAECAQcWBgF46m0jUi%2BAJh9XAceBxRhoQZ0ncA6AxjfndcaJAeOuo6Lje5Ri%2FLL9HQ%3D%3D&job=F_H2of0HlWWbv_SGXj_u3rUxNTi21t8m1NVS429q53RYLW_E4ONydA\n",
      "https://www.simplyhired.com/search?q=IT+Manager&l=united+states&t=1&cursor=ABQAAgAoAAAAAAAAAAAAAAACDzUOGAECAQcWBgF46m0jUi%2BAJh9XAceBxRhoQZ0ncA6AxjfndcaJAeOuo6Lje5Ri%2FLL9HQ%3D%3D&job=yWxEvbd1Q-9QjpTkuIl6VpNW3Nap-iMkPDKNaSm5ELQZXDkeurhd8A\n",
      "https://www.simplyhired.com/search?q=IT+Manager&l=united+states&t=1&cursor=ABQAAgAoAAAAAAAAAAAAAAACDzUOGAECAQcWBgF46m0jUi%2BAJh9XAceBxRhoQZ0ncA6AxjfndcaJAeOuo6Lje5Ri%2FLL9HQ%3D%3D&job=j_Jq_j0JJFHLAOOkoWnf1ErFdzgKhcXR0S60ILEM30qfKlGdx3hZzw\n",
      "https://www.simplyhired.com/search?q=IT+Manager&l=united+states&t=1&cursor=ABQAAgAoAAAAAAAAAAAAAAACDzUOGAECAQcWBgF46m0jUi%2BAJh9XAceBxRhoQZ0ncA6AxjfndcaJAeOuo6Lje5Ri%2FLL9HQ%3D%3D&job=3HBJGSPC5rGtt7ixv39fCCzIvxhhfVAtIk_Kb89cuiKzHsfJJPklsw\n",
      "https://www.simplyhired.com/search?q=IT+Manager&l=united+states&t=1&cursor=ABQAAgAoAAAAAAAAAAAAAAACDzUOGAECAQcWBgF46m0jUi%2BAJh9XAceBxRhoQZ0ncA6AxjfndcaJAeOuo6Lje5Ri%2FLL9HQ%3D%3D&job=7OJ5QGCufphW-KhPQcyINAfsU4fuUDOPBLaRNvnRGvvWzIbBhz5TBA\n",
      "https://www.simplyhired.com/search?q=IT+Manager&l=united+states&t=1&cursor=ABQAAgAoAAAAAAAAAAAAAAACDzUOGAECAQcWBgF46m0jUi%2BAJh9XAceBxRhoQZ0ncA6AxjfndcaJAeOuo6Lje5Ri%2FLL9HQ%3D%3D&job=Pd_vQlT7zdauM8-KQ0dOUG9c7zb32WZKZYTmn-j0as92ZGsqYs4FgA\n",
      "https://www.simplyhired.com/search?q=IT+Manager&l=united+states&t=1&cursor=ABQAAgAoAAAAAAAAAAAAAAACDzUOGAECAQcWBgF46m0jUi%2BAJh9XAceBxRhoQZ0ncA6AxjfndcaJAeOuo6Lje5Ri%2FLL9HQ%3D%3D&job=4NxqcY6C48FVtRPQ7iYxDZmjZksOoAj-pFNrR44e5CLUUaC10g8tyQ\n",
      "https://www.simplyhired.com/search?q=IT+Manager&l=united+states&t=1&cursor=ABQAAgAoAAAAAAAAAAAAAAACDzUOGAECAQcWBgF46m0jUi%2BAJh9XAceBxRhoQZ0ncA6AxjfndcaJAeOuo6Lje5Ri%2FLL9HQ%3D%3D&job=K6_kluUmN7FDmDiUmfA-r11rgpWoOLzz0YZm0DxJ_hEUuQZFaz0siA\n"
     ]
    },
    {
     "name": "stderr",
     "output_type": "stream",
     "text": [
      "/tmp/ipykernel_5743/3381847202.py:22: FutureWarning: The frame.append method is deprecated and will be removed from pandas in a future version. Use pandas.concat instead.\n",
      "  df = df.append(page_data)\n"
     ]
    },
    {
     "name": "stdout",
     "output_type": "stream",
     "text": [
      "Page Number: 4  Page Link:  https://www.simplyhired.com/search?q=IT+Manager&l=united+states&t=1&cursor=ABQAAwA8AAAAAAAAAAAAAAACDzUOGAEBAQ8AwC8Aehzjp6bAuVeHY9dOL%2BvRKINWwUw8hizFE2EatNqRECAc2wGKpcPG8kiJm77L4I5J7w%3D%3D\n",
      "https://www.simplyhired.com/search?q=IT+Manager&l=united+states&t=1&cursor=ABQAAwA8AAAAAAAAAAAAAAACDzUOGAEBAQ8AwC8Aehzjp6bAuVeHY9dOL%2BvRKINWwUw8hizFE2EatNqRECAc2wGKpcPG8kiJm77L4I5J7w%3D%3D&job=UKtkg8KlH2D8JMmnMDRxdDKI21_20J0QpJZgQKYBQuqraZVwiU9q8g\n",
      "https://www.simplyhired.com/search?q=IT+Manager&l=united+states&t=1&cursor=ABQAAwA8AAAAAAAAAAAAAAACDzUOGAEBAQ8AwC8Aehzjp6bAuVeHY9dOL%2BvRKINWwUw8hizFE2EatNqRECAc2wGKpcPG8kiJm77L4I5J7w%3D%3D&job=bIhcdDajmVQyTM15ik2hZT_Kmy-iIBTinqcS4qGW2SUBGFdVJjAg0w\n",
      "https://www.simplyhired.com/search?q=IT+Manager&l=united+states&t=1&cursor=ABQAAwA8AAAAAAAAAAAAAAACDzUOGAEBAQ8AwC8Aehzjp6bAuVeHY9dOL%2BvRKINWwUw8hizFE2EatNqRECAc2wGKpcPG8kiJm77L4I5J7w%3D%3D&job=9eiP4DI8o3wT2tv6HyePsZqx5jfRHrwiDPSSFyO-7Ph8fB-VjW69-Q\n",
      "https://www.simplyhired.com/search?q=IT+Manager&l=united+states&t=1&cursor=ABQAAwA8AAAAAAAAAAAAAAACDzUOGAEBAQ8AwC8Aehzjp6bAuVeHY9dOL%2BvRKINWwUw8hizFE2EatNqRECAc2wGKpcPG8kiJm77L4I5J7w%3D%3D&job=oRMW0Bzz0HDa_wYP6xvAMq8aMD1uD76NclB1oEw0nCAA0H1T-beZGA\n",
      "https://www.simplyhired.com/search?q=IT+Manager&l=united+states&t=1&cursor=ABQAAwA8AAAAAAAAAAAAAAACDzUOGAEBAQ8AwC8Aehzjp6bAuVeHY9dOL%2BvRKINWwUw8hizFE2EatNqRECAc2wGKpcPG8kiJm77L4I5J7w%3D%3D&job=dMAZStusg12541PkX31y0zXloejuoKGoLen9jc3CRu-g7FAH607u0Q\n",
      "https://www.simplyhired.com/search?q=IT+Manager&l=united+states&t=1&cursor=ABQAAwA8AAAAAAAAAAAAAAACDzUOGAEBAQ8AwC8Aehzjp6bAuVeHY9dOL%2BvRKINWwUw8hizFE2EatNqRECAc2wGKpcPG8kiJm77L4I5J7w%3D%3D&job=JsmakXvn_g4qJvRa8ZuiOdLlOsMkXth0DptEt6mlsmjRVCZKiLwakg\n",
      "https://www.simplyhired.com/search?q=IT+Manager&l=united+states&t=1&cursor=ABQAAwA8AAAAAAAAAAAAAAACDzUOGAEBAQ8AwC8Aehzjp6bAuVeHY9dOL%2BvRKINWwUw8hizFE2EatNqRECAc2wGKpcPG8kiJm77L4I5J7w%3D%3D&job=cqCMEB5lEpUphhgOc67vYrXWLRS5X73br2BusxKQ65awgFX7EnVL-A\n",
      "https://www.simplyhired.com/search?q=IT+Manager&l=united+states&t=1&cursor=ABQAAwA8AAAAAAAAAAAAAAACDzUOGAEBAQ8AwC8Aehzjp6bAuVeHY9dOL%2BvRKINWwUw8hizFE2EatNqRECAc2wGKpcPG8kiJm77L4I5J7w%3D%3D&job=egvNugsqNvEYk3yoOlQXkiuDOCI5A8WIvJ1DsZE3JVZUZwfifwoEXQ\n",
      "https://www.simplyhired.com/search?q=IT+Manager&l=united+states&t=1&cursor=ABQAAwA8AAAAAAAAAAAAAAACDzUOGAEBAQ8AwC8Aehzjp6bAuVeHY9dOL%2BvRKINWwUw8hizFE2EatNqRECAc2wGKpcPG8kiJm77L4I5J7w%3D%3D&job=68RQLImJJk5gnxFR6wKLIS9wSROx1ozdxfFy2QZw8pOQqXd2M0y10A\n",
      "https://www.simplyhired.com/search?q=IT+Manager&l=united+states&t=1&cursor=ABQAAwA8AAAAAAAAAAAAAAACDzUOGAEBAQ8AwC8Aehzjp6bAuVeHY9dOL%2BvRKINWwUw8hizFE2EatNqRECAc2wGKpcPG8kiJm77L4I5J7w%3D%3D&job=szoxiWSDPm6949Rq5wAFsxMJg0lrc2xOMY64wB-0ML4LPKKYIkhEJg\n",
      "https://www.simplyhired.com/search?q=IT+Manager&l=united+states&t=1&cursor=ABQAAwA8AAAAAAAAAAAAAAACDzUOGAEBAQ8AwC8Aehzjp6bAuVeHY9dOL%2BvRKINWwUw8hizFE2EatNqRECAc2wGKpcPG8kiJm77L4I5J7w%3D%3D&job=JULBKnKlizHoXwHG49-35IAm2xuEdGzR4CCpti21oGaOWAFQ4Tcz-w\n",
      "https://www.simplyhired.com/search?q=IT+Manager&l=united+states&t=1&cursor=ABQAAwA8AAAAAAAAAAAAAAACDzUOGAEBAQ8AwC8Aehzjp6bAuVeHY9dOL%2BvRKINWwUw8hizFE2EatNqRECAc2wGKpcPG8kiJm77L4I5J7w%3D%3D&job=ffhwZmG1Suqui6iPhZCNoy1vLSY6QlTdbwe5lxDFsbOb20zu_WhktA\n",
      "https://www.simplyhired.com/search?q=IT+Manager&l=united+states&t=1&cursor=ABQAAwA8AAAAAAAAAAAAAAACDzUOGAEBAQ8AwC8Aehzjp6bAuVeHY9dOL%2BvRKINWwUw8hizFE2EatNqRECAc2wGKpcPG8kiJm77L4I5J7w%3D%3D&job=R8-5wVkbyLaQJhmIp_q01yRtmDDJWJXyBecHwYKIQPE2Fk2oOQVHeA\n",
      "https://www.simplyhired.com/search?q=IT+Manager&l=united+states&t=1&cursor=ABQAAwA8AAAAAAAAAAAAAAACDzUOGAEBAQ8AwC8Aehzjp6bAuVeHY9dOL%2BvRKINWwUw8hizFE2EatNqRECAc2wGKpcPG8kiJm77L4I5J7w%3D%3D&job=axXgjdxIlofQWEJpfQnT3-J2EawatR9PgUYT-GNS6VX8gZdGmst6KA\n",
      "https://www.simplyhired.com/search?q=IT+Manager&l=united+states&t=1&cursor=ABQAAwA8AAAAAAAAAAAAAAACDzUOGAEBAQ8AwC8Aehzjp6bAuVeHY9dOL%2BvRKINWwUw8hizFE2EatNqRECAc2wGKpcPG8kiJm77L4I5J7w%3D%3D&job=2Osf_81NkjMjGb68Q1q69YsyV3-S5q8LKNuKDDKjR7OMYX8GSpIojg\n",
      "https://www.simplyhired.com/search?q=IT+Manager&l=united+states&t=1&cursor=ABQAAwA8AAAAAAAAAAAAAAACDzUOGAEBAQ8AwC8Aehzjp6bAuVeHY9dOL%2BvRKINWwUw8hizFE2EatNqRECAc2wGKpcPG8kiJm77L4I5J7w%3D%3D&job=YVXK792j5VGbtDChF1TsVYPS0-rL33z_nPKNCfFk7KractlGxAyk_A\n",
      "https://www.simplyhired.com/search?q=IT+Manager&l=united+states&t=1&cursor=ABQAAwA8AAAAAAAAAAAAAAACDzUOGAEBAQ8AwC8Aehzjp6bAuVeHY9dOL%2BvRKINWwUw8hizFE2EatNqRECAc2wGKpcPG8kiJm77L4I5J7w%3D%3D&job=TVdnxgo21FZRMxc8CQ2Bg74cgp5mybohlYfVPkkAKrlNvRH1H6Wabw\n",
      "https://www.simplyhired.com/search?q=IT+Manager&l=united+states&t=1&cursor=ABQAAwA8AAAAAAAAAAAAAAACDzUOGAEBAQ8AwC8Aehzjp6bAuVeHY9dOL%2BvRKINWwUw8hizFE2EatNqRECAc2wGKpcPG8kiJm77L4I5J7w%3D%3D&job=GZzikHnqR7SZ5Li4fR3_BGMm6ZGPhsRrxzxakjq6PnngbG_sFOqNXw\n",
      "https://www.simplyhired.com/search?q=IT+Manager&l=united+states&t=1&cursor=ABQAAwA8AAAAAAAAAAAAAAACDzUOGAEBAQ8AwC8Aehzjp6bAuVeHY9dOL%2BvRKINWwUw8hizFE2EatNqRECAc2wGKpcPG8kiJm77L4I5J7w%3D%3D&job=oUJfFNLNbKg8llV1_2LeCQnMe7Y0kFymOOclLkg6U9G1coxg6UpzOg\n",
      "https://www.simplyhired.com/search?q=IT+Manager&l=united+states&t=1&cursor=ABQAAwA8AAAAAAAAAAAAAAACDzUOGAEBAQ8AwC8Aehzjp6bAuVeHY9dOL%2BvRKINWwUw8hizFE2EatNqRECAc2wGKpcPG8kiJm77L4I5J7w%3D%3D&job=OSBa3ONqkiVNbflUhvLAxvooUIcJct_zo7Ar2oj5b14pYikgJBFjcQ\n"
     ]
    },
    {
     "name": "stderr",
     "output_type": "stream",
     "text": [
      "/tmp/ipykernel_5743/3381847202.py:22: FutureWarning: The frame.append method is deprecated and will be removed from pandas in a future version. Use pandas.concat instead.\n",
      "  df = df.append(page_data)\n"
     ]
    },
    {
     "name": "stdout",
     "output_type": "stream",
     "text": [
      "Page Number: 5  Page Link:  https://www.simplyhired.com/search?q=IT+Manager&l=united+states&t=1&cursor=ABQABABQAAAAAAAAAAAAAAACDzUOGAEDAQsYBg4GBjWcXO9vZwWQIBEf0PmbSsyecuoS8PGZrnni%2Fg3cswj7gQkIa0Pq2Cc2b6%2Fj\n",
      "https://www.simplyhired.com/search?q=IT+Manager&l=united+states&t=1&cursor=ABQABABQAAAAAAAAAAAAAAACDzUOGAEDAQsYBg4GBjWcXO9vZwWQIBEf0PmbSsyecuoS8PGZrnni%2Fg3cswj7gQkIa0Pq2Cc2b6%2Fj&job=oR3VwMa2Modk286uIv6_9En_xZhp45eWDBhHTUeZo-vVGxIWTUr5Fg\n",
      "https://www.simplyhired.com/search?q=IT+Manager&l=united+states&t=1&cursor=ABQABABQAAAAAAAAAAAAAAACDzUOGAEDAQsYBg4GBjWcXO9vZwWQIBEf0PmbSsyecuoS8PGZrnni%2Fg3cswj7gQkIa0Pq2Cc2b6%2Fj&job=Rq-yOnYiebx1YKbtj5OSGLNgsOJL51YAMKlhxnM2kk7NURWIRsOIQA\n",
      "https://www.simplyhired.com/search?q=IT+Manager&l=united+states&t=1&cursor=ABQABABQAAAAAAAAAAAAAAACDzUOGAEDAQsYBg4GBjWcXO9vZwWQIBEf0PmbSsyecuoS8PGZrnni%2Fg3cswj7gQkIa0Pq2Cc2b6%2Fj&job=7N4cO6B4ulIvZ4_NHPwDEM0urf1WWduPaDhkSKmttDwxK0Ys4uArZA\n",
      "https://www.simplyhired.com/search?q=IT+Manager&l=united+states&t=1&cursor=ABQABABQAAAAAAAAAAAAAAACDzUOGAEDAQsYBg4GBjWcXO9vZwWQIBEf0PmbSsyecuoS8PGZrnni%2Fg3cswj7gQkIa0Pq2Cc2b6%2Fj&job=gU1NJDUtUkuBeWzyERIcWIti6Rx6fKws46G9EvHGIf9fC4VuOBRq4g\n",
      "https://www.simplyhired.com/search?q=IT+Manager&l=united+states&t=1&cursor=ABQABABQAAAAAAAAAAAAAAACDzUOGAEDAQsYBg4GBjWcXO9vZwWQIBEf0PmbSsyecuoS8PGZrnni%2Fg3cswj7gQkIa0Pq2Cc2b6%2Fj&job=LXWf10OEf1AP0r0fKxdlovZnaqR4yqQ7khanU2bDy76iN5hE5CKh8g\n",
      "https://www.simplyhired.com/search?q=IT+Manager&l=united+states&t=1&cursor=ABQABABQAAAAAAAAAAAAAAACDzUOGAEDAQsYBg4GBjWcXO9vZwWQIBEf0PmbSsyecuoS8PGZrnni%2Fg3cswj7gQkIa0Pq2Cc2b6%2Fj&job=mp1S8lDZxWVH0pc8NKtnBohjkd68Fw_aw3x7L179TiDyC7Lg3JkYGQ\n",
      "https://www.simplyhired.com/search?q=IT+Manager&l=united+states&t=1&cursor=ABQABABQAAAAAAAAAAAAAAACDzUOGAEDAQsYBg4GBjWcXO9vZwWQIBEf0PmbSsyecuoS8PGZrnni%2Fg3cswj7gQkIa0Pq2Cc2b6%2Fj&job=rOfV5qyE1I_PaZW_se6ECCYaom6PIzna20ObDdzoUJe5mpbSdAqkUQ\n",
      "https://www.simplyhired.com/search?q=IT+Manager&l=united+states&t=1&cursor=ABQABABQAAAAAAAAAAAAAAACDzUOGAEDAQsYBg4GBjWcXO9vZwWQIBEf0PmbSsyecuoS8PGZrnni%2Fg3cswj7gQkIa0Pq2Cc2b6%2Fj&job=6m6m9bBGUnIO3yy0IhWeBAWWJbBSp8Y0ZJiXRBfUXWSUPk6fImhhNg\n",
      "https://www.simplyhired.com/search?q=IT+Manager&l=united+states&t=1&cursor=ABQABABQAAAAAAAAAAAAAAACDzUOGAEDAQsYBg4GBjWcXO9vZwWQIBEf0PmbSsyecuoS8PGZrnni%2Fg3cswj7gQkIa0Pq2Cc2b6%2Fj&job=VApbRHYg7COhG2e9fXPcwa8EiDcOeJESikmUSDvXTYzOYfTDAwkmEw\n",
      "https://www.simplyhired.com/search?q=IT+Manager&l=united+states&t=1&cursor=ABQABABQAAAAAAAAAAAAAAACDzUOGAEDAQsYBg4GBjWcXO9vZwWQIBEf0PmbSsyecuoS8PGZrnni%2Fg3cswj7gQkIa0Pq2Cc2b6%2Fj&job=RRw8w7RvaJ7ST001pzVLtx4aoH8SFSEM5jZYyVlhxjtvibbz47yENg\n",
      "https://www.simplyhired.com/search?q=IT+Manager&l=united+states&t=1&cursor=ABQABABQAAAAAAAAAAAAAAACDzUOGAEDAQsYBg4GBjWcXO9vZwWQIBEf0PmbSsyecuoS8PGZrnni%2Fg3cswj7gQkIa0Pq2Cc2b6%2Fj&job=nHiKbP4rlzOFNQnZBXkBxwqJAu3v2q7SaqZifSrQxtiGb-aoyOcv9Q\n",
      "https://www.simplyhired.com/search?q=IT+Manager&l=united+states&t=1&cursor=ABQABABQAAAAAAAAAAAAAAACDzUOGAEDAQsYBg4GBjWcXO9vZwWQIBEf0PmbSsyecuoS8PGZrnni%2Fg3cswj7gQkIa0Pq2Cc2b6%2Fj&job=0S429-WRebuuEoMBpxgKnoY1KiO4B6vST-2c6hKNBjIBr3uaS_dDbQ\n",
      "https://www.simplyhired.com/search?q=IT+Manager&l=united+states&t=1&cursor=ABQABABQAAAAAAAAAAAAAAACDzUOGAEDAQsYBg4GBjWcXO9vZwWQIBEf0PmbSsyecuoS8PGZrnni%2Fg3cswj7gQkIa0Pq2Cc2b6%2Fj&job=bvKVOhgma-n6NtwT1W_KJdQBNIcJpSvdm85DKjARQ3pAd_xAjTUP1A\n",
      "https://www.simplyhired.com/search?q=IT+Manager&l=united+states&t=1&cursor=ABQABABQAAAAAAAAAAAAAAACDzUOGAEDAQsYBg4GBjWcXO9vZwWQIBEf0PmbSsyecuoS8PGZrnni%2Fg3cswj7gQkIa0Pq2Cc2b6%2Fj&job=wZZwu5TACNVifK8_qcVTe8z-2VY89j6xK1LSI0QXf8Lb7ov7Roo06w\n",
      "https://www.simplyhired.com/search?q=IT+Manager&l=united+states&t=1&cursor=ABQABABQAAAAAAAAAAAAAAACDzUOGAEDAQsYBg4GBjWcXO9vZwWQIBEf0PmbSsyecuoS8PGZrnni%2Fg3cswj7gQkIa0Pq2Cc2b6%2Fj&job=oqernd1TcTRBs54a4WemdSHh70BJi6rDn9I3jsOU6ib69EX0h4_mqA\n",
      "https://www.simplyhired.com/search?q=IT+Manager&l=united+states&t=1&cursor=ABQABABQAAAAAAAAAAAAAAACDzUOGAEDAQsYBg4GBjWcXO9vZwWQIBEf0PmbSsyecuoS8PGZrnni%2Fg3cswj7gQkIa0Pq2Cc2b6%2Fj&job=Duhev4J1iSmG5WO0m7wISAlEITyXICwzIVZ1iDIpLeKuOBwhcTxhKg\n",
      "https://www.simplyhired.com/search?q=IT+Manager&l=united+states&t=1&cursor=ABQABABQAAAAAAAAAAAAAAACDzUOGAEDAQsYBg4GBjWcXO9vZwWQIBEf0PmbSsyecuoS8PGZrnni%2Fg3cswj7gQkIa0Pq2Cc2b6%2Fj&job=Tx2vnSukYATA9PJ-qfW4kN0so4whAyBhVO_nG9fKq_iEuugbnRPd7g\n",
      "https://www.simplyhired.com/search?q=IT+Manager&l=united+states&t=1&cursor=ABQABABQAAAAAAAAAAAAAAACDzUOGAEDAQsYBg4GBjWcXO9vZwWQIBEf0PmbSsyecuoS8PGZrnni%2Fg3cswj7gQkIa0Pq2Cc2b6%2Fj&job=EJFbRkLXw3zZF6gS4H7DYrnYmbJtAkvbvUQ0Pty-cl3tAqFHm0cs2g\n",
      "https://www.simplyhired.com/search?q=IT+Manager&l=united+states&t=1&cursor=ABQABABQAAAAAAAAAAAAAAACDzUOGAEDAQsYBg4GBjWcXO9vZwWQIBEf0PmbSsyecuoS8PGZrnni%2Fg3cswj7gQkIa0Pq2Cc2b6%2Fj&job=15vUS6sGCjtvG4rz21dGFwndwyjVxuflFvHkFMlorZv_WTty8flDbg\n",
      "https://www.simplyhired.com/search?q=IT+Manager&l=united+states&t=1&cursor=ABQABABQAAAAAAAAAAAAAAACDzUOGAEDAQsYBg4GBjWcXO9vZwWQIBEf0PmbSsyecuoS8PGZrnni%2Fg3cswj7gQkIa0Pq2Cc2b6%2Fj&job=LXePYqO4NL_braiHU4QIBW6kjjrKMllX_gs4i84SoP4QZngZuQbD4A\n"
     ]
    },
    {
     "name": "stderr",
     "output_type": "stream",
     "text": [
      "/tmp/ipykernel_5743/3381847202.py:22: FutureWarning: The frame.append method is deprecated and will be removed from pandas in a future version. Use pandas.concat instead.\n",
      "  df = df.append(page_data)\n"
     ]
    },
    {
     "name": "stdout",
     "output_type": "stream",
     "text": [
      "Page Number: 6  Page Link:  https://www.simplyhired.com/search?q=IT+Manager&l=united+states&t=1&cursor=ABQABQBkAAAAAAAAAAAAAAACDzk3yQEBAQsDN8u9ydAlb%2FXEBPfsBkPQqqvvxcc4wqKzjiKPqFB6D7cHDTU%3D\n",
      "https://www.simplyhired.com/search?q=IT+Manager&l=united+states&t=1&cursor=ABQABQBkAAAAAAAAAAAAAAACDzk3yQEBAQsDN8u9ydAlb%2FXEBPfsBkPQqqvvxcc4wqKzjiKPqFB6D7cHDTU%3D&job=SosqcXWoW3xzUY235gm3TbxlBY7FM9hCQRNr5NiTZARSRDjOI6uFwA\n",
      "https://www.simplyhired.com/search?q=IT+Manager&l=united+states&t=1&cursor=ABQABQBkAAAAAAAAAAAAAAACDzk3yQEBAQsDN8u9ydAlb%2FXEBPfsBkPQqqvvxcc4wqKzjiKPqFB6D7cHDTU%3D&job=q14X70-UOfgYmr0Xb_aN27P3Lv1IjoTmR8jube1BODHMWVk4yxCpbQ\n",
      "https://www.simplyhired.com/search?q=IT+Manager&l=united+states&t=1&cursor=ABQABQBkAAAAAAAAAAAAAAACDzk3yQEBAQsDN8u9ydAlb%2FXEBPfsBkPQqqvvxcc4wqKzjiKPqFB6D7cHDTU%3D&job=_dAsE9A7XGxQipfs9bdzoxdARLUqymKUMUvtn98mO-PPjxx9Hkv09Q\n",
      "https://www.simplyhired.com/search?q=IT+Manager&l=united+states&t=1&cursor=ABQABQBkAAAAAAAAAAAAAAACDzk3yQEBAQsDN8u9ydAlb%2FXEBPfsBkPQqqvvxcc4wqKzjiKPqFB6D7cHDTU%3D&job=wsbWDMNIqCHdNk7u2_hGrH8jVKfMG0ppx6GO12K7xuewCeQ7doP81Q\n",
      "https://www.simplyhired.com/search?q=IT+Manager&l=united+states&t=1&cursor=ABQABQBkAAAAAAAAAAAAAAACDzk3yQEBAQsDN8u9ydAlb%2FXEBPfsBkPQqqvvxcc4wqKzjiKPqFB6D7cHDTU%3D&job=NIHOVLzkagI2Z19xi-9Vho8dEovCl2zneY_VZ814s_6m8MTdHo8wDw\n",
      "https://www.simplyhired.com/search?q=IT+Manager&l=united+states&t=1&cursor=ABQABQBkAAAAAAAAAAAAAAACDzk3yQEBAQsDN8u9ydAlb%2FXEBPfsBkPQqqvvxcc4wqKzjiKPqFB6D7cHDTU%3D&job=QEkHpwRu-SzlRz0pHh1uc2FfUkCIEL_nx6oXeoqrf21yBrw7qhK2nQ\n",
      "https://www.simplyhired.com/search?q=IT+Manager&l=united+states&t=1&cursor=ABQABQBkAAAAAAAAAAAAAAACDzk3yQEBAQsDN8u9ydAlb%2FXEBPfsBkPQqqvvxcc4wqKzjiKPqFB6D7cHDTU%3D&job=Zk6CY9OWB38SxEtH6gBVxTu-yvtY3JbPxa_e8KkXbIk9TboS8N5CfA\n",
      "https://www.simplyhired.com/search?q=IT+Manager&l=united+states&t=1&cursor=ABQABQBkAAAAAAAAAAAAAAACDzk3yQEBAQsDN8u9ydAlb%2FXEBPfsBkPQqqvvxcc4wqKzjiKPqFB6D7cHDTU%3D&job=tNPkYSzjVUIvD203-NVq4Iknrc-antAcgvjarGLjZjQjs5Xr8nmCbA\n",
      "https://www.simplyhired.com/search?q=IT+Manager&l=united+states&t=1&cursor=ABQABQBkAAAAAAAAAAAAAAACDzk3yQEBAQsDN8u9ydAlb%2FXEBPfsBkPQqqvvxcc4wqKzjiKPqFB6D7cHDTU%3D&job=-i9CRpNtpSELA2daA6hQoRdAfjXTbc0WNpK80MR0sj3Wsbj85CoTbw\n",
      "https://www.simplyhired.com/search?q=IT+Manager&l=united+states&t=1&cursor=ABQABQBkAAAAAAAAAAAAAAACDzk3yQEBAQsDN8u9ydAlb%2FXEBPfsBkPQqqvvxcc4wqKzjiKPqFB6D7cHDTU%3D&job=zMOlDfbBsDbtsVIjUImzlBKwCYUuFLuIttorVpbBf_s6yOHppPiI7Q\n",
      "https://www.simplyhired.com/search?q=IT+Manager&l=united+states&t=1&cursor=ABQABQBkAAAAAAAAAAAAAAACDzk3yQEBAQsDN8u9ydAlb%2FXEBPfsBkPQqqvvxcc4wqKzjiKPqFB6D7cHDTU%3D&job=Qw1e7a99ZV5bRuauzBGdh0aZ9YuPVVDllKE4jXzU-trL3MUsNJHpHQ\n",
      "https://www.simplyhired.com/search?q=IT+Manager&l=united+states&t=1&cursor=ABQABQBkAAAAAAAAAAAAAAACDzk3yQEBAQsDN8u9ydAlb%2FXEBPfsBkPQqqvvxcc4wqKzjiKPqFB6D7cHDTU%3D&job=hNt3H1BTzM4YRR-zFre7nJ8pk3axQ-Z9Eyzg_i8Gv8-7PJTYSl679w\n",
      "https://www.simplyhired.com/search?q=IT+Manager&l=united+states&t=1&cursor=ABQABQBkAAAAAAAAAAAAAAACDzk3yQEBAQsDN8u9ydAlb%2FXEBPfsBkPQqqvvxcc4wqKzjiKPqFB6D7cHDTU%3D&job=k4cDClJ7k_Pcfh51en4QPZjalhCNwPNRqOyS4K6xyGb5aFQG8WcE8Q\n",
      "https://www.simplyhired.com/search?q=IT+Manager&l=united+states&t=1&cursor=ABQABQBkAAAAAAAAAAAAAAACDzk3yQEBAQsDN8u9ydAlb%2FXEBPfsBkPQqqvvxcc4wqKzjiKPqFB6D7cHDTU%3D&job=V8CWkyBPcQWY0-k0Tp0JkErBz6I1mfh40QpT7EhnpHkuZNvi4-ctwg\n",
      "https://www.simplyhired.com/search?q=IT+Manager&l=united+states&t=1&cursor=ABQABQBkAAAAAAAAAAAAAAACDzk3yQEBAQsDN8u9ydAlb%2FXEBPfsBkPQqqvvxcc4wqKzjiKPqFB6D7cHDTU%3D&job=E8OZMIieQWOPTubSwaJqPe4dNjCCmWr0LjpPi7vAut7cmOD0Paj_MQ\n",
      "https://www.simplyhired.com/search?q=IT+Manager&l=united+states&t=1&cursor=ABQABQBkAAAAAAAAAAAAAAACDzk3yQEBAQsDN8u9ydAlb%2FXEBPfsBkPQqqvvxcc4wqKzjiKPqFB6D7cHDTU%3D&job=7LkAcPI-dD7lKO6db23zyjJEhrfrXUNnH2721gVYEva9iYSmHF_QiQ\n",
      "https://www.simplyhired.com/search?q=IT+Manager&l=united+states&t=1&cursor=ABQABQBkAAAAAAAAAAAAAAACDzk3yQEBAQsDN8u9ydAlb%2FXEBPfsBkPQqqvvxcc4wqKzjiKPqFB6D7cHDTU%3D&job=xnPSb2Yr6T0VmnyZrZNWm80YVmDggOeMhOwV94i6rTovZF_tK9Pu8Q\n",
      "https://www.simplyhired.com/search?q=IT+Manager&l=united+states&t=1&cursor=ABQABQBkAAAAAAAAAAAAAAACDzk3yQEBAQsDN8u9ydAlb%2FXEBPfsBkPQqqvvxcc4wqKzjiKPqFB6D7cHDTU%3D&job=Mx3KP2hSjstD32NbrGPKygieD_b6BAEXgQg2WHJFNWvn7Aj0kwly2Q\n",
      "https://www.simplyhired.com/search?q=IT+Manager&l=united+states&t=1&cursor=ABQABQBkAAAAAAAAAAAAAAACDzk3yQEBAQsDN8u9ydAlb%2FXEBPfsBkPQqqvvxcc4wqKzjiKPqFB6D7cHDTU%3D&job=OchYqQNR3GVEV4JfajJHY6yPs5K41QQIhXANzzgJFYRUc9jCM9wE7A\n",
      "https://www.simplyhired.com/search?q=IT+Manager&l=united+states&t=1&cursor=ABQABQBkAAAAAAAAAAAAAAACDzk3yQEBAQsDN8u9ydAlb%2FXEBPfsBkPQqqvvxcc4wqKzjiKPqFB6D7cHDTU%3D&job=hE2xJ2S7nVDjYrz1XltmeTgf8aDhit593N35EUluJak45UOLTQaYRw\n"
     ]
    },
    {
     "name": "stderr",
     "output_type": "stream",
     "text": [
      "/tmp/ipykernel_5743/3381847202.py:22: FutureWarning: The frame.append method is deprecated and will be removed from pandas in a future version. Use pandas.concat instead.\n",
      "  df = df.append(page_data)\n"
     ]
    },
    {
     "name": "stdout",
     "output_type": "stream",
     "text": [
      "Page Number: 7  Page Link:  https://www.simplyhired.com/search?q=IT+Manager&l=united+states&t=1&cursor=ABQABgB4AAAAAAAAAAAAAAACDzk3yQEBAQkPOOspKOR3iUc400x2iz8730dEWQBy0GCwTtKZ\n",
      "https://www.simplyhired.com/search?q=IT+Manager&l=united+states&t=1&cursor=ABQABgB4AAAAAAAAAAAAAAACDzk3yQEBAQkPOOspKOR3iUc400x2iz8730dEWQBy0GCwTtKZ&job=t9sOvLpptIUtwZD1-DJZQXTTDn6dp7HNpgn89Bct1yQmxCElGnLa0g\n",
      "https://www.simplyhired.com/search?q=IT+Manager&l=united+states&t=1&cursor=ABQABgB4AAAAAAAAAAAAAAACDzk3yQEBAQkPOOspKOR3iUc400x2iz8730dEWQBy0GCwTtKZ&job=4SQigNrTOSa0O4NvxlnYwk2-4SBmLie4x8P-T9nsjJNrGvMmTV3WvQ\n",
      "https://www.simplyhired.com/search?q=IT+Manager&l=united+states&t=1&cursor=ABQABgB4AAAAAAAAAAAAAAACDzk3yQEBAQkPOOspKOR3iUc400x2iz8730dEWQBy0GCwTtKZ&job=l3r3qdVMR4Rr-BbK6gJ-3FgALujwKop4b-etK03uRBfOSbrJT44Fjw\n",
      "https://www.simplyhired.com/search?q=IT+Manager&l=united+states&t=1&cursor=ABQABgB4AAAAAAAAAAAAAAACDzk3yQEBAQkPOOspKOR3iUc400x2iz8730dEWQBy0GCwTtKZ&job=l4zvwBSsvHQVzmOmW9s4x-_nOlUrAEcojNDnThDm4pkAI9k0426IwA\n",
      "https://www.simplyhired.com/search?q=IT+Manager&l=united+states&t=1&cursor=ABQABgB4AAAAAAAAAAAAAAACDzk3yQEBAQkPOOspKOR3iUc400x2iz8730dEWQBy0GCwTtKZ&job=-WltDjsLE0o1HXcSarwjYdVmbYORmCy6Xl2ulFe96HyBt49o2R37og\n",
      "https://www.simplyhired.com/search?q=IT+Manager&l=united+states&t=1&cursor=ABQABgB4AAAAAAAAAAAAAAACDzk3yQEBAQkPOOspKOR3iUc400x2iz8730dEWQBy0GCwTtKZ&job=SMwzq_VHzb1EZBiDauym6mPj35j9RMlE8bmupj7o1UaEaftLd43CQw\n",
      "https://www.simplyhired.com/search?q=IT+Manager&l=united+states&t=1&cursor=ABQABgB4AAAAAAAAAAAAAAACDzk3yQEBAQkPOOspKOR3iUc400x2iz8730dEWQBy0GCwTtKZ&job=ZGokUew8smRi0siEUbDjtb47BwiPKspcFSGqAgtbrJSWvSjdgr5JYw\n",
      "https://www.simplyhired.com/search?q=IT+Manager&l=united+states&t=1&cursor=ABQABgB4AAAAAAAAAAAAAAACDzk3yQEBAQkPOOspKOR3iUc400x2iz8730dEWQBy0GCwTtKZ&job=6bUfu1o9WgIXCZnrcbNqzFZz8iFLk1JRktMiJ_zwGeL9cZxZBasw0Q\n",
      "https://www.simplyhired.com/search?q=IT+Manager&l=united+states&t=1&cursor=ABQABgB4AAAAAAAAAAAAAAACDzk3yQEBAQkPOOspKOR3iUc400x2iz8730dEWQBy0GCwTtKZ&job=MAY0v7cB7YjbEVSWNavY3pJZzNYQV8_D88wQ6MgP3aLQNzlDmp_ENg\n",
      "https://www.simplyhired.com/search?q=IT+Manager&l=united+states&t=1&cursor=ABQABgB4AAAAAAAAAAAAAAACDzk3yQEBAQkPOOspKOR3iUc400x2iz8730dEWQBy0GCwTtKZ&job=R2f4XbekmJCHZIE6xNdvZtaFOZLVrX2oE65A_k7IB7erhjX4SQ38OA\n",
      "https://www.simplyhired.com/search?q=IT+Manager&l=united+states&t=1&cursor=ABQABgB4AAAAAAAAAAAAAAACDzk3yQEBAQkPOOspKOR3iUc400x2iz8730dEWQBy0GCwTtKZ&job=C4F-isvexqIlxzcKY0uYVqHZX0OnwUnnjRDsZvB6GYNL5oyETB56Ig\n",
      "https://www.simplyhired.com/search?q=IT+Manager&l=united+states&t=1&cursor=ABQABgB4AAAAAAAAAAAAAAACDzk3yQEBAQkPOOspKOR3iUc400x2iz8730dEWQBy0GCwTtKZ&job=RK4D_XJSisZLOhZERPeFlICI7JNIBokAMej_Biu0TR2vz7_ZlfPUxw\n",
      "https://www.simplyhired.com/search?q=IT+Manager&l=united+states&t=1&cursor=ABQABgB4AAAAAAAAAAAAAAACDzk3yQEBAQkPOOspKOR3iUc400x2iz8730dEWQBy0GCwTtKZ&job=ZAa-VmzImAGVHrrULJstWmM_ZBB_oJCUZWlsjI7YKml5OghzH_RFBw\n",
      "https://www.simplyhired.com/search?q=IT+Manager&l=united+states&t=1&cursor=ABQABgB4AAAAAAAAAAAAAAACDzk3yQEBAQkPOOspKOR3iUc400x2iz8730dEWQBy0GCwTtKZ&job=pawA7KXpUW8h-6DFFcAuJPnIiR6-jN4tHMfwWUNsJhIhPag7NFJb1A\n",
      "https://www.simplyhired.com/search?q=IT+Manager&l=united+states&t=1&cursor=ABQABgB4AAAAAAAAAAAAAAACDzk3yQEBAQkPOOspKOR3iUc400x2iz8730dEWQBy0GCwTtKZ&job=hQgu9JqOcYRiD1BDCMFByZ49Qd7SRncLuHLrcucp0NnCD3nFYObc8g\n",
      "https://www.simplyhired.com/search?q=IT+Manager&l=united+states&t=1&cursor=ABQABgB4AAAAAAAAAAAAAAACDzk3yQEBAQkPOOspKOR3iUc400x2iz8730dEWQBy0GCwTtKZ&job=55Fta5I05gcGbsR41J0LpgbHq_NFS-lgy5a-YkpgGP0wDtLcnQbIMA\n",
      "https://www.simplyhired.com/search?q=IT+Manager&l=united+states&t=1&cursor=ABQABgB4AAAAAAAAAAAAAAACDzk3yQEBAQkPOOspKOR3iUc400x2iz8730dEWQBy0GCwTtKZ&job=Pa01K_N99ygRT3hhj4exUcMxFffyVqHhhMAGkBFlX_bdeKy3cYTVaw\n",
      "https://www.simplyhired.com/search?q=IT+Manager&l=united+states&t=1&cursor=ABQABgB4AAAAAAAAAAAAAAACDzk3yQEBAQkPOOspKOR3iUc400x2iz8730dEWQBy0GCwTtKZ&job=HmuiYh6a56mVkd8z2_XbveRJsOq1smKqucWcotjloHwkzNJdZtnraA\n",
      "https://www.simplyhired.com/search?q=IT+Manager&l=united+states&t=1&cursor=ABQABgB4AAAAAAAAAAAAAAACDzk3yQEBAQkPOOspKOR3iUc400x2iz8730dEWQBy0GCwTtKZ&job=GEHFhoeXG6Spv5aFoQXvyARu7KLEV5FdiFSwwvLwK7i7_RaYPDFAqw\n",
      "https://www.simplyhired.com/search?q=IT+Manager&l=united+states&t=1&cursor=ABQABgB4AAAAAAAAAAAAAAACDzk3yQEBAQkPOOspKOR3iUc400x2iz8730dEWQBy0GCwTtKZ&job=7_cN0mCFT4ecusLlGh7d0jgKDB4imse75U3cEXT55kNjzL6r7Wl5EQ\n"
     ]
    },
    {
     "name": "stderr",
     "output_type": "stream",
     "text": [
      "/tmp/ipykernel_5743/3381847202.py:22: FutureWarning: The frame.append method is deprecated and will be removed from pandas in a future version. Use pandas.concat instead.\n",
      "  df = df.append(page_data)\n"
     ]
    }
   ],
   "source": [
    "job_collection = ['Data Engineer','Frontend Developer', 'Backend Developer','Fullstack Developer', 'Business Analyst', 'DevOps Engineer', 'UI/UX', 'IT Manager']\n",
    "\n",
    "# Create a list to store the DataFrames\n",
    "df_list = []\n",
    "\n",
    "# Navigate to URL\n",
    "for item in job_collection:\n",
    "    url = f'https://www.simplyhired.com/search?q={item}&l=united+states&t=1'\n",
    "    next_page = url\n",
    "    driver.get(url)\n",
    "    # time.sleep(1)\n",
    "    number_of_jobs = driver.find_element(By.XPATH, '/html/body/div[1]/div/main/div/div[1]/div[5]/p')\n",
    "    number_of_pages = math.ceil(int(number_of_jobs.text)/int(20))\n",
    "    print(f'Number of jobs for {item}:{number_of_jobs.text}   total_page:{number_of_pages}')\n",
    "\n",
    "    i=1\n",
    "    df = pd.DataFrame(columns=['search_keyword_for_job','job_title','job_url', 'company', 'location', 'job_type', 'salary', 'posted_on', 'job_qualification', 'job_description'])\n",
    "    while next_page != None:\n",
    "        print('Page Number:', i, ' Page Link: ', next_page)\n",
    "        soup = scrape_page(next_page)\n",
    "        page_data = scrape_one_page(next_page, soup,item)\n",
    "        df = df.append(page_data)   \n",
    "        df['company'] = df['company'].str.replace(',', '-')\n",
    "        df['location'] = df['location'].str.replace(',', '-')\n",
    "        df['salary'] = df['salary'].str.replace(',', '') \n",
    "        # i = i+1\n",
    "        next_page = get_cursor(soup, i+1)\n",
    "        time.sleep(1)\n",
    "        i = i+1\n",
    "         \n",
    "\n",
    "    # Append the DataFrame to the list\n",
    "    df_list.append(df)\n",
    "\n",
    "df = pd.concat(df_list)\n",
    "        \n",
    "# Print page title\n",
    "# print(driver.title)\n"
   ]
  },
  {
   "cell_type": "code",
   "execution_count": 9,
   "metadata": {},
   "outputs": [],
   "source": [
    "df.to_csv('simply_hired_test102.csv', index=False)"
   ]
  },
  {
   "cell_type": "code",
   "execution_count": 10,
   "metadata": {},
   "outputs": [],
   "source": [
    "# Quit the driver\n",
    "driver.quit()"
   ]
  },
  {
   "cell_type": "code",
   "execution_count": null,
   "metadata": {},
   "outputs": [],
   "source": [
    "import requests\n",
    "basescrape = requests.get('https://api.crawlbase.com/?token=tcGRf4X6PbGB1EzaLGxCyg&url=https://www.simplyhired.com/search?q=data+engineerr&l=united+states&t=1')"
   ]
  },
  {
   "cell_type": "code",
   "execution_count": null,
   "metadata": {},
   "outputs": [],
   "source": [
    "basescrape.status_code"
   ]
  }
 ],
 "metadata": {
  "kernelspec": {
   "display_name": "Python 3",
   "language": "python",
   "name": "python3"
  },
  "language_info": {
   "codemirror_mode": {
    "name": "ipython",
    "version": 3
   },
   "file_extension": ".py",
   "mimetype": "text/x-python",
   "name": "python",
   "nbconvert_exporter": "python",
   "pygments_lexer": "ipython3",
   "version": "3.10.12"
  },
  "orig_nbformat": 4
 },
 "nbformat": 4,
 "nbformat_minor": 2
}
