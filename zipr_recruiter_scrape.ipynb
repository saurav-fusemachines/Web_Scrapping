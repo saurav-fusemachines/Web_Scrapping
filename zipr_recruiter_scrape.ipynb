{
 "cells": [
  {
   "cell_type": "code",
   "execution_count": 1,
   "metadata": {},
   "outputs": [],
   "source": [
    "import requests\n",
    "from bs4 import BeautifulSoup\n",
    "import math\n",
    "import pandas as pd\n",
    "import numpy as np"
   ]
  },
  {
   "cell_type": "code",
   "execution_count": 8,
   "metadata": {},
   "outputs": [],
   "source": [
    "# FOR SCRAPEOPS\n",
    "# def scrape_page(url):\n",
    "#     response = requests.get(\n",
    "#     url='https://proxy.scrapeops.io/v1/',\n",
    "#          params={\n",
    "#         'api_key': '8581d126-6045-4f16-9864-8d28a4b472e8',\n",
    "#         'url':url            },\n",
    "# )               \n",
    "#     soup = BeautifulSoup(response.content, \"html.parser\")\n",
    "#     return soup"
   ]
  },
  {
   "cell_type": "code",
   "execution_count": 12,
   "metadata": {},
   "outputs": [],
   "source": [
    "from scrapingbee import ScrapingBeeClient\n",
    "def scrape_page(url):\n",
    "    client = ScrapingBeeClient(api_key='SUXOAUIQ14MWB08K8PWAWEI2ZT3FNKJMPTTD3935YQLXKPMUSCU8L7AOVY3WBORYJ7I6NE2P5YKUOBBU')\n",
    "    response = client.get(url)\n",
    "    soup = BeautifulSoup(response.content,'html.parser')\n",
    "    return soup"
   ]
  },
  {
   "cell_type": "code",
   "execution_count": 28,
   "metadata": {},
   "outputs": [],
   "source": [
    "def scrape_one_page(job_link_list):\n",
    "    data_list = []\n",
    "    i=0\n",
    "    for job_list in job_link_list:\n",
    "        single_page_scrape = scrape_page(job_list)\n",
    "        # print(single_page_scrape)   \n",
    "        # singe_page_data.append(single_page_scrape)\n",
    "\n",
    "        #Job Title\n",
    "        job_title = single_page_scrape.find('h1',class_='job_title')\n",
    "        if job_title is not None:\n",
    "            job_title_text = job_title.text.strip()\n",
    "        else:\n",
    "            job_title_text=\"None\"\n",
    "\n",
    "        #Job_url\n",
    "        job_url = job_list\n",
    "\n",
    "        #Hiring Company\n",
    "        hiring_company = single_page_scrape.find('a',{'class':'hiring_company'})\n",
    "        if hiring_company is not None:\n",
    "            hiring_company = hiring_company.text.strip()\n",
    "        else:\n",
    "            hiring_company=\"None\"\n",
    "\n",
    "        #Salary\n",
    "        salary = single_page_scrape.find('ul', {'class': 'job_characteristics'})\n",
    "        if salary is not None:\n",
    "          salary_data = salary.find('span', class_='job_characteristics_data t_compensation')\n",
    "          if salary_data is not None:\n",
    "                salary = salary_data.text.strip()\n",
    "          else:\n",
    "              salary=\"None\"\n",
    "          \n",
    "        else:   \n",
    "           salary =\"None\"\n",
    "\n",
    "        #Location\n",
    "        location = single_page_scrape.find('div',{'class':'job_header'})\n",
    "        if location is not None:\n",
    "            location = location.find('a','hiring_location')\n",
    "            location_text = location.text.strip()\n",
    "        else:\n",
    "            location_text = \"None\"\n",
    "        #JOB DESCRIPTION\n",
    "        job_description=[]\n",
    "        job_desc_div = single_page_scrape.find('div',{'class':'job_description'})\n",
    "        if job_desc_div is not None:\n",
    "            job_desc_ul =job_desc_div.find_all('ul')\n",
    "            if job_desc_ul:\n",
    "                li_tag = job_desc_ul[0].find_all('li')\n",
    "                for li in li_tag:\n",
    "                    list_of_job_desc = li.get_text().strip()\n",
    "                    job_description.append(list_of_job_desc)\n",
    "            else:\n",
    "                job_desc_ul=\"None\"        \n",
    "        \n",
    "\n",
    "        else:\n",
    "            job_desc_div = \"None\"\n",
    "        \n",
    "        #JOB_RESPONSIBILITES\n",
    "        job_requirement=[]\n",
    "        job_req_div = single_page_scrape.find('div',{'class':'job_description'})\n",
    "        if job_req_div is not None:\n",
    "            job_req_ul =job_req_div.find_all('ul')\n",
    "            if job_req_ul and len(job_req_ul) > 1:\n",
    "                li_req_tag = job_req_ul[1].find_all('li')\n",
    "                for li in li_req_tag:\n",
    "                    list_of_job_req = li.get_text()\n",
    "                    job_requirement.append(list_of_job_req)\n",
    "            else:\n",
    "                job_req_ul=\"None\"        \n",
    "        \n",
    "\n",
    "        else:\n",
    "            job_req_div = \"None\"     \n",
    "\n",
    "        data = {\n",
    "            'job_title':job_title_text,\n",
    "            'job_url':job_url,\n",
    "            'hiring_company':hiring_company,\n",
    "            'location':location_text,\n",
    "            'salary':salary,\n",
    "            'job_description':job_description,\n",
    "            'job_requirement':job_requirement\n",
    "        }\n",
    "        i = i + 1\n",
    "        print('JOB:',i)\n",
    "        data_list.append(data)\n",
    "    print(data_list)\n",
    "    return data_list   \n",
    "        "
   ]
  },
  {
   "cell_type": "code",
   "execution_count": null,
   "metadata": {},
   "outputs": [],
   "source": [
    "url = \"https://www.ziprecruiter.com/jobs-search?search=Data+Engineering&location=Texas&company=&no_explore=&refine_by_location_type=&radius=25&days=1&refine_by_salary=&refine_by_employment=employment_type%3Aall&refine_by_title=&refine_by_org_name=\"\n",
    "soup = scrape_page(url=url)"
   ]
  },
  {
   "cell_type": "code",
   "execution_count": null,
   "metadata": {},
   "outputs": [],
   "source": [
    "# print(soup)\n",
    "# article = soup.find_all('article',{'class':'new_job_item job_item'})\n",
    "# job_link = article[0].find_all('a',{'class':'job_link'})\n",
    "\n",
    "job_links = []\n",
    "job_link = soup.find_all('a',class_='job_link')\n",
    "for item in job_link :\n",
    "    jl = item.get('href')\n",
    "    print(jl)\n",
    "    job_links.append(jl)\n",
    "\n",
    "\n",
    "d = soup.find('div',class_='load_more next')\n",
    "btn = d.find('button').text\n",
    "print(btn)\n"
   ]
  },
  {
   "cell_type": "code",
   "execution_count": 13,
   "metadata": {},
   "outputs": [],
   "source": [
    "\n",
    "next_page=f\"https://www.ziprecruiter.com/jobs-search?search=Data+Engineer&location=Texas&company=&no_explore=&refine_by_location_type=&radius=25&days=1&refine_by_salary=&refine_by_employment=employment_type%3Aall&refine_by_title=&refine_by_org_name=&page=1&impression_superset_id=CFRAY%3A7e58cc6347259e80-IAD\"\n",
    "\n",
    "#For Page number\n",
    "pn_soup = scrape_page(next_page)\n"
   ]
  },
  {
   "cell_type": "code",
   "execution_count": null,
   "metadata": {},
   "outputs": [],
   "source": []
  },
  {
   "cell_type": "code",
   "execution_count": 14,
   "metadata": {},
   "outputs": [
    {
     "name": "stdout",
     "output_type": "stream",
     "text": [
      "271\n"
     ]
    },
    {
     "data": {
      "text/plain": [
       "14"
      ]
     },
     "execution_count": 14,
     "metadata": {},
     "output_type": "execute_result"
    }
   ],
   "source": [
    "pn_div = pn_soup.find('div',{'class':'job_results_headline'})\n",
    "total_job_string = pn_div.find('h1').text\n",
    "job_number = int(''.join(filter(str.isdigit, total_job_string)))\n",
    "print(job_number)\n",
    "number_of_pages = math.ceil((job_number)/20)\n",
    "number_of_pages"
   ]
  },
  {
   "cell_type": "code",
   "execution_count": 15,
   "metadata": {},
   "outputs": [
    {
     "name": "stdout",
     "output_type": "stream",
     "text": [
      "Page number: 1\n",
      "['https://www.ziprecruiter.com/k/l/AALNf7h5l7MImVeultlCHu5glce5NFBgJHrDmvx-bds3efFzqb4TGuEEgCcZ8dtJGjj03q6QWBcTI2oCAsrzDV0pADMBxLESBaRDR7QnAMcjOn0Yto_z4jnflUWsfdPglCqsCyEhL4EdE04Yp0_xiGtUnvV_j9D_yJqtYIq7Ajp-wzBRCvbbjIFp3Rbk7GHLvEt-6F1mOy-mFZgOTW0fKQ', 'https://www.ziprecruiter.com/k/l/AAJnBHJexiPQMWo6NBAL4E1iogHCytMrZS2rYcnceHnCrsJJFM6WHXlu8asu8UxxUj3QqiSlAahlzd3LqJrlEJVrzVl36OJYuwDTOMI59oFCKCNAZ5_MTMuwRHeAy5u6myO-0OFzFjMb6XywBls3KnN4b-z-ESgEkgloVWftv53DFGDqULowtjLFvFHhjmLoqx5daitec3lwzi6BHsu1yyPw-45pTVsayVmybA', 'https://www.ziprecruiter.com/k/l/AAJ04dgPW6u6KsFHLBCcXvrrxEGDcMsJK40yCytz7YPv_BHhZMWaWxkpyQvlLHH0Qds1j5Ru6NDpTUHg7Oj4uAFHaRHICJax5CWwX5DDlfNLT9Jk7UbY0ZkL_swL9mZfK_kwLBC04IfLjZ6jbDQ_IqFktdn2QVlItaXoMjIR2wapC2VZ9YFiHQvtalob7RdbojBd0L8V16Fd_C7s5PGmIS0xLt759_aCVjxniw', 'https://www.ziprecruiter.com/k/l/AAKgdv9SnEGvvddMk-_hK8nFjdfyoX9qJboUYIkaaiMmWhtLH2vxa-SneYwgVwQ4BDRFlX8_ekNVT_ZA9mxGlFBNTb0H1bx9sF-2e3w_v3OjwArC2iC0-VFmuNz8sQkJeJ7bW1CyKRYaRqyDYG8lSqgoWaGBzzdB04x_yfaXZl493lP5cLapismh3X__T-mcuoXlAB6Z0rq9YAvcs2dmXA', 'https://www.ziprecruiter.com/k/l/AAKB36Dwx2FY6HJMdYj5fK8Dn4r4vAZYsftpR0HluVveyK_BFObrb23KE1NWnzn_2gZknbVZrgIScmzNoGo3dxcASHpHxW5zEAEyvxtGXUbAAWOBBco38OaqJycEgTJsXYTWodbEARqTg74UvdIY6XOYF004L7gbeHXt3WmQI0YRoLChNOgfRC8RMNt0q-FMYArFdIIQfcHWig2nyf1Uv7ebl28aFKKQkS9C', 'https://www.ziprecruiter.com/k/l/AAIzXa7EekBFXttlIBDnzz5MHieltMUNsqHGmptM5d_aBFz_uIVuITq_8rNQpKGAqqO3Led7qXecFwqAUJG3ek2p9TLxOYcPCqRUsZH2_lsmpm1TNn-D2hZjwwN3kAWhiXFT1SBCVWScrMygchfwbm8QRORzqFN987Hgms_zViXu0TrAm66ePz3__kEMAOXZDcYvTnCVkG30xv6iwsKUvg', 'https://www.ziprecruiter.com/k/l/AAK4uUWTLgLBLpUXSfzDrxLh3ld5FRQ8wUiazsrzPcOG7AM6CyxhG2tcot24dNOeEewnFIaREseNw0lClp8GQuVxsFCm3d-YFfGBIOoo6ejaX7yytSj_mzFcDbTYIhOkJoXBagqxrmVRTFCxNEDh0md390uGNDsOMQ_AYRO1JVG3QsMAwO4brrmtzc8zc_O96h8QuhUW5aCOfZT3WEVHWw', 'https://www.ziprecruiter.com/ek/l/AAJWPt9wf63mLybfmqRg8Cb4HTCmBI93rUx-lVNboEIuTlHhawdmOCYh76nRwY6y5JKRZoL-1LMbTbTxIHzEqYK2TTY0o9Gnmv4LM4NtE23gnHJSL3zRbmNM3e0hKDiVDcGsIKqfg0d70FJuWP_7ZUhNMRNIwTkVgcc5eaypnR4FGEzMDEwi8yvp-yQe6vUNd1E1UGlb05HHfPKprJEnSSsLzSYaVjC8dpG9eQ', 'https://www.ziprecruiter.com/k/l/AAIvovMyaX9zAnNg8-n-M4mqoxUN8XxTqXfqX85-yx08BPFGbNV0pMAl1k1eFjHPJ5bpCv6SEFolrTTeVRFw6SmVReOPxytTD7-HDzyi0UPVR0W59LYyUR3_27MV9MMYm1EWk5mCfnueXr_E0RvO_D_sYav2Hgx-1rtLCifDsdGwXEkX8Cd4SkufvnVjDgD8fQwLCCFYQIKIomLOaoU0L7HlrgngKVNEy_-5ag', 'https://www.ziprecruiter.com/k/l/AAJCU1044ZwDMfhTGfQrM6xSpWdzUC7xudZLto0JXAozdH8k1T2uwWQlxDG_LgYZWzR1XEeIlxnzW5WUYtzNGD8wHN8PrKTc2XXBCWGyogPBOBV_a5GsjTX6SRpBYYFuzQSEn9kNhnfRSuv_xebbhrH1SAYDdrluieUu4ITd2t5dfYAaT9RApLa-vNhP3z-xcqvWBa3VkrwD7iMbiTLBgKh4', 'https://www.ziprecruiter.com/ek/l/AAI9Lj59-wVSga8EBqPjbETyCm1k9OuPrgV1dBJsZ_-IamW7Ky6pIIPJkSDSg_K4-pwMJukmx0qRa6BW5vHYy1KDP72ruB1eGumK4rnR6gQ22gt-Fm2RdnOjIR1DhPeVFds5Xd7J1lX8T7q__4gWhVjbOCyAnNCdwlqKvQsIW13UdyMoP-fNGBJ6mC12D11-7BtkKmlDKAspbkTfzd3i9ywfNdhG02pkQVvoVg', 'https://www.ziprecruiter.com/k/l/AAJxZDiP2AU0iqT7cay3L4BxRM2swSgGpNqBVFYB4ZEpuXqOOQ7ja_G6f4VeRvVv8GZO4JszHR9alOsbaeEusyCmPACsWhgvp0n2GsnYcR1o8gPoRhuv6CCNP3jVdp75tXLjwdqLOaiBk8NZ9AWStEywxlSWWLzUtRLEqWKjHLk14VibaRt2iy7XpgYYK8gGndmiI7HV_eHeq_UquQLPrjc', 'https://www.ziprecruiter.com/k/l/AAJYvxIB6DvcHdy7Rr8_Le2d4xFcTpyKQQk_Cbha15a4GV7c2AdmbJOmUkUKlQfBnM1VGb43AJfyaZGPa_vIlKFszw1xGjy1kOI_ixpchxvGYkPJJmoj5o3HhpDww5XjFETyHUG6IqZA4C5aCWJKDzNl3jRFK77gt8nSLqxTaksnsnYnu2VNTCopTs2KUOFuqVTNMaIaQh_aM8zuCKXK6w', 'https://www.ziprecruiter.com/k/l/AAI2-6vSVP62YaT6GN9FdqQmt3lec5jqtBHiE_LARvCM8ER-WCj84lp43DuE5O2mJjLVMI-A3IYef69baQAiyzzAZGajhOXNOeiM1X-l165uBWw8ux3uiNVrIGDPCWXY8nGOTGdKmvVxfXIgTv2bW3QfMGNfFDlNdRPsKtEs7rmPHQZxyMXKMFgFu1G-F7t8Il-cfvPRXlAdOnf6j7-daQtHbyLpdgybt0QKOQ', 'https://www.ziprecruiter.com/k/l/AAJi3MYgDfxyvBxmIGeu6EX1PS7GvqK-ECxa6LwXzFgjwEfb4DhgK41gGCS7Lfa5Wr8BTiFepvpS3gSNofQP3745cmnpRP0l9D_FhICmITYWZ4gXQtHb29lGj7JrBHSshjDmMykfNCzWcZFxpgCJrtzHtaKHVC66bwPkgMZ-a1P71nD8DYAspydPyMQ7q1dBKT4kf9F_XkocimRf3U40u8c', 'https://www.ziprecruiter.com/k/l/AAI7rwQzENt3O5Vo44pgz9emCA66JyZ7DUX7MLOjBHHnO3qVoUW1HyMGYUrcpB_jQsmbqHlaeYK6YZDiOsVxAmeDMoc6TDXP2NnLgoQbScI1iBI41rphoDPH1-qLl1dfgtSymeQAzTG1x9Ml5qZ1AKFDJrDA0WVyJ9YFrl6KnDsLL2nOBfBz5RzVjwen_7J4ktloGboU6jai0yFv3i76Ask', 'https://www.ziprecruiter.com/ek/l/AAKha88K-3-9ToWvfQUktWsjJ22OEnGekN53j5GWfodZ6yetGyvSw7d_9l4mdUxdxDu5IqNkqp7o2PCu_F0lMgnoVDqLhEJX1qwo4QtKjqRHf6YS2ZwxLhy7Tk5A-AgrOj3c6E9EijeJwzS6crIgodx3P_u7TDBvWB2zR3e9dasBAxYSRD_fgv94IqL1ONs9IeIplGc-6XEdFFxmDx_YXhDoWd4bNioexdkCmQ', 'https://www.ziprecruiter.com/k/l/AAJqcZvQ-u8cI6WirqVVe3m_ro6Kigyzx9QAYWSpDRXnhDPkyy6h3pRq5A9Yx-EV40e5PKV-wC2bcHMbsV0yxH77e58VQRXY1YOZoL-Rbs5AOguBq-nb91O9rkFpptIpV0Mk45SLJ8uMfruPy0fiEjXNmMBjiAWP6177vyzil0Hs6TPMFdiRcyupSmglfp4uQbgGeyIR0A9eSy7L38QUew', 'https://www.ziprecruiter.com/k/l/AAJ_HfYf2Jn_nnZL0DaTBXQYMRtIsQ3KFbW8nt8W5c393WmgfzUKEwlwqXVwtreOWay7T2oe-epyCPQkS4ETLpRute1XCY-oPR60pKqSnsUmWbzTezKa9a0xjGVPlEwaMz8y-YHHXAQ0LqwQembXPlA7rfS1iF05oUMbgSQ6BcoEb8tIw6QwsqDCtEqbZiC76HnDY_TEKK7CSgl9uN1Rn1YZGIRPpJSdifYPu84', 'https://www.ziprecruiter.com/k/l/AAJp_wv_esWEHaVmSmtK-2wXjJJN6snGM422dDYY5x_7nwDplzrCCKZPT80GQLhvZVoECVzt2ODCn6JoBH5Hj4tBrO3F-ImZqAxG-LGUn2jqE7SYrQgJDkoSOKXUIfcLzsbqy9Wd_vvGL2Yh1JQMnSNNJYXCZx6T53-ksutobZeydAM6xTR9znFttrfNdh-kDKMFnHKiRDplNRkv0818riw']\n"
     ]
    }
   ],
   "source": [
    "i=1\n",
    "job_link_list = []\n",
    "while i!=2 : \n",
    "    print('Page number:',i)\n",
    "    scrape= scrape_page(f\"https://www.ziprecruiter.com/jobs-search?search=Data+Engineer&location=Texas&company=&no_explore=&refine_by_location_type=&radius=25&days=1&refine_by_salary=&refine_by_employment=employment_type%3Aall&refine_by_title=&refine_by_org_name=&page={i}&impression_superset_id=CFRAY%3A7e58cc6347259e80-IAD\")\n",
    "    job_link = scrape.find_all('a',class_='job_link')\n",
    "    for item in job_link :\n",
    "        jl = item.get('href')\n",
    "        job_link_list.append(jl)\n",
    "\n",
    "    i = i+1\n",
    "    print(job_link_list)\n",
    "    \n",
    " "
   ]
  },
  {
   "cell_type": "code",
   "execution_count": null,
   "metadata": {},
   "outputs": [],
   "source": [
    "# print(page_data)\n",
    "print((job_link_list))"
   ]
  },
  {
   "cell_type": "code",
   "execution_count": 29,
   "metadata": {},
   "outputs": [
    {
     "name": "stdout",
     "output_type": "stream",
     "text": [
      "JOB: 1\n",
      "JOB: 2\n",
      "JOB: 3\n",
      "JOB: 4\n",
      "JOB: 5\n",
      "JOB: 6\n",
      "JOB: 7\n",
      "JOB: 8\n",
      "JOB: 9\n",
      "JOB: 10\n",
      "JOB: 11\n",
      "JOB: 12\n",
      "JOB: 13\n",
      "JOB: 14\n",
      "JOB: 15\n",
      "JOB: 16\n",
      "JOB: 17\n",
      "JOB: 18\n",
      "JOB: 19\n",
      "JOB: 20\n",
      "[{'job_title': 'Data Engineer', 'job_url': 'https://www.ziprecruiter.com/k/l/AALNf7h5l7MImVeultlCHu5glce5NFBgJHrDmvx-bds3efFzqb4TGuEEgCcZ8dtJGjj03q6QWBcTI2oCAsrzDV0pADMBxLESBaRDR7QnAMcjOn0Yto_z4jnflUWsfdPglCqsCyEhL4EdE04Yp0_xiGtUnvV_j9D_yJqtYIq7Ajp-wzBRCvbbjIFp3Rbk7GHLvEt-6F1mOy-mFZgOTW0fKQ', 'hiring_company': 'Korn Ferry', 'location': 'Dallas, TX, USA', 'salary': '$50 to $60 per hour', 'job_description': ['Communicating with Technology teams and business owners to develop, test, and implement reports for internal and external users.', 'The developer will be responsible for the design, development, and deployment of data extracts, transformations, and loads.', 'ETL development will utilize the Microsoft SQL platform, specifically SQL Server Integration Services (SSIS)', 'Experience with various reporting methods, including SSRS.', 'Develop reports based on defined requirements.', 'Responsible for analyzing the business requirements for data file requests, designing, developing, and deploying fully automated ETL jobs to produce data files', 'Write advanced SQL statements to retrieve data from tables and stored procedures', 'Use known education principles and stay up-to-date on new reporting methods and techniques.', 'Partner with internal stakeholders and liaise with experts regarding instructional design'], 'job_requirement': ['Experience with MS SQL Server and T-SQL code development ', 'Experience with ETL - SSIS ', 'Experience in building stored procedures, functions, merges and Ad Hoc scripts ', 'Experience with data management and understanding of data structures, database design ', 'Ability to collaborate and communicate effectively across functional groups ', 'Ability to independently perform database development, testing and implementation with little supervision ', 'Ability to effectively communicate technical issues and resolve problems ', 'Experience with C# or Python a plus ', 'Visual studio to create SSIS package, stored procedure, code review ']}, {'job_title': '[Joint Use] Engineering Tech/Designer I-III', 'job_url': 'https://www.ziprecruiter.com/k/l/AAJnBHJexiPQMWo6NBAL4E1iogHCytMrZS2rYcnceHnCrsJJFM6WHXlu8asu8UxxUj3QqiSlAahlzd3LqJrlEJVrzVl36OJYuwDTOMI59oFCKCNAZ5_MTMuwRHeAy5u6myO-0OFzFjMb6XywBls3KnN4b-z-ESgEkgloVWftv53DFGDqULowtjLFvFHhjmLoqx5daitec3lwzi6BHsu1yyPw-45pTVsayVmybA', 'hiring_company': 'TechServ Consulting & Training, LTD', 'location': 'Texas City, TX, USA', 'salary': 'None', 'job_description': ['Understanding of design software such as O-Calc, SPIDA Calc, or other stress-analysis software to develop the design deliverables, is preferred.', 'Proficient in Microsoft Office such as Excel, Word, Outlook, and Teams', 'Ability to work collaboratively with others including, but not limited to Project Managers, Engineers, and other Designers in a multi-discipline project team environment to resolve design or drawing issues as appropriate and to accomplish objectives.', 'Knowledge of design, calculations, and design systems.', 'Knowledge of the theory and practices of assigned discipline; competent in the fundamental concepts of other disciplines as they relate to the assigned discipline.', 'Capable of operating related discipline design software necessary to execute production tasks.', 'Excellent written & verbal communication skills.', 'Excellent organizational skills, attention to detail, and ability to handle multiple tasks.', 'Strong analytical and problem-solving skills, and attention to detail.', 'Commitment to working within a highly collaborative team.'], 'job_requirement': ['Must currently be eligible to work in the United States of America.', 'High School Graduate or GED, required.', 'College degree or some college course, preferred.', 'Entry-Level Position; 0-2 years of utility design experience.', 'Willingness to learn and effectively utilize new design software programs.', 'Perform routine tasks independently (electrical schematics, grid plan layouts, and site design)']}, {'job_title': 'Full Stack Developer (Python, Angular and PostgreSQL)', 'job_url': 'https://www.ziprecruiter.com/k/l/AAJ04dgPW6u6KsFHLBCcXvrrxEGDcMsJK40yCytz7YPv_BHhZMWaWxkpyQvlLHH0Qds1j5Ru6NDpTUHg7Oj4uAFHaRHICJax5CWwX5DDlfNLT9Jk7UbY0ZkL_swL9mZfK_kwLBC04IfLjZ6jbDQ_IqFktdn2QVlItaXoMjIR2wapC2VZ9YFiHQvtalob7RdbojBd0L8V16Fd_C7s5PGmIS0xLt759_aCVjxniw', 'hiring_company': 'Prism One Group', 'location': 'Westlake, TX, USA', 'salary': '$90,000 to $120,000 per year', 'job_description': ['Skills Required: Python, Django, PostgreSQL, Angular JS, Angular Material, GIT, REST API, Postman'], 'job_requirement': ['Experience working with data in Json format', 'Experience developing and using REST API’s is a must.', 'Experience integrating REST API’s to front end', 'Experience using Azure storage blob', 'Experience with GIT to build and deploy code deployment to production environments', 'Experience writing stored procedures in PostgreSQL is a must', 'Experience with HTML/CSS/JAVASCRIPT Ability to multitask and work in groups']}, {'job_title': 'Big Data Engineer', 'job_url': 'https://www.ziprecruiter.com/k/l/AAKgdv9SnEGvvddMk-_hK8nFjdfyoX9qJboUYIkaaiMmWhtLH2vxa-SneYwgVwQ4BDRFlX8_ekNVT_ZA9mxGlFBNTb0H1bx9sF-2e3w_v3OjwArC2iC0-VFmuNz8sQkJeJ7bW1CyKRYaRqyDYG8lSqgoWaGBzzdB04x_yfaXZl493lP5cLapismh3X__T-mcuoXlAB6Z0rq9YAvcs2dmXA', 'hiring_company': 'IKCON Technologies Inc', 'location': 'Santa Fe, TX, USA', 'salary': '$53 to $69.50 per hour', 'job_description': [], 'job_requirement': []}, {'job_title': 'Production Engineer / Engineering Analyst', 'job_url': 'https://www.ziprecruiter.com/k/l/AAKB36Dwx2FY6HJMdYj5fK8Dn4r4vAZYsftpR0HluVveyK_BFObrb23KE1NWnzn_2gZknbVZrgIScmzNoGo3dxcASHpHxW5zEAEyvxtGXUbAAWOBBco38OaqJycEgTJsXYTWodbEARqTg74UvdIY6XOYF004L7gbeHXt3WmQI0YRoLChNOgfRC8RMNt0q-FMYArFdIIQfcHWig2nyf1Uv7ebl28aFKKQkS9C', 'hiring_company': 'WaterBridge Operating LLC', 'location': 'Houston, TX, USA', 'salary': 'None', 'job_description': ['Gathering, populating, and maintaining site creation data for Field Apps, Measurement Data Center, SCADA, and Control Room consumption.', 'Analyzing, reconciling, and preparing monthly water and skim oil allocations in order to assist Accounting, Regulatory, and Analytics departments with required reports (TX, NM, other states as needed).', 'Working closely with engineering, construction, and operations teams to ensure the accurate installation of equipment, data collection, and project management.', 'Evaluating allocation schema, measurement data integrity, system balances, and internal software systems for accuracy and performance.', 'Validating measurement calculations and equipment calibration error.', 'Preparing and submitting monthly system balances and allocations to internal departments.', 'Requesting allocations by well, where necessary, from customers monthly for volume reporting.', 'Preparing monthly allocation and skim oil report to customers.', 'Preparing monthly skim tank volume analysis and interacts with field operations, Measurement, and SCADA.', 'Establishing working relationships with engineering, field, and other internal/external customers to better meet business needs.', 'Researching projects and make evaluations, knowing what information to collect, where to find it, and how to interpret it to resolve issues.', 'Participating in review of industry standards and regulations.'], 'job_requirement': ['Have a high school diploma or GED.', 'Have a bachelor’s degree in engineering, business, information systems, or related field preferred.', 'Have 3-5 years Oil and Gas industry experience, with 1-2 years’ experience focused within the midstream industry.', 'Experience in production, facility, or process engineering or analysis is preferred.', 'Must have proficiency with Microsoft Excel, Vizio, and Project.', 'Have knowledge with business intelligence, analytics, and data visualization tools or software.', 'Have working knowledge of oil & gas production accounting, allocations, and production reporting process.', 'Have operational knowledge of oil & gas midstream gathering and facilities.', 'Must have strong interpersonal skills with ability to build and maintain effective relationships, and communicate, with various agencies, customers, and all levels of company staff and management.', 'Have strong analytical, oral, and written communication skills.', 'Must have strong time management and organizational skills.', 'Must be meticulous with the ability to multi-task with attention to accuracy.', 'Must be team player that possess the ability to adapt to a changing and fast paced work environment.', 'Be able to coordinate and communicate logic, enhancements, and requirements to in house developers.']}, {'job_title': 'Data Engineer - Contract', 'job_url': 'https://www.ziprecruiter.com/k/l/AAIzXa7EekBFXttlIBDnzz5MHieltMUNsqHGmptM5d_aBFz_uIVuITq_8rNQpKGAqqO3Led7qXecFwqAUJG3ek2p9TLxOYcPCqRUsZH2_lsmpm1TNn-D2hZjwwN3kAWhiXFT1SBCVWScrMygchfwbm8QRORzqFN987Hgms_zViXu0TrAm66ePz3__kEMAOXZDcYvTnCVkG30xv6iwsKUvg', 'hiring_company': 'Huckberry', 'location': 'Austin, TX, USA', 'salary': '$117,300 to $141,200 per year', 'job_description': ['Collaborate with software engineers and analysts in data collection and data usage to model analytics tables from raw format to useable fact tables', 'Configure DBT models to keep the cost per query down and query speeds high for the team', 'Write custom batch load and event streaming Python jobs to transfer data between systems (API, SFTP, etc.)', 'Partner with analysts to productionalize machine learning algorithms where helpful (NLP, product recommendations, time-series forecasting, etc.)', 'Manage data orchestration and chron scheduling between Python and SQL jobs with tools like DBT Cloud, Dagster, Prefect, etc.', 'Bring best practices for overall data governance as it relates to data integrity tooling, user-access permission setting, query testing, alerts, customer data protection, etc.', 'Mitigate our “bus factor” and “technical debt” with organized folders and consistent field-naming methodology as well as conviction to document-as-you-go'], 'job_requirement': ['2-5 years of professional experience as a data engineer in a high-growth medium-sized company that uses tools like DBT, Airflow, GCP, Databricks, etc. ', 'Experience with ETL modeling and Chron scheduling with tools like DBT, Airflow, Databricks etc.', 'Strong proficiency in both Python and SQL, Javascript experience a plus', 'Proven ability to remain organized and flexible – often scoping the 80/20 solution', 'Experience in GitHub and can work effectively in version controlling best practices', 'Demonstrated experience with large scale data-warehouse and cloud technologies like GCP as well as relational databases like Postgres', 'Demonstrated ability to project manage and communicate progress to senior leadership on large-scale projects', 'Proven ability to collaborate with software engineers and data analysts to create synergy between data collection and data usage', 'Experience in Machine Learning a plus', 'Experience with 3rd party pixels and SDKs a plus']}, {'job_title': 'Data Engineer I', 'job_url': 'https://www.ziprecruiter.com/k/l/AAK4uUWTLgLBLpUXSfzDrxLh3ld5FRQ8wUiazsrzPcOG7AM6CyxhG2tcot24dNOeEewnFIaREseNw0lClp8GQuVxsFCm3d-YFfGBIOoo6ejaX7yytSj_mzFcDbTYIhOkJoXBagqxrmVRTFCxNEDh0md390uGNDsOMQ_AYRO1JVG3QsMAwO4brrmtzc8zc_O96h8QuhUW5aCOfZT3WEVHWw', 'hiring_company': 'Firstmark Credit Union', 'location': 'San Antonio, TX, USA', 'salary': '$105,900 to $127,500 per year', 'job_description': ['Design, build, and maintain scalable and efficient data pipelines, ensuring the timely and accurate extraction, transformation, and loading (ETL) of data from various sources.', 'Collaborate with data scientists and analysts to understand their data requirements and implement data models and structures that support efficient analysis and reporting.', 'Perform data quality checks and implement data validation processes to ensure data accuracy and integrity.', 'Support and optimize database performance by monitoring and tuning database queries, indexes, and overall system performance.', 'Troubleshoot and resolve database and data pipeline issues, ensuring minimal downtime and disruptions to data availability.', 'Implement and maintain database security measures, including user access controls and data encryption.', 'Collaborate with cross-functional teams to understand business requirements and contribute to the design and implementation of data solutions.', 'Analyze and validate data sharing requirements within the organization and with our outside partners.', 'Analyze and interpret collected data; identifying trends; writing reports and recommendations for internal or external clients.', 'Use statistical practices to analyze current and historical data to make predictions, identify risks, and opportunities enabling better decisions on planned/future events.', 'Work with business leadership to understand data requirements; propose and develop solutions that enable effective decision-making and drive business objectives.', 'Recognize potential issues and risks during the analytics project implementation and recommend mitigation strategies.', 'Document best practices for data analysis, data engineering, and evangelize their usages.', 'Coach and mentor project team members in carrying out analytics project implementation activities.', 'Stay up to date with emerging trends and technologies in data engineering and database administration, recommending and implementing improvements as needed.'], 'job_requirement': [\"Bachelor's degree in computer science, engineering, or a related field.\", 'Minimum of 2 or more years experience.', 'Strong proficiency in SQL script development, with experience in T-SQL (Microsoft SQL Server) being a plus.', 'Knowledge of data engineering principles, including data modeling, ETL processes, and data integration techniques.', 'Familiarity with database administration tasks, such as performance tuning, security management, and backup and recovery procedures.', 'Experience building and optimizing data pipelines, architectures, and data sets.\\xa0', 'Experience with cloud platforms and technologies for data engineering, such as AWS, Azure, or Google Cloud. Azure knowledge is a plus.', 'Proficiency in at least one programming language commonly used in data engineering, such as Python, Java, or Scala.', 'Understanding of data governance principles and practices.', 'Excellent problem-solving and analytical skills.', 'Strong communication and collaboration abilities to work effectively with cross-functional teams.', 'Attention to detail and a commitment to delivering high-quality data solutions.', 'Minimum of 3-5 years of experience.']}, {'job_title': 'None', 'job_url': 'https://www.ziprecruiter.com/ek/l/AAJWPt9wf63mLybfmqRg8Cb4HTCmBI93rUx-lVNboEIuTlHhawdmOCYh76nRwY6y5JKRZoL-1LMbTbTxIHzEqYK2TTY0o9Gnmv4LM4NtE23gnHJSL3zRbmNM3e0hKDiVDcGsIKqfg0d70FJuWP_7ZUhNMRNIwTkVgcc5eaypnR4FGEzMDEwi8yvp-yQe6vUNd1E1UGlb05HHfPKprJEnSSsLzSYaVjC8dpG9eQ', 'hiring_company': 'None', 'location': 'None', 'salary': 'None', 'job_description': [], 'job_requirement': []}, {'job_title': 'Field Service Engineer - Medical Device', 'job_url': 'https://www.ziprecruiter.com/k/l/AAIvovMyaX9zAnNg8-n-M4mqoxUN8XxTqXfqX85-yx08BPFGbNV0pMAl1k1eFjHPJ5bpCv6SEFolrTTeVRFw6SmVReOPxytTD7-HDzyi0UPVR0W59LYyUR3_27MV9MMYm1EWk5mCfnueXr_E0RvO_D_sYav2Hgx-1rtLCifDsdGwXEkX8Cd4SkufvnVjDgD8fQwLCCFYQIKIomLOaoU0L7HlrgngKVNEy_-5ag', 'hiring_company': 'Visionix', 'location': 'Houston, TX, USA', 'salary': 'None', 'job_description': ['Maintains all Level I responsibilities PLUS', 'Assess the electronic information technology needs (network and database structure) in accordance to the layout of the practice.', 'Provide and suggest advanced computer database management, setup, troubleshooting and transfers with Optovue products.', 'Responsible for assisting in training of new FSE’s.', 'Provide technical assistance for all FSE’s.', 'Make suggestions for product and documentation improvement.', 'Provide input regarding cost saving suggestions.', 'Identifies and reports all adverse events and device deficiencies to Medical Safety per company protocol.', 'Create and identify sales opportunities by assessing the needs of our customers.'], 'job_requirement': ['Education: B.S. in Engineering or Sciences or an equivalent combination of education and experience.', 'Experience: 3-8 years’ experience in a Technical Support or Field Service role.', 'High degree of technical proficiency, excellent problem-solving skills, and analytical abilities', 'Excellent oral, written, and interpersonal skills to effectively deal with customers by phone, email and personal contact.', 'Knowledge of Optics theory and functionality desirable but not required.', 'Must be able to pass required advanced training to service fine mechanics and optics.', 'Ability to effectively service the equipment on which training is completed.', 'Extensive overnight travel is required by automobile and air.Must be willing to travel in the US, for meetings, exhibit support and coverage outside assigned territory. The FSE must be able to obtain sufficient credit to cover incurred business expenses which will be reimbursed upon expense report submission and approval.', 'Must be willing to travel in the US, for meetings, exhibit support and coverage outside assigned territory. The FSE must be able to obtain sufficient credit to cover incurred business expenses which will be reimbursed upon expense report submission and approval.', 'The position requires an average of four (4) hours driving per day. Must have a valid driver’s license and good driving record.', 'Works in a customer’s office environment. Must be able to sit, stand, bend and stoop as required', 'Must be able to lift up to 80 pounds.', 'Thirty percent of the average workday is spent standing or walking.', 'This job description does not state nor imply that the above are the only duties and responsibilities assigned to this position. Employees holding this position will be required to perform any other job-related duties as requested by management and will also be required to meet safety-related requirements. All requirements are subject to possible modification to reasonably accommodate individuals with a disability.']}, {'job_title': 'Engineering Project Coordinator', 'job_url': 'https://www.ziprecruiter.com/k/l/AAJCU1044ZwDMfhTGfQrM6xSpWdzUC7xudZLto0JXAozdH8k1T2uwWQlxDG_LgYZWzR1XEeIlxnzW5WUYtzNGD8wHN8PrKTc2XXBCWGyogPBOBV_a5GsjTX6SRpBYYFuzQSEn9kNhnfRSuv_xebbhrH1SAYDdrluieUu4ITd2t5dfYAaT9RApLa-vNhP3z-xcqvWBa3VkrwD7iMbiTLBgKh4', 'hiring_company': 'Derrick Corp', 'location': 'Houston, TX, USA', 'salary': 'None', 'job_description': ['A Technical or Engineering Degree is required, relevant work experience will be considered in place of a degree.', 'Extensive knowledge of AutoCAD Mechanical and Inventor is required, although familiarity with Solidworks and ability to transition to Inventor will also be accepted.', 'Solid understanding of sheet metal fabrication', 'Strong problem-solving abilities and the capacity to offer effective solutions.', 'Proficiency in reading blueprints', 'Meticulous attention to detail', 'Strong knowledge of Microsoft Office, particularly Word and Excel'], 'job_requirement': ['Manage multiple concurrent projects at various stages of completion.', 'Collaborate effectively with the sales team and other internal resources.', 'Verify and cross-check multiple lines of data and information. ', 'Demonstrate self-motivation, capable of working with minimal direction and making informed business decisions. ', 'Handle project communications efficiently', 'Review and facilitate custom Capital Equipment project quotes. ', 'Examine project documents and ensure compliance.', 'Develop custom drawings, whether orthographic or 3D, as required throughout the project duration.', 'Conduct project-driven Factory Acceptance Tests (FAT) or Inspections in Houston area', 'Assist with various facility projects', 'Supervise the equipment order fulfillment process.']}, {'job_title': 'None', 'job_url': 'https://www.ziprecruiter.com/ek/l/AAI9Lj59-wVSga8EBqPjbETyCm1k9OuPrgV1dBJsZ_-IamW7Ky6pIIPJkSDSg_K4-pwMJukmx0qRa6BW5vHYy1KDP72ruB1eGumK4rnR6gQ22gt-Fm2RdnOjIR1DhPeVFds5Xd7J1lX8T7q__4gWhVjbOCyAnNCdwlqKvQsIW13UdyMoP-fNGBJ6mC12D11-7BtkKmlDKAspbkTfzd3i9ywfNdhG02pkQVvoVg', 'hiring_company': 'None', 'location': 'None', 'salary': 'None', 'job_description': [], 'job_requirement': []}, {'job_title': 'People /HR - Data Analyst II', 'job_url': 'https://www.ziprecruiter.com/k/l/AAJxZDiP2AU0iqT7cay3L4BxRM2swSgGpNqBVFYB4ZEpuXqOOQ7ja_G6f4VeRvVv8GZO4JszHR9alOsbaeEusyCmPACsWhgvp0n2GsnYcR1o8gPoRhuv6CCNP3jVdp75tXLjwdqLOaiBk8NZ9AWStEywxlSWWLzUtRLEqWKjHLk14VibaRt2iy7XpgYYK8gGndmiI7HV_eHeq_UquQLPrjc', 'hiring_company': 'Intelliswift Software Inc', 'location': 'Austin, TX, USA', 'salary': '$40 to $50 per hour', 'job_description': [], 'job_requirement': []}, {'job_title': 'Senior Data Management Engineer', 'job_url': 'https://www.ziprecruiter.com/k/l/AAJYvxIB6DvcHdy7Rr8_Le2d4xFcTpyKQQk_Cbha15a4GV7c2AdmbJOmUkUKlQfBnM1VGb43AJfyaZGPa_vIlKFszw1xGjy1kOI_ixpchxvGYkPJJmoj5o3HhpDww5XjFETyHUG6IqZA4C5aCWJKDzNl3jRFK77gt8nSLqxTaksnsnYnu2VNTCopTs2KUOFuqVTNMaIaQh_aM8zuCKXK6w', 'hiring_company': 'INSPYR Solutions', 'location': 'Katy, TX, USA', 'salary': 'None', 'job_description': [\"Bachelor's degree in computer science, Information Systems, or a related experience/field.\"], 'job_requirement': ['5+ years of experience in database administration, with a focus on Oracle, DB2, SQL, Firebase, and BigQuery. ']}, {'job_title': 'Sr. Software Developer - Remote', 'job_url': 'https://www.ziprecruiter.com/k/l/AAI2-6vSVP62YaT6GN9FdqQmt3lec5jqtBHiE_LARvCM8ER-WCj84lp43DuE5O2mJjLVMI-A3IYef69baQAiyzzAZGajhOXNOeiM1X-l165uBWw8ux3uiNVrIGDPCWXY8nGOTGdKmvVxfXIgTv2bW3QfMGNfFDlNdRPsKtEs7rmPHQZxyMXKMFgFu1G-F7t8Il-cfvPRXlAdOnf6j7-daQtHbyLpdgybt0QKOQ', 'hiring_company': 'Wave3 Solutions', 'location': 'Dallas, TX, USA', 'salary': '$62 to $80 per hour', 'job_description': [], 'job_requirement': []}, {'job_title': 'Team Lead - React Development and Data Engineering', 'job_url': 'https://www.ziprecruiter.com/k/l/AAJi3MYgDfxyvBxmIGeu6EX1PS7GvqK-ECxa6LwXzFgjwEfb4DhgK41gGCS7Lfa5Wr8BTiFepvpS3gSNofQP3745cmnpRP0l9D_FhICmITYWZ4gXQtHb29lGj7JrBHSshjDmMykfNCzWcZFxpgCJrtzHtaKHVC66bwPkgMZ-a1P71nD8DYAspydPyMQ7q1dBKT4kf9F_XkocimRf3U40u8c', 'hiring_company': 'Korn Ferry', 'location': 'Houston, TX, USA', 'salary': 'None', 'job_description': ['Manage a team of React Developers and Data Engineers, providing guidance, mentorship, and support to drive their professional growth and maximize their potential.', 'Lead the planning and execution of software development projects, ensuring adherence to best practices, coding standards, and project timelines.', 'Collaborate with product managers, stakeholders, and other teams to define project requirements, scope, and priorities.', \"Remain hands-on and actively participate in software development activities, including coding, debugging, and code reviews, to contribute to the team's productivity and deliver high-quality solutions.\", 'Foster a culture of collaboration, innovation, and continuous improvement within the team, encouraging knowledge sharing and adopting new technologies and methodologies.', 'Monitor team performance, track project progress, and identify areas for improvement or potential risks, taking proactive measures to mitigate them.', 'Provide technical guidance and resolve complex technical issues, leveraging your expertise in React development and data engineering with Python.', 'Stay updated with the latest industry trends, tools, and frameworks related to React and data engineering, and drive their adoption within the team when applicable.', 'Collaborate with cross-functional teams to ensure seamless integration of software components and facilitate efficient end-to-end product development.', 'Communicate effectively with stakeholders, providing regular updates on project status, risks, and opportunities for improvement.'], 'job_requirement': [\"Bachelor's or Master's degree in Computer Science, Engineering, or a related field.\", 'Strong technical expertise in React development, with hands-on experience building scalable web applications using React, Redux, and related technologies.', 'Extensive experience in data engineering, including data ingestion, processing, and analysis using Python and related frameworks (e.g., Pandas, NumPy, Spark, etc.).', 'Proven experience in leading and managing software development teams, with a track record of successful project delivery.', 'Solid understanding of software development methodologies and best practices, including Agile/Scrum.', 'Excellent problem-solving and troubleshooting skills, with the ability to think critically and make sound decisions under pressure.', 'Strong leadership and interpersonal skills, with the ability to motivate and inspire team members.', 'Excellent communication skills, both verbal and written, with the ability to effectively convey complex technical concepts to diverse audiences.', 'Ability to prioritize and manage multiple tasks simultaneously while maintaining attention to detail.', 'Continuous learning mindset, keeping up with the latest technologies and industry trends.']}, {'job_title': 'Tableau Data source Developer', 'job_url': 'https://www.ziprecruiter.com/k/l/AAI7rwQzENt3O5Vo44pgz9emCA66JyZ7DUX7MLOjBHHnO3qVoUW1HyMGYUrcpB_jQsmbqHlaeYK6YZDiOsVxAmeDMoc6TDXP2NnLgoQbScI1iBI41rphoDPH1-qLl1dfgtSymeQAzTG1x9Ml5qZ1AKFDJrDA0WVyJ9YFrl6KnDsLL2nOBfBz5RzVjwen_7J4ktloGboU6jai0yFv3i76Ask', 'hiring_company': 'LanceSoft Inc', 'location': 'Irving, TX, USA', 'salary': '$60 per hour', 'job_description': ['Tableau Datasource Developer:', '5+ years Tableau Data Source Extract Development', 'Experience working with large and complex data set', 'Understand logical and physical data modeling and methods for optimizing the tableau datasource/dashboards against the physical model', 'Empirical understanding of data systems (BI analytics, data blending, data warehousing, data ETL, etc.) on process automation and standardization', 'Experience working on a support team environment by documenting, researching, solving problems via phone calls or email ticketing system', 'Experience working directly with business analysts or business sponsors to gather and validate functional requirements and provide the design specifications', 'Ability to work on multiple projects and flexibility to change priorities when needed', '1+ years of PL/SQL & Oracle Database development experience', 'Experience in ETL PL/SQL development', 'Oracle 19C usage is a plus', 'Experience with SAP Business Objects will be an advantage'], 'job_requirement': []}, {'job_title': 'None', 'job_url': 'https://www.ziprecruiter.com/ek/l/AAKha88K-3-9ToWvfQUktWsjJ22OEnGekN53j5GWfodZ6yetGyvSw7d_9l4mdUxdxDu5IqNkqp7o2PCu_F0lMgnoVDqLhEJX1qwo4QtKjqRHf6YS2ZwxLhy7Tk5A-AgrOj3c6E9EijeJwzS6crIgodx3P_u7TDBvWB2zR3e9dasBAxYSRD_fgv94IqL1ONs9IeIplGc-6XEdFFxmDx_YXhDoWd4bNioexdkCmQ', 'hiring_company': 'None', 'location': 'None', 'salary': 'None', 'job_description': [], 'job_requirement': []}, {'job_title': 'Data Analytics Developer', 'job_url': 'https://www.ziprecruiter.com/k/l/AAJqcZvQ-u8cI6WirqVVe3m_ro6Kigyzx9QAYWSpDRXnhDPkyy6h3pRq5A9Yx-EV40e5PKV-wC2bcHMbsV0yxH77e58VQRXY1YOZoL-Rbs5AOguBq-nb91O9rkFpptIpV0Mk45SLJ8uMfruPy0fiEjXNmMBjiAWP6177vyzil0Hs6TPMFdiRcyupSmglfp4uQbgGeyIR0A9eSy7L38QUew', 'hiring_company': 'Radiology Associates of North Texas', 'location': 'Fort Worth, TX, USA', 'salary': 'None', 'job_description': ['Primarily serving as a liaison with the Finance department, including involvement with new projects as well as ongoing support to facilitate data related needs for revenue cycle and credentialing.', 'Overseeing the development and operations of an enterprise data warehouse, combining data from disparate data sources, systems, and vendors.', \"Coordinating with company's management and project team members to identify key performance indicators and to design and implement reporting solutions to provide real-time access to these measures.\", 'Improving and streamlining processes regarding data flow and data quality to improve data accuracy, visibility, and value.', 'Overseeing the ongoing development and operations of a business intelligence architecture that enables fact-based decision making and ad hoc analysis.', 'Documenting business requirements and technical designs.', 'Developing test scripts and documented use cases. Coordinating with users to test, validate, troubleshoot, and enhance analytics applications and reports.', 'Managing database, application, and report change requests within ITIL best practices for change management.', 'Managing projects and tasks using Lean and Agile development principles.', 'Other duties as assigned.', 'Regular and timely attendance required.', \"Bachelor's degree in Computer Science or related field, or any equivalent combination of education and experience which provides the required knowledge, skills, and abilities to perform the essential functions of the position.\"], 'job_requirement': ['7+ years of relevant work experience in the development of data warehouse and analytics solutions.', '3+ years of healthcare industry related experience preferred.']}, {'job_title': 'CMM Operator', 'job_url': 'https://www.ziprecruiter.com/k/l/AAJ_HfYf2Jn_nnZL0DaTBXQYMRtIsQ3KFbW8nt8W5c393WmgfzUKEwlwqXVwtreOWay7T2oe-epyCPQkS4ETLpRute1XCY-oPR60pKqSnsUmWbzTezKa9a0xjGVPlEwaMz8y-YHHXAQ0LqwQembXPlA7rfS1iF05oUMbgSQ6BcoEb8tIw6QwsqDCtEqbZiC76HnDY_TEKK7CSgl9uN1Rn1YZGIRPpJSdifYPu84', 'hiring_company': 'Beacon industries Inc', 'location': 'Dallas, TX, USA', 'salary': '$21 per hour', 'job_description': [], 'job_requirement': []}, {'job_title': 'Wind Tunnel Data Reduction Engineer / Dallas', 'job_url': 'https://www.ziprecruiter.com/k/l/AAJp_wv_esWEHaVmSmtK-2wXjJJN6snGM422dDYY5x_7nwDplzrCCKZPT80GQLhvZVoECVzt2ODCn6JoBH5Hj4tBrO3F-ImZqAxG-LGUn2jqE7SYrQgJDkoSOKXUIfcLzsbqy9Wd_vvGL2Yh1JQMnSNNJYXCZx6T53-ksutobZeydAM6xTR9znFttrfNdh-kDKMFnHKiRDplNRkv0818riw', 'hiring_company': 'Lockheed Martin Corporation', 'location': 'Grand Prairie, TX, USA', 'salary': 'None', 'job_description': [], 'job_requirement': []}]\n"
     ]
    }
   ],
   "source": [
    "page_data = scrape_one_page(job_link_list)"
   ]
  },
  {
   "cell_type": "code",
   "execution_count": 30,
   "metadata": {},
   "outputs": [],
   "source": [
    "df = pd.DataFrame(page_data)\n",
    "df.from_records(page_data)\n",
    "df = df.replace(to_replace='None', value=np.nan).dropna(subset=['job_title'])\n",
    "df.to_csv('zip_recruiter_1.csv',index=False)"
   ]
  },
  {
   "cell_type": "code",
   "execution_count": null,
   "metadata": {},
   "outputs": [],
   "source": [
    "print(page_data)"
   ]
  }
 ],
 "metadata": {
  "kernelspec": {
   "display_name": "Python 3",
   "language": "python",
   "name": "python3"
  },
  "language_info": {
   "codemirror_mode": {
    "name": "ipython",
    "version": 3
   },
   "file_extension": ".py",
   "mimetype": "text/x-python",
   "name": "python",
   "nbconvert_exporter": "python",
   "pygments_lexer": "ipython3",
   "version": "3.10.6"
  },
  "orig_nbformat": 4
 },
 "nbformat": 4,
 "nbformat_minor": 2
}
